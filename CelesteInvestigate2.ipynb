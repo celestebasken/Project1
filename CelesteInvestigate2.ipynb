{
 "cells": [
  {
   "cell_type": "code",
   "execution_count": 19,
   "id": "31ab08ac-2c83-4cc5-aa99-394e1564cf08",
   "metadata": {},
   "outputs": [],
   "source": [
    "# CelesteInvestigationP2"
   ]
  },
  {
   "cell_type": "code",
   "execution_count": 1,
   "id": "8e6d8ab1-0541-4272-83b9-405f8b1f3102",
   "metadata": {
    "collapsed": true,
    "jupyter": {
     "outputs_hidden": true
    },
    "scrolled": true
   },
   "outputs": [
    {
     "name": "stdout",
     "output_type": "stream",
     "text": [
      "Collecting wbdata\n",
      "  Using cached wbdata-1.0.0-py3-none-any.whl.metadata (2.6 kB)\n",
      "Collecting appdirs<2.0,>=1.4 (from wbdata)\n",
      "  Using cached appdirs-1.4.4-py2.py3-none-any.whl.metadata (9.0 kB)\n",
      "Collecting backoff<3.0.0,>=2.2.1 (from wbdata)\n",
      "  Using cached backoff-2.2.1-py3-none-any.whl.metadata (14 kB)\n",
      "Requirement already satisfied: cachetools<6.0.0,>=5.3.2 in /srv/conda/lib/python3.11/site-packages (from wbdata) (5.5.1)\n",
      "Collecting dateparser<2.0.0,>=1.2.0 (from wbdata)\n",
      "  Using cached dateparser-1.2.0-py2.py3-none-any.whl.metadata (28 kB)\n",
      "Requirement already satisfied: decorator<6.0.0,>=5.1.1 in /srv/conda/lib/python3.11/site-packages (from wbdata) (5.1.1)\n",
      "Requirement already satisfied: requests<3.0,>=2.0 in /srv/conda/lib/python3.11/site-packages (from wbdata) (2.32.3)\n",
      "Collecting shelved-cache<0.4.0,>=0.3.1 (from wbdata)\n",
      "  Using cached shelved_cache-0.3.1-py3-none-any.whl.metadata (4.7 kB)\n",
      "Collecting tabulate<0.9.0,>=0.8.5 (from wbdata)\n",
      "  Using cached tabulate-0.8.10-py3-none-any.whl.metadata (25 kB)\n",
      "Requirement already satisfied: python-dateutil in /srv/conda/lib/python3.11/site-packages (from dateparser<2.0.0,>=1.2.0->wbdata) (2.9.0.post0)\n",
      "Requirement already satisfied: pytz in /srv/conda/lib/python3.11/site-packages (from dateparser<2.0.0,>=1.2.0->wbdata) (2024.1)\n",
      "Requirement already satisfied: regex!=2019.02.19,!=2021.8.27 in /srv/conda/lib/python3.11/site-packages (from dateparser<2.0.0,>=1.2.0->wbdata) (2024.11.6)\n",
      "Collecting tzlocal (from dateparser<2.0.0,>=1.2.0->wbdata)\n",
      "  Using cached tzlocal-5.2-py3-none-any.whl.metadata (7.8 kB)\n",
      "Requirement already satisfied: charset_normalizer<4,>=2 in /srv/conda/lib/python3.11/site-packages (from requests<3.0,>=2.0->wbdata) (3.4.0)\n",
      "Requirement already satisfied: idna<4,>=2.5 in /srv/conda/lib/python3.11/site-packages (from requests<3.0,>=2.0->wbdata) (3.10)\n",
      "Requirement already satisfied: urllib3<3,>=1.21.1 in /srv/conda/lib/python3.11/site-packages (from requests<3.0,>=2.0->wbdata) (2.3.0)\n",
      "Requirement already satisfied: certifi>=2017.4.17 in /srv/conda/lib/python3.11/site-packages (from requests<3.0,>=2.0->wbdata) (2024.12.14)\n",
      "Requirement already satisfied: six>=1.5 in /srv/conda/lib/python3.11/site-packages (from python-dateutil->dateparser<2.0.0,>=1.2.0->wbdata) (1.17.0)\n",
      "Using cached wbdata-1.0.0-py3-none-any.whl (18 kB)\n",
      "Using cached appdirs-1.4.4-py2.py3-none-any.whl (9.6 kB)\n",
      "Using cached backoff-2.2.1-py3-none-any.whl (15 kB)\n",
      "Using cached dateparser-1.2.0-py2.py3-none-any.whl (294 kB)\n",
      "Using cached shelved_cache-0.3.1-py3-none-any.whl (7.8 kB)\n",
      "Using cached tabulate-0.8.10-py3-none-any.whl (29 kB)\n",
      "Using cached tzlocal-5.2-py3-none-any.whl (17 kB)\n",
      "Installing collected packages: appdirs, tzlocal, tabulate, shelved-cache, backoff, dateparser, wbdata\n",
      "Successfully installed appdirs-1.4.4 backoff-2.2.1 dateparser-1.2.0 shelved-cache-0.3.1 tabulate-0.8.10 tzlocal-5.2 wbdata-1.0.0\n",
      "Note: you may need to restart the kernel to use updated packages.\n",
      "Requirement already satisfied: pandas in /srv/conda/lib/python3.11/site-packages (2.2.3)\n",
      "Requirement already satisfied: numpy>=1.23.2 in /srv/conda/lib/python3.11/site-packages (from pandas) (2.2.2)\n",
      "Requirement already satisfied: python-dateutil>=2.8.2 in /srv/conda/lib/python3.11/site-packages (from pandas) (2.9.0.post0)\n",
      "Requirement already satisfied: pytz>=2020.1 in /srv/conda/lib/python3.11/site-packages (from pandas) (2024.1)\n",
      "Requirement already satisfied: tzdata>=2022.7 in /srv/conda/lib/python3.11/site-packages (from pandas) (2025.1)\n",
      "Requirement already satisfied: six>=1.5 in /srv/conda/lib/python3.11/site-packages (from python-dateutil>=2.8.2->pandas) (1.17.0)\n",
      "Note: you may need to restart the kernel to use updated packages.\n",
      "Collecting iso3166\n",
      "  Using cached iso3166-2.1.1-py3-none-any.whl.metadata (6.6 kB)\n",
      "Using cached iso3166-2.1.1-py3-none-any.whl (9.8 kB)\n",
      "Installing collected packages: iso3166\n",
      "Successfully installed iso3166-2.1.1\n",
      "Note: you may need to restart the kernel to use updated packages.\n",
      "Collecting cufflinks\n",
      "  Using cached cufflinks-0.17.3-py3-none-any.whl\n",
      "Requirement already satisfied: numpy>=1.9.2 in /srv/conda/lib/python3.11/site-packages (from cufflinks) (2.2.2)\n",
      "Requirement already satisfied: pandas>=0.19.2 in /srv/conda/lib/python3.11/site-packages (from cufflinks) (2.2.3)\n",
      "Requirement already satisfied: plotly>=4.1.1 in /srv/conda/lib/python3.11/site-packages (from cufflinks) (5.24.1)\n",
      "Requirement already satisfied: six>=1.9.0 in /srv/conda/lib/python3.11/site-packages (from cufflinks) (1.17.0)\n",
      "Collecting colorlover>=0.2.1 (from cufflinks)\n",
      "  Using cached colorlover-0.3.0-py3-none-any.whl.metadata (421 bytes)\n",
      "Requirement already satisfied: setuptools>=34.4.1 in /srv/conda/lib/python3.11/site-packages (from cufflinks) (75.6.0)\n",
      "Requirement already satisfied: ipython>=5.3.0 in /srv/conda/lib/python3.11/site-packages (from cufflinks) (8.31.0)\n",
      "Requirement already satisfied: ipywidgets>=7.0.0 in /srv/conda/lib/python3.11/site-packages (from cufflinks) (8.1.5)\n",
      "Requirement already satisfied: decorator in /srv/conda/lib/python3.11/site-packages (from ipython>=5.3.0->cufflinks) (5.1.1)\n",
      "Requirement already satisfied: jedi>=0.16 in /srv/conda/lib/python3.11/site-packages (from ipython>=5.3.0->cufflinks) (0.19.2)\n",
      "Requirement already satisfied: matplotlib-inline in /srv/conda/lib/python3.11/site-packages (from ipython>=5.3.0->cufflinks) (0.1.7)\n",
      "Requirement already satisfied: pexpect>4.3 in /srv/conda/lib/python3.11/site-packages (from ipython>=5.3.0->cufflinks) (4.9.0)\n",
      "Requirement already satisfied: prompt_toolkit<3.1.0,>=3.0.41 in /srv/conda/lib/python3.11/site-packages (from ipython>=5.3.0->cufflinks) (3.0.50)\n",
      "Requirement already satisfied: pygments>=2.4.0 in /srv/conda/lib/python3.11/site-packages (from ipython>=5.3.0->cufflinks) (2.19.1)\n",
      "Requirement already satisfied: stack_data in /srv/conda/lib/python3.11/site-packages (from ipython>=5.3.0->cufflinks) (0.6.3)\n",
      "Requirement already satisfied: traitlets>=5.13.0 in /srv/conda/lib/python3.11/site-packages (from ipython>=5.3.0->cufflinks) (5.14.3)\n",
      "Requirement already satisfied: typing_extensions>=4.6 in /srv/conda/lib/python3.11/site-packages (from ipython>=5.3.0->cufflinks) (4.12.2)\n",
      "Requirement already satisfied: comm>=0.1.3 in /srv/conda/lib/python3.11/site-packages (from ipywidgets>=7.0.0->cufflinks) (0.2.2)\n",
      "Requirement already satisfied: widgetsnbextension~=4.0.12 in /srv/conda/lib/python3.11/site-packages (from ipywidgets>=7.0.0->cufflinks) (4.0.13)\n",
      "Requirement already satisfied: jupyterlab_widgets~=3.0.12 in /srv/conda/lib/python3.11/site-packages (from ipywidgets>=7.0.0->cufflinks) (3.0.13)\n",
      "Requirement already satisfied: python-dateutil>=2.8.2 in /srv/conda/lib/python3.11/site-packages (from pandas>=0.19.2->cufflinks) (2.9.0.post0)\n",
      "Requirement already satisfied: pytz>=2020.1 in /srv/conda/lib/python3.11/site-packages (from pandas>=0.19.2->cufflinks) (2024.1)\n",
      "Requirement already satisfied: tzdata>=2022.7 in /srv/conda/lib/python3.11/site-packages (from pandas>=0.19.2->cufflinks) (2025.1)\n",
      "Requirement already satisfied: tenacity>=6.2.0 in /srv/conda/lib/python3.11/site-packages (from plotly>=4.1.1->cufflinks) (9.0.0)\n",
      "Requirement already satisfied: packaging in /srv/conda/lib/python3.11/site-packages (from plotly>=4.1.1->cufflinks) (24.2)\n",
      "Requirement already satisfied: parso<0.9.0,>=0.8.4 in /srv/conda/lib/python3.11/site-packages (from jedi>=0.16->ipython>=5.3.0->cufflinks) (0.8.4)\n",
      "Requirement already satisfied: ptyprocess>=0.5 in /srv/conda/lib/python3.11/site-packages (from pexpect>4.3->ipython>=5.3.0->cufflinks) (0.7.0)\n",
      "Requirement already satisfied: wcwidth in /srv/conda/lib/python3.11/site-packages (from prompt_toolkit<3.1.0,>=3.0.41->ipython>=5.3.0->cufflinks) (0.2.13)\n",
      "Requirement already satisfied: executing>=1.2.0 in /srv/conda/lib/python3.11/site-packages (from stack_data->ipython>=5.3.0->cufflinks) (2.1.0)\n",
      "Requirement already satisfied: asttokens>=2.1.0 in /srv/conda/lib/python3.11/site-packages (from stack_data->ipython>=5.3.0->cufflinks) (3.0.0)\n",
      "Requirement already satisfied: pure_eval in /srv/conda/lib/python3.11/site-packages (from stack_data->ipython>=5.3.0->cufflinks) (0.2.3)\n",
      "Using cached colorlover-0.3.0-py3-none-any.whl (8.9 kB)\n",
      "Installing collected packages: colorlover, cufflinks\n",
      "Successfully installed colorlover-0.3.0 cufflinks-0.17.3\n",
      "Note: you may need to restart the kernel to use updated packages.\n",
      "Collecting eep153_tools\n",
      "  Using cached eep153_tools-0.12.4-py2.py3-none-any.whl.metadata (363 bytes)\n",
      "Using cached eep153_tools-0.12.4-py2.py3-none-any.whl (4.9 kB)\n",
      "Installing collected packages: eep153_tools\n",
      "Successfully installed eep153_tools-0.12.4\n",
      "Note: you may need to restart the kernel to use updated packages.\n",
      "Requirement already satisfied: plotly in /srv/conda/lib/python3.11/site-packages (5.24.1)\n",
      "Requirement already satisfied: tenacity>=6.2.0 in /srv/conda/lib/python3.11/site-packages (from plotly) (9.0.0)\n",
      "Requirement already satisfied: packaging in /srv/conda/lib/python3.11/site-packages (from plotly) (24.2)\n",
      "Note: you may need to restart the kernel to use updated packages.\n"
     ]
    }
   ],
   "source": [
    "# If not installed, run this cell,\n",
    "%pip install wbdata\n",
    "%pip install pandas\n",
    "%pip install iso3166\n",
    "%pip install cufflinks\n",
    "%pip install eep153_tools\n",
    "%pip install plotly"
   ]
  },
  {
   "cell_type": "code",
   "execution_count": 2,
   "id": "f4c38e86-e725-4d93-92df-ed9800a88e82",
   "metadata": {
    "collapsed": true,
    "jupyter": {
     "outputs_hidden": true
    },
    "scrolled": true
   },
   "outputs": [
    {
     "name": "stderr",
     "output_type": "stream",
     "text": [
      "Key '2259568636128069507' not in persistent cache.\n",
      "Key '5524400738126627813' not in persistent cache.\n",
      "Key '-3176068004522165822' not in persistent cache.\n",
      "Key '-496789695922052674' not in persistent cache.\n",
      "Key '-242552283372726711' not in persistent cache.\n",
      "Key '-4023749470009025230' not in persistent cache.\n",
      "Key '-5139107358014063577' not in persistent cache.\n",
      "Key '-4975775876147266307' not in persistent cache.\n",
      "Key '-8666067132101036133' not in persistent cache.\n",
      "Key '5530270132927553401' not in persistent cache.\n",
      "Key '-9046122336330541202' not in persistent cache.\n",
      "Key '-7100239452173495605' not in persistent cache.\n",
      "Key '-7007405467428406054' not in persistent cache.\n",
      "Key '-3581169937625611336' not in persistent cache.\n",
      "Key '-2159613265071545797' not in persistent cache.\n",
      "Key '-1262886358761680976' not in persistent cache.\n",
      "Key '-5044083545397979495' not in persistent cache.\n",
      "Key '2165277225103674600' not in persistent cache.\n",
      "Key '5495510764221002912' not in persistent cache.\n",
      "Key '8760342866219561218' not in persistent cache.\n",
      "Key '7105903412205624408' not in persistent cache.\n",
      "Key '2739152432170880731' not in persistent cache.\n",
      "Key '2993389844720206694' not in persistent cache.\n",
      "Key '6258221946718765000' not in persistent cache.\n",
      "Key '-1903165229921130172' not in persistent cache.\n",
      "Key '5306195540580523923' not in persistent cache.\n",
      "Key '1615904284626754097' not in persistent cache.\n",
      "Key '-4235797328266654083' not in persistent cache.\n",
      "Key '6636911678275129593' not in persistent cache.\n",
      "Key '1580437160341848527' not in persistent cache.\n",
      "Key '-2725086237897430050' not in persistent cache.\n",
      "Key '5099506674889732796' not in persistent cache.\n",
      "Key '6521063347443798335' not in persistent cache.\n",
      "Key '-4026596417865561797' not in persistent cache.\n",
      "Key '3636593067117364637' not in persistent cache.\n",
      "Key '-7600790236090532884' not in persistent cache.\n",
      "Key '-8668914079957572700' not in persistent cache.\n",
      "Key '-1005724594974646266' not in persistent cache.\n",
      "Key '-2660164048988583076' not in persistent cache.\n",
      "Key '-7026915029023326753' not in persistent cache.\n",
      "Key '7275709074251182698' not in persistent cache.\n",
      "Key '-3507845514475442484' not in persistent cache.\n",
      "Key '6777511382594213960' not in persistent cache.\n",
      "Key '-4459871920613683561' not in persistent cache.\n",
      "Key '-8150163176567453387' not in persistent cache.\n",
      "Key '6491359405073530853' not in persistent cache.\n",
      "Key '-8085033064184563750' not in persistent cache.\n",
      "Key '5305236491591706800' not in persistent cache.\n",
      "Key '999713093352428223' not in persistent cache.\n",
      "Key '1778276717504734244' not in persistent cache.\n",
      "Key '-8200881395015895008' not in persistent cache.\n",
      "Key '-301797086615703524' not in persistent cache.\n",
      "Key '7361392398367222910' not in persistent cache.\n",
      "Key '3126366497249652052' not in persistent cache.\n",
      "Key '-4944114748707714427' not in persistent cache.\n",
      "Key '-4326954552359644818' not in persistent cache.\n",
      "Key '-5981394006373581628' not in persistent cache.\n",
      "Key '-3302115697773468480' not in persistent cache.\n",
      "Key '-7446235668208510645' not in persistent cache.\n",
      "Key '-6829075471860441036' not in persistent cache.\n",
      "Key '3456281425209215408' not in persistent cache.\n",
      "Key '6267284812726501375' not in persistent cache.\n",
      "Key '6975350939757099677' not in persistent cache.\n",
      "Key '6680502607470989377' not in persistent cache.\n",
      "Key '-893532459696778563' not in persistent cache.\n",
      "Key '-5950006977630059629' not in persistent cache.\n",
      "Key '8191213697840213410' not in persistent cache.\n",
      "Key '-2430937463082175360' not in persistent cache.\n",
      "Key '-1009380790528109821' not in persistent cache.\n",
      "Key '6889703517872081663' not in persistent cache.\n",
      "Key '-3893851070854543519' not in persistent cache.\n",
      "Key '3315509699647110576' not in persistent cache.\n",
      "Key '2247385855780070760' not in persistent cache.\n",
      "Key '-8536168732946554422' not in persistent cache.\n",
      "Key '8256135886749060384' not in persistent cache.\n",
      "Key '3889384906714316707' not in persistent cache.\n",
      "Key '-254735063720725458' not in persistent cache.\n",
      "Key '7408454421262200976' not in persistent cache.\n",
      "Key '-752932755377694196' not in persistent cache.\n",
      "Key '6456428015123959899' not in persistent cache.\n",
      "Key '2766136759170190073' not in persistent cache.\n",
      "Key '-6692255217743226465' not in persistent cache.\n",
      "Key '-2821903613291769452' not in persistent cache.\n",
      "Key '6170008559500132970' not in persistent cache.\n",
      "Key '6262842544245222521' not in persistent cache.\n",
      "Key '2643048785413160414' not in persistent cache.\n",
      "Key '-2937751944123100710' not in persistent cache.\n",
      "Key '4961332364277090774' not in persistent cache.\n",
      "Key '8226164466275649080' not in persistent cache.\n",
      "Key '8389495948142446350' not in persistent cache.\n",
      "Key '319014702185079871' not in persistent cache.\n",
      "Key '936174898533149480' not in persistent cache.\n",
      "Key '-5116621938465155458' not in persistent cache.\n",
      "Key '-2437343629865042310' not in persistent cache.\n",
      "Key '-2183106217315716347' not in persistent cache.\n",
      "Key '-5964303403952014866' not in persistent cache.\n",
      "Key '-2681303908972685085' not in persistent cache.\n",
      "Key '-6916329810090255943' not in persistent cache.\n",
      "Key '-6208263683059657641' not in persistent cache.\n",
      "Key '-3655905123838377747' not in persistent cache.\n",
      "Key '6045311811825842362' not in persistent cache.\n",
      "Key '2274463902981479059' not in persistent cache.\n",
      "Key '8375490639959284298' not in persistent cache.\n",
      "Key '-8238079574412383350' not in persistent cache.\n",
      "Key '-4367727969960926337' not in persistent cache.\n",
      "Key '1976512297180487388' not in persistent cache.\n",
      "Key '-2329011101058791189' not in persistent cache.\n",
      "Key '5495581811728371657' not in persistent cache.\n",
      "Key '6917138484282437196' not in persistent cache.\n",
      "Key '3415508007607933889' not in persistent cache.\n",
      "Key '4032668203956003498' not in persistent cache.\n",
      "Key '6843671591473289465' not in persistent cache.\n",
      "Key '-8272838943118933839' not in persistent cache.\n",
      "Key '-609649458136007405' not in persistent cache.\n",
      "Key '-2264088912149944215' not in persistent cache.\n",
      "Key '-6630839892184687892' not in persistent cache.\n",
      "Key '7671784211089821559' not in persistent cache.\n",
      "Key '-3111770377636803623' not in persistent cache.\n",
      "Key '7173586519432852821' not in persistent cache.\n",
      "Key '-8462154166759412828' not in persistent cache.\n",
      "Key '-7754088039728814526' not in persistent cache.\n",
      "Key '-6753068484223543005' not in persistent cache.\n",
      "Key '-2882716879772085992' not in persistent cache.\n",
      "Key '6109195293019816430' not in persistent cache.\n",
      "Key '6202029277764905981' not in persistent cache.\n",
      "Key '2582235518932843874' not in persistent cache.\n",
      "Key '-2998565210603417250' not in persistent cache.\n",
      "Key '4900519097796774234' not in persistent cache.\n",
      "Key '8165351199795332540' not in persistent cache.\n",
      "Key '8328682681662129810' not in persistent cache.\n",
      "Key '258201435704763331' not in persistent cache.\n",
      "Key '875361632052832940' not in persistent cache.\n",
      "Key '-5177435204945471998' not in persistent cache.\n",
      "Key '-2498156896345358850' not in persistent cache.\n",
      "Key '-2243919483796032887' not in persistent cache.\n",
      "Key '-6025116670432331406' not in persistent cache.\n",
      "Key '-2742117175453001625' not in persistent cache.\n",
      "Key '-6977143076570572483' not in persistent cache.\n",
      "Key '-6269076949539974181' not in persistent cache.\n",
      "Key '1484121106988724268' not in persistent cache.\n",
      "Key '-1691556577194675544' not in persistent cache.\n",
      "Key '7300355595597226878' not in persistent cache.\n",
      "Key '7393189580342316429' not in persistent cache.\n",
      "Key '-7627318963564440469' not in persistent cache.\n",
      "Key '-6205762291010374930' not in persistent cache.\n",
      "Key '6091679400374184682' not in persistent cache.\n",
      "Key '-9090232571336808628' not in persistent cache.\n",
      "Key '-1880871800835154533' not in persistent cache.\n",
      "Key '1449361738282173779' not in persistent cache.\n",
      "Key '4714193840280732085' not in persistent cache.\n",
      "Key '3059754386266795275' not in persistent cache.\n",
      "Key '-1306996593767948402' not in persistent cache.\n",
      "Key '-1052759181218622439' not in persistent cache.\n",
      "Key '2212072920779935867' not in persistent cache.\n",
      "Key '-5949314255859959305' not in persistent cache.\n",
      "Key '1260046514641694790' not in persistent cache.\n",
      "Key '-2430244741312075036' not in persistent cache.\n",
      "Key '-2993941504647200369' not in persistent cache.\n",
      "Key '-3521947283180111484' not in persistent cache.\n",
      "Key '2822292983961302241' not in persistent cache.\n",
      "Key '-1483230414277976336' not in persistent cache.\n",
      "Key '6341362498509186510' not in persistent cache.\n",
      "Key '7762919171063252049' not in persistent cache.\n",
      "Key '4261288694388748742' not in persistent cache.\n",
      "Key '4878448890736818351' not in persistent cache.\n",
      "Key '7689452278254104318' not in persistent cache.\n",
      "Key '-7427058256338118986' not in persistent cache.\n",
      "Key '236131228644807448' not in persistent cache.\n",
      "Key '-1418308225369129362' not in persistent cache.\n",
      "Key '-5785059205403873039' not in persistent cache.\n",
      "Key '8517564897870636412' not in persistent cache.\n",
      "Key '-2265989690855988770' not in persistent cache.\n",
      "Key '8019367206213667674' not in persistent cache.\n",
      "Key '-3218016096994229847' not in persistent cache.\n",
      "Key '-6908307352947999673' not in persistent cache.\n",
      "Key '-6215923182995106164' not in persistent cache.\n",
      "Key '-7998867337976309814' not in persistent cache.\n",
      "Key '1783031002148913971' not in persistent cache.\n",
      "Key '7866756876252718015' not in persistent cache.\n",
      "Key '7413582636561498157' not in persistent cache.\n",
      "Key '1312944631066189891' not in persistent cache.\n",
      "Key '3828836193703164256' not in persistent cache.\n",
      "Key '-6305266328136705533' not in persistent cache.\n",
      "Key '-9092821340886421862' not in persistent cache.\n",
      "Key '5763251624502103407' not in persistent cache.\n",
      "Key '501610613211909600' not in persistent cache.\n",
      "Key '4095386759734617479' not in persistent cache.\n",
      "Key '3681682774502185415' not in persistent cache.\n",
      "Key '2829673898410166055' not in persistent cache.\n",
      "Key '-8428797313180043738' not in persistent cache.\n",
      "Key '-7232704802084006225' not in persistent cache.\n",
      "Key '1067750353825787132' not in persistent cache.\n",
      "Key '-7742130998739748458' not in persistent cache.\n",
      "Key '-1743425552178916787' not in persistent cache.\n",
      "Key '705240657255778664' not in persistent cache.\n",
      "Key '5366504099655989621' not in persistent cache.\n",
      "Key '-7459845658296131801' not in persistent cache.\n",
      "Key '5378470145996991521' not in persistent cache.\n",
      "Key '-5202109230089219884' not in persistent cache.\n",
      "Key '6203547817811034545' not in persistent cache.\n",
      "Key '5165801973068611467' not in persistent cache.\n",
      "Key '4785992405879335973' not in persistent cache.\n",
      "Key '7317657339874938829' not in persistent cache.\n",
      "Key '-931418084481738750' not in persistent cache.\n",
      "Key '-3540486738175855060' not in persistent cache.\n",
      "Key '-688371200117049488' not in persistent cache.\n",
      "Key '-9021434741955824896' not in persistent cache.\n",
      "Key '-4886026538253486197' not in persistent cache.\n",
      "Key '6972192489170066362' not in persistent cache.\n",
      "Key '2146092566114622072' not in persistent cache.\n",
      "Key '7846602538717938355' not in persistent cache.\n",
      "Key '1045209164393800452' not in persistent cache.\n",
      "Key '4093050856518091712' not in persistent cache.\n",
      "Key '-1714450110313895804' not in persistent cache.\n",
      "Key '7971504496655362977' not in persistent cache.\n",
      "Key '6081650611250360757' not in persistent cache.\n",
      "Key '6265031448808227701' not in persistent cache.\n",
      "Key '-1119382343227753904' not in persistent cache.\n",
      "Key '-4622178372150873112' not in persistent cache.\n",
      "Key '-2910439288147178989' not in persistent cache.\n",
      "Key '2152397615838706588' not in persistent cache.\n",
      "Key '625305289468491111' not in persistent cache.\n",
      "Key '-176886222770194553' not in persistent cache.\n",
      "Key '5382533141480497067' not in persistent cache.\n",
      "Key '-2336065969080290372' not in persistent cache.\n",
      "Key '-189135904374189051' not in persistent cache.\n",
      "Key '106204365409873525' not in persistent cache.\n",
      "Key '-3895024562082491818' not in persistent cache.\n",
      "Key '-500575721625884660' not in persistent cache.\n",
      "Key '2908604788747500966' not in persistent cache.\n",
      "Key '-8885881541601149880' not in persistent cache.\n",
      "Key '-2492174525394199445' not in persistent cache.\n",
      "Key '8695687609134989534' not in persistent cache.\n",
      "Key '4038020467283405628' not in persistent cache.\n",
      "Key '8152423425193814683' not in persistent cache.\n",
      "Key '-2015375015495849913' not in persistent cache.\n",
      "Key '-8225850650593865251' not in persistent cache.\n",
      "Key '7286669928701825411' not in persistent cache.\n",
      "Key '-6743527440809305014' not in persistent cache.\n",
      "Key '2331684709675279232' not in persistent cache.\n",
      "Key '-6173473796932239902' not in persistent cache.\n",
      "Key '-3655817276982632906' not in persistent cache.\n",
      "Key '1230641700934305349' not in persistent cache.\n",
      "Key '-1215961592572634272' not in persistent cache.\n",
      "Key '4409809457255366327' not in persistent cache.\n",
      "Key '1089700917147806347' not in persistent cache.\n",
      "Key '-8210273557776483528' not in persistent cache.\n",
      "Key '5065890613340215337' not in persistent cache.\n",
      "Key '-2368893893179638481' not in persistent cache.\n",
      "Key '690818868341273135' not in persistent cache.\n",
      "Key '-2907090491990276095' not in persistent cache.\n",
      "Key '6123968770092271733' not in persistent cache.\n",
      "Key '5319335233188502941' not in persistent cache.\n",
      "Key '1921723074272460092' not in persistent cache.\n",
      "Key '-7963676705108380076' not in persistent cache.\n",
      "Key '8794431394564626074' not in persistent cache.\n",
      "Key '-5317591961342867822' not in persistent cache.\n",
      "Key '-5362264238968585603' not in persistent cache.\n",
      "Key '-8051041137707129476' not in persistent cache.\n",
      "Key '-7423437978892099244' not in persistent cache.\n",
      "Key '-5560742503716716740' not in persistent cache.\n",
      "Key '-6909547332959003070' not in persistent cache.\n",
      "Key '-4365750820942700009' not in persistent cache.\n",
      "Key '7672214566104268653' not in persistent cache.\n",
      "Key '-8942613157375549219' not in persistent cache.\n",
      "Key '7013732935386838515' not in persistent cache.\n",
      "Key '-628750114986549579' not in persistent cache.\n",
      "Key '2627406341422217027' not in persistent cache.\n",
      "Key '3160778079595230735' not in persistent cache.\n",
      "Key '-3278076468960195082' not in persistent cache.\n",
      "Key '-5213922595026235320' not in persistent cache.\n",
      "Key '5900738610184910756' not in persistent cache.\n",
      "Key '-1901245504136556493' not in persistent cache.\n",
      "Key '-4205621541726807473' not in persistent cache.\n",
      "Key '2101649015774897169' not in persistent cache.\n",
      "Key '-1164586843677709676' not in persistent cache.\n",
      "Key '-3456710516132888688' not in persistent cache.\n",
      "Key '-5311956801712558917' not in persistent cache.\n",
      "Key '791033024463785777' not in persistent cache.\n",
      "Key '-7360676638205456524' not in persistent cache.\n",
      "Key '2259568636128069507' not in persistent cache.\n",
      "Key '5524400738126627813' not in persistent cache.\n",
      "Key '-3176068004522165822' not in persistent cache.\n",
      "Key '-496789695922052674' not in persistent cache.\n",
      "Key '-242552283372726711' not in persistent cache.\n",
      "Key '-4023749470009025230' not in persistent cache.\n",
      "Key '-5139107358014063577' not in persistent cache.\n",
      "Key '-4975775876147266307' not in persistent cache.\n",
      "Key '-8666067132101036133' not in persistent cache.\n",
      "Key '5530270132927553401' not in persistent cache.\n",
      "Key '-9046122336330541202' not in persistent cache.\n",
      "Key '-7100239452173495605' not in persistent cache.\n",
      "Key '-7007405467428406054' not in persistent cache.\n",
      "Key '-3581169937625611336' not in persistent cache.\n",
      "Key '-2159613265071545797' not in persistent cache.\n",
      "Key '-1262886358761680976' not in persistent cache.\n",
      "Key '-5044083545397979495' not in persistent cache.\n",
      "Key '2165277225103674600' not in persistent cache.\n",
      "Key '5495510764221002912' not in persistent cache.\n",
      "Key '8760342866219561218' not in persistent cache.\n",
      "Key '7105903412205624408' not in persistent cache.\n",
      "Key '2739152432170880731' not in persistent cache.\n",
      "Key '2993389844720206694' not in persistent cache.\n",
      "Key '6258221946718765000' not in persistent cache.\n",
      "Key '-1903165229921130172' not in persistent cache.\n",
      "Key '5306195540580523923' not in persistent cache.\n",
      "Key '1615904284626754097' not in persistent cache.\n",
      "Key '-4235797328266654083' not in persistent cache.\n",
      "Key '6636911678275129593' not in persistent cache.\n",
      "Key '1580437160341848527' not in persistent cache.\n",
      "Key '-2725086237897430050' not in persistent cache.\n",
      "Key '5099506674889732796' not in persistent cache.\n",
      "Key '6521063347443798335' not in persistent cache.\n",
      "Key '-4026596417865561797' not in persistent cache.\n",
      "Key '3636593067117364637' not in persistent cache.\n",
      "Key '-7600790236090532884' not in persistent cache.\n",
      "Key '-8668914079957572700' not in persistent cache.\n",
      "Key '-1005724594974646266' not in persistent cache.\n",
      "Key '-2660164048988583076' not in persistent cache.\n",
      "Key '-7026915029023326753' not in persistent cache.\n",
      "Key '7275709074251182698' not in persistent cache.\n",
      "Key '-3507845514475442484' not in persistent cache.\n",
      "Key '6777511382594213960' not in persistent cache.\n",
      "Key '-4459871920613683561' not in persistent cache.\n",
      "Key '-8150163176567453387' not in persistent cache.\n",
      "Key '6491359405073530853' not in persistent cache.\n",
      "Key '-8085033064184563750' not in persistent cache.\n",
      "Key '5305236491591706800' not in persistent cache.\n",
      "Key '999713093352428223' not in persistent cache.\n",
      "Key '1778276717504734244' not in persistent cache.\n",
      "Key '-8200881395015895008' not in persistent cache.\n",
      "Key '-301797086615703524' not in persistent cache.\n",
      "Key '7361392398367222910' not in persistent cache.\n",
      "Key '3126366497249652052' not in persistent cache.\n",
      "Key '-4944114748707714427' not in persistent cache.\n",
      "Key '-4326954552359644818' not in persistent cache.\n",
      "Key '-5981394006373581628' not in persistent cache.\n",
      "Key '-3302115697773468480' not in persistent cache.\n",
      "Key '-7446235668208510645' not in persistent cache.\n",
      "Key '-6829075471860441036' not in persistent cache.\n",
      "Key '3456281425209215408' not in persistent cache.\n",
      "Key '6267284812726501375' not in persistent cache.\n",
      "Key '6975350939757099677' not in persistent cache.\n",
      "Key '6680502607470989377' not in persistent cache.\n",
      "Key '-893532459696778563' not in persistent cache.\n",
      "Key '-5950006977630059629' not in persistent cache.\n",
      "Key '8191213697840213410' not in persistent cache.\n",
      "Key '-2430937463082175360' not in persistent cache.\n",
      "Key '-1009380790528109821' not in persistent cache.\n",
      "Key '6889703517872081663' not in persistent cache.\n",
      "Key '-3893851070854543519' not in persistent cache.\n",
      "Key '3315509699647110576' not in persistent cache.\n",
      "Key '2247385855780070760' not in persistent cache.\n",
      "Key '-8536168732946554422' not in persistent cache.\n",
      "Key '8256135886749060384' not in persistent cache.\n",
      "Key '3889384906714316707' not in persistent cache.\n",
      "Key '-254735063720725458' not in persistent cache.\n",
      "Key '7408454421262200976' not in persistent cache.\n",
      "Key '-752932755377694196' not in persistent cache.\n",
      "Key '6456428015123959899' not in persistent cache.\n",
      "Key '2766136759170190073' not in persistent cache.\n",
      "Key '-6692255217743226465' not in persistent cache.\n",
      "Key '-2821903613291769452' not in persistent cache.\n",
      "Key '6170008559500132970' not in persistent cache.\n",
      "Key '6262842544245222521' not in persistent cache.\n",
      "Key '2643048785413160414' not in persistent cache.\n",
      "Key '-2937751944123100710' not in persistent cache.\n",
      "Key '4961332364277090774' not in persistent cache.\n",
      "Key '8226164466275649080' not in persistent cache.\n",
      "Key '8389495948142446350' not in persistent cache.\n",
      "Key '319014702185079871' not in persistent cache.\n",
      "Key '936174898533149480' not in persistent cache.\n",
      "Key '-5116621938465155458' not in persistent cache.\n",
      "Key '-2437343629865042310' not in persistent cache.\n",
      "Key '-2183106217315716347' not in persistent cache.\n",
      "Key '-5964303403952014866' not in persistent cache.\n",
      "Key '-2681303908972685085' not in persistent cache.\n",
      "Key '-6916329810090255943' not in persistent cache.\n",
      "Key '-6208263683059657641' not in persistent cache.\n",
      "Key '-3655905123838377747' not in persistent cache.\n",
      "Key '6045311811825842362' not in persistent cache.\n",
      "Key '2274463902981479059' not in persistent cache.\n",
      "Key '8375490639959284298' not in persistent cache.\n",
      "Key '-8238079574412383350' not in persistent cache.\n",
      "Key '-4367727969960926337' not in persistent cache.\n",
      "Key '1976512297180487388' not in persistent cache.\n",
      "Key '-2329011101058791189' not in persistent cache.\n",
      "Key '5495581811728371657' not in persistent cache.\n",
      "Key '6917138484282437196' not in persistent cache.\n",
      "Key '3415508007607933889' not in persistent cache.\n",
      "Key '4032668203956003498' not in persistent cache.\n",
      "Key '6843671591473289465' not in persistent cache.\n",
      "Key '-8272838943118933839' not in persistent cache.\n",
      "Key '-609649458136007405' not in persistent cache.\n",
      "Key '-2264088912149944215' not in persistent cache.\n",
      "Key '-6630839892184687892' not in persistent cache.\n",
      "Key '7671784211089821559' not in persistent cache.\n",
      "Key '-3111770377636803623' not in persistent cache.\n",
      "Key '7173586519432852821' not in persistent cache.\n",
      "Key '-8462154166759412828' not in persistent cache.\n",
      "Key '-7754088039728814526' not in persistent cache.\n",
      "Key '-6753068484223543005' not in persistent cache.\n",
      "Key '-2882716879772085992' not in persistent cache.\n",
      "Key '6109195293019816430' not in persistent cache.\n",
      "Key '6202029277764905981' not in persistent cache.\n",
      "Key '2582235518932843874' not in persistent cache.\n",
      "Key '-2998565210603417250' not in persistent cache.\n",
      "Key '4900519097796774234' not in persistent cache.\n",
      "Key '8165351199795332540' not in persistent cache.\n",
      "Key '8328682681662129810' not in persistent cache.\n",
      "Key '258201435704763331' not in persistent cache.\n",
      "Key '875361632052832940' not in persistent cache.\n",
      "Key '-5177435204945471998' not in persistent cache.\n",
      "Key '-2498156896345358850' not in persistent cache.\n",
      "Key '-2243919483796032887' not in persistent cache.\n",
      "Key '-6025116670432331406' not in persistent cache.\n",
      "Key '-2742117175453001625' not in persistent cache.\n",
      "Key '-6977143076570572483' not in persistent cache.\n",
      "Key '-6269076949539974181' not in persistent cache.\n",
      "Key '1484121106988724268' not in persistent cache.\n",
      "Key '-1691556577194675544' not in persistent cache.\n",
      "Key '7300355595597226878' not in persistent cache.\n",
      "Key '7393189580342316429' not in persistent cache.\n",
      "Key '-7627318963564440469' not in persistent cache.\n",
      "Key '-6205762291010374930' not in persistent cache.\n",
      "Key '6091679400374184682' not in persistent cache.\n",
      "Key '-9090232571336808628' not in persistent cache.\n",
      "Key '-1880871800835154533' not in persistent cache.\n",
      "Key '1449361738282173779' not in persistent cache.\n",
      "Key '4714193840280732085' not in persistent cache.\n",
      "Key '3059754386266795275' not in persistent cache.\n",
      "Key '-1306996593767948402' not in persistent cache.\n",
      "Key '-1052759181218622439' not in persistent cache.\n",
      "Key '2212072920779935867' not in persistent cache.\n",
      "Key '-5949314255859959305' not in persistent cache.\n",
      "Key '1260046514641694790' not in persistent cache.\n",
      "Key '-2430244741312075036' not in persistent cache.\n",
      "Key '-2993941504647200369' not in persistent cache.\n",
      "Key '-3521947283180111484' not in persistent cache.\n",
      "Key '2822292983961302241' not in persistent cache.\n",
      "Key '-1483230414277976336' not in persistent cache.\n",
      "Key '6341362498509186510' not in persistent cache.\n",
      "Key '7762919171063252049' not in persistent cache.\n",
      "Key '4261288694388748742' not in persistent cache.\n",
      "Key '4878448890736818351' not in persistent cache.\n",
      "Key '7689452278254104318' not in persistent cache.\n",
      "Key '-7427058256338118986' not in persistent cache.\n",
      "Key '236131228644807448' not in persistent cache.\n",
      "Key '-1418308225369129362' not in persistent cache.\n",
      "Key '-5785059205403873039' not in persistent cache.\n",
      "Key '8517564897870636412' not in persistent cache.\n",
      "Key '-2265989690855988770' not in persistent cache.\n",
      "Key '8019367206213667674' not in persistent cache.\n",
      "Key '-3218016096994229847' not in persistent cache.\n",
      "Key '-6908307352947999673' not in persistent cache.\n",
      "Key '-6215923182995106164' not in persistent cache.\n",
      "Key '-7998867337976309814' not in persistent cache.\n",
      "Key '1783031002148913971' not in persistent cache.\n",
      "Key '7866756876252718015' not in persistent cache.\n",
      "Key '7413582636561498157' not in persistent cache.\n",
      "Key '1312944631066189891' not in persistent cache.\n",
      "Key '3828836193703164256' not in persistent cache.\n",
      "Key '-6305266328136705533' not in persistent cache.\n",
      "Key '-9092821340886421862' not in persistent cache.\n",
      "Key '5763251624502103407' not in persistent cache.\n",
      "Key '501610613211909600' not in persistent cache.\n",
      "Key '4095386759734617479' not in persistent cache.\n",
      "Key '3681682774502185415' not in persistent cache.\n",
      "Key '2829673898410166055' not in persistent cache.\n",
      "Key '-8428797313180043738' not in persistent cache.\n",
      "Key '-7232704802084006225' not in persistent cache.\n",
      "Key '1067750353825787132' not in persistent cache.\n",
      "Key '-7742130998739748458' not in persistent cache.\n",
      "Key '-1743425552178916787' not in persistent cache.\n",
      "Key '705240657255778664' not in persistent cache.\n",
      "Key '5366504099655989621' not in persistent cache.\n",
      "Key '-7459845658296131801' not in persistent cache.\n",
      "Key '5378470145996991521' not in persistent cache.\n",
      "Key '-5202109230089219884' not in persistent cache.\n",
      "Key '6203547817811034545' not in persistent cache.\n",
      "Key '5165801973068611467' not in persistent cache.\n",
      "Key '4785992405879335973' not in persistent cache.\n",
      "Key '7317657339874938829' not in persistent cache.\n",
      "Key '-931418084481738750' not in persistent cache.\n",
      "Key '-3540486738175855060' not in persistent cache.\n",
      "Key '-688371200117049488' not in persistent cache.\n",
      "Key '-9021434741955824896' not in persistent cache.\n",
      "Key '-4886026538253486197' not in persistent cache.\n",
      "Key '6972192489170066362' not in persistent cache.\n",
      "Key '2146092566114622072' not in persistent cache.\n",
      "Key '7846602538717938355' not in persistent cache.\n",
      "Key '1045209164393800452' not in persistent cache.\n",
      "Key '4093050856518091712' not in persistent cache.\n",
      "Key '-1714450110313895804' not in persistent cache.\n",
      "Key '7971504496655362977' not in persistent cache.\n",
      "Key '6081650611250360757' not in persistent cache.\n",
      "Key '6265031448808227701' not in persistent cache.\n",
      "Key '-1119382343227753904' not in persistent cache.\n",
      "Key '-4622178372150873112' not in persistent cache.\n",
      "Key '-2910439288147178989' not in persistent cache.\n",
      "Key '2152397615838706588' not in persistent cache.\n",
      "Key '625305289468491111' not in persistent cache.\n",
      "Key '-176886222770194553' not in persistent cache.\n",
      "Key '5382533141480497067' not in persistent cache.\n",
      "Key '-2336065969080290372' not in persistent cache.\n",
      "Key '-189135904374189051' not in persistent cache.\n",
      "Key '106204365409873525' not in persistent cache.\n",
      "Key '-3895024562082491818' not in persistent cache.\n",
      "Key '-500575721625884660' not in persistent cache.\n",
      "Key '2908604788747500966' not in persistent cache.\n",
      "Key '-8885881541601149880' not in persistent cache.\n",
      "Key '-2492174525394199445' not in persistent cache.\n",
      "Key '8695687609134989534' not in persistent cache.\n",
      "Key '4038020467283405628' not in persistent cache.\n",
      "Key '8152423425193814683' not in persistent cache.\n",
      "Key '-2015375015495849913' not in persistent cache.\n",
      "Key '-8225850650593865251' not in persistent cache.\n",
      "Key '7286669928701825411' not in persistent cache.\n",
      "Key '-6743527440809305014' not in persistent cache.\n",
      "Key '2331684709675279232' not in persistent cache.\n",
      "Key '-6173473796932239902' not in persistent cache.\n",
      "Key '-3655817276982632906' not in persistent cache.\n",
      "Key '1230641700934305349' not in persistent cache.\n",
      "Key '-1215961592572634272' not in persistent cache.\n",
      "Key '4409809457255366327' not in persistent cache.\n",
      "Key '1089700917147806347' not in persistent cache.\n",
      "Key '-8210273557776483528' not in persistent cache.\n",
      "Key '5065890613340215337' not in persistent cache.\n",
      "Key '-2368893893179638481' not in persistent cache.\n",
      "Key '690818868341273135' not in persistent cache.\n",
      "Key '-2907090491990276095' not in persistent cache.\n",
      "Key '6123968770092271733' not in persistent cache.\n",
      "Key '5319335233188502941' not in persistent cache.\n",
      "Key '1921723074272460092' not in persistent cache.\n",
      "Key '-7963676705108380076' not in persistent cache.\n",
      "Key '8794431394564626074' not in persistent cache.\n",
      "Key '-5317591961342867822' not in persistent cache.\n",
      "Key '-5362264238968585603' not in persistent cache.\n",
      "Key '-8051041137707129476' not in persistent cache.\n",
      "Key '-7423437978892099244' not in persistent cache.\n",
      "Key '-5560742503716716740' not in persistent cache.\n",
      "Key '-6909547332959003070' not in persistent cache.\n",
      "Key '-4365750820942700009' not in persistent cache.\n",
      "Key '7672214566104268653' not in persistent cache.\n",
      "Key '-8942613157375549219' not in persistent cache.\n",
      "Key '7013732935386838515' not in persistent cache.\n",
      "Key '-628750114986549579' not in persistent cache.\n",
      "Key '2627406341422217027' not in persistent cache.\n",
      "Key '3160778079595230735' not in persistent cache.\n",
      "Key '-3278076468960195082' not in persistent cache.\n",
      "Key '-5213922595026235320' not in persistent cache.\n",
      "Key '5900738610184910756' not in persistent cache.\n",
      "Key '-1901245504136556493' not in persistent cache.\n",
      "Key '-4205621541726807473' not in persistent cache.\n",
      "Key '2101649015774897169' not in persistent cache.\n",
      "Key '-1164586843677709676' not in persistent cache.\n",
      "Key '-3456710516132888688' not in persistent cache.\n",
      "Key '-5311956801712558917' not in persistent cache.\n",
      "Key '791033024463785777' not in persistent cache.\n",
      "Key '-7360676638205456524' not in persistent cache.\n",
      "Key '2259568636128069507' not in persistent cache.\n",
      "Key '5524400738126627813' not in persistent cache.\n",
      "Key '-3176068004522165822' not in persistent cache.\n",
      "Key '-496789695922052674' not in persistent cache.\n",
      "Key '-242552283372726711' not in persistent cache.\n",
      "Key '-4023749470009025230' not in persistent cache.\n",
      "Key '-5139107358014063577' not in persistent cache.\n",
      "Key '-4975775876147266307' not in persistent cache.\n",
      "Key '-8666067132101036133' not in persistent cache.\n",
      "Key '5530270132927553401' not in persistent cache.\n",
      "Key '-9046122336330541202' not in persistent cache.\n",
      "Key '-7100239452173495605' not in persistent cache.\n",
      "Key '-7007405467428406054' not in persistent cache.\n",
      "Key '-3581169937625611336' not in persistent cache.\n",
      "Key '-2159613265071545797' not in persistent cache.\n",
      "Key '-1262886358761680976' not in persistent cache.\n",
      "Key '-5044083545397979495' not in persistent cache.\n",
      "Key '2165277225103674600' not in persistent cache.\n",
      "Key '5495510764221002912' not in persistent cache.\n",
      "Key '8760342866219561218' not in persistent cache.\n",
      "Key '7105903412205624408' not in persistent cache.\n",
      "Key '2739152432170880731' not in persistent cache.\n",
      "Key '2993389844720206694' not in persistent cache.\n",
      "Key '6258221946718765000' not in persistent cache.\n",
      "Key '-1903165229921130172' not in persistent cache.\n",
      "Key '5306195540580523923' not in persistent cache.\n",
      "Key '1615904284626754097' not in persistent cache.\n",
      "Key '-4235797328266654083' not in persistent cache.\n",
      "Key '6636911678275129593' not in persistent cache.\n",
      "Key '1580437160341848527' not in persistent cache.\n",
      "Key '-2725086237897430050' not in persistent cache.\n",
      "Key '5099506674889732796' not in persistent cache.\n",
      "Key '6521063347443798335' not in persistent cache.\n",
      "Key '-4026596417865561797' not in persistent cache.\n",
      "Key '3636593067117364637' not in persistent cache.\n",
      "Key '-7600790236090532884' not in persistent cache.\n",
      "Key '-8668914079957572700' not in persistent cache.\n",
      "Key '-1005724594974646266' not in persistent cache.\n",
      "Key '-2660164048988583076' not in persistent cache.\n",
      "Key '-7026915029023326753' not in persistent cache.\n",
      "Key '7275709074251182698' not in persistent cache.\n",
      "Key '-3507845514475442484' not in persistent cache.\n",
      "Key '6777511382594213960' not in persistent cache.\n",
      "Key '-4459871920613683561' not in persistent cache.\n",
      "Key '-8150163176567453387' not in persistent cache.\n",
      "Key '6491359405073530853' not in persistent cache.\n",
      "Key '-8085033064184563750' not in persistent cache.\n",
      "Key '5305236491591706800' not in persistent cache.\n",
      "Key '999713093352428223' not in persistent cache.\n",
      "Key '1778276717504734244' not in persistent cache.\n",
      "Key '-8200881395015895008' not in persistent cache.\n",
      "Key '-301797086615703524' not in persistent cache.\n",
      "Key '7361392398367222910' not in persistent cache.\n",
      "Key '3126366497249652052' not in persistent cache.\n",
      "Key '-4944114748707714427' not in persistent cache.\n",
      "Key '-4326954552359644818' not in persistent cache.\n",
      "Key '-5981394006373581628' not in persistent cache.\n",
      "Key '-3302115697773468480' not in persistent cache.\n",
      "Key '-7446235668208510645' not in persistent cache.\n",
      "Key '-6829075471860441036' not in persistent cache.\n",
      "Key '3456281425209215408' not in persistent cache.\n",
      "Key '6267284812726501375' not in persistent cache.\n",
      "Key '6975350939757099677' not in persistent cache.\n",
      "Key '6680502607470989377' not in persistent cache.\n",
      "Key '-893532459696778563' not in persistent cache.\n",
      "Key '-5950006977630059629' not in persistent cache.\n",
      "Key '8191213697840213410' not in persistent cache.\n",
      "Key '-2430937463082175360' not in persistent cache.\n",
      "Key '-1009380790528109821' not in persistent cache.\n",
      "Key '6889703517872081663' not in persistent cache.\n",
      "Key '-3893851070854543519' not in persistent cache.\n",
      "Key '3315509699647110576' not in persistent cache.\n",
      "Key '2247385855780070760' not in persistent cache.\n",
      "Key '-8536168732946554422' not in persistent cache.\n",
      "Key '8256135886749060384' not in persistent cache.\n",
      "Key '3889384906714316707' not in persistent cache.\n",
      "Key '-254735063720725458' not in persistent cache.\n",
      "Key '7408454421262200976' not in persistent cache.\n",
      "Key '-752932755377694196' not in persistent cache.\n",
      "Key '6456428015123959899' not in persistent cache.\n",
      "Key '2766136759170190073' not in persistent cache.\n",
      "Key '-6692255217743226465' not in persistent cache.\n",
      "Key '-2821903613291769452' not in persistent cache.\n",
      "Key '6170008559500132970' not in persistent cache.\n",
      "Key '6262842544245222521' not in persistent cache.\n",
      "Key '2643048785413160414' not in persistent cache.\n",
      "Key '-2937751944123100710' not in persistent cache.\n",
      "Key '4961332364277090774' not in persistent cache.\n",
      "Key '8226164466275649080' not in persistent cache.\n",
      "Key '8389495948142446350' not in persistent cache.\n",
      "Key '319014702185079871' not in persistent cache.\n",
      "Key '936174898533149480' not in persistent cache.\n",
      "Key '-5116621938465155458' not in persistent cache.\n",
      "Key '-2437343629865042310' not in persistent cache.\n",
      "Key '-2183106217315716347' not in persistent cache.\n",
      "Key '-5964303403952014866' not in persistent cache.\n",
      "Key '-2681303908972685085' not in persistent cache.\n",
      "Key '-6916329810090255943' not in persistent cache.\n",
      "Key '-6208263683059657641' not in persistent cache.\n",
      "Key '-3655905123838377747' not in persistent cache.\n",
      "Key '6045311811825842362' not in persistent cache.\n",
      "Key '2274463902981479059' not in persistent cache.\n",
      "Key '8375490639959284298' not in persistent cache.\n",
      "Key '-8238079574412383350' not in persistent cache.\n",
      "Key '-4367727969960926337' not in persistent cache.\n",
      "Key '1976512297180487388' not in persistent cache.\n",
      "Key '-2329011101058791189' not in persistent cache.\n",
      "Key '5495581811728371657' not in persistent cache.\n",
      "Key '6917138484282437196' not in persistent cache.\n",
      "Key '3415508007607933889' not in persistent cache.\n",
      "Key '4032668203956003498' not in persistent cache.\n",
      "Key '6843671591473289465' not in persistent cache.\n",
      "Key '-8272838943118933839' not in persistent cache.\n",
      "Key '-609649458136007405' not in persistent cache.\n",
      "Key '-2264088912149944215' not in persistent cache.\n",
      "Key '-6630839892184687892' not in persistent cache.\n",
      "Key '7671784211089821559' not in persistent cache.\n",
      "Key '-3111770377636803623' not in persistent cache.\n",
      "Key '7173586519432852821' not in persistent cache.\n",
      "Key '-8462154166759412828' not in persistent cache.\n",
      "Key '-7754088039728814526' not in persistent cache.\n",
      "Key '-6753068484223543005' not in persistent cache.\n",
      "Key '-2882716879772085992' not in persistent cache.\n",
      "Key '6109195293019816430' not in persistent cache.\n",
      "Key '6202029277764905981' not in persistent cache.\n",
      "Key '2582235518932843874' not in persistent cache.\n",
      "Key '-2998565210603417250' not in persistent cache.\n",
      "Key '4900519097796774234' not in persistent cache.\n",
      "Key '8165351199795332540' not in persistent cache.\n",
      "Key '8328682681662129810' not in persistent cache.\n",
      "Key '258201435704763331' not in persistent cache.\n",
      "Key '875361632052832940' not in persistent cache.\n",
      "Key '-5177435204945471998' not in persistent cache.\n",
      "Key '-2498156896345358850' not in persistent cache.\n",
      "Key '-2243919483796032887' not in persistent cache.\n",
      "Key '-6025116670432331406' not in persistent cache.\n",
      "Key '-2742117175453001625' not in persistent cache.\n",
      "Key '-6977143076570572483' not in persistent cache.\n",
      "Key '-6269076949539974181' not in persistent cache.\n",
      "Key '1484121106988724268' not in persistent cache.\n",
      "Key '-1691556577194675544' not in persistent cache.\n",
      "Key '7300355595597226878' not in persistent cache.\n",
      "Key '7393189580342316429' not in persistent cache.\n",
      "Key '-7627318963564440469' not in persistent cache.\n",
      "Key '-6205762291010374930' not in persistent cache.\n",
      "Key '6091679400374184682' not in persistent cache.\n",
      "Key '-9090232571336808628' not in persistent cache.\n",
      "Key '-1880871800835154533' not in persistent cache.\n",
      "Key '1449361738282173779' not in persistent cache.\n",
      "Key '4714193840280732085' not in persistent cache.\n",
      "Key '3059754386266795275' not in persistent cache.\n",
      "Key '-1306996593767948402' not in persistent cache.\n",
      "Key '-1052759181218622439' not in persistent cache.\n",
      "Key '2212072920779935867' not in persistent cache.\n",
      "Key '-5949314255859959305' not in persistent cache.\n",
      "Key '1260046514641694790' not in persistent cache.\n",
      "Key '-2430244741312075036' not in persistent cache.\n",
      "Key '-2993941504647200369' not in persistent cache.\n",
      "Key '-3521947283180111484' not in persistent cache.\n",
      "Key '2822292983961302241' not in persistent cache.\n",
      "Key '-1483230414277976336' not in persistent cache.\n",
      "Key '6341362498509186510' not in persistent cache.\n",
      "Key '7762919171063252049' not in persistent cache.\n",
      "Key '4261288694388748742' not in persistent cache.\n",
      "Key '4878448890736818351' not in persistent cache.\n",
      "Key '7689452278254104318' not in persistent cache.\n",
      "Key '-7427058256338118986' not in persistent cache.\n",
      "Key '236131228644807448' not in persistent cache.\n",
      "Key '-1418308225369129362' not in persistent cache.\n",
      "Key '-5785059205403873039' not in persistent cache.\n",
      "Key '8517564897870636412' not in persistent cache.\n",
      "Key '-2265989690855988770' not in persistent cache.\n",
      "Key '8019367206213667674' not in persistent cache.\n",
      "Key '-3218016096994229847' not in persistent cache.\n",
      "Key '-6908307352947999673' not in persistent cache.\n",
      "Key '-6215923182995106164' not in persistent cache.\n",
      "Key '-7998867337976309814' not in persistent cache.\n",
      "Key '1783031002148913971' not in persistent cache.\n",
      "Key '7866756876252718015' not in persistent cache.\n",
      "Key '7413582636561498157' not in persistent cache.\n",
      "Key '1312944631066189891' not in persistent cache.\n",
      "Key '3828836193703164256' not in persistent cache.\n",
      "Key '-6305266328136705533' not in persistent cache.\n",
      "Key '-9092821340886421862' not in persistent cache.\n",
      "Key '5763251624502103407' not in persistent cache.\n",
      "Key '501610613211909600' not in persistent cache.\n",
      "Key '4095386759734617479' not in persistent cache.\n",
      "Key '3681682774502185415' not in persistent cache.\n",
      "Key '2829673898410166055' not in persistent cache.\n",
      "Key '-8428797313180043738' not in persistent cache.\n",
      "Key '-7232704802084006225' not in persistent cache.\n",
      "Key '1067750353825787132' not in persistent cache.\n",
      "Key '-7742130998739748458' not in persistent cache.\n",
      "Key '-1743425552178916787' not in persistent cache.\n",
      "Key '705240657255778664' not in persistent cache.\n",
      "Key '5366504099655989621' not in persistent cache.\n",
      "Key '-7459845658296131801' not in persistent cache.\n",
      "Key '5378470145996991521' not in persistent cache.\n",
      "Key '-5202109230089219884' not in persistent cache.\n",
      "Key '6203547817811034545' not in persistent cache.\n",
      "Key '5165801973068611467' not in persistent cache.\n",
      "Key '4785992405879335973' not in persistent cache.\n",
      "Key '7317657339874938829' not in persistent cache.\n",
      "Key '-931418084481738750' not in persistent cache.\n",
      "Key '-3540486738175855060' not in persistent cache.\n",
      "Key '-688371200117049488' not in persistent cache.\n",
      "Key '-9021434741955824896' not in persistent cache.\n",
      "Key '-4886026538253486197' not in persistent cache.\n",
      "Key '6972192489170066362' not in persistent cache.\n",
      "Key '2146092566114622072' not in persistent cache.\n",
      "Key '7846602538717938355' not in persistent cache.\n",
      "Key '1045209164393800452' not in persistent cache.\n",
      "Key '4093050856518091712' not in persistent cache.\n",
      "Key '-1714450110313895804' not in persistent cache.\n",
      "Key '7971504496655362977' not in persistent cache.\n",
      "Key '6081650611250360757' not in persistent cache.\n",
      "Key '6265031448808227701' not in persistent cache.\n",
      "Key '-1119382343227753904' not in persistent cache.\n",
      "Key '-4622178372150873112' not in persistent cache.\n",
      "Key '-2910439288147178989' not in persistent cache.\n",
      "Key '2152397615838706588' not in persistent cache.\n",
      "Key '625305289468491111' not in persistent cache.\n",
      "Key '-176886222770194553' not in persistent cache.\n",
      "Key '5382533141480497067' not in persistent cache.\n",
      "Key '-2336065969080290372' not in persistent cache.\n",
      "Key '-189135904374189051' not in persistent cache.\n",
      "Key '106204365409873525' not in persistent cache.\n",
      "Key '-3895024562082491818' not in persistent cache.\n",
      "Key '-500575721625884660' not in persistent cache.\n",
      "Key '2908604788747500966' not in persistent cache.\n",
      "Key '-8885881541601149880' not in persistent cache.\n",
      "Key '-2492174525394199445' not in persistent cache.\n",
      "Key '8695687609134989534' not in persistent cache.\n",
      "Key '4038020467283405628' not in persistent cache.\n",
      "Key '8152423425193814683' not in persistent cache.\n",
      "Key '-2015375015495849913' not in persistent cache.\n",
      "Key '-8225850650593865251' not in persistent cache.\n",
      "Key '7286669928701825411' not in persistent cache.\n",
      "Key '-6743527440809305014' not in persistent cache.\n",
      "Key '2331684709675279232' not in persistent cache.\n",
      "Key '-6173473796932239902' not in persistent cache.\n",
      "Key '-3655817276982632906' not in persistent cache.\n",
      "Key '1230641700934305349' not in persistent cache.\n",
      "Key '-1215961592572634272' not in persistent cache.\n",
      "Key '4409809457255366327' not in persistent cache.\n",
      "Key '1089700917147806347' not in persistent cache.\n",
      "Key '-8210273557776483528' not in persistent cache.\n",
      "Key '5065890613340215337' not in persistent cache.\n",
      "Key '-2368893893179638481' not in persistent cache.\n",
      "Key '690818868341273135' not in persistent cache.\n",
      "Key '-2907090491990276095' not in persistent cache.\n",
      "Key '6123968770092271733' not in persistent cache.\n",
      "Key '5319335233188502941' not in persistent cache.\n",
      "Key '1921723074272460092' not in persistent cache.\n",
      "Key '-7963676705108380076' not in persistent cache.\n",
      "Key '8794431394564626074' not in persistent cache.\n",
      "Key '-5317591961342867822' not in persistent cache.\n",
      "Key '-5362264238968585603' not in persistent cache.\n",
      "Key '-8051041137707129476' not in persistent cache.\n",
      "Key '-7423437978892099244' not in persistent cache.\n",
      "Key '-5560742503716716740' not in persistent cache.\n",
      "Key '-6909547332959003070' not in persistent cache.\n",
      "Key '-4365750820942700009' not in persistent cache.\n",
      "Key '7672214566104268653' not in persistent cache.\n",
      "Key '-8942613157375549219' not in persistent cache.\n",
      "Key '7013732935386838515' not in persistent cache.\n",
      "Key '-628750114986549579' not in persistent cache.\n",
      "Key '2627406341422217027' not in persistent cache.\n",
      "Key '3160778079595230735' not in persistent cache.\n",
      "Key '-3278076468960195082' not in persistent cache.\n",
      "Key '-5213922595026235320' not in persistent cache.\n",
      "Key '5900738610184910756' not in persistent cache.\n",
      "Key '-1901245504136556493' not in persistent cache.\n",
      "Key '-4205621541726807473' not in persistent cache.\n",
      "Key '2101649015774897169' not in persistent cache.\n",
      "Key '-1164586843677709676' not in persistent cache.\n",
      "Key '-3456710516132888688' not in persistent cache.\n",
      "Key '-5311956801712558917' not in persistent cache.\n",
      "Key '791033024463785777' not in persistent cache.\n",
      "Key '-7360676638205456524' not in persistent cache.\n",
      "Key '2259568636128069507' not in persistent cache.\n",
      "Key '5524400738126627813' not in persistent cache.\n",
      "Key '-3176068004522165822' not in persistent cache.\n",
      "Key '-496789695922052674' not in persistent cache.\n",
      "Key '-242552283372726711' not in persistent cache.\n",
      "Key '-4023749470009025230' not in persistent cache.\n",
      "Key '-5139107358014063577' not in persistent cache.\n",
      "Key '-4975775876147266307' not in persistent cache.\n",
      "Key '-8666067132101036133' not in persistent cache.\n",
      "Key '5530270132927553401' not in persistent cache.\n",
      "Key '-9046122336330541202' not in persistent cache.\n",
      "Key '-7100239452173495605' not in persistent cache.\n",
      "Key '-7007405467428406054' not in persistent cache.\n",
      "Key '-3581169937625611336' not in persistent cache.\n",
      "Key '-2159613265071545797' not in persistent cache.\n",
      "Key '-1262886358761680976' not in persistent cache.\n",
      "Key '-5044083545397979495' not in persistent cache.\n",
      "Key '2165277225103674600' not in persistent cache.\n",
      "Key '5495510764221002912' not in persistent cache.\n",
      "Key '8760342866219561218' not in persistent cache.\n",
      "Key '7105903412205624408' not in persistent cache.\n",
      "Key '2739152432170880731' not in persistent cache.\n",
      "Key '2993389844720206694' not in persistent cache.\n",
      "Key '6258221946718765000' not in persistent cache.\n",
      "Key '-1903165229921130172' not in persistent cache.\n",
      "Key '5306195540580523923' not in persistent cache.\n",
      "Key '1615904284626754097' not in persistent cache.\n",
      "Key '-4235797328266654083' not in persistent cache.\n",
      "Key '6636911678275129593' not in persistent cache.\n",
      "Key '1580437160341848527' not in persistent cache.\n",
      "Key '-2725086237897430050' not in persistent cache.\n",
      "Key '5099506674889732796' not in persistent cache.\n",
      "Key '6521063347443798335' not in persistent cache.\n",
      "Key '-4026596417865561797' not in persistent cache.\n",
      "Key '3636593067117364637' not in persistent cache.\n",
      "Key '-7600790236090532884' not in persistent cache.\n",
      "Key '-8668914079957572700' not in persistent cache.\n",
      "Key '-1005724594974646266' not in persistent cache.\n",
      "Key '-2660164048988583076' not in persistent cache.\n",
      "Key '-7026915029023326753' not in persistent cache.\n",
      "Key '7275709074251182698' not in persistent cache.\n",
      "Key '-3507845514475442484' not in persistent cache.\n",
      "Key '6777511382594213960' not in persistent cache.\n",
      "Key '-4459871920613683561' not in persistent cache.\n",
      "Key '-8150163176567453387' not in persistent cache.\n",
      "Key '6491359405073530853' not in persistent cache.\n",
      "Key '-8085033064184563750' not in persistent cache.\n",
      "Key '5305236491591706800' not in persistent cache.\n",
      "Key '999713093352428223' not in persistent cache.\n",
      "Key '1778276717504734244' not in persistent cache.\n",
      "Key '-8200881395015895008' not in persistent cache.\n",
      "Key '-301797086615703524' not in persistent cache.\n",
      "Key '7361392398367222910' not in persistent cache.\n",
      "Key '3126366497249652052' not in persistent cache.\n",
      "Key '-4944114748707714427' not in persistent cache.\n",
      "Key '-4326954552359644818' not in persistent cache.\n",
      "Key '-5981394006373581628' not in persistent cache.\n",
      "Key '-3302115697773468480' not in persistent cache.\n",
      "Key '-7446235668208510645' not in persistent cache.\n",
      "Key '-6829075471860441036' not in persistent cache.\n",
      "Key '3456281425209215408' not in persistent cache.\n",
      "Key '6267284812726501375' not in persistent cache.\n",
      "Key '6975350939757099677' not in persistent cache.\n",
      "Key '6680502607470989377' not in persistent cache.\n",
      "Key '-893532459696778563' not in persistent cache.\n",
      "Key '-5950006977630059629' not in persistent cache.\n",
      "Key '8191213697840213410' not in persistent cache.\n",
      "Key '-2430937463082175360' not in persistent cache.\n",
      "Key '-1009380790528109821' not in persistent cache.\n",
      "Key '6889703517872081663' not in persistent cache.\n",
      "Key '-3893851070854543519' not in persistent cache.\n",
      "Key '3315509699647110576' not in persistent cache.\n",
      "Key '2247385855780070760' not in persistent cache.\n",
      "Key '-8536168732946554422' not in persistent cache.\n",
      "Key '8256135886749060384' not in persistent cache.\n",
      "Key '3889384906714316707' not in persistent cache.\n",
      "Key '-254735063720725458' not in persistent cache.\n",
      "Key '7408454421262200976' not in persistent cache.\n",
      "Key '-752932755377694196' not in persistent cache.\n",
      "Key '6456428015123959899' not in persistent cache.\n",
      "Key '2766136759170190073' not in persistent cache.\n",
      "Key '-6692255217743226465' not in persistent cache.\n",
      "Key '-2821903613291769452' not in persistent cache.\n",
      "Key '6170008559500132970' not in persistent cache.\n",
      "Key '6262842544245222521' not in persistent cache.\n",
      "Key '2643048785413160414' not in persistent cache.\n",
      "Key '-2937751944123100710' not in persistent cache.\n",
      "Key '4961332364277090774' not in persistent cache.\n",
      "Key '8226164466275649080' not in persistent cache.\n",
      "Key '8389495948142446350' not in persistent cache.\n",
      "Key '319014702185079871' not in persistent cache.\n",
      "Key '936174898533149480' not in persistent cache.\n",
      "Key '-5116621938465155458' not in persistent cache.\n",
      "Key '-2437343629865042310' not in persistent cache.\n",
      "Key '-2183106217315716347' not in persistent cache.\n",
      "Key '-5964303403952014866' not in persistent cache.\n",
      "Key '-2681303908972685085' not in persistent cache.\n",
      "Key '-6916329810090255943' not in persistent cache.\n",
      "Key '-6208263683059657641' not in persistent cache.\n",
      "Key '-3655905123838377747' not in persistent cache.\n",
      "Key '6045311811825842362' not in persistent cache.\n",
      "Key '2274463902981479059' not in persistent cache.\n",
      "Key '8375490639959284298' not in persistent cache.\n",
      "Key '-8238079574412383350' not in persistent cache.\n",
      "Key '-4367727969960926337' not in persistent cache.\n",
      "Key '1976512297180487388' not in persistent cache.\n",
      "Key '-2329011101058791189' not in persistent cache.\n",
      "Key '5495581811728371657' not in persistent cache.\n",
      "Key '6917138484282437196' not in persistent cache.\n",
      "Key '3415508007607933889' not in persistent cache.\n",
      "Key '4032668203956003498' not in persistent cache.\n",
      "Key '6843671591473289465' not in persistent cache.\n",
      "Key '-8272838943118933839' not in persistent cache.\n",
      "Key '-609649458136007405' not in persistent cache.\n",
      "Key '-2264088912149944215' not in persistent cache.\n",
      "Key '-6630839892184687892' not in persistent cache.\n",
      "Key '7671784211089821559' not in persistent cache.\n",
      "Key '-3111770377636803623' not in persistent cache.\n",
      "Key '7173586519432852821' not in persistent cache.\n",
      "Key '-8462154166759412828' not in persistent cache.\n",
      "Key '-7754088039728814526' not in persistent cache.\n",
      "Key '-6753068484223543005' not in persistent cache.\n",
      "Key '-2882716879772085992' not in persistent cache.\n",
      "Key '6109195293019816430' not in persistent cache.\n",
      "Key '6202029277764905981' not in persistent cache.\n",
      "Key '2582235518932843874' not in persistent cache.\n",
      "Key '-2998565210603417250' not in persistent cache.\n",
      "Key '4900519097796774234' not in persistent cache.\n",
      "Key '8165351199795332540' not in persistent cache.\n",
      "Key '8328682681662129810' not in persistent cache.\n",
      "Key '258201435704763331' not in persistent cache.\n",
      "Key '875361632052832940' not in persistent cache.\n",
      "Key '-5177435204945471998' not in persistent cache.\n",
      "Key '-2498156896345358850' not in persistent cache.\n",
      "Key '-2243919483796032887' not in persistent cache.\n",
      "Key '-6025116670432331406' not in persistent cache.\n",
      "Key '-2742117175453001625' not in persistent cache.\n",
      "Key '-6977143076570572483' not in persistent cache.\n",
      "Key '-6269076949539974181' not in persistent cache.\n",
      "Key '1484121106988724268' not in persistent cache.\n",
      "Key '-1691556577194675544' not in persistent cache.\n",
      "Key '7300355595597226878' not in persistent cache.\n",
      "Key '7393189580342316429' not in persistent cache.\n",
      "Key '-7627318963564440469' not in persistent cache.\n",
      "Key '-6205762291010374930' not in persistent cache.\n",
      "Key '6091679400374184682' not in persistent cache.\n",
      "Key '-9090232571336808628' not in persistent cache.\n",
      "Key '-1880871800835154533' not in persistent cache.\n",
      "Key '1449361738282173779' not in persistent cache.\n",
      "Key '4714193840280732085' not in persistent cache.\n",
      "Key '3059754386266795275' not in persistent cache.\n",
      "Key '-1306996593767948402' not in persistent cache.\n",
      "Key '-1052759181218622439' not in persistent cache.\n",
      "Key '2212072920779935867' not in persistent cache.\n",
      "Key '-5949314255859959305' not in persistent cache.\n",
      "Key '1260046514641694790' not in persistent cache.\n",
      "Key '-2430244741312075036' not in persistent cache.\n",
      "Key '-2993941504647200369' not in persistent cache.\n",
      "Key '-3521947283180111484' not in persistent cache.\n",
      "Key '2822292983961302241' not in persistent cache.\n",
      "Key '-1483230414277976336' not in persistent cache.\n",
      "Key '6341362498509186510' not in persistent cache.\n",
      "Key '7762919171063252049' not in persistent cache.\n",
      "Key '4261288694388748742' not in persistent cache.\n",
      "Key '4878448890736818351' not in persistent cache.\n",
      "Key '7689452278254104318' not in persistent cache.\n",
      "Key '-7427058256338118986' not in persistent cache.\n",
      "Key '236131228644807448' not in persistent cache.\n",
      "Key '-1418308225369129362' not in persistent cache.\n",
      "Key '-5785059205403873039' not in persistent cache.\n",
      "Key '8517564897870636412' not in persistent cache.\n",
      "Key '-2265989690855988770' not in persistent cache.\n",
      "Key '8019367206213667674' not in persistent cache.\n",
      "Key '-3218016096994229847' not in persistent cache.\n",
      "Key '-6908307352947999673' not in persistent cache.\n",
      "Key '-6215923182995106164' not in persistent cache.\n",
      "Key '-7998867337976309814' not in persistent cache.\n",
      "Key '1783031002148913971' not in persistent cache.\n",
      "Key '7866756876252718015' not in persistent cache.\n",
      "Key '7413582636561498157' not in persistent cache.\n",
      "Key '1312944631066189891' not in persistent cache.\n",
      "Key '3828836193703164256' not in persistent cache.\n",
      "Key '-6305266328136705533' not in persistent cache.\n",
      "Key '-9092821340886421862' not in persistent cache.\n",
      "Key '5763251624502103407' not in persistent cache.\n",
      "Key '501610613211909600' not in persistent cache.\n",
      "Key '4095386759734617479' not in persistent cache.\n",
      "Key '3681682774502185415' not in persistent cache.\n",
      "Key '2829673898410166055' not in persistent cache.\n",
      "Key '-8428797313180043738' not in persistent cache.\n",
      "Key '-7232704802084006225' not in persistent cache.\n",
      "Key '1067750353825787132' not in persistent cache.\n",
      "Key '-7742130998739748458' not in persistent cache.\n",
      "Key '-1743425552178916787' not in persistent cache.\n",
      "Key '705240657255778664' not in persistent cache.\n",
      "Key '5366504099655989621' not in persistent cache.\n",
      "Key '-7459845658296131801' not in persistent cache.\n",
      "Key '5378470145996991521' not in persistent cache.\n",
      "Key '-5202109230089219884' not in persistent cache.\n",
      "Key '6203547817811034545' not in persistent cache.\n",
      "Key '5165801973068611467' not in persistent cache.\n",
      "Key '4785992405879335973' not in persistent cache.\n",
      "Key '7317657339874938829' not in persistent cache.\n",
      "Key '-931418084481738750' not in persistent cache.\n",
      "Key '-3540486738175855060' not in persistent cache.\n",
      "Key '-688371200117049488' not in persistent cache.\n",
      "Key '-9021434741955824896' not in persistent cache.\n",
      "Key '-4886026538253486197' not in persistent cache.\n",
      "Key '6972192489170066362' not in persistent cache.\n",
      "Key '2146092566114622072' not in persistent cache.\n",
      "Key '7846602538717938355' not in persistent cache.\n",
      "Key '1045209164393800452' not in persistent cache.\n",
      "Key '4093050856518091712' not in persistent cache.\n",
      "Key '-1714450110313895804' not in persistent cache.\n",
      "Key '7971504496655362977' not in persistent cache.\n",
      "Key '6081650611250360757' not in persistent cache.\n",
      "Key '6265031448808227701' not in persistent cache.\n",
      "Key '-1119382343227753904' not in persistent cache.\n",
      "Key '-4622178372150873112' not in persistent cache.\n",
      "Key '-2910439288147178989' not in persistent cache.\n",
      "Key '2152397615838706588' not in persistent cache.\n",
      "Key '625305289468491111' not in persistent cache.\n",
      "Key '-176886222770194553' not in persistent cache.\n",
      "Key '5382533141480497067' not in persistent cache.\n",
      "Key '-2336065969080290372' not in persistent cache.\n",
      "Key '-189135904374189051' not in persistent cache.\n",
      "Key '106204365409873525' not in persistent cache.\n",
      "Key '-3895024562082491818' not in persistent cache.\n",
      "Key '-500575721625884660' not in persistent cache.\n",
      "Key '2908604788747500966' not in persistent cache.\n",
      "Key '-8885881541601149880' not in persistent cache.\n",
      "Key '-2492174525394199445' not in persistent cache.\n",
      "Key '8695687609134989534' not in persistent cache.\n",
      "Key '4038020467283405628' not in persistent cache.\n",
      "Key '8152423425193814683' not in persistent cache.\n",
      "Key '-2015375015495849913' not in persistent cache.\n",
      "Key '-8225850650593865251' not in persistent cache.\n",
      "Key '7286669928701825411' not in persistent cache.\n",
      "Key '-6743527440809305014' not in persistent cache.\n",
      "Key '2331684709675279232' not in persistent cache.\n",
      "Key '-6173473796932239902' not in persistent cache.\n",
      "Key '-3655817276982632906' not in persistent cache.\n",
      "Key '1230641700934305349' not in persistent cache.\n",
      "Key '-1215961592572634272' not in persistent cache.\n",
      "Key '4409809457255366327' not in persistent cache.\n",
      "Key '1089700917147806347' not in persistent cache.\n",
      "Key '-8210273557776483528' not in persistent cache.\n",
      "Key '5065890613340215337' not in persistent cache.\n",
      "Key '-2368893893179638481' not in persistent cache.\n",
      "Key '690818868341273135' not in persistent cache.\n",
      "Key '-2907090491990276095' not in persistent cache.\n",
      "Key '6123968770092271733' not in persistent cache.\n",
      "Key '5319335233188502941' not in persistent cache.\n",
      "Key '1921723074272460092' not in persistent cache.\n",
      "Key '-7963676705108380076' not in persistent cache.\n",
      "Key '8794431394564626074' not in persistent cache.\n",
      "Key '-5317591961342867822' not in persistent cache.\n",
      "Key '-5362264238968585603' not in persistent cache.\n",
      "Key '-8051041137707129476' not in persistent cache.\n",
      "Key '-7423437978892099244' not in persistent cache.\n",
      "Key '-5560742503716716740' not in persistent cache.\n",
      "Key '-6909547332959003070' not in persistent cache.\n",
      "Key '-4365750820942700009' not in persistent cache.\n",
      "Key '7672214566104268653' not in persistent cache.\n",
      "Key '-8942613157375549219' not in persistent cache.\n",
      "Key '7013732935386838515' not in persistent cache.\n",
      "Key '-628750114986549579' not in persistent cache.\n",
      "Key '2627406341422217027' not in persistent cache.\n",
      "Key '3160778079595230735' not in persistent cache.\n",
      "Key '-3278076468960195082' not in persistent cache.\n",
      "Key '-5213922595026235320' not in persistent cache.\n",
      "Key '5900738610184910756' not in persistent cache.\n",
      "Key '-1901245504136556493' not in persistent cache.\n",
      "Key '-4205621541726807473' not in persistent cache.\n",
      "Key '2101649015774897169' not in persistent cache.\n",
      "Key '-1164586843677709676' not in persistent cache.\n",
      "Key '-3456710516132888688' not in persistent cache.\n",
      "Key '-5311956801712558917' not in persistent cache.\n",
      "Key '791033024463785777' not in persistent cache.\n",
      "Key '-7360676638205456524' not in persistent cache.\n",
      "Key '2259568636128069507' not in persistent cache.\n",
      "Key '5524400738126627813' not in persistent cache.\n",
      "Key '-3176068004522165822' not in persistent cache.\n",
      "Key '-496789695922052674' not in persistent cache.\n",
      "Key '-242552283372726711' not in persistent cache.\n",
      "Key '-4023749470009025230' not in persistent cache.\n",
      "Key '-5139107358014063577' not in persistent cache.\n",
      "Key '-4975775876147266307' not in persistent cache.\n",
      "Key '-8666067132101036133' not in persistent cache.\n",
      "Key '5530270132927553401' not in persistent cache.\n",
      "Key '-9046122336330541202' not in persistent cache.\n",
      "Key '-7100239452173495605' not in persistent cache.\n",
      "Key '-7007405467428406054' not in persistent cache.\n",
      "Key '-3581169937625611336' not in persistent cache.\n",
      "Key '-2159613265071545797' not in persistent cache.\n",
      "Key '-1262886358761680976' not in persistent cache.\n",
      "Key '-5044083545397979495' not in persistent cache.\n",
      "Key '2165277225103674600' not in persistent cache.\n",
      "Key '5495510764221002912' not in persistent cache.\n",
      "Key '8760342866219561218' not in persistent cache.\n",
      "Key '7105903412205624408' not in persistent cache.\n",
      "Key '2739152432170880731' not in persistent cache.\n",
      "Key '2993389844720206694' not in persistent cache.\n",
      "Key '6258221946718765000' not in persistent cache.\n",
      "Key '-1903165229921130172' not in persistent cache.\n",
      "Key '5306195540580523923' not in persistent cache.\n",
      "Key '1615904284626754097' not in persistent cache.\n",
      "Key '-4235797328266654083' not in persistent cache.\n",
      "Key '6636911678275129593' not in persistent cache.\n",
      "Key '1580437160341848527' not in persistent cache.\n",
      "Key '-2725086237897430050' not in persistent cache.\n",
      "Key '5099506674889732796' not in persistent cache.\n",
      "Key '6521063347443798335' not in persistent cache.\n",
      "Key '-4026596417865561797' not in persistent cache.\n",
      "Key '3636593067117364637' not in persistent cache.\n",
      "Key '-7600790236090532884' not in persistent cache.\n",
      "Key '-8668914079957572700' not in persistent cache.\n",
      "Key '-1005724594974646266' not in persistent cache.\n",
      "Key '-2660164048988583076' not in persistent cache.\n",
      "Key '-7026915029023326753' not in persistent cache.\n",
      "Key '7275709074251182698' not in persistent cache.\n",
      "Key '-3507845514475442484' not in persistent cache.\n",
      "Key '6777511382594213960' not in persistent cache.\n",
      "Key '-4459871920613683561' not in persistent cache.\n",
      "Key '-8150163176567453387' not in persistent cache.\n",
      "Key '6491359405073530853' not in persistent cache.\n",
      "Key '-8085033064184563750' not in persistent cache.\n",
      "Key '5305236491591706800' not in persistent cache.\n",
      "Key '999713093352428223' not in persistent cache.\n",
      "Key '1778276717504734244' not in persistent cache.\n",
      "Key '-8200881395015895008' not in persistent cache.\n",
      "Key '-301797086615703524' not in persistent cache.\n",
      "Key '7361392398367222910' not in persistent cache.\n",
      "Key '3126366497249652052' not in persistent cache.\n",
      "Key '-4944114748707714427' not in persistent cache.\n",
      "Key '-4326954552359644818' not in persistent cache.\n",
      "Key '-5981394006373581628' not in persistent cache.\n",
      "Key '-3302115697773468480' not in persistent cache.\n",
      "Key '-7446235668208510645' not in persistent cache.\n",
      "Key '-6829075471860441036' not in persistent cache.\n",
      "Key '3456281425209215408' not in persistent cache.\n",
      "Key '6267284812726501375' not in persistent cache.\n",
      "Key '6975350939757099677' not in persistent cache.\n",
      "Key '6680502607470989377' not in persistent cache.\n",
      "Key '-893532459696778563' not in persistent cache.\n",
      "Key '-5950006977630059629' not in persistent cache.\n",
      "Key '8191213697840213410' not in persistent cache.\n",
      "Key '-2430937463082175360' not in persistent cache.\n",
      "Key '-1009380790528109821' not in persistent cache.\n",
      "Key '6889703517872081663' not in persistent cache.\n",
      "Key '-3893851070854543519' not in persistent cache.\n",
      "Key '3315509699647110576' not in persistent cache.\n",
      "Key '2247385855780070760' not in persistent cache.\n",
      "Key '-8536168732946554422' not in persistent cache.\n",
      "Key '8256135886749060384' not in persistent cache.\n",
      "Key '3889384906714316707' not in persistent cache.\n",
      "Key '-254735063720725458' not in persistent cache.\n",
      "Key '7408454421262200976' not in persistent cache.\n",
      "Key '-752932755377694196' not in persistent cache.\n",
      "Key '6456428015123959899' not in persistent cache.\n",
      "Key '2766136759170190073' not in persistent cache.\n",
      "Key '-6692255217743226465' not in persistent cache.\n",
      "Key '-2821903613291769452' not in persistent cache.\n",
      "Key '6170008559500132970' not in persistent cache.\n",
      "Key '6262842544245222521' not in persistent cache.\n",
      "Key '2643048785413160414' not in persistent cache.\n",
      "Key '-2937751944123100710' not in persistent cache.\n",
      "Key '4961332364277090774' not in persistent cache.\n",
      "Key '8226164466275649080' not in persistent cache.\n",
      "Key '8389495948142446350' not in persistent cache.\n",
      "Key '319014702185079871' not in persistent cache.\n",
      "Key '936174898533149480' not in persistent cache.\n",
      "Key '-5116621938465155458' not in persistent cache.\n",
      "Key '-2437343629865042310' not in persistent cache.\n",
      "Key '-2183106217315716347' not in persistent cache.\n",
      "Key '-5964303403952014866' not in persistent cache.\n",
      "Key '-2681303908972685085' not in persistent cache.\n",
      "Key '-6916329810090255943' not in persistent cache.\n",
      "Key '-6208263683059657641' not in persistent cache.\n",
      "Key '-3655905123838377747' not in persistent cache.\n",
      "Key '6045311811825842362' not in persistent cache.\n",
      "Key '2274463902981479059' not in persistent cache.\n",
      "Key '8375490639959284298' not in persistent cache.\n",
      "Key '-8238079574412383350' not in persistent cache.\n",
      "Key '-4367727969960926337' not in persistent cache.\n",
      "Key '1976512297180487388' not in persistent cache.\n",
      "Key '-2329011101058791189' not in persistent cache.\n",
      "Key '5495581811728371657' not in persistent cache.\n",
      "Key '6917138484282437196' not in persistent cache.\n",
      "Key '3415508007607933889' not in persistent cache.\n",
      "Key '4032668203956003498' not in persistent cache.\n",
      "Key '6843671591473289465' not in persistent cache.\n",
      "Key '-8272838943118933839' not in persistent cache.\n",
      "Key '-609649458136007405' not in persistent cache.\n",
      "Key '-2264088912149944215' not in persistent cache.\n",
      "Key '-6630839892184687892' not in persistent cache.\n",
      "Key '7671784211089821559' not in persistent cache.\n",
      "Key '-3111770377636803623' not in persistent cache.\n",
      "Key '7173586519432852821' not in persistent cache.\n",
      "Key '-8462154166759412828' not in persistent cache.\n",
      "Key '-7754088039728814526' not in persistent cache.\n",
      "Key '-6753068484223543005' not in persistent cache.\n",
      "Key '-2882716879772085992' not in persistent cache.\n",
      "Key '6109195293019816430' not in persistent cache.\n",
      "Key '6202029277764905981' not in persistent cache.\n",
      "Key '2582235518932843874' not in persistent cache.\n",
      "Key '-2998565210603417250' not in persistent cache.\n",
      "Key '4900519097796774234' not in persistent cache.\n",
      "Key '8165351199795332540' not in persistent cache.\n",
      "Key '8328682681662129810' not in persistent cache.\n",
      "Key '258201435704763331' not in persistent cache.\n",
      "Key '875361632052832940' not in persistent cache.\n",
      "Key '-5177435204945471998' not in persistent cache.\n",
      "Key '-2498156896345358850' not in persistent cache.\n",
      "Key '-2243919483796032887' not in persistent cache.\n",
      "Key '-6025116670432331406' not in persistent cache.\n",
      "Key '-2742117175453001625' not in persistent cache.\n",
      "Key '-6977143076570572483' not in persistent cache.\n",
      "Key '-6269076949539974181' not in persistent cache.\n",
      "Key '1484121106988724268' not in persistent cache.\n",
      "Key '-1691556577194675544' not in persistent cache.\n",
      "Key '7300355595597226878' not in persistent cache.\n",
      "Key '7393189580342316429' not in persistent cache.\n",
      "Key '-7627318963564440469' not in persistent cache.\n",
      "Key '-6205762291010374930' not in persistent cache.\n",
      "Key '6091679400374184682' not in persistent cache.\n",
      "Key '-9090232571336808628' not in persistent cache.\n",
      "Key '-1880871800835154533' not in persistent cache.\n",
      "Key '1449361738282173779' not in persistent cache.\n",
      "Key '4714193840280732085' not in persistent cache.\n",
      "Key '3059754386266795275' not in persistent cache.\n",
      "Key '-1306996593767948402' not in persistent cache.\n",
      "Key '-1052759181218622439' not in persistent cache.\n",
      "Key '2212072920779935867' not in persistent cache.\n",
      "Key '-5949314255859959305' not in persistent cache.\n",
      "Key '1260046514641694790' not in persistent cache.\n",
      "Key '-2430244741312075036' not in persistent cache.\n",
      "Key '-2993941504647200369' not in persistent cache.\n",
      "Key '-3521947283180111484' not in persistent cache.\n",
      "Key '2822292983961302241' not in persistent cache.\n",
      "Key '-1483230414277976336' not in persistent cache.\n",
      "Key '6341362498509186510' not in persistent cache.\n",
      "Key '7762919171063252049' not in persistent cache.\n",
      "Key '4261288694388748742' not in persistent cache.\n",
      "Key '4878448890736818351' not in persistent cache.\n",
      "Key '7689452278254104318' not in persistent cache.\n",
      "Key '-7427058256338118986' not in persistent cache.\n",
      "Key '236131228644807448' not in persistent cache.\n",
      "Key '-1418308225369129362' not in persistent cache.\n",
      "Key '-5785059205403873039' not in persistent cache.\n",
      "Key '8517564897870636412' not in persistent cache.\n",
      "Key '-2265989690855988770' not in persistent cache.\n",
      "Key '8019367206213667674' not in persistent cache.\n",
      "Key '-3218016096994229847' not in persistent cache.\n",
      "Key '-6908307352947999673' not in persistent cache.\n",
      "Key '-6215923182995106164' not in persistent cache.\n",
      "Key '-7998867337976309814' not in persistent cache.\n",
      "Key '1783031002148913971' not in persistent cache.\n",
      "Key '7866756876252718015' not in persistent cache.\n",
      "Key '7413582636561498157' not in persistent cache.\n",
      "Key '1312944631066189891' not in persistent cache.\n",
      "Key '3828836193703164256' not in persistent cache.\n",
      "Key '-6305266328136705533' not in persistent cache.\n",
      "Key '-9092821340886421862' not in persistent cache.\n",
      "Key '5763251624502103407' not in persistent cache.\n",
      "Key '501610613211909600' not in persistent cache.\n",
      "Key '4095386759734617479' not in persistent cache.\n",
      "Key '3681682774502185415' not in persistent cache.\n",
      "Key '2829673898410166055' not in persistent cache.\n",
      "Key '-8428797313180043738' not in persistent cache.\n",
      "Key '-7232704802084006225' not in persistent cache.\n",
      "Key '1067750353825787132' not in persistent cache.\n",
      "Key '-7742130998739748458' not in persistent cache.\n",
      "Key '-1743425552178916787' not in persistent cache.\n",
      "Key '705240657255778664' not in persistent cache.\n",
      "Key '5366504099655989621' not in persistent cache.\n",
      "Key '-7459845658296131801' not in persistent cache.\n",
      "Key '5378470145996991521' not in persistent cache.\n",
      "Key '-5202109230089219884' not in persistent cache.\n",
      "Key '6203547817811034545' not in persistent cache.\n",
      "Key '5165801973068611467' not in persistent cache.\n",
      "Key '4785992405879335973' not in persistent cache.\n",
      "Key '7317657339874938829' not in persistent cache.\n",
      "Key '-931418084481738750' not in persistent cache.\n",
      "Key '-3540486738175855060' not in persistent cache.\n",
      "Key '-688371200117049488' not in persistent cache.\n",
      "Key '-9021434741955824896' not in persistent cache.\n",
      "Key '-4886026538253486197' not in persistent cache.\n",
      "Key '6972192489170066362' not in persistent cache.\n",
      "Key '2146092566114622072' not in persistent cache.\n",
      "Key '7846602538717938355' not in persistent cache.\n",
      "Key '1045209164393800452' not in persistent cache.\n",
      "Key '4093050856518091712' not in persistent cache.\n",
      "Key '-1714450110313895804' not in persistent cache.\n",
      "Key '7971504496655362977' not in persistent cache.\n",
      "Key '6081650611250360757' not in persistent cache.\n",
      "Key '6265031448808227701' not in persistent cache.\n",
      "Key '-1119382343227753904' not in persistent cache.\n",
      "Key '-4622178372150873112' not in persistent cache.\n",
      "Key '-2910439288147178989' not in persistent cache.\n",
      "Key '2152397615838706588' not in persistent cache.\n",
      "Key '625305289468491111' not in persistent cache.\n",
      "Key '-176886222770194553' not in persistent cache.\n",
      "Key '5382533141480497067' not in persistent cache.\n",
      "Key '-2336065969080290372' not in persistent cache.\n",
      "Key '-189135904374189051' not in persistent cache.\n",
      "Key '106204365409873525' not in persistent cache.\n",
      "Key '-3895024562082491818' not in persistent cache.\n",
      "Key '-500575721625884660' not in persistent cache.\n",
      "Key '2908604788747500966' not in persistent cache.\n",
      "Key '-8885881541601149880' not in persistent cache.\n",
      "Key '-2492174525394199445' not in persistent cache.\n",
      "Key '8695687609134989534' not in persistent cache.\n",
      "Key '4038020467283405628' not in persistent cache.\n",
      "Key '8152423425193814683' not in persistent cache.\n",
      "Key '-2015375015495849913' not in persistent cache.\n",
      "Key '-8225850650593865251' not in persistent cache.\n",
      "Key '7286669928701825411' not in persistent cache.\n",
      "Key '-6743527440809305014' not in persistent cache.\n",
      "Key '2331684709675279232' not in persistent cache.\n",
      "Key '-6173473796932239902' not in persistent cache.\n",
      "Key '-3655817276982632906' not in persistent cache.\n",
      "Key '1230641700934305349' not in persistent cache.\n",
      "Key '-1215961592572634272' not in persistent cache.\n",
      "Key '4409809457255366327' not in persistent cache.\n",
      "Key '1089700917147806347' not in persistent cache.\n",
      "Key '-8210273557776483528' not in persistent cache.\n",
      "Key '5065890613340215337' not in persistent cache.\n",
      "Key '-2368893893179638481' not in persistent cache.\n",
      "Key '690818868341273135' not in persistent cache.\n",
      "Key '-2907090491990276095' not in persistent cache.\n",
      "Key '6123968770092271733' not in persistent cache.\n",
      "Key '5319335233188502941' not in persistent cache.\n",
      "Key '1921723074272460092' not in persistent cache.\n",
      "Key '-7963676705108380076' not in persistent cache.\n",
      "Key '8794431394564626074' not in persistent cache.\n",
      "Key '-5317591961342867822' not in persistent cache.\n",
      "Key '-5362264238968585603' not in persistent cache.\n",
      "Key '-8051041137707129476' not in persistent cache.\n",
      "Key '-7423437978892099244' not in persistent cache.\n",
      "Key '-5560742503716716740' not in persistent cache.\n",
      "Key '-6909547332959003070' not in persistent cache.\n",
      "Key '-4365750820942700009' not in persistent cache.\n",
      "Key '7672214566104268653' not in persistent cache.\n",
      "Key '-8942613157375549219' not in persistent cache.\n",
      "Key '7013732935386838515' not in persistent cache.\n",
      "Key '-628750114986549579' not in persistent cache.\n",
      "Key '2627406341422217027' not in persistent cache.\n",
      "Key '3160778079595230735' not in persistent cache.\n",
      "Key '-3278076468960195082' not in persistent cache.\n",
      "Key '-5213922595026235320' not in persistent cache.\n",
      "Key '5900738610184910756' not in persistent cache.\n",
      "Key '-1901245504136556493' not in persistent cache.\n",
      "Key '-4205621541726807473' not in persistent cache.\n",
      "Key '2101649015774897169' not in persistent cache.\n",
      "Key '-1164586843677709676' not in persistent cache.\n",
      "Key '-3456710516132888688' not in persistent cache.\n",
      "Key '-5311956801712558917' not in persistent cache.\n",
      "Key '791033024463785777' not in persistent cache.\n",
      "Key '-7360676638205456524' not in persistent cache.\n",
      "Key '2259568636128069507' not in persistent cache.\n",
      "Key '5524400738126627813' not in persistent cache.\n",
      "Key '-3176068004522165822' not in persistent cache.\n",
      "Key '-496789695922052674' not in persistent cache.\n",
      "Key '-242552283372726711' not in persistent cache.\n",
      "Key '-4023749470009025230' not in persistent cache.\n",
      "Key '-5139107358014063577' not in persistent cache.\n",
      "Key '-4975775876147266307' not in persistent cache.\n",
      "Key '-8666067132101036133' not in persistent cache.\n",
      "Key '5530270132927553401' not in persistent cache.\n",
      "Key '-9046122336330541202' not in persistent cache.\n",
      "Key '-7100239452173495605' not in persistent cache.\n",
      "Key '-7007405467428406054' not in persistent cache.\n",
      "Key '-3581169937625611336' not in persistent cache.\n",
      "Key '-2159613265071545797' not in persistent cache.\n",
      "Key '-1262886358761680976' not in persistent cache.\n",
      "Key '-5044083545397979495' not in persistent cache.\n",
      "Key '2165277225103674600' not in persistent cache.\n",
      "Key '5495510764221002912' not in persistent cache.\n",
      "Key '8760342866219561218' not in persistent cache.\n",
      "Key '7105903412205624408' not in persistent cache.\n",
      "Key '2739152432170880731' not in persistent cache.\n",
      "Key '2993389844720206694' not in persistent cache.\n",
      "Key '6258221946718765000' not in persistent cache.\n",
      "Key '-1903165229921130172' not in persistent cache.\n",
      "Key '5306195540580523923' not in persistent cache.\n",
      "Key '1615904284626754097' not in persistent cache.\n",
      "Key '-4235797328266654083' not in persistent cache.\n",
      "Key '6636911678275129593' not in persistent cache.\n",
      "Key '1580437160341848527' not in persistent cache.\n",
      "Key '-2725086237897430050' not in persistent cache.\n",
      "Key '5099506674889732796' not in persistent cache.\n",
      "Key '6521063347443798335' not in persistent cache.\n",
      "Key '-4026596417865561797' not in persistent cache.\n",
      "Key '3636593067117364637' not in persistent cache.\n",
      "Key '-7600790236090532884' not in persistent cache.\n",
      "Key '-8668914079957572700' not in persistent cache.\n",
      "Key '-1005724594974646266' not in persistent cache.\n",
      "Key '-2660164048988583076' not in persistent cache.\n",
      "Key '-7026915029023326753' not in persistent cache.\n",
      "Key '7275709074251182698' not in persistent cache.\n",
      "Key '-3507845514475442484' not in persistent cache.\n",
      "Key '6777511382594213960' not in persistent cache.\n",
      "Key '-4459871920613683561' not in persistent cache.\n",
      "Key '-8150163176567453387' not in persistent cache.\n",
      "Key '6491359405073530853' not in persistent cache.\n",
      "Key '-8085033064184563750' not in persistent cache.\n",
      "Key '5305236491591706800' not in persistent cache.\n",
      "Key '999713093352428223' not in persistent cache.\n",
      "Key '1778276717504734244' not in persistent cache.\n",
      "Key '-8200881395015895008' not in persistent cache.\n",
      "Key '-301797086615703524' not in persistent cache.\n",
      "Key '7361392398367222910' not in persistent cache.\n",
      "Key '3126366497249652052' not in persistent cache.\n",
      "Key '-4944114748707714427' not in persistent cache.\n",
      "Key '-4326954552359644818' not in persistent cache.\n",
      "Key '-5981394006373581628' not in persistent cache.\n",
      "Key '-3302115697773468480' not in persistent cache.\n",
      "Key '-7446235668208510645' not in persistent cache.\n",
      "Key '-6829075471860441036' not in persistent cache.\n",
      "Key '3456281425209215408' not in persistent cache.\n",
      "Key '6267284812726501375' not in persistent cache.\n",
      "Key '6975350939757099677' not in persistent cache.\n",
      "Key '6680502607470989377' not in persistent cache.\n",
      "Key '-893532459696778563' not in persistent cache.\n",
      "Key '-5950006977630059629' not in persistent cache.\n",
      "Key '8191213697840213410' not in persistent cache.\n",
      "Key '-2430937463082175360' not in persistent cache.\n",
      "Key '-1009380790528109821' not in persistent cache.\n",
      "Key '6889703517872081663' not in persistent cache.\n",
      "Key '-3893851070854543519' not in persistent cache.\n",
      "Key '3315509699647110576' not in persistent cache.\n",
      "Key '2247385855780070760' not in persistent cache.\n",
      "Key '-8536168732946554422' not in persistent cache.\n",
      "Key '8256135886749060384' not in persistent cache.\n",
      "Key '3889384906714316707' not in persistent cache.\n",
      "Key '-254735063720725458' not in persistent cache.\n",
      "Key '7408454421262200976' not in persistent cache.\n",
      "Key '-752932755377694196' not in persistent cache.\n",
      "Key '6456428015123959899' not in persistent cache.\n",
      "Key '2766136759170190073' not in persistent cache.\n",
      "Key '-6692255217743226465' not in persistent cache.\n",
      "Key '-2821903613291769452' not in persistent cache.\n",
      "Key '6170008559500132970' not in persistent cache.\n",
      "Key '6262842544245222521' not in persistent cache.\n",
      "Key '2643048785413160414' not in persistent cache.\n",
      "Key '-2937751944123100710' not in persistent cache.\n",
      "Key '4961332364277090774' not in persistent cache.\n",
      "Key '8226164466275649080' not in persistent cache.\n",
      "Key '8389495948142446350' not in persistent cache.\n",
      "Key '319014702185079871' not in persistent cache.\n",
      "Key '936174898533149480' not in persistent cache.\n",
      "Key '-5116621938465155458' not in persistent cache.\n",
      "Key '-2437343629865042310' not in persistent cache.\n",
      "Key '-2183106217315716347' not in persistent cache.\n",
      "Key '-5964303403952014866' not in persistent cache.\n",
      "Key '-2681303908972685085' not in persistent cache.\n",
      "Key '-6916329810090255943' not in persistent cache.\n",
      "Key '-6208263683059657641' not in persistent cache.\n",
      "Key '-3655905123838377747' not in persistent cache.\n",
      "Key '6045311811825842362' not in persistent cache.\n",
      "Key '2274463902981479059' not in persistent cache.\n",
      "Key '8375490639959284298' not in persistent cache.\n",
      "Key '-8238079574412383350' not in persistent cache.\n",
      "Key '-4367727969960926337' not in persistent cache.\n",
      "Key '1976512297180487388' not in persistent cache.\n",
      "Key '-2329011101058791189' not in persistent cache.\n",
      "Key '5495581811728371657' not in persistent cache.\n",
      "Key '6917138484282437196' not in persistent cache.\n",
      "Key '3415508007607933889' not in persistent cache.\n",
      "Key '4032668203956003498' not in persistent cache.\n",
      "Key '6843671591473289465' not in persistent cache.\n",
      "Key '-8272838943118933839' not in persistent cache.\n",
      "Key '-609649458136007405' not in persistent cache.\n",
      "Key '-2264088912149944215' not in persistent cache.\n",
      "Key '-6630839892184687892' not in persistent cache.\n",
      "Key '7671784211089821559' not in persistent cache.\n",
      "Key '-3111770377636803623' not in persistent cache.\n",
      "Key '7173586519432852821' not in persistent cache.\n",
      "Key '-8462154166759412828' not in persistent cache.\n",
      "Key '-7754088039728814526' not in persistent cache.\n",
      "Key '-6753068484223543005' not in persistent cache.\n",
      "Key '-2882716879772085992' not in persistent cache.\n",
      "Key '6109195293019816430' not in persistent cache.\n",
      "Key '6202029277764905981' not in persistent cache.\n",
      "Key '2582235518932843874' not in persistent cache.\n",
      "Key '-2998565210603417250' not in persistent cache.\n",
      "Key '4900519097796774234' not in persistent cache.\n",
      "Key '8165351199795332540' not in persistent cache.\n",
      "Key '8328682681662129810' not in persistent cache.\n",
      "Key '258201435704763331' not in persistent cache.\n",
      "Key '875361632052832940' not in persistent cache.\n",
      "Key '-5177435204945471998' not in persistent cache.\n",
      "Key '-2498156896345358850' not in persistent cache.\n",
      "Key '-2243919483796032887' not in persistent cache.\n",
      "Key '-6025116670432331406' not in persistent cache.\n",
      "Key '-2742117175453001625' not in persistent cache.\n",
      "Key '-6977143076570572483' not in persistent cache.\n",
      "Key '-6269076949539974181' not in persistent cache.\n",
      "Key '1484121106988724268' not in persistent cache.\n",
      "Key '-1691556577194675544' not in persistent cache.\n",
      "Key '7300355595597226878' not in persistent cache.\n",
      "Key '7393189580342316429' not in persistent cache.\n",
      "Key '-7627318963564440469' not in persistent cache.\n",
      "Key '-6205762291010374930' not in persistent cache.\n",
      "Key '6091679400374184682' not in persistent cache.\n",
      "Key '-9090232571336808628' not in persistent cache.\n",
      "Key '-1880871800835154533' not in persistent cache.\n",
      "Key '1449361738282173779' not in persistent cache.\n",
      "Key '4714193840280732085' not in persistent cache.\n",
      "Key '3059754386266795275' not in persistent cache.\n",
      "Key '-1306996593767948402' not in persistent cache.\n",
      "Key '-1052759181218622439' not in persistent cache.\n",
      "Key '2212072920779935867' not in persistent cache.\n",
      "Key '-5949314255859959305' not in persistent cache.\n",
      "Key '1260046514641694790' not in persistent cache.\n",
      "Key '-2430244741312075036' not in persistent cache.\n",
      "Key '-2993941504647200369' not in persistent cache.\n",
      "Key '-3521947283180111484' not in persistent cache.\n",
      "Key '2822292983961302241' not in persistent cache.\n",
      "Key '-1483230414277976336' not in persistent cache.\n",
      "Key '6341362498509186510' not in persistent cache.\n",
      "Key '7762919171063252049' not in persistent cache.\n",
      "Key '4261288694388748742' not in persistent cache.\n",
      "Key '4878448890736818351' not in persistent cache.\n",
      "Key '7689452278254104318' not in persistent cache.\n",
      "Key '-7427058256338118986' not in persistent cache.\n",
      "Key '236131228644807448' not in persistent cache.\n",
      "Key '-1418308225369129362' not in persistent cache.\n",
      "Key '-5785059205403873039' not in persistent cache.\n",
      "Key '8517564897870636412' not in persistent cache.\n",
      "Key '-2265989690855988770' not in persistent cache.\n",
      "Key '8019367206213667674' not in persistent cache.\n",
      "Key '-3218016096994229847' not in persistent cache.\n",
      "Key '-6908307352947999673' not in persistent cache.\n",
      "Key '-6215923182995106164' not in persistent cache.\n",
      "Key '-7998867337976309814' not in persistent cache.\n",
      "Key '1783031002148913971' not in persistent cache.\n",
      "Key '7866756876252718015' not in persistent cache.\n",
      "Key '7413582636561498157' not in persistent cache.\n",
      "Key '1312944631066189891' not in persistent cache.\n",
      "Key '3828836193703164256' not in persistent cache.\n",
      "Key '-6305266328136705533' not in persistent cache.\n",
      "Key '-9092821340886421862' not in persistent cache.\n",
      "Key '5763251624502103407' not in persistent cache.\n",
      "Key '501610613211909600' not in persistent cache.\n",
      "Key '4095386759734617479' not in persistent cache.\n",
      "Key '3681682774502185415' not in persistent cache.\n",
      "Key '2829673898410166055' not in persistent cache.\n",
      "Key '-8428797313180043738' not in persistent cache.\n",
      "Key '-7232704802084006225' not in persistent cache.\n",
      "Key '1067750353825787132' not in persistent cache.\n",
      "Key '-7742130998739748458' not in persistent cache.\n",
      "Key '-1743425552178916787' not in persistent cache.\n",
      "Key '705240657255778664' not in persistent cache.\n",
      "Key '5366504099655989621' not in persistent cache.\n",
      "Key '-7459845658296131801' not in persistent cache.\n",
      "Key '5378470145996991521' not in persistent cache.\n",
      "Key '-5202109230089219884' not in persistent cache.\n",
      "Key '6203547817811034545' not in persistent cache.\n",
      "Key '5165801973068611467' not in persistent cache.\n",
      "Key '4785992405879335973' not in persistent cache.\n",
      "Key '7317657339874938829' not in persistent cache.\n",
      "Key '-931418084481738750' not in persistent cache.\n",
      "Key '-3540486738175855060' not in persistent cache.\n",
      "Key '-688371200117049488' not in persistent cache.\n",
      "Key '-9021434741955824896' not in persistent cache.\n",
      "Key '-4886026538253486197' not in persistent cache.\n",
      "Key '6972192489170066362' not in persistent cache.\n",
      "Key '2146092566114622072' not in persistent cache.\n",
      "Key '7846602538717938355' not in persistent cache.\n",
      "Key '1045209164393800452' not in persistent cache.\n",
      "Key '4093050856518091712' not in persistent cache.\n",
      "Key '-1714450110313895804' not in persistent cache.\n",
      "Key '7971504496655362977' not in persistent cache.\n",
      "Key '6081650611250360757' not in persistent cache.\n",
      "Key '6265031448808227701' not in persistent cache.\n",
      "Key '-1119382343227753904' not in persistent cache.\n",
      "Key '-4622178372150873112' not in persistent cache.\n",
      "Key '-2910439288147178989' not in persistent cache.\n",
      "Key '2152397615838706588' not in persistent cache.\n",
      "Key '625305289468491111' not in persistent cache.\n",
      "Key '-176886222770194553' not in persistent cache.\n",
      "Key '5382533141480497067' not in persistent cache.\n",
      "Key '-2336065969080290372' not in persistent cache.\n",
      "Key '-189135904374189051' not in persistent cache.\n",
      "Key '106204365409873525' not in persistent cache.\n",
      "Key '-3895024562082491818' not in persistent cache.\n",
      "Key '-500575721625884660' not in persistent cache.\n",
      "Key '2908604788747500966' not in persistent cache.\n",
      "Key '-8885881541601149880' not in persistent cache.\n",
      "Key '-2492174525394199445' not in persistent cache.\n",
      "Key '8695687609134989534' not in persistent cache.\n",
      "Key '4038020467283405628' not in persistent cache.\n",
      "Key '8152423425193814683' not in persistent cache.\n",
      "Key '-2015375015495849913' not in persistent cache.\n",
      "Key '-8225850650593865251' not in persistent cache.\n",
      "Key '7286669928701825411' not in persistent cache.\n",
      "Key '-6743527440809305014' not in persistent cache.\n",
      "Key '2331684709675279232' not in persistent cache.\n",
      "Key '-6173473796932239902' not in persistent cache.\n",
      "Key '-3655817276982632906' not in persistent cache.\n",
      "Key '1230641700934305349' not in persistent cache.\n",
      "Key '-1215961592572634272' not in persistent cache.\n",
      "Key '4409809457255366327' not in persistent cache.\n",
      "Key '1089700917147806347' not in persistent cache.\n",
      "Key '-8210273557776483528' not in persistent cache.\n",
      "Key '5065890613340215337' not in persistent cache.\n",
      "Key '-2368893893179638481' not in persistent cache.\n",
      "Key '690818868341273135' not in persistent cache.\n",
      "Key '-2907090491990276095' not in persistent cache.\n",
      "Key '6123968770092271733' not in persistent cache.\n",
      "Key '5319335233188502941' not in persistent cache.\n",
      "Key '1921723074272460092' not in persistent cache.\n",
      "Key '-7963676705108380076' not in persistent cache.\n",
      "Key '8794431394564626074' not in persistent cache.\n",
      "Key '-5317591961342867822' not in persistent cache.\n",
      "Key '-5362264238968585603' not in persistent cache.\n",
      "Key '-8051041137707129476' not in persistent cache.\n",
      "Key '-7423437978892099244' not in persistent cache.\n",
      "Key '-5560742503716716740' not in persistent cache.\n",
      "Key '-6909547332959003070' not in persistent cache.\n",
      "Key '-4365750820942700009' not in persistent cache.\n",
      "Key '7672214566104268653' not in persistent cache.\n",
      "Key '-8942613157375549219' not in persistent cache.\n",
      "Key '7013732935386838515' not in persistent cache.\n",
      "Key '-628750114986549579' not in persistent cache.\n",
      "Key '2627406341422217027' not in persistent cache.\n",
      "Key '3160778079595230735' not in persistent cache.\n",
      "Key '-3278076468960195082' not in persistent cache.\n",
      "Key '-5213922595026235320' not in persistent cache.\n",
      "Key '5900738610184910756' not in persistent cache.\n",
      "Key '-1901245504136556493' not in persistent cache.\n",
      "Key '-4205621541726807473' not in persistent cache.\n",
      "Key '2101649015774897169' not in persistent cache.\n",
      "Key '-1164586843677709676' not in persistent cache.\n",
      "Key '-3456710516132888688' not in persistent cache.\n",
      "Key '-5311956801712558917' not in persistent cache.\n",
      "Key '791033024463785777' not in persistent cache.\n",
      "Key '-7360676638205456524' not in persistent cache.\n",
      "Key '2259568636128069507' not in persistent cache.\n",
      "Key '5524400738126627813' not in persistent cache.\n",
      "Key '-3176068004522165822' not in persistent cache.\n",
      "Key '-496789695922052674' not in persistent cache.\n",
      "Key '-242552283372726711' not in persistent cache.\n",
      "Key '-4023749470009025230' not in persistent cache.\n",
      "Key '-5139107358014063577' not in persistent cache.\n",
      "Key '-4975775876147266307' not in persistent cache.\n",
      "Key '-8666067132101036133' not in persistent cache.\n",
      "Key '5530270132927553401' not in persistent cache.\n",
      "Key '-9046122336330541202' not in persistent cache.\n",
      "Key '-7100239452173495605' not in persistent cache.\n",
      "Key '-7007405467428406054' not in persistent cache.\n",
      "Key '-3581169937625611336' not in persistent cache.\n",
      "Key '-2159613265071545797' not in persistent cache.\n",
      "Key '-1262886358761680976' not in persistent cache.\n",
      "Key '-5044083545397979495' not in persistent cache.\n",
      "Key '2165277225103674600' not in persistent cache.\n",
      "Key '5495510764221002912' not in persistent cache.\n",
      "Key '8760342866219561218' not in persistent cache.\n",
      "Key '7105903412205624408' not in persistent cache.\n",
      "Key '2739152432170880731' not in persistent cache.\n",
      "Key '2993389844720206694' not in persistent cache.\n",
      "Key '6258221946718765000' not in persistent cache.\n",
      "Key '-1903165229921130172' not in persistent cache.\n",
      "Key '5306195540580523923' not in persistent cache.\n",
      "Key '1615904284626754097' not in persistent cache.\n",
      "Key '-4235797328266654083' not in persistent cache.\n",
      "Key '6636911678275129593' not in persistent cache.\n",
      "Key '1580437160341848527' not in persistent cache.\n",
      "Key '-2725086237897430050' not in persistent cache.\n",
      "Key '5099506674889732796' not in persistent cache.\n",
      "Key '6521063347443798335' not in persistent cache.\n",
      "Key '-4026596417865561797' not in persistent cache.\n",
      "Key '3636593067117364637' not in persistent cache.\n",
      "Key '-7600790236090532884' not in persistent cache.\n",
      "Key '-8668914079957572700' not in persistent cache.\n",
      "Key '-1005724594974646266' not in persistent cache.\n",
      "Key '-2660164048988583076' not in persistent cache.\n",
      "Key '-7026915029023326753' not in persistent cache.\n",
      "Key '7275709074251182698' not in persistent cache.\n",
      "Key '-3507845514475442484' not in persistent cache.\n",
      "Key '6777511382594213960' not in persistent cache.\n",
      "Key '-4459871920613683561' not in persistent cache.\n",
      "Key '-8150163176567453387' not in persistent cache.\n",
      "Key '6491359405073530853' not in persistent cache.\n",
      "Key '-8085033064184563750' not in persistent cache.\n",
      "Key '5305236491591706800' not in persistent cache.\n",
      "Key '999713093352428223' not in persistent cache.\n",
      "Key '1778276717504734244' not in persistent cache.\n",
      "Key '-8200881395015895008' not in persistent cache.\n",
      "Key '-301797086615703524' not in persistent cache.\n",
      "Key '7361392398367222910' not in persistent cache.\n",
      "Key '3126366497249652052' not in persistent cache.\n",
      "Key '-4944114748707714427' not in persistent cache.\n",
      "Key '-4326954552359644818' not in persistent cache.\n",
      "Key '-5981394006373581628' not in persistent cache.\n",
      "Key '-3302115697773468480' not in persistent cache.\n",
      "Key '-7446235668208510645' not in persistent cache.\n",
      "Key '-6829075471860441036' not in persistent cache.\n",
      "Key '3456281425209215408' not in persistent cache.\n",
      "Key '6267284812726501375' not in persistent cache.\n",
      "Key '6975350939757099677' not in persistent cache.\n",
      "Key '6680502607470989377' not in persistent cache.\n",
      "Key '-893532459696778563' not in persistent cache.\n",
      "Key '-5950006977630059629' not in persistent cache.\n",
      "Key '8191213697840213410' not in persistent cache.\n",
      "Key '-2430937463082175360' not in persistent cache.\n",
      "Key '-1009380790528109821' not in persistent cache.\n",
      "Key '6889703517872081663' not in persistent cache.\n",
      "Key '-3893851070854543519' not in persistent cache.\n",
      "Key '3315509699647110576' not in persistent cache.\n",
      "Key '2247385855780070760' not in persistent cache.\n",
      "Key '-8536168732946554422' not in persistent cache.\n",
      "Key '8256135886749060384' not in persistent cache.\n",
      "Key '3889384906714316707' not in persistent cache.\n",
      "Key '-254735063720725458' not in persistent cache.\n",
      "Key '7408454421262200976' not in persistent cache.\n",
      "Key '-752932755377694196' not in persistent cache.\n",
      "Key '6456428015123959899' not in persistent cache.\n",
      "Key '2766136759170190073' not in persistent cache.\n",
      "Key '-6692255217743226465' not in persistent cache.\n",
      "Key '-2821903613291769452' not in persistent cache.\n",
      "Key '6170008559500132970' not in persistent cache.\n",
      "Key '6262842544245222521' not in persistent cache.\n",
      "Key '2643048785413160414' not in persistent cache.\n",
      "Key '-2937751944123100710' not in persistent cache.\n",
      "Key '4961332364277090774' not in persistent cache.\n",
      "Key '8226164466275649080' not in persistent cache.\n",
      "Key '8389495948142446350' not in persistent cache.\n",
      "Key '319014702185079871' not in persistent cache.\n",
      "Key '936174898533149480' not in persistent cache.\n",
      "Key '-5116621938465155458' not in persistent cache.\n",
      "Key '-2437343629865042310' not in persistent cache.\n",
      "Key '-2183106217315716347' not in persistent cache.\n",
      "Key '-5964303403952014866' not in persistent cache.\n",
      "Key '-2681303908972685085' not in persistent cache.\n",
      "Key '-6916329810090255943' not in persistent cache.\n",
      "Key '-6208263683059657641' not in persistent cache.\n",
      "Key '-3655905123838377747' not in persistent cache.\n",
      "Key '6045311811825842362' not in persistent cache.\n",
      "Key '2274463902981479059' not in persistent cache.\n",
      "Key '8375490639959284298' not in persistent cache.\n",
      "Key '-8238079574412383350' not in persistent cache.\n",
      "Key '-4367727969960926337' not in persistent cache.\n",
      "Key '1976512297180487388' not in persistent cache.\n",
      "Key '-2329011101058791189' not in persistent cache.\n",
      "Key '5495581811728371657' not in persistent cache.\n",
      "Key '6917138484282437196' not in persistent cache.\n",
      "Key '3415508007607933889' not in persistent cache.\n",
      "Key '4032668203956003498' not in persistent cache.\n",
      "Key '6843671591473289465' not in persistent cache.\n",
      "Key '-8272838943118933839' not in persistent cache.\n",
      "Key '-609649458136007405' not in persistent cache.\n",
      "Key '-2264088912149944215' not in persistent cache.\n",
      "Key '-6630839892184687892' not in persistent cache.\n",
      "Key '7671784211089821559' not in persistent cache.\n",
      "Key '-3111770377636803623' not in persistent cache.\n",
      "Key '7173586519432852821' not in persistent cache.\n",
      "Key '-8462154166759412828' not in persistent cache.\n",
      "Key '-7754088039728814526' not in persistent cache.\n",
      "Key '-6753068484223543005' not in persistent cache.\n",
      "Key '-2882716879772085992' not in persistent cache.\n",
      "Key '6109195293019816430' not in persistent cache.\n",
      "Key '6202029277764905981' not in persistent cache.\n",
      "Key '2582235518932843874' not in persistent cache.\n",
      "Key '-2998565210603417250' not in persistent cache.\n",
      "Key '4900519097796774234' not in persistent cache.\n",
      "Key '8165351199795332540' not in persistent cache.\n",
      "Key '8328682681662129810' not in persistent cache.\n",
      "Key '258201435704763331' not in persistent cache.\n",
      "Key '875361632052832940' not in persistent cache.\n",
      "Key '-5177435204945471998' not in persistent cache.\n",
      "Key '-2498156896345358850' not in persistent cache.\n",
      "Key '-2243919483796032887' not in persistent cache.\n",
      "Key '-6025116670432331406' not in persistent cache.\n",
      "Key '-2742117175453001625' not in persistent cache.\n",
      "Key '-6977143076570572483' not in persistent cache.\n",
      "Key '-6269076949539974181' not in persistent cache.\n",
      "Key '1484121106988724268' not in persistent cache.\n",
      "Key '-1691556577194675544' not in persistent cache.\n",
      "Key '7300355595597226878' not in persistent cache.\n",
      "Key '7393189580342316429' not in persistent cache.\n",
      "Key '-7627318963564440469' not in persistent cache.\n",
      "Key '-6205762291010374930' not in persistent cache.\n",
      "Key '6091679400374184682' not in persistent cache.\n",
      "Key '-9090232571336808628' not in persistent cache.\n",
      "Key '-1880871800835154533' not in persistent cache.\n",
      "Key '1449361738282173779' not in persistent cache.\n",
      "Key '4714193840280732085' not in persistent cache.\n",
      "Key '3059754386266795275' not in persistent cache.\n",
      "Key '-1306996593767948402' not in persistent cache.\n",
      "Key '-1052759181218622439' not in persistent cache.\n",
      "Key '2212072920779935867' not in persistent cache.\n",
      "Key '-5949314255859959305' not in persistent cache.\n",
      "Key '1260046514641694790' not in persistent cache.\n",
      "Key '-2430244741312075036' not in persistent cache.\n",
      "Key '-2993941504647200369' not in persistent cache.\n",
      "Key '-3521947283180111484' not in persistent cache.\n",
      "Key '2822292983961302241' not in persistent cache.\n",
      "Key '-1483230414277976336' not in persistent cache.\n",
      "Key '6341362498509186510' not in persistent cache.\n",
      "Key '7762919171063252049' not in persistent cache.\n",
      "Key '4261288694388748742' not in persistent cache.\n",
      "Key '4878448890736818351' not in persistent cache.\n",
      "Key '7689452278254104318' not in persistent cache.\n",
      "Key '-7427058256338118986' not in persistent cache.\n",
      "Key '236131228644807448' not in persistent cache.\n",
      "Key '-1418308225369129362' not in persistent cache.\n",
      "Key '-5785059205403873039' not in persistent cache.\n",
      "Key '8517564897870636412' not in persistent cache.\n",
      "Key '-2265989690855988770' not in persistent cache.\n",
      "Key '8019367206213667674' not in persistent cache.\n",
      "Key '-3218016096994229847' not in persistent cache.\n",
      "Key '-6908307352947999673' not in persistent cache.\n",
      "Key '-6215923182995106164' not in persistent cache.\n",
      "Key '-7998867337976309814' not in persistent cache.\n",
      "Key '1783031002148913971' not in persistent cache.\n",
      "Key '7866756876252718015' not in persistent cache.\n",
      "Key '7413582636561498157' not in persistent cache.\n",
      "Key '1312944631066189891' not in persistent cache.\n",
      "Key '3828836193703164256' not in persistent cache.\n",
      "Key '-6305266328136705533' not in persistent cache.\n",
      "Key '-9092821340886421862' not in persistent cache.\n",
      "Key '5763251624502103407' not in persistent cache.\n",
      "Key '501610613211909600' not in persistent cache.\n",
      "Key '4095386759734617479' not in persistent cache.\n",
      "Key '3681682774502185415' not in persistent cache.\n",
      "Key '2829673898410166055' not in persistent cache.\n",
      "Key '-8428797313180043738' not in persistent cache.\n",
      "Key '-7232704802084006225' not in persistent cache.\n",
      "Key '1067750353825787132' not in persistent cache.\n",
      "Key '-7742130998739748458' not in persistent cache.\n",
      "Key '-1743425552178916787' not in persistent cache.\n",
      "Key '705240657255778664' not in persistent cache.\n",
      "Key '5366504099655989621' not in persistent cache.\n",
      "Key '-7459845658296131801' not in persistent cache.\n",
      "Key '5378470145996991521' not in persistent cache.\n",
      "Key '-5202109230089219884' not in persistent cache.\n",
      "Key '6203547817811034545' not in persistent cache.\n",
      "Key '5165801973068611467' not in persistent cache.\n",
      "Key '4785992405879335973' not in persistent cache.\n",
      "Key '7317657339874938829' not in persistent cache.\n",
      "Key '-931418084481738750' not in persistent cache.\n",
      "Key '-3540486738175855060' not in persistent cache.\n",
      "Key '-688371200117049488' not in persistent cache.\n",
      "Key '-9021434741955824896' not in persistent cache.\n",
      "Key '-4886026538253486197' not in persistent cache.\n",
      "Key '6972192489170066362' not in persistent cache.\n",
      "Key '2146092566114622072' not in persistent cache.\n",
      "Key '7846602538717938355' not in persistent cache.\n",
      "Key '1045209164393800452' not in persistent cache.\n",
      "Key '4093050856518091712' not in persistent cache.\n",
      "Key '-1714450110313895804' not in persistent cache.\n",
      "Key '7971504496655362977' not in persistent cache.\n",
      "Key '6081650611250360757' not in persistent cache.\n",
      "Key '6265031448808227701' not in persistent cache.\n",
      "Key '-1119382343227753904' not in persistent cache.\n",
      "Key '-4622178372150873112' not in persistent cache.\n",
      "Key '-2910439288147178989' not in persistent cache.\n",
      "Key '2152397615838706588' not in persistent cache.\n",
      "Key '625305289468491111' not in persistent cache.\n",
      "Key '-176886222770194553' not in persistent cache.\n",
      "Key '5382533141480497067' not in persistent cache.\n",
      "Key '-2336065969080290372' not in persistent cache.\n",
      "Key '-189135904374189051' not in persistent cache.\n",
      "Key '106204365409873525' not in persistent cache.\n",
      "Key '-3895024562082491818' not in persistent cache.\n",
      "Key '-500575721625884660' not in persistent cache.\n",
      "Key '2908604788747500966' not in persistent cache.\n",
      "Key '-8885881541601149880' not in persistent cache.\n",
      "Key '-2492174525394199445' not in persistent cache.\n",
      "Key '8695687609134989534' not in persistent cache.\n",
      "Key '4038020467283405628' not in persistent cache.\n",
      "Key '8152423425193814683' not in persistent cache.\n",
      "Key '-2015375015495849913' not in persistent cache.\n",
      "Key '-8225850650593865251' not in persistent cache.\n",
      "Key '7286669928701825411' not in persistent cache.\n",
      "Key '-6743527440809305014' not in persistent cache.\n",
      "Key '2331684709675279232' not in persistent cache.\n",
      "Key '-6173473796932239902' not in persistent cache.\n",
      "Key '-3655817276982632906' not in persistent cache.\n",
      "Key '1230641700934305349' not in persistent cache.\n",
      "Key '-1215961592572634272' not in persistent cache.\n",
      "Key '4409809457255366327' not in persistent cache.\n",
      "Key '1089700917147806347' not in persistent cache.\n",
      "Key '-8210273557776483528' not in persistent cache.\n",
      "Key '5065890613340215337' not in persistent cache.\n",
      "Key '-2368893893179638481' not in persistent cache.\n",
      "Key '690818868341273135' not in persistent cache.\n",
      "Key '-2907090491990276095' not in persistent cache.\n",
      "Key '6123968770092271733' not in persistent cache.\n",
      "Key '5319335233188502941' not in persistent cache.\n",
      "Key '1921723074272460092' not in persistent cache.\n",
      "Key '-7963676705108380076' not in persistent cache.\n",
      "Key '8794431394564626074' not in persistent cache.\n",
      "Key '-5317591961342867822' not in persistent cache.\n",
      "Key '-5362264238968585603' not in persistent cache.\n",
      "Key '-8051041137707129476' not in persistent cache.\n",
      "Key '-7423437978892099244' not in persistent cache.\n",
      "Key '-5560742503716716740' not in persistent cache.\n",
      "Key '-6909547332959003070' not in persistent cache.\n",
      "Key '-4365750820942700009' not in persistent cache.\n",
      "Key '7672214566104268653' not in persistent cache.\n",
      "Key '-8942613157375549219' not in persistent cache.\n",
      "Key '7013732935386838515' not in persistent cache.\n",
      "Key '-628750114986549579' not in persistent cache.\n",
      "Key '2627406341422217027' not in persistent cache.\n",
      "Key '3160778079595230735' not in persistent cache.\n",
      "Key '-3278076468960195082' not in persistent cache.\n",
      "Key '-5213922595026235320' not in persistent cache.\n",
      "Key '5900738610184910756' not in persistent cache.\n",
      "Key '-1901245504136556493' not in persistent cache.\n",
      "Key '-4205621541726807473' not in persistent cache.\n",
      "Key '2101649015774897169' not in persistent cache.\n",
      "Key '-1164586843677709676' not in persistent cache.\n",
      "Key '-3456710516132888688' not in persistent cache.\n",
      "Key '-5311956801712558917' not in persistent cache.\n",
      "Key '791033024463785777' not in persistent cache.\n",
      "Key '-7360676638205456524' not in persistent cache.\n",
      "Key '2259568636128069507' not in persistent cache.\n",
      "Key '5524400738126627813' not in persistent cache.\n",
      "Key '-3176068004522165822' not in persistent cache.\n",
      "Key '-496789695922052674' not in persistent cache.\n",
      "Key '-242552283372726711' not in persistent cache.\n",
      "Key '-4023749470009025230' not in persistent cache.\n",
      "Key '-5139107358014063577' not in persistent cache.\n",
      "Key '-4975775876147266307' not in persistent cache.\n",
      "Key '-8666067132101036133' not in persistent cache.\n",
      "Key '5530270132927553401' not in persistent cache.\n",
      "Key '-9046122336330541202' not in persistent cache.\n",
      "Key '-7100239452173495605' not in persistent cache.\n",
      "Key '-7007405467428406054' not in persistent cache.\n",
      "Key '-3581169937625611336' not in persistent cache.\n",
      "Key '-2159613265071545797' not in persistent cache.\n",
      "Key '-1262886358761680976' not in persistent cache.\n",
      "Key '-5044083545397979495' not in persistent cache.\n",
      "Key '2165277225103674600' not in persistent cache.\n",
      "Key '5495510764221002912' not in persistent cache.\n",
      "Key '8760342866219561218' not in persistent cache.\n",
      "Key '7105903412205624408' not in persistent cache.\n",
      "Key '2739152432170880731' not in persistent cache.\n",
      "Key '2993389844720206694' not in persistent cache.\n",
      "Key '6258221946718765000' not in persistent cache.\n",
      "Key '-1903165229921130172' not in persistent cache.\n",
      "Key '5306195540580523923' not in persistent cache.\n",
      "Key '1615904284626754097' not in persistent cache.\n",
      "Key '-4235797328266654083' not in persistent cache.\n",
      "Key '6636911678275129593' not in persistent cache.\n",
      "Key '1580437160341848527' not in persistent cache.\n",
      "Key '-2725086237897430050' not in persistent cache.\n",
      "Key '5099506674889732796' not in persistent cache.\n",
      "Key '6521063347443798335' not in persistent cache.\n",
      "Key '-4026596417865561797' not in persistent cache.\n",
      "Key '3636593067117364637' not in persistent cache.\n",
      "Key '-7600790236090532884' not in persistent cache.\n",
      "Key '-8668914079957572700' not in persistent cache.\n",
      "Key '-1005724594974646266' not in persistent cache.\n",
      "Key '-2660164048988583076' not in persistent cache.\n",
      "Key '-7026915029023326753' not in persistent cache.\n",
      "Key '7275709074251182698' not in persistent cache.\n",
      "Key '-3507845514475442484' not in persistent cache.\n",
      "Key '6777511382594213960' not in persistent cache.\n",
      "Key '-4459871920613683561' not in persistent cache.\n",
      "Key '-8150163176567453387' not in persistent cache.\n",
      "Key '6491359405073530853' not in persistent cache.\n",
      "Key '-8085033064184563750' not in persistent cache.\n",
      "Key '5305236491591706800' not in persistent cache.\n",
      "Key '999713093352428223' not in persistent cache.\n",
      "Key '1778276717504734244' not in persistent cache.\n",
      "Key '-8200881395015895008' not in persistent cache.\n",
      "Key '-301797086615703524' not in persistent cache.\n",
      "Key '7361392398367222910' not in persistent cache.\n",
      "Key '3126366497249652052' not in persistent cache.\n",
      "Key '-4944114748707714427' not in persistent cache.\n",
      "Key '-4326954552359644818' not in persistent cache.\n",
      "Key '-5981394006373581628' not in persistent cache.\n",
      "Key '-3302115697773468480' not in persistent cache.\n",
      "Key '-7446235668208510645' not in persistent cache.\n",
      "Key '-6829075471860441036' not in persistent cache.\n",
      "Key '3456281425209215408' not in persistent cache.\n",
      "Key '6267284812726501375' not in persistent cache.\n",
      "Key '6975350939757099677' not in persistent cache.\n",
      "Key '6680502607470989377' not in persistent cache.\n",
      "Key '-893532459696778563' not in persistent cache.\n",
      "Key '-5950006977630059629' not in persistent cache.\n",
      "Key '8191213697840213410' not in persistent cache.\n",
      "Key '-2430937463082175360' not in persistent cache.\n",
      "Key '-1009380790528109821' not in persistent cache.\n",
      "Key '6889703517872081663' not in persistent cache.\n",
      "Key '-3893851070854543519' not in persistent cache.\n",
      "Key '3315509699647110576' not in persistent cache.\n",
      "Key '2247385855780070760' not in persistent cache.\n",
      "Key '-8536168732946554422' not in persistent cache.\n",
      "Key '8256135886749060384' not in persistent cache.\n",
      "Key '3889384906714316707' not in persistent cache.\n",
      "Key '-254735063720725458' not in persistent cache.\n",
      "Key '7408454421262200976' not in persistent cache.\n",
      "Key '-752932755377694196' not in persistent cache.\n",
      "Key '6456428015123959899' not in persistent cache.\n",
      "Key '2766136759170190073' not in persistent cache.\n",
      "Key '-6692255217743226465' not in persistent cache.\n",
      "Key '-2821903613291769452' not in persistent cache.\n",
      "Key '6170008559500132970' not in persistent cache.\n",
      "Key '6262842544245222521' not in persistent cache.\n",
      "Key '2643048785413160414' not in persistent cache.\n",
      "Key '-2937751944123100710' not in persistent cache.\n",
      "Key '4961332364277090774' not in persistent cache.\n",
      "Key '8226164466275649080' not in persistent cache.\n",
      "Key '8389495948142446350' not in persistent cache.\n",
      "Key '319014702185079871' not in persistent cache.\n",
      "Key '936174898533149480' not in persistent cache.\n",
      "Key '-5116621938465155458' not in persistent cache.\n",
      "Key '-2437343629865042310' not in persistent cache.\n",
      "Key '-2183106217315716347' not in persistent cache.\n",
      "Key '-5964303403952014866' not in persistent cache.\n",
      "Key '-2681303908972685085' not in persistent cache.\n",
      "Key '-6916329810090255943' not in persistent cache.\n",
      "Key '-6208263683059657641' not in persistent cache.\n",
      "Key '-3655905123838377747' not in persistent cache.\n",
      "Key '6045311811825842362' not in persistent cache.\n",
      "Key '2274463902981479059' not in persistent cache.\n",
      "Key '8375490639959284298' not in persistent cache.\n",
      "Key '-8238079574412383350' not in persistent cache.\n",
      "Key '-4367727969960926337' not in persistent cache.\n",
      "Key '1976512297180487388' not in persistent cache.\n",
      "Key '-2329011101058791189' not in persistent cache.\n",
      "Key '5495581811728371657' not in persistent cache.\n",
      "Key '6917138484282437196' not in persistent cache.\n",
      "Key '3415508007607933889' not in persistent cache.\n",
      "Key '4032668203956003498' not in persistent cache.\n",
      "Key '6843671591473289465' not in persistent cache.\n",
      "Key '-8272838943118933839' not in persistent cache.\n",
      "Key '-609649458136007405' not in persistent cache.\n",
      "Key '-2264088912149944215' not in persistent cache.\n",
      "Key '-6630839892184687892' not in persistent cache.\n",
      "Key '7671784211089821559' not in persistent cache.\n",
      "Key '-3111770377636803623' not in persistent cache.\n",
      "Key '7173586519432852821' not in persistent cache.\n",
      "Key '-8462154166759412828' not in persistent cache.\n",
      "Key '-7754088039728814526' not in persistent cache.\n",
      "Key '-6753068484223543005' not in persistent cache.\n",
      "Key '-2882716879772085992' not in persistent cache.\n",
      "Key '6109195293019816430' not in persistent cache.\n",
      "Key '6202029277764905981' not in persistent cache.\n",
      "Key '2582235518932843874' not in persistent cache.\n",
      "Key '-2998565210603417250' not in persistent cache.\n",
      "Key '4900519097796774234' not in persistent cache.\n",
      "Key '8165351199795332540' not in persistent cache.\n",
      "Key '8328682681662129810' not in persistent cache.\n",
      "Key '258201435704763331' not in persistent cache.\n",
      "Key '875361632052832940' not in persistent cache.\n",
      "Key '-5177435204945471998' not in persistent cache.\n",
      "Key '-2498156896345358850' not in persistent cache.\n",
      "Key '-2243919483796032887' not in persistent cache.\n",
      "Key '-6025116670432331406' not in persistent cache.\n",
      "Key '-2742117175453001625' not in persistent cache.\n",
      "Key '-6977143076570572483' not in persistent cache.\n",
      "Key '-6269076949539974181' not in persistent cache.\n",
      "Key '1484121106988724268' not in persistent cache.\n",
      "Key '-1691556577194675544' not in persistent cache.\n",
      "Key '7300355595597226878' not in persistent cache.\n",
      "Key '7393189580342316429' not in persistent cache.\n",
      "Key '-7627318963564440469' not in persistent cache.\n",
      "Key '-6205762291010374930' not in persistent cache.\n",
      "Key '6091679400374184682' not in persistent cache.\n",
      "Key '-9090232571336808628' not in persistent cache.\n",
      "Key '-1880871800835154533' not in persistent cache.\n",
      "Key '1449361738282173779' not in persistent cache.\n",
      "Key '4714193840280732085' not in persistent cache.\n",
      "Key '3059754386266795275' not in persistent cache.\n",
      "Key '-1306996593767948402' not in persistent cache.\n",
      "Key '-1052759181218622439' not in persistent cache.\n",
      "Key '2212072920779935867' not in persistent cache.\n",
      "Key '-5949314255859959305' not in persistent cache.\n",
      "Key '1260046514641694790' not in persistent cache.\n",
      "Key '-2430244741312075036' not in persistent cache.\n",
      "Key '-2993941504647200369' not in persistent cache.\n",
      "Key '-3521947283180111484' not in persistent cache.\n",
      "Key '2822292983961302241' not in persistent cache.\n",
      "Key '-1483230414277976336' not in persistent cache.\n",
      "Key '6341362498509186510' not in persistent cache.\n",
      "Key '7762919171063252049' not in persistent cache.\n",
      "Key '4261288694388748742' not in persistent cache.\n",
      "Key '4878448890736818351' not in persistent cache.\n",
      "Key '7689452278254104318' not in persistent cache.\n",
      "Key '-7427058256338118986' not in persistent cache.\n",
      "Key '236131228644807448' not in persistent cache.\n",
      "Key '-1418308225369129362' not in persistent cache.\n",
      "Key '-5785059205403873039' not in persistent cache.\n",
      "Key '8517564897870636412' not in persistent cache.\n",
      "Key '-2265989690855988770' not in persistent cache.\n",
      "Key '8019367206213667674' not in persistent cache.\n",
      "Key '-3218016096994229847' not in persistent cache.\n",
      "Key '-6908307352947999673' not in persistent cache.\n",
      "Key '-6215923182995106164' not in persistent cache.\n",
      "Key '-7998867337976309814' not in persistent cache.\n",
      "Key '1783031002148913971' not in persistent cache.\n",
      "Key '7866756876252718015' not in persistent cache.\n",
      "Key '7413582636561498157' not in persistent cache.\n",
      "Key '1312944631066189891' not in persistent cache.\n",
      "Key '3828836193703164256' not in persistent cache.\n",
      "Key '-6305266328136705533' not in persistent cache.\n",
      "Key '-9092821340886421862' not in persistent cache.\n",
      "Key '5763251624502103407' not in persistent cache.\n",
      "Key '501610613211909600' not in persistent cache.\n",
      "Key '4095386759734617479' not in persistent cache.\n",
      "Key '3681682774502185415' not in persistent cache.\n",
      "Key '2829673898410166055' not in persistent cache.\n",
      "Key '-8428797313180043738' not in persistent cache.\n",
      "Key '-7232704802084006225' not in persistent cache.\n",
      "Key '1067750353825787132' not in persistent cache.\n",
      "Key '-7742130998739748458' not in persistent cache.\n",
      "Key '-1743425552178916787' not in persistent cache.\n",
      "Key '705240657255778664' not in persistent cache.\n",
      "Key '5366504099655989621' not in persistent cache.\n",
      "Key '-7459845658296131801' not in persistent cache.\n",
      "Key '5378470145996991521' not in persistent cache.\n",
      "Key '-5202109230089219884' not in persistent cache.\n",
      "Key '6203547817811034545' not in persistent cache.\n",
      "Key '5165801973068611467' not in persistent cache.\n",
      "Key '4785992405879335973' not in persistent cache.\n",
      "Key '7317657339874938829' not in persistent cache.\n",
      "Key '-931418084481738750' not in persistent cache.\n",
      "Key '-3540486738175855060' not in persistent cache.\n",
      "Key '-688371200117049488' not in persistent cache.\n",
      "Key '-9021434741955824896' not in persistent cache.\n",
      "Key '-4886026538253486197' not in persistent cache.\n",
      "Key '6972192489170066362' not in persistent cache.\n",
      "Key '2146092566114622072' not in persistent cache.\n",
      "Key '7846602538717938355' not in persistent cache.\n",
      "Key '1045209164393800452' not in persistent cache.\n",
      "Key '4093050856518091712' not in persistent cache.\n",
      "Key '-1714450110313895804' not in persistent cache.\n",
      "Key '7971504496655362977' not in persistent cache.\n",
      "Key '6081650611250360757' not in persistent cache.\n",
      "Key '6265031448808227701' not in persistent cache.\n",
      "Key '-1119382343227753904' not in persistent cache.\n",
      "Key '-4622178372150873112' not in persistent cache.\n",
      "Key '-2910439288147178989' not in persistent cache.\n",
      "Key '2152397615838706588' not in persistent cache.\n",
      "Key '625305289468491111' not in persistent cache.\n",
      "Key '-176886222770194553' not in persistent cache.\n",
      "Key '5382533141480497067' not in persistent cache.\n",
      "Key '-2336065969080290372' not in persistent cache.\n",
      "Key '-189135904374189051' not in persistent cache.\n",
      "Key '106204365409873525' not in persistent cache.\n",
      "Key '-3895024562082491818' not in persistent cache.\n",
      "Key '-500575721625884660' not in persistent cache.\n",
      "Key '2908604788747500966' not in persistent cache.\n",
      "Key '-8885881541601149880' not in persistent cache.\n",
      "Key '-2492174525394199445' not in persistent cache.\n",
      "Key '8695687609134989534' not in persistent cache.\n",
      "Key '4038020467283405628' not in persistent cache.\n",
      "Key '8152423425193814683' not in persistent cache.\n",
      "Key '-2015375015495849913' not in persistent cache.\n",
      "Key '-8225850650593865251' not in persistent cache.\n",
      "Key '7286669928701825411' not in persistent cache.\n",
      "Key '-6743527440809305014' not in persistent cache.\n",
      "Key '2331684709675279232' not in persistent cache.\n",
      "Key '-6173473796932239902' not in persistent cache.\n",
      "Key '-3655817276982632906' not in persistent cache.\n",
      "Key '1230641700934305349' not in persistent cache.\n",
      "Key '-1215961592572634272' not in persistent cache.\n",
      "Key '4409809457255366327' not in persistent cache.\n",
      "Key '1089700917147806347' not in persistent cache.\n",
      "Key '-8210273557776483528' not in persistent cache.\n",
      "Key '5065890613340215337' not in persistent cache.\n",
      "Key '-2368893893179638481' not in persistent cache.\n",
      "Key '690818868341273135' not in persistent cache.\n",
      "Key '-2907090491990276095' not in persistent cache.\n",
      "Key '6123968770092271733' not in persistent cache.\n",
      "Key '5319335233188502941' not in persistent cache.\n",
      "Key '1921723074272460092' not in persistent cache.\n",
      "Key '-7963676705108380076' not in persistent cache.\n",
      "Key '8794431394564626074' not in persistent cache.\n",
      "Key '-5317591961342867822' not in persistent cache.\n",
      "Key '-5362264238968585603' not in persistent cache.\n",
      "Key '-8051041137707129476' not in persistent cache.\n",
      "Key '-7423437978892099244' not in persistent cache.\n",
      "Key '-5560742503716716740' not in persistent cache.\n",
      "Key '-6909547332959003070' not in persistent cache.\n",
      "Key '-4365750820942700009' not in persistent cache.\n",
      "Key '7672214566104268653' not in persistent cache.\n",
      "Key '-8942613157375549219' not in persistent cache.\n",
      "Key '7013732935386838515' not in persistent cache.\n",
      "Key '-628750114986549579' not in persistent cache.\n",
      "Key '2627406341422217027' not in persistent cache.\n",
      "Key '3160778079595230735' not in persistent cache.\n",
      "Key '-3278076468960195082' not in persistent cache.\n",
      "Key '-5213922595026235320' not in persistent cache.\n",
      "Key '5900738610184910756' not in persistent cache.\n",
      "Key '-1901245504136556493' not in persistent cache.\n",
      "Key '-4205621541726807473' not in persistent cache.\n",
      "Key '2101649015774897169' not in persistent cache.\n",
      "Key '-1164586843677709676' not in persistent cache.\n",
      "Key '-3456710516132888688' not in persistent cache.\n",
      "Key '-5311956801712558917' not in persistent cache.\n",
      "Key '791033024463785777' not in persistent cache.\n",
      "Key '-7360676638205456524' not in persistent cache.\n",
      "Key '2259568636128069507' not in persistent cache.\n",
      "Key '5524400738126627813' not in persistent cache.\n",
      "Key '-3176068004522165822' not in persistent cache.\n",
      "Key '-496789695922052674' not in persistent cache.\n",
      "Key '-242552283372726711' not in persistent cache.\n",
      "Key '-4023749470009025230' not in persistent cache.\n",
      "Key '-5139107358014063577' not in persistent cache.\n",
      "Key '-4975775876147266307' not in persistent cache.\n",
      "Key '-8666067132101036133' not in persistent cache.\n",
      "Key '5530270132927553401' not in persistent cache.\n",
      "Key '-9046122336330541202' not in persistent cache.\n",
      "Key '-7100239452173495605' not in persistent cache.\n",
      "Key '-7007405467428406054' not in persistent cache.\n",
      "Key '-3581169937625611336' not in persistent cache.\n",
      "Key '-2159613265071545797' not in persistent cache.\n",
      "Key '-1262886358761680976' not in persistent cache.\n",
      "Key '-5044083545397979495' not in persistent cache.\n",
      "Key '2165277225103674600' not in persistent cache.\n",
      "Key '5495510764221002912' not in persistent cache.\n",
      "Key '8760342866219561218' not in persistent cache.\n",
      "Key '7105903412205624408' not in persistent cache.\n",
      "Key '2739152432170880731' not in persistent cache.\n",
      "Key '2993389844720206694' not in persistent cache.\n",
      "Key '6258221946718765000' not in persistent cache.\n",
      "Key '-1903165229921130172' not in persistent cache.\n",
      "Key '5306195540580523923' not in persistent cache.\n",
      "Key '1615904284626754097' not in persistent cache.\n",
      "Key '-4235797328266654083' not in persistent cache.\n",
      "Key '6636911678275129593' not in persistent cache.\n",
      "Key '1580437160341848527' not in persistent cache.\n",
      "Key '-2725086237897430050' not in persistent cache.\n",
      "Key '5099506674889732796' not in persistent cache.\n",
      "Key '6521063347443798335' not in persistent cache.\n",
      "Key '-4026596417865561797' not in persistent cache.\n",
      "Key '3636593067117364637' not in persistent cache.\n",
      "Key '-7600790236090532884' not in persistent cache.\n",
      "Key '-8668914079957572700' not in persistent cache.\n",
      "Key '-1005724594974646266' not in persistent cache.\n",
      "Key '-2660164048988583076' not in persistent cache.\n",
      "Key '-7026915029023326753' not in persistent cache.\n",
      "Key '7275709074251182698' not in persistent cache.\n",
      "Key '-3507845514475442484' not in persistent cache.\n",
      "Key '6777511382594213960' not in persistent cache.\n",
      "Key '-4459871920613683561' not in persistent cache.\n",
      "Key '-8150163176567453387' not in persistent cache.\n",
      "Key '6491359405073530853' not in persistent cache.\n",
      "Key '-8085033064184563750' not in persistent cache.\n",
      "Key '5305236491591706800' not in persistent cache.\n",
      "Key '999713093352428223' not in persistent cache.\n",
      "Key '1778276717504734244' not in persistent cache.\n",
      "Key '-8200881395015895008' not in persistent cache.\n",
      "Key '-301797086615703524' not in persistent cache.\n",
      "Key '7361392398367222910' not in persistent cache.\n",
      "Key '3126366497249652052' not in persistent cache.\n",
      "Key '-4944114748707714427' not in persistent cache.\n",
      "Key '-4326954552359644818' not in persistent cache.\n",
      "Key '-5981394006373581628' not in persistent cache.\n",
      "Key '-3302115697773468480' not in persistent cache.\n",
      "Key '-7446235668208510645' not in persistent cache.\n",
      "Key '-6829075471860441036' not in persistent cache.\n",
      "Key '3456281425209215408' not in persistent cache.\n",
      "Key '6267284812726501375' not in persistent cache.\n",
      "Key '6975350939757099677' not in persistent cache.\n",
      "Key '6680502607470989377' not in persistent cache.\n",
      "Key '-893532459696778563' not in persistent cache.\n",
      "Key '-5950006977630059629' not in persistent cache.\n",
      "Key '8191213697840213410' not in persistent cache.\n",
      "Key '-2430937463082175360' not in persistent cache.\n",
      "Key '-1009380790528109821' not in persistent cache.\n",
      "Key '6889703517872081663' not in persistent cache.\n",
      "Key '-3893851070854543519' not in persistent cache.\n",
      "Key '3315509699647110576' not in persistent cache.\n",
      "Key '2247385855780070760' not in persistent cache.\n",
      "Key '-8536168732946554422' not in persistent cache.\n",
      "Key '8256135886749060384' not in persistent cache.\n",
      "Key '3889384906714316707' not in persistent cache.\n",
      "Key '-254735063720725458' not in persistent cache.\n",
      "Key '7408454421262200976' not in persistent cache.\n",
      "Key '-752932755377694196' not in persistent cache.\n",
      "Key '6456428015123959899' not in persistent cache.\n",
      "Key '2766136759170190073' not in persistent cache.\n",
      "Key '-6692255217743226465' not in persistent cache.\n",
      "Key '-2821903613291769452' not in persistent cache.\n",
      "Key '6170008559500132970' not in persistent cache.\n",
      "Key '6262842544245222521' not in persistent cache.\n",
      "Key '2643048785413160414' not in persistent cache.\n",
      "Key '-2937751944123100710' not in persistent cache.\n",
      "Key '4961332364277090774' not in persistent cache.\n",
      "Key '8226164466275649080' not in persistent cache.\n",
      "Key '8389495948142446350' not in persistent cache.\n",
      "Key '319014702185079871' not in persistent cache.\n",
      "Key '936174898533149480' not in persistent cache.\n",
      "Key '-5116621938465155458' not in persistent cache.\n",
      "Key '-2437343629865042310' not in persistent cache.\n",
      "Key '-2183106217315716347' not in persistent cache.\n",
      "Key '-5964303403952014866' not in persistent cache.\n",
      "Key '-2681303908972685085' not in persistent cache.\n",
      "Key '-6916329810090255943' not in persistent cache.\n",
      "Key '-6208263683059657641' not in persistent cache.\n",
      "Key '-3655905123838377747' not in persistent cache.\n",
      "Key '6045311811825842362' not in persistent cache.\n",
      "Key '2274463902981479059' not in persistent cache.\n",
      "Key '8375490639959284298' not in persistent cache.\n",
      "Key '-8238079574412383350' not in persistent cache.\n",
      "Key '-4367727969960926337' not in persistent cache.\n",
      "Key '1976512297180487388' not in persistent cache.\n",
      "Key '-2329011101058791189' not in persistent cache.\n",
      "Key '5495581811728371657' not in persistent cache.\n",
      "Key '6917138484282437196' not in persistent cache.\n",
      "Key '3415508007607933889' not in persistent cache.\n",
      "Key '4032668203956003498' not in persistent cache.\n",
      "Key '6843671591473289465' not in persistent cache.\n",
      "Key '-8272838943118933839' not in persistent cache.\n",
      "Key '-609649458136007405' not in persistent cache.\n",
      "Key '-2264088912149944215' not in persistent cache.\n",
      "Key '-6630839892184687892' not in persistent cache.\n",
      "Key '7671784211089821559' not in persistent cache.\n",
      "Key '-3111770377636803623' not in persistent cache.\n",
      "Key '7173586519432852821' not in persistent cache.\n",
      "Key '-8462154166759412828' not in persistent cache.\n",
      "Key '-7754088039728814526' not in persistent cache.\n",
      "Key '-6753068484223543005' not in persistent cache.\n",
      "Key '-2882716879772085992' not in persistent cache.\n",
      "Key '6109195293019816430' not in persistent cache.\n",
      "Key '6202029277764905981' not in persistent cache.\n",
      "Key '2582235518932843874' not in persistent cache.\n",
      "Key '-2998565210603417250' not in persistent cache.\n",
      "Key '4900519097796774234' not in persistent cache.\n",
      "Key '8165351199795332540' not in persistent cache.\n",
      "Key '8328682681662129810' not in persistent cache.\n",
      "Key '258201435704763331' not in persistent cache.\n",
      "Key '875361632052832940' not in persistent cache.\n",
      "Key '-5177435204945471998' not in persistent cache.\n",
      "Key '-2498156896345358850' not in persistent cache.\n",
      "Key '-2243919483796032887' not in persistent cache.\n",
      "Key '-6025116670432331406' not in persistent cache.\n",
      "Key '-2742117175453001625' not in persistent cache.\n",
      "Key '-6977143076570572483' not in persistent cache.\n",
      "Key '-6269076949539974181' not in persistent cache.\n",
      "Key '1484121106988724268' not in persistent cache.\n",
      "Key '-1691556577194675544' not in persistent cache.\n",
      "Key '7300355595597226878' not in persistent cache.\n",
      "Key '7393189580342316429' not in persistent cache.\n",
      "Key '-7627318963564440469' not in persistent cache.\n",
      "Key '-6205762291010374930' not in persistent cache.\n",
      "Key '6091679400374184682' not in persistent cache.\n",
      "Key '-9090232571336808628' not in persistent cache.\n",
      "Key '-1880871800835154533' not in persistent cache.\n",
      "Key '1449361738282173779' not in persistent cache.\n",
      "Key '4714193840280732085' not in persistent cache.\n",
      "Key '3059754386266795275' not in persistent cache.\n",
      "Key '-1306996593767948402' not in persistent cache.\n",
      "Key '-1052759181218622439' not in persistent cache.\n",
      "Key '2212072920779935867' not in persistent cache.\n",
      "Key '-5949314255859959305' not in persistent cache.\n",
      "Key '1260046514641694790' not in persistent cache.\n",
      "Key '-2430244741312075036' not in persistent cache.\n",
      "Key '-2993941504647200369' not in persistent cache.\n",
      "Key '-3521947283180111484' not in persistent cache.\n",
      "Key '2822292983961302241' not in persistent cache.\n",
      "Key '-1483230414277976336' not in persistent cache.\n",
      "Key '6341362498509186510' not in persistent cache.\n",
      "Key '7762919171063252049' not in persistent cache.\n",
      "Key '4261288694388748742' not in persistent cache.\n",
      "Key '4878448890736818351' not in persistent cache.\n",
      "Key '7689452278254104318' not in persistent cache.\n",
      "Key '-7427058256338118986' not in persistent cache.\n",
      "Key '236131228644807448' not in persistent cache.\n",
      "Key '-1418308225369129362' not in persistent cache.\n",
      "Key '-5785059205403873039' not in persistent cache.\n",
      "Key '8517564897870636412' not in persistent cache.\n",
      "Key '-2265989690855988770' not in persistent cache.\n",
      "Key '8019367206213667674' not in persistent cache.\n",
      "Key '-3218016096994229847' not in persistent cache.\n",
      "Key '-6908307352947999673' not in persistent cache.\n",
      "Key '-6215923182995106164' not in persistent cache.\n",
      "Key '-7998867337976309814' not in persistent cache.\n",
      "Key '1783031002148913971' not in persistent cache.\n",
      "Key '7866756876252718015' not in persistent cache.\n",
      "Key '7413582636561498157' not in persistent cache.\n",
      "Key '1312944631066189891' not in persistent cache.\n",
      "Key '3828836193703164256' not in persistent cache.\n",
      "Key '-6305266328136705533' not in persistent cache.\n",
      "Key '-9092821340886421862' not in persistent cache.\n",
      "Key '5763251624502103407' not in persistent cache.\n",
      "Key '501610613211909600' not in persistent cache.\n",
      "Key '4095386759734617479' not in persistent cache.\n",
      "Key '3681682774502185415' not in persistent cache.\n",
      "Key '2829673898410166055' not in persistent cache.\n",
      "Key '-8428797313180043738' not in persistent cache.\n",
      "Key '-7232704802084006225' not in persistent cache.\n",
      "Key '1067750353825787132' not in persistent cache.\n",
      "Key '-7742130998739748458' not in persistent cache.\n",
      "Key '-1743425552178916787' not in persistent cache.\n",
      "Key '705240657255778664' not in persistent cache.\n",
      "Key '5366504099655989621' not in persistent cache.\n",
      "Key '-7459845658296131801' not in persistent cache.\n",
      "Key '5378470145996991521' not in persistent cache.\n",
      "Key '-5202109230089219884' not in persistent cache.\n",
      "Key '6203547817811034545' not in persistent cache.\n",
      "Key '5165801973068611467' not in persistent cache.\n",
      "Key '4785992405879335973' not in persistent cache.\n",
      "Key '7317657339874938829' not in persistent cache.\n",
      "Key '-931418084481738750' not in persistent cache.\n",
      "Key '-3540486738175855060' not in persistent cache.\n",
      "Key '-688371200117049488' not in persistent cache.\n",
      "Key '-9021434741955824896' not in persistent cache.\n",
      "Key '-4886026538253486197' not in persistent cache.\n",
      "Key '6972192489170066362' not in persistent cache.\n",
      "Key '2146092566114622072' not in persistent cache.\n",
      "Key '7846602538717938355' not in persistent cache.\n",
      "Key '1045209164393800452' not in persistent cache.\n",
      "Key '4093050856518091712' not in persistent cache.\n",
      "Key '-1714450110313895804' not in persistent cache.\n",
      "Key '7971504496655362977' not in persistent cache.\n",
      "Key '6081650611250360757' not in persistent cache.\n",
      "Key '6265031448808227701' not in persistent cache.\n",
      "Key '-1119382343227753904' not in persistent cache.\n",
      "Key '-4622178372150873112' not in persistent cache.\n",
      "Key '-2910439288147178989' not in persistent cache.\n",
      "Key '2152397615838706588' not in persistent cache.\n",
      "Key '625305289468491111' not in persistent cache.\n",
      "Key '-176886222770194553' not in persistent cache.\n",
      "Key '5382533141480497067' not in persistent cache.\n",
      "Key '-2336065969080290372' not in persistent cache.\n",
      "Key '-189135904374189051' not in persistent cache.\n",
      "Key '106204365409873525' not in persistent cache.\n",
      "Key '-3895024562082491818' not in persistent cache.\n",
      "Key '-500575721625884660' not in persistent cache.\n",
      "Key '2908604788747500966' not in persistent cache.\n",
      "Key '-8885881541601149880' not in persistent cache.\n",
      "Key '-2492174525394199445' not in persistent cache.\n",
      "Key '8695687609134989534' not in persistent cache.\n",
      "Key '4038020467283405628' not in persistent cache.\n",
      "Key '8152423425193814683' not in persistent cache.\n",
      "Key '-2015375015495849913' not in persistent cache.\n",
      "Key '-8225850650593865251' not in persistent cache.\n",
      "Key '7286669928701825411' not in persistent cache.\n",
      "Key '-6743527440809305014' not in persistent cache.\n",
      "Key '2331684709675279232' not in persistent cache.\n",
      "Key '-6173473796932239902' not in persistent cache.\n",
      "Key '-3655817276982632906' not in persistent cache.\n",
      "Key '1230641700934305349' not in persistent cache.\n",
      "Key '-1215961592572634272' not in persistent cache.\n",
      "Key '4409809457255366327' not in persistent cache.\n",
      "Key '1089700917147806347' not in persistent cache.\n",
      "Key '-8210273557776483528' not in persistent cache.\n",
      "Key '5065890613340215337' not in persistent cache.\n",
      "Key '-2368893893179638481' not in persistent cache.\n",
      "Key '690818868341273135' not in persistent cache.\n",
      "Key '-2907090491990276095' not in persistent cache.\n",
      "Key '6123968770092271733' not in persistent cache.\n",
      "Key '5319335233188502941' not in persistent cache.\n",
      "Key '1921723074272460092' not in persistent cache.\n",
      "Key '-7963676705108380076' not in persistent cache.\n",
      "Key '8794431394564626074' not in persistent cache.\n",
      "Key '-5317591961342867822' not in persistent cache.\n",
      "Key '-5362264238968585603' not in persistent cache.\n",
      "Key '-8051041137707129476' not in persistent cache.\n",
      "Key '-7423437978892099244' not in persistent cache.\n",
      "Key '-5560742503716716740' not in persistent cache.\n",
      "Key '-6909547332959003070' not in persistent cache.\n",
      "Key '-4365750820942700009' not in persistent cache.\n",
      "Key '7672214566104268653' not in persistent cache.\n",
      "Key '-8942613157375549219' not in persistent cache.\n",
      "Key '7013732935386838515' not in persistent cache.\n",
      "Key '-628750114986549579' not in persistent cache.\n",
      "Key '2627406341422217027' not in persistent cache.\n",
      "Key '3160778079595230735' not in persistent cache.\n",
      "Key '-3278076468960195082' not in persistent cache.\n",
      "Key '-5213922595026235320' not in persistent cache.\n",
      "Key '5900738610184910756' not in persistent cache.\n",
      "Key '-1901245504136556493' not in persistent cache.\n",
      "Key '-4205621541726807473' not in persistent cache.\n",
      "Key '2101649015774897169' not in persistent cache.\n",
      "Key '-1164586843677709676' not in persistent cache.\n",
      "Key '-3456710516132888688' not in persistent cache.\n",
      "Key '-5311956801712558917' not in persistent cache.\n",
      "Key '791033024463785777' not in persistent cache.\n",
      "Key '-7360676638205456524' not in persistent cache.\n"
     ]
    },
    {
     "data": {
      "text/html": [
       "        <script type=\"text/javascript\">\n",
       "        window.PlotlyConfig = {MathJaxConfig: 'local'};\n",
       "        if (window.MathJax && window.MathJax.Hub && window.MathJax.Hub.Config) {window.MathJax.Hub.Config({SVG: {font: \"STIX-Web\"}});}\n",
       "        if (typeof require !== 'undefined') {\n",
       "        require.undef(\"plotly\");\n",
       "        requirejs.config({\n",
       "            paths: {\n",
       "                'plotly': ['https://cdn.plot.ly/plotly-2.35.2.min']\n",
       "            }\n",
       "        });\n",
       "        require(['plotly'], function(Plotly) {\n",
       "            window._Plotly = Plotly;\n",
       "        });\n",
       "        }\n",
       "        </script>\n",
       "        "
      ]
     },
     "metadata": {},
     "output_type": "display_data"
    }
   ],
   "source": [
    "# import packages\n",
    "\n",
    "import wbdata\n",
    "import pandas as pd\n",
    "import math\n",
    "import iso3166\n",
    "import plotly.offline as py\n",
    "from scipy.optimize import newton\n",
    "import plotly.graph_objs as go\n",
    "from plotly.subplots import make_subplots\n",
    "import numpy as np\n",
    "import cufflinks as cf\n",
    "from matplotlib import animation as ani\n",
    "cf.go_offline()"
   ]
  },
  {
   "cell_type": "code",
   "execution_count": 20,
   "id": "d71ea40c-45e4-4657-9f3e-5c5869aff9dd",
   "metadata": {},
   "outputs": [],
   "source": [
    "pd.options.plotting.backend = 'plotly'\n",
    "SOURCE2=2 "
   ]
  },
  {
   "cell_type": "code",
   "execution_count": 5,
   "id": "09678704-5c7e-4be0-98e3-d23cf1852bfd",
   "metadata": {
    "collapsed": true,
    "jupyter": {
     "outputs_hidden": true
    }
   },
   "outputs": [
    {
     "name": "stderr",
     "output_type": "stream",
     "text": [
      "Key '-590700454584032948' not in persistent cache.\n"
     ]
    },
    {
     "data": {
      "text/plain": [
       "  id  value\n",
       "----  -------------------------------\n",
       "   1  Agriculture & Rural Development\n",
       "   2  Aid Effectiveness\n",
       "   3  Economy & Growth\n",
       "   4  Education\n",
       "   5  Energy & Mining\n",
       "   6  Environment\n",
       "   7  Financial Sector\n",
       "   8  Health\n",
       "   9  Infrastructure\n",
       "  10  Social Protection & Labor\n",
       "  11  Poverty\n",
       "  12  Private Sector\n",
       "  13  Public Sector\n",
       "  14  Science & Technology\n",
       "  15  Social Development\n",
       "  16  Urban Development\n",
       "  17  Gender\n",
       "  18  Millenium development goals\n",
       "  19  Climate Change\n",
       "  20  External Debt\n",
       "  21  Trade"
      ]
     },
     "execution_count": 5,
     "metadata": {},
     "output_type": "execute_result"
    }
   ],
   "source": [
    "# Look around a bit\n",
    "wbdata.get_topics()"
   ]
  },
  {
   "cell_type": "code",
   "execution_count": 5,
   "id": "75251a81-518d-4f47-b97f-13e8e21547e3",
   "metadata": {
    "collapsed": true,
    "jupyter": {
     "outputs_hidden": true
    },
    "scrolled": true
   },
   "outputs": [
    {
     "data": {
      "application/vnd.plotly.v1+json": {
       "config": {
        "plotlyServerURL": "https://plot.ly"
       },
       "data": [
        {
         "hovertemplate": "country=Argentina<br>date=%{x}<br>value=%{y}<extra></extra>",
         "legendgroup": "Argentina",
         "line": {
          "color": "#636efa",
          "dash": "solid"
         },
         "marker": {
          "symbol": "circle"
         },
         "mode": "lines",
         "name": "Argentina",
         "orientation": "v",
         "showlegend": true,
         "type": "scatter",
         "x": [
          "1960-01-01T00:00:00",
          "1961-01-01T00:00:00",
          "1962-01-01T00:00:00",
          "1963-01-01T00:00:00",
          "1964-01-01T00:00:00",
          "1965-01-01T00:00:00",
          "1966-01-01T00:00:00",
          "1967-01-01T00:00:00",
          "1968-01-01T00:00:00",
          "1969-01-01T00:00:00",
          "1970-01-01T00:00:00",
          "1971-01-01T00:00:00",
          "1972-01-01T00:00:00",
          "1973-01-01T00:00:00",
          "1974-01-01T00:00:00",
          "1975-01-01T00:00:00",
          "1976-01-01T00:00:00",
          "1977-01-01T00:00:00",
          "1978-01-01T00:00:00",
          "1979-01-01T00:00:00",
          "1980-01-01T00:00:00",
          "1981-01-01T00:00:00",
          "1982-01-01T00:00:00",
          "1983-01-01T00:00:00",
          "1984-01-01T00:00:00",
          "1985-01-01T00:00:00",
          "1986-01-01T00:00:00",
          "1987-01-01T00:00:00",
          "1988-01-01T00:00:00",
          "1989-01-01T00:00:00",
          "1990-01-01T00:00:00",
          "1991-01-01T00:00:00",
          "1992-01-01T00:00:00",
          "1993-01-01T00:00:00",
          "1994-01-01T00:00:00",
          "1995-01-01T00:00:00",
          "1996-01-01T00:00:00",
          "1997-01-01T00:00:00",
          "1998-01-01T00:00:00",
          "1999-01-01T00:00:00",
          "2000-01-01T00:00:00",
          "2001-01-01T00:00:00",
          "2002-01-01T00:00:00",
          "2003-01-01T00:00:00",
          "2004-01-01T00:00:00",
          "2005-01-01T00:00:00",
          "2006-01-01T00:00:00",
          "2007-01-01T00:00:00",
          "2008-01-01T00:00:00",
          "2009-01-01T00:00:00",
          "2010-01-01T00:00:00",
          "2011-01-01T00:00:00",
          "2012-01-01T00:00:00",
          "2013-01-01T00:00:00",
          "2014-01-01T00:00:00",
          "2015-01-01T00:00:00",
          "2016-01-01T00:00:00",
          "2017-01-01T00:00:00",
          "2018-01-01T00:00:00",
          "2019-01-01T00:00:00",
          "2020-01-01T00:00:00",
          "2021-01-01T00:00:00",
          "2022-01-01T00:00:00",
          "2023-01-01T00:00:00"
         ],
         "xaxis": "x",
         "y": [
          null,
          null,
          null,
          null,
          null,
          null,
          null,
          null,
          null,
          null,
          null,
          null,
          null,
          null,
          null,
          null,
          null,
          null,
          null,
          null,
          null,
          null,
          null,
          null,
          null,
          null,
          null,
          null,
          null,
          null,
          78.8945883201315,
          79.2542709682829,
          79.7786350872369,
          80.3337006585459,
          80.9358863354632,
          81.608093422829,
          82.3698768370974,
          83.247062020095,
          84.2638406906497,
          85.4318646348945,
          91.8,
          88.6,
          92.6,
          92.9,
          93.2,
          93.4,
          93.6,
          93.8,
          94,
          94.2,
          98.6,
          97.8,
          96.1,
          95.4,
          100,
          97.6,
          99.3,
          100,
          99.9,
          100,
          100,
          100,
          100,
          null
         ],
         "yaxis": "y"
        },
        {
         "hovertemplate": "country=Chile<br>date=%{x}<br>value=%{y}<extra></extra>",
         "legendgroup": "Chile",
         "line": {
          "color": "#EF553B",
          "dash": "solid"
         },
         "marker": {
          "symbol": "circle"
         },
         "mode": "lines",
         "name": "Chile",
         "orientation": "v",
         "showlegend": true,
         "type": "scatter",
         "x": [
          "1960-01-01T00:00:00",
          "1961-01-01T00:00:00",
          "1962-01-01T00:00:00",
          "1963-01-01T00:00:00",
          "1964-01-01T00:00:00",
          "1965-01-01T00:00:00",
          "1966-01-01T00:00:00",
          "1967-01-01T00:00:00",
          "1968-01-01T00:00:00",
          "1969-01-01T00:00:00",
          "1970-01-01T00:00:00",
          "1971-01-01T00:00:00",
          "1972-01-01T00:00:00",
          "1973-01-01T00:00:00",
          "1974-01-01T00:00:00",
          "1975-01-01T00:00:00",
          "1976-01-01T00:00:00",
          "1977-01-01T00:00:00",
          "1978-01-01T00:00:00",
          "1979-01-01T00:00:00",
          "1980-01-01T00:00:00",
          "1981-01-01T00:00:00",
          "1982-01-01T00:00:00",
          "1983-01-01T00:00:00",
          "1984-01-01T00:00:00",
          "1985-01-01T00:00:00",
          "1986-01-01T00:00:00",
          "1987-01-01T00:00:00",
          "1988-01-01T00:00:00",
          "1989-01-01T00:00:00",
          "1990-01-01T00:00:00",
          "1991-01-01T00:00:00",
          "1992-01-01T00:00:00",
          "1993-01-01T00:00:00",
          "1994-01-01T00:00:00",
          "1995-01-01T00:00:00",
          "1996-01-01T00:00:00",
          "1997-01-01T00:00:00",
          "1998-01-01T00:00:00",
          "1999-01-01T00:00:00",
          "2000-01-01T00:00:00",
          "2001-01-01T00:00:00",
          "2002-01-01T00:00:00",
          "2003-01-01T00:00:00",
          "2004-01-01T00:00:00",
          "2005-01-01T00:00:00",
          "2006-01-01T00:00:00",
          "2007-01-01T00:00:00",
          "2008-01-01T00:00:00",
          "2009-01-01T00:00:00",
          "2010-01-01T00:00:00",
          "2011-01-01T00:00:00",
          "2012-01-01T00:00:00",
          "2013-01-01T00:00:00",
          "2014-01-01T00:00:00",
          "2015-01-01T00:00:00",
          "2016-01-01T00:00:00",
          "2017-01-01T00:00:00",
          "2018-01-01T00:00:00",
          "2019-01-01T00:00:00",
          "2020-01-01T00:00:00",
          "2021-01-01T00:00:00",
          "2022-01-01T00:00:00",
          "2023-01-01T00:00:00"
         ],
         "xaxis": "x",
         "y": [
          null,
          null,
          null,
          null,
          null,
          null,
          null,
          null,
          null,
          null,
          null,
          null,
          null,
          null,
          null,
          null,
          null,
          null,
          null,
          null,
          null,
          null,
          null,
          null,
          null,
          null,
          null,
          null,
          null,
          null,
          59.458310297133,
          72.6529187893954,
          71.4397443359869,
          74.0618441426621,
          74.7053747121922,
          75.4195550331526,
          74.1794729751692,
          77.1353797964394,
          82.9624556298822,
          79.3576862813837,
          86.5,
          82.2,
          83.1,
          92.8,
          85.3,
          86.4,
          96.4,
          88.5,
          89.6,
          97.7,
          98.3,
          97.8,
          100,
          100,
          100,
          100,
          100,
          100,
          100,
          100,
          100,
          100,
          100,
          null
         ],
         "yaxis": "y"
        },
        {
         "hovertemplate": "country=Uruguay<br>date=%{x}<br>value=%{y}<extra></extra>",
         "legendgroup": "Uruguay",
         "line": {
          "color": "#00cc96",
          "dash": "solid"
         },
         "marker": {
          "symbol": "circle"
         },
         "mode": "lines",
         "name": "Uruguay",
         "orientation": "v",
         "showlegend": true,
         "type": "scatter",
         "x": [
          "1960-01-01T00:00:00",
          "1961-01-01T00:00:00",
          "1962-01-01T00:00:00",
          "1963-01-01T00:00:00",
          "1964-01-01T00:00:00",
          "1965-01-01T00:00:00",
          "1966-01-01T00:00:00",
          "1967-01-01T00:00:00",
          "1968-01-01T00:00:00",
          "1969-01-01T00:00:00",
          "1970-01-01T00:00:00",
          "1971-01-01T00:00:00",
          "1972-01-01T00:00:00",
          "1973-01-01T00:00:00",
          "1974-01-01T00:00:00",
          "1975-01-01T00:00:00",
          "1976-01-01T00:00:00",
          "1977-01-01T00:00:00",
          "1978-01-01T00:00:00",
          "1979-01-01T00:00:00",
          "1980-01-01T00:00:00",
          "1981-01-01T00:00:00",
          "1982-01-01T00:00:00",
          "1983-01-01T00:00:00",
          "1984-01-01T00:00:00",
          "1985-01-01T00:00:00",
          "1986-01-01T00:00:00",
          "1987-01-01T00:00:00",
          "1988-01-01T00:00:00",
          "1989-01-01T00:00:00",
          "1990-01-01T00:00:00",
          "1991-01-01T00:00:00",
          "1992-01-01T00:00:00",
          "1993-01-01T00:00:00",
          "1994-01-01T00:00:00",
          "1995-01-01T00:00:00",
          "1996-01-01T00:00:00",
          "1997-01-01T00:00:00",
          "1998-01-01T00:00:00",
          "1999-01-01T00:00:00",
          "2000-01-01T00:00:00",
          "2001-01-01T00:00:00",
          "2002-01-01T00:00:00",
          "2003-01-01T00:00:00",
          "2004-01-01T00:00:00",
          "2005-01-01T00:00:00",
          "2006-01-01T00:00:00",
          "2007-01-01T00:00:00",
          "2008-01-01T00:00:00",
          "2009-01-01T00:00:00",
          "2010-01-01T00:00:00",
          "2011-01-01T00:00:00",
          "2012-01-01T00:00:00",
          "2013-01-01T00:00:00",
          "2014-01-01T00:00:00",
          "2015-01-01T00:00:00",
          "2016-01-01T00:00:00",
          "2017-01-01T00:00:00",
          "2018-01-01T00:00:00",
          "2019-01-01T00:00:00",
          "2020-01-01T00:00:00",
          "2021-01-01T00:00:00",
          "2022-01-01T00:00:00",
          "2023-01-01T00:00:00"
         ],
         "xaxis": "x",
         "y": [
          null,
          null,
          null,
          null,
          null,
          null,
          null,
          null,
          null,
          null,
          null,
          null,
          null,
          null,
          null,
          null,
          null,
          null,
          null,
          null,
          null,
          null,
          null,
          null,
          null,
          null,
          null,
          null,
          null,
          null,
          null,
          null,
          77.2005902678541,
          73.2686698192808,
          73.5476591596717,
          73.9571549138308,
          62.0482294524734,
          73.9576901943799,
          74.7242211245104,
          76.9679349981963,
          78.1,
          80.3,
          80.9,
          81.6,
          82.2,
          82.8,
          86.6,
          88.2,
          88,
          92.6,
          94.2,
          94.6,
          100,
          100,
          100,
          100,
          100,
          100,
          100,
          100,
          100,
          100,
          100,
          null
         ],
         "yaxis": "y"
        }
       ],
       "layout": {
        "legend": {
         "title": {
          "text": "country"
         },
         "tracegroupgap": 0
        },
        "template": {
         "data": {
          "bar": [
           {
            "error_x": {
             "color": "#2a3f5f"
            },
            "error_y": {
             "color": "#2a3f5f"
            },
            "marker": {
             "line": {
              "color": "#E5ECF6",
              "width": 0.5
             },
             "pattern": {
              "fillmode": "overlay",
              "size": 10,
              "solidity": 0.2
             }
            },
            "type": "bar"
           }
          ],
          "barpolar": [
           {
            "marker": {
             "line": {
              "color": "#E5ECF6",
              "width": 0.5
             },
             "pattern": {
              "fillmode": "overlay",
              "size": 10,
              "solidity": 0.2
             }
            },
            "type": "barpolar"
           }
          ],
          "carpet": [
           {
            "aaxis": {
             "endlinecolor": "#2a3f5f",
             "gridcolor": "white",
             "linecolor": "white",
             "minorgridcolor": "white",
             "startlinecolor": "#2a3f5f"
            },
            "baxis": {
             "endlinecolor": "#2a3f5f",
             "gridcolor": "white",
             "linecolor": "white",
             "minorgridcolor": "white",
             "startlinecolor": "#2a3f5f"
            },
            "type": "carpet"
           }
          ],
          "choropleth": [
           {
            "colorbar": {
             "outlinewidth": 0,
             "ticks": ""
            },
            "type": "choropleth"
           }
          ],
          "contour": [
           {
            "colorbar": {
             "outlinewidth": 0,
             "ticks": ""
            },
            "colorscale": [
             [
              0,
              "#0d0887"
             ],
             [
              0.1111111111111111,
              "#46039f"
             ],
             [
              0.2222222222222222,
              "#7201a8"
             ],
             [
              0.3333333333333333,
              "#9c179e"
             ],
             [
              0.4444444444444444,
              "#bd3786"
             ],
             [
              0.5555555555555556,
              "#d8576b"
             ],
             [
              0.6666666666666666,
              "#ed7953"
             ],
             [
              0.7777777777777778,
              "#fb9f3a"
             ],
             [
              0.8888888888888888,
              "#fdca26"
             ],
             [
              1,
              "#f0f921"
             ]
            ],
            "type": "contour"
           }
          ],
          "contourcarpet": [
           {
            "colorbar": {
             "outlinewidth": 0,
             "ticks": ""
            },
            "type": "contourcarpet"
           }
          ],
          "heatmap": [
           {
            "colorbar": {
             "outlinewidth": 0,
             "ticks": ""
            },
            "colorscale": [
             [
              0,
              "#0d0887"
             ],
             [
              0.1111111111111111,
              "#46039f"
             ],
             [
              0.2222222222222222,
              "#7201a8"
             ],
             [
              0.3333333333333333,
              "#9c179e"
             ],
             [
              0.4444444444444444,
              "#bd3786"
             ],
             [
              0.5555555555555556,
              "#d8576b"
             ],
             [
              0.6666666666666666,
              "#ed7953"
             ],
             [
              0.7777777777777778,
              "#fb9f3a"
             ],
             [
              0.8888888888888888,
              "#fdca26"
             ],
             [
              1,
              "#f0f921"
             ]
            ],
            "type": "heatmap"
           }
          ],
          "heatmapgl": [
           {
            "colorbar": {
             "outlinewidth": 0,
             "ticks": ""
            },
            "colorscale": [
             [
              0,
              "#0d0887"
             ],
             [
              0.1111111111111111,
              "#46039f"
             ],
             [
              0.2222222222222222,
              "#7201a8"
             ],
             [
              0.3333333333333333,
              "#9c179e"
             ],
             [
              0.4444444444444444,
              "#bd3786"
             ],
             [
              0.5555555555555556,
              "#d8576b"
             ],
             [
              0.6666666666666666,
              "#ed7953"
             ],
             [
              0.7777777777777778,
              "#fb9f3a"
             ],
             [
              0.8888888888888888,
              "#fdca26"
             ],
             [
              1,
              "#f0f921"
             ]
            ],
            "type": "heatmapgl"
           }
          ],
          "histogram": [
           {
            "marker": {
             "pattern": {
              "fillmode": "overlay",
              "size": 10,
              "solidity": 0.2
             }
            },
            "type": "histogram"
           }
          ],
          "histogram2d": [
           {
            "colorbar": {
             "outlinewidth": 0,
             "ticks": ""
            },
            "colorscale": [
             [
              0,
              "#0d0887"
             ],
             [
              0.1111111111111111,
              "#46039f"
             ],
             [
              0.2222222222222222,
              "#7201a8"
             ],
             [
              0.3333333333333333,
              "#9c179e"
             ],
             [
              0.4444444444444444,
              "#bd3786"
             ],
             [
              0.5555555555555556,
              "#d8576b"
             ],
             [
              0.6666666666666666,
              "#ed7953"
             ],
             [
              0.7777777777777778,
              "#fb9f3a"
             ],
             [
              0.8888888888888888,
              "#fdca26"
             ],
             [
              1,
              "#f0f921"
             ]
            ],
            "type": "histogram2d"
           }
          ],
          "histogram2dcontour": [
           {
            "colorbar": {
             "outlinewidth": 0,
             "ticks": ""
            },
            "colorscale": [
             [
              0,
              "#0d0887"
             ],
             [
              0.1111111111111111,
              "#46039f"
             ],
             [
              0.2222222222222222,
              "#7201a8"
             ],
             [
              0.3333333333333333,
              "#9c179e"
             ],
             [
              0.4444444444444444,
              "#bd3786"
             ],
             [
              0.5555555555555556,
              "#d8576b"
             ],
             [
              0.6666666666666666,
              "#ed7953"
             ],
             [
              0.7777777777777778,
              "#fb9f3a"
             ],
             [
              0.8888888888888888,
              "#fdca26"
             ],
             [
              1,
              "#f0f921"
             ]
            ],
            "type": "histogram2dcontour"
           }
          ],
          "mesh3d": [
           {
            "colorbar": {
             "outlinewidth": 0,
             "ticks": ""
            },
            "type": "mesh3d"
           }
          ],
          "parcoords": [
           {
            "line": {
             "colorbar": {
              "outlinewidth": 0,
              "ticks": ""
             }
            },
            "type": "parcoords"
           }
          ],
          "pie": [
           {
            "automargin": true,
            "type": "pie"
           }
          ],
          "scatter": [
           {
            "fillpattern": {
             "fillmode": "overlay",
             "size": 10,
             "solidity": 0.2
            },
            "type": "scatter"
           }
          ],
          "scatter3d": [
           {
            "line": {
             "colorbar": {
              "outlinewidth": 0,
              "ticks": ""
             }
            },
            "marker": {
             "colorbar": {
              "outlinewidth": 0,
              "ticks": ""
             }
            },
            "type": "scatter3d"
           }
          ],
          "scattercarpet": [
           {
            "marker": {
             "colorbar": {
              "outlinewidth": 0,
              "ticks": ""
             }
            },
            "type": "scattercarpet"
           }
          ],
          "scattergeo": [
           {
            "marker": {
             "colorbar": {
              "outlinewidth": 0,
              "ticks": ""
             }
            },
            "type": "scattergeo"
           }
          ],
          "scattergl": [
           {
            "marker": {
             "colorbar": {
              "outlinewidth": 0,
              "ticks": ""
             }
            },
            "type": "scattergl"
           }
          ],
          "scattermapbox": [
           {
            "marker": {
             "colorbar": {
              "outlinewidth": 0,
              "ticks": ""
             }
            },
            "type": "scattermapbox"
           }
          ],
          "scatterpolar": [
           {
            "marker": {
             "colorbar": {
              "outlinewidth": 0,
              "ticks": ""
             }
            },
            "type": "scatterpolar"
           }
          ],
          "scatterpolargl": [
           {
            "marker": {
             "colorbar": {
              "outlinewidth": 0,
              "ticks": ""
             }
            },
            "type": "scatterpolargl"
           }
          ],
          "scatterternary": [
           {
            "marker": {
             "colorbar": {
              "outlinewidth": 0,
              "ticks": ""
             }
            },
            "type": "scatterternary"
           }
          ],
          "surface": [
           {
            "colorbar": {
             "outlinewidth": 0,
             "ticks": ""
            },
            "colorscale": [
             [
              0,
              "#0d0887"
             ],
             [
              0.1111111111111111,
              "#46039f"
             ],
             [
              0.2222222222222222,
              "#7201a8"
             ],
             [
              0.3333333333333333,
              "#9c179e"
             ],
             [
              0.4444444444444444,
              "#bd3786"
             ],
             [
              0.5555555555555556,
              "#d8576b"
             ],
             [
              0.6666666666666666,
              "#ed7953"
             ],
             [
              0.7777777777777778,
              "#fb9f3a"
             ],
             [
              0.8888888888888888,
              "#fdca26"
             ],
             [
              1,
              "#f0f921"
             ]
            ],
            "type": "surface"
           }
          ],
          "table": [
           {
            "cells": {
             "fill": {
              "color": "#EBF0F8"
             },
             "line": {
              "color": "white"
             }
            },
            "header": {
             "fill": {
              "color": "#C8D4E3"
             },
             "line": {
              "color": "white"
             }
            },
            "type": "table"
           }
          ]
         },
         "layout": {
          "annotationdefaults": {
           "arrowcolor": "#2a3f5f",
           "arrowhead": 0,
           "arrowwidth": 1
          },
          "autotypenumbers": "strict",
          "coloraxis": {
           "colorbar": {
            "outlinewidth": 0,
            "ticks": ""
           }
          },
          "colorscale": {
           "diverging": [
            [
             0,
             "#8e0152"
            ],
            [
             0.1,
             "#c51b7d"
            ],
            [
             0.2,
             "#de77ae"
            ],
            [
             0.3,
             "#f1b6da"
            ],
            [
             0.4,
             "#fde0ef"
            ],
            [
             0.5,
             "#f7f7f7"
            ],
            [
             0.6,
             "#e6f5d0"
            ],
            [
             0.7,
             "#b8e186"
            ],
            [
             0.8,
             "#7fbc41"
            ],
            [
             0.9,
             "#4d9221"
            ],
            [
             1,
             "#276419"
            ]
           ],
           "sequential": [
            [
             0,
             "#0d0887"
            ],
            [
             0.1111111111111111,
             "#46039f"
            ],
            [
             0.2222222222222222,
             "#7201a8"
            ],
            [
             0.3333333333333333,
             "#9c179e"
            ],
            [
             0.4444444444444444,
             "#bd3786"
            ],
            [
             0.5555555555555556,
             "#d8576b"
            ],
            [
             0.6666666666666666,
             "#ed7953"
            ],
            [
             0.7777777777777778,
             "#fb9f3a"
            ],
            [
             0.8888888888888888,
             "#fdca26"
            ],
            [
             1,
             "#f0f921"
            ]
           ],
           "sequentialminus": [
            [
             0,
             "#0d0887"
            ],
            [
             0.1111111111111111,
             "#46039f"
            ],
            [
             0.2222222222222222,
             "#7201a8"
            ],
            [
             0.3333333333333333,
             "#9c179e"
            ],
            [
             0.4444444444444444,
             "#bd3786"
            ],
            [
             0.5555555555555556,
             "#d8576b"
            ],
            [
             0.6666666666666666,
             "#ed7953"
            ],
            [
             0.7777777777777778,
             "#fb9f3a"
            ],
            [
             0.8888888888888888,
             "#fdca26"
            ],
            [
             1,
             "#f0f921"
            ]
           ]
          },
          "colorway": [
           "#636efa",
           "#EF553B",
           "#00cc96",
           "#ab63fa",
           "#FFA15A",
           "#19d3f3",
           "#FF6692",
           "#B6E880",
           "#FF97FF",
           "#FECB52"
          ],
          "font": {
           "color": "#2a3f5f"
          },
          "geo": {
           "bgcolor": "white",
           "lakecolor": "white",
           "landcolor": "#E5ECF6",
           "showlakes": true,
           "showland": true,
           "subunitcolor": "white"
          },
          "hoverlabel": {
           "align": "left"
          },
          "hovermode": "closest",
          "mapbox": {
           "style": "light"
          },
          "paper_bgcolor": "white",
          "plot_bgcolor": "#E5ECF6",
          "polar": {
           "angularaxis": {
            "gridcolor": "white",
            "linecolor": "white",
            "ticks": ""
           },
           "bgcolor": "#E5ECF6",
           "radialaxis": {
            "gridcolor": "white",
            "linecolor": "white",
            "ticks": ""
           }
          },
          "scene": {
           "xaxis": {
            "backgroundcolor": "#E5ECF6",
            "gridcolor": "white",
            "gridwidth": 2,
            "linecolor": "white",
            "showbackground": true,
            "ticks": "",
            "zerolinecolor": "white"
           },
           "yaxis": {
            "backgroundcolor": "#E5ECF6",
            "gridcolor": "white",
            "gridwidth": 2,
            "linecolor": "white",
            "showbackground": true,
            "ticks": "",
            "zerolinecolor": "white"
           },
           "zaxis": {
            "backgroundcolor": "#E5ECF6",
            "gridcolor": "white",
            "gridwidth": 2,
            "linecolor": "white",
            "showbackground": true,
            "ticks": "",
            "zerolinecolor": "white"
           }
          },
          "shapedefaults": {
           "line": {
            "color": "#2a3f5f"
           }
          },
          "ternary": {
           "aaxis": {
            "gridcolor": "white",
            "linecolor": "white",
            "ticks": ""
           },
           "baxis": {
            "gridcolor": "white",
            "linecolor": "white",
            "ticks": ""
           },
           "bgcolor": "#E5ECF6",
           "caxis": {
            "gridcolor": "white",
            "linecolor": "white",
            "ticks": ""
           }
          },
          "title": {
           "x": 0.05
          },
          "xaxis": {
           "automargin": true,
           "gridcolor": "white",
           "linecolor": "white",
           "ticks": "",
           "title": {
            "standoff": 15
           },
           "zerolinecolor": "white",
           "zerolinewidth": 2
          },
          "yaxis": {
           "automargin": true,
           "gridcolor": "white",
           "linecolor": "white",
           "ticks": "",
           "title": {
            "standoff": 15
           },
           "zerolinecolor": "white",
           "zerolinewidth": 2
          }
         }
        },
        "title": {
         "text": "Test"
        },
        "xaxis": {
         "anchor": "y",
         "domain": [
          0,
          1
         ],
         "title": {
          "text": "date"
         }
        },
        "yaxis": {
         "anchor": "x",
         "domain": [
          0,
          1
         ],
         "title": {
          "text": "value"
         }
        }
       }
      },
      "image/png": "[encoded data removed]",
      "text/html": [
       "<div>                            <div id=\"33c064ec-1be3-49b7-8b1e-867c639afd42\" class=\"plotly-graph-div\" style=\"height:525px; width:100%;\"></div>            <script type=\"text/javascript\">                require([\"plotly\"], function(Plotly) {                    window.PLOTLYENV=window.PLOTLYENV || {};                                    if (document.getElementById(\"33c064ec-1be3-49b7-8b1e-867c639afd42\")) {                    Plotly.newPlot(                        \"33c064ec-1be3-49b7-8b1e-867c639afd42\",                        [{\"hovertemplate\":\"country=Argentina\\u003cbr\\u003edate=%{x}\\u003cbr\\u003evalue=%{y}\\u003cextra\\u003e\\u003c\\u002fextra\\u003e\",\"legendgroup\":\"Argentina\",\"line\":{\"color\":\"#636efa\",\"dash\":\"solid\"},\"marker\":{\"symbol\":\"circle\"},\"mode\":\"lines\",\"name\":\"Argentina\",\"orientation\":\"v\",\"showlegend\":true,\"x\":[\"1960-01-01T00:00:00\",\"1961-01-01T00:00:00\",\"1962-01-01T00:00:00\",\"1963-01-01T00:00:00\",\"1964-01-01T00:00:00\",\"1965-01-01T00:00:00\",\"1966-01-01T00:00:00\",\"1967-01-01T00:00:00\",\"1968-01-01T00:00:00\",\"1969-01-01T00:00:00\",\"1970-01-01T00:00:00\",\"1971-01-01T00:00:00\",\"1972-01-01T00:00:00\",\"1973-01-01T00:00:00\",\"1974-01-01T00:00:00\",\"1975-01-01T00:00:00\",\"1976-01-01T00:00:00\",\"1977-01-01T00:00:00\",\"1978-01-01T00:00:00\",\"1979-01-01T00:00:00\",\"1980-01-01T00:00:00\",\"1981-01-01T00:00:00\",\"1982-01-01T00:00:00\",\"1983-01-01T00:00:00\",\"1984-01-01T00:00:00\",\"1985-01-01T00:00:00\",\"1986-01-01T00:00:00\",\"1987-01-01T00:00:00\",\"1988-01-01T00:00:00\",\"1989-01-01T00:00:00\",\"1990-01-01T00:00:00\",\"1991-01-01T00:00:00\",\"1992-01-01T00:00:00\",\"1993-01-01T00:00:00\",\"1994-01-01T00:00:00\",\"1995-01-01T00:00:00\",\"1996-01-01T00:00:00\",\"1997-01-01T00:00:00\",\"1998-01-01T00:00:00\",\"1999-01-01T00:00:00\",\"2000-01-01T00:00:00\",\"2001-01-01T00:00:00\",\"2002-01-01T00:00:00\",\"2003-01-01T00:00:00\",\"2004-01-01T00:00:00\",\"2005-01-01T00:00:00\",\"2006-01-01T00:00:00\",\"2007-01-01T00:00:00\",\"2008-01-01T00:00:00\",\"2009-01-01T00:00:00\",\"2010-01-01T00:00:00\",\"2011-01-01T00:00:00\",\"2012-01-01T00:00:00\",\"2013-01-01T00:00:00\",\"2014-01-01T00:00:00\",\"2015-01-01T00:00:00\",\"2016-01-01T00:00:00\",\"2017-01-01T00:00:00\",\"2018-01-01T00:00:00\",\"2019-01-01T00:00:00\",\"2020-01-01T00:00:00\",\"2021-01-01T00:00:00\",\"2022-01-01T00:00:00\",\"2023-01-01T00:00:00\"],\"xaxis\":\"x\",\"y\":[null,null,null,null,null,null,null,null,null,null,null,null,null,null,null,null,null,null,null,null,null,null,null,null,null,null,null,null,null,null,78.8945883201315,79.2542709682829,79.7786350872369,80.3337006585459,80.9358863354632,81.608093422829,82.3698768370974,83.247062020095,84.2638406906497,85.4318646348945,91.8,88.6,92.6,92.9,93.2,93.4,93.6,93.8,94.0,94.2,98.6,97.8,96.1,95.4,100.0,97.6,99.3,100.0,99.9,100.0,100.0,100.0,100.0,null],\"yaxis\":\"y\",\"type\":\"scatter\"},{\"hovertemplate\":\"country=Chile\\u003cbr\\u003edate=%{x}\\u003cbr\\u003evalue=%{y}\\u003cextra\\u003e\\u003c\\u002fextra\\u003e\",\"legendgroup\":\"Chile\",\"line\":{\"color\":\"#EF553B\",\"dash\":\"solid\"},\"marker\":{\"symbol\":\"circle\"},\"mode\":\"lines\",\"name\":\"Chile\",\"orientation\":\"v\",\"showlegend\":true,\"x\":[\"1960-01-01T00:00:00\",\"1961-01-01T00:00:00\",\"1962-01-01T00:00:00\",\"1963-01-01T00:00:00\",\"1964-01-01T00:00:00\",\"1965-01-01T00:00:00\",\"1966-01-01T00:00:00\",\"1967-01-01T00:00:00\",\"1968-01-01T00:00:00\",\"1969-01-01T00:00:00\",\"1970-01-01T00:00:00\",\"1971-01-01T00:00:00\",\"1972-01-01T00:00:00\",\"1973-01-01T00:00:00\",\"1974-01-01T00:00:00\",\"1975-01-01T00:00:00\",\"1976-01-01T00:00:00\",\"1977-01-01T00:00:00\",\"1978-01-01T00:00:00\",\"1979-01-01T00:00:00\",\"1980-01-01T00:00:00\",\"1981-01-01T00:00:00\",\"1982-01-01T00:00:00\",\"1983-01-01T00:00:00\",\"1984-01-01T00:00:00\",\"1985-01-01T00:00:00\",\"1986-01-01T00:00:00\",\"1987-01-01T00:00:00\",\"1988-01-01T00:00:00\",\"1989-01-01T00:00:00\",\"1990-01-01T00:00:00\",\"1991-01-01T00:00:00\",\"1992-01-01T00:00:00\",\"1993-01-01T00:00:00\",\"1994-01-01T00:00:00\",\"1995-01-01T00:00:00\",\"1996-01-01T00:00:00\",\"1997-01-01T00:00:00\",\"1998-01-01T00:00:00\",\"1999-01-01T00:00:00\",\"2000-01-01T00:00:00\",\"2001-01-01T00:00:00\",\"2002-01-01T00:00:00\",\"2003-01-01T00:00:00\",\"2004-01-01T00:00:00\",\"2005-01-01T00:00:00\",\"2006-01-01T00:00:00\",\"2007-01-01T00:00:00\",\"2008-01-01T00:00:00\",\"2009-01-01T00:00:00\",\"2010-01-01T00:00:00\",\"2011-01-01T00:00:00\",\"2012-01-01T00:00:00\",\"2013-01-01T00:00:00\",\"2014-01-01T00:00:00\",\"2015-01-01T00:00:00\",\"2016-01-01T00:00:00\",\"2017-01-01T00:00:00\",\"2018-01-01T00:00:00\",\"2019-01-01T00:00:00\",\"2020-01-01T00:00:00\",\"2021-01-01T00:00:00\",\"2022-01-01T00:00:00\",\"2023-01-01T00:00:00\"],\"xaxis\":\"x\",\"y\":[null,null,null,null,null,null,null,null,null,null,null,null,null,null,null,null,null,null,null,null,null,null,null,null,null,null,null,null,null,null,59.458310297133,72.6529187893954,71.4397443359869,74.0618441426621,74.7053747121922,75.4195550331526,74.1794729751692,77.1353797964394,82.9624556298822,79.3576862813837,86.5,82.2,83.1,92.8,85.3,86.4,96.4,88.5,89.6,97.7,98.3,97.8,100.0,100.0,100.0,100.0,100.0,100.0,100.0,100.0,100.0,100.0,100.0,null],\"yaxis\":\"y\",\"type\":\"scatter\"},{\"hovertemplate\":\"country=Uruguay\\u003cbr\\u003edate=%{x}\\u003cbr\\u003evalue=%{y}\\u003cextra\\u003e\\u003c\\u002fextra\\u003e\",\"legendgroup\":\"Uruguay\",\"line\":{\"color\":\"#00cc96\",\"dash\":\"solid\"},\"marker\":{\"symbol\":\"circle\"},\"mode\":\"lines\",\"name\":\"Uruguay\",\"orientation\":\"v\",\"showlegend\":true,\"x\":[\"1960-01-01T00:00:00\",\"1961-01-01T00:00:00\",\"1962-01-01T00:00:00\",\"1963-01-01T00:00:00\",\"1964-01-01T00:00:00\",\"1965-01-01T00:00:00\",\"1966-01-01T00:00:00\",\"1967-01-01T00:00:00\",\"1968-01-01T00:00:00\",\"1969-01-01T00:00:00\",\"1970-01-01T00:00:00\",\"1971-01-01T00:00:00\",\"1972-01-01T00:00:00\",\"1973-01-01T00:00:00\",\"1974-01-01T00:00:00\",\"1975-01-01T00:00:00\",\"1976-01-01T00:00:00\",\"1977-01-01T00:00:00\",\"1978-01-01T00:00:00\",\"1979-01-01T00:00:00\",\"1980-01-01T00:00:00\",\"1981-01-01T00:00:00\",\"1982-01-01T00:00:00\",\"1983-01-01T00:00:00\",\"1984-01-01T00:00:00\",\"1985-01-01T00:00:00\",\"1986-01-01T00:00:00\",\"1987-01-01T00:00:00\",\"1988-01-01T00:00:00\",\"1989-01-01T00:00:00\",\"1990-01-01T00:00:00\",\"1991-01-01T00:00:00\",\"1992-01-01T00:00:00\",\"1993-01-01T00:00:00\",\"1994-01-01T00:00:00\",\"1995-01-01T00:00:00\",\"1996-01-01T00:00:00\",\"1997-01-01T00:00:00\",\"1998-01-01T00:00:00\",\"1999-01-01T00:00:00\",\"2000-01-01T00:00:00\",\"2001-01-01T00:00:00\",\"2002-01-01T00:00:00\",\"2003-01-01T00:00:00\",\"2004-01-01T00:00:00\",\"2005-01-01T00:00:00\",\"2006-01-01T00:00:00\",\"2007-01-01T00:00:00\",\"2008-01-01T00:00:00\",\"2009-01-01T00:00:00\",\"2010-01-01T00:00:00\",\"2011-01-01T00:00:00\",\"2012-01-01T00:00:00\",\"2013-01-01T00:00:00\",\"2014-01-01T00:00:00\",\"2015-01-01T00:00:00\",\"2016-01-01T00:00:00\",\"2017-01-01T00:00:00\",\"2018-01-01T00:00:00\",\"2019-01-01T00:00:00\",\"2020-01-01T00:00:00\",\"2021-01-01T00:00:00\",\"2022-01-01T00:00:00\",\"2023-01-01T00:00:00\"],\"xaxis\":\"x\",\"y\":[null,null,null,null,null,null,null,null,null,null,null,null,null,null,null,null,null,null,null,null,null,null,null,null,null,null,null,null,null,null,null,null,77.2005902678541,73.2686698192808,73.5476591596717,73.9571549138308,62.0482294524734,73.9576901943799,74.7242211245104,76.9679349981963,78.1,80.3,80.9,81.6,82.2,82.8,86.6,88.2,88.0,92.6,94.2,94.6,100.0,100.0,100.0,100.0,100.0,100.0,100.0,100.0,100.0,100.0,100.0,null],\"yaxis\":\"y\",\"type\":\"scatter\"}],                        {\"template\":{\"data\":{\"histogram2dcontour\":[{\"type\":\"histogram2dcontour\",\"colorbar\":{\"outlinewidth\":0,\"ticks\":\"\"},\"colorscale\":[[0.0,\"#0d0887\"],[0.1111111111111111,\"#46039f\"],[0.2222222222222222,\"#7201a8\"],[0.3333333333333333,\"#9c179e\"],[0.4444444444444444,\"#bd3786\"],[0.5555555555555556,\"#d8576b\"],[0.6666666666666666,\"#ed7953\"],[0.7777777777777778,\"#fb9f3a\"],[0.8888888888888888,\"#fdca26\"],[1.0,\"#f0f921\"]]}],\"choropleth\":[{\"type\":\"choropleth\",\"colorbar\":{\"outlinewidth\":0,\"ticks\":\"\"}}],\"histogram2d\":[{\"type\":\"histogram2d\",\"colorbar\":{\"outlinewidth\":0,\"ticks\":\"\"},\"colorscale\":[[0.0,\"#0d0887\"],[0.1111111111111111,\"#46039f\"],[0.2222222222222222,\"#7201a8\"],[0.3333333333333333,\"#9c179e\"],[0.4444444444444444,\"#bd3786\"],[0.5555555555555556,\"#d8576b\"],[0.6666666666666666,\"#ed7953\"],[0.7777777777777778,\"#fb9f3a\"],[0.8888888888888888,\"#fdca26\"],[1.0,\"#f0f921\"]]}],\"heatmap\":[{\"type\":\"heatmap\",\"colorbar\":{\"outlinewidth\":0,\"ticks\":\"\"},\"colorscale\":[[0.0,\"#0d0887\"],[0.1111111111111111,\"#46039f\"],[0.2222222222222222,\"#7201a8\"],[0.3333333333333333,\"#9c179e\"],[0.4444444444444444,\"#bd3786\"],[0.5555555555555556,\"#d8576b\"],[0.6666666666666666,\"#ed7953\"],[0.7777777777777778,\"#fb9f3a\"],[0.8888888888888888,\"#fdca26\"],[1.0,\"#f0f921\"]]}],\"heatmapgl\":[{\"type\":\"heatmapgl\",\"colorbar\":{\"outlinewidth\":0,\"ticks\":\"\"},\"colorscale\":[[0.0,\"#0d0887\"],[0.1111111111111111,\"#46039f\"],[0.2222222222222222,\"#7201a8\"],[0.3333333333333333,\"#9c179e\"],[0.4444444444444444,\"#bd3786\"],[0.5555555555555556,\"#d8576b\"],[0.6666666666666666,\"#ed7953\"],[0.7777777777777778,\"#fb9f3a\"],[0.8888888888888888,\"#fdca26\"],[1.0,\"#f0f921\"]]}],\"contourcarpet\":[{\"type\":\"contourcarpet\",\"colorbar\":{\"outlinewidth\":0,\"ticks\":\"\"}}],\"contour\":[{\"type\":\"contour\",\"colorbar\":{\"outlinewidth\":0,\"ticks\":\"\"},\"colorscale\":[[0.0,\"#0d0887\"],[0.1111111111111111,\"#46039f\"],[0.2222222222222222,\"#7201a8\"],[0.3333333333333333,\"#9c179e\"],[0.4444444444444444,\"#bd3786\"],[0.5555555555555556,\"#d8576b\"],[0.6666666666666666,\"#ed7953\"],[0.7777777777777778,\"#fb9f3a\"],[0.8888888888888888,\"#fdca26\"],[1.0,\"#f0f921\"]]}],\"surface\":[{\"type\":\"surface\",\"colorbar\":{\"outlinewidth\":0,\"ticks\":\"\"},\"colorscale\":[[0.0,\"#0d0887\"],[0.1111111111111111,\"#46039f\"],[0.2222222222222222,\"#7201a8\"],[0.3333333333333333,\"#9c179e\"],[0.4444444444444444,\"#bd3786\"],[0.5555555555555556,\"#d8576b\"],[0.6666666666666666,\"#ed7953\"],[0.7777777777777778,\"#fb9f3a\"],[0.8888888888888888,\"#fdca26\"],[1.0,\"#f0f921\"]]}],\"mesh3d\":[{\"type\":\"mesh3d\",\"colorbar\":{\"outlinewidth\":0,\"ticks\":\"\"}}],\"scatter\":[{\"fillpattern\":{\"fillmode\":\"overlay\",\"size\":10,\"solidity\":0.2},\"type\":\"scatter\"}],\"parcoords\":[{\"type\":\"parcoords\",\"line\":{\"colorbar\":{\"outlinewidth\":0,\"ticks\":\"\"}}}],\"scatterpolargl\":[{\"type\":\"scatterpolargl\",\"marker\":{\"colorbar\":{\"outlinewidth\":0,\"ticks\":\"\"}}}],\"bar\":[{\"error_x\":{\"color\":\"#2a3f5f\"},\"error_y\":{\"color\":\"#2a3f5f\"},\"marker\":{\"line\":{\"color\":\"#E5ECF6\",\"width\":0.5},\"pattern\":{\"fillmode\":\"overlay\",\"size\":10,\"solidity\":0.2}},\"type\":\"bar\"}],\"scattergeo\":[{\"type\":\"scattergeo\",\"marker\":{\"colorbar\":{\"outlinewidth\":0,\"ticks\":\"\"}}}],\"scatterpolar\":[{\"type\":\"scatterpolar\",\"marker\":{\"colorbar\":{\"outlinewidth\":0,\"ticks\":\"\"}}}],\"histogram\":[{\"marker\":{\"pattern\":{\"fillmode\":\"overlay\",\"size\":10,\"solidity\":0.2}},\"type\":\"histogram\"}],\"scattergl\":[{\"type\":\"scattergl\",\"marker\":{\"colorbar\":{\"outlinewidth\":0,\"ticks\":\"\"}}}],\"scatter3d\":[{\"type\":\"scatter3d\",\"line\":{\"colorbar\":{\"outlinewidth\":0,\"ticks\":\"\"}},\"marker\":{\"colorbar\":{\"outlinewidth\":0,\"ticks\":\"\"}}}],\"scattermapbox\":[{\"type\":\"scattermapbox\",\"marker\":{\"colorbar\":{\"outlinewidth\":0,\"ticks\":\"\"}}}],\"scatterternary\":[{\"type\":\"scatterternary\",\"marker\":{\"colorbar\":{\"outlinewidth\":0,\"ticks\":\"\"}}}],\"scattercarpet\":[{\"type\":\"scattercarpet\",\"marker\":{\"colorbar\":{\"outlinewidth\":0,\"ticks\":\"\"}}}],\"carpet\":[{\"aaxis\":{\"endlinecolor\":\"#2a3f5f\",\"gridcolor\":\"white\",\"linecolor\":\"white\",\"minorgridcolor\":\"white\",\"startlinecolor\":\"#2a3f5f\"},\"baxis\":{\"endlinecolor\":\"#2a3f5f\",\"gridcolor\":\"white\",\"linecolor\":\"white\",\"minorgridcolor\":\"white\",\"startlinecolor\":\"#2a3f5f\"},\"type\":\"carpet\"}],\"table\":[{\"cells\":{\"fill\":{\"color\":\"#EBF0F8\"},\"line\":{\"color\":\"white\"}},\"header\":{\"fill\":{\"color\":\"#C8D4E3\"},\"line\":{\"color\":\"white\"}},\"type\":\"table\"}],\"barpolar\":[{\"marker\":{\"line\":{\"color\":\"#E5ECF6\",\"width\":0.5},\"pattern\":{\"fillmode\":\"overlay\",\"size\":10,\"solidity\":0.2}},\"type\":\"barpolar\"}],\"pie\":[{\"automargin\":true,\"type\":\"pie\"}]},\"layout\":{\"autotypenumbers\":\"strict\",\"colorway\":[\"#636efa\",\"#EF553B\",\"#00cc96\",\"#ab63fa\",\"#FFA15A\",\"#19d3f3\",\"#FF6692\",\"#B6E880\",\"#FF97FF\",\"#FECB52\"],\"font\":{\"color\":\"#2a3f5f\"},\"hovermode\":\"closest\",\"hoverlabel\":{\"align\":\"left\"},\"paper_bgcolor\":\"white\",\"plot_bgcolor\":\"#E5ECF6\",\"polar\":{\"bgcolor\":\"#E5ECF6\",\"angularaxis\":{\"gridcolor\":\"white\",\"linecolor\":\"white\",\"ticks\":\"\"},\"radialaxis\":{\"gridcolor\":\"white\",\"linecolor\":\"white\",\"ticks\":\"\"}},\"ternary\":{\"bgcolor\":\"#E5ECF6\",\"aaxis\":{\"gridcolor\":\"white\",\"linecolor\":\"white\",\"ticks\":\"\"},\"baxis\":{\"gridcolor\":\"white\",\"linecolor\":\"white\",\"ticks\":\"\"},\"caxis\":{\"gridcolor\":\"white\",\"linecolor\":\"white\",\"ticks\":\"\"}},\"coloraxis\":{\"colorbar\":{\"outlinewidth\":0,\"ticks\":\"\"}},\"colorscale\":{\"sequential\":[[0.0,\"#0d0887\"],[0.1111111111111111,\"#46039f\"],[0.2222222222222222,\"#7201a8\"],[0.3333333333333333,\"#9c179e\"],[0.4444444444444444,\"#bd3786\"],[0.5555555555555556,\"#d8576b\"],[0.6666666666666666,\"#ed7953\"],[0.7777777777777778,\"#fb9f3a\"],[0.8888888888888888,\"#fdca26\"],[1.0,\"#f0f921\"]],\"sequentialminus\":[[0.0,\"#0d0887\"],[0.1111111111111111,\"#46039f\"],[0.2222222222222222,\"#7201a8\"],[0.3333333333333333,\"#9c179e\"],[0.4444444444444444,\"#bd3786\"],[0.5555555555555556,\"#d8576b\"],[0.6666666666666666,\"#ed7953\"],[0.7777777777777778,\"#fb9f3a\"],[0.8888888888888888,\"#fdca26\"],[1.0,\"#f0f921\"]],\"diverging\":[[0,\"#8e0152\"],[0.1,\"#c51b7d\"],[0.2,\"#de77ae\"],[0.3,\"#f1b6da\"],[0.4,\"#fde0ef\"],[0.5,\"#f7f7f7\"],[0.6,\"#e6f5d0\"],[0.7,\"#b8e186\"],[0.8,\"#7fbc41\"],[0.9,\"#4d9221\"],[1,\"#276419\"]]},\"xaxis\":{\"gridcolor\":\"white\",\"linecolor\":\"white\",\"ticks\":\"\",\"title\":{\"standoff\":15},\"zerolinecolor\":\"white\",\"automargin\":true,\"zerolinewidth\":2},\"yaxis\":{\"gridcolor\":\"white\",\"linecolor\":\"white\",\"ticks\":\"\",\"title\":{\"standoff\":15},\"zerolinecolor\":\"white\",\"automargin\":true,\"zerolinewidth\":2},\"scene\":{\"xaxis\":{\"backgroundcolor\":\"#E5ECF6\",\"gridcolor\":\"white\",\"linecolor\":\"white\",\"showbackground\":true,\"ticks\":\"\",\"zerolinecolor\":\"white\",\"gridwidth\":2},\"yaxis\":{\"backgroundcolor\":\"#E5ECF6\",\"gridcolor\":\"white\",\"linecolor\":\"white\",\"showbackground\":true,\"ticks\":\"\",\"zerolinecolor\":\"white\",\"gridwidth\":2},\"zaxis\":{\"backgroundcolor\":\"#E5ECF6\",\"gridcolor\":\"white\",\"linecolor\":\"white\",\"showbackground\":true,\"ticks\":\"\",\"zerolinecolor\":\"white\",\"gridwidth\":2}},\"shapedefaults\":{\"line\":{\"color\":\"#2a3f5f\"}},\"annotationdefaults\":{\"arrowcolor\":\"#2a3f5f\",\"arrowhead\":0,\"arrowwidth\":1},\"geo\":{\"bgcolor\":\"white\",\"landcolor\":\"#E5ECF6\",\"subunitcolor\":\"white\",\"showland\":true,\"showlakes\":true,\"lakecolor\":\"white\"},\"title\":{\"x\":0.05},\"mapbox\":{\"style\":\"light\"}}},\"xaxis\":{\"anchor\":\"y\",\"domain\":[0.0,1.0],\"title\":{\"text\":\"date\"}},\"yaxis\":{\"anchor\":\"x\",\"domain\":[0.0,1.0],\"title\":{\"text\":\"value\"}},\"legend\":{\"title\":{\"text\":\"country\"},\"tracegroupgap\":0},\"title\":{\"text\":\"Test\"}},                        {\"responsive\": true}                    ).then(function(){\n",
       "                            \n",
       "var gd = document.getElementById('33c064ec-1be3-49b7-8b1e-867c639afd42');\n",
       "var x = new MutationObserver(function (mutations, observer) {{\n",
       "        var display = window.getComputedStyle(gd).display;\n",
       "        if (!display || display === 'none') {{\n",
       "            console.log([gd, 'removed!']);\n",
       "            Plotly.purge(gd);\n",
       "            observer.disconnect();\n",
       "        }}\n",
       "}});\n",
       "\n",
       "// Listen for the removal of the full notebook cells\n",
       "var notebookContainer = gd.closest('#notebook-container');\n",
       "if (notebookContainer) {{\n",
       "    x.observe(notebookContainer, {childList: true});\n",
       "}}\n",
       "\n",
       "// Listen for the clearing of the current output cell\n",
       "var outputEl = gd.closest('.output');\n",
       "if (outputEl) {{\n",
       "    x.observe(outputEl, {childList: true});\n",
       "}}\n",
       "\n",
       "                        })                };                });            </script>        </div>"
      ]
     },
     "metadata": {},
     "output_type": "display_data"
    }
   ],
   "source": [
    "# this is extra code left over from playing around, for now\n",
    "vars4 = {\"EG.ELC.ACCS.RU.ZS\":\"Investigation\"}\n",
    "\n",
    "#BLA is all of Latin America and the Caribbean\n",
    "\n",
    "scone=[\"BLA\",\"CHL\",\"ARG\",\"URY\"]\n",
    "viet=[\"VNM\",\"BRA\"]\n",
    "\n",
    "chldlabor = wbdata.get_dataframe(vars4,country=scone,parse_dates=True).squeeze().unstack('country')\n",
    "\n",
    "chldlabor.plot(title=\"Test\")"
   ]
  },
  {
   "cell_type": "code",
   "execution_count": null,
   "id": "09ec78ab-07d6-4e45-8a5d-f63ed1ccffed",
   "metadata": {
    "scrolled": true
   },
   "outputs": [],
   "source": [
    "wbdata.get_indicators(source=40)"
   ]
  },
  {
   "cell_type": "code",
   "execution_count": null,
   "id": "932dfec4-78a6-42fd-9bef-c8086fa067be",
   "metadata": {},
   "outputs": [],
   "source": [
    "# World Population Pyramid"
   ]
  },
  {
   "cell_type": "code",
   "execution_count": 3,
   "id": "b5827f21-824e-4b27-bc59-ce1a9bca5587",
   "metadata": {},
   "outputs": [
    {
     "name": "stdout",
     "output_type": "stream",
     "text": [
      "['0004', '0509', '1014', '1519', '2024', '2529', '3034', '3539', '4044', '4549', '5054', '5559', '6064', '6569', '7074', '7579', '80UP']\n"
     ]
    }
   ],
   "source": [
    "# Constructing a list of all possible age categories, such as 0-4, 5-9, ... 75-79, 80PLUS.\n",
    "ages = []\n",
    "for a in range(0,80,5):\n",
    "    ages.append(f\"{a:02d}\"+f\"{a+4:02d}\")\n",
    "\n",
    "ages.append(\"80UP\")\n",
    "# Print the result to ensure the correct ranges are created.\n",
    "print(ages)"
   ]
  },
  {
   "cell_type": "code",
   "execution_count": 4,
   "id": "3346f0f2-4b6b-4935-90cf-fca0a2c5c6a3",
   "metadata": {},
   "outputs": [
    {
     "name": "stdout",
     "output_type": "stream",
     "text": [
      "{'SP.POP.0004.MA': 'Males 0004', 'SP.POP.0509.MA': 'Males 0509', 'SP.POP.1014.MA': 'Males 1014', 'SP.POP.1519.MA': 'Males 1519', 'SP.POP.2024.MA': 'Males 2024', 'SP.POP.2529.MA': 'Males 2529', 'SP.POP.3034.MA': 'Males 3034', 'SP.POP.3539.MA': 'Males 3539', 'SP.POP.4044.MA': 'Males 4044', 'SP.POP.4549.MA': 'Males 4549', 'SP.POP.5054.MA': 'Males 5054', 'SP.POP.5559.MA': 'Males 5559', 'SP.POP.6064.MA': 'Males 6064', 'SP.POP.6569.MA': 'Males 6569', 'SP.POP.7074.MA': 'Males 7074', 'SP.POP.7579.MA': 'Males 7579', 'SP.POP.80UP.MA': 'Males 80UP', 'SP.POP.0004.FE': 'Females 0004', 'SP.POP.0509.FE': 'Females 0509', 'SP.POP.1014.FE': 'Females 1014', 'SP.POP.1519.FE': 'Females 1519', 'SP.POP.2024.FE': 'Females 2024', 'SP.POP.2529.FE': 'Females 2529', 'SP.POP.3034.FE': 'Females 3034', 'SP.POP.3539.FE': 'Females 3539', 'SP.POP.4044.FE': 'Females 4044', 'SP.POP.4549.FE': 'Females 4549', 'SP.POP.5054.FE': 'Females 5054', 'SP.POP.5559.FE': 'Females 5559', 'SP.POP.6064.FE': 'Females 6064', 'SP.POP.6569.FE': 'Females 6569', 'SP.POP.7074.FE': 'Females 7074', 'SP.POP.7579.FE': 'Females 7579', 'SP.POP.80UP.FE': 'Females 80UP'}\n"
     ]
    }
   ],
   "source": [
    "# Creates a dictionary, where each term defining a population in the wbdata dataset is named more descriptively.\n",
    "male_ranges = {\"SP.POP.\"+age_range+\".MA\":\"Males \"+age_range for age_range in ages}\n",
    "female_ranges = {\"SP.POP.\"+age_range+\".FE\":\"Females \"+age_range for age_range in ages}\n",
    "\n",
    "# Develop a combined dictionary, then print it to sanity check.\n",
    "categories = {**male_ranges, **female_ranges}\n",
    "print(categories)"
   ]
  },
  {
   "cell_type": "code",
   "execution_count": 45,
   "id": "6918c7c2-f3aa-49bd-9e8f-1d2f494a4666",
   "metadata": {
    "scrolled": true
   },
   "outputs": [],
   "source": [
    "# Make a dataframe of the chosen 'country_choice' data\n",
    "\n",
    "country_choice = \"WLD\"\n",
    "world = wbdata.get_dataframe(categories,country=country_choice)"
   ]
  },
  {
   "cell_type": "code",
   "execution_count": 46,
   "id": "f31a9f33-7ed6-42cd-b48d-5d2ed2dd3c78",
   "metadata": {},
   "outputs": [
    {
     "data": {
      "text/html": [
       "        <script type=\"text/javascript\">\n",
       "        window.PlotlyConfig = {MathJaxConfig: 'local'};\n",
       "        if (window.MathJax && window.MathJax.Hub && window.MathJax.Hub.Config) {window.MathJax.Hub.Config({SVG: {font: \"STIX-Web\"}});}\n",
       "        if (typeof require !== 'undefined') {\n",
       "        require.undef(\"plotly\");\n",
       "        requirejs.config({\n",
       "            paths: {\n",
       "                'plotly': ['https://cdn.plot.ly/plotly-2.35.2.min']\n",
       "            }\n",
       "        });\n",
       "        require(['plotly'], function(Plotly) {\n",
       "            window._Plotly = Plotly;\n",
       "        });\n",
       "        }\n",
       "        </script>\n",
       "        "
      ]
     },
     "metadata": {},
     "output_type": "display_data"
    },
    {
     "data": {
      "application/vnd.plotly.v1+json": {
       "config": {
        "linkText": "Export to plot.ly",
        "plotlyServerURL": "https://plot.ly",
        "showLink": false
       },
       "data": [
        {
         "hoverinfo": "skip",
         "marker": {
          "color": "olive",
          "line": {
           "color": "black",
           "width": 1
          }
         },
         "name": "Men",
         "orientation": "h",
         "type": "bar",
         "x": [
          334765288,
          353677898,
          350908323,
          330734289,
          315810689,
          307639362,
          310933348,
          295368359,
          264576185,
          237668148,
          229011272,
          203254223,
          162420898,
          135500657,
          99573175,
          61764493,
          60745503
         ],
         "y": [
          1,
          6,
          11,
          16,
          21,
          26,
          31,
          36,
          41,
          46,
          51,
          56,
          61,
          66,
          71,
          76,
          81
         ]
        },
        {
         "hoverinfo": "skip",
         "marker": {
          "color": "purple",
          "line": {
           "color": "black",
           "width": 1
          }
         },
         "name": "Women",
         "orientation": "h",
         "type": "bar",
         "x": [
          -317720103,
          -333286965,
          -328854130,
          -310627065,
          -297607203,
          -290279991,
          -295121795,
          -283877044,
          -257096669,
          -234564251,
          -229951766,
          -208886865,
          -172758277,
          -151572611,
          -118632451,
          -78182123,
          -98504674
         ],
         "y": [
          1,
          6,
          11,
          16,
          21,
          26,
          31,
          36,
          41,
          46,
          51,
          56,
          61,
          66,
          71,
          76,
          81
         ]
        }
       ],
       "layout": {
        "barmode": "overlay",
        "font": {
         "color": "black",
         "family": "Arial, sans-serif",
         "size": 14
        },
        "height": 600,
        "paper_bgcolor": "#f4f4f4",
        "plot_bgcolor": "#ffffff",
        "showlegend": true,
        "template": {
         "data": {
          "bar": [
           {
            "error_x": {
             "color": "#2a3f5f"
            },
            "error_y": {
             "color": "#2a3f5f"
            },
            "marker": {
             "line": {
              "color": "#E5ECF6",
              "width": 0.5
             },
             "pattern": {
              "fillmode": "overlay",
              "size": 10,
              "solidity": 0.2
             }
            },
            "type": "bar"
           }
          ],
          "barpolar": [
           {
            "marker": {
             "line": {
              "color": "#E5ECF6",
              "width": 0.5
             },
             "pattern": {
              "fillmode": "overlay",
              "size": 10,
              "solidity": 0.2
             }
            },
            "type": "barpolar"
           }
          ],
          "carpet": [
           {
            "aaxis": {
             "endlinecolor": "#2a3f5f",
             "gridcolor": "white",
             "linecolor": "white",
             "minorgridcolor": "white",
             "startlinecolor": "#2a3f5f"
            },
            "baxis": {
             "endlinecolor": "#2a3f5f",
             "gridcolor": "white",
             "linecolor": "white",
             "minorgridcolor": "white",
             "startlinecolor": "#2a3f5f"
            },
            "type": "carpet"
           }
          ],
          "choropleth": [
           {
            "colorbar": {
             "outlinewidth": 0,
             "ticks": ""
            },
            "type": "choropleth"
           }
          ],
          "contour": [
           {
            "colorbar": {
             "outlinewidth": 0,
             "ticks": ""
            },
            "colorscale": [
             [
              0,
              "#0d0887"
             ],
             [
              0.1111111111111111,
              "#46039f"
             ],
             [
              0.2222222222222222,
              "#7201a8"
             ],
             [
              0.3333333333333333,
              "#9c179e"
             ],
             [
              0.4444444444444444,
              "#bd3786"
             ],
             [
              0.5555555555555556,
              "#d8576b"
             ],
             [
              0.6666666666666666,
              "#ed7953"
             ],
             [
              0.7777777777777778,
              "#fb9f3a"
             ],
             [
              0.8888888888888888,
              "#fdca26"
             ],
             [
              1,
              "#f0f921"
             ]
            ],
            "type": "contour"
           }
          ],
          "contourcarpet": [
           {
            "colorbar": {
             "outlinewidth": 0,
             "ticks": ""
            },
            "type": "contourcarpet"
           }
          ],
          "heatmap": [
           {
            "colorbar": {
             "outlinewidth": 0,
             "ticks": ""
            },
            "colorscale": [
             [
              0,
              "#0d0887"
             ],
             [
              0.1111111111111111,
              "#46039f"
             ],
             [
              0.2222222222222222,
              "#7201a8"
             ],
             [
              0.3333333333333333,
              "#9c179e"
             ],
             [
              0.4444444444444444,
              "#bd3786"
             ],
             [
              0.5555555555555556,
              "#d8576b"
             ],
             [
              0.6666666666666666,
              "#ed7953"
             ],
             [
              0.7777777777777778,
              "#fb9f3a"
             ],
             [
              0.8888888888888888,
              "#fdca26"
             ],
             [
              1,
              "#f0f921"
             ]
            ],
            "type": "heatmap"
           }
          ],
          "heatmapgl": [
           {
            "colorbar": {
             "outlinewidth": 0,
             "ticks": ""
            },
            "colorscale": [
             [
              0,
              "#0d0887"
             ],
             [
              0.1111111111111111,
              "#46039f"
             ],
             [
              0.2222222222222222,
              "#7201a8"
             ],
             [
              0.3333333333333333,
              "#9c179e"
             ],
             [
              0.4444444444444444,
              "#bd3786"
             ],
             [
              0.5555555555555556,
              "#d8576b"
             ],
             [
              0.6666666666666666,
              "#ed7953"
             ],
             [
              0.7777777777777778,
              "#fb9f3a"
             ],
             [
              0.8888888888888888,
              "#fdca26"
             ],
             [
              1,
              "#f0f921"
             ]
            ],
            "type": "heatmapgl"
           }
          ],
          "histogram": [
           {
            "marker": {
             "pattern": {
              "fillmode": "overlay",
              "size": 10,
              "solidity": 0.2
             }
            },
            "type": "histogram"
           }
          ],
          "histogram2d": [
           {
            "colorbar": {
             "outlinewidth": 0,
             "ticks": ""
            },
            "colorscale": [
             [
              0,
              "#0d0887"
             ],
             [
              0.1111111111111111,
              "#46039f"
             ],
             [
              0.2222222222222222,
              "#7201a8"
             ],
             [
              0.3333333333333333,
              "#9c179e"
             ],
             [
              0.4444444444444444,
              "#bd3786"
             ],
             [
              0.5555555555555556,
              "#d8576b"
             ],
             [
              0.6666666666666666,
              "#ed7953"
             ],
             [
              0.7777777777777778,
              "#fb9f3a"
             ],
             [
              0.8888888888888888,
              "#fdca26"
             ],
             [
              1,
              "#f0f921"
             ]
            ],
            "type": "histogram2d"
           }
          ],
          "histogram2dcontour": [
           {
            "colorbar": {
             "outlinewidth": 0,
             "ticks": ""
            },
            "colorscale": [
             [
              0,
              "#0d0887"
             ],
             [
              0.1111111111111111,
              "#46039f"
             ],
             [
              0.2222222222222222,
              "#7201a8"
             ],
             [
              0.3333333333333333,
              "#9c179e"
             ],
             [
              0.4444444444444444,
              "#bd3786"
             ],
             [
              0.5555555555555556,
              "#d8576b"
             ],
             [
              0.6666666666666666,
              "#ed7953"
             ],
             [
              0.7777777777777778,
              "#fb9f3a"
             ],
             [
              0.8888888888888888,
              "#fdca26"
             ],
             [
              1,
              "#f0f921"
             ]
            ],
            "type": "histogram2dcontour"
           }
          ],
          "mesh3d": [
           {
            "colorbar": {
             "outlinewidth": 0,
             "ticks": ""
            },
            "type": "mesh3d"
           }
          ],
          "parcoords": [
           {
            "line": {
             "colorbar": {
              "outlinewidth": 0,
              "ticks": ""
             }
            },
            "type": "parcoords"
           }
          ],
          "pie": [
           {
            "automargin": true,
            "type": "pie"
           }
          ],
          "scatter": [
           {
            "fillpattern": {
             "fillmode": "overlay",
             "size": 10,
             "solidity": 0.2
            },
            "type": "scatter"
           }
          ],
          "scatter3d": [
           {
            "line": {
             "colorbar": {
              "outlinewidth": 0,
              "ticks": ""
             }
            },
            "marker": {
             "colorbar": {
              "outlinewidth": 0,
              "ticks": ""
             }
            },
            "type": "scatter3d"
           }
          ],
          "scattercarpet": [
           {
            "marker": {
             "colorbar": {
              "outlinewidth": 0,
              "ticks": ""
             }
            },
            "type": "scattercarpet"
           }
          ],
          "scattergeo": [
           {
            "marker": {
             "colorbar": {
              "outlinewidth": 0,
              "ticks": ""
             }
            },
            "type": "scattergeo"
           }
          ],
          "scattergl": [
           {
            "marker": {
             "colorbar": {
              "outlinewidth": 0,
              "ticks": ""
             }
            },
            "type": "scattergl"
           }
          ],
          "scattermapbox": [
           {
            "marker": {
             "colorbar": {
              "outlinewidth": 0,
              "ticks": ""
             }
            },
            "type": "scattermapbox"
           }
          ],
          "scatterpolar": [
           {
            "marker": {
             "colorbar": {
              "outlinewidth": 0,
              "ticks": ""
             }
            },
            "type": "scatterpolar"
           }
          ],
          "scatterpolargl": [
           {
            "marker": {
             "colorbar": {
              "outlinewidth": 0,
              "ticks": ""
             }
            },
            "type": "scatterpolargl"
           }
          ],
          "scatterternary": [
           {
            "marker": {
             "colorbar": {
              "outlinewidth": 0,
              "ticks": ""
             }
            },
            "type": "scatterternary"
           }
          ],
          "surface": [
           {
            "colorbar": {
             "outlinewidth": 0,
             "ticks": ""
            },
            "colorscale": [
             [
              0,
              "#0d0887"
             ],
             [
              0.1111111111111111,
              "#46039f"
             ],
             [
              0.2222222222222222,
              "#7201a8"
             ],
             [
              0.3333333333333333,
              "#9c179e"
             ],
             [
              0.4444444444444444,
              "#bd3786"
             ],
             [
              0.5555555555555556,
              "#d8576b"
             ],
             [
              0.6666666666666666,
              "#ed7953"
             ],
             [
              0.7777777777777778,
              "#fb9f3a"
             ],
             [
              0.8888888888888888,
              "#fdca26"
             ],
             [
              1,
              "#f0f921"
             ]
            ],
            "type": "surface"
           }
          ],
          "table": [
           {
            "cells": {
             "fill": {
              "color": "#EBF0F8"
             },
             "line": {
              "color": "white"
             }
            },
            "header": {
             "fill": {
              "color": "#C8D4E3"
             },
             "line": {
              "color": "white"
             }
            },
            "type": "table"
           }
          ]
         },
         "layout": {
          "annotationdefaults": {
           "arrowcolor": "#2a3f5f",
           "arrowhead": 0,
           "arrowwidth": 1
          },
          "autotypenumbers": "strict",
          "coloraxis": {
           "colorbar": {
            "outlinewidth": 0,
            "ticks": ""
           }
          },
          "colorscale": {
           "diverging": [
            [
             0,
             "#8e0152"
            ],
            [
             0.1,
             "#c51b7d"
            ],
            [
             0.2,
             "#de77ae"
            ],
            [
             0.3,
             "#f1b6da"
            ],
            [
             0.4,
             "#fde0ef"
            ],
            [
             0.5,
             "#f7f7f7"
            ],
            [
             0.6,
             "#e6f5d0"
            ],
            [
             0.7,
             "#b8e186"
            ],
            [
             0.8,
             "#7fbc41"
            ],
            [
             0.9,
             "#4d9221"
            ],
            [
             1,
             "#276419"
            ]
           ],
           "sequential": [
            [
             0,
             "#0d0887"
            ],
            [
             0.1111111111111111,
             "#46039f"
            ],
            [
             0.2222222222222222,
             "#7201a8"
            ],
            [
             0.3333333333333333,
             "#9c179e"
            ],
            [
             0.4444444444444444,
             "#bd3786"
            ],
            [
             0.5555555555555556,
             "#d8576b"
            ],
            [
             0.6666666666666666,
             "#ed7953"
            ],
            [
             0.7777777777777778,
             "#fb9f3a"
            ],
            [
             0.8888888888888888,
             "#fdca26"
            ],
            [
             1,
             "#f0f921"
            ]
           ],
           "sequentialminus": [
            [
             0,
             "#0d0887"
            ],
            [
             0.1111111111111111,
             "#46039f"
            ],
            [
             0.2222222222222222,
             "#7201a8"
            ],
            [
             0.3333333333333333,
             "#9c179e"
            ],
            [
             0.4444444444444444,
             "#bd3786"
            ],
            [
             0.5555555555555556,
             "#d8576b"
            ],
            [
             0.6666666666666666,
             "#ed7953"
            ],
            [
             0.7777777777777778,
             "#fb9f3a"
            ],
            [
             0.8888888888888888,
             "#fdca26"
            ],
            [
             1,
             "#f0f921"
            ]
           ]
          },
          "colorway": [
           "#636efa",
           "#EF553B",
           "#00cc96",
           "#ab63fa",
           "#FFA15A",
           "#19d3f3",
           "#FF6692",
           "#B6E880",
           "#FF97FF",
           "#FECB52"
          ],
          "font": {
           "color": "#2a3f5f"
          },
          "geo": {
           "bgcolor": "white",
           "lakecolor": "white",
           "landcolor": "#E5ECF6",
           "showlakes": true,
           "showland": true,
           "subunitcolor": "white"
          },
          "hoverlabel": {
           "align": "left"
          },
          "hovermode": "closest",
          "mapbox": {
           "style": "light"
          },
          "paper_bgcolor": "white",
          "plot_bgcolor": "#E5ECF6",
          "polar": {
           "angularaxis": {
            "gridcolor": "white",
            "linecolor": "white",
            "ticks": ""
           },
           "bgcolor": "#E5ECF6",
           "radialaxis": {
            "gridcolor": "white",
            "linecolor": "white",
            "ticks": ""
           }
          },
          "scene": {
           "xaxis": {
            "backgroundcolor": "#E5ECF6",
            "gridcolor": "white",
            "gridwidth": 2,
            "linecolor": "white",
            "showbackground": true,
            "ticks": "",
            "zerolinecolor": "white"
           },
           "yaxis": {
            "backgroundcolor": "#E5ECF6",
            "gridcolor": "white",
            "gridwidth": 2,
            "linecolor": "white",
            "showbackground": true,
            "ticks": "",
            "zerolinecolor": "white"
           },
           "zaxis": {
            "backgroundcolor": "#E5ECF6",
            "gridcolor": "white",
            "gridwidth": 2,
            "linecolor": "white",
            "showbackground": true,
            "ticks": "",
            "zerolinecolor": "white"
           }
          },
          "shapedefaults": {
           "line": {
            "color": "#2a3f5f"
           }
          },
          "ternary": {
           "aaxis": {
            "gridcolor": "white",
            "linecolor": "white",
            "ticks": ""
           },
           "baxis": {
            "gridcolor": "white",
            "linecolor": "white",
            "ticks": ""
           },
           "bgcolor": "#E5ECF6",
           "caxis": {
            "gridcolor": "white",
            "linecolor": "white",
            "ticks": ""
           }
          },
          "title": {
           "x": 0.05
          },
          "xaxis": {
           "automargin": true,
           "gridcolor": "white",
           "linecolor": "white",
           "ticks": "",
           "title": {
            "standoff": 15
           },
           "zerolinecolor": "white",
           "zerolinewidth": 2
          },
          "yaxis": {
           "automargin": true,
           "gridcolor": "white",
           "linecolor": "white",
           "ticks": "",
           "title": {
            "standoff": 15
           },
           "zerolinecolor": "white",
           "zerolinewidth": 2
          }
         }
        },
        "title": {
         "font": {
          "color": "black",
          "size": 18
         },
         "text": "Population Pyramid of the World (2023)"
        },
        "width": 600,
        "xaxis": {
         "gridcolor": "lightgray",
         "tickfont": {
          "size": 12
         },
         "title": {
          "font": {
           "size": 16
          },
          "text": "Number of People"
         }
        },
        "yaxis": {
         "gridcolor": "lightgray",
         "range": [
          0,
          90
         ],
         "tickfont": {
          "size": 12
         },
         "title": {
          "font": {
           "size": 16
          },
          "text": "Age"
         }
        }
       }
      },
      "image/png": "[encoded data removed]",
      "text/html": [
       "<div>                            <div id=\"81cb9eb9-e65c-4f91-b63f-e182c4670cc9\" class=\"plotly-graph-div\" style=\"height:600px; width:600px;\"></div>            <script type=\"text/javascript\">                require([\"plotly\"], function(Plotly) {                    window.PLOTLYENV=window.PLOTLYENV || {};                                    if (document.getElementById(\"81cb9eb9-e65c-4f91-b63f-e182c4670cc9\")) {                    Plotly.newPlot(                        \"81cb9eb9-e65c-4f91-b63f-e182c4670cc9\",                        [{\"hoverinfo\":\"skip\",\"marker\":{\"color\":\"olive\",\"line\":{\"color\":\"black\",\"width\":1}},\"name\":\"Men\",\"orientation\":\"h\",\"x\":[334765288.0,353677898.0,350908323.0,330734289.0,315810689.0,307639362.0,310933348.0,295368359.0,264576185.0,237668148.0,229011272.0,203254223.0,162420898.0,135500657.0,99573175.0,61764493.0,60745503.0],\"y\":[1,6,11,16,21,26,31,36,41,46,51,56,61,66,71,76,81],\"type\":\"bar\"},{\"hoverinfo\":\"skip\",\"marker\":{\"color\":\"purple\",\"line\":{\"color\":\"black\",\"width\":1}},\"name\":\"Women\",\"orientation\":\"h\",\"x\":[-317720103.0,-333286965.0,-328854130.0,-310627065.0,-297607203.0,-290279991.0,-295121795.0,-283877044.0,-257096669.0,-234564251.0,-229951766.0,-208886865.0,-172758277.0,-151572611.0,-118632451.0,-78182123.0,-98504674.0],\"y\":[1,6,11,16,21,26,31,36,41,46,51,56,61,66,71,76,81],\"type\":\"bar\"}],                        {\"barmode\":\"overlay\",\"font\":{\"color\":\"black\",\"family\":\"Arial, sans-serif\",\"size\":14},\"height\":600,\"paper_bgcolor\":\"#f4f4f4\",\"plot_bgcolor\":\"#ffffff\",\"showlegend\":true,\"template\":{\"data\":{\"barpolar\":[{\"marker\":{\"line\":{\"color\":\"#E5ECF6\",\"width\":0.5},\"pattern\":{\"fillmode\":\"overlay\",\"size\":10,\"solidity\":0.2}},\"type\":\"barpolar\"}],\"bar\":[{\"error_x\":{\"color\":\"#2a3f5f\"},\"error_y\":{\"color\":\"#2a3f5f\"},\"marker\":{\"line\":{\"color\":\"#E5ECF6\",\"width\":0.5},\"pattern\":{\"fillmode\":\"overlay\",\"size\":10,\"solidity\":0.2}},\"type\":\"bar\"}],\"carpet\":[{\"aaxis\":{\"endlinecolor\":\"#2a3f5f\",\"gridcolor\":\"white\",\"linecolor\":\"white\",\"minorgridcolor\":\"white\",\"startlinecolor\":\"#2a3f5f\"},\"baxis\":{\"endlinecolor\":\"#2a3f5f\",\"gridcolor\":\"white\",\"linecolor\":\"white\",\"minorgridcolor\":\"white\",\"startlinecolor\":\"#2a3f5f\"},\"type\":\"carpet\"}],\"choropleth\":[{\"colorbar\":{\"outlinewidth\":0,\"ticks\":\"\"},\"type\":\"choropleth\"}],\"contourcarpet\":[{\"colorbar\":{\"outlinewidth\":0,\"ticks\":\"\"},\"type\":\"contourcarpet\"}],\"contour\":[{\"colorbar\":{\"outlinewidth\":0,\"ticks\":\"\"},\"colorscale\":[[0.0,\"#0d0887\"],[0.1111111111111111,\"#46039f\"],[0.2222222222222222,\"#7201a8\"],[0.3333333333333333,\"#9c179e\"],[0.4444444444444444,\"#bd3786\"],[0.5555555555555556,\"#d8576b\"],[0.6666666666666666,\"#ed7953\"],[0.7777777777777778,\"#fb9f3a\"],[0.8888888888888888,\"#fdca26\"],[1.0,\"#f0f921\"]],\"type\":\"contour\"}],\"heatmapgl\":[{\"colorbar\":{\"outlinewidth\":0,\"ticks\":\"\"},\"colorscale\":[[0.0,\"#0d0887\"],[0.1111111111111111,\"#46039f\"],[0.2222222222222222,\"#7201a8\"],[0.3333333333333333,\"#9c179e\"],[0.4444444444444444,\"#bd3786\"],[0.5555555555555556,\"#d8576b\"],[0.6666666666666666,\"#ed7953\"],[0.7777777777777778,\"#fb9f3a\"],[0.8888888888888888,\"#fdca26\"],[1.0,\"#f0f921\"]],\"type\":\"heatmapgl\"}],\"heatmap\":[{\"colorbar\":{\"outlinewidth\":0,\"ticks\":\"\"},\"colorscale\":[[0.0,\"#0d0887\"],[0.1111111111111111,\"#46039f\"],[0.2222222222222222,\"#7201a8\"],[0.3333333333333333,\"#9c179e\"],[0.4444444444444444,\"#bd3786\"],[0.5555555555555556,\"#d8576b\"],[0.6666666666666666,\"#ed7953\"],[0.7777777777777778,\"#fb9f3a\"],[0.8888888888888888,\"#fdca26\"],[1.0,\"#f0f921\"]],\"type\":\"heatmap\"}],\"histogram2dcontour\":[{\"colorbar\":{\"outlinewidth\":0,\"ticks\":\"\"},\"colorscale\":[[0.0,\"#0d0887\"],[0.1111111111111111,\"#46039f\"],[0.2222222222222222,\"#7201a8\"],[0.3333333333333333,\"#9c179e\"],[0.4444444444444444,\"#bd3786\"],[0.5555555555555556,\"#d8576b\"],[0.6666666666666666,\"#ed7953\"],[0.7777777777777778,\"#fb9f3a\"],[0.8888888888888888,\"#fdca26\"],[1.0,\"#f0f921\"]],\"type\":\"histogram2dcontour\"}],\"histogram2d\":[{\"colorbar\":{\"outlinewidth\":0,\"ticks\":\"\"},\"colorscale\":[[0.0,\"#0d0887\"],[0.1111111111111111,\"#46039f\"],[0.2222222222222222,\"#7201a8\"],[0.3333333333333333,\"#9c179e\"],[0.4444444444444444,\"#bd3786\"],[0.5555555555555556,\"#d8576b\"],[0.6666666666666666,\"#ed7953\"],[0.7777777777777778,\"#fb9f3a\"],[0.8888888888888888,\"#fdca26\"],[1.0,\"#f0f921\"]],\"type\":\"histogram2d\"}],\"histogram\":[{\"marker\":{\"pattern\":{\"fillmode\":\"overlay\",\"size\":10,\"solidity\":0.2}},\"type\":\"histogram\"}],\"mesh3d\":[{\"colorbar\":{\"outlinewidth\":0,\"ticks\":\"\"},\"type\":\"mesh3d\"}],\"parcoords\":[{\"line\":{\"colorbar\":{\"outlinewidth\":0,\"ticks\":\"\"}},\"type\":\"parcoords\"}],\"pie\":[{\"automargin\":true,\"type\":\"pie\"}],\"scatter3d\":[{\"line\":{\"colorbar\":{\"outlinewidth\":0,\"ticks\":\"\"}},\"marker\":{\"colorbar\":{\"outlinewidth\":0,\"ticks\":\"\"}},\"type\":\"scatter3d\"}],\"scattercarpet\":[{\"marker\":{\"colorbar\":{\"outlinewidth\":0,\"ticks\":\"\"}},\"type\":\"scattercarpet\"}],\"scattergeo\":[{\"marker\":{\"colorbar\":{\"outlinewidth\":0,\"ticks\":\"\"}},\"type\":\"scattergeo\"}],\"scattergl\":[{\"marker\":{\"colorbar\":{\"outlinewidth\":0,\"ticks\":\"\"}},\"type\":\"scattergl\"}],\"scattermapbox\":[{\"marker\":{\"colorbar\":{\"outlinewidth\":0,\"ticks\":\"\"}},\"type\":\"scattermapbox\"}],\"scatterpolargl\":[{\"marker\":{\"colorbar\":{\"outlinewidth\":0,\"ticks\":\"\"}},\"type\":\"scatterpolargl\"}],\"scatterpolar\":[{\"marker\":{\"colorbar\":{\"outlinewidth\":0,\"ticks\":\"\"}},\"type\":\"scatterpolar\"}],\"scatter\":[{\"fillpattern\":{\"fillmode\":\"overlay\",\"size\":10,\"solidity\":0.2},\"type\":\"scatter\"}],\"scatterternary\":[{\"marker\":{\"colorbar\":{\"outlinewidth\":0,\"ticks\":\"\"}},\"type\":\"scatterternary\"}],\"surface\":[{\"colorbar\":{\"outlinewidth\":0,\"ticks\":\"\"},\"colorscale\":[[0.0,\"#0d0887\"],[0.1111111111111111,\"#46039f\"],[0.2222222222222222,\"#7201a8\"],[0.3333333333333333,\"#9c179e\"],[0.4444444444444444,\"#bd3786\"],[0.5555555555555556,\"#d8576b\"],[0.6666666666666666,\"#ed7953\"],[0.7777777777777778,\"#fb9f3a\"],[0.8888888888888888,\"#fdca26\"],[1.0,\"#f0f921\"]],\"type\":\"surface\"}],\"table\":[{\"cells\":{\"fill\":{\"color\":\"#EBF0F8\"},\"line\":{\"color\":\"white\"}},\"header\":{\"fill\":{\"color\":\"#C8D4E3\"},\"line\":{\"color\":\"white\"}},\"type\":\"table\"}]},\"layout\":{\"annotationdefaults\":{\"arrowcolor\":\"#2a3f5f\",\"arrowhead\":0,\"arrowwidth\":1},\"autotypenumbers\":\"strict\",\"coloraxis\":{\"colorbar\":{\"outlinewidth\":0,\"ticks\":\"\"}},\"colorscale\":{\"diverging\":[[0,\"#8e0152\"],[0.1,\"#c51b7d\"],[0.2,\"#de77ae\"],[0.3,\"#f1b6da\"],[0.4,\"#fde0ef\"],[0.5,\"#f7f7f7\"],[0.6,\"#e6f5d0\"],[0.7,\"#b8e186\"],[0.8,\"#7fbc41\"],[0.9,\"#4d9221\"],[1,\"#276419\"]],\"sequential\":[[0.0,\"#0d0887\"],[0.1111111111111111,\"#46039f\"],[0.2222222222222222,\"#7201a8\"],[0.3333333333333333,\"#9c179e\"],[0.4444444444444444,\"#bd3786\"],[0.5555555555555556,\"#d8576b\"],[0.6666666666666666,\"#ed7953\"],[0.7777777777777778,\"#fb9f3a\"],[0.8888888888888888,\"#fdca26\"],[1.0,\"#f0f921\"]],\"sequentialminus\":[[0.0,\"#0d0887\"],[0.1111111111111111,\"#46039f\"],[0.2222222222222222,\"#7201a8\"],[0.3333333333333333,\"#9c179e\"],[0.4444444444444444,\"#bd3786\"],[0.5555555555555556,\"#d8576b\"],[0.6666666666666666,\"#ed7953\"],[0.7777777777777778,\"#fb9f3a\"],[0.8888888888888888,\"#fdca26\"],[1.0,\"#f0f921\"]]},\"colorway\":[\"#636efa\",\"#EF553B\",\"#00cc96\",\"#ab63fa\",\"#FFA15A\",\"#19d3f3\",\"#FF6692\",\"#B6E880\",\"#FF97FF\",\"#FECB52\"],\"font\":{\"color\":\"#2a3f5f\"},\"geo\":{\"bgcolor\":\"white\",\"lakecolor\":\"white\",\"landcolor\":\"#E5ECF6\",\"showlakes\":true,\"showland\":true,\"subunitcolor\":\"white\"},\"hoverlabel\":{\"align\":\"left\"},\"hovermode\":\"closest\",\"mapbox\":{\"style\":\"light\"},\"paper_bgcolor\":\"white\",\"plot_bgcolor\":\"#E5ECF6\",\"polar\":{\"angularaxis\":{\"gridcolor\":\"white\",\"linecolor\":\"white\",\"ticks\":\"\"},\"bgcolor\":\"#E5ECF6\",\"radialaxis\":{\"gridcolor\":\"white\",\"linecolor\":\"white\",\"ticks\":\"\"}},\"scene\":{\"xaxis\":{\"backgroundcolor\":\"#E5ECF6\",\"gridcolor\":\"white\",\"gridwidth\":2,\"linecolor\":\"white\",\"showbackground\":true,\"ticks\":\"\",\"zerolinecolor\":\"white\"},\"yaxis\":{\"backgroundcolor\":\"#E5ECF6\",\"gridcolor\":\"white\",\"gridwidth\":2,\"linecolor\":\"white\",\"showbackground\":true,\"ticks\":\"\",\"zerolinecolor\":\"white\"},\"zaxis\":{\"backgroundcolor\":\"#E5ECF6\",\"gridcolor\":\"white\",\"gridwidth\":2,\"linecolor\":\"white\",\"showbackground\":true,\"ticks\":\"\",\"zerolinecolor\":\"white\"}},\"shapedefaults\":{\"line\":{\"color\":\"#2a3f5f\"}},\"ternary\":{\"aaxis\":{\"gridcolor\":\"white\",\"linecolor\":\"white\",\"ticks\":\"\"},\"baxis\":{\"gridcolor\":\"white\",\"linecolor\":\"white\",\"ticks\":\"\"},\"bgcolor\":\"#E5ECF6\",\"caxis\":{\"gridcolor\":\"white\",\"linecolor\":\"white\",\"ticks\":\"\"}},\"title\":{\"x\":0.05},\"xaxis\":{\"automargin\":true,\"gridcolor\":\"white\",\"linecolor\":\"white\",\"ticks\":\"\",\"title\":{\"standoff\":15},\"zerolinecolor\":\"white\",\"zerolinewidth\":2},\"yaxis\":{\"automargin\":true,\"gridcolor\":\"white\",\"linecolor\":\"white\",\"ticks\":\"\",\"title\":{\"standoff\":15},\"zerolinecolor\":\"white\",\"zerolinewidth\":2}}},\"title\":{\"font\":{\"color\":\"black\",\"size\":18},\"text\":\"Population Pyramid of the World (2023)\"},\"width\":600,\"xaxis\":{\"gridcolor\":\"lightgray\",\"tickfont\":{\"size\":12},\"title\":{\"font\":{\"size\":16},\"text\":\"Number of People\"}},\"yaxis\":{\"gridcolor\":\"lightgray\",\"range\":[0,90],\"tickfont\":{\"size\":12},\"title\":{\"font\":{\"size\":16},\"text\":\"Age\"}}},                        {\"responsive\": true}                    ).then(function(){\n",
       "                            \n",
       "var gd = document.getElementById('81cb9eb9-e65c-4f91-b63f-e182c4670cc9');\n",
       "var x = new MutationObserver(function (mutations, observer) {{\n",
       "        var display = window.getComputedStyle(gd).display;\n",
       "        if (!display || display === 'none') {{\n",
       "            console.log([gd, 'removed!']);\n",
       "            Plotly.purge(gd);\n",
       "            observer.disconnect();\n",
       "        }}\n",
       "}});\n",
       "\n",
       "// Listen for the removal of the full notebook cells\n",
       "var notebookContainer = gd.closest('#notebook-container');\n",
       "if (notebookContainer) {{\n",
       "    x.observe(notebookContainer, {childList: true});\n",
       "}}\n",
       "\n",
       "// Listen for the clearing of the current output cell\n",
       "var outputEl = gd.closest('.output');\n",
       "if (outputEl) {{\n",
       "    x.observe(outputEl, {childList: true});\n",
       "}}\n",
       "\n",
       "                        })                };                });            </script>        </div>"
      ]
     },
     "metadata": {},
     "output_type": "display_data"
    }
   ],
   "source": [
    "# Creating a population pyramid of the world\n",
    "py.init_notebook_mode(connected=True)\n",
    "\n",
    "layout_world1 = go.Layout(\n",
    "    title=\"World Population Pyramid (2023)\",\n",
    "    title_font=dict(size=18, color='black'),\n",
    "    barmode='overlay',\n",
    "    width=600,\n",
    "    height=600,\n",
    "    paper_bgcolor='#f4f4f4',\n",
    "    plot_bgcolor='#ffffff',\n",
    "    font=dict(family=\"Arial, sans-serif\", size=14, color=\"black\"),\n",
    "    xaxis=dict(\n",
    "        title='Number of People',\n",
    "        title_font=dict(size=16),\n",
    "        tickfont=dict(size=12),\n",
    "        gridcolor='lightgray'\n",
    "    ),\n",
    "    yaxis=dict(\n",
    "        range=[0, 90],\n",
    "        title='Age',\n",
    "        title_font=dict(size=16),\n",
    "        tickfont=dict(size=12),\n",
    "        gridcolor='lightgray'\n",
    "    ),\n",
    "    showlegend=True\n",
    ")\n",
    "\n",
    "bins_world1 = [go.Bar(x = world.loc[str(2023),:].filter(regex=\"Male\").values,\n",
    "               y = [int(s[:2])+1 for s in ages],\n",
    "               orientation='h',\n",
    "               name='Men',\n",
    "               marker=dict(color='olive', line=dict(color='black', width=1)),\n",
    "               hoverinfo='skip'\n",
    "               ),\n",
    "\n",
    "        go.Bar(x = -world.loc[str(2023),:].filter(regex=\"Female\").values,\n",
    "               y=[int(s[:2])+1 for s in ages],\n",
    "               orientation='h',\n",
    "               name='Women',\n",
    "               marker=dict(color='purple', line=dict(color='black', width=1)),\n",
    "               hoverinfo='skip',\n",
    "               )\n",
    "        ]\n",
    "\n",
    "py.iplot(dict(data=bins_world1, layout=layout_world1))"
   ]
  },
  {
   "cell_type": "code",
   "execution_count": 41,
   "id": "7dbf9b51-5dbf-44d2-9710-0d38221e69d3",
   "metadata": {},
   "outputs": [
    {
     "data": {
      "application/vnd.plotly.v1+json": {
       "config": {
        "plotlyServerURL": "https://plot.ly"
       },
       "data": [
        {
         "hoverinfo": "skip",
         "marker": {
          "color": "olive",
          "line": {
           "color": "black",
           "width": 1
          }
         },
         "name": "Men",
         "orientation": "h",
         "type": "bar",
         "x": [
          268170523,
          235015889,
          206041424,
          186355585,
          152429287,
          124895333,
          119618199,
          108244614,
          98559412,
          82864207,
          66253436,
          60402532,
          49398168,
          36396119,
          23374568,
          13045234,
          8979539
         ],
         "y": [
          1,
          6,
          11,
          16,
          21,
          26,
          31,
          36,
          41,
          46,
          51,
          56,
          61,
          66,
          71,
          76,
          81,
          85
         ]
        },
        {
         "hoverinfo": "skip",
         "marker": {
          "color": "purple",
          "line": {
           "color": "black",
           "width": 1
          }
         },
         "name": "Women",
         "orientation": "h",
         "type": "bar",
         "x": [
          -256927025,
          -225057027,
          -197507610,
          -179796861,
          -147420912,
          -121008410,
          -116111782,
          -105670376,
          -97832255,
          -86471694,
          -70188304,
          -66883271,
          -57131229,
          -44978528,
          -31810229,
          -19799405,
          -15949054
         ],
         "y": [
          1,
          6,
          11,
          16,
          21,
          26,
          31,
          36,
          41,
          46,
          51,
          56,
          61,
          66,
          71,
          76,
          81,
          85
         ]
        }
       ],
       "frames": [
        {
         "data": [
          {
           "hoverinfo": "skip",
           "marker": {
            "color": "olive",
            "line": {
             "color": "black",
             "width": 1
            }
           },
           "name": "Men",
           "orientation": "h",
           "type": "bar",
           "x": [
            268170523,
            235015889,
            206041424,
            186355585,
            152429287,
            124895333,
            119618199,
            108244614,
            98559412,
            82864207,
            66253436,
            60402532,
            49398168,
            36396119,
            23374568,
            13045234,
            8979539
           ],
           "y": [
            1,
            6,
            11,
            16,
            21,
            26,
            31,
            36,
            41,
            46,
            51,
            56,
            61,
            66,
            71,
            76,
            81,
            85
           ]
          },
          {
           "hoverinfo": "skip",
           "marker": {
            "color": "purple",
            "line": {
             "color": "black",
             "width": 1
            }
           },
           "name": "Women",
           "orientation": "h",
           "type": "bar",
           "x": [
            -256927025,
            -225057027,
            -197507610,
            -179796861,
            -147420912,
            -121008410,
            -116111782,
            -105670376,
            -97832255,
            -86471694,
            -70188304,
            -66883271,
            -57131229,
            -44978528,
            -31810229,
            -19799405,
            -15949054
           ],
           "y": [
            1,
            6,
            11,
            16,
            21,
            26,
            31,
            36,
            41,
            46,
            51,
            56,
            61,
            66,
            71,
            76,
            81,
            85
           ]
          }
         ],
         "name": "1970"
        },
        {
         "data": [
          {
           "hoverinfo": "skip",
           "marker": {
            "color": "olive",
            "line": {
             "color": "black",
             "width": 1
            }
           },
           "name": "Men",
           "orientation": "h",
           "type": "bar",
           "x": [
            281880870,
            269616912,
            254111043,
            229563532,
            200843422,
            180833628,
            147679196,
            120100703,
            113555987,
            100883136,
            89593360,
            72597497,
            54424375,
            45068612,
            31553313,
            18503609,
            12239388
           ],
           "y": [
            1,
            6,
            11,
            16,
            21,
            26,
            31,
            36,
            41,
            46,
            51,
            56,
            61,
            66,
            71,
            76,
            81,
            85
           ]
          },
          {
           "hoverinfo": "skip",
           "marker": {
            "color": "purple",
            "line": {
             "color": "black",
             "width": 1
            }
           },
           "name": "Women",
           "orientation": "h",
           "type": "bar",
           "x": [
            -268851292,
            -257422618,
            -243111049,
            -220280243,
            -193858727,
            -175902582,
            -143297703,
            -116691253,
            -111205808,
            -100253460,
            -91762037,
            -79583041,
            -61990653,
            -55646201,
            -42810055,
            -28441422,
            -23445475
           ],
           "y": [
            1,
            6,
            11,
            16,
            21,
            26,
            31,
            36,
            41,
            46,
            51,
            56,
            61,
            66,
            71,
            76,
            81,
            85
           ]
          }
         ],
         "name": "1980"
        },
        {
         "data": [
          {
           "hoverinfo": "skip",
           "marker": {
            "color": "olive",
            "line": {
             "color": "black",
             "width": 1
            }
           },
           "name": "Men",
           "orientation": "h",
           "type": "bar",
           "x": [
            331119722,
            297919636,
            268966779,
            263217926,
            247665798,
            223274703,
            195179031,
            175059458,
            141567937,
            113404787,
            104365353,
            89445587,
            74998133,
            55570668,
            36156032,
            24346216,
            18124300
           ],
           "y": [
            1,
            6,
            11,
            16,
            21,
            26,
            31,
            36,
            41,
            46,
            51,
            56,
            61,
            66,
            71,
            76,
            81,
            85
           ]
          },
          {
           "hoverinfo": "skip",
           "marker": {
            "color": "purple",
            "line": {
             "color": "black",
             "width": 1
            }
           },
           "name": "Women",
           "orientation": "h",
           "type": "bar",
           "x": [
            -313092291,
            -283103801,
            -256446150,
            -252152335,
            -238453269,
            -216240673,
            -189837436,
            -171382787,
            -138570715,
            -111853071,
            -105146140,
            -92830069,
            -82129869,
            -67153519,
            -47499103,
            -36948115,
            -36025043
           ],
           "y": [
            1,
            6,
            11,
            16,
            21,
            26,
            31,
            36,
            41,
            46,
            51,
            56,
            61,
            66,
            71,
            76,
            81,
            85
           ]
          }
         ],
         "name": "1990"
        },
        {
         "data": [
          {
           "hoverinfo": "skip",
           "marker": {
            "color": "olive",
            "line": {
             "color": "black",
             "width": 1
            }
           },
           "name": "Men",
           "orientation": "h",
           "type": "bar",
           "x": [
            323242397,
            319575048,
            322416810,
            295149165,
            264345745,
            256111683,
            240792377,
            217026800,
            188272543,
            166466275,
            131771282,
            102086084,
            89361676,
            70844762,
            52502740,
            32593816,
            24774935
           ],
           "y": [
            1,
            6,
            11,
            16,
            21,
            26,
            31,
            36,
            41,
            46,
            51,
            56,
            61,
            66,
            71,
            76,
            81,
            85
           ]
          },
          {
           "hoverinfo": "skip",
           "marker": {
            "color": "purple",
            "line": {
             "color": "black",
             "width": 1
            }
           },
           "name": "Women",
           "orientation": "h",
           "type": "bar",
           "x": [
            -302551531,
            -300003539,
            -304621551,
            -281165810,
            -254225496,
            -248472955,
            -234682250,
            -212493612,
            -185657119,
            -166279805,
            -132788210,
            -105065508,
            -96068142,
            -80548308,
            -65450952,
            -46963531,
            -47512404
           ],
           "y": [
            1,
            6,
            11,
            16,
            21,
            26,
            31,
            36,
            41,
            46,
            51,
            56,
            61,
            66,
            71,
            76,
            81,
            85
           ]
          }
         ],
         "name": "2000"
        },
        {
         "data": [
          {
           "hoverinfo": "skip",
           "marker": {
            "color": "olive",
            "line": {
             "color": "black",
             "width": 1
            }
           },
           "name": "Men",
           "orientation": "h",
           "type": "bar",
           "x": [
            345490124,
            325604745,
            315924285,
            315874190,
            316229271,
            287046034,
            256528734,
            248219860,
            232104841,
            206438135,
            175051539,
            150923620,
            114909622,
            83135699,
            65137476,
            44190945,
            39579879
           ],
           "y": [
            1,
            6,
            11,
            16,
            21,
            26,
            31,
            36,
            41,
            46,
            51,
            56,
            61,
            66,
            71,
            76,
            81,
            85
           ]
          },
          {
           "hoverinfo": "skip",
           "marker": {
            "color": "purple",
            "line": {
             "color": "black",
             "width": 1
            }
           },
           "name": "Women",
           "orientation": "h",
           "type": "bar",
           "x": [
            -323431762,
            -304517119,
            -295382357,
            -296927385,
            -300222059,
            -275437688,
            -248681827,
            -242804958,
            -228794746,
            -205870753,
            -177890614,
            -157300429,
            -122537320,
            -92479736,
            -78514104,
            -58536636,
            -68952756
           ],
           "y": [
            1,
            6,
            11,
            16,
            21,
            26,
            31,
            36,
            41,
            46,
            51,
            56,
            61,
            66,
            71,
            76,
            81,
            85
           ]
          }
         ],
         "name": "2010"
        },
        {
         "data": [
          {
           "hoverinfo": "skip",
           "marker": {
            "color": "olive",
            "line": {
             "color": "black",
             "width": 1
            }
           },
           "name": "Men",
           "orientation": "h",
           "type": "bar",
           "x": [
            350515471,
            355003268,
            340399749,
            322082499,
            311226388,
            309641234,
            309357029,
            279781371,
            248255758,
            238154909,
            219307981,
            189959120,
            154564673,
            125884632,
            87855497,
            55019059,
            56756917
           ],
           "y": [
            1,
            6,
            11,
            16,
            21,
            26,
            31,
            36,
            41,
            46,
            51,
            56,
            61,
            66,
            71,
            76,
            81,
            85
           ]
          },
          {
           "hoverinfo": "skip",
           "marker": {
            "color": "purple",
            "line": {
             "color": "black",
             "width": 1
            }
           },
           "name": "Women",
           "orientation": "h",
           "type": "bar",
           "x": [
            -331072104,
            -333282669,
            -318975287,
            -302489242,
            -292770535,
            -292492131,
            -294687536,
            -269789622,
            -242241330,
            -235726796,
            -220639805,
            -195511933,
            -165052444,
            -141232037,
            -103450405,
            -70038474,
            -92920892
           ],
           "y": [
            1,
            6,
            11,
            16,
            21,
            26,
            31,
            36,
            41,
            46,
            51,
            56,
            61,
            66,
            71,
            76,
            81,
            85
           ]
          }
         ],
         "name": "2020"
        }
       ],
       "layout": {
        "barmode": "overlay",
        "font": {
         "color": "black",
         "family": "Arial, sans-serif",
         "size": 14
        },
        "height": 600,
        "paper_bgcolor": "#f4f4f4",
        "plot_bgcolor": "#ffffff",
        "showlegend": true,
        "sliders": [
         {
          "currentvalue": {
           "font": {
            "size": 16
           },
           "prefix": "Year: "
          },
          "steps": [
           {
            "args": [
             [
              "1970"
             ],
             {
              "frame": {
               "duration": 0,
               "redraw": true
              },
              "mode": "immediate"
             }
            ],
            "label": "1970",
            "method": "animate"
           },
           {
            "args": [
             [
              "1980"
             ],
             {
              "frame": {
               "duration": 0,
               "redraw": true
              },
              "mode": "immediate"
             }
            ],
            "label": "1980",
            "method": "animate"
           },
           {
            "args": [
             [
              "1990"
             ],
             {
              "frame": {
               "duration": 0,
               "redraw": true
              },
              "mode": "immediate"
             }
            ],
            "label": "1990",
            "method": "animate"
           },
           {
            "args": [
             [
              "2000"
             ],
             {
              "frame": {
               "duration": 0,
               "redraw": true
              },
              "mode": "immediate"
             }
            ],
            "label": "2000",
            "method": "animate"
           },
           {
            "args": [
             [
              "2010"
             ],
             {
              "frame": {
               "duration": 0,
               "redraw": true
              },
              "mode": "immediate"
             }
            ],
            "label": "2010",
            "method": "animate"
           },
           {
            "args": [
             [
              "2020"
             ],
             {
              "frame": {
               "duration": 0,
               "redraw": true
              },
              "mode": "immediate"
             }
            ],
            "label": "2020",
            "method": "animate"
           }
          ]
         }
        ],
        "template": {
         "data": {
          "bar": [
           {
            "error_x": {
             "color": "#2a3f5f"
            },
            "error_y": {
             "color": "#2a3f5f"
            },
            "marker": {
             "line": {
              "color": "#E5ECF6",
              "width": 0.5
             },
             "pattern": {
              "fillmode": "overlay",
              "size": 10,
              "solidity": 0.2
             }
            },
            "type": "bar"
           }
          ],
          "barpolar": [
           {
            "marker": {
             "line": {
              "color": "#E5ECF6",
              "width": 0.5
             },
             "pattern": {
              "fillmode": "overlay",
              "size": 10,
              "solidity": 0.2
             }
            },
            "type": "barpolar"
           }
          ],
          "carpet": [
           {
            "aaxis": {
             "endlinecolor": "#2a3f5f",
             "gridcolor": "white",
             "linecolor": "white",
             "minorgridcolor": "white",
             "startlinecolor": "#2a3f5f"
            },
            "baxis": {
             "endlinecolor": "#2a3f5f",
             "gridcolor": "white",
             "linecolor": "white",
             "minorgridcolor": "white",
             "startlinecolor": "#2a3f5f"
            },
            "type": "carpet"
           }
          ],
          "choropleth": [
           {
            "colorbar": {
             "outlinewidth": 0,
             "ticks": ""
            },
            "type": "choropleth"
           }
          ],
          "contour": [
           {
            "colorbar": {
             "outlinewidth": 0,
             "ticks": ""
            },
            "colorscale": [
             [
              0,
              "#0d0887"
             ],
             [
              0.1111111111111111,
              "#46039f"
             ],
             [
              0.2222222222222222,
              "#7201a8"
             ],
             [
              0.3333333333333333,
              "#9c179e"
             ],
             [
              0.4444444444444444,
              "#bd3786"
             ],
             [
              0.5555555555555556,
              "#d8576b"
             ],
             [
              0.6666666666666666,
              "#ed7953"
             ],
             [
              0.7777777777777778,
              "#fb9f3a"
             ],
             [
              0.8888888888888888,
              "#fdca26"
             ],
             [
              1,
              "#f0f921"
             ]
            ],
            "type": "contour"
           }
          ],
          "contourcarpet": [
           {
            "colorbar": {
             "outlinewidth": 0,
             "ticks": ""
            },
            "type": "contourcarpet"
           }
          ],
          "heatmap": [
           {
            "colorbar": {
             "outlinewidth": 0,
             "ticks": ""
            },
            "colorscale": [
             [
              0,
              "#0d0887"
             ],
             [
              0.1111111111111111,
              "#46039f"
             ],
             [
              0.2222222222222222,
              "#7201a8"
             ],
             [
              0.3333333333333333,
              "#9c179e"
             ],
             [
              0.4444444444444444,
              "#bd3786"
             ],
             [
              0.5555555555555556,
              "#d8576b"
             ],
             [
              0.6666666666666666,
              "#ed7953"
             ],
             [
              0.7777777777777778,
              "#fb9f3a"
             ],
             [
              0.8888888888888888,
              "#fdca26"
             ],
             [
              1,
              "#f0f921"
             ]
            ],
            "type": "heatmap"
           }
          ],
          "heatmapgl": [
           {
            "colorbar": {
             "outlinewidth": 0,
             "ticks": ""
            },
            "colorscale": [
             [
              0,
              "#0d0887"
             ],
             [
              0.1111111111111111,
              "#46039f"
             ],
             [
              0.2222222222222222,
              "#7201a8"
             ],
             [
              0.3333333333333333,
              "#9c179e"
             ],
             [
              0.4444444444444444,
              "#bd3786"
             ],
             [
              0.5555555555555556,
              "#d8576b"
             ],
             [
              0.6666666666666666,
              "#ed7953"
             ],
             [
              0.7777777777777778,
              "#fb9f3a"
             ],
             [
              0.8888888888888888,
              "#fdca26"
             ],
             [
              1,
              "#f0f921"
             ]
            ],
            "type": "heatmapgl"
           }
          ],
          "histogram": [
           {
            "marker": {
             "pattern": {
              "fillmode": "overlay",
              "size": 10,
              "solidity": 0.2
             }
            },
            "type": "histogram"
           }
          ],
          "histogram2d": [
           {
            "colorbar": {
             "outlinewidth": 0,
             "ticks": ""
            },
            "colorscale": [
             [
              0,
              "#0d0887"
             ],
             [
              0.1111111111111111,
              "#46039f"
             ],
             [
              0.2222222222222222,
              "#7201a8"
             ],
             [
              0.3333333333333333,
              "#9c179e"
             ],
             [
              0.4444444444444444,
              "#bd3786"
             ],
             [
              0.5555555555555556,
              "#d8576b"
             ],
             [
              0.6666666666666666,
              "#ed7953"
             ],
             [
              0.7777777777777778,
              "#fb9f3a"
             ],
             [
              0.8888888888888888,
              "#fdca26"
             ],
             [
              1,
              "#f0f921"
             ]
            ],
            "type": "histogram2d"
           }
          ],
          "histogram2dcontour": [
           {
            "colorbar": {
             "outlinewidth": 0,
             "ticks": ""
            },
            "colorscale": [
             [
              0,
              "#0d0887"
             ],
             [
              0.1111111111111111,
              "#46039f"
             ],
             [
              0.2222222222222222,
              "#7201a8"
             ],
             [
              0.3333333333333333,
              "#9c179e"
             ],
             [
              0.4444444444444444,
              "#bd3786"
             ],
             [
              0.5555555555555556,
              "#d8576b"
             ],
             [
              0.6666666666666666,
              "#ed7953"
             ],
             [
              0.7777777777777778,
              "#fb9f3a"
             ],
             [
              0.8888888888888888,
              "#fdca26"
             ],
             [
              1,
              "#f0f921"
             ]
            ],
            "type": "histogram2dcontour"
           }
          ],
          "mesh3d": [
           {
            "colorbar": {
             "outlinewidth": 0,
             "ticks": ""
            },
            "type": "mesh3d"
           }
          ],
          "parcoords": [
           {
            "line": {
             "colorbar": {
              "outlinewidth": 0,
              "ticks": ""
             }
            },
            "type": "parcoords"
           }
          ],
          "pie": [
           {
            "automargin": true,
            "type": "pie"
           }
          ],
          "scatter": [
           {
            "fillpattern": {
             "fillmode": "overlay",
             "size": 10,
             "solidity": 0.2
            },
            "type": "scatter"
           }
          ],
          "scatter3d": [
           {
            "line": {
             "colorbar": {
              "outlinewidth": 0,
              "ticks": ""
             }
            },
            "marker": {
             "colorbar": {
              "outlinewidth": 0,
              "ticks": ""
             }
            },
            "type": "scatter3d"
           }
          ],
          "scattercarpet": [
           {
            "marker": {
             "colorbar": {
              "outlinewidth": 0,
              "ticks": ""
             }
            },
            "type": "scattercarpet"
           }
          ],
          "scattergeo": [
           {
            "marker": {
             "colorbar": {
              "outlinewidth": 0,
              "ticks": ""
             }
            },
            "type": "scattergeo"
           }
          ],
          "scattergl": [
           {
            "marker": {
             "colorbar": {
              "outlinewidth": 0,
              "ticks": ""
             }
            },
            "type": "scattergl"
           }
          ],
          "scattermapbox": [
           {
            "marker": {
             "colorbar": {
              "outlinewidth": 0,
              "ticks": ""
             }
            },
            "type": "scattermapbox"
           }
          ],
          "scatterpolar": [
           {
            "marker": {
             "colorbar": {
              "outlinewidth": 0,
              "ticks": ""
             }
            },
            "type": "scatterpolar"
           }
          ],
          "scatterpolargl": [
           {
            "marker": {
             "colorbar": {
              "outlinewidth": 0,
              "ticks": ""
             }
            },
            "type": "scatterpolargl"
           }
          ],
          "scatterternary": [
           {
            "marker": {
             "colorbar": {
              "outlinewidth": 0,
              "ticks": ""
             }
            },
            "type": "scatterternary"
           }
          ],
          "surface": [
           {
            "colorbar": {
             "outlinewidth": 0,
             "ticks": ""
            },
            "colorscale": [
             [
              0,
              "#0d0887"
             ],
             [
              0.1111111111111111,
              "#46039f"
             ],
             [
              0.2222222222222222,
              "#7201a8"
             ],
             [
              0.3333333333333333,
              "#9c179e"
             ],
             [
              0.4444444444444444,
              "#bd3786"
             ],
             [
              0.5555555555555556,
              "#d8576b"
             ],
             [
              0.6666666666666666,
              "#ed7953"
             ],
             [
              0.7777777777777778,
              "#fb9f3a"
             ],
             [
              0.8888888888888888,
              "#fdca26"
             ],
             [
              1,
              "#f0f921"
             ]
            ],
            "type": "surface"
           }
          ],
          "table": [
           {
            "cells": {
             "fill": {
              "color": "#EBF0F8"
             },
             "line": {
              "color": "white"
             }
            },
            "header": {
             "fill": {
              "color": "#C8D4E3"
             },
             "line": {
              "color": "white"
             }
            },
            "type": "table"
           }
          ]
         },
         "layout": {
          "annotationdefaults": {
           "arrowcolor": "#2a3f5f",
           "arrowhead": 0,
           "arrowwidth": 1
          },
          "autotypenumbers": "strict",
          "coloraxis": {
           "colorbar": {
            "outlinewidth": 0,
            "ticks": ""
           }
          },
          "colorscale": {
           "diverging": [
            [
             0,
             "#8e0152"
            ],
            [
             0.1,
             "#c51b7d"
            ],
            [
             0.2,
             "#de77ae"
            ],
            [
             0.3,
             "#f1b6da"
            ],
            [
             0.4,
             "#fde0ef"
            ],
            [
             0.5,
             "#f7f7f7"
            ],
            [
             0.6,
             "#e6f5d0"
            ],
            [
             0.7,
             "#b8e186"
            ],
            [
             0.8,
             "#7fbc41"
            ],
            [
             0.9,
             "#4d9221"
            ],
            [
             1,
             "#276419"
            ]
           ],
           "sequential": [
            [
             0,
             "#0d0887"
            ],
            [
             0.1111111111111111,
             "#46039f"
            ],
            [
             0.2222222222222222,
             "#7201a8"
            ],
            [
             0.3333333333333333,
             "#9c179e"
            ],
            [
             0.4444444444444444,
             "#bd3786"
            ],
            [
             0.5555555555555556,
             "#d8576b"
            ],
            [
             0.6666666666666666,
             "#ed7953"
            ],
            [
             0.7777777777777778,
             "#fb9f3a"
            ],
            [
             0.8888888888888888,
             "#fdca26"
            ],
            [
             1,
             "#f0f921"
            ]
           ],
           "sequentialminus": [
            [
             0,
             "#0d0887"
            ],
            [
             0.1111111111111111,
             "#46039f"
            ],
            [
             0.2222222222222222,
             "#7201a8"
            ],
            [
             0.3333333333333333,
             "#9c179e"
            ],
            [
             0.4444444444444444,
             "#bd3786"
            ],
            [
             0.5555555555555556,
             "#d8576b"
            ],
            [
             0.6666666666666666,
             "#ed7953"
            ],
            [
             0.7777777777777778,
             "#fb9f3a"
            ],
            [
             0.8888888888888888,
             "#fdca26"
            ],
            [
             1,
             "#f0f921"
            ]
           ]
          },
          "colorway": [
           "#636efa",
           "#EF553B",
           "#00cc96",
           "#ab63fa",
           "#FFA15A",
           "#19d3f3",
           "#FF6692",
           "#B6E880",
           "#FF97FF",
           "#FECB52"
          ],
          "font": {
           "color": "#2a3f5f"
          },
          "geo": {
           "bgcolor": "white",
           "lakecolor": "white",
           "landcolor": "#E5ECF6",
           "showlakes": true,
           "showland": true,
           "subunitcolor": "white"
          },
          "hoverlabel": {
           "align": "left"
          },
          "hovermode": "closest",
          "mapbox": {
           "style": "light"
          },
          "paper_bgcolor": "white",
          "plot_bgcolor": "#E5ECF6",
          "polar": {
           "angularaxis": {
            "gridcolor": "white",
            "linecolor": "white",
            "ticks": ""
           },
           "bgcolor": "#E5ECF6",
           "radialaxis": {
            "gridcolor": "white",
            "linecolor": "white",
            "ticks": ""
           }
          },
          "scene": {
           "xaxis": {
            "backgroundcolor": "#E5ECF6",
            "gridcolor": "white",
            "gridwidth": 2,
            "linecolor": "white",
            "showbackground": true,
            "ticks": "",
            "zerolinecolor": "white"
           },
           "yaxis": {
            "backgroundcolor": "#E5ECF6",
            "gridcolor": "white",
            "gridwidth": 2,
            "linecolor": "white",
            "showbackground": true,
            "ticks": "",
            "zerolinecolor": "white"
           },
           "zaxis": {
            "backgroundcolor": "#E5ECF6",
            "gridcolor": "white",
            "gridwidth": 2,
            "linecolor": "white",
            "showbackground": true,
            "ticks": "",
            "zerolinecolor": "white"
           }
          },
          "shapedefaults": {
           "line": {
            "color": "#2a3f5f"
           }
          },
          "ternary": {
           "aaxis": {
            "gridcolor": "white",
            "linecolor": "white",
            "ticks": ""
           },
           "baxis": {
            "gridcolor": "white",
            "linecolor": "white",
            "ticks": ""
           },
           "bgcolor": "#E5ECF6",
           "caxis": {
            "gridcolor": "white",
            "linecolor": "white",
            "ticks": ""
           }
          },
          "title": {
           "x": 0.05
          },
          "xaxis": {
           "automargin": true,
           "gridcolor": "white",
           "linecolor": "white",
           "ticks": "",
           "title": {
            "standoff": 15
           },
           "zerolinecolor": "white",
           "zerolinewidth": 2
          },
          "yaxis": {
           "automargin": true,
           "gridcolor": "white",
           "linecolor": "white",
           "ticks": "",
           "title": {
            "standoff": 15
           },
           "zerolinecolor": "white",
           "zerolinewidth": 2
          }
         }
        },
        "title": {
         "text": "Animated Population Pyramid (1970-2020)"
        },
        "updatemenus": [
         {
          "buttons": [
           {
            "args": [
             null,
             {
              "frame": {
               "duration": 1000,
               "redraw": true
              },
              "fromcurrent": true
             }
            ],
            "label": "Play",
            "method": "animate"
           },
           {
            "args": [
             [
              null
             ],
             {
              "frame": {
               "duration": 0,
               "redraw": true
              },
              "mode": "immediate"
             }
            ],
            "label": "Pause",
            "method": "animate"
           }
          ],
          "type": "buttons",
          "x": 0.1,
          "y": 0
         }
        ],
        "width": 700,
        "xaxis": {
         "gridcolor": "lightgray",
         "range": [
          -355003268,
          355003268
         ],
         "title": {
          "text": "Population"
         }
        },
        "yaxis": {
         "gridcolor": "lightgray",
         "title": {
          "text": "Age Group"
         }
        }
       }
      },
      "image/png": "[encoded data removed]",
      "text/html": [
       "<div>                            <div id=\"4ca8dc39-4a2e-4678-b22a-4840998016d7\" class=\"plotly-graph-div\" style=\"height:600px; width:700px;\"></div>            <script type=\"text/javascript\">                require([\"plotly\"], function(Plotly) {                    window.PLOTLYENV=window.PLOTLYENV || {};                                    if (document.getElementById(\"4ca8dc39-4a2e-4678-b22a-4840998016d7\")) {                    Plotly.newPlot(                        \"4ca8dc39-4a2e-4678-b22a-4840998016d7\",                        [{\"hoverinfo\":\"skip\",\"marker\":{\"color\":\"olive\",\"line\":{\"color\":\"black\",\"width\":1}},\"name\":\"Men\",\"orientation\":\"h\",\"x\":[268170523.0,235015889.0,206041424.0,186355585.0,152429287.0,124895333.0,119618199.0,108244614.0,98559412.0,82864207.0,66253436.0,60402532.0,49398168.0,36396119.0,23374568.0,13045234.0,8979539.0],\"y\":[1,6,11,16,21,26,31,36,41,46,51,56,61,66,71,76,81,85],\"type\":\"bar\"},{\"hoverinfo\":\"skip\",\"marker\":{\"color\":\"purple\",\"line\":{\"color\":\"black\",\"width\":1}},\"name\":\"Women\",\"orientation\":\"h\",\"x\":[-256927025.0,-225057027.0,-197507610.0,-179796861.0,-147420912.0,-121008410.0,-116111782.0,-105670376.0,-97832255.0,-86471694.0,-70188304.0,-66883271.0,-57131229.0,-44978528.0,-31810229.0,-19799405.0,-15949054.0],\"y\":[1,6,11,16,21,26,31,36,41,46,51,56,61,66,71,76,81,85],\"type\":\"bar\"}],                        {\"template\":{\"data\":{\"histogram2dcontour\":[{\"type\":\"histogram2dcontour\",\"colorbar\":{\"outlinewidth\":0,\"ticks\":\"\"},\"colorscale\":[[0.0,\"#0d0887\"],[0.1111111111111111,\"#46039f\"],[0.2222222222222222,\"#7201a8\"],[0.3333333333333333,\"#9c179e\"],[0.4444444444444444,\"#bd3786\"],[0.5555555555555556,\"#d8576b\"],[0.6666666666666666,\"#ed7953\"],[0.7777777777777778,\"#fb9f3a\"],[0.8888888888888888,\"#fdca26\"],[1.0,\"#f0f921\"]]}],\"choropleth\":[{\"type\":\"choropleth\",\"colorbar\":{\"outlinewidth\":0,\"ticks\":\"\"}}],\"histogram2d\":[{\"type\":\"histogram2d\",\"colorbar\":{\"outlinewidth\":0,\"ticks\":\"\"},\"colorscale\":[[0.0,\"#0d0887\"],[0.1111111111111111,\"#46039f\"],[0.2222222222222222,\"#7201a8\"],[0.3333333333333333,\"#9c179e\"],[0.4444444444444444,\"#bd3786\"],[0.5555555555555556,\"#d8576b\"],[0.6666666666666666,\"#ed7953\"],[0.7777777777777778,\"#fb9f3a\"],[0.8888888888888888,\"#fdca26\"],[1.0,\"#f0f921\"]]}],\"heatmap\":[{\"type\":\"heatmap\",\"colorbar\":{\"outlinewidth\":0,\"ticks\":\"\"},\"colorscale\":[[0.0,\"#0d0887\"],[0.1111111111111111,\"#46039f\"],[0.2222222222222222,\"#7201a8\"],[0.3333333333333333,\"#9c179e\"],[0.4444444444444444,\"#bd3786\"],[0.5555555555555556,\"#d8576b\"],[0.6666666666666666,\"#ed7953\"],[0.7777777777777778,\"#fb9f3a\"],[0.8888888888888888,\"#fdca26\"],[1.0,\"#f0f921\"]]}],\"heatmapgl\":[{\"type\":\"heatmapgl\",\"colorbar\":{\"outlinewidth\":0,\"ticks\":\"\"},\"colorscale\":[[0.0,\"#0d0887\"],[0.1111111111111111,\"#46039f\"],[0.2222222222222222,\"#7201a8\"],[0.3333333333333333,\"#9c179e\"],[0.4444444444444444,\"#bd3786\"],[0.5555555555555556,\"#d8576b\"],[0.6666666666666666,\"#ed7953\"],[0.7777777777777778,\"#fb9f3a\"],[0.8888888888888888,\"#fdca26\"],[1.0,\"#f0f921\"]]}],\"contourcarpet\":[{\"type\":\"contourcarpet\",\"colorbar\":{\"outlinewidth\":0,\"ticks\":\"\"}}],\"contour\":[{\"type\":\"contour\",\"colorbar\":{\"outlinewidth\":0,\"ticks\":\"\"},\"colorscale\":[[0.0,\"#0d0887\"],[0.1111111111111111,\"#46039f\"],[0.2222222222222222,\"#7201a8\"],[0.3333333333333333,\"#9c179e\"],[0.4444444444444444,\"#bd3786\"],[0.5555555555555556,\"#d8576b\"],[0.6666666666666666,\"#ed7953\"],[0.7777777777777778,\"#fb9f3a\"],[0.8888888888888888,\"#fdca26\"],[1.0,\"#f0f921\"]]}],\"surface\":[{\"type\":\"surface\",\"colorbar\":{\"outlinewidth\":0,\"ticks\":\"\"},\"colorscale\":[[0.0,\"#0d0887\"],[0.1111111111111111,\"#46039f\"],[0.2222222222222222,\"#7201a8\"],[0.3333333333333333,\"#9c179e\"],[0.4444444444444444,\"#bd3786\"],[0.5555555555555556,\"#d8576b\"],[0.6666666666666666,\"#ed7953\"],[0.7777777777777778,\"#fb9f3a\"],[0.8888888888888888,\"#fdca26\"],[1.0,\"#f0f921\"]]}],\"mesh3d\":[{\"type\":\"mesh3d\",\"colorbar\":{\"outlinewidth\":0,\"ticks\":\"\"}}],\"scatter\":[{\"fillpattern\":{\"fillmode\":\"overlay\",\"size\":10,\"solidity\":0.2},\"type\":\"scatter\"}],\"parcoords\":[{\"type\":\"parcoords\",\"line\":{\"colorbar\":{\"outlinewidth\":0,\"ticks\":\"\"}}}],\"scatterpolargl\":[{\"type\":\"scatterpolargl\",\"marker\":{\"colorbar\":{\"outlinewidth\":0,\"ticks\":\"\"}}}],\"bar\":[{\"error_x\":{\"color\":\"#2a3f5f\"},\"error_y\":{\"color\":\"#2a3f5f\"},\"marker\":{\"line\":{\"color\":\"#E5ECF6\",\"width\":0.5},\"pattern\":{\"fillmode\":\"overlay\",\"size\":10,\"solidity\":0.2}},\"type\":\"bar\"}],\"scattergeo\":[{\"type\":\"scattergeo\",\"marker\":{\"colorbar\":{\"outlinewidth\":0,\"ticks\":\"\"}}}],\"scatterpolar\":[{\"type\":\"scatterpolar\",\"marker\":{\"colorbar\":{\"outlinewidth\":0,\"ticks\":\"\"}}}],\"histogram\":[{\"marker\":{\"pattern\":{\"fillmode\":\"overlay\",\"size\":10,\"solidity\":0.2}},\"type\":\"histogram\"}],\"scattergl\":[{\"type\":\"scattergl\",\"marker\":{\"colorbar\":{\"outlinewidth\":0,\"ticks\":\"\"}}}],\"scatter3d\":[{\"type\":\"scatter3d\",\"line\":{\"colorbar\":{\"outlinewidth\":0,\"ticks\":\"\"}},\"marker\":{\"colorbar\":{\"outlinewidth\":0,\"ticks\":\"\"}}}],\"scattermapbox\":[{\"type\":\"scattermapbox\",\"marker\":{\"colorbar\":{\"outlinewidth\":0,\"ticks\":\"\"}}}],\"scatterternary\":[{\"type\":\"scatterternary\",\"marker\":{\"colorbar\":{\"outlinewidth\":0,\"ticks\":\"\"}}}],\"scattercarpet\":[{\"type\":\"scattercarpet\",\"marker\":{\"colorbar\":{\"outlinewidth\":0,\"ticks\":\"\"}}}],\"carpet\":[{\"aaxis\":{\"endlinecolor\":\"#2a3f5f\",\"gridcolor\":\"white\",\"linecolor\":\"white\",\"minorgridcolor\":\"white\",\"startlinecolor\":\"#2a3f5f\"},\"baxis\":{\"endlinecolor\":\"#2a3f5f\",\"gridcolor\":\"white\",\"linecolor\":\"white\",\"minorgridcolor\":\"white\",\"startlinecolor\":\"#2a3f5f\"},\"type\":\"carpet\"}],\"table\":[{\"cells\":{\"fill\":{\"color\":\"#EBF0F8\"},\"line\":{\"color\":\"white\"}},\"header\":{\"fill\":{\"color\":\"#C8D4E3\"},\"line\":{\"color\":\"white\"}},\"type\":\"table\"}],\"barpolar\":[{\"marker\":{\"line\":{\"color\":\"#E5ECF6\",\"width\":0.5},\"pattern\":{\"fillmode\":\"overlay\",\"size\":10,\"solidity\":0.2}},\"type\":\"barpolar\"}],\"pie\":[{\"automargin\":true,\"type\":\"pie\"}]},\"layout\":{\"autotypenumbers\":\"strict\",\"colorway\":[\"#636efa\",\"#EF553B\",\"#00cc96\",\"#ab63fa\",\"#FFA15A\",\"#19d3f3\",\"#FF6692\",\"#B6E880\",\"#FF97FF\",\"#FECB52\"],\"font\":{\"color\":\"#2a3f5f\"},\"hovermode\":\"closest\",\"hoverlabel\":{\"align\":\"left\"},\"paper_bgcolor\":\"white\",\"plot_bgcolor\":\"#E5ECF6\",\"polar\":{\"bgcolor\":\"#E5ECF6\",\"angularaxis\":{\"gridcolor\":\"white\",\"linecolor\":\"white\",\"ticks\":\"\"},\"radialaxis\":{\"gridcolor\":\"white\",\"linecolor\":\"white\",\"ticks\":\"\"}},\"ternary\":{\"bgcolor\":\"#E5ECF6\",\"aaxis\":{\"gridcolor\":\"white\",\"linecolor\":\"white\",\"ticks\":\"\"},\"baxis\":{\"gridcolor\":\"white\",\"linecolor\":\"white\",\"ticks\":\"\"},\"caxis\":{\"gridcolor\":\"white\",\"linecolor\":\"white\",\"ticks\":\"\"}},\"coloraxis\":{\"colorbar\":{\"outlinewidth\":0,\"ticks\":\"\"}},\"colorscale\":{\"sequential\":[[0.0,\"#0d0887\"],[0.1111111111111111,\"#46039f\"],[0.2222222222222222,\"#7201a8\"],[0.3333333333333333,\"#9c179e\"],[0.4444444444444444,\"#bd3786\"],[0.5555555555555556,\"#d8576b\"],[0.6666666666666666,\"#ed7953\"],[0.7777777777777778,\"#fb9f3a\"],[0.8888888888888888,\"#fdca26\"],[1.0,\"#f0f921\"]],\"sequentialminus\":[[0.0,\"#0d0887\"],[0.1111111111111111,\"#46039f\"],[0.2222222222222222,\"#7201a8\"],[0.3333333333333333,\"#9c179e\"],[0.4444444444444444,\"#bd3786\"],[0.5555555555555556,\"#d8576b\"],[0.6666666666666666,\"#ed7953\"],[0.7777777777777778,\"#fb9f3a\"],[0.8888888888888888,\"#fdca26\"],[1.0,\"#f0f921\"]],\"diverging\":[[0,\"#8e0152\"],[0.1,\"#c51b7d\"],[0.2,\"#de77ae\"],[0.3,\"#f1b6da\"],[0.4,\"#fde0ef\"],[0.5,\"#f7f7f7\"],[0.6,\"#e6f5d0\"],[0.7,\"#b8e186\"],[0.8,\"#7fbc41\"],[0.9,\"#4d9221\"],[1,\"#276419\"]]},\"xaxis\":{\"gridcolor\":\"white\",\"linecolor\":\"white\",\"ticks\":\"\",\"title\":{\"standoff\":15},\"zerolinecolor\":\"white\",\"automargin\":true,\"zerolinewidth\":2},\"yaxis\":{\"gridcolor\":\"white\",\"linecolor\":\"white\",\"ticks\":\"\",\"title\":{\"standoff\":15},\"zerolinecolor\":\"white\",\"automargin\":true,\"zerolinewidth\":2},\"scene\":{\"xaxis\":{\"backgroundcolor\":\"#E5ECF6\",\"gridcolor\":\"white\",\"linecolor\":\"white\",\"showbackground\":true,\"ticks\":\"\",\"zerolinecolor\":\"white\",\"gridwidth\":2},\"yaxis\":{\"backgroundcolor\":\"#E5ECF6\",\"gridcolor\":\"white\",\"linecolor\":\"white\",\"showbackground\":true,\"ticks\":\"\",\"zerolinecolor\":\"white\",\"gridwidth\":2},\"zaxis\":{\"backgroundcolor\":\"#E5ECF6\",\"gridcolor\":\"white\",\"linecolor\":\"white\",\"showbackground\":true,\"ticks\":\"\",\"zerolinecolor\":\"white\",\"gridwidth\":2}},\"shapedefaults\":{\"line\":{\"color\":\"#2a3f5f\"}},\"annotationdefaults\":{\"arrowcolor\":\"#2a3f5f\",\"arrowhead\":0,\"arrowwidth\":1},\"geo\":{\"bgcolor\":\"white\",\"landcolor\":\"#E5ECF6\",\"subunitcolor\":\"white\",\"showland\":true,\"showlakes\":true,\"lakecolor\":\"white\"},\"title\":{\"x\":0.05},\"mapbox\":{\"style\":\"light\"}}},\"font\":{\"family\":\"Arial, sans-serif\",\"size\":14,\"color\":\"black\"},\"xaxis\":{\"title\":{\"text\":\"Population\"},\"gridcolor\":\"lightgray\",\"range\":[-355003268.0,355003268.0]},\"yaxis\":{\"title\":{\"text\":\"Age Group\"},\"gridcolor\":\"lightgray\"},\"title\":{\"text\":\"Animated Population Pyramid (1970-2020)\"},\"width\":700,\"height\":600,\"paper_bgcolor\":\"#f4f4f4\",\"plot_bgcolor\":\"#ffffff\",\"barmode\":\"overlay\",\"showlegend\":true,\"updatemenus\":[{\"buttons\":[{\"args\":[null,{\"frame\":{\"duration\":1000,\"redraw\":true},\"fromcurrent\":true}],\"label\":\"Play\",\"method\":\"animate\"},{\"args\":[[null],{\"frame\":{\"duration\":0,\"redraw\":true},\"mode\":\"immediate\"}],\"label\":\"Pause\",\"method\":\"animate\"}],\"type\":\"buttons\",\"x\":0.1,\"y\":0}],\"sliders\":[{\"currentvalue\":{\"font\":{\"size\":16},\"prefix\":\"Year: \"},\"steps\":[{\"args\":[[\"1970\"],{\"frame\":{\"duration\":0,\"redraw\":true},\"mode\":\"immediate\"}],\"label\":\"1970\",\"method\":\"animate\"},{\"args\":[[\"1980\"],{\"frame\":{\"duration\":0,\"redraw\":true},\"mode\":\"immediate\"}],\"label\":\"1980\",\"method\":\"animate\"},{\"args\":[[\"1990\"],{\"frame\":{\"duration\":0,\"redraw\":true},\"mode\":\"immediate\"}],\"label\":\"1990\",\"method\":\"animate\"},{\"args\":[[\"2000\"],{\"frame\":{\"duration\":0,\"redraw\":true},\"mode\":\"immediate\"}],\"label\":\"2000\",\"method\":\"animate\"},{\"args\":[[\"2010\"],{\"frame\":{\"duration\":0,\"redraw\":true},\"mode\":\"immediate\"}],\"label\":\"2010\",\"method\":\"animate\"},{\"args\":[[\"2020\"],{\"frame\":{\"duration\":0,\"redraw\":true},\"mode\":\"immediate\"}],\"label\":\"2020\",\"method\":\"animate\"}]}]},                        {\"responsive\": true}                    ).then(function(){\n",
       "                            Plotly.addFrames('4ca8dc39-4a2e-4678-b22a-4840998016d7', [{\"data\":[{\"hoverinfo\":\"skip\",\"marker\":{\"color\":\"olive\",\"line\":{\"color\":\"black\",\"width\":1}},\"name\":\"Men\",\"orientation\":\"h\",\"x\":[268170523.0,235015889.0,206041424.0,186355585.0,152429287.0,124895333.0,119618199.0,108244614.0,98559412.0,82864207.0,66253436.0,60402532.0,49398168.0,36396119.0,23374568.0,13045234.0,8979539.0],\"y\":[1,6,11,16,21,26,31,36,41,46,51,56,61,66,71,76,81,85],\"type\":\"bar\"},{\"hoverinfo\":\"skip\",\"marker\":{\"color\":\"purple\",\"line\":{\"color\":\"black\",\"width\":1}},\"name\":\"Women\",\"orientation\":\"h\",\"x\":[-256927025.0,-225057027.0,-197507610.0,-179796861.0,-147420912.0,-121008410.0,-116111782.0,-105670376.0,-97832255.0,-86471694.0,-70188304.0,-66883271.0,-57131229.0,-44978528.0,-31810229.0,-19799405.0,-15949054.0],\"y\":[1,6,11,16,21,26,31,36,41,46,51,56,61,66,71,76,81,85],\"type\":\"bar\"}],\"name\":\"1970\"},{\"data\":[{\"hoverinfo\":\"skip\",\"marker\":{\"color\":\"olive\",\"line\":{\"color\":\"black\",\"width\":1}},\"name\":\"Men\",\"orientation\":\"h\",\"x\":[281880870.0,269616912.0,254111043.0,229563532.0,200843422.0,180833628.0,147679196.0,120100703.0,113555987.0,100883136.0,89593360.0,72597497.0,54424375.0,45068612.0,31553313.0,18503609.0,12239388.0],\"y\":[1,6,11,16,21,26,31,36,41,46,51,56,61,66,71,76,81,85],\"type\":\"bar\"},{\"hoverinfo\":\"skip\",\"marker\":{\"color\":\"purple\",\"line\":{\"color\":\"black\",\"width\":1}},\"name\":\"Women\",\"orientation\":\"h\",\"x\":[-268851292.0,-257422618.0,-243111049.0,-220280243.0,-193858727.0,-175902582.0,-143297703.0,-116691253.0,-111205808.0,-100253460.0,-91762037.0,-79583041.0,-61990653.0,-55646201.0,-42810055.0,-28441422.0,-23445475.0],\"y\":[1,6,11,16,21,26,31,36,41,46,51,56,61,66,71,76,81,85],\"type\":\"bar\"}],\"name\":\"1980\"},{\"data\":[{\"hoverinfo\":\"skip\",\"marker\":{\"color\":\"olive\",\"line\":{\"color\":\"black\",\"width\":1}},\"name\":\"Men\",\"orientation\":\"h\",\"x\":[331119722.0,297919636.0,268966779.0,263217926.0,247665798.0,223274703.0,195179031.0,175059458.0,141567937.0,113404787.0,104365353.0,89445587.0,74998133.0,55570668.0,36156032.0,24346216.0,18124300.0],\"y\":[1,6,11,16,21,26,31,36,41,46,51,56,61,66,71,76,81,85],\"type\":\"bar\"},{\"hoverinfo\":\"skip\",\"marker\":{\"color\":\"purple\",\"line\":{\"color\":\"black\",\"width\":1}},\"name\":\"Women\",\"orientation\":\"h\",\"x\":[-313092291.0,-283103801.0,-256446150.0,-252152335.0,-238453269.0,-216240673.0,-189837436.0,-171382787.0,-138570715.0,-111853071.0,-105146140.0,-92830069.0,-82129869.0,-67153519.0,-47499103.0,-36948115.0,-36025043.0],\"y\":[1,6,11,16,21,26,31,36,41,46,51,56,61,66,71,76,81,85],\"type\":\"bar\"}],\"name\":\"1990\"},{\"data\":[{\"hoverinfo\":\"skip\",\"marker\":{\"color\":\"olive\",\"line\":{\"color\":\"black\",\"width\":1}},\"name\":\"Men\",\"orientation\":\"h\",\"x\":[323242397.0,319575048.0,322416810.0,295149165.0,264345745.0,256111683.0,240792377.0,217026800.0,188272543.0,166466275.0,131771282.0,102086084.0,89361676.0,70844762.0,52502740.0,32593816.0,24774935.0],\"y\":[1,6,11,16,21,26,31,36,41,46,51,56,61,66,71,76,81,85],\"type\":\"bar\"},{\"hoverinfo\":\"skip\",\"marker\":{\"color\":\"purple\",\"line\":{\"color\":\"black\",\"width\":1}},\"name\":\"Women\",\"orientation\":\"h\",\"x\":[-302551531.0,-300003539.0,-304621551.0,-281165810.0,-254225496.0,-248472955.0,-234682250.0,-212493612.0,-185657119.0,-166279805.0,-132788210.0,-105065508.0,-96068142.0,-80548308.0,-65450952.0,-46963531.0,-47512404.0],\"y\":[1,6,11,16,21,26,31,36,41,46,51,56,61,66,71,76,81,85],\"type\":\"bar\"}],\"name\":\"2000\"},{\"data\":[{\"hoverinfo\":\"skip\",\"marker\":{\"color\":\"olive\",\"line\":{\"color\":\"black\",\"width\":1}},\"name\":\"Men\",\"orientation\":\"h\",\"x\":[345490124.0,325604745.0,315924285.0,315874190.0,316229271.0,287046034.0,256528734.0,248219860.0,232104841.0,206438135.0,175051539.0,150923620.0,114909622.0,83135699.0,65137476.0,44190945.0,39579879.0],\"y\":[1,6,11,16,21,26,31,36,41,46,51,56,61,66,71,76,81,85],\"type\":\"bar\"},{\"hoverinfo\":\"skip\",\"marker\":{\"color\":\"purple\",\"line\":{\"color\":\"black\",\"width\":1}},\"name\":\"Women\",\"orientation\":\"h\",\"x\":[-323431762.0,-304517119.0,-295382357.0,-296927385.0,-300222059.0,-275437688.0,-248681827.0,-242804958.0,-228794746.0,-205870753.0,-177890614.0,-157300429.0,-122537320.0,-92479736.0,-78514104.0,-58536636.0,-68952756.0],\"y\":[1,6,11,16,21,26,31,36,41,46,51,56,61,66,71,76,81,85],\"type\":\"bar\"}],\"name\":\"2010\"},{\"data\":[{\"hoverinfo\":\"skip\",\"marker\":{\"color\":\"olive\",\"line\":{\"color\":\"black\",\"width\":1}},\"name\":\"Men\",\"orientation\":\"h\",\"x\":[350515471.0,355003268.0,340399749.0,322082499.0,311226388.0,309641234.0,309357029.0,279781371.0,248255758.0,238154909.0,219307981.0,189959120.0,154564673.0,125884632.0,87855497.0,55019059.0,56756917.0],\"y\":[1,6,11,16,21,26,31,36,41,46,51,56,61,66,71,76,81,85],\"type\":\"bar\"},{\"hoverinfo\":\"skip\",\"marker\":{\"color\":\"purple\",\"line\":{\"color\":\"black\",\"width\":1}},\"name\":\"Women\",\"orientation\":\"h\",\"x\":[-331072104.0,-333282669.0,-318975287.0,-302489242.0,-292770535.0,-292492131.0,-294687536.0,-269789622.0,-242241330.0,-235726796.0,-220639805.0,-195511933.0,-165052444.0,-141232037.0,-103450405.0,-70038474.0,-92920892.0],\"y\":[1,6,11,16,21,26,31,36,41,46,51,56,61,66,71,76,81,85],\"type\":\"bar\"}],\"name\":\"2020\"}]);\n",
       "                        }).then(function(){\n",
       "                            \n",
       "var gd = document.getElementById('4ca8dc39-4a2e-4678-b22a-4840998016d7');\n",
       "var x = new MutationObserver(function (mutations, observer) {{\n",
       "        var display = window.getComputedStyle(gd).display;\n",
       "        if (!display || display === 'none') {{\n",
       "            console.log([gd, 'removed!']);\n",
       "            Plotly.purge(gd);\n",
       "            observer.disconnect();\n",
       "        }}\n",
       "}});\n",
       "\n",
       "// Listen for the removal of the full notebook cells\n",
       "var notebookContainer = gd.closest('#notebook-container');\n",
       "if (notebookContainer) {{\n",
       "    x.observe(notebookContainer, {childList: true});\n",
       "}}\n",
       "\n",
       "// Listen for the clearing of the current output cell\n",
       "var outputEl = gd.closest('.output');\n",
       "if (outputEl) {{\n",
       "    x.observe(outputEl, {childList: true});\n",
       "}}\n",
       "\n",
       "                        })                };                });            </script>        </div>"
      ]
     },
     "metadata": {},
     "output_type": "display_data"
    }
   ],
   "source": [
    "# Trying to make an animated one..?\n",
    "\n",
    "# Define available years\n",
    "years = [1970, 1980, 1990, 2000, 2010, 2020]\n",
    "ages = [f\"{i}-{i+4}\" for i in range(0, 85, 5)] + [\"85+\"]  # Includes 85+ group\n",
    "\n",
    "# Function to create bar traces for a given year\n",
    "def get_traces(year):\n",
    "    male_values = world.loc[str(year)].filter(regex=\"Male\").values\n",
    "    female_values = world.loc[str(year)].filter(regex=\"Female\").values\n",
    "\n",
    "    return [\n",
    "        go.Bar(\n",
    "            x=male_values,\n",
    "            y=[int(s.split('-')[0]) + 1 if '-' in s else int(s[:-1]) for s in ages],\n",
    "            orientation='h',\n",
    "            name='Men',\n",
    "            marker=dict(color='olive', line=dict(color='black', width=1)),\n",
    "            hoverinfo='skip'\n",
    "        ),\n",
    "        go.Bar(\n",
    "            x=-female_values,  # Keep negative values for left alignment\n",
    "            y=[int(s.split('-')[0]) + 1 if '-' in s else int(s[:-1]) for s in ages],\n",
    "            orientation='h',\n",
    "            name='Women',\n",
    "            marker=dict(color='purple', line=dict(color='black', width=1)),\n",
    "            hoverinfo='skip'\n",
    "        )\n",
    "    ]\n",
    "\n",
    "# Ensure index is properly formatted for lookup\n",
    "max_population = max(world.loc[world.index.astype(str).isin(map(str, years))].filter(regex=\"Male|Female\").max().values)\n",
    "\n",
    "# Create figure with initial data (1970)\n",
    "fig2 = go.Figure(data=get_traces(1970), frames=[\n",
    "    go.Frame(data=get_traces(year), name=str(year)) for year in years\n",
    "])\n",
    "\n",
    "# Update layout with proper axis alignment\n",
    "fig2.update_layout(\n",
    "    title=\"Animated World Population Pyramid (1970-2020)\",\n",
    "    width=700, height=600, paper_bgcolor='#f4f4f4', plot_bgcolor='#ffffff',\n",
    "    font=dict(family=\"Arial, sans-serif\", size=14, color=\"black\"),\n",
    "    xaxis=dict(title=\"Population\", gridcolor='lightgray', range=[-max_population, max_population]),\n",
    "    yaxis=dict(title=\"Age Group\", gridcolor='lightgray'),\n",
    "    barmode='overlay',\n",
    "    showlegend=True,\n",
    "    updatemenus=[{\n",
    "        \"buttons\": [\n",
    "            {\"args\": [None, {\"frame\": {\"duration\": 1000, \"redraw\": True}, \"fromcurrent\": True}],\n",
    "             \"label\": \"Play\", \"method\": \"animate\"},\n",
    "            {\"args\": [[None], {\"frame\": {\"duration\": 0, \"redraw\": True}, \"mode\": \"immediate\"}],\n",
    "             \"label\": \"Pause\", \"method\": \"animate\"}\n",
    "        ],\n",
    "        \"type\": \"buttons\", \"x\": 0.1, \"y\": 0\n",
    "    }],\n",
    "    sliders=[{\n",
    "        \"steps\": [{\"args\": [[str(year)], {\"frame\": {\"duration\": 0, \"redraw\": True}, \"mode\": \"immediate\"}],\n",
    "                   \"label\": str(year), \"method\": \"animate\"} for year in years],\n",
    "        \"currentvalue\": {\"prefix\": \"Year: \", \"font\": {\"size\": 16}}\n",
    "    }]\n",
    ")\n",
    "\n",
    "fig2.show()"
   ]
  },
  {
   "cell_type": "code",
   "execution_count": 37,
   "id": "0a268f58-94dc-49d4-921b-8ff7ba91148e",
   "metadata": {},
   "outputs": [],
   "source": [
    "# Now to make pop. pyramids for some of our target countries (the Operation Condor countries)\n",
    "    # Brazil, Chile, Argentina, Uruguay,  Ecuador, Colombia, Peru, and Paraguay"
   ]
  },
  {
   "cell_type": "code",
   "execution_count": 5,
   "id": "661fa2b8-78e0-4897-9ce6-de3663900b9d",
   "metadata": {},
   "outputs": [
    {
     "data": {
      "text/html": [
       "        <script type=\"text/javascript\">\n",
       "        window.PlotlyConfig = {MathJaxConfig: 'local'};\n",
       "        if (window.MathJax && window.MathJax.Hub && window.MathJax.Hub.Config) {window.MathJax.Hub.Config({SVG: {font: \"STIX-Web\"}});}\n",
       "        if (typeof require !== 'undefined') {\n",
       "        require.undef(\"plotly\");\n",
       "        requirejs.config({\n",
       "            paths: {\n",
       "                'plotly': ['https://cdn.plot.ly/plotly-2.35.2.min']\n",
       "            }\n",
       "        });\n",
       "        require(['plotly'], function(Plotly) {\n",
       "            window._Plotly = Plotly;\n",
       "        });\n",
       "        }\n",
       "        </script>\n",
       "        "
      ]
     },
     "metadata": {},
     "output_type": "display_data"
    },
    {
     "data": {
      "application/vnd.plotly.v1+json": {
       "config": {
        "linkText": "Export to plot.ly",
        "plotlyServerURL": "https://plot.ly",
        "showLink": false
       },
       "data": [
        {
         "hoverinfo": "skip",
         "marker": {
          "color": "green",
          "line": {
           "color": "black",
           "width": 1
          }
         },
         "name": "Men",
         "orientation": "h",
         "type": "bar",
         "x": [
          23862208,
          25525186,
          26166550,
          26311425,
          26485310,
          26019051,
          25033048,
          23676457,
          21845348,
          19494938,
          17244684,
          15279069,
          12971568,
          10081282,
          7263821,
          4665008,
          4390431
         ],
         "y": [
          1,
          6,
          11,
          16,
          21,
          26,
          31,
          36,
          41,
          46,
          51,
          56,
          61,
          66,
          71,
          76,
          81
         ]
        },
        {
         "hoverinfo": "skip",
         "marker": {
          "color": "orange",
          "line": {
           "color": "black",
           "width": 1
          }
         },
         "name": "Women",
         "orientation": "h",
         "type": "bar",
         "x": [
          -22934780,
          -24529189,
          -25154957,
          -25375114,
          -25822451,
          -25800251,
          -25216804,
          -24269977,
          -22901906,
          -20721065,
          -18542575,
          -16709194,
          -14541310,
          -11712498,
          -8898661,
          -6111010,
          -6840845
         ],
         "y": [
          1,
          6,
          11,
          16,
          21,
          26,
          31,
          36,
          41,
          46,
          51,
          56,
          61,
          66,
          71,
          76,
          81
         ]
        }
       ],
       "layout": {
        "barmode": "overlay",
        "font": {
         "color": "black",
         "family": "Arial, sans-serif",
         "size": 14
        },
        "height": 600,
        "paper_bgcolor": "#f4f4f4",
        "plot_bgcolor": "#ffffff",
        "showlegend": true,
        "template": {
         "data": {
          "bar": [
           {
            "error_x": {
             "color": "#2a3f5f"
            },
            "error_y": {
             "color": "#2a3f5f"
            },
            "marker": {
             "line": {
              "color": "#E5ECF6",
              "width": 0.5
             },
             "pattern": {
              "fillmode": "overlay",
              "size": 10,
              "solidity": 0.2
             }
            },
            "type": "bar"
           }
          ],
          "barpolar": [
           {
            "marker": {
             "line": {
              "color": "#E5ECF6",
              "width": 0.5
             },
             "pattern": {
              "fillmode": "overlay",
              "size": 10,
              "solidity": 0.2
             }
            },
            "type": "barpolar"
           }
          ],
          "carpet": [
           {
            "aaxis": {
             "endlinecolor": "#2a3f5f",
             "gridcolor": "white",
             "linecolor": "white",
             "minorgridcolor": "white",
             "startlinecolor": "#2a3f5f"
            },
            "baxis": {
             "endlinecolor": "#2a3f5f",
             "gridcolor": "white",
             "linecolor": "white",
             "minorgridcolor": "white",
             "startlinecolor": "#2a3f5f"
            },
            "type": "carpet"
           }
          ],
          "choropleth": [
           {
            "colorbar": {
             "outlinewidth": 0,
             "ticks": ""
            },
            "type": "choropleth"
           }
          ],
          "contour": [
           {
            "colorbar": {
             "outlinewidth": 0,
             "ticks": ""
            },
            "colorscale": [
             [
              0,
              "#0d0887"
             ],
             [
              0.1111111111111111,
              "#46039f"
             ],
             [
              0.2222222222222222,
              "#7201a8"
             ],
             [
              0.3333333333333333,
              "#9c179e"
             ],
             [
              0.4444444444444444,
              "#bd3786"
             ],
             [
              0.5555555555555556,
              "#d8576b"
             ],
             [
              0.6666666666666666,
              "#ed7953"
             ],
             [
              0.7777777777777778,
              "#fb9f3a"
             ],
             [
              0.8888888888888888,
              "#fdca26"
             ],
             [
              1,
              "#f0f921"
             ]
            ],
            "type": "contour"
           }
          ],
          "contourcarpet": [
           {
            "colorbar": {
             "outlinewidth": 0,
             "ticks": ""
            },
            "type": "contourcarpet"
           }
          ],
          "heatmap": [
           {
            "colorbar": {
             "outlinewidth": 0,
             "ticks": ""
            },
            "colorscale": [
             [
              0,
              "#0d0887"
             ],
             [
              0.1111111111111111,
              "#46039f"
             ],
             [
              0.2222222222222222,
              "#7201a8"
             ],
             [
              0.3333333333333333,
              "#9c179e"
             ],
             [
              0.4444444444444444,
              "#bd3786"
             ],
             [
              0.5555555555555556,
              "#d8576b"
             ],
             [
              0.6666666666666666,
              "#ed7953"
             ],
             [
              0.7777777777777778,
              "#fb9f3a"
             ],
             [
              0.8888888888888888,
              "#fdca26"
             ],
             [
              1,
              "#f0f921"
             ]
            ],
            "type": "heatmap"
           }
          ],
          "heatmapgl": [
           {
            "colorbar": {
             "outlinewidth": 0,
             "ticks": ""
            },
            "colorscale": [
             [
              0,
              "#0d0887"
             ],
             [
              0.1111111111111111,
              "#46039f"
             ],
             [
              0.2222222222222222,
              "#7201a8"
             ],
             [
              0.3333333333333333,
              "#9c179e"
             ],
             [
              0.4444444444444444,
              "#bd3786"
             ],
             [
              0.5555555555555556,
              "#d8576b"
             ],
             [
              0.6666666666666666,
              "#ed7953"
             ],
             [
              0.7777777777777778,
              "#fb9f3a"
             ],
             [
              0.8888888888888888,
              "#fdca26"
             ],
             [
              1,
              "#f0f921"
             ]
            ],
            "type": "heatmapgl"
           }
          ],
          "histogram": [
           {
            "marker": {
             "pattern": {
              "fillmode": "overlay",
              "size": 10,
              "solidity": 0.2
             }
            },
            "type": "histogram"
           }
          ],
          "histogram2d": [
           {
            "colorbar": {
             "outlinewidth": 0,
             "ticks": ""
            },
            "colorscale": [
             [
              0,
              "#0d0887"
             ],
             [
              0.1111111111111111,
              "#46039f"
             ],
             [
              0.2222222222222222,
              "#7201a8"
             ],
             [
              0.3333333333333333,
              "#9c179e"
             ],
             [
              0.4444444444444444,
              "#bd3786"
             ],
             [
              0.5555555555555556,
              "#d8576b"
             ],
             [
              0.6666666666666666,
              "#ed7953"
             ],
             [
              0.7777777777777778,
              "#fb9f3a"
             ],
             [
              0.8888888888888888,
              "#fdca26"
             ],
             [
              1,
              "#f0f921"
             ]
            ],
            "type": "histogram2d"
           }
          ],
          "histogram2dcontour": [
           {
            "colorbar": {
             "outlinewidth": 0,
             "ticks": ""
            },
            "colorscale": [
             [
              0,
              "#0d0887"
             ],
             [
              0.1111111111111111,
              "#46039f"
             ],
             [
              0.2222222222222222,
              "#7201a8"
             ],
             [
              0.3333333333333333,
              "#9c179e"
             ],
             [
              0.4444444444444444,
              "#bd3786"
             ],
             [
              0.5555555555555556,
              "#d8576b"
             ],
             [
              0.6666666666666666,
              "#ed7953"
             ],
             [
              0.7777777777777778,
              "#fb9f3a"
             ],
             [
              0.8888888888888888,
              "#fdca26"
             ],
             [
              1,
              "#f0f921"
             ]
            ],
            "type": "histogram2dcontour"
           }
          ],
          "mesh3d": [
           {
            "colorbar": {
             "outlinewidth": 0,
             "ticks": ""
            },
            "type": "mesh3d"
           }
          ],
          "parcoords": [
           {
            "line": {
             "colorbar": {
              "outlinewidth": 0,
              "ticks": ""
             }
            },
            "type": "parcoords"
           }
          ],
          "pie": [
           {
            "automargin": true,
            "type": "pie"
           }
          ],
          "scatter": [
           {
            "fillpattern": {
             "fillmode": "overlay",
             "size": 10,
             "solidity": 0.2
            },
            "type": "scatter"
           }
          ],
          "scatter3d": [
           {
            "line": {
             "colorbar": {
              "outlinewidth": 0,
              "ticks": ""
             }
            },
            "marker": {
             "colorbar": {
              "outlinewidth": 0,
              "ticks": ""
             }
            },
            "type": "scatter3d"
           }
          ],
          "scattercarpet": [
           {
            "marker": {
             "colorbar": {
              "outlinewidth": 0,
              "ticks": ""
             }
            },
            "type": "scattercarpet"
           }
          ],
          "scattergeo": [
           {
            "marker": {
             "colorbar": {
              "outlinewidth": 0,
              "ticks": ""
             }
            },
            "type": "scattergeo"
           }
          ],
          "scattergl": [
           {
            "marker": {
             "colorbar": {
              "outlinewidth": 0,
              "ticks": ""
             }
            },
            "type": "scattergl"
           }
          ],
          "scattermapbox": [
           {
            "marker": {
             "colorbar": {
              "outlinewidth": 0,
              "ticks": ""
             }
            },
            "type": "scattermapbox"
           }
          ],
          "scatterpolar": [
           {
            "marker": {
             "colorbar": {
              "outlinewidth": 0,
              "ticks": ""
             }
            },
            "type": "scatterpolar"
           }
          ],
          "scatterpolargl": [
           {
            "marker": {
             "colorbar": {
              "outlinewidth": 0,
              "ticks": ""
             }
            },
            "type": "scatterpolargl"
           }
          ],
          "scatterternary": [
           {
            "marker": {
             "colorbar": {
              "outlinewidth": 0,
              "ticks": ""
             }
            },
            "type": "scatterternary"
           }
          ],
          "surface": [
           {
            "colorbar": {
             "outlinewidth": 0,
             "ticks": ""
            },
            "colorscale": [
             [
              0,
              "#0d0887"
             ],
             [
              0.1111111111111111,
              "#46039f"
             ],
             [
              0.2222222222222222,
              "#7201a8"
             ],
             [
              0.3333333333333333,
              "#9c179e"
             ],
             [
              0.4444444444444444,
              "#bd3786"
             ],
             [
              0.5555555555555556,
              "#d8576b"
             ],
             [
              0.6666666666666666,
              "#ed7953"
             ],
             [
              0.7777777777777778,
              "#fb9f3a"
             ],
             [
              0.8888888888888888,
              "#fdca26"
             ],
             [
              1,
              "#f0f921"
             ]
            ],
            "type": "surface"
           }
          ],
          "table": [
           {
            "cells": {
             "fill": {
              "color": "#EBF0F8"
             },
             "line": {
              "color": "white"
             }
            },
            "header": {
             "fill": {
              "color": "#C8D4E3"
             },
             "line": {
              "color": "white"
             }
            },
            "type": "table"
           }
          ]
         },
         "layout": {
          "annotationdefaults": {
           "arrowcolor": "#2a3f5f",
           "arrowhead": 0,
           "arrowwidth": 1
          },
          "autotypenumbers": "strict",
          "coloraxis": {
           "colorbar": {
            "outlinewidth": 0,
            "ticks": ""
           }
          },
          "colorscale": {
           "diverging": [
            [
             0,
             "#8e0152"
            ],
            [
             0.1,
             "#c51b7d"
            ],
            [
             0.2,
             "#de77ae"
            ],
            [
             0.3,
             "#f1b6da"
            ],
            [
             0.4,
             "#fde0ef"
            ],
            [
             0.5,
             "#f7f7f7"
            ],
            [
             0.6,
             "#e6f5d0"
            ],
            [
             0.7,
             "#b8e186"
            ],
            [
             0.8,
             "#7fbc41"
            ],
            [
             0.9,
             "#4d9221"
            ],
            [
             1,
             "#276419"
            ]
           ],
           "sequential": [
            [
             0,
             "#0d0887"
            ],
            [
             0.1111111111111111,
             "#46039f"
            ],
            [
             0.2222222222222222,
             "#7201a8"
            ],
            [
             0.3333333333333333,
             "#9c179e"
            ],
            [
             0.4444444444444444,
             "#bd3786"
            ],
            [
             0.5555555555555556,
             "#d8576b"
            ],
            [
             0.6666666666666666,
             "#ed7953"
            ],
            [
             0.7777777777777778,
             "#fb9f3a"
            ],
            [
             0.8888888888888888,
             "#fdca26"
            ],
            [
             1,
             "#f0f921"
            ]
           ],
           "sequentialminus": [
            [
             0,
             "#0d0887"
            ],
            [
             0.1111111111111111,
             "#46039f"
            ],
            [
             0.2222222222222222,
             "#7201a8"
            ],
            [
             0.3333333333333333,
             "#9c179e"
            ],
            [
             0.4444444444444444,
             "#bd3786"
            ],
            [
             0.5555555555555556,
             "#d8576b"
            ],
            [
             0.6666666666666666,
             "#ed7953"
            ],
            [
             0.7777777777777778,
             "#fb9f3a"
            ],
            [
             0.8888888888888888,
             "#fdca26"
            ],
            [
             1,
             "#f0f921"
            ]
           ]
          },
          "colorway": [
           "#636efa",
           "#EF553B",
           "#00cc96",
           "#ab63fa",
           "#FFA15A",
           "#19d3f3",
           "#FF6692",
           "#B6E880",
           "#FF97FF",
           "#FECB52"
          ],
          "font": {
           "color": "#2a3f5f"
          },
          "geo": {
           "bgcolor": "white",
           "lakecolor": "white",
           "landcolor": "#E5ECF6",
           "showlakes": true,
           "showland": true,
           "subunitcolor": "white"
          },
          "hoverlabel": {
           "align": "left"
          },
          "hovermode": "closest",
          "mapbox": {
           "style": "light"
          },
          "paper_bgcolor": "white",
          "plot_bgcolor": "#E5ECF6",
          "polar": {
           "angularaxis": {
            "gridcolor": "white",
            "linecolor": "white",
            "ticks": ""
           },
           "bgcolor": "#E5ECF6",
           "radialaxis": {
            "gridcolor": "white",
            "linecolor": "white",
            "ticks": ""
           }
          },
          "scene": {
           "xaxis": {
            "backgroundcolor": "#E5ECF6",
            "gridcolor": "white",
            "gridwidth": 2,
            "linecolor": "white",
            "showbackground": true,
            "ticks": "",
            "zerolinecolor": "white"
           },
           "yaxis": {
            "backgroundcolor": "#E5ECF6",
            "gridcolor": "white",
            "gridwidth": 2,
            "linecolor": "white",
            "showbackground": true,
            "ticks": "",
            "zerolinecolor": "white"
           },
           "zaxis": {
            "backgroundcolor": "#E5ECF6",
            "gridcolor": "white",
            "gridwidth": 2,
            "linecolor": "white",
            "showbackground": true,
            "ticks": "",
            "zerolinecolor": "white"
           }
          },
          "shapedefaults": {
           "line": {
            "color": "#2a3f5f"
           }
          },
          "ternary": {
           "aaxis": {
            "gridcolor": "white",
            "linecolor": "white",
            "ticks": ""
           },
           "baxis": {
            "gridcolor": "white",
            "linecolor": "white",
            "ticks": ""
           },
           "bgcolor": "#E5ECF6",
           "caxis": {
            "gridcolor": "white",
            "linecolor": "white",
            "ticks": ""
           }
          },
          "title": {
           "x": 0.05
          },
          "xaxis": {
           "automargin": true,
           "gridcolor": "white",
           "linecolor": "white",
           "ticks": "",
           "title": {
            "standoff": 15
           },
           "zerolinecolor": "white",
           "zerolinewidth": 2
          },
          "yaxis": {
           "automargin": true,
           "gridcolor": "white",
           "linecolor": "white",
           "ticks": "",
           "title": {
            "standoff": 15
           },
           "zerolinecolor": "white",
           "zerolinewidth": 2
          }
         }
        },
        "title": {
         "font": {
          "color": "black",
          "size": 18
         },
         "text": "Population Pyramid of Latin America and the Caribbean (2023)"
        },
        "width": 600,
        "xaxis": {
         "gridcolor": "lightgray",
         "tickfont": {
          "size": 12
         },
         "title": {
          "font": {
           "size": 16
          },
          "text": "Number of People"
         }
        },
        "yaxis": {
         "gridcolor": "lightgray",
         "range": [
          0,
          90
         ],
         "tickfont": {
          "size": 12
         },
         "title": {
          "font": {
           "size": 16
          },
          "text": "Age"
         }
        }
       }
      },
      "image/png": "[encoded data removed]",
      "text/html": [
       "<div>                            <div id=\"728803fe-61c7-456d-a10b-68a6b1e50a6e\" class=\"plotly-graph-div\" style=\"height:600px; width:600px;\"></div>            <script type=\"text/javascript\">                require([\"plotly\"], function(Plotly) {                    window.PLOTLYENV=window.PLOTLYENV || {};                                    if (document.getElementById(\"728803fe-61c7-456d-a10b-68a6b1e50a6e\")) {                    Plotly.newPlot(                        \"728803fe-61c7-456d-a10b-68a6b1e50a6e\",                        [{\"hoverinfo\":\"skip\",\"marker\":{\"color\":\"green\",\"line\":{\"color\":\"black\",\"width\":1}},\"name\":\"Men\",\"orientation\":\"h\",\"x\":[23862208.0,25525186.0,26166550.0,26311425.0,26485310.0,26019051.0,25033048.0,23676457.0,21845348.0,19494938.0,17244684.0,15279069.0,12971568.0,10081282.0,7263821.0,4665008.0,4390431.0],\"y\":[1,6,11,16,21,26,31,36,41,46,51,56,61,66,71,76,81],\"type\":\"bar\"},{\"hoverinfo\":\"skip\",\"marker\":{\"color\":\"orange\",\"line\":{\"color\":\"black\",\"width\":1}},\"name\":\"Women\",\"orientation\":\"h\",\"x\":[-22934780.0,-24529189.0,-25154957.0,-25375114.0,-25822451.0,-25800251.0,-25216804.0,-24269977.0,-22901906.0,-20721065.0,-18542575.0,-16709194.0,-14541310.0,-11712498.0,-8898661.0,-6111010.0,-6840845.0],\"y\":[1,6,11,16,21,26,31,36,41,46,51,56,61,66,71,76,81],\"type\":\"bar\"}],                        {\"barmode\":\"overlay\",\"font\":{\"color\":\"black\",\"family\":\"Arial, sans-serif\",\"size\":14},\"height\":600,\"paper_bgcolor\":\"#f4f4f4\",\"plot_bgcolor\":\"#ffffff\",\"showlegend\":true,\"template\":{\"data\":{\"barpolar\":[{\"marker\":{\"line\":{\"color\":\"#E5ECF6\",\"width\":0.5},\"pattern\":{\"fillmode\":\"overlay\",\"size\":10,\"solidity\":0.2}},\"type\":\"barpolar\"}],\"bar\":[{\"error_x\":{\"color\":\"#2a3f5f\"},\"error_y\":{\"color\":\"#2a3f5f\"},\"marker\":{\"line\":{\"color\":\"#E5ECF6\",\"width\":0.5},\"pattern\":{\"fillmode\":\"overlay\",\"size\":10,\"solidity\":0.2}},\"type\":\"bar\"}],\"carpet\":[{\"aaxis\":{\"endlinecolor\":\"#2a3f5f\",\"gridcolor\":\"white\",\"linecolor\":\"white\",\"minorgridcolor\":\"white\",\"startlinecolor\":\"#2a3f5f\"},\"baxis\":{\"endlinecolor\":\"#2a3f5f\",\"gridcolor\":\"white\",\"linecolor\":\"white\",\"minorgridcolor\":\"white\",\"startlinecolor\":\"#2a3f5f\"},\"type\":\"carpet\"}],\"choropleth\":[{\"colorbar\":{\"outlinewidth\":0,\"ticks\":\"\"},\"type\":\"choropleth\"}],\"contourcarpet\":[{\"colorbar\":{\"outlinewidth\":0,\"ticks\":\"\"},\"type\":\"contourcarpet\"}],\"contour\":[{\"colorbar\":{\"outlinewidth\":0,\"ticks\":\"\"},\"colorscale\":[[0.0,\"#0d0887\"],[0.1111111111111111,\"#46039f\"],[0.2222222222222222,\"#7201a8\"],[0.3333333333333333,\"#9c179e\"],[0.4444444444444444,\"#bd3786\"],[0.5555555555555556,\"#d8576b\"],[0.6666666666666666,\"#ed7953\"],[0.7777777777777778,\"#fb9f3a\"],[0.8888888888888888,\"#fdca26\"],[1.0,\"#f0f921\"]],\"type\":\"contour\"}],\"heatmapgl\":[{\"colorbar\":{\"outlinewidth\":0,\"ticks\":\"\"},\"colorscale\":[[0.0,\"#0d0887\"],[0.1111111111111111,\"#46039f\"],[0.2222222222222222,\"#7201a8\"],[0.3333333333333333,\"#9c179e\"],[0.4444444444444444,\"#bd3786\"],[0.5555555555555556,\"#d8576b\"],[0.6666666666666666,\"#ed7953\"],[0.7777777777777778,\"#fb9f3a\"],[0.8888888888888888,\"#fdca26\"],[1.0,\"#f0f921\"]],\"type\":\"heatmapgl\"}],\"heatmap\":[{\"colorbar\":{\"outlinewidth\":0,\"ticks\":\"\"},\"colorscale\":[[0.0,\"#0d0887\"],[0.1111111111111111,\"#46039f\"],[0.2222222222222222,\"#7201a8\"],[0.3333333333333333,\"#9c179e\"],[0.4444444444444444,\"#bd3786\"],[0.5555555555555556,\"#d8576b\"],[0.6666666666666666,\"#ed7953\"],[0.7777777777777778,\"#fb9f3a\"],[0.8888888888888888,\"#fdca26\"],[1.0,\"#f0f921\"]],\"type\":\"heatmap\"}],\"histogram2dcontour\":[{\"colorbar\":{\"outlinewidth\":0,\"ticks\":\"\"},\"colorscale\":[[0.0,\"#0d0887\"],[0.1111111111111111,\"#46039f\"],[0.2222222222222222,\"#7201a8\"],[0.3333333333333333,\"#9c179e\"],[0.4444444444444444,\"#bd3786\"],[0.5555555555555556,\"#d8576b\"],[0.6666666666666666,\"#ed7953\"],[0.7777777777777778,\"#fb9f3a\"],[0.8888888888888888,\"#fdca26\"],[1.0,\"#f0f921\"]],\"type\":\"histogram2dcontour\"}],\"histogram2d\":[{\"colorbar\":{\"outlinewidth\":0,\"ticks\":\"\"},\"colorscale\":[[0.0,\"#0d0887\"],[0.1111111111111111,\"#46039f\"],[0.2222222222222222,\"#7201a8\"],[0.3333333333333333,\"#9c179e\"],[0.4444444444444444,\"#bd3786\"],[0.5555555555555556,\"#d8576b\"],[0.6666666666666666,\"#ed7953\"],[0.7777777777777778,\"#fb9f3a\"],[0.8888888888888888,\"#fdca26\"],[1.0,\"#f0f921\"]],\"type\":\"histogram2d\"}],\"histogram\":[{\"marker\":{\"pattern\":{\"fillmode\":\"overlay\",\"size\":10,\"solidity\":0.2}},\"type\":\"histogram\"}],\"mesh3d\":[{\"colorbar\":{\"outlinewidth\":0,\"ticks\":\"\"},\"type\":\"mesh3d\"}],\"parcoords\":[{\"line\":{\"colorbar\":{\"outlinewidth\":0,\"ticks\":\"\"}},\"type\":\"parcoords\"}],\"pie\":[{\"automargin\":true,\"type\":\"pie\"}],\"scatter3d\":[{\"line\":{\"colorbar\":{\"outlinewidth\":0,\"ticks\":\"\"}},\"marker\":{\"colorbar\":{\"outlinewidth\":0,\"ticks\":\"\"}},\"type\":\"scatter3d\"}],\"scattercarpet\":[{\"marker\":{\"colorbar\":{\"outlinewidth\":0,\"ticks\":\"\"}},\"type\":\"scattercarpet\"}],\"scattergeo\":[{\"marker\":{\"colorbar\":{\"outlinewidth\":0,\"ticks\":\"\"}},\"type\":\"scattergeo\"}],\"scattergl\":[{\"marker\":{\"colorbar\":{\"outlinewidth\":0,\"ticks\":\"\"}},\"type\":\"scattergl\"}],\"scattermapbox\":[{\"marker\":{\"colorbar\":{\"outlinewidth\":0,\"ticks\":\"\"}},\"type\":\"scattermapbox\"}],\"scatterpolargl\":[{\"marker\":{\"colorbar\":{\"outlinewidth\":0,\"ticks\":\"\"}},\"type\":\"scatterpolargl\"}],\"scatterpolar\":[{\"marker\":{\"colorbar\":{\"outlinewidth\":0,\"ticks\":\"\"}},\"type\":\"scatterpolar\"}],\"scatter\":[{\"fillpattern\":{\"fillmode\":\"overlay\",\"size\":10,\"solidity\":0.2},\"type\":\"scatter\"}],\"scatterternary\":[{\"marker\":{\"colorbar\":{\"outlinewidth\":0,\"ticks\":\"\"}},\"type\":\"scatterternary\"}],\"surface\":[{\"colorbar\":{\"outlinewidth\":0,\"ticks\":\"\"},\"colorscale\":[[0.0,\"#0d0887\"],[0.1111111111111111,\"#46039f\"],[0.2222222222222222,\"#7201a8\"],[0.3333333333333333,\"#9c179e\"],[0.4444444444444444,\"#bd3786\"],[0.5555555555555556,\"#d8576b\"],[0.6666666666666666,\"#ed7953\"],[0.7777777777777778,\"#fb9f3a\"],[0.8888888888888888,\"#fdca26\"],[1.0,\"#f0f921\"]],\"type\":\"surface\"}],\"table\":[{\"cells\":{\"fill\":{\"color\":\"#EBF0F8\"},\"line\":{\"color\":\"white\"}},\"header\":{\"fill\":{\"color\":\"#C8D4E3\"},\"line\":{\"color\":\"white\"}},\"type\":\"table\"}]},\"layout\":{\"annotationdefaults\":{\"arrowcolor\":\"#2a3f5f\",\"arrowhead\":0,\"arrowwidth\":1},\"autotypenumbers\":\"strict\",\"coloraxis\":{\"colorbar\":{\"outlinewidth\":0,\"ticks\":\"\"}},\"colorscale\":{\"diverging\":[[0,\"#8e0152\"],[0.1,\"#c51b7d\"],[0.2,\"#de77ae\"],[0.3,\"#f1b6da\"],[0.4,\"#fde0ef\"],[0.5,\"#f7f7f7\"],[0.6,\"#e6f5d0\"],[0.7,\"#b8e186\"],[0.8,\"#7fbc41\"],[0.9,\"#4d9221\"],[1,\"#276419\"]],\"sequential\":[[0.0,\"#0d0887\"],[0.1111111111111111,\"#46039f\"],[0.2222222222222222,\"#7201a8\"],[0.3333333333333333,\"#9c179e\"],[0.4444444444444444,\"#bd3786\"],[0.5555555555555556,\"#d8576b\"],[0.6666666666666666,\"#ed7953\"],[0.7777777777777778,\"#fb9f3a\"],[0.8888888888888888,\"#fdca26\"],[1.0,\"#f0f921\"]],\"sequentialminus\":[[0.0,\"#0d0887\"],[0.1111111111111111,\"#46039f\"],[0.2222222222222222,\"#7201a8\"],[0.3333333333333333,\"#9c179e\"],[0.4444444444444444,\"#bd3786\"],[0.5555555555555556,\"#d8576b\"],[0.6666666666666666,\"#ed7953\"],[0.7777777777777778,\"#fb9f3a\"],[0.8888888888888888,\"#fdca26\"],[1.0,\"#f0f921\"]]},\"colorway\":[\"#636efa\",\"#EF553B\",\"#00cc96\",\"#ab63fa\",\"#FFA15A\",\"#19d3f3\",\"#FF6692\",\"#B6E880\",\"#FF97FF\",\"#FECB52\"],\"font\":{\"color\":\"#2a3f5f\"},\"geo\":{\"bgcolor\":\"white\",\"lakecolor\":\"white\",\"landcolor\":\"#E5ECF6\",\"showlakes\":true,\"showland\":true,\"subunitcolor\":\"white\"},\"hoverlabel\":{\"align\":\"left\"},\"hovermode\":\"closest\",\"mapbox\":{\"style\":\"light\"},\"paper_bgcolor\":\"white\",\"plot_bgcolor\":\"#E5ECF6\",\"polar\":{\"angularaxis\":{\"gridcolor\":\"white\",\"linecolor\":\"white\",\"ticks\":\"\"},\"bgcolor\":\"#E5ECF6\",\"radialaxis\":{\"gridcolor\":\"white\",\"linecolor\":\"white\",\"ticks\":\"\"}},\"scene\":{\"xaxis\":{\"backgroundcolor\":\"#E5ECF6\",\"gridcolor\":\"white\",\"gridwidth\":2,\"linecolor\":\"white\",\"showbackground\":true,\"ticks\":\"\",\"zerolinecolor\":\"white\"},\"yaxis\":{\"backgroundcolor\":\"#E5ECF6\",\"gridcolor\":\"white\",\"gridwidth\":2,\"linecolor\":\"white\",\"showbackground\":true,\"ticks\":\"\",\"zerolinecolor\":\"white\"},\"zaxis\":{\"backgroundcolor\":\"#E5ECF6\",\"gridcolor\":\"white\",\"gridwidth\":2,\"linecolor\":\"white\",\"showbackground\":true,\"ticks\":\"\",\"zerolinecolor\":\"white\"}},\"shapedefaults\":{\"line\":{\"color\":\"#2a3f5f\"}},\"ternary\":{\"aaxis\":{\"gridcolor\":\"white\",\"linecolor\":\"white\",\"ticks\":\"\"},\"baxis\":{\"gridcolor\":\"white\",\"linecolor\":\"white\",\"ticks\":\"\"},\"bgcolor\":\"#E5ECF6\",\"caxis\":{\"gridcolor\":\"white\",\"linecolor\":\"white\",\"ticks\":\"\"}},\"title\":{\"x\":0.05},\"xaxis\":{\"automargin\":true,\"gridcolor\":\"white\",\"linecolor\":\"white\",\"ticks\":\"\",\"title\":{\"standoff\":15},\"zerolinecolor\":\"white\",\"zerolinewidth\":2},\"yaxis\":{\"automargin\":true,\"gridcolor\":\"white\",\"linecolor\":\"white\",\"ticks\":\"\",\"title\":{\"standoff\":15},\"zerolinecolor\":\"white\",\"zerolinewidth\":2}}},\"title\":{\"font\":{\"color\":\"black\",\"size\":18},\"text\":\"Population Pyramid of Latin America and the Caribbean (2023)\"},\"width\":600,\"xaxis\":{\"gridcolor\":\"lightgray\",\"tickfont\":{\"size\":12},\"title\":{\"font\":{\"size\":16},\"text\":\"Number of People\"}},\"yaxis\":{\"gridcolor\":\"lightgray\",\"range\":[0,90],\"tickfont\":{\"size\":12},\"title\":{\"font\":{\"size\":16},\"text\":\"Age\"}}},                        {\"responsive\": true}                    ).then(function(){\n",
       "                            \n",
       "var gd = document.getElementById('728803fe-61c7-456d-a10b-68a6b1e50a6e');\n",
       "var x = new MutationObserver(function (mutations, observer) {{\n",
       "        var display = window.getComputedStyle(gd).display;\n",
       "        if (!display || display === 'none') {{\n",
       "            console.log([gd, 'removed!']);\n",
       "            Plotly.purge(gd);\n",
       "            observer.disconnect();\n",
       "        }}\n",
       "}});\n",
       "\n",
       "// Listen for the removal of the full notebook cells\n",
       "var notebookContainer = gd.closest('#notebook-container');\n",
       "if (notebookContainer) {{\n",
       "    x.observe(notebookContainer, {childList: true});\n",
       "}}\n",
       "\n",
       "// Listen for the clearing of the current output cell\n",
       "var outputEl = gd.closest('.output');\n",
       "if (outputEl) {{\n",
       "    x.observe(outputEl, {childList: true});\n",
       "}}\n",
       "\n",
       "                        })                };                });            </script>        </div>"
      ]
     },
     "metadata": {},
     "output_type": "display_data"
    }
   ],
   "source": [
    "# Using Latin America & the Caribbean (TLA)\n",
    "country_choice_2 = \"TLA\"\n",
    "LA_caribbean = wbdata.get_dataframe(categories,country=country_choice_2)\n",
    "\n",
    "# Creating a population pyramid\n",
    "py.init_notebook_mode(connected=True)\n",
    "\n",
    "layout_LA_caribbean = go.Layout(\n",
    "    title=\"Population Pyramid of Latin America and the Caribbean (2023)\",\n",
    "    title_font=dict(size=18, color='black'),\n",
    "    barmode='overlay',\n",
    "    width=600,\n",
    "    height=600,\n",
    "    paper_bgcolor='#f4f4f4',\n",
    "    plot_bgcolor='#ffffff',\n",
    "    font=dict(family=\"Arial, sans-serif\", size=14, color=\"black\"),\n",
    "    xaxis=dict(\n",
    "        title='Number of People',\n",
    "        title_font=dict(size=16),\n",
    "        tickfont=dict(size=12),\n",
    "        gridcolor='lightgray'\n",
    "    ),\n",
    "    yaxis=dict(\n",
    "        range=[0, 90],\n",
    "        title='Age',\n",
    "        title_font=dict(size=16),\n",
    "        tickfont=dict(size=12),\n",
    "        gridcolor='lightgray'\n",
    "    ),\n",
    "    showlegend=True\n",
    ")\n",
    "\n",
    "bins_LA_caribbean = [go.Bar(x = LA_caribbean.loc[str(2023),:].filter(regex=\"Male\").values,\n",
    "               y = [int(s[:2])+1 for s in ages],\n",
    "               orientation='h',\n",
    "               name='Men',\n",
    "               marker=dict(color='green', line=dict(color='black', width=1)),\n",
    "               hoverinfo='skip'\n",
    "               ),\n",
    "\n",
    "        go.Bar(x = -LA_caribbean.loc[str(2023),:].filter(regex=\"Female\").values,\n",
    "               y=[int(s[:2])+1 for s in ages],\n",
    "               orientation='h',\n",
    "               name='Women',\n",
    "               marker=dict(color='orange', line=dict(color='black', width=1)),\n",
    "               hoverinfo='skip',\n",
    "               )\n",
    "        ]\n",
    "\n",
    "py.iplot(dict(data=bins_LA_caribbean, layout=layout_LA_caribbean))"
   ]
  },
  {
   "cell_type": "code",
   "execution_count": 8,
   "id": "2d604868-fa1e-491c-9cc0-11d8fad8b196",
   "metadata": {},
   "outputs": [
    {
     "data": {
      "application/vnd.plotly.v1+json": {
       "config": {
        "plotlyServerURL": "https://plot.ly"
       },
       "data": [
        {
         "hoverinfo": "skip",
         "marker": {
          "color": "blue",
          "line": {
           "color": "black",
           "width": 1
          }
         },
         "name": "CHL - Men",
         "orientation": "h",
         "type": "bar",
         "x": [
          499497,
          610220,
          631358,
          616013,
          690037,
          793927,
          834125,
          773666,
          703612,
          662342,
          631789,
          583889,
          513041,
          426389,
          330819,
          216319,
          253115
         ],
         "xaxis": "x",
         "y": [
          1,
          6,
          11,
          16,
          21,
          26,
          31,
          36,
          41,
          46,
          51,
          56,
          61,
          66,
          71,
          76,
          81
         ],
         "yaxis": "y"
        },
        {
         "hoverinfo": "skip",
         "marker": {
          "color": "pink",
          "line": {
           "color": "black",
           "width": 1
          }
         },
         "name": "CHL - Women",
         "orientation": "h",
         "type": "bar",
         "x": [
          -480317,
          -588597,
          -607569,
          -592471,
          -671864,
          -775831,
          -814411,
          -758933,
          -692781,
          -657851,
          -637002,
          -602749,
          -542995,
          -462029,
          -371355,
          -260530,
          -371391
         ],
         "xaxis": "x",
         "y": [
          1,
          6,
          11,
          16,
          21,
          26,
          31,
          36,
          41,
          46,
          51,
          56,
          61,
          66,
          71,
          76,
          81
         ],
         "yaxis": "y"
        },
        {
         "hoverinfo": "skip",
         "marker": {
          "color": "blue",
          "line": {
           "color": "black",
           "width": 1
          }
         },
         "name": "BRA - Men",
         "orientation": "h",
         "type": "bar",
         "x": [
          6816811,
          7290633,
          7363354,
          7671684,
          8123635,
          8229536,
          8107738,
          8359157,
          8060566,
          7113490,
          6252678,
          5697406,
          4964556,
          3850614,
          2753262,
          1700312,
          1557629
         ],
         "xaxis": "x2",
         "y": [
          1,
          6,
          11,
          16,
          21,
          26,
          31,
          36,
          41,
          46,
          51,
          56,
          61,
          66,
          71,
          76,
          81
         ],
         "yaxis": "y2"
        },
        {
         "hoverinfo": "skip",
         "marker": {
          "color": "pink",
          "line": {
           "color": "black",
           "width": 1
          }
         },
         "name": "BRA - Women",
         "orientation": "h",
         "type": "bar",
         "x": [
          -6544038,
          -7001765,
          -7076314,
          -7395848,
          -7916483,
          -8126560,
          -8098401,
          -8456781,
          -8281868,
          -7420735,
          -6629255,
          -6166153,
          -5523358,
          -4482837,
          -3420327,
          -2256565,
          -2430382
         ],
         "xaxis": "x2",
         "y": [
          1,
          6,
          11,
          16,
          21,
          26,
          31,
          36,
          41,
          46,
          51,
          56,
          61,
          66,
          71,
          76,
          81
         ],
         "yaxis": "y2"
        },
        {
         "hoverinfo": "skip",
         "marker": {
          "color": "blue",
          "line": {
           "color": "black",
           "width": 1
          }
         },
         "name": "ARG - Men",
         "orientation": "h",
         "type": "bar",
         "x": [
          1408989,
          1882511,
          1895989,
          1805165,
          1774537,
          1785580,
          1747637,
          1640079,
          1597110,
          1464950,
          1219398,
          1062536,
          969758,
          820092,
          640804,
          446349,
          435496
         ],
         "xaxis": "x3",
         "y": [
          1,
          6,
          11,
          16,
          21,
          26,
          31,
          36,
          41,
          46,
          51,
          56,
          61,
          66,
          71,
          76,
          81
         ],
         "yaxis": "y3"
        },
        {
         "hoverinfo": "skip",
         "marker": {
          "color": "pink",
          "line": {
           "color": "black",
           "width": 1
          }
         },
         "name": "ARG - Women",
         "orientation": "h",
         "type": "bar",
         "x": [
          -1341640,
          -1785322,
          -1790819,
          -1710682,
          -1698011,
          -1719381,
          -1689393,
          -1595314,
          -1567877,
          -1449036,
          -1243297,
          -1102245,
          -1034084,
          -929671,
          -797329,
          -629105,
          -858214
         ],
         "xaxis": "x3",
         "y": [
          1,
          6,
          11,
          16,
          21,
          26,
          31,
          36,
          41,
          46,
          51,
          56,
          61,
          66,
          71,
          76,
          81
         ],
         "yaxis": "y3"
        },
        {
         "hoverinfo": "skip",
         "marker": {
          "color": "blue",
          "line": {
           "color": "black",
           "width": 1
          }
         },
         "name": "PER - Men",
         "orientation": "h",
         "type": "bar",
         "x": [
          1370861,
          1384482,
          1440423,
          1463356,
          1392057,
          1362066,
          1335400,
          1250657,
          1117326,
          1029494,
          912515,
          753959,
          614388,
          490671,
          376644,
          259113,
          282030
         ],
         "xaxis": "x4",
         "y": [
          1,
          6,
          11,
          16,
          21,
          26,
          31,
          36,
          41,
          46,
          51,
          56,
          61,
          66,
          71,
          76,
          81
         ],
         "yaxis": "y4"
        },
        {
         "hoverinfo": "skip",
         "marker": {
          "color": "pink",
          "line": {
           "color": "black",
           "width": 1
          }
         },
         "name": "PER - Women",
         "orientation": "h",
         "type": "bar",
         "x": [
          -1321007,
          -1336033,
          -1391364,
          -1424581,
          -1385686,
          -1401972,
          -1382513,
          -1279020,
          -1133262,
          -1025446,
          -900239,
          -754001,
          -639918,
          -529570,
          -423974,
          -301647,
          -379940
         ],
         "xaxis": "x4",
         "y": [
          1,
          6,
          11,
          16,
          21,
          26,
          31,
          36,
          41,
          46,
          51,
          56,
          61,
          66,
          71,
          76,
          81
         ],
         "yaxis": "y4"
        }
       ],
       "layout": {
        "annotations": [
         {
          "font": {
           "size": 16
          },
          "showarrow": false,
          "text": "Chile",
          "x": 0.225,
          "xanchor": "center",
          "xref": "paper",
          "y": 1,
          "yanchor": "bottom",
          "yref": "paper"
         },
         {
          "font": {
           "size": 16
          },
          "showarrow": false,
          "text": "Brazil",
          "x": 0.775,
          "xanchor": "center",
          "xref": "paper",
          "y": 1,
          "yanchor": "bottom",
          "yref": "paper"
         },
         {
          "font": {
           "size": 16
          },
          "showarrow": false,
          "text": "Argentina",
          "x": 0.225,
          "xanchor": "center",
          "xref": "paper",
          "y": 0.375,
          "yanchor": "bottom",
          "yref": "paper"
         },
         {
          "font": {
           "size": 16
          },
          "showarrow": false,
          "text": "Peru",
          "x": 0.775,
          "xanchor": "center",
          "xref": "paper",
          "y": 0.375,
          "yanchor": "bottom",
          "yref": "paper"
         }
        ],
        "barmode": "overlay",
        "font": {
         "color": "black",
         "family": "Arial, sans-serif",
         "size": 14
        },
        "height": 1000,
        "paper_bgcolor": "#f4f4f4",
        "plot_bgcolor": "#ffffff",
        "showlegend": true,
        "template": {
         "data": {
          "bar": [
           {
            "error_x": {
             "color": "#2a3f5f"
            },
            "error_y": {
             "color": "#2a3f5f"
            },
            "marker": {
             "line": {
              "color": "#E5ECF6",
              "width": 0.5
             },
             "pattern": {
              "fillmode": "overlay",
              "size": 10,
              "solidity": 0.2
             }
            },
            "type": "bar"
           }
          ],
          "barpolar": [
           {
            "marker": {
             "line": {
              "color": "#E5ECF6",
              "width": 0.5
             },
             "pattern": {
              "fillmode": "overlay",
              "size": 10,
              "solidity": 0.2
             }
            },
            "type": "barpolar"
           }
          ],
          "carpet": [
           {
            "aaxis": {
             "endlinecolor": "#2a3f5f",
             "gridcolor": "white",
             "linecolor": "white",
             "minorgridcolor": "white",
             "startlinecolor": "#2a3f5f"
            },
            "baxis": {
             "endlinecolor": "#2a3f5f",
             "gridcolor": "white",
             "linecolor": "white",
             "minorgridcolor": "white",
             "startlinecolor": "#2a3f5f"
            },
            "type": "carpet"
           }
          ],
          "choropleth": [
           {
            "colorbar": {
             "outlinewidth": 0,
             "ticks": ""
            },
            "type": "choropleth"
           }
          ],
          "contour": [
           {
            "colorbar": {
             "outlinewidth": 0,
             "ticks": ""
            },
            "colorscale": [
             [
              0,
              "#0d0887"
             ],
             [
              0.1111111111111111,
              "#46039f"
             ],
             [
              0.2222222222222222,
              "#7201a8"
             ],
             [
              0.3333333333333333,
              "#9c179e"
             ],
             [
              0.4444444444444444,
              "#bd3786"
             ],
             [
              0.5555555555555556,
              "#d8576b"
             ],
             [
              0.6666666666666666,
              "#ed7953"
             ],
             [
              0.7777777777777778,
              "#fb9f3a"
             ],
             [
              0.8888888888888888,
              "#fdca26"
             ],
             [
              1,
              "#f0f921"
             ]
            ],
            "type": "contour"
           }
          ],
          "contourcarpet": [
           {
            "colorbar": {
             "outlinewidth": 0,
             "ticks": ""
            },
            "type": "contourcarpet"
           }
          ],
          "heatmap": [
           {
            "colorbar": {
             "outlinewidth": 0,
             "ticks": ""
            },
            "colorscale": [
             [
              0,
              "#0d0887"
             ],
             [
              0.1111111111111111,
              "#46039f"
             ],
             [
              0.2222222222222222,
              "#7201a8"
             ],
             [
              0.3333333333333333,
              "#9c179e"
             ],
             [
              0.4444444444444444,
              "#bd3786"
             ],
             [
              0.5555555555555556,
              "#d8576b"
             ],
             [
              0.6666666666666666,
              "#ed7953"
             ],
             [
              0.7777777777777778,
              "#fb9f3a"
             ],
             [
              0.8888888888888888,
              "#fdca26"
             ],
             [
              1,
              "#f0f921"
             ]
            ],
            "type": "heatmap"
           }
          ],
          "heatmapgl": [
           {
            "colorbar": {
             "outlinewidth": 0,
             "ticks": ""
            },
            "colorscale": [
             [
              0,
              "#0d0887"
             ],
             [
              0.1111111111111111,
              "#46039f"
             ],
             [
              0.2222222222222222,
              "#7201a8"
             ],
             [
              0.3333333333333333,
              "#9c179e"
             ],
             [
              0.4444444444444444,
              "#bd3786"
             ],
             [
              0.5555555555555556,
              "#d8576b"
             ],
             [
              0.6666666666666666,
              "#ed7953"
             ],
             [
              0.7777777777777778,
              "#fb9f3a"
             ],
             [
              0.8888888888888888,
              "#fdca26"
             ],
             [
              1,
              "#f0f921"
             ]
            ],
            "type": "heatmapgl"
           }
          ],
          "histogram": [
           {
            "marker": {
             "pattern": {
              "fillmode": "overlay",
              "size": 10,
              "solidity": 0.2
             }
            },
            "type": "histogram"
           }
          ],
          "histogram2d": [
           {
            "colorbar": {
             "outlinewidth": 0,
             "ticks": ""
            },
            "colorscale": [
             [
              0,
              "#0d0887"
             ],
             [
              0.1111111111111111,
              "#46039f"
             ],
             [
              0.2222222222222222,
              "#7201a8"
             ],
             [
              0.3333333333333333,
              "#9c179e"
             ],
             [
              0.4444444444444444,
              "#bd3786"
             ],
             [
              0.5555555555555556,
              "#d8576b"
             ],
             [
              0.6666666666666666,
              "#ed7953"
             ],
             [
              0.7777777777777778,
              "#fb9f3a"
             ],
             [
              0.8888888888888888,
              "#fdca26"
             ],
             [
              1,
              "#f0f921"
             ]
            ],
            "type": "histogram2d"
           }
          ],
          "histogram2dcontour": [
           {
            "colorbar": {
             "outlinewidth": 0,
             "ticks": ""
            },
            "colorscale": [
             [
              0,
              "#0d0887"
             ],
             [
              0.1111111111111111,
              "#46039f"
             ],
             [
              0.2222222222222222,
              "#7201a8"
             ],
             [
              0.3333333333333333,
              "#9c179e"
             ],
             [
              0.4444444444444444,
              "#bd3786"
             ],
             [
              0.5555555555555556,
              "#d8576b"
             ],
             [
              0.6666666666666666,
              "#ed7953"
             ],
             [
              0.7777777777777778,
              "#fb9f3a"
             ],
             [
              0.8888888888888888,
              "#fdca26"
             ],
             [
              1,
              "#f0f921"
             ]
            ],
            "type": "histogram2dcontour"
           }
          ],
          "mesh3d": [
           {
            "colorbar": {
             "outlinewidth": 0,
             "ticks": ""
            },
            "type": "mesh3d"
           }
          ],
          "parcoords": [
           {
            "line": {
             "colorbar": {
              "outlinewidth": 0,
              "ticks": ""
             }
            },
            "type": "parcoords"
           }
          ],
          "pie": [
           {
            "automargin": true,
            "type": "pie"
           }
          ],
          "scatter": [
           {
            "fillpattern": {
             "fillmode": "overlay",
             "size": 10,
             "solidity": 0.2
            },
            "type": "scatter"
           }
          ],
          "scatter3d": [
           {
            "line": {
             "colorbar": {
              "outlinewidth": 0,
              "ticks": ""
             }
            },
            "marker": {
             "colorbar": {
              "outlinewidth": 0,
              "ticks": ""
             }
            },
            "type": "scatter3d"
           }
          ],
          "scattercarpet": [
           {
            "marker": {
             "colorbar": {
              "outlinewidth": 0,
              "ticks": ""
             }
            },
            "type": "scattercarpet"
           }
          ],
          "scattergeo": [
           {
            "marker": {
             "colorbar": {
              "outlinewidth": 0,
              "ticks": ""
             }
            },
            "type": "scattergeo"
           }
          ],
          "scattergl": [
           {
            "marker": {
             "colorbar": {
              "outlinewidth": 0,
              "ticks": ""
             }
            },
            "type": "scattergl"
           }
          ],
          "scattermapbox": [
           {
            "marker": {
             "colorbar": {
              "outlinewidth": 0,
              "ticks": ""
             }
            },
            "type": "scattermapbox"
           }
          ],
          "scatterpolar": [
           {
            "marker": {
             "colorbar": {
              "outlinewidth": 0,
              "ticks": ""
             }
            },
            "type": "scatterpolar"
           }
          ],
          "scatterpolargl": [
           {
            "marker": {
             "colorbar": {
              "outlinewidth": 0,
              "ticks": ""
             }
            },
            "type": "scatterpolargl"
           }
          ],
          "scatterternary": [
           {
            "marker": {
             "colorbar": {
              "outlinewidth": 0,
              "ticks": ""
             }
            },
            "type": "scatterternary"
           }
          ],
          "surface": [
           {
            "colorbar": {
             "outlinewidth": 0,
             "ticks": ""
            },
            "colorscale": [
             [
              0,
              "#0d0887"
             ],
             [
              0.1111111111111111,
              "#46039f"
             ],
             [
              0.2222222222222222,
              "#7201a8"
             ],
             [
              0.3333333333333333,
              "#9c179e"
             ],
             [
              0.4444444444444444,
              "#bd3786"
             ],
             [
              0.5555555555555556,
              "#d8576b"
             ],
             [
              0.6666666666666666,
              "#ed7953"
             ],
             [
              0.7777777777777778,
              "#fb9f3a"
             ],
             [
              0.8888888888888888,
              "#fdca26"
             ],
             [
              1,
              "#f0f921"
             ]
            ],
            "type": "surface"
           }
          ],
          "table": [
           {
            "cells": {
             "fill": {
              "color": "#EBF0F8"
             },
             "line": {
              "color": "white"
             }
            },
            "header": {
             "fill": {
              "color": "#C8D4E3"
             },
             "line": {
              "color": "white"
             }
            },
            "type": "table"
           }
          ]
         },
         "layout": {
          "annotationdefaults": {
           "arrowcolor": "#2a3f5f",
           "arrowhead": 0,
           "arrowwidth": 1
          },
          "autotypenumbers": "strict",
          "coloraxis": {
           "colorbar": {
            "outlinewidth": 0,
            "ticks": ""
           }
          },
          "colorscale": {
           "diverging": [
            [
             0,
             "#8e0152"
            ],
            [
             0.1,
             "#c51b7d"
            ],
            [
             0.2,
             "#de77ae"
            ],
            [
             0.3,
             "#f1b6da"
            ],
            [
             0.4,
             "#fde0ef"
            ],
            [
             0.5,
             "#f7f7f7"
            ],
            [
             0.6,
             "#e6f5d0"
            ],
            [
             0.7,
             "#b8e186"
            ],
            [
             0.8,
             "#7fbc41"
            ],
            [
             0.9,
             "#4d9221"
            ],
            [
             1,
             "#276419"
            ]
           ],
           "sequential": [
            [
             0,
             "#0d0887"
            ],
            [
             0.1111111111111111,
             "#46039f"
            ],
            [
             0.2222222222222222,
             "#7201a8"
            ],
            [
             0.3333333333333333,
             "#9c179e"
            ],
            [
             0.4444444444444444,
             "#bd3786"
            ],
            [
             0.5555555555555556,
             "#d8576b"
            ],
            [
             0.6666666666666666,
             "#ed7953"
            ],
            [
             0.7777777777777778,
             "#fb9f3a"
            ],
            [
             0.8888888888888888,
             "#fdca26"
            ],
            [
             1,
             "#f0f921"
            ]
           ],
           "sequentialminus": [
            [
             0,
             "#0d0887"
            ],
            [
             0.1111111111111111,
             "#46039f"
            ],
            [
             0.2222222222222222,
             "#7201a8"
            ],
            [
             0.3333333333333333,
             "#9c179e"
            ],
            [
             0.4444444444444444,
             "#bd3786"
            ],
            [
             0.5555555555555556,
             "#d8576b"
            ],
            [
             0.6666666666666666,
             "#ed7953"
            ],
            [
             0.7777777777777778,
             "#fb9f3a"
            ],
            [
             0.8888888888888888,
             "#fdca26"
            ],
            [
             1,
             "#f0f921"
            ]
           ]
          },
          "colorway": [
           "#636efa",
           "#EF553B",
           "#00cc96",
           "#ab63fa",
           "#FFA15A",
           "#19d3f3",
           "#FF6692",
           "#B6E880",
           "#FF97FF",
           "#FECB52"
          ],
          "font": {
           "color": "#2a3f5f"
          },
          "geo": {
           "bgcolor": "white",
           "lakecolor": "white",
           "landcolor": "#E5ECF6",
           "showlakes": true,
           "showland": true,
           "subunitcolor": "white"
          },
          "hoverlabel": {
           "align": "left"
          },
          "hovermode": "closest",
          "mapbox": {
           "style": "light"
          },
          "paper_bgcolor": "white",
          "plot_bgcolor": "#E5ECF6",
          "polar": {
           "angularaxis": {
            "gridcolor": "white",
            "linecolor": "white",
            "ticks": ""
           },
           "bgcolor": "#E5ECF6",
           "radialaxis": {
            "gridcolor": "white",
            "linecolor": "white",
            "ticks": ""
           }
          },
          "scene": {
           "xaxis": {
            "backgroundcolor": "#E5ECF6",
            "gridcolor": "white",
            "gridwidth": 2,
            "linecolor": "white",
            "showbackground": true,
            "ticks": "",
            "zerolinecolor": "white"
           },
           "yaxis": {
            "backgroundcolor": "#E5ECF6",
            "gridcolor": "white",
            "gridwidth": 2,
            "linecolor": "white",
            "showbackground": true,
            "ticks": "",
            "zerolinecolor": "white"
           },
           "zaxis": {
            "backgroundcolor": "#E5ECF6",
            "gridcolor": "white",
            "gridwidth": 2,
            "linecolor": "white",
            "showbackground": true,
            "ticks": "",
            "zerolinecolor": "white"
           }
          },
          "shapedefaults": {
           "line": {
            "color": "#2a3f5f"
           }
          },
          "ternary": {
           "aaxis": {
            "gridcolor": "white",
            "linecolor": "white",
            "ticks": ""
           },
           "baxis": {
            "gridcolor": "white",
            "linecolor": "white",
            "ticks": ""
           },
           "bgcolor": "#E5ECF6",
           "caxis": {
            "gridcolor": "white",
            "linecolor": "white",
            "ticks": ""
           }
          },
          "title": {
           "x": 0.05
          },
          "xaxis": {
           "automargin": true,
           "gridcolor": "white",
           "linecolor": "white",
           "ticks": "",
           "title": {
            "standoff": 15
           },
           "zerolinecolor": "white",
           "zerolinewidth": 2
          },
          "yaxis": {
           "automargin": true,
           "gridcolor": "white",
           "linecolor": "white",
           "ticks": "",
           "title": {
            "standoff": 15
           },
           "zerolinecolor": "white",
           "zerolinewidth": 2
          }
         }
        },
        "title": {
         "font": {
          "color": "black",
          "size": 18
         },
         "text": "Population Pyramids of Selected Latin American Countries (2023)"
        },
        "width": 1200,
        "xaxis": {
         "anchor": "y",
         "domain": [
          0,
          0.45
         ],
         "title": {
          "text": "Number of People"
         }
        },
        "xaxis2": {
         "anchor": "y2",
         "domain": [
          0.55,
          1
         ],
         "title": {
          "text": "Number of People"
         }
        },
        "xaxis3": {
         "anchor": "y3",
         "domain": [
          0,
          0.45
         ],
         "title": {
          "text": "Number of People"
         }
        },
        "xaxis4": {
         "anchor": "y4",
         "domain": [
          0.55,
          1
         ],
         "title": {
          "text": "Number of People"
         }
        },
        "yaxis": {
         "anchor": "x",
         "domain": [
          0.625,
          1
         ],
         "title": {
          "text": "Age Groups"
         }
        },
        "yaxis2": {
         "anchor": "x2",
         "domain": [
          0.625,
          1
         ],
         "title": {
          "text": "Age Groups"
         }
        },
        "yaxis3": {
         "anchor": "x3",
         "domain": [
          0,
          0.375
         ],
         "title": {
          "text": "Age Groups"
         }
        },
        "yaxis4": {
         "anchor": "x4",
         "domain": [
          0,
          0.375
         ],
         "title": {
          "text": "Age Groups"
         }
        }
       }
      },
      "image/png": "[encoded data removed]",
      "text/html": [
       "<div>                            <div id=\"d982e00d-04e4-44ee-9012-30acbfbf100e\" class=\"plotly-graph-div\" style=\"height:1000px; width:1200px;\"></div>            <script type=\"text/javascript\">                require([\"plotly\"], function(Plotly) {                    window.PLOTLYENV=window.PLOTLYENV || {};                                    if (document.getElementById(\"d982e00d-04e4-44ee-9012-30acbfbf100e\")) {                    Plotly.newPlot(                        \"d982e00d-04e4-44ee-9012-30acbfbf100e\",                        [{\"hoverinfo\":\"skip\",\"marker\":{\"color\":\"blue\",\"line\":{\"color\":\"black\",\"width\":1}},\"name\":\"CHL - Men\",\"orientation\":\"h\",\"x\":[499497.0,610220.0,631358.0,616013.0,690037.0,793927.0,834125.0,773666.0,703612.0,662342.0,631789.0,583889.0,513041.0,426389.0,330819.0,216319.0,253115.0],\"y\":[1,6,11,16,21,26,31,36,41,46,51,56,61,66,71,76,81],\"type\":\"bar\",\"xaxis\":\"x\",\"yaxis\":\"y\"},{\"hoverinfo\":\"skip\",\"marker\":{\"color\":\"pink\",\"line\":{\"color\":\"black\",\"width\":1}},\"name\":\"CHL - Women\",\"orientation\":\"h\",\"x\":[-480317.0,-588597.0,-607569.0,-592471.0,-671864.0,-775831.0,-814411.0,-758933.0,-692781.0,-657851.0,-637002.0,-602749.0,-542995.0,-462029.0,-371355.0,-260530.0,-371391.0],\"y\":[1,6,11,16,21,26,31,36,41,46,51,56,61,66,71,76,81],\"type\":\"bar\",\"xaxis\":\"x\",\"yaxis\":\"y\"},{\"hoverinfo\":\"skip\",\"marker\":{\"color\":\"blue\",\"line\":{\"color\":\"black\",\"width\":1}},\"name\":\"BRA - Men\",\"orientation\":\"h\",\"x\":[6816811.0,7290633.0,7363354.0,7671684.0,8123635.0,8229536.0,8107738.0,8359157.0,8060566.0,7113490.0,6252678.0,5697406.0,4964556.0,3850614.0,2753262.0,1700312.0,1557629.0],\"y\":[1,6,11,16,21,26,31,36,41,46,51,56,61,66,71,76,81],\"type\":\"bar\",\"xaxis\":\"x2\",\"yaxis\":\"y2\"},{\"hoverinfo\":\"skip\",\"marker\":{\"color\":\"pink\",\"line\":{\"color\":\"black\",\"width\":1}},\"name\":\"BRA - Women\",\"orientation\":\"h\",\"x\":[-6544038.0,-7001765.0,-7076314.0,-7395848.0,-7916483.0,-8126560.0,-8098401.0,-8456781.0,-8281868.0,-7420735.0,-6629255.0,-6166153.0,-5523358.0,-4482837.0,-3420327.0,-2256565.0,-2430382.0],\"y\":[1,6,11,16,21,26,31,36,41,46,51,56,61,66,71,76,81],\"type\":\"bar\",\"xaxis\":\"x2\",\"yaxis\":\"y2\"},{\"hoverinfo\":\"skip\",\"marker\":{\"color\":\"blue\",\"line\":{\"color\":\"black\",\"width\":1}},\"name\":\"ARG - Men\",\"orientation\":\"h\",\"x\":[1408989.0,1882511.0,1895989.0,1805165.0,1774537.0,1785580.0,1747637.0,1640079.0,1597110.0,1464950.0,1219398.0,1062536.0,969758.0,820092.0,640804.0,446349.0,435496.0],\"y\":[1,6,11,16,21,26,31,36,41,46,51,56,61,66,71,76,81],\"type\":\"bar\",\"xaxis\":\"x3\",\"yaxis\":\"y3\"},{\"hoverinfo\":\"skip\",\"marker\":{\"color\":\"pink\",\"line\":{\"color\":\"black\",\"width\":1}},\"name\":\"ARG - Women\",\"orientation\":\"h\",\"x\":[-1341640.0,-1785322.0,-1790819.0,-1710682.0,-1698011.0,-1719381.0,-1689393.0,-1595314.0,-1567877.0,-1449036.0,-1243297.0,-1102245.0,-1034084.0,-929671.0,-797329.0,-629105.0,-858214.0],\"y\":[1,6,11,16,21,26,31,36,41,46,51,56,61,66,71,76,81],\"type\":\"bar\",\"xaxis\":\"x3\",\"yaxis\":\"y3\"},{\"hoverinfo\":\"skip\",\"marker\":{\"color\":\"blue\",\"line\":{\"color\":\"black\",\"width\":1}},\"name\":\"PER - Men\",\"orientation\":\"h\",\"x\":[1370861.0,1384482.0,1440423.0,1463356.0,1392057.0,1362066.0,1335400.0,1250657.0,1117326.0,1029494.0,912515.0,753959.0,614388.0,490671.0,376644.0,259113.0,282030.0],\"y\":[1,6,11,16,21,26,31,36,41,46,51,56,61,66,71,76,81],\"type\":\"bar\",\"xaxis\":\"x4\",\"yaxis\":\"y4\"},{\"hoverinfo\":\"skip\",\"marker\":{\"color\":\"pink\",\"line\":{\"color\":\"black\",\"width\":1}},\"name\":\"PER - Women\",\"orientation\":\"h\",\"x\":[-1321007.0,-1336033.0,-1391364.0,-1424581.0,-1385686.0,-1401972.0,-1382513.0,-1279020.0,-1133262.0,-1025446.0,-900239.0,-754001.0,-639918.0,-529570.0,-423974.0,-301647.0,-379940.0],\"y\":[1,6,11,16,21,26,31,36,41,46,51,56,61,66,71,76,81],\"type\":\"bar\",\"xaxis\":\"x4\",\"yaxis\":\"y4\"}],                        {\"template\":{\"data\":{\"histogram2dcontour\":[{\"type\":\"histogram2dcontour\",\"colorbar\":{\"outlinewidth\":0,\"ticks\":\"\"},\"colorscale\":[[0.0,\"#0d0887\"],[0.1111111111111111,\"#46039f\"],[0.2222222222222222,\"#7201a8\"],[0.3333333333333333,\"#9c179e\"],[0.4444444444444444,\"#bd3786\"],[0.5555555555555556,\"#d8576b\"],[0.6666666666666666,\"#ed7953\"],[0.7777777777777778,\"#fb9f3a\"],[0.8888888888888888,\"#fdca26\"],[1.0,\"#f0f921\"]]}],\"choropleth\":[{\"type\":\"choropleth\",\"colorbar\":{\"outlinewidth\":0,\"ticks\":\"\"}}],\"histogram2d\":[{\"type\":\"histogram2d\",\"colorbar\":{\"outlinewidth\":0,\"ticks\":\"\"},\"colorscale\":[[0.0,\"#0d0887\"],[0.1111111111111111,\"#46039f\"],[0.2222222222222222,\"#7201a8\"],[0.3333333333333333,\"#9c179e\"],[0.4444444444444444,\"#bd3786\"],[0.5555555555555556,\"#d8576b\"],[0.6666666666666666,\"#ed7953\"],[0.7777777777777778,\"#fb9f3a\"],[0.8888888888888888,\"#fdca26\"],[1.0,\"#f0f921\"]]}],\"heatmap\":[{\"type\":\"heatmap\",\"colorbar\":{\"outlinewidth\":0,\"ticks\":\"\"},\"colorscale\":[[0.0,\"#0d0887\"],[0.1111111111111111,\"#46039f\"],[0.2222222222222222,\"#7201a8\"],[0.3333333333333333,\"#9c179e\"],[0.4444444444444444,\"#bd3786\"],[0.5555555555555556,\"#d8576b\"],[0.6666666666666666,\"#ed7953\"],[0.7777777777777778,\"#fb9f3a\"],[0.8888888888888888,\"#fdca26\"],[1.0,\"#f0f921\"]]}],\"heatmapgl\":[{\"type\":\"heatmapgl\",\"colorbar\":{\"outlinewidth\":0,\"ticks\":\"\"},\"colorscale\":[[0.0,\"#0d0887\"],[0.1111111111111111,\"#46039f\"],[0.2222222222222222,\"#7201a8\"],[0.3333333333333333,\"#9c179e\"],[0.4444444444444444,\"#bd3786\"],[0.5555555555555556,\"#d8576b\"],[0.6666666666666666,\"#ed7953\"],[0.7777777777777778,\"#fb9f3a\"],[0.8888888888888888,\"#fdca26\"],[1.0,\"#f0f921\"]]}],\"contourcarpet\":[{\"type\":\"contourcarpet\",\"colorbar\":{\"outlinewidth\":0,\"ticks\":\"\"}}],\"contour\":[{\"type\":\"contour\",\"colorbar\":{\"outlinewidth\":0,\"ticks\":\"\"},\"colorscale\":[[0.0,\"#0d0887\"],[0.1111111111111111,\"#46039f\"],[0.2222222222222222,\"#7201a8\"],[0.3333333333333333,\"#9c179e\"],[0.4444444444444444,\"#bd3786\"],[0.5555555555555556,\"#d8576b\"],[0.6666666666666666,\"#ed7953\"],[0.7777777777777778,\"#fb9f3a\"],[0.8888888888888888,\"#fdca26\"],[1.0,\"#f0f921\"]]}],\"surface\":[{\"type\":\"surface\",\"colorbar\":{\"outlinewidth\":0,\"ticks\":\"\"},\"colorscale\":[[0.0,\"#0d0887\"],[0.1111111111111111,\"#46039f\"],[0.2222222222222222,\"#7201a8\"],[0.3333333333333333,\"#9c179e\"],[0.4444444444444444,\"#bd3786\"],[0.5555555555555556,\"#d8576b\"],[0.6666666666666666,\"#ed7953\"],[0.7777777777777778,\"#fb9f3a\"],[0.8888888888888888,\"#fdca26\"],[1.0,\"#f0f921\"]]}],\"mesh3d\":[{\"type\":\"mesh3d\",\"colorbar\":{\"outlinewidth\":0,\"ticks\":\"\"}}],\"scatter\":[{\"fillpattern\":{\"fillmode\":\"overlay\",\"size\":10,\"solidity\":0.2},\"type\":\"scatter\"}],\"parcoords\":[{\"type\":\"parcoords\",\"line\":{\"colorbar\":{\"outlinewidth\":0,\"ticks\":\"\"}}}],\"scatterpolargl\":[{\"type\":\"scatterpolargl\",\"marker\":{\"colorbar\":{\"outlinewidth\":0,\"ticks\":\"\"}}}],\"bar\":[{\"error_x\":{\"color\":\"#2a3f5f\"},\"error_y\":{\"color\":\"#2a3f5f\"},\"marker\":{\"line\":{\"color\":\"#E5ECF6\",\"width\":0.5},\"pattern\":{\"fillmode\":\"overlay\",\"size\":10,\"solidity\":0.2}},\"type\":\"bar\"}],\"scattergeo\":[{\"type\":\"scattergeo\",\"marker\":{\"colorbar\":{\"outlinewidth\":0,\"ticks\":\"\"}}}],\"scatterpolar\":[{\"type\":\"scatterpolar\",\"marker\":{\"colorbar\":{\"outlinewidth\":0,\"ticks\":\"\"}}}],\"histogram\":[{\"marker\":{\"pattern\":{\"fillmode\":\"overlay\",\"size\":10,\"solidity\":0.2}},\"type\":\"histogram\"}],\"scattergl\":[{\"type\":\"scattergl\",\"marker\":{\"colorbar\":{\"outlinewidth\":0,\"ticks\":\"\"}}}],\"scatter3d\":[{\"type\":\"scatter3d\",\"line\":{\"colorbar\":{\"outlinewidth\":0,\"ticks\":\"\"}},\"marker\":{\"colorbar\":{\"outlinewidth\":0,\"ticks\":\"\"}}}],\"scattermapbox\":[{\"type\":\"scattermapbox\",\"marker\":{\"colorbar\":{\"outlinewidth\":0,\"ticks\":\"\"}}}],\"scatterternary\":[{\"type\":\"scatterternary\",\"marker\":{\"colorbar\":{\"outlinewidth\":0,\"ticks\":\"\"}}}],\"scattercarpet\":[{\"type\":\"scattercarpet\",\"marker\":{\"colorbar\":{\"outlinewidth\":0,\"ticks\":\"\"}}}],\"carpet\":[{\"aaxis\":{\"endlinecolor\":\"#2a3f5f\",\"gridcolor\":\"white\",\"linecolor\":\"white\",\"minorgridcolor\":\"white\",\"startlinecolor\":\"#2a3f5f\"},\"baxis\":{\"endlinecolor\":\"#2a3f5f\",\"gridcolor\":\"white\",\"linecolor\":\"white\",\"minorgridcolor\":\"white\",\"startlinecolor\":\"#2a3f5f\"},\"type\":\"carpet\"}],\"table\":[{\"cells\":{\"fill\":{\"color\":\"#EBF0F8\"},\"line\":{\"color\":\"white\"}},\"header\":{\"fill\":{\"color\":\"#C8D4E3\"},\"line\":{\"color\":\"white\"}},\"type\":\"table\"}],\"barpolar\":[{\"marker\":{\"line\":{\"color\":\"#E5ECF6\",\"width\":0.5},\"pattern\":{\"fillmode\":\"overlay\",\"size\":10,\"solidity\":0.2}},\"type\":\"barpolar\"}],\"pie\":[{\"automargin\":true,\"type\":\"pie\"}]},\"layout\":{\"autotypenumbers\":\"strict\",\"colorway\":[\"#636efa\",\"#EF553B\",\"#00cc96\",\"#ab63fa\",\"#FFA15A\",\"#19d3f3\",\"#FF6692\",\"#B6E880\",\"#FF97FF\",\"#FECB52\"],\"font\":{\"color\":\"#2a3f5f\"},\"hovermode\":\"closest\",\"hoverlabel\":{\"align\":\"left\"},\"paper_bgcolor\":\"white\",\"plot_bgcolor\":\"#E5ECF6\",\"polar\":{\"bgcolor\":\"#E5ECF6\",\"angularaxis\":{\"gridcolor\":\"white\",\"linecolor\":\"white\",\"ticks\":\"\"},\"radialaxis\":{\"gridcolor\":\"white\",\"linecolor\":\"white\",\"ticks\":\"\"}},\"ternary\":{\"bgcolor\":\"#E5ECF6\",\"aaxis\":{\"gridcolor\":\"white\",\"linecolor\":\"white\",\"ticks\":\"\"},\"baxis\":{\"gridcolor\":\"white\",\"linecolor\":\"white\",\"ticks\":\"\"},\"caxis\":{\"gridcolor\":\"white\",\"linecolor\":\"white\",\"ticks\":\"\"}},\"coloraxis\":{\"colorbar\":{\"outlinewidth\":0,\"ticks\":\"\"}},\"colorscale\":{\"sequential\":[[0.0,\"#0d0887\"],[0.1111111111111111,\"#46039f\"],[0.2222222222222222,\"#7201a8\"],[0.3333333333333333,\"#9c179e\"],[0.4444444444444444,\"#bd3786\"],[0.5555555555555556,\"#d8576b\"],[0.6666666666666666,\"#ed7953\"],[0.7777777777777778,\"#fb9f3a\"],[0.8888888888888888,\"#fdca26\"],[1.0,\"#f0f921\"]],\"sequentialminus\":[[0.0,\"#0d0887\"],[0.1111111111111111,\"#46039f\"],[0.2222222222222222,\"#7201a8\"],[0.3333333333333333,\"#9c179e\"],[0.4444444444444444,\"#bd3786\"],[0.5555555555555556,\"#d8576b\"],[0.6666666666666666,\"#ed7953\"],[0.7777777777777778,\"#fb9f3a\"],[0.8888888888888888,\"#fdca26\"],[1.0,\"#f0f921\"]],\"diverging\":[[0,\"#8e0152\"],[0.1,\"#c51b7d\"],[0.2,\"#de77ae\"],[0.3,\"#f1b6da\"],[0.4,\"#fde0ef\"],[0.5,\"#f7f7f7\"],[0.6,\"#e6f5d0\"],[0.7,\"#b8e186\"],[0.8,\"#7fbc41\"],[0.9,\"#4d9221\"],[1,\"#276419\"]]},\"xaxis\":{\"gridcolor\":\"white\",\"linecolor\":\"white\",\"ticks\":\"\",\"title\":{\"standoff\":15},\"zerolinecolor\":\"white\",\"automargin\":true,\"zerolinewidth\":2},\"yaxis\":{\"gridcolor\":\"white\",\"linecolor\":\"white\",\"ticks\":\"\",\"title\":{\"standoff\":15},\"zerolinecolor\":\"white\",\"automargin\":true,\"zerolinewidth\":2},\"scene\":{\"xaxis\":{\"backgroundcolor\":\"#E5ECF6\",\"gridcolor\":\"white\",\"linecolor\":\"white\",\"showbackground\":true,\"ticks\":\"\",\"zerolinecolor\":\"white\",\"gridwidth\":2},\"yaxis\":{\"backgroundcolor\":\"#E5ECF6\",\"gridcolor\":\"white\",\"linecolor\":\"white\",\"showbackground\":true,\"ticks\":\"\",\"zerolinecolor\":\"white\",\"gridwidth\":2},\"zaxis\":{\"backgroundcolor\":\"#E5ECF6\",\"gridcolor\":\"white\",\"linecolor\":\"white\",\"showbackground\":true,\"ticks\":\"\",\"zerolinecolor\":\"white\",\"gridwidth\":2}},\"shapedefaults\":{\"line\":{\"color\":\"#2a3f5f\"}},\"annotationdefaults\":{\"arrowcolor\":\"#2a3f5f\",\"arrowhead\":0,\"arrowwidth\":1},\"geo\":{\"bgcolor\":\"white\",\"landcolor\":\"#E5ECF6\",\"subunitcolor\":\"white\",\"showland\":true,\"showlakes\":true,\"lakecolor\":\"white\"},\"title\":{\"x\":0.05},\"mapbox\":{\"style\":\"light\"}}},\"xaxis\":{\"anchor\":\"y\",\"domain\":[0.0,0.45],\"title\":{\"text\":\"Number of People\"}},\"yaxis\":{\"anchor\":\"x\",\"domain\":[0.625,1.0],\"title\":{\"text\":\"Age Groups\"}},\"xaxis2\":{\"anchor\":\"y2\",\"domain\":[0.55,1.0],\"title\":{\"text\":\"Number of People\"}},\"yaxis2\":{\"anchor\":\"x2\",\"domain\":[0.625,1.0],\"title\":{\"text\":\"Age Groups\"}},\"xaxis3\":{\"anchor\":\"y3\",\"domain\":[0.0,0.45],\"title\":{\"text\":\"Number of People\"}},\"yaxis3\":{\"anchor\":\"x3\",\"domain\":[0.0,0.375],\"title\":{\"text\":\"Age Groups\"}},\"xaxis4\":{\"anchor\":\"y4\",\"domain\":[0.55,1.0],\"title\":{\"text\":\"Number of People\"}},\"yaxis4\":{\"anchor\":\"x4\",\"domain\":[0.0,0.375],\"title\":{\"text\":\"Age Groups\"}},\"annotations\":[{\"font\":{\"size\":16},\"showarrow\":false,\"text\":\"Chile\",\"x\":0.225,\"xanchor\":\"center\",\"xref\":\"paper\",\"y\":1.0,\"yanchor\":\"bottom\",\"yref\":\"paper\"},{\"font\":{\"size\":16},\"showarrow\":false,\"text\":\"Brazil\",\"x\":0.775,\"xanchor\":\"center\",\"xref\":\"paper\",\"y\":1.0,\"yanchor\":\"bottom\",\"yref\":\"paper\"},{\"font\":{\"size\":16},\"showarrow\":false,\"text\":\"Argentina\",\"x\":0.225,\"xanchor\":\"center\",\"xref\":\"paper\",\"y\":0.375,\"yanchor\":\"bottom\",\"yref\":\"paper\"},{\"font\":{\"size\":16},\"showarrow\":false,\"text\":\"Peru\",\"x\":0.775,\"xanchor\":\"center\",\"xref\":\"paper\",\"y\":0.375,\"yanchor\":\"bottom\",\"yref\":\"paper\"}],\"title\":{\"text\":\"Population Pyramids of Selected Latin American Countries (2023)\",\"font\":{\"size\":18,\"color\":\"black\"}},\"font\":{\"family\":\"Arial, sans-serif\",\"size\":14,\"color\":\"black\"},\"barmode\":\"overlay\",\"width\":1200,\"height\":1000,\"paper_bgcolor\":\"#f4f4f4\",\"plot_bgcolor\":\"#ffffff\",\"showlegend\":true},                        {\"responsive\": true}                    ).then(function(){\n",
       "                            \n",
       "var gd = document.getElementById('d982e00d-04e4-44ee-9012-30acbfbf100e');\n",
       "var x = new MutationObserver(function (mutations, observer) {{\n",
       "        var display = window.getComputedStyle(gd).display;\n",
       "        if (!display || display === 'none') {{\n",
       "            console.log([gd, 'removed!']);\n",
       "            Plotly.purge(gd);\n",
       "            observer.disconnect();\n",
       "        }}\n",
       "}});\n",
       "\n",
       "// Listen for the removal of the full notebook cells\n",
       "var notebookContainer = gd.closest('#notebook-container');\n",
       "if (notebookContainer) {{\n",
       "    x.observe(notebookContainer, {childList: true});\n",
       "}}\n",
       "\n",
       "// Listen for the clearing of the current output cell\n",
       "var outputEl = gd.closest('.output');\n",
       "if (outputEl) {{\n",
       "    x.observe(outputEl, {childList: true});\n",
       "}}\n",
       "\n",
       "                        })                };                });            </script>        </div>"
      ]
     },
     "metadata": {},
     "output_type": "display_data"
    }
   ],
   "source": [
    "# A figure comparing the population pyramids of various Operation Condor countries in 2023 (recent data)\n",
    "\n",
    "# Define multiple countries\n",
    "country_choices = [\"CHL\", \"BRA\", \"ARG\", \"PER\"]\n",
    "country_titles = [\"Chile\", \"Brazil\", \"Argentina\", \"Peru\"]\n",
    "\n",
    "# Create a subplot layout (2 rows, 2 columns)\n",
    "fig_4 = make_subplots(rows=2, cols=2, subplot_titles=country_titles)\n",
    "\n",
    "# Loop through each country and generate its population pyramid\n",
    "for i, (country, title) in enumerate(zip(country_choices, country_titles)):\n",
    "    condor_countries = wbdata.get_dataframe(categories, country=country)\n",
    "\n",
    "    # Extract male and female data\n",
    "    male_data = condor_countries.loc[str(2023), :].filter(regex=\"Male\").values\n",
    "    female_data = -condor_countries.loc[str(2023), :].filter(regex=\"Female\").values  # Negative for left alignment\n",
    "    age_groups = [int(s[:2]) + 1 for s in ages]  # Convert age labels to integers\n",
    "\n",
    "    # Determine subplot position\n",
    "    row = i // 2 + 1\n",
    "    col = i % 2 + 1\n",
    "\n",
    "    # Add Male bar trace\n",
    "    fig_4.add_trace(go.Bar(\n",
    "        x=male_data,\n",
    "        y=age_groups,\n",
    "        orientation='h',\n",
    "        name=f'{country} - Men',\n",
    "        marker=dict(color='blue', line=dict(color='black', width=1)),\n",
    "        hoverinfo='skip'\n",
    "    ), row=row, col=col)\n",
    "\n",
    "    # Add Female bar trace\n",
    "    fig_4.add_trace(go.Bar(\n",
    "        x=female_data,\n",
    "        y=age_groups,\n",
    "        orientation='h',\n",
    "        name=f'{country} - Women',\n",
    "        marker=dict(color='pink', line=dict(color='black', width=1)),\n",
    "        hoverinfo='skip'\n",
    "    ), row=row, col=col)\n",
    "\n",
    " # Customize X and Y axis labels for each subplot\n",
    "    fig_4.update_xaxes(title_text=\"Number of People\", row=row, col=col)\n",
    "    fig_4.update_yaxes(title_text=\"Age\", row=row, col=col)\n",
    "\n",
    "# Updated layout for aesthetics!\n",
    "fig_4.update_layout(\n",
    "    title=\"Population Pyramids of Selected Latin American Countries (2023)\",\n",
    "    title_font=dict(size=18, color='black'),\n",
    "    barmode='overlay',\n",
    "    width=1200,  # Adjust width\n",
    "    height=1000,  # Adjust height\n",
    "    paper_bgcolor='#f4f4f4',\n",
    "    plot_bgcolor='#ffffff',\n",
    "    font=dict(family=\"Arial, sans-serif\", size=14, color=\"black\"),\n",
    "    showlegend=True\n",
    ")\n",
    "\n",
    "# Make the final figure\n",
    "fig_4.show()"
   ]
  },
  {
   "cell_type": "code",
   "execution_count": 10,
   "id": "63728cfd-cf0a-4faf-b461-1aaa47875e5a",
   "metadata": {},
   "outputs": [
    {
     "data": {
      "application/vnd.plotly.v1+json": {
       "config": {
        "plotlyServerURL": "https://plot.ly"
       },
       "data": [
        {
         "hoverinfo": "skip",
         "marker": {
          "color": "blue",
          "line": {
           "color": "black",
           "width": 1
          }
         },
         "name": "CHL - Men",
         "orientation": "h",
         "type": "bar",
         "x": [
          652574,
          647666,
          645909,
          620229,
          567250,
          491624,
          409007,
          331870,
          289279,
          268652,
          255266,
          189590,
          139353,
          104068,
          68561,
          36829,
          18657
         ],
         "xaxis": "x",
         "y": [
          1,
          6,
          11,
          16,
          21,
          26,
          31,
          36,
          41,
          46,
          51,
          56,
          61,
          66,
          71,
          76,
          81
         ],
         "yaxis": "y"
        },
        {
         "hoverinfo": "skip",
         "marker": {
          "color": "pink",
          "line": {
           "color": "black",
           "width": 1
          }
         },
         "name": "CHL - Women",
         "orientation": "h",
         "type": "bar",
         "x": [
          -630032,
          -628225,
          -631393,
          -611236,
          -560361,
          -487080,
          -405464,
          -324763,
          -286005,
          -270088,
          -261162,
          -201831,
          -156501,
          -126445,
          -92569,
          -57212,
          -41799
         ],
         "xaxis": "x",
         "y": [
          1,
          6,
          11,
          16,
          21,
          26,
          31,
          36,
          41,
          46,
          51,
          56,
          61,
          66,
          71,
          76,
          81
         ],
         "yaxis": "y"
        },
        {
         "hoverinfo": "skip",
         "marker": {
          "color": "blue",
          "line": {
           "color": "black",
           "width": 1
          }
         },
         "name": "BRA - Men",
         "orientation": "h",
         "type": "bar",
         "x": [
          8705260,
          7681746,
          7119097,
          6819894,
          5976737,
          5001858,
          4003020,
          3293710,
          2776363,
          2337070,
          2007220,
          1588274,
          1177337,
          875473,
          570840,
          314927,
          201949
         ],
         "xaxis": "x2",
         "y": [
          1,
          6,
          11,
          16,
          21,
          26,
          31,
          36,
          41,
          46,
          51,
          56,
          61,
          66,
          71,
          76,
          81
         ],
         "yaxis": "y2"
        },
        {
         "hoverinfo": "skip",
         "marker": {
          "color": "pink",
          "line": {
           "color": "black",
           "width": 1
          }
         },
         "name": "BRA - Women",
         "orientation": "h",
         "type": "bar",
         "x": [
          -8490997,
          -7547441,
          -7025953,
          -6753974,
          -5947899,
          -5009752,
          -4003464,
          -3180686,
          -2781999,
          -2525854,
          -2200234,
          -1713180,
          -1274734,
          -975281,
          -655776,
          -385609,
          -283855
         ],
         "xaxis": "x2",
         "y": [
          1,
          6,
          11,
          16,
          21,
          26,
          31,
          36,
          41,
          46,
          51,
          56,
          61,
          66,
          71,
          76,
          81
         ],
         "yaxis": "y2"
        },
        {
         "hoverinfo": "skip",
         "marker": {
          "color": "blue",
          "line": {
           "color": "black",
           "width": 1
          }
         },
         "name": "ARG - Men",
         "orientation": "h",
         "type": "bar",
         "x": [
          1658787,
          1431246,
          1238553,
          1185550,
          1133698,
          1079019,
          992858,
          873724,
          782693,
          740675,
          692847,
          599645,
          484848,
          384797,
          272777,
          162625,
          91500
         ],
         "xaxis": "x3",
         "y": [
          1,
          6,
          11,
          16,
          21,
          26,
          31,
          36,
          41,
          46,
          51,
          56,
          61,
          66,
          71,
          76,
          81
         ],
         "yaxis": "y3"
        },
        {
         "hoverinfo": "skip",
         "marker": {
          "color": "pink",
          "line": {
           "color": "black",
           "width": 1
          }
         },
         "name": "ARG - Women",
         "orientation": "h",
         "type": "bar",
         "x": [
          -1591807,
          -1397348,
          -1215394,
          -1160852,
          -1117729,
          -1073498,
          -995609,
          -881192,
          -792162,
          -753416,
          -741758,
          -662419,
          -564430,
          -478445,
          -357916,
          -242477,
          -179302
         ],
         "xaxis": "x3",
         "y": [
          1,
          6,
          11,
          16,
          21,
          26,
          31,
          36,
          41,
          46,
          51,
          56,
          61,
          66,
          71,
          76,
          81
         ],
         "yaxis": "y3"
        },
        {
         "hoverinfo": "skip",
         "marker": {
          "color": "blue",
          "line": {
           "color": "black",
           "width": 1
          }
         },
         "name": "PER - Men",
         "orientation": "h",
         "type": "bar",
         "x": [
          1405600,
          1249214,
          1088465,
          927140,
          778933,
          651821,
          530996,
          422202,
          368821,
          315676,
          253142,
          204723,
          160619,
          130179,
          94603,
          59021,
          54874
         ],
         "xaxis": "x4",
         "y": [
          1,
          6,
          11,
          16,
          21,
          26,
          31,
          36,
          41,
          46,
          51,
          56,
          61,
          66,
          71,
          76,
          81
         ],
         "yaxis": "y4"
        },
        {
         "hoverinfo": "skip",
         "marker": {
          "color": "pink",
          "line": {
           "color": "black",
           "width": 1
          }
         },
         "name": "PER - Women",
         "orientation": "h",
         "type": "bar",
         "x": [
          -1364253,
          -1219856,
          -1070516,
          -920126,
          -788742,
          -673314,
          -550923,
          -429673,
          -364282,
          -306360,
          -244826,
          -198557,
          -159760,
          -134479,
          -101679,
          -66516,
          -71051
         ],
         "xaxis": "x4",
         "y": [
          1,
          6,
          11,
          16,
          21,
          26,
          31,
          36,
          41,
          46,
          51,
          56,
          61,
          66,
          71,
          76,
          81
         ],
         "yaxis": "y4"
        }
       ],
       "layout": {
        "annotations": [
         {
          "font": {
           "size": 16
          },
          "showarrow": false,
          "text": "Chile",
          "x": 0.225,
          "xanchor": "center",
          "xref": "paper",
          "y": 1,
          "yanchor": "bottom",
          "yref": "paper"
         },
         {
          "font": {
           "size": 16
          },
          "showarrow": false,
          "text": "Brazil",
          "x": 0.775,
          "xanchor": "center",
          "xref": "paper",
          "y": 1,
          "yanchor": "bottom",
          "yref": "paper"
         },
         {
          "font": {
           "size": 16
          },
          "showarrow": false,
          "text": "Argentina",
          "x": 0.225,
          "xanchor": "center",
          "xref": "paper",
          "y": 0.375,
          "yanchor": "bottom",
          "yref": "paper"
         },
         {
          "font": {
           "size": 16
          },
          "showarrow": false,
          "text": "Peru",
          "x": 0.775,
          "xanchor": "center",
          "xref": "paper",
          "y": 0.375,
          "yanchor": "bottom",
          "yref": "paper"
         }
        ],
        "barmode": "overlay",
        "font": {
         "color": "black",
         "family": "Arial, sans-serif",
         "size": 14
        },
        "height": 1000,
        "paper_bgcolor": "#f4f4f4",
        "plot_bgcolor": "#ffffff",
        "showlegend": true,
        "template": {
         "data": {
          "bar": [
           {
            "error_x": {
             "color": "#2a3f5f"
            },
            "error_y": {
             "color": "#2a3f5f"
            },
            "marker": {
             "line": {
              "color": "#E5ECF6",
              "width": 0.5
             },
             "pattern": {
              "fillmode": "overlay",
              "size": 10,
              "solidity": 0.2
             }
            },
            "type": "bar"
           }
          ],
          "barpolar": [
           {
            "marker": {
             "line": {
              "color": "#E5ECF6",
              "width": 0.5
             },
             "pattern": {
              "fillmode": "overlay",
              "size": 10,
              "solidity": 0.2
             }
            },
            "type": "barpolar"
           }
          ],
          "carpet": [
           {
            "aaxis": {
             "endlinecolor": "#2a3f5f",
             "gridcolor": "white",
             "linecolor": "white",
             "minorgridcolor": "white",
             "startlinecolor": "#2a3f5f"
            },
            "baxis": {
             "endlinecolor": "#2a3f5f",
             "gridcolor": "white",
             "linecolor": "white",
             "minorgridcolor": "white",
             "startlinecolor": "#2a3f5f"
            },
            "type": "carpet"
           }
          ],
          "choropleth": [
           {
            "colorbar": {
             "outlinewidth": 0,
             "ticks": ""
            },
            "type": "choropleth"
           }
          ],
          "contour": [
           {
            "colorbar": {
             "outlinewidth": 0,
             "ticks": ""
            },
            "colorscale": [
             [
              0,
              "#0d0887"
             ],
             [
              0.1111111111111111,
              "#46039f"
             ],
             [
              0.2222222222222222,
              "#7201a8"
             ],
             [
              0.3333333333333333,
              "#9c179e"
             ],
             [
              0.4444444444444444,
              "#bd3786"
             ],
             [
              0.5555555555555556,
              "#d8576b"
             ],
             [
              0.6666666666666666,
              "#ed7953"
             ],
             [
              0.7777777777777778,
              "#fb9f3a"
             ],
             [
              0.8888888888888888,
              "#fdca26"
             ],
             [
              1,
              "#f0f921"
             ]
            ],
            "type": "contour"
           }
          ],
          "contourcarpet": [
           {
            "colorbar": {
             "outlinewidth": 0,
             "ticks": ""
            },
            "type": "contourcarpet"
           }
          ],
          "heatmap": [
           {
            "colorbar": {
             "outlinewidth": 0,
             "ticks": ""
            },
            "colorscale": [
             [
              0,
              "#0d0887"
             ],
             [
              0.1111111111111111,
              "#46039f"
             ],
             [
              0.2222222222222222,
              "#7201a8"
             ],
             [
              0.3333333333333333,
              "#9c179e"
             ],
             [
              0.4444444444444444,
              "#bd3786"
             ],
             [
              0.5555555555555556,
              "#d8576b"
             ],
             [
              0.6666666666666666,
              "#ed7953"
             ],
             [
              0.7777777777777778,
              "#fb9f3a"
             ],
             [
              0.8888888888888888,
              "#fdca26"
             ],
             [
              1,
              "#f0f921"
             ]
            ],
            "type": "heatmap"
           }
          ],
          "heatmapgl": [
           {
            "colorbar": {
             "outlinewidth": 0,
             "ticks": ""
            },
            "colorscale": [
             [
              0,
              "#0d0887"
             ],
             [
              0.1111111111111111,
              "#46039f"
             ],
             [
              0.2222222222222222,
              "#7201a8"
             ],
             [
              0.3333333333333333,
              "#9c179e"
             ],
             [
              0.4444444444444444,
              "#bd3786"
             ],
             [
              0.5555555555555556,
              "#d8576b"
             ],
             [
              0.6666666666666666,
              "#ed7953"
             ],
             [
              0.7777777777777778,
              "#fb9f3a"
             ],
             [
              0.8888888888888888,
              "#fdca26"
             ],
             [
              1,
              "#f0f921"
             ]
            ],
            "type": "heatmapgl"
           }
          ],
          "histogram": [
           {
            "marker": {
             "pattern": {
              "fillmode": "overlay",
              "size": 10,
              "solidity": 0.2
             }
            },
            "type": "histogram"
           }
          ],
          "histogram2d": [
           {
            "colorbar": {
             "outlinewidth": 0,
             "ticks": ""
            },
            "colorscale": [
             [
              0,
              "#0d0887"
             ],
             [
              0.1111111111111111,
              "#46039f"
             ],
             [
              0.2222222222222222,
              "#7201a8"
             ],
             [
              0.3333333333333333,
              "#9c179e"
             ],
             [
              0.4444444444444444,
              "#bd3786"
             ],
             [
              0.5555555555555556,
              "#d8576b"
             ],
             [
              0.6666666666666666,
              "#ed7953"
             ],
             [
              0.7777777777777778,
              "#fb9f3a"
             ],
             [
              0.8888888888888888,
              "#fdca26"
             ],
             [
              1,
              "#f0f921"
             ]
            ],
            "type": "histogram2d"
           }
          ],
          "histogram2dcontour": [
           {
            "colorbar": {
             "outlinewidth": 0,
             "ticks": ""
            },
            "colorscale": [
             [
              0,
              "#0d0887"
             ],
             [
              0.1111111111111111,
              "#46039f"
             ],
             [
              0.2222222222222222,
              "#7201a8"
             ],
             [
              0.3333333333333333,
              "#9c179e"
             ],
             [
              0.4444444444444444,
              "#bd3786"
             ],
             [
              0.5555555555555556,
              "#d8576b"
             ],
             [
              0.6666666666666666,
              "#ed7953"
             ],
             [
              0.7777777777777778,
              "#fb9f3a"
             ],
             [
              0.8888888888888888,
              "#fdca26"
             ],
             [
              1,
              "#f0f921"
             ]
            ],
            "type": "histogram2dcontour"
           }
          ],
          "mesh3d": [
           {
            "colorbar": {
             "outlinewidth": 0,
             "ticks": ""
            },
            "type": "mesh3d"
           }
          ],
          "parcoords": [
           {
            "line": {
             "colorbar": {
              "outlinewidth": 0,
              "ticks": ""
             }
            },
            "type": "parcoords"
           }
          ],
          "pie": [
           {
            "automargin": true,
            "type": "pie"
           }
          ],
          "scatter": [
           {
            "fillpattern": {
             "fillmode": "overlay",
             "size": 10,
             "solidity": 0.2
            },
            "type": "scatter"
           }
          ],
          "scatter3d": [
           {
            "line": {
             "colorbar": {
              "outlinewidth": 0,
              "ticks": ""
             }
            },
            "marker": {
             "colorbar": {
              "outlinewidth": 0,
              "ticks": ""
             }
            },
            "type": "scatter3d"
           }
          ],
          "scattercarpet": [
           {
            "marker": {
             "colorbar": {
              "outlinewidth": 0,
              "ticks": ""
             }
            },
            "type": "scattercarpet"
           }
          ],
          "scattergeo": [
           {
            "marker": {
             "colorbar": {
              "outlinewidth": 0,
              "ticks": ""
             }
            },
            "type": "scattergeo"
           }
          ],
          "scattergl": [
           {
            "marker": {
             "colorbar": {
              "outlinewidth": 0,
              "ticks": ""
             }
            },
            "type": "scattergl"
           }
          ],
          "scattermapbox": [
           {
            "marker": {
             "colorbar": {
              "outlinewidth": 0,
              "ticks": ""
             }
            },
            "type": "scattermapbox"
           }
          ],
          "scatterpolar": [
           {
            "marker": {
             "colorbar": {
              "outlinewidth": 0,
              "ticks": ""
             }
            },
            "type": "scatterpolar"
           }
          ],
          "scatterpolargl": [
           {
            "marker": {
             "colorbar": {
              "outlinewidth": 0,
              "ticks": ""
             }
            },
            "type": "scatterpolargl"
           }
          ],
          "scatterternary": [
           {
            "marker": {
             "colorbar": {
              "outlinewidth": 0,
              "ticks": ""
             }
            },
            "type": "scatterternary"
           }
          ],
          "surface": [
           {
            "colorbar": {
             "outlinewidth": 0,
             "ticks": ""
            },
            "colorscale": [
             [
              0,
              "#0d0887"
             ],
             [
              0.1111111111111111,
              "#46039f"
             ],
             [
              0.2222222222222222,
              "#7201a8"
             ],
             [
              0.3333333333333333,
              "#9c179e"
             ],
             [
              0.4444444444444444,
              "#bd3786"
             ],
             [
              0.5555555555555556,
              "#d8576b"
             ],
             [
              0.6666666666666666,
              "#ed7953"
             ],
             [
              0.7777777777777778,
              "#fb9f3a"
             ],
             [
              0.8888888888888888,
              "#fdca26"
             ],
             [
              1,
              "#f0f921"
             ]
            ],
            "type": "surface"
           }
          ],
          "table": [
           {
            "cells": {
             "fill": {
              "color": "#EBF0F8"
             },
             "line": {
              "color": "white"
             }
            },
            "header": {
             "fill": {
              "color": "#C8D4E3"
             },
             "line": {
              "color": "white"
             }
            },
            "type": "table"
           }
          ]
         },
         "layout": {
          "annotationdefaults": {
           "arrowcolor": "#2a3f5f",
           "arrowhead": 0,
           "arrowwidth": 1
          },
          "autotypenumbers": "strict",
          "coloraxis": {
           "colorbar": {
            "outlinewidth": 0,
            "ticks": ""
           }
          },
          "colorscale": {
           "diverging": [
            [
             0,
             "#8e0152"
            ],
            [
             0.1,
             "#c51b7d"
            ],
            [
             0.2,
             "#de77ae"
            ],
            [
             0.3,
             "#f1b6da"
            ],
            [
             0.4,
             "#fde0ef"
            ],
            [
             0.5,
             "#f7f7f7"
            ],
            [
             0.6,
             "#e6f5d0"
            ],
            [
             0.7,
             "#b8e186"
            ],
            [
             0.8,
             "#7fbc41"
            ],
            [
             0.9,
             "#4d9221"
            ],
            [
             1,
             "#276419"
            ]
           ],
           "sequential": [
            [
             0,
             "#0d0887"
            ],
            [
             0.1111111111111111,
             "#46039f"
            ],
            [
             0.2222222222222222,
             "#7201a8"
            ],
            [
             0.3333333333333333,
             "#9c179e"
            ],
            [
             0.4444444444444444,
             "#bd3786"
            ],
            [
             0.5555555555555556,
             "#d8576b"
            ],
            [
             0.6666666666666666,
             "#ed7953"
            ],
            [
             0.7777777777777778,
             "#fb9f3a"
            ],
            [
             0.8888888888888888,
             "#fdca26"
            ],
            [
             1,
             "#f0f921"
            ]
           ],
           "sequentialminus": [
            [
             0,
             "#0d0887"
            ],
            [
             0.1111111111111111,
             "#46039f"
            ],
            [
             0.2222222222222222,
             "#7201a8"
            ],
            [
             0.3333333333333333,
             "#9c179e"
            ],
            [
             0.4444444444444444,
             "#bd3786"
            ],
            [
             0.5555555555555556,
             "#d8576b"
            ],
            [
             0.6666666666666666,
             "#ed7953"
            ],
            [
             0.7777777777777778,
             "#fb9f3a"
            ],
            [
             0.8888888888888888,
             "#fdca26"
            ],
            [
             1,
             "#f0f921"
            ]
           ]
          },
          "colorway": [
           "#636efa",
           "#EF553B",
           "#00cc96",
           "#ab63fa",
           "#FFA15A",
           "#19d3f3",
           "#FF6692",
           "#B6E880",
           "#FF97FF",
           "#FECB52"
          ],
          "font": {
           "color": "#2a3f5f"
          },
          "geo": {
           "bgcolor": "white",
           "lakecolor": "white",
           "landcolor": "#E5ECF6",
           "showlakes": true,
           "showland": true,
           "subunitcolor": "white"
          },
          "hoverlabel": {
           "align": "left"
          },
          "hovermode": "closest",
          "mapbox": {
           "style": "light"
          },
          "paper_bgcolor": "white",
          "plot_bgcolor": "#E5ECF6",
          "polar": {
           "angularaxis": {
            "gridcolor": "white",
            "linecolor": "white",
            "ticks": ""
           },
           "bgcolor": "#E5ECF6",
           "radialaxis": {
            "gridcolor": "white",
            "linecolor": "white",
            "ticks": ""
           }
          },
          "scene": {
           "xaxis": {
            "backgroundcolor": "#E5ECF6",
            "gridcolor": "white",
            "gridwidth": 2,
            "linecolor": "white",
            "showbackground": true,
            "ticks": "",
            "zerolinecolor": "white"
           },
           "yaxis": {
            "backgroundcolor": "#E5ECF6",
            "gridcolor": "white",
            "gridwidth": 2,
            "linecolor": "white",
            "showbackground": true,
            "ticks": "",
            "zerolinecolor": "white"
           },
           "zaxis": {
            "backgroundcolor": "#E5ECF6",
            "gridcolor": "white",
            "gridwidth": 2,
            "linecolor": "white",
            "showbackground": true,
            "ticks": "",
            "zerolinecolor": "white"
           }
          },
          "shapedefaults": {
           "line": {
            "color": "#2a3f5f"
           }
          },
          "ternary": {
           "aaxis": {
            "gridcolor": "white",
            "linecolor": "white",
            "ticks": ""
           },
           "baxis": {
            "gridcolor": "white",
            "linecolor": "white",
            "ticks": ""
           },
           "bgcolor": "#E5ECF6",
           "caxis": {
            "gridcolor": "white",
            "linecolor": "white",
            "ticks": ""
           }
          },
          "title": {
           "x": 0.05
          },
          "xaxis": {
           "automargin": true,
           "gridcolor": "white",
           "linecolor": "white",
           "ticks": "",
           "title": {
            "standoff": 15
           },
           "zerolinecolor": "white",
           "zerolinewidth": 2
          },
          "yaxis": {
           "automargin": true,
           "gridcolor": "white",
           "linecolor": "white",
           "ticks": "",
           "title": {
            "standoff": 15
           },
           "zerolinecolor": "white",
           "zerolinewidth": 2
          }
         }
        },
        "title": {
         "font": {
          "color": "black",
          "size": 18
         },
         "text": "Population Pyramids of Selected Latin American Countries during Operation Condor (1980)"
        },
        "width": 1200,
        "xaxis": {
         "anchor": "y",
         "domain": [
          0,
          0.45
         ],
         "title": {
          "text": "Number of People"
         }
        },
        "xaxis2": {
         "anchor": "y2",
         "domain": [
          0.55,
          1
         ],
         "title": {
          "text": "Number of People"
         }
        },
        "xaxis3": {
         "anchor": "y3",
         "domain": [
          0,
          0.45
         ],
         "title": {
          "text": "Number of People"
         }
        },
        "xaxis4": {
         "anchor": "y4",
         "domain": [
          0.55,
          1
         ],
         "title": {
          "text": "Number of People"
         }
        },
        "yaxis": {
         "anchor": "x",
         "domain": [
          0.625,
          1
         ],
         "title": {
          "text": "Age"
         }
        },
        "yaxis2": {
         "anchor": "x2",
         "domain": [
          0.625,
          1
         ],
         "title": {
          "text": "Age"
         }
        },
        "yaxis3": {
         "anchor": "x3",
         "domain": [
          0,
          0.375
         ],
         "title": {
          "text": "Age"
         }
        },
        "yaxis4": {
         "anchor": "x4",
         "domain": [
          0,
          0.375
         ],
         "title": {
          "text": "Age"
         }
        }
       }
      },
      "image/png": "[encoded data removed]",
      "text/html": [
       "<div>                            <div id=\"486e2417-0fc1-4d50-98e2-5fd32090c70c\" class=\"plotly-graph-div\" style=\"height:1000px; width:1200px;\"></div>            <script type=\"text/javascript\">                require([\"plotly\"], function(Plotly) {                    window.PLOTLYENV=window.PLOTLYENV || {};                                    if (document.getElementById(\"486e2417-0fc1-4d50-98e2-5fd32090c70c\")) {                    Plotly.newPlot(                        \"486e2417-0fc1-4d50-98e2-5fd32090c70c\",                        [{\"hoverinfo\":\"skip\",\"marker\":{\"color\":\"blue\",\"line\":{\"color\":\"black\",\"width\":1}},\"name\":\"CHL - Men\",\"orientation\":\"h\",\"x\":[652574.0,647666.0,645909.0,620229.0,567250.0,491624.0,409007.0,331870.0,289279.0,268652.0,255266.0,189590.0,139353.0,104068.0,68561.0,36829.0,18657.0],\"y\":[1,6,11,16,21,26,31,36,41,46,51,56,61,66,71,76,81],\"type\":\"bar\",\"xaxis\":\"x\",\"yaxis\":\"y\"},{\"hoverinfo\":\"skip\",\"marker\":{\"color\":\"pink\",\"line\":{\"color\":\"black\",\"width\":1}},\"name\":\"CHL - Women\",\"orientation\":\"h\",\"x\":[-630032.0,-628225.0,-631393.0,-611236.0,-560361.0,-487080.0,-405464.0,-324763.0,-286005.0,-270088.0,-261162.0,-201831.0,-156501.0,-126445.0,-92569.0,-57212.0,-41799.0],\"y\":[1,6,11,16,21,26,31,36,41,46,51,56,61,66,71,76,81],\"type\":\"bar\",\"xaxis\":\"x\",\"yaxis\":\"y\"},{\"hoverinfo\":\"skip\",\"marker\":{\"color\":\"blue\",\"line\":{\"color\":\"black\",\"width\":1}},\"name\":\"BRA - Men\",\"orientation\":\"h\",\"x\":[8705260.0,7681746.0,7119097.0,6819894.0,5976737.0,5001858.0,4003020.0,3293710.0,2776363.0,2337070.0,2007220.0,1588274.0,1177337.0,875473.0,570840.0,314927.0,201949.0],\"y\":[1,6,11,16,21,26,31,36,41,46,51,56,61,66,71,76,81],\"type\":\"bar\",\"xaxis\":\"x2\",\"yaxis\":\"y2\"},{\"hoverinfo\":\"skip\",\"marker\":{\"color\":\"pink\",\"line\":{\"color\":\"black\",\"width\":1}},\"name\":\"BRA - Women\",\"orientation\":\"h\",\"x\":[-8490997.0,-7547441.0,-7025953.0,-6753974.0,-5947899.0,-5009752.0,-4003464.0,-3180686.0,-2781999.0,-2525854.0,-2200234.0,-1713180.0,-1274734.0,-975281.0,-655776.0,-385609.0,-283855.0],\"y\":[1,6,11,16,21,26,31,36,41,46,51,56,61,66,71,76,81],\"type\":\"bar\",\"xaxis\":\"x2\",\"yaxis\":\"y2\"},{\"hoverinfo\":\"skip\",\"marker\":{\"color\":\"blue\",\"line\":{\"color\":\"black\",\"width\":1}},\"name\":\"ARG - Men\",\"orientation\":\"h\",\"x\":[1658787.0,1431246.0,1238553.0,1185550.0,1133698.0,1079019.0,992858.0,873724.0,782693.0,740675.0,692847.0,599645.0,484848.0,384797.0,272777.0,162625.0,91500.0],\"y\":[1,6,11,16,21,26,31,36,41,46,51,56,61,66,71,76,81],\"type\":\"bar\",\"xaxis\":\"x3\",\"yaxis\":\"y3\"},{\"hoverinfo\":\"skip\",\"marker\":{\"color\":\"pink\",\"line\":{\"color\":\"black\",\"width\":1}},\"name\":\"ARG - Women\",\"orientation\":\"h\",\"x\":[-1591807.0,-1397348.0,-1215394.0,-1160852.0,-1117729.0,-1073498.0,-995609.0,-881192.0,-792162.0,-753416.0,-741758.0,-662419.0,-564430.0,-478445.0,-357916.0,-242477.0,-179302.0],\"y\":[1,6,11,16,21,26,31,36,41,46,51,56,61,66,71,76,81],\"type\":\"bar\",\"xaxis\":\"x3\",\"yaxis\":\"y3\"},{\"hoverinfo\":\"skip\",\"marker\":{\"color\":\"blue\",\"line\":{\"color\":\"black\",\"width\":1}},\"name\":\"PER - Men\",\"orientation\":\"h\",\"x\":[1405600.0,1249214.0,1088465.0,927140.0,778933.0,651821.0,530996.0,422202.0,368821.0,315676.0,253142.0,204723.0,160619.0,130179.0,94603.0,59021.0,54874.0],\"y\":[1,6,11,16,21,26,31,36,41,46,51,56,61,66,71,76,81],\"type\":\"bar\",\"xaxis\":\"x4\",\"yaxis\":\"y4\"},{\"hoverinfo\":\"skip\",\"marker\":{\"color\":\"pink\",\"line\":{\"color\":\"black\",\"width\":1}},\"name\":\"PER - Women\",\"orientation\":\"h\",\"x\":[-1364253.0,-1219856.0,-1070516.0,-920126.0,-788742.0,-673314.0,-550923.0,-429673.0,-364282.0,-306360.0,-244826.0,-198557.0,-159760.0,-134479.0,-101679.0,-66516.0,-71051.0],\"y\":[1,6,11,16,21,26,31,36,41,46,51,56,61,66,71,76,81],\"type\":\"bar\",\"xaxis\":\"x4\",\"yaxis\":\"y4\"}],                        {\"template\":{\"data\":{\"histogram2dcontour\":[{\"type\":\"histogram2dcontour\",\"colorbar\":{\"outlinewidth\":0,\"ticks\":\"\"},\"colorscale\":[[0.0,\"#0d0887\"],[0.1111111111111111,\"#46039f\"],[0.2222222222222222,\"#7201a8\"],[0.3333333333333333,\"#9c179e\"],[0.4444444444444444,\"#bd3786\"],[0.5555555555555556,\"#d8576b\"],[0.6666666666666666,\"#ed7953\"],[0.7777777777777778,\"#fb9f3a\"],[0.8888888888888888,\"#fdca26\"],[1.0,\"#f0f921\"]]}],\"choropleth\":[{\"type\":\"choropleth\",\"colorbar\":{\"outlinewidth\":0,\"ticks\":\"\"}}],\"histogram2d\":[{\"type\":\"histogram2d\",\"colorbar\":{\"outlinewidth\":0,\"ticks\":\"\"},\"colorscale\":[[0.0,\"#0d0887\"],[0.1111111111111111,\"#46039f\"],[0.2222222222222222,\"#7201a8\"],[0.3333333333333333,\"#9c179e\"],[0.4444444444444444,\"#bd3786\"],[0.5555555555555556,\"#d8576b\"],[0.6666666666666666,\"#ed7953\"],[0.7777777777777778,\"#fb9f3a\"],[0.8888888888888888,\"#fdca26\"],[1.0,\"#f0f921\"]]}],\"heatmap\":[{\"type\":\"heatmap\",\"colorbar\":{\"outlinewidth\":0,\"ticks\":\"\"},\"colorscale\":[[0.0,\"#0d0887\"],[0.1111111111111111,\"#46039f\"],[0.2222222222222222,\"#7201a8\"],[0.3333333333333333,\"#9c179e\"],[0.4444444444444444,\"#bd3786\"],[0.5555555555555556,\"#d8576b\"],[0.6666666666666666,\"#ed7953\"],[0.7777777777777778,\"#fb9f3a\"],[0.8888888888888888,\"#fdca26\"],[1.0,\"#f0f921\"]]}],\"heatmapgl\":[{\"type\":\"heatmapgl\",\"colorbar\":{\"outlinewidth\":0,\"ticks\":\"\"},\"colorscale\":[[0.0,\"#0d0887\"],[0.1111111111111111,\"#46039f\"],[0.2222222222222222,\"#7201a8\"],[0.3333333333333333,\"#9c179e\"],[0.4444444444444444,\"#bd3786\"],[0.5555555555555556,\"#d8576b\"],[0.6666666666666666,\"#ed7953\"],[0.7777777777777778,\"#fb9f3a\"],[0.8888888888888888,\"#fdca26\"],[1.0,\"#f0f921\"]]}],\"contourcarpet\":[{\"type\":\"contourcarpet\",\"colorbar\":{\"outlinewidth\":0,\"ticks\":\"\"}}],\"contour\":[{\"type\":\"contour\",\"colorbar\":{\"outlinewidth\":0,\"ticks\":\"\"},\"colorscale\":[[0.0,\"#0d0887\"],[0.1111111111111111,\"#46039f\"],[0.2222222222222222,\"#7201a8\"],[0.3333333333333333,\"#9c179e\"],[0.4444444444444444,\"#bd3786\"],[0.5555555555555556,\"#d8576b\"],[0.6666666666666666,\"#ed7953\"],[0.7777777777777778,\"#fb9f3a\"],[0.8888888888888888,\"#fdca26\"],[1.0,\"#f0f921\"]]}],\"surface\":[{\"type\":\"surface\",\"colorbar\":{\"outlinewidth\":0,\"ticks\":\"\"},\"colorscale\":[[0.0,\"#0d0887\"],[0.1111111111111111,\"#46039f\"],[0.2222222222222222,\"#7201a8\"],[0.3333333333333333,\"#9c179e\"],[0.4444444444444444,\"#bd3786\"],[0.5555555555555556,\"#d8576b\"],[0.6666666666666666,\"#ed7953\"],[0.7777777777777778,\"#fb9f3a\"],[0.8888888888888888,\"#fdca26\"],[1.0,\"#f0f921\"]]}],\"mesh3d\":[{\"type\":\"mesh3d\",\"colorbar\":{\"outlinewidth\":0,\"ticks\":\"\"}}],\"scatter\":[{\"fillpattern\":{\"fillmode\":\"overlay\",\"size\":10,\"solidity\":0.2},\"type\":\"scatter\"}],\"parcoords\":[{\"type\":\"parcoords\",\"line\":{\"colorbar\":{\"outlinewidth\":0,\"ticks\":\"\"}}}],\"scatterpolargl\":[{\"type\":\"scatterpolargl\",\"marker\":{\"colorbar\":{\"outlinewidth\":0,\"ticks\":\"\"}}}],\"bar\":[{\"error_x\":{\"color\":\"#2a3f5f\"},\"error_y\":{\"color\":\"#2a3f5f\"},\"marker\":{\"line\":{\"color\":\"#E5ECF6\",\"width\":0.5},\"pattern\":{\"fillmode\":\"overlay\",\"size\":10,\"solidity\":0.2}},\"type\":\"bar\"}],\"scattergeo\":[{\"type\":\"scattergeo\",\"marker\":{\"colorbar\":{\"outlinewidth\":0,\"ticks\":\"\"}}}],\"scatterpolar\":[{\"type\":\"scatterpolar\",\"marker\":{\"colorbar\":{\"outlinewidth\":0,\"ticks\":\"\"}}}],\"histogram\":[{\"marker\":{\"pattern\":{\"fillmode\":\"overlay\",\"size\":10,\"solidity\":0.2}},\"type\":\"histogram\"}],\"scattergl\":[{\"type\":\"scattergl\",\"marker\":{\"colorbar\":{\"outlinewidth\":0,\"ticks\":\"\"}}}],\"scatter3d\":[{\"type\":\"scatter3d\",\"line\":{\"colorbar\":{\"outlinewidth\":0,\"ticks\":\"\"}},\"marker\":{\"colorbar\":{\"outlinewidth\":0,\"ticks\":\"\"}}}],\"scattermapbox\":[{\"type\":\"scattermapbox\",\"marker\":{\"colorbar\":{\"outlinewidth\":0,\"ticks\":\"\"}}}],\"scatterternary\":[{\"type\":\"scatterternary\",\"marker\":{\"colorbar\":{\"outlinewidth\":0,\"ticks\":\"\"}}}],\"scattercarpet\":[{\"type\":\"scattercarpet\",\"marker\":{\"colorbar\":{\"outlinewidth\":0,\"ticks\":\"\"}}}],\"carpet\":[{\"aaxis\":{\"endlinecolor\":\"#2a3f5f\",\"gridcolor\":\"white\",\"linecolor\":\"white\",\"minorgridcolor\":\"white\",\"startlinecolor\":\"#2a3f5f\"},\"baxis\":{\"endlinecolor\":\"#2a3f5f\",\"gridcolor\":\"white\",\"linecolor\":\"white\",\"minorgridcolor\":\"white\",\"startlinecolor\":\"#2a3f5f\"},\"type\":\"carpet\"}],\"table\":[{\"cells\":{\"fill\":{\"color\":\"#EBF0F8\"},\"line\":{\"color\":\"white\"}},\"header\":{\"fill\":{\"color\":\"#C8D4E3\"},\"line\":{\"color\":\"white\"}},\"type\":\"table\"}],\"barpolar\":[{\"marker\":{\"line\":{\"color\":\"#E5ECF6\",\"width\":0.5},\"pattern\":{\"fillmode\":\"overlay\",\"size\":10,\"solidity\":0.2}},\"type\":\"barpolar\"}],\"pie\":[{\"automargin\":true,\"type\":\"pie\"}]},\"layout\":{\"autotypenumbers\":\"strict\",\"colorway\":[\"#636efa\",\"#EF553B\",\"#00cc96\",\"#ab63fa\",\"#FFA15A\",\"#19d3f3\",\"#FF6692\",\"#B6E880\",\"#FF97FF\",\"#FECB52\"],\"font\":{\"color\":\"#2a3f5f\"},\"hovermode\":\"closest\",\"hoverlabel\":{\"align\":\"left\"},\"paper_bgcolor\":\"white\",\"plot_bgcolor\":\"#E5ECF6\",\"polar\":{\"bgcolor\":\"#E5ECF6\",\"angularaxis\":{\"gridcolor\":\"white\",\"linecolor\":\"white\",\"ticks\":\"\"},\"radialaxis\":{\"gridcolor\":\"white\",\"linecolor\":\"white\",\"ticks\":\"\"}},\"ternary\":{\"bgcolor\":\"#E5ECF6\",\"aaxis\":{\"gridcolor\":\"white\",\"linecolor\":\"white\",\"ticks\":\"\"},\"baxis\":{\"gridcolor\":\"white\",\"linecolor\":\"white\",\"ticks\":\"\"},\"caxis\":{\"gridcolor\":\"white\",\"linecolor\":\"white\",\"ticks\":\"\"}},\"coloraxis\":{\"colorbar\":{\"outlinewidth\":0,\"ticks\":\"\"}},\"colorscale\":{\"sequential\":[[0.0,\"#0d0887\"],[0.1111111111111111,\"#46039f\"],[0.2222222222222222,\"#7201a8\"],[0.3333333333333333,\"#9c179e\"],[0.4444444444444444,\"#bd3786\"],[0.5555555555555556,\"#d8576b\"],[0.6666666666666666,\"#ed7953\"],[0.7777777777777778,\"#fb9f3a\"],[0.8888888888888888,\"#fdca26\"],[1.0,\"#f0f921\"]],\"sequentialminus\":[[0.0,\"#0d0887\"],[0.1111111111111111,\"#46039f\"],[0.2222222222222222,\"#7201a8\"],[0.3333333333333333,\"#9c179e\"],[0.4444444444444444,\"#bd3786\"],[0.5555555555555556,\"#d8576b\"],[0.6666666666666666,\"#ed7953\"],[0.7777777777777778,\"#fb9f3a\"],[0.8888888888888888,\"#fdca26\"],[1.0,\"#f0f921\"]],\"diverging\":[[0,\"#8e0152\"],[0.1,\"#c51b7d\"],[0.2,\"#de77ae\"],[0.3,\"#f1b6da\"],[0.4,\"#fde0ef\"],[0.5,\"#f7f7f7\"],[0.6,\"#e6f5d0\"],[0.7,\"#b8e186\"],[0.8,\"#7fbc41\"],[0.9,\"#4d9221\"],[1,\"#276419\"]]},\"xaxis\":{\"gridcolor\":\"white\",\"linecolor\":\"white\",\"ticks\":\"\",\"title\":{\"standoff\":15},\"zerolinecolor\":\"white\",\"automargin\":true,\"zerolinewidth\":2},\"yaxis\":{\"gridcolor\":\"white\",\"linecolor\":\"white\",\"ticks\":\"\",\"title\":{\"standoff\":15},\"zerolinecolor\":\"white\",\"automargin\":true,\"zerolinewidth\":2},\"scene\":{\"xaxis\":{\"backgroundcolor\":\"#E5ECF6\",\"gridcolor\":\"white\",\"linecolor\":\"white\",\"showbackground\":true,\"ticks\":\"\",\"zerolinecolor\":\"white\",\"gridwidth\":2},\"yaxis\":{\"backgroundcolor\":\"#E5ECF6\",\"gridcolor\":\"white\",\"linecolor\":\"white\",\"showbackground\":true,\"ticks\":\"\",\"zerolinecolor\":\"white\",\"gridwidth\":2},\"zaxis\":{\"backgroundcolor\":\"#E5ECF6\",\"gridcolor\":\"white\",\"linecolor\":\"white\",\"showbackground\":true,\"ticks\":\"\",\"zerolinecolor\":\"white\",\"gridwidth\":2}},\"shapedefaults\":{\"line\":{\"color\":\"#2a3f5f\"}},\"annotationdefaults\":{\"arrowcolor\":\"#2a3f5f\",\"arrowhead\":0,\"arrowwidth\":1},\"geo\":{\"bgcolor\":\"white\",\"landcolor\":\"#E5ECF6\",\"subunitcolor\":\"white\",\"showland\":true,\"showlakes\":true,\"lakecolor\":\"white\"},\"title\":{\"x\":0.05},\"mapbox\":{\"style\":\"light\"}}},\"xaxis\":{\"anchor\":\"y\",\"domain\":[0.0,0.45],\"title\":{\"text\":\"Number of People\"}},\"yaxis\":{\"anchor\":\"x\",\"domain\":[0.625,1.0],\"title\":{\"text\":\"Age\"}},\"xaxis2\":{\"anchor\":\"y2\",\"domain\":[0.55,1.0],\"title\":{\"text\":\"Number of People\"}},\"yaxis2\":{\"anchor\":\"x2\",\"domain\":[0.625,1.0],\"title\":{\"text\":\"Age\"}},\"xaxis3\":{\"anchor\":\"y3\",\"domain\":[0.0,0.45],\"title\":{\"text\":\"Number of People\"}},\"yaxis3\":{\"anchor\":\"x3\",\"domain\":[0.0,0.375],\"title\":{\"text\":\"Age\"}},\"xaxis4\":{\"anchor\":\"y4\",\"domain\":[0.55,1.0],\"title\":{\"text\":\"Number of People\"}},\"yaxis4\":{\"anchor\":\"x4\",\"domain\":[0.0,0.375],\"title\":{\"text\":\"Age\"}},\"annotations\":[{\"font\":{\"size\":16},\"showarrow\":false,\"text\":\"Chile\",\"x\":0.225,\"xanchor\":\"center\",\"xref\":\"paper\",\"y\":1.0,\"yanchor\":\"bottom\",\"yref\":\"paper\"},{\"font\":{\"size\":16},\"showarrow\":false,\"text\":\"Brazil\",\"x\":0.775,\"xanchor\":\"center\",\"xref\":\"paper\",\"y\":1.0,\"yanchor\":\"bottom\",\"yref\":\"paper\"},{\"font\":{\"size\":16},\"showarrow\":false,\"text\":\"Argentina\",\"x\":0.225,\"xanchor\":\"center\",\"xref\":\"paper\",\"y\":0.375,\"yanchor\":\"bottom\",\"yref\":\"paper\"},{\"font\":{\"size\":16},\"showarrow\":false,\"text\":\"Peru\",\"x\":0.775,\"xanchor\":\"center\",\"xref\":\"paper\",\"y\":0.375,\"yanchor\":\"bottom\",\"yref\":\"paper\"}],\"title\":{\"text\":\"Population Pyramids of Selected Latin American Countries during Operation Condor (1980)\",\"font\":{\"size\":18,\"color\":\"black\"}},\"font\":{\"family\":\"Arial, sans-serif\",\"size\":14,\"color\":\"black\"},\"barmode\":\"overlay\",\"width\":1200,\"height\":1000,\"paper_bgcolor\":\"#f4f4f4\",\"plot_bgcolor\":\"#ffffff\",\"showlegend\":true},                        {\"responsive\": true}                    ).then(function(){\n",
       "                            \n",
       "var gd = document.getElementById('486e2417-0fc1-4d50-98e2-5fd32090c70c');\n",
       "var x = new MutationObserver(function (mutations, observer) {{\n",
       "        var display = window.getComputedStyle(gd).display;\n",
       "        if (!display || display === 'none') {{\n",
       "            console.log([gd, 'removed!']);\n",
       "            Plotly.purge(gd);\n",
       "            observer.disconnect();\n",
       "        }}\n",
       "}});\n",
       "\n",
       "// Listen for the removal of the full notebook cells\n",
       "var notebookContainer = gd.closest('#notebook-container');\n",
       "if (notebookContainer) {{\n",
       "    x.observe(notebookContainer, {childList: true});\n",
       "}}\n",
       "\n",
       "// Listen for the clearing of the current output cell\n",
       "var outputEl = gd.closest('.output');\n",
       "if (outputEl) {{\n",
       "    x.observe(outputEl, {childList: true});\n",
       "}}\n",
       "\n",
       "                        })                };                });            </script>        </div>"
      ]
     },
     "metadata": {},
     "output_type": "display_data"
    }
   ],
   "source": [
    "# A figure comparing the population pyramids of various Operation Condor countries in 1980\n",
    "\n",
    "# Define multiple countries\n",
    "country_choices = [\"CHL\", \"BRA\", \"ARG\", \"PER\"]\n",
    "country_titles = [\"Chile\", \"Brazil\", \"Argentina\", \"Peru\"]\n",
    "\n",
    "# Create a subplot layout (2 rows, 2 columns)\n",
    "fig_5 = make_subplots(rows=2, cols=2, subplot_titles=country_titles)\n",
    "\n",
    "# Loop through each country and generate its population pyramid\n",
    "for i, (country, title) in enumerate(zip(country_choices, country_titles)):\n",
    "    condor_countries = wbdata.get_dataframe(categories, country=country)\n",
    "\n",
    "    # Extract male and female data\n",
    "    male_data = condor_countries.loc[str(1980), :].filter(regex=\"Male\").values\n",
    "    female_data = -condor_countries.loc[str(1980), :].filter(regex=\"Female\").values  # Negative for left alignment\n",
    "    age_groups = [int(s[:2]) + 1 for s in ages]  # Convert age labels to integers\n",
    "\n",
    "    # Determine subplot position\n",
    "    row = i // 2 + 1\n",
    "    col = i % 2 + 1\n",
    "\n",
    "    # Add Male bar trace\n",
    "    fig_5.add_trace(go.Bar(\n",
    "        x=male_data,\n",
    "        y=age_groups,\n",
    "        orientation='h',\n",
    "        name=f'{country} - Men',\n",
    "        marker=dict(color='blue', line=dict(color='black', width=1)),\n",
    "        hoverinfo='skip'\n",
    "    ), row=row, col=col)\n",
    "\n",
    "    # Add Female bar trace\n",
    "    fig_5.add_trace(go.Bar(\n",
    "        x=female_data,\n",
    "        y=age_groups,\n",
    "        orientation='h',\n",
    "        name=f'{country} - Women',\n",
    "        marker=dict(color='pink', line=dict(color='black', width=1)),\n",
    "        hoverinfo='skip'\n",
    "    ), row=row, col=col)\n",
    "\n",
    " # Customize X and Y axis labels for each subplot\n",
    "    fig_5.update_xaxes(title_text=\"Number of People\", row=row, col=col)\n",
    "    fig_5.update_yaxes(title_text=\"Age\", row=row, col=col)\n",
    "\n",
    "# Updated layout for aesthetics!\n",
    "fig_5.update_layout(\n",
    "    title=\"Population Pyramids of Selected Latin American Countries during Operation Condor (1980)\",\n",
    "    title_font=dict(size=18, color='black'),\n",
    "    barmode='overlay',\n",
    "    width=1200,  # Adjust width\n",
    "    height=1000,  # Adjust height\n",
    "    paper_bgcolor='#f4f4f4',\n",
    "    plot_bgcolor='#ffffff',\n",
    "    font=dict(family=\"Arial, sans-serif\", size=14, color=\"black\"),\n",
    "    showlegend=True\n",
    ")\n",
    "\n",
    "# Make the final figure\n",
    "fig_5.show()"
   ]
  },
  {
   "cell_type": "code",
   "execution_count": null,
   "id": "fc80cf1a-83e9-476b-90c5-d562d15719c6",
   "metadata": {},
   "outputs": [],
   "source": [
    "# Look at the changes within a given country"
   ]
  },
  {
   "cell_type": "code",
   "execution_count": 12,
   "id": "230dde3c-5f22-40fe-b458-868a0a71dd2a",
   "metadata": {},
   "outputs": [
    {
     "ename": "NameError",
     "evalue": "name 'year' is not defined",
     "output_type": "error",
     "traceback": [
      "\u001b[0;31m---------------------------------------------------------------------------\u001b[0m",
      "\u001b[0;31mNameError\u001b[0m                                 Traceback (most recent call last)",
      "Cell \u001b[0;32mIn[12], line 5\u001b[0m\n\u001b[1;32m      1\u001b[0m \u001b[38;5;66;03m# Argentina\u001b[39;00m\n\u001b[1;32m      3\u001b[0m argentina \u001b[38;5;241m=\u001b[39m wbdata\u001b[38;5;241m.\u001b[39mget_dataframe(categories,country\u001b[38;5;241m=\u001b[39m\u001b[38;5;124m'\u001b[39m\u001b[38;5;124mARG\u001b[39m\u001b[38;5;124m'\u001b[39m)\n\u001b[0;32m----> 5\u001b[0m a_bins \u001b[38;5;241m=\u001b[39m [go\u001b[38;5;241m.\u001b[39mBar(x \u001b[38;5;241m=\u001b[39m argentina\u001b[38;5;241m.\u001b[39mloc[\u001b[38;5;28mstr\u001b[39m(\u001b[43myear\u001b[49m),:]\u001b[38;5;241m.\u001b[39mfilter(regex\u001b[38;5;241m=\u001b[39m\u001b[38;5;124m\"\u001b[39m\u001b[38;5;124mMale\u001b[39m\u001b[38;5;124m\"\u001b[39m)\u001b[38;5;241m.\u001b[39mvalues,\n\u001b[1;32m      6\u001b[0m                y \u001b[38;5;241m=\u001b[39m [\u001b[38;5;28mint\u001b[39m(s[:\u001b[38;5;241m2\u001b[39m])\u001b[38;5;241m+\u001b[39m\u001b[38;5;241m1\u001b[39m \u001b[38;5;28;01mfor\u001b[39;00m s \u001b[38;5;129;01min\u001b[39;00m age_ranges],\n\u001b[1;32m      7\u001b[0m                orientation\u001b[38;5;241m=\u001b[39m\u001b[38;5;124m'\u001b[39m\u001b[38;5;124mh\u001b[39m\u001b[38;5;124m'\u001b[39m,\n\u001b[1;32m      8\u001b[0m                name\u001b[38;5;241m=\u001b[39m\u001b[38;5;124m'\u001b[39m\u001b[38;5;124mMen\u001b[39m\u001b[38;5;124m'\u001b[39m,\n\u001b[1;32m      9\u001b[0m                marker\u001b[38;5;241m=\u001b[39m\u001b[38;5;28mdict\u001b[39m(color\u001b[38;5;241m=\u001b[39m\u001b[38;5;124m'\u001b[39m\u001b[38;5;124mblue\u001b[39m\u001b[38;5;124m'\u001b[39m),\n\u001b[1;32m     10\u001b[0m                hoverinfo\u001b[38;5;241m=\u001b[39m\u001b[38;5;124m'\u001b[39m\u001b[38;5;124mskip\u001b[39m\u001b[38;5;124m'\u001b[39m\n\u001b[1;32m     11\u001b[0m                ),\n\u001b[1;32m     12\u001b[0m \n\u001b[1;32m     13\u001b[0m         go\u001b[38;5;241m.\u001b[39mBar(x \u001b[38;5;241m=\u001b[39m \u001b[38;5;241m-\u001b[39margentina\u001b[38;5;241m.\u001b[39mloc[\u001b[38;5;28mstr\u001b[39m(year),:]\u001b[38;5;241m.\u001b[39mfilter(regex\u001b[38;5;241m=\u001b[39m\u001b[38;5;124m\"\u001b[39m\u001b[38;5;124mFemale\u001b[39m\u001b[38;5;124m\"\u001b[39m)\u001b[38;5;241m.\u001b[39mvalues,\n\u001b[1;32m     14\u001b[0m                y\u001b[38;5;241m=\u001b[39m[\u001b[38;5;28mint\u001b[39m(s[:\u001b[38;5;241m2\u001b[39m])\u001b[38;5;241m+\u001b[39m\u001b[38;5;241m1\u001b[39m \u001b[38;5;28;01mfor\u001b[39;00m s \u001b[38;5;129;01min\u001b[39;00m age_ranges],\n\u001b[1;32m     15\u001b[0m                orientation\u001b[38;5;241m=\u001b[39m\u001b[38;5;124m'\u001b[39m\u001b[38;5;124mh\u001b[39m\u001b[38;5;124m'\u001b[39m,\n\u001b[1;32m     16\u001b[0m                name\u001b[38;5;241m=\u001b[39m\u001b[38;5;124m'\u001b[39m\u001b[38;5;124mWomen\u001b[39m\u001b[38;5;124m'\u001b[39m,\n\u001b[1;32m     17\u001b[0m                marker\u001b[38;5;241m=\u001b[39m\u001b[38;5;28mdict\u001b[39m(color\u001b[38;5;241m=\u001b[39m\u001b[38;5;124m'\u001b[39m\u001b[38;5;124mpink\u001b[39m\u001b[38;5;124m'\u001b[39m),\n\u001b[1;32m     18\u001b[0m                hoverinfo\u001b[38;5;241m=\u001b[39m\u001b[38;5;124m'\u001b[39m\u001b[38;5;124mskip\u001b[39m\u001b[38;5;124m'\u001b[39m,\n\u001b[1;32m     19\u001b[0m                )\n\u001b[1;32m     20\u001b[0m         ]\n",
      "\u001b[0;31mNameError\u001b[0m: name 'year' is not defined"
     ]
    }
   ],
   "source": [
    "# Argentina\n",
    "\n",
    "argentina = wbdata.get_dataframe(categories,country='ARG')\n",
    "\n",
    "a_bins = [go.Bar(x = argentina.loc[str(year),:].filter(regex=\"Male\").values,\n",
    "               y = [int(s[:2])+1 for s in age_ranges],\n",
    "               orientation='h',\n",
    "               name='Men',\n",
    "               marker=dict(color='blue'),\n",
    "               hoverinfo='skip'\n",
    "               ),\n",
    "\n",
    "        go.Bar(x = -argentina.loc[str(year),:].filter(regex=\"Female\").values,\n",
    "               y=[int(s[:2])+1 for s in age_ranges],\n",
    "               orientation='h',\n",
    "               name='Women',\n",
    "               marker=dict(color='pink'),\n",
    "               hoverinfo='skip',\n",
    "               )\n",
    "        ]"
   ]
  }
 ],
 "metadata": {
  "kernelspec": {
   "display_name": "Python 3 (ipykernel)",
   "language": "python",
   "name": "python3"
  },
  "language_info": {
   "codemirror_mode": {
    "name": "ipython",
    "version": 3
   },
   "file_extension": ".py",
   "mimetype": "text/x-python",
   "name": "python",
   "nbconvert_exporter": "python",
   "pygments_lexer": "ipython3",
   "version": "3.11.11"
  }
 },
 "nbformat": 4,
 "nbformat_minor": 5
}
