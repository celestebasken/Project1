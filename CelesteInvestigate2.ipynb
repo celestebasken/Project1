{
 "cells": [
  {
   "cell_type": "code",
   "execution_count": 1,
   "id": "31ab08ac-2c83-4cc5-aa99-394e1564cf08",
   "metadata": {},
   "outputs": [],
   "source": [
    "# CelesteInvestigationP2"
   ]
  },
  {
   "cell_type": "code",
   "execution_count": 2,
   "id": "8e6d8ab1-0541-4272-83b9-405f8b1f3102",
   "metadata": {
    "scrolled": true
   },
   "outputs": [
    {
     "name": "stdout",
     "output_type": "stream",
     "text": [
      "Collecting wbdata\n",
      "  Using cached wbdata-1.0.0-py3-none-any.whl.metadata (2.6 kB)\n",
      "Collecting appdirs<2.0,>=1.4 (from wbdata)\n",
      "  Using cached appdirs-1.4.4-py2.py3-none-any.whl.metadata (9.0 kB)\n",
      "Collecting backoff<3.0.0,>=2.2.1 (from wbdata)\n",
      "  Using cached backoff-2.2.1-py3-none-any.whl.metadata (14 kB)\n",
      "Requirement already satisfied: cachetools<6.0.0,>=5.3.2 in /srv/conda/lib/python3.11/site-packages (from wbdata) (5.5.1)\n",
      "Collecting dateparser<2.0.0,>=1.2.0 (from wbdata)\n",
      "  Using cached dateparser-1.2.0-py2.py3-none-any.whl.metadata (28 kB)\n",
      "Requirement already satisfied: decorator<6.0.0,>=5.1.1 in /srv/conda/lib/python3.11/site-packages (from wbdata) (5.1.1)\n",
      "Requirement already satisfied: requests<3.0,>=2.0 in /srv/conda/lib/python3.11/site-packages (from wbdata) (2.32.3)\n",
      "Collecting shelved-cache<0.4.0,>=0.3.1 (from wbdata)\n",
      "  Using cached shelved_cache-0.3.1-py3-none-any.whl.metadata (4.7 kB)\n",
      "Collecting tabulate<0.9.0,>=0.8.5 (from wbdata)\n",
      "  Using cached tabulate-0.8.10-py3-none-any.whl.metadata (25 kB)\n",
      "Requirement already satisfied: python-dateutil in /srv/conda/lib/python3.11/site-packages (from dateparser<2.0.0,>=1.2.0->wbdata) (2.9.0.post0)\n",
      "Requirement already satisfied: pytz in /srv/conda/lib/python3.11/site-packages (from dateparser<2.0.0,>=1.2.0->wbdata) (2024.1)\n",
      "Requirement already satisfied: regex!=2019.02.19,!=2021.8.27 in /srv/conda/lib/python3.11/site-packages (from dateparser<2.0.0,>=1.2.0->wbdata) (2024.11.6)\n",
      "Collecting tzlocal (from dateparser<2.0.0,>=1.2.0->wbdata)\n",
      "  Using cached tzlocal-5.2-py3-none-any.whl.metadata (7.8 kB)\n",
      "Requirement already satisfied: charset_normalizer<4,>=2 in /srv/conda/lib/python3.11/site-packages (from requests<3.0,>=2.0->wbdata) (3.4.0)\n",
      "Requirement already satisfied: idna<4,>=2.5 in /srv/conda/lib/python3.11/site-packages (from requests<3.0,>=2.0->wbdata) (3.10)\n",
      "Requirement already satisfied: urllib3<3,>=1.21.1 in /srv/conda/lib/python3.11/site-packages (from requests<3.0,>=2.0->wbdata) (2.3.0)\n",
      "Requirement already satisfied: certifi>=2017.4.17 in /srv/conda/lib/python3.11/site-packages (from requests<3.0,>=2.0->wbdata) (2024.12.14)\n",
      "Requirement already satisfied: six>=1.5 in /srv/conda/lib/python3.11/site-packages (from python-dateutil->dateparser<2.0.0,>=1.2.0->wbdata) (1.17.0)\n",
      "Using cached wbdata-1.0.0-py3-none-any.whl (18 kB)\n",
      "Using cached appdirs-1.4.4-py2.py3-none-any.whl (9.6 kB)\n",
      "Using cached backoff-2.2.1-py3-none-any.whl (15 kB)\n",
      "Using cached dateparser-1.2.0-py2.py3-none-any.whl (294 kB)\n",
      "Using cached shelved_cache-0.3.1-py3-none-any.whl (7.8 kB)\n",
      "Using cached tabulate-0.8.10-py3-none-any.whl (29 kB)\n",
      "Using cached tzlocal-5.2-py3-none-any.whl (17 kB)\n",
      "Installing collected packages: appdirs, tzlocal, tabulate, shelved-cache, backoff, dateparser, wbdata\n",
      "Successfully installed appdirs-1.4.4 backoff-2.2.1 dateparser-1.2.0 shelved-cache-0.3.1 tabulate-0.8.10 tzlocal-5.2 wbdata-1.0.0\n",
      "Note: you may need to restart the kernel to use updated packages.\n",
      "Requirement already satisfied: pandas in /srv/conda/lib/python3.11/site-packages (2.2.3)\n",
      "Requirement already satisfied: numpy>=1.23.2 in /srv/conda/lib/python3.11/site-packages (from pandas) (2.2.2)\n",
      "Requirement already satisfied: python-dateutil>=2.8.2 in /srv/conda/lib/python3.11/site-packages (from pandas) (2.9.0.post0)\n",
      "Requirement already satisfied: pytz>=2020.1 in /srv/conda/lib/python3.11/site-packages (from pandas) (2024.1)\n",
      "Requirement already satisfied: tzdata>=2022.7 in /srv/conda/lib/python3.11/site-packages (from pandas) (2025.1)\n",
      "Requirement already satisfied: six>=1.5 in /srv/conda/lib/python3.11/site-packages (from python-dateutil>=2.8.2->pandas) (1.17.0)\n",
      "Note: you may need to restart the kernel to use updated packages.\n",
      "Collecting iso3166\n",
      "  Downloading iso3166-2.1.1-py3-none-any.whl.metadata (6.6 kB)\n",
      "Downloading iso3166-2.1.1-py3-none-any.whl (9.8 kB)\n",
      "Installing collected packages: iso3166\n",
      "Successfully installed iso3166-2.1.1\n",
      "Note: you may need to restart the kernel to use updated packages.\n",
      "Collecting cufflinks\n",
      "  Downloading cufflinks-0.17.3.tar.gz (81 kB)\n",
      "  Preparing metadata (setup.py) ... \u001b[?25ldone\n",
      "\u001b[?25hRequirement already satisfied: numpy>=1.9.2 in /srv/conda/lib/python3.11/site-packages (from cufflinks) (2.2.2)\n",
      "Requirement already satisfied: pandas>=0.19.2 in /srv/conda/lib/python3.11/site-packages (from cufflinks) (2.2.3)\n",
      "Requirement already satisfied: plotly>=4.1.1 in /srv/conda/lib/python3.11/site-packages (from cufflinks) (5.24.1)\n",
      "Requirement already satisfied: six>=1.9.0 in /srv/conda/lib/python3.11/site-packages (from cufflinks) (1.17.0)\n",
      "Collecting colorlover>=0.2.1 (from cufflinks)\n",
      "  Downloading colorlover-0.3.0-py3-none-any.whl.metadata (421 bytes)\n",
      "Requirement already satisfied: setuptools>=34.4.1 in /srv/conda/lib/python3.11/site-packages (from cufflinks) (75.6.0)\n",
      "Requirement already satisfied: ipython>=5.3.0 in /srv/conda/lib/python3.11/site-packages (from cufflinks) (8.31.0)\n",
      "Requirement already satisfied: ipywidgets>=7.0.0 in /srv/conda/lib/python3.11/site-packages (from cufflinks) (8.1.5)\n",
      "Requirement already satisfied: decorator in /srv/conda/lib/python3.11/site-packages (from ipython>=5.3.0->cufflinks) (5.1.1)\n",
      "Requirement already satisfied: jedi>=0.16 in /srv/conda/lib/python3.11/site-packages (from ipython>=5.3.0->cufflinks) (0.19.2)\n",
      "Requirement already satisfied: matplotlib-inline in /srv/conda/lib/python3.11/site-packages (from ipython>=5.3.0->cufflinks) (0.1.7)\n",
      "Requirement already satisfied: pexpect>4.3 in /srv/conda/lib/python3.11/site-packages (from ipython>=5.3.0->cufflinks) (4.9.0)\n",
      "Requirement already satisfied: prompt_toolkit<3.1.0,>=3.0.41 in /srv/conda/lib/python3.11/site-packages (from ipython>=5.3.0->cufflinks) (3.0.50)\n",
      "Requirement already satisfied: pygments>=2.4.0 in /srv/conda/lib/python3.11/site-packages (from ipython>=5.3.0->cufflinks) (2.19.1)\n",
      "Requirement already satisfied: stack_data in /srv/conda/lib/python3.11/site-packages (from ipython>=5.3.0->cufflinks) (0.6.3)\n",
      "Requirement already satisfied: traitlets>=5.13.0 in /srv/conda/lib/python3.11/site-packages (from ipython>=5.3.0->cufflinks) (5.14.3)\n",
      "Requirement already satisfied: typing_extensions>=4.6 in /srv/conda/lib/python3.11/site-packages (from ipython>=5.3.0->cufflinks) (4.12.2)\n",
      "Requirement already satisfied: comm>=0.1.3 in /srv/conda/lib/python3.11/site-packages (from ipywidgets>=7.0.0->cufflinks) (0.2.2)\n",
      "Requirement already satisfied: widgetsnbextension~=4.0.12 in /srv/conda/lib/python3.11/site-packages (from ipywidgets>=7.0.0->cufflinks) (4.0.13)\n",
      "Requirement already satisfied: jupyterlab_widgets~=3.0.12 in /srv/conda/lib/python3.11/site-packages (from ipywidgets>=7.0.0->cufflinks) (3.0.13)\n",
      "Requirement already satisfied: python-dateutil>=2.8.2 in /srv/conda/lib/python3.11/site-packages (from pandas>=0.19.2->cufflinks) (2.9.0.post0)\n",
      "Requirement already satisfied: pytz>=2020.1 in /srv/conda/lib/python3.11/site-packages (from pandas>=0.19.2->cufflinks) (2024.1)\n",
      "Requirement already satisfied: tzdata>=2022.7 in /srv/conda/lib/python3.11/site-packages (from pandas>=0.19.2->cufflinks) (2025.1)\n",
      "Requirement already satisfied: tenacity>=6.2.0 in /srv/conda/lib/python3.11/site-packages (from plotly>=4.1.1->cufflinks) (9.0.0)\n",
      "Requirement already satisfied: packaging in /srv/conda/lib/python3.11/site-packages (from plotly>=4.1.1->cufflinks) (24.2)\n",
      "Requirement already satisfied: parso<0.9.0,>=0.8.4 in /srv/conda/lib/python3.11/site-packages (from jedi>=0.16->ipython>=5.3.0->cufflinks) (0.8.4)\n",
      "Requirement already satisfied: ptyprocess>=0.5 in /srv/conda/lib/python3.11/site-packages (from pexpect>4.3->ipython>=5.3.0->cufflinks) (0.7.0)\n",
      "Requirement already satisfied: wcwidth in /srv/conda/lib/python3.11/site-packages (from prompt_toolkit<3.1.0,>=3.0.41->ipython>=5.3.0->cufflinks) (0.2.13)\n",
      "Requirement already satisfied: executing>=1.2.0 in /srv/conda/lib/python3.11/site-packages (from stack_data->ipython>=5.3.0->cufflinks) (2.1.0)\n",
      "Requirement already satisfied: asttokens>=2.1.0 in /srv/conda/lib/python3.11/site-packages (from stack_data->ipython>=5.3.0->cufflinks) (3.0.0)\n",
      "Requirement already satisfied: pure_eval in /srv/conda/lib/python3.11/site-packages (from stack_data->ipython>=5.3.0->cufflinks) (0.2.3)\n",
      "Downloading colorlover-0.3.0-py3-none-any.whl (8.9 kB)\n",
      "Building wheels for collected packages: cufflinks\n",
      "  Building wheel for cufflinks (setup.py) ... \u001b[?25done\n",
      "\u001b[?25h  Created wheel for cufflinks: filename=cufflinks-0.17.3-py3-none-any.whl size=67896 sha256=5934514a1458ef0772bddaf4ae6febf98314d6a611659de6f9bf5ffaa37a41c3\n",
      "  Stored in directory: /home/jovyan/.cache/pip/wheels/c3/bf/8f/afa0730b29e347e8c1071049f89748c1262e7a14a838820ae6\n",
      "Successfully built cufflinks\n",
      "Installing collected packages: colorlover, cufflinks\n",
      "Successfully installed colorlover-0.3.0 cufflinks-0.17.3\n",
      "Note: you may need to restart the kernel to use updated packages.\n",
      "Collecting eep153_tools\n",
      "  Using cached eep153_tools-0.12.4-py2.py3-none-any.whl.metadata (363 bytes)\n",
      "Using cached eep153_tools-0.12.4-py2.py3-none-any.whl (4.9 kB)\n",
      "Installing collected packages: eep153_tools\n",
      "Successfully installed eep153_tools-0.12.4\n",
      "Note: you may need to restart the kernel to use updated packages.\n",
      "Requirement already satisfied: plotly in /srv/conda/lib/python3.11/site-packages (5.24.1)\n",
      "Requirement already satisfied: tenacity>=6.2.0 in /srv/conda/lib/python3.11/site-packages (from plotly) (9.0.0)\n",
      "Requirement already satisfied: packaging in /srv/conda/lib/python3.11/site-packages (from plotly) (24.2)\n",
      "Note: you may need to restart the kernel to use updated packages.\n"
     ]
    }
   ],
   "source": [
    "# If not installed, run this cell,\n",
    "%pip install wbdata\n",
    "%pip install pandas\n",
    "%pip install iso3166\n",
    "%pip install cufflinks\n",
    "%pip install eep153_tools\n",
    "%pip install plotly"
   ]
  },
  {
   "cell_type": "code",
   "execution_count": 3,
   "id": "f4c38e86-e725-4d93-92df-ed9800a88e82",
   "metadata": {
    "scrolled": true
   },
   "outputs": [
    {
     "name": "stderr",
     "output_type": "stream",
     "text": [
      "Key '-384388451178914377' not in persistent cache.\n",
      "Key '1037168221375151162' not in persistent cache.\n",
      "Key '8246528991876805257' not in persistent cache.\n",
      "Key '4556237735923035431' not in persistent cache.\n",
      "Key '7367241123440321398' not in persistent cache.\n",
      "Key '3604211329784794354' not in persistent cache.\n",
      "Key '6415214717302080321' not in persistent cache.\n",
      "Key '77251555697821798' not in persistent cache.\n",
      "Key '3342083657696380104' not in persistent cache.\n",
      "Key '3635089377627028292' not in persistent cache.\n",
      "Key '472924507900148920' not in persistent cache.\n",
      "Key '-408593577008418730' not in persistent cache.\n",
      "Key '4049687360091106273' not in persistent cache.\n",
      "Key '2395247906077169463' not in persistent cache.\n",
      "Key '-7698583144750918330' not in persistent cache.\n",
      "Key '-4887579757233632363' not in persistent cache.\n",
      "Key '1547566440590310055' not in persistent cache.\n",
      "Key '-9000093324719050077' not in persistent cache.\n",
      "Key '-5735261222720491771' not in persistent cache.\n",
      "Key '84652832817941896' not in persistent cache.\n",
      "Key '2895656220335227863' not in persistent cache.\n",
      "Key '3603722347365826165' not in persistent cache.\n",
      "Key '6414725734883112132' not in persistent cache.\n",
      "Key '-1746661441756783040' not in persistent cache.\n",
      "Key '-1583329959889985770' not in persistent cache.\n",
      "Key '-5273621215843755596' not in persistent cache.\n",
      "Key '2389568269139170838' not in persistent cache.\n",
      "Key '2682573989069819026' not in persistent cache.\n",
      "Key '4794593300655343958' not in persistent cache.\n",
      "Key '-3132954072888080517' not in persistent cache.\n",
      "Key '3972998769861933183' not in persistent cache.\n",
      "Key '2318559315847996373' not in persistent cache.\n",
      "Key '-7775271734980091420' not in persistent cache.\n",
      "Key '-565910964478437325' not in persistent cache.\n",
      "Key '1470877850361136965' not in persistent cache.\n",
      "Key '-9076781914948223167' not in persistent cache.\n",
      "Key '-1413592429965296733' not in persistent cache.\n",
      "Key '7964242588768806' not in persistent cache.\n",
      "Key '7217325013090422901' not in persistent cache.\n",
      "Key '3527033757136653075' not in persistent cache.\n",
      "Key '3690365239003450345' not in persistent cache.\n",
      "Key '2575007350998411998' not in persistent cache.\n",
      "Key '2738338832865209268' not in persistent cache.\n",
      "Key '-951952423088560558' not in persistent cache.\n",
      "Key '6711237061894365876' not in persistent cache.\n",
      "Key '7004242781825014064' not in persistent cache.\n",
      "Key '-671721299489903664' not in persistent cache.\n",
      "Key '-1553239384398471314' not in persistent cache.\n",
      "Key '5552713458351542386' not in persistent cache.\n",
      "Key '-3147755284297251249' not in persistent cache.\n",
      "Key '-6195557046490482217' not in persistent cache.\n",
      "Key '1013803724011171878' not in persistent cache.\n",
      "Key '3050592538850746168' not in persistent cache.\n",
      "Key '-7497067226458613964' not in persistent cache.\n",
      "Key '166122258524312470' not in persistent cache.\n",
      "Key '1587678931078378009' not in persistent cache.\n",
      "Key '8797039701580032104' not in persistent cache.\n",
      "Key '5106748445626262278' not in persistent cache.\n",
      "Key '5270079927493059548' not in persistent cache.\n",
      "Key '-2891307249146835624' not in persistent cache.\n",
      "Key '4318053521354818471' not in persistent cache.\n",
      "Key '627762265401048645' not in persistent cache.\n",
      "Key '3892594367399606951' not in persistent cache.\n",
      "Key '4185600087330255139' not in persistent cache.\n",
      "Key '2609634238537049631' not in persistent cache.\n",
      "Key '1728116153628481981' not in persistent cache.\n",
      "Key '-5214317694346687807' not in persistent cache.\n",
      "Key '133600253729702046' not in persistent cache.\n",
      "Key '-2914201508463528922' not in persistent cache.\n",
      "Key '4295159262038125173' not in persistent cache.\n",
      "Key '6331948076877699463' not in persistent cache.\n",
      "Key '182645694552707459' not in persistent cache.\n",
      "Key '3447477796551265765' not in persistent cache.\n",
      "Key '4869034469105331304' not in persistent cache.\n",
      "Key '-6368348834102566217' not in persistent cache.\n",
      "Key '8388103983653215573' not in persistent cache.\n",
      "Key '8551435465520012843' not in persistent cache.\n",
      "Key '390048288880117671' not in persistent cache.\n",
      "Key '7599409059381771766' not in persistent cache.\n",
      "Key '3909117803428001940' not in persistent cache.\n",
      "Key '-6874436785298623242' not in persistent cache.\n",
      "Key '-6581431065367975054' not in persistent cache.\n",
      "Key '105985385354219151' not in persistent cache.\n",
      "Key '-775532699554348499' not in persistent cache.\n",
      "Key '6330420143195665201' not in persistent cache.\n",
      "Key '-2370048599453128434' not in persistent cache.\n",
      "Key '-5417850361646359402' not in persistent cache.\n",
      "Key '-5254518879779562132' not in persistent cache.\n",
      "Key '-3217730064939987842' not in persistent cache.\n",
      "Key '-6719360541614491149' not in persistent cache.\n",
      "Key '943828943368435285' not in persistent cache.\n",
      "Key '2365385615922500824' not in persistent cache.\n",
      "Key '2528717097789298094' not in persistent cache.\n",
      "Key '-1161574158164471732' not in persistent cache.\n",
      "Key '6047786612337182363' not in persistent cache.\n",
      "Key '-2113600564302712809' not in persistent cache.\n",
      "Key '5095760206198941286' not in persistent cache.\n",
      "Key '1405468950245171460' not in persistent cache.\n",
      "Key '-2375728236391127059' not in persistent cache.\n",
      "Key '-2082722516460478871' not in persistent cache.\n",
      "Key '-5920247033397147850' not in persistent cache.\n",
      "Key '2302562571399893904' not in persistent cache.\n",
      "Key '1252780418272972471' not in persistent cache.\n",
      "Key '371262333364404821' not in persistent cache.\n",
      "Key '431185887479561696' not in persistent cache.\n",
      "Key '-1223253566534375114' not in persistent cache.\n",
      "Key '7129659456347088709' not in persistent cache.\n",
      "Key '-4107723846860808812' not in persistent cache.\n",
      "Key '-2070935032021234522' not in persistent cache.\n",
      "Key '-5572565508695737829' not in persistent cache.\n",
      "Key '-4955405312347668220' not in persistent cache.\n",
      "Key '3512180648841254144' not in persistent cache.\n",
      "Key '3675512130708051414' not in persistent cache.\n",
      "Key '-14779125245718412' not in persistent cache.\n",
      "Key '7194581645255935683' not in persistent cache.\n",
      "Key '-966805531383959489' not in persistent cache.\n",
      "Key '6242555239117694606' not in persistent cache.\n",
      "Key '-4493765305470932045' not in persistent cache.\n",
      "Key '3169424179511994389' not in persistent cache.\n",
      "Key '3462429899442642577' not in persistent cache.\n",
      "Key '1425439896457358186' not in persistent cache.\n",
      "Key '4942279194533158664' not in persistent cache.\n",
      "Key '5002202748648315539' not in persistent cache.\n",
      "Key '3347763294634378729' not in persistent cache.\n",
      "Key '-6746067756193709064' not in persistent cache.\n",
      "Key '463293014307945031' not in persistent cache.\n",
      "Key '2500081829147519321' not in persistent cache.\n",
      "Key '-1001548647526983986' not in persistent cache.\n",
      "Key '-384388451178914377' not in persistent cache.\n",
      "Key '1037168221375151162' not in persistent cache.\n",
      "Key '8246528991876805257' not in persistent cache.\n",
      "Key '4556237735923035431' not in persistent cache.\n",
      "Key '7367241123440321398' not in persistent cache.\n",
      "Key '3604211329784794354' not in persistent cache.\n",
      "Key '6415214717302080321' not in persistent cache.\n",
      "Key '77251555697821798' not in persistent cache.\n",
      "Key '3342083657696380104' not in persistent cache.\n",
      "Key '3635089377627028292' not in persistent cache.\n",
      "Key '472924507900148920' not in persistent cache.\n",
      "Key '-408593577008418730' not in persistent cache.\n",
      "Key '4049687360091106273' not in persistent cache.\n",
      "Key '2395247906077169463' not in persistent cache.\n",
      "Key '-7698583144750918330' not in persistent cache.\n",
      "Key '-4887579757233632363' not in persistent cache.\n",
      "Key '1547566440590310055' not in persistent cache.\n",
      "Key '-9000093324719050077' not in persistent cache.\n",
      "Key '-5735261222720491771' not in persistent cache.\n",
      "Key '84652832817941896' not in persistent cache.\n",
      "Key '2895656220335227863' not in persistent cache.\n",
      "Key '3603722347365826165' not in persistent cache.\n",
      "Key '6414725734883112132' not in persistent cache.\n",
      "Key '-1746661441756783040' not in persistent cache.\n",
      "Key '-1583329959889985770' not in persistent cache.\n",
      "Key '-5273621215843755596' not in persistent cache.\n",
      "Key '2389568269139170838' not in persistent cache.\n",
      "Key '2682573989069819026' not in persistent cache.\n",
      "Key '4794593300655343958' not in persistent cache.\n",
      "Key '-3132954072888080517' not in persistent cache.\n",
      "Key '3972998769861933183' not in persistent cache.\n",
      "Key '2318559315847996373' not in persistent cache.\n",
      "Key '-7775271734980091420' not in persistent cache.\n",
      "Key '-8645387572858873058' not in persistent cache.\n",
      "Key '-7937321445828274756' not in persistent cache.\n",
      "Key '6728225441244978341' not in persistent cache.\n",
      "Key '7021231161175626529' not in persistent cache.\n",
      "Key '8523124774935067900' not in persistent cache.\n",
      "Key '-2521795696083917490' not in persistent cache.\n",
      "Key '2733927508563557549' not in persistent cache.\n",
      "Key '2585377274201354476' not in persistent cache.\n",
      "Key '-1806212981286313511' not in persistent cache.\n",
      "Key '3942105668315856387' not in persistent cache.\n",
      "Key '-1967728012523756058' not in persistent cache.\n",
      "Key '7603720597982411357' not in persistent cache.\n",
      "Key '-2199021571917225791' not in persistent cache.\n",
      "Key '4819577004056229320' not in persistent cache.\n",
      "Key '8277809316887320672' not in persistent cache.\n",
      "Key '-83598078021844726' not in persistent cache.\n",
      "Key '4435728804904029371' not in persistent cache.\n",
      "Key '-2354308527346345082' not in persistent cache.\n",
      "Key '2818966646182012256' not in persistent cache.\n",
      "Key '1800469492637262750' not in persistent cache.\n",
      "Key '-7886174798075830749' not in persistent cache.\n",
      "Key '656624812739739742' not in persistent cache.\n",
      "Key '-1081953005769575278' not in persistent cache.\n",
      "Key '8431098831214023998' not in persistent cache.\n",
      "Key '-1818959576569205924' not in persistent cache.\n",
      "Key '-6186669671631487522' not in persistent cache.\n",
      "Key '-3190243877669491822' not in persistent cache.\n",
      "Key '-9052388680325617060' not in persistent cache.\n",
      "Key '-6698774899593397100' not in persistent cache.\n",
      "Key '5361220697565267446' not in persistent cache.\n",
      "Key '-4674881506627592112' not in persistent cache.\n",
      "Key '3832826738977706402' not in persistent cache.\n",
      "Key '3332989798691096588' not in persistent cache.\n",
      "Key '811127651492340147' not in persistent cache.\n",
      "Key '5794818088280572053' not in persistent cache.\n",
      "Key '993100129209272256' not in persistent cache.\n",
      "Key '-2255167786926080382' not in persistent cache.\n",
      "Key '6155148116865089564' not in persistent cache.\n",
      "Key '-608032920919874070' not in persistent cache.\n",
      "Key '4083641718232155160' not in persistent cache.\n",
      "Key '-726422597404791766' not in persistent cache.\n",
      "Key '4335647334121532320' not in persistent cache.\n",
      "Key '3958445080885541120' not in persistent cache.\n",
      "Key '2198942633041967671' not in persistent cache.\n",
      "Key '-426564682215827717' not in persistent cache.\n",
      "Key '-2672722182300706210' not in persistent cache.\n",
      "Key '3488239664354830344' not in persistent cache.\n",
      "Key '-7257335383671072494' not in persistent cache.\n",
      "Key '-5962596681477806403' not in persistent cache.\n",
      "Key '1276425082674092493' not in persistent cache.\n",
      "Key '-8858000745713532220' not in persistent cache.\n",
      "Key '8493539985902944973' not in persistent cache.\n",
      "Key '2693735148489224114' not in persistent cache.\n",
      "Key '1845872599005367803' not in persistent cache.\n",
      "Key '7958432329319535152' not in persistent cache.\n",
      "Key '-7219723371790311423' not in persistent cache.\n",
      "Key '1865092967521613080' not in persistent cache.\n",
      "Key '-4751638091504163632' not in persistent cache.\n",
      "Key '-1507550756610164904' not in persistent cache.\n",
      "Key '7961032635341564698' not in persistent cache.\n",
      "Key '4106165133353514593' not in persistent cache.\n",
      "Key '-3763781187836281328' not in persistent cache.\n",
      "Key '2314027727452280353' not in persistent cache.\n",
      "Key '4402014260484232887' not in persistent cache.\n",
      "Key '1438187230103993140' not in persistent cache.\n",
      "Key '6258454307539039847' not in persistent cache.\n",
      "Key '7531294625045553366' not in persistent cache.\n",
      "Key '-3678963461893920432' not in persistent cache.\n",
      "Key '270873181223047442' not in persistent cache.\n",
      "Key '-8415901407256347537' not in persistent cache.\n",
      "Key '5844483200776640105' not in persistent cache.\n",
      "Key '654368581301949445' not in persistent cache.\n",
      "Key '8908796337208117131' not in persistent cache.\n",
      "Key '-8185707952114485607' not in persistent cache.\n",
      "Key '-3549443412193555789' not in persistent cache.\n",
      "Key '2285602066246468643' not in persistent cache.\n",
      "Key '-3876674726524143168' not in persistent cache.\n",
      "Key '-5283284360185832468' not in persistent cache.\n",
      "Key '2542481865984890333' not in persistent cache.\n",
      "Key '-6487243821242031824' not in persistent cache.\n",
      "Key '-1533962901938988882' not in persistent cache.\n",
      "Key '8165070210477707174' not in persistent cache.\n",
      "Key '-8208717038198758959' not in persistent cache.\n",
      "Key '-1744322061891522006' not in persistent cache.\n",
      "Key '446298814589318215' not in persistent cache.\n",
      "Key '-170033418804243833' not in persistent cache.\n",
      "Key '-4296220011559289705' not in persistent cache.\n",
      "Key '2419513105116402321' not in persistent cache.\n",
      "Key '8753576219594531707' not in persistent cache.\n",
      "Key '-5694323355020436776' not in persistent cache.\n",
      "Key '3274936524212286267' not in persistent cache.\n",
      "Key '-5327745414841781287' not in persistent cache.\n",
      "Key '-3913925224145512794' not in persistent cache.\n",
      "Key '8029002957387461589' not in persistent cache.\n",
      "Key '4423414675586803505' not in persistent cache.\n",
      "Key '-1636602672232218003' not in persistent cache.\n",
      "Key '2738146653731138115' not in persistent cache.\n",
      "Key '1878437001481998489' not in persistent cache.\n",
      "Key '8407810947158960462' not in persistent cache.\n",
      "Key '-4601233978951518571' not in persistent cache.\n",
      "Key '-7727271148049631726' not in persistent cache.\n",
      "Key '1161516707671621692' not in persistent cache.\n",
      "Key '4678356005747422170' not in persistent cache.\n",
      "Key '4738279559862579045' not in persistent cache.\n",
      "Key '3083840105848642235' not in persistent cache.\n",
      "Key '-7009990944979445558' not in persistent cache.\n",
      "Key '-4198987557462159591' not in persistent cache.\n",
      "Key '2236158640361782827' not in persistent cache.\n",
      "Key '-1265471836312720480' not in persistent cache.\n",
      "Key '-5046669022949018999' not in persistent cache.\n",
      "Key '773245032589414668' not in persistent cache.\n",
      "Key '3584248420106700635' not in persistent cache.\n",
      "Key '4292314547137298937' not in persistent cache.\n",
      "Key '7103317934654584904' not in persistent cache.\n",
      "Key '-1058069241985310268' not in persistent cache.\n",
      "Key '6151291528516343827' not in persistent cache.\n",
      "Key '-4585029016072282824' not in persistent cache.\n",
      "Key '3078160468910643610' not in persistent cache.\n",
      "Key '3371166188841291798' not in persistent cache.\n",
      "Key '4663205265752178606' not in persistent cache.\n",
      "Key '3781687180843610956' not in persistent cache.\n",
      "Key '-3160746667131558832' not in persistent cache.\n",
      "Key '6585528663929199149' not in persistent cache.\n",
      "Key '3537726901735968181' not in persistent cache.\n",
      "Key '-697298999381602677' not in persistent cache.\n",
      "Key '5737847198442339741' not in persistent cache.\n",
      "Key '2236216721767836434' not in persistent cache.\n",
      "Key '5501048823766394740' not in persistent cache.\n",
      "Key '-7125781194404723209' not in persistent cache.\n",
      "Key '7085936978187257549' not in persistent cache.\n",
      "Key '7794003105217855851' not in persistent cache.\n",
      "Key '-7841737580974409798' not in persistent cache.\n",
      "Key '2443619316095246646' not in persistent cache.\n",
      "Key '-8793763987112650875' not in persistent cache.\n",
      "Key '5962688830643130915' not in persistent cache.\n",
      "Key '6579849026991200524' not in persistent cache.\n",
      "Key '6872854746921848712' not in persistent cache.\n",
      "Key '-4531515614642572331' not in persistent cache.\n",
      "Key '-5413033699551139981' not in persistent cache.\n",
      "Key '-5353110145435983106' not in persistent cache.\n",
      "Key '-7007549599449919916' not in persistent cache.\n",
      "Key '1345363423431543907' not in persistent cache.\n",
      "Key '8554724193933198002' not in persistent cache.\n",
      "Key '-7855231064936779324' not in persistent cache.\n",
      "Key '7089882532098268985' not in persistent cache.\n",
      "Key '7707042728446338594' not in persistent cache.\n",
      "Key '-2272115384074290658' not in persistent cache.\n",
      "Key '-2108783902207493388' not in persistent cache.\n",
      "Key '-5799075158161263214' not in persistent cache.\n",
      "Key '1410285612340390881' not in persistent cache.\n",
      "Key '-6751101564299504291' not in persistent cache.\n",
      "Key '-3940098176782218324' not in persistent cache.\n",
      "Key '-3232032049751620022' not in persistent cache.\n",
      "Key '-7013229236387918541' not in persistent cache.\n",
      "Key '-6720223516457270353' not in persistent cache.\n",
      "Key '1925124469213425672' not in persistent cache.\n",
      "Key '1043606384304858022' not in persistent cache.\n",
      "Key '-5898827463670311766' not in persistent cache.\n",
      "Key '-550909515593921913' not in persistent cache.\n",
      "Key '-3598711277787152881' not in persistent cache.\n",
      "Key '3610649492714501214' not in persistent cache.\n",
      "Key '5647438307554075504' not in persistent cache.\n",
      "Key '-501864074770916500' not in persistent cache.\n",
      "Key '2762968027227641806' not in persistent cache.\n",
      "Key '4184524699781707345' not in persistent cache.\n",
      "Key '-7052858603426190176' not in persistent cache.\n",
      "Key '7703594214329591614' not in persistent cache.\n",
      "Key '7866925696196388884' not in persistent cache.\n",
      "Key '-294461480443506288' not in persistent cache.\n",
      "Key '6914899290058147807' not in persistent cache.\n",
      "Key '3224608034104377981' not in persistent cache.\n",
      "Key '-7558946554622247201' not in persistent cache.\n",
      "Key '-7265940834691599013' not in persistent cache.\n",
      "Key '7978560585130828681' not in persistent cache.\n",
      "Key '-9044996676559990860' not in persistent cache.\n",
      "Key '-308148107916087273' not in persistent cache.\n",
      "Key '5741914253268135971' not in persistent cache.\n",
      "Key '-4215391669388796797' not in persistent cache.\n",
      "Key '-3578768451713710018' not in persistent cache.\n",
      "Key '-6981913406988129836' not in persistent cache.\n",
      "Key '4375723744344176874' not in persistent cache.\n",
      "Key '-4189077110081353160' not in persistent cache.\n",
      "Key '7667492833304644700' not in persistent cache.\n",
      "Key '-8933097188248907950' not in persistent cache.\n",
      "Key '-3397461890567746490' not in persistent cache.\n",
      "Key '-3529395872782913188' not in persistent cache.\n",
      "Key '5164094010892350439' not in persistent cache.\n",
      "Key '1946882262939315232' not in persistent cache.\n",
      "Key '2222257489168211987' not in persistent cache.\n",
      "Key '-4834607692918764212' not in persistent cache.\n",
      "Key '1844556150604168116' not in persistent cache.\n",
      "Key '-2772793815095391857' not in persistent cache.\n",
      "Key '7439991611574350331' not in persistent cache.\n",
      "Key '447668432486827652' not in persistent cache.\n",
      "Key '5756691279143454499' not in persistent cache.\n",
      "Key '-8348613555521858843' not in persistent cache.\n",
      "Key '-8239670132104152921' not in persistent cache.\n",
      "Key '-4511741124772655799' not in persistent cache.\n",
      "Key '-4538027040918396750' not in persistent cache.\n",
      "Key '-6575505043892552299' not in persistent cache.\n",
      "Key '4974076910975556552' not in persistent cache.\n",
      "Key '-5481831046066831464' not in persistent cache.\n",
      "Key '716241281778798927' not in persistent cache.\n",
      "Key '2801644306721597602' not in persistent cache.\n",
      "Key '-2319412408034083690' not in persistent cache.\n",
      "Key '-3755182969695601242' not in persistent cache.\n",
      "Key '-1896641030787651297' not in persistent cache.\n",
      "Key '5755880549247088270' not in persistent cache.\n",
      "Key '-2188057434617587509' not in persistent cache.\n",
      "Key '5869950406630787805' not in persistent cache.\n",
      "Key '7169292734105518224' not in persistent cache.\n",
      "Key '-6230953725716329467' not in persistent cache.\n",
      "Key '-2700875928509362985' not in persistent cache.\n",
      "Key '-923879797705544820' not in persistent cache.\n",
      "Key '-6516639089435506111' not in persistent cache.\n",
      "Key '1122867824782849594' not in persistent cache.\n",
      "Key '-4275009968922902514' not in persistent cache.\n",
      "Key '-3774030312028601889' not in persistent cache.\n",
      "Key '-2095505507924507234' not in persistent cache.\n",
      "Key '-1437317619391864082' not in persistent cache.\n",
      "Key '3875133997165393190' not in persistent cache.\n",
      "Key '-3363921443397102528' not in persistent cache.\n",
      "Key '831132118362637195' not in persistent cache.\n",
      "Key '-3469323552664686036' not in persistent cache.\n",
      "Key '811137392730923285' not in persistent cache.\n",
      "Key '-2285601547300415366' not in persistent cache.\n",
      "Key '-5355881677650262861' not in persistent cache.\n",
      "Key '1628436217852041407' not in persistent cache.\n",
      "Key '7767807855423874611' not in persistent cache.\n",
      "Key '7696475513309729286' not in persistent cache.\n",
      "Key '5027601685329504591' not in persistent cache.\n",
      "Key '-6825163021566703128' not in persistent cache.\n",
      "Key '-8025736725059536962' not in persistent cache.\n",
      "Key '-7779638021838945964' not in persistent cache.\n",
      "Key '-2830903967759198172' not in persistent cache.\n",
      "Key '-4948554286115700985' not in persistent cache.\n",
      "Key '7050061419393432514' not in persistent cache.\n",
      "Key '2274959739048390257' not in persistent cache.\n",
      "Key '-3482077346248030975' not in persistent cache.\n",
      "Key '-3141798437568746168' not in persistent cache.\n",
      "Key '4506853610153435461' not in persistent cache.\n",
      "Key '4474212197612427317' not in persistent cache.\n",
      "Key '-7394648237682175429' not in persistent cache.\n",
      "Key '-7544279293132160128' not in persistent cache.\n",
      "Key '-8381670713905648190' not in persistent cache.\n",
      "Key '3563184440468933115' not in persistent cache.\n",
      "Key '242540537593806518' not in persistent cache.\n",
      "Key '-5888032042351094930' not in persistent cache.\n",
      "Key '7986795403242780361' not in persistent cache.\n",
      "Key '-7420573002933219545' not in persistent cache.\n",
      "Key '-3455467912764773335' not in persistent cache.\n",
      "Key '-4105144919411018529' not in persistent cache.\n",
      "Key '5666613526201831025' not in persistent cache.\n",
      "Key '-3837556766050289354' not in persistent cache.\n",
      "Key '-6123431744348263919' not in persistent cache.\n",
      "Key '-8758829211979756319' not in persistent cache.\n",
      "Key '-268365914986116943' not in persistent cache.\n",
      "Key '543843157288647688' not in persistent cache.\n",
      "Key '-9037099785086000039' not in persistent cache.\n",
      "Key '8890884894613825319' not in persistent cache.\n",
      "Key '2163547908060905590' not in persistent cache.\n",
      "Key '2565649670639723412' not in persistent cache.\n",
      "Key '-1764004469995145002' not in persistent cache.\n",
      "Key '5982584634179543090' not in persistent cache.\n",
      "Key '1413398063089154837' not in persistent cache.\n",
      "Key '-3339604501711679685' not in persistent cache.\n",
      "Key '-4510750454180532344' not in persistent cache.\n",
      "Key '19251962873579192' not in persistent cache.\n",
      "Key '-6239257572480951710' not in persistent cache.\n",
      "Key '-6617370693163116260' not in persistent cache.\n",
      "Key '-6907315157905196401' not in persistent cache.\n",
      "Key '5789324677530990262' not in persistent cache.\n",
      "Key '2764069856360285441' not in persistent cache.\n",
      "Key '2129233753756854874' not in persistent cache.\n",
      "Key '-6428143199570252989' not in persistent cache.\n",
      "Key '8230808533397307227' not in persistent cache.\n",
      "Key '-2159377522789312985' not in persistent cache.\n",
      "Key '-6614770423430794197' not in persistent cache.\n",
      "Key '-1060092471370705816' not in persistent cache.\n",
      "Key '-8150961985380674617' not in persistent cache.\n",
      "Key '-613455925793443513' not in persistent cache.\n",
      "Key '-3858423107871003916' not in persistent cache.\n",
      "Key '-1952286524104363891' not in persistent cache.\n",
      "Key '-8765295614808914083' not in persistent cache.\n",
      "Key '7248406118752351879' not in persistent cache.\n",
      "Key '3469417793823573578' not in persistent cache.\n",
      "Key '5969289149616489609' not in persistent cache.\n",
      "Key '5334340112310260665' not in persistent cache.\n",
      "Key '8056743373504266945' not in persistent cache.\n",
      "Key '-5694323355020436776' not in persistent cache.\n",
      "Key '-5327745414841781287' not in persistent cache.\n",
      "Key '6418439926772877882' not in persistent cache.\n",
      "Key '-26394896608594912' not in persistent cache.\n",
      "Key '-8415901407256347537' not in persistent cache.\n",
      "Key '5844483200776640105' not in persistent cache.\n",
      "Key '654368581301949445' not in persistent cache.\n",
      "Key '8908796337208117131' not in persistent cache.\n",
      "Key '-8185707952114485607' not in persistent cache.\n",
      "Key '-3549443412193555789' not in persistent cache.\n",
      "Key '4985965355861395465' not in persistent cache.\n",
      "Key '-7377624565183662438' not in persistent cache.\n",
      "Key '5236138614704765433' not in persistent cache.\n",
      "Key '4646624923590576660' not in persistent cache.\n",
      "Key '-1905195894449916397' not in persistent cache.\n",
      "Key '-6172355839840188343' not in persistent cache.\n",
      "Key '-8824294170312360448' not in persistent cache.\n",
      "Key '-3971861661222772140' not in persistent cache.\n",
      "Key '9034503535749255304' not in persistent cache.\n",
      "Key '1742147001237158090' not in persistent cache.\n",
      "Key '6188024596329838952' not in persistent cache.\n",
      "Key '340639472830615208' not in persistent cache.\n",
      "Key '-8217046748351318125' not in persistent cache.\n",
      "Key '8872967929468414629' not in persistent cache.\n",
      "Key '-266546650543155055' not in persistent cache.\n",
      "Key '3274936524212286267' not in persistent cache.\n",
      "Key '-3913925224145512794' not in persistent cache.\n",
      "Key '1527832397394615460' not in persistent cache.\n",
      "Key '-715013982326409397' not in persistent cache.\n",
      "Key '4021629574611101718' not in persistent cache.\n",
      "Key '-384388451178914377' not in persistent cache.\n",
      "Key '1037168221375151162' not in persistent cache.\n",
      "Key '8246528991876805257' not in persistent cache.\n",
      "Key '4556237735923035431' not in persistent cache.\n",
      "Key '7367241123440321398' not in persistent cache.\n",
      "Key '3604211329784794354' not in persistent cache.\n",
      "Key '6415214717302080321' not in persistent cache.\n",
      "Key '77251555697821798' not in persistent cache.\n",
      "Key '3342083657696380104' not in persistent cache.\n",
      "Key '3635089377627028292' not in persistent cache.\n",
      "Key '472924507900148920' not in persistent cache.\n",
      "Key '-408593577008418730' not in persistent cache.\n",
      "Key '4049687360091106273' not in persistent cache.\n",
      "Key '2395247906077169463' not in persistent cache.\n",
      "Key '-7698583144750918330' not in persistent cache.\n",
      "Key '-4887579757233632363' not in persistent cache.\n",
      "Key '1547566440590310055' not in persistent cache.\n",
      "Key '-9000093324719050077' not in persistent cache.\n",
      "Key '-5735261222720491771' not in persistent cache.\n",
      "Key '84652832817941896' not in persistent cache.\n",
      "Key '2895656220335227863' not in persistent cache.\n",
      "Key '3603722347365826165' not in persistent cache.\n",
      "Key '6414725734883112132' not in persistent cache.\n",
      "Key '-1746661441756783040' not in persistent cache.\n",
      "Key '-1583329959889985770' not in persistent cache.\n",
      "Key '-5273621215843755596' not in persistent cache.\n",
      "Key '2389568269139170838' not in persistent cache.\n",
      "Key '2682573989069819026' not in persistent cache.\n",
      "Key '4794593300655343958' not in persistent cache.\n",
      "Key '-3132954072888080517' not in persistent cache.\n",
      "Key '3972998769861933183' not in persistent cache.\n",
      "Key '2318559315847996373' not in persistent cache.\n",
      "Key '-7775271734980091420' not in persistent cache.\n",
      "Key '-565910964478437325' not in persistent cache.\n",
      "Key '1470877850361136965' not in persistent cache.\n",
      "Key '-9076781914948223167' not in persistent cache.\n",
      "Key '-1413592429965296733' not in persistent cache.\n",
      "Key '7964242588768806' not in persistent cache.\n",
      "Key '7217325013090422901' not in persistent cache.\n",
      "Key '3527033757136653075' not in persistent cache.\n",
      "Key '3690365239003450345' not in persistent cache.\n",
      "Key '2575007350998411998' not in persistent cache.\n",
      "Key '2738338832865209268' not in persistent cache.\n",
      "Key '-951952423088560558' not in persistent cache.\n",
      "Key '6711237061894365876' not in persistent cache.\n",
      "Key '7004242781825014064' not in persistent cache.\n",
      "Key '-671721299489903664' not in persistent cache.\n",
      "Key '-1553239384398471314' not in persistent cache.\n",
      "Key '5552713458351542386' not in persistent cache.\n",
      "Key '-3147755284297251249' not in persistent cache.\n",
      "Key '-6195557046490482217' not in persistent cache.\n",
      "Key '1013803724011171878' not in persistent cache.\n",
      "Key '3050592538850746168' not in persistent cache.\n",
      "Key '-7497067226458613964' not in persistent cache.\n",
      "Key '166122258524312470' not in persistent cache.\n",
      "Key '1587678931078378009' not in persistent cache.\n",
      "Key '8797039701580032104' not in persistent cache.\n",
      "Key '5106748445626262278' not in persistent cache.\n",
      "Key '5270079927493059548' not in persistent cache.\n",
      "Key '-2891307249146835624' not in persistent cache.\n",
      "Key '4318053521354818471' not in persistent cache.\n",
      "Key '627762265401048645' not in persistent cache.\n",
      "Key '3892594367399606951' not in persistent cache.\n",
      "Key '4185600087330255139' not in persistent cache.\n",
      "Key '2609634238537049631' not in persistent cache.\n",
      "Key '1728116153628481981' not in persistent cache.\n",
      "Key '-5214317694346687807' not in persistent cache.\n",
      "Key '133600253729702046' not in persistent cache.\n",
      "Key '-2914201508463528922' not in persistent cache.\n",
      "Key '4295159262038125173' not in persistent cache.\n",
      "Key '6331948076877699463' not in persistent cache.\n",
      "Key '182645694552707459' not in persistent cache.\n",
      "Key '3447477796551265765' not in persistent cache.\n",
      "Key '4869034469105331304' not in persistent cache.\n",
      "Key '-6368348834102566217' not in persistent cache.\n",
      "Key '8388103983653215573' not in persistent cache.\n",
      "Key '8551435465520012843' not in persistent cache.\n",
      "Key '390048288880117671' not in persistent cache.\n",
      "Key '7599409059381771766' not in persistent cache.\n",
      "Key '3909117803428001940' not in persistent cache.\n",
      "Key '-6874436785298623242' not in persistent cache.\n",
      "Key '-6581431065367975054' not in persistent cache.\n",
      "Key '105985385354219151' not in persistent cache.\n",
      "Key '-775532699554348499' not in persistent cache.\n",
      "Key '6330420143195665201' not in persistent cache.\n",
      "Key '-2370048599453128434' not in persistent cache.\n",
      "Key '-5417850361646359402' not in persistent cache.\n",
      "Key '-5254518879779562132' not in persistent cache.\n",
      "Key '-3217730064939987842' not in persistent cache.\n",
      "Key '-6719360541614491149' not in persistent cache.\n",
      "Key '943828943368435285' not in persistent cache.\n",
      "Key '2365385615922500824' not in persistent cache.\n",
      "Key '2528717097789298094' not in persistent cache.\n",
      "Key '-1161574158164471732' not in persistent cache.\n",
      "Key '6047786612337182363' not in persistent cache.\n",
      "Key '-2113600564302712809' not in persistent cache.\n",
      "Key '5095760206198941286' not in persistent cache.\n",
      "Key '1405468950245171460' not in persistent cache.\n",
      "Key '-2375728236391127059' not in persistent cache.\n",
      "Key '-2082722516460478871' not in persistent cache.\n",
      "Key '-5920247033397147850' not in persistent cache.\n",
      "Key '2302562571399893904' not in persistent cache.\n",
      "Key '1252780418272972471' not in persistent cache.\n",
      "Key '371262333364404821' not in persistent cache.\n",
      "Key '431185887479561696' not in persistent cache.\n",
      "Key '-1223253566534375114' not in persistent cache.\n",
      "Key '7129659456347088709' not in persistent cache.\n",
      "Key '-4107723846860808812' not in persistent cache.\n",
      "Key '-2070935032021234522' not in persistent cache.\n",
      "Key '-5572565508695737829' not in persistent cache.\n",
      "Key '-4955405312347668220' not in persistent cache.\n",
      "Key '3512180648841254144' not in persistent cache.\n",
      "Key '3675512130708051414' not in persistent cache.\n",
      "Key '-14779125245718412' not in persistent cache.\n",
      "Key '7194581645255935683' not in persistent cache.\n",
      "Key '-966805531383959489' not in persistent cache.\n",
      "Key '6242555239117694606' not in persistent cache.\n",
      "Key '-4493765305470932045' not in persistent cache.\n",
      "Key '3169424179511994389' not in persistent cache.\n",
      "Key '3462429899442642577' not in persistent cache.\n",
      "Key '1425439896457358186' not in persistent cache.\n",
      "Key '4942279194533158664' not in persistent cache.\n",
      "Key '5002202748648315539' not in persistent cache.\n",
      "Key '3347763294634378729' not in persistent cache.\n",
      "Key '-6746067756193709064' not in persistent cache.\n",
      "Key '463293014307945031' not in persistent cache.\n",
      "Key '2500081829147519321' not in persistent cache.\n",
      "Key '-1001548647526983986' not in persistent cache.\n",
      "Key '-384388451178914377' not in persistent cache.\n",
      "Key '1037168221375151162' not in persistent cache.\n",
      "Key '8246528991876805257' not in persistent cache.\n",
      "Key '4556237735923035431' not in persistent cache.\n",
      "Key '7367241123440321398' not in persistent cache.\n",
      "Key '3604211329784794354' not in persistent cache.\n",
      "Key '6415214717302080321' not in persistent cache.\n",
      "Key '77251555697821798' not in persistent cache.\n",
      "Key '3342083657696380104' not in persistent cache.\n",
      "Key '3635089377627028292' not in persistent cache.\n",
      "Key '472924507900148920' not in persistent cache.\n",
      "Key '-408593577008418730' not in persistent cache.\n",
      "Key '4049687360091106273' not in persistent cache.\n",
      "Key '2395247906077169463' not in persistent cache.\n",
      "Key '-7698583144750918330' not in persistent cache.\n",
      "Key '-4887579757233632363' not in persistent cache.\n",
      "Key '1547566440590310055' not in persistent cache.\n",
      "Key '-9000093324719050077' not in persistent cache.\n",
      "Key '-5735261222720491771' not in persistent cache.\n",
      "Key '84652832817941896' not in persistent cache.\n",
      "Key '2895656220335227863' not in persistent cache.\n",
      "Key '3603722347365826165' not in persistent cache.\n",
      "Key '6414725734883112132' not in persistent cache.\n",
      "Key '-1746661441756783040' not in persistent cache.\n",
      "Key '-1583329959889985770' not in persistent cache.\n",
      "Key '-5273621215843755596' not in persistent cache.\n",
      "Key '2389568269139170838' not in persistent cache.\n",
      "Key '2682573989069819026' not in persistent cache.\n",
      "Key '4794593300655343958' not in persistent cache.\n",
      "Key '-3132954072888080517' not in persistent cache.\n",
      "Key '3972998769861933183' not in persistent cache.\n",
      "Key '2318559315847996373' not in persistent cache.\n",
      "Key '-7775271734980091420' not in persistent cache.\n",
      "Key '-8645387572858873058' not in persistent cache.\n",
      "Key '-7937321445828274756' not in persistent cache.\n",
      "Key '6728225441244978341' not in persistent cache.\n",
      "Key '7021231161175626529' not in persistent cache.\n",
      "Key '8523124774935067900' not in persistent cache.\n",
      "Key '-2521795696083917490' not in persistent cache.\n",
      "Key '2733927508563557549' not in persistent cache.\n",
      "Key '2585377274201354476' not in persistent cache.\n",
      "Key '-1806212981286313511' not in persistent cache.\n",
      "Key '3942105668315856387' not in persistent cache.\n",
      "Key '-1967728012523756058' not in persistent cache.\n",
      "Key '7603720597982411357' not in persistent cache.\n",
      "Key '-2199021571917225791' not in persistent cache.\n",
      "Key '4819577004056229320' not in persistent cache.\n",
      "Key '8277809316887320672' not in persistent cache.\n",
      "Key '-83598078021844726' not in persistent cache.\n",
      "Key '4435728804904029371' not in persistent cache.\n",
      "Key '-2354308527346345082' not in persistent cache.\n",
      "Key '2818966646182012256' not in persistent cache.\n",
      "Key '1800469492637262750' not in persistent cache.\n",
      "Key '-7886174798075830749' not in persistent cache.\n",
      "Key '656624812739739742' not in persistent cache.\n",
      "Key '-1081953005769575278' not in persistent cache.\n",
      "Key '8431098831214023998' not in persistent cache.\n",
      "Key '-1818959576569205924' not in persistent cache.\n",
      "Key '-6186669671631487522' not in persistent cache.\n",
      "Key '-3190243877669491822' not in persistent cache.\n",
      "Key '-9052388680325617060' not in persistent cache.\n",
      "Key '-6698774899593397100' not in persistent cache.\n",
      "Key '5361220697565267446' not in persistent cache.\n",
      "Key '-4674881506627592112' not in persistent cache.\n",
      "Key '3832826738977706402' not in persistent cache.\n",
      "Key '3332989798691096588' not in persistent cache.\n",
      "Key '811127651492340147' not in persistent cache.\n",
      "Key '5794818088280572053' not in persistent cache.\n",
      "Key '993100129209272256' not in persistent cache.\n",
      "Key '-2255167786926080382' not in persistent cache.\n",
      "Key '6155148116865089564' not in persistent cache.\n",
      "Key '-608032920919874070' not in persistent cache.\n",
      "Key '4083641718232155160' not in persistent cache.\n",
      "Key '-726422597404791766' not in persistent cache.\n",
      "Key '4335647334121532320' not in persistent cache.\n",
      "Key '3958445080885541120' not in persistent cache.\n",
      "Key '2198942633041967671' not in persistent cache.\n",
      "Key '-426564682215827717' not in persistent cache.\n",
      "Key '-2672722182300706210' not in persistent cache.\n",
      "Key '3488239664354830344' not in persistent cache.\n",
      "Key '-7257335383671072494' not in persistent cache.\n",
      "Key '-5962596681477806403' not in persistent cache.\n",
      "Key '1276425082674092493' not in persistent cache.\n",
      "Key '-8858000745713532220' not in persistent cache.\n",
      "Key '8493539985902944973' not in persistent cache.\n",
      "Key '2693735148489224114' not in persistent cache.\n",
      "Key '1845872599005367803' not in persistent cache.\n",
      "Key '7958432329319535152' not in persistent cache.\n",
      "Key '-7219723371790311423' not in persistent cache.\n",
      "Key '1865092967521613080' not in persistent cache.\n",
      "Key '-4751638091504163632' not in persistent cache.\n",
      "Key '-1507550756610164904' not in persistent cache.\n",
      "Key '7961032635341564698' not in persistent cache.\n",
      "Key '4106165133353514593' not in persistent cache.\n",
      "Key '-3763781187836281328' not in persistent cache.\n",
      "Key '2314027727452280353' not in persistent cache.\n",
      "Key '4402014260484232887' not in persistent cache.\n",
      "Key '1438187230103993140' not in persistent cache.\n",
      "Key '6258454307539039847' not in persistent cache.\n",
      "Key '7531294625045553366' not in persistent cache.\n",
      "Key '-3678963461893920432' not in persistent cache.\n",
      "Key '270873181223047442' not in persistent cache.\n",
      "Key '-8415901407256347537' not in persistent cache.\n",
      "Key '5844483200776640105' not in persistent cache.\n",
      "Key '654368581301949445' not in persistent cache.\n",
      "Key '8908796337208117131' not in persistent cache.\n",
      "Key '-8185707952114485607' not in persistent cache.\n",
      "Key '-3549443412193555789' not in persistent cache.\n",
      "Key '2285602066246468643' not in persistent cache.\n",
      "Key '-3876674726524143168' not in persistent cache.\n",
      "Key '-5283284360185832468' not in persistent cache.\n",
      "Key '2542481865984890333' not in persistent cache.\n",
      "Key '-6487243821242031824' not in persistent cache.\n",
      "Key '-1533962901938988882' not in persistent cache.\n",
      "Key '8165070210477707174' not in persistent cache.\n",
      "Key '-8208717038198758959' not in persistent cache.\n",
      "Key '-1744322061891522006' not in persistent cache.\n",
      "Key '446298814589318215' not in persistent cache.\n",
      "Key '-170033418804243833' not in persistent cache.\n",
      "Key '-4296220011559289705' not in persistent cache.\n",
      "Key '2419513105116402321' not in persistent cache.\n",
      "Key '8753576219594531707' not in persistent cache.\n",
      "Key '-5694323355020436776' not in persistent cache.\n",
      "Key '3274936524212286267' not in persistent cache.\n",
      "Key '-5327745414841781287' not in persistent cache.\n",
      "Key '-3913925224145512794' not in persistent cache.\n",
      "Key '8029002957387461589' not in persistent cache.\n",
      "Key '4423414675586803505' not in persistent cache.\n",
      "Key '-1636602672232218003' not in persistent cache.\n",
      "Key '2738146653731138115' not in persistent cache.\n",
      "Key '1878437001481998489' not in persistent cache.\n",
      "Key '8407810947158960462' not in persistent cache.\n",
      "Key '-4601233978951518571' not in persistent cache.\n",
      "Key '-7727271148049631726' not in persistent cache.\n",
      "Key '1161516707671621692' not in persistent cache.\n",
      "Key '4678356005747422170' not in persistent cache.\n",
      "Key '4738279559862579045' not in persistent cache.\n",
      "Key '3083840105848642235' not in persistent cache.\n",
      "Key '-7009990944979445558' not in persistent cache.\n",
      "Key '-4198987557462159591' not in persistent cache.\n",
      "Key '2236158640361782827' not in persistent cache.\n",
      "Key '-1265471836312720480' not in persistent cache.\n",
      "Key '-5046669022949018999' not in persistent cache.\n",
      "Key '773245032589414668' not in persistent cache.\n",
      "Key '3584248420106700635' not in persistent cache.\n",
      "Key '4292314547137298937' not in persistent cache.\n",
      "Key '7103317934654584904' not in persistent cache.\n",
      "Key '-1058069241985310268' not in persistent cache.\n",
      "Key '6151291528516343827' not in persistent cache.\n",
      "Key '-4585029016072282824' not in persistent cache.\n",
      "Key '3078160468910643610' not in persistent cache.\n",
      "Key '3371166188841291798' not in persistent cache.\n",
      "Key '4663205265752178606' not in persistent cache.\n",
      "Key '3781687180843610956' not in persistent cache.\n",
      "Key '-3160746667131558832' not in persistent cache.\n",
      "Key '6585528663929199149' not in persistent cache.\n",
      "Key '3537726901735968181' not in persistent cache.\n",
      "Key '-697298999381602677' not in persistent cache.\n",
      "Key '5737847198442339741' not in persistent cache.\n",
      "Key '2236216721767836434' not in persistent cache.\n",
      "Key '5501048823766394740' not in persistent cache.\n",
      "Key '-7125781194404723209' not in persistent cache.\n",
      "Key '7085936978187257549' not in persistent cache.\n",
      "Key '7794003105217855851' not in persistent cache.\n",
      "Key '-7841737580974409798' not in persistent cache.\n",
      "Key '2443619316095246646' not in persistent cache.\n",
      "Key '-8793763987112650875' not in persistent cache.\n",
      "Key '5962688830643130915' not in persistent cache.\n",
      "Key '6579849026991200524' not in persistent cache.\n",
      "Key '6872854746921848712' not in persistent cache.\n",
      "Key '-4531515614642572331' not in persistent cache.\n",
      "Key '-5413033699551139981' not in persistent cache.\n",
      "Key '-5353110145435983106' not in persistent cache.\n",
      "Key '-7007549599449919916' not in persistent cache.\n",
      "Key '1345363423431543907' not in persistent cache.\n",
      "Key '8554724193933198002' not in persistent cache.\n",
      "Key '-7855231064936779324' not in persistent cache.\n",
      "Key '7089882532098268985' not in persistent cache.\n",
      "Key '7707042728446338594' not in persistent cache.\n",
      "Key '-2272115384074290658' not in persistent cache.\n",
      "Key '-2108783902207493388' not in persistent cache.\n",
      "Key '-5799075158161263214' not in persistent cache.\n",
      "Key '1410285612340390881' not in persistent cache.\n",
      "Key '-6751101564299504291' not in persistent cache.\n",
      "Key '-3940098176782218324' not in persistent cache.\n",
      "Key '-3232032049751620022' not in persistent cache.\n",
      "Key '-7013229236387918541' not in persistent cache.\n",
      "Key '-6720223516457270353' not in persistent cache.\n",
      "Key '1925124469213425672' not in persistent cache.\n",
      "Key '1043606384304858022' not in persistent cache.\n",
      "Key '-5898827463670311766' not in persistent cache.\n",
      "Key '-550909515593921913' not in persistent cache.\n",
      "Key '-3598711277787152881' not in persistent cache.\n",
      "Key '3610649492714501214' not in persistent cache.\n",
      "Key '5647438307554075504' not in persistent cache.\n",
      "Key '-501864074770916500' not in persistent cache.\n",
      "Key '2762968027227641806' not in persistent cache.\n",
      "Key '4184524699781707345' not in persistent cache.\n",
      "Key '-7052858603426190176' not in persistent cache.\n",
      "Key '7703594214329591614' not in persistent cache.\n",
      "Key '7866925696196388884' not in persistent cache.\n",
      "Key '-294461480443506288' not in persistent cache.\n",
      "Key '6914899290058147807' not in persistent cache.\n",
      "Key '3224608034104377981' not in persistent cache.\n",
      "Key '-7558946554622247201' not in persistent cache.\n",
      "Key '-7265940834691599013' not in persistent cache.\n",
      "Key '7978560585130828681' not in persistent cache.\n",
      "Key '-9044996676559990860' not in persistent cache.\n",
      "Key '-308148107916087273' not in persistent cache.\n",
      "Key '5741914253268135971' not in persistent cache.\n",
      "Key '-4215391669388796797' not in persistent cache.\n",
      "Key '-3578768451713710018' not in persistent cache.\n",
      "Key '-6981913406988129836' not in persistent cache.\n",
      "Key '4375723744344176874' not in persistent cache.\n",
      "Key '-4189077110081353160' not in persistent cache.\n",
      "Key '7667492833304644700' not in persistent cache.\n",
      "Key '-8933097188248907950' not in persistent cache.\n",
      "Key '-3397461890567746490' not in persistent cache.\n",
      "Key '-3529395872782913188' not in persistent cache.\n",
      "Key '5164094010892350439' not in persistent cache.\n",
      "Key '1946882262939315232' not in persistent cache.\n",
      "Key '2222257489168211987' not in persistent cache.\n",
      "Key '-4834607692918764212' not in persistent cache.\n",
      "Key '1844556150604168116' not in persistent cache.\n",
      "Key '-2772793815095391857' not in persistent cache.\n",
      "Key '7439991611574350331' not in persistent cache.\n",
      "Key '447668432486827652' not in persistent cache.\n",
      "Key '5756691279143454499' not in persistent cache.\n",
      "Key '-8348613555521858843' not in persistent cache.\n",
      "Key '-8239670132104152921' not in persistent cache.\n",
      "Key '-4511741124772655799' not in persistent cache.\n",
      "Key '-4538027040918396750' not in persistent cache.\n",
      "Key '-6575505043892552299' not in persistent cache.\n",
      "Key '4974076910975556552' not in persistent cache.\n",
      "Key '-5481831046066831464' not in persistent cache.\n",
      "Key '716241281778798927' not in persistent cache.\n",
      "Key '2801644306721597602' not in persistent cache.\n",
      "Key '-2319412408034083690' not in persistent cache.\n",
      "Key '-3755182969695601242' not in persistent cache.\n",
      "Key '-1896641030787651297' not in persistent cache.\n",
      "Key '5755880549247088270' not in persistent cache.\n",
      "Key '-2188057434617587509' not in persistent cache.\n",
      "Key '5869950406630787805' not in persistent cache.\n",
      "Key '7169292734105518224' not in persistent cache.\n",
      "Key '-6230953725716329467' not in persistent cache.\n",
      "Key '-2700875928509362985' not in persistent cache.\n",
      "Key '-923879797705544820' not in persistent cache.\n",
      "Key '-6516639089435506111' not in persistent cache.\n",
      "Key '1122867824782849594' not in persistent cache.\n",
      "Key '-4275009968922902514' not in persistent cache.\n",
      "Key '-3774030312028601889' not in persistent cache.\n",
      "Key '-2095505507924507234' not in persistent cache.\n",
      "Key '-1437317619391864082' not in persistent cache.\n",
      "Key '3875133997165393190' not in persistent cache.\n",
      "Key '-3363921443397102528' not in persistent cache.\n",
      "Key '831132118362637195' not in persistent cache.\n",
      "Key '-3469323552664686036' not in persistent cache.\n",
      "Key '811137392730923285' not in persistent cache.\n",
      "Key '-2285601547300415366' not in persistent cache.\n",
      "Key '-5355881677650262861' not in persistent cache.\n",
      "Key '1628436217852041407' not in persistent cache.\n",
      "Key '7767807855423874611' not in persistent cache.\n",
      "Key '7696475513309729286' not in persistent cache.\n",
      "Key '5027601685329504591' not in persistent cache.\n",
      "Key '-6825163021566703128' not in persistent cache.\n",
      "Key '-8025736725059536962' not in persistent cache.\n",
      "Key '-7779638021838945964' not in persistent cache.\n",
      "Key '-2830903967759198172' not in persistent cache.\n",
      "Key '-4948554286115700985' not in persistent cache.\n",
      "Key '7050061419393432514' not in persistent cache.\n",
      "Key '2274959739048390257' not in persistent cache.\n",
      "Key '-3482077346248030975' not in persistent cache.\n",
      "Key '-3141798437568746168' not in persistent cache.\n",
      "Key '4506853610153435461' not in persistent cache.\n",
      "Key '4474212197612427317' not in persistent cache.\n",
      "Key '-7394648237682175429' not in persistent cache.\n",
      "Key '-7544279293132160128' not in persistent cache.\n",
      "Key '-8381670713905648190' not in persistent cache.\n",
      "Key '3563184440468933115' not in persistent cache.\n",
      "Key '242540537593806518' not in persistent cache.\n",
      "Key '-5888032042351094930' not in persistent cache.\n",
      "Key '7986795403242780361' not in persistent cache.\n",
      "Key '-7420573002933219545' not in persistent cache.\n",
      "Key '-3455467912764773335' not in persistent cache.\n",
      "Key '-4105144919411018529' not in persistent cache.\n",
      "Key '5666613526201831025' not in persistent cache.\n",
      "Key '-3837556766050289354' not in persistent cache.\n",
      "Key '-6123431744348263919' not in persistent cache.\n",
      "Key '-8758829211979756319' not in persistent cache.\n",
      "Key '-268365914986116943' not in persistent cache.\n",
      "Key '543843157288647688' not in persistent cache.\n",
      "Key '-9037099785086000039' not in persistent cache.\n",
      "Key '8890884894613825319' not in persistent cache.\n",
      "Key '2163547908060905590' not in persistent cache.\n",
      "Key '2565649670639723412' not in persistent cache.\n",
      "Key '-1764004469995145002' not in persistent cache.\n",
      "Key '5982584634179543090' not in persistent cache.\n",
      "Key '1413398063089154837' not in persistent cache.\n",
      "Key '-3339604501711679685' not in persistent cache.\n",
      "Key '-4510750454180532344' not in persistent cache.\n",
      "Key '19251962873579192' not in persistent cache.\n",
      "Key '-6239257572480951710' not in persistent cache.\n",
      "Key '-6617370693163116260' not in persistent cache.\n",
      "Key '-6907315157905196401' not in persistent cache.\n",
      "Key '5789324677530990262' not in persistent cache.\n",
      "Key '2764069856360285441' not in persistent cache.\n",
      "Key '2129233753756854874' not in persistent cache.\n",
      "Key '-6428143199570252989' not in persistent cache.\n",
      "Key '8230808533397307227' not in persistent cache.\n",
      "Key '-2159377522789312985' not in persistent cache.\n",
      "Key '-6614770423430794197' not in persistent cache.\n",
      "Key '-1060092471370705816' not in persistent cache.\n",
      "Key '-8150961985380674617' not in persistent cache.\n",
      "Key '-613455925793443513' not in persistent cache.\n",
      "Key '-3858423107871003916' not in persistent cache.\n",
      "Key '-1952286524104363891' not in persistent cache.\n",
      "Key '-8765295614808914083' not in persistent cache.\n",
      "Key '7248406118752351879' not in persistent cache.\n",
      "Key '3469417793823573578' not in persistent cache.\n",
      "Key '5969289149616489609' not in persistent cache.\n",
      "Key '5334340112310260665' not in persistent cache.\n",
      "Key '8056743373504266945' not in persistent cache.\n",
      "Key '-5694323355020436776' not in persistent cache.\n",
      "Key '-5327745414841781287' not in persistent cache.\n",
      "Key '6418439926772877882' not in persistent cache.\n",
      "Key '-26394896608594912' not in persistent cache.\n",
      "Key '-8415901407256347537' not in persistent cache.\n",
      "Key '5844483200776640105' not in persistent cache.\n",
      "Key '654368581301949445' not in persistent cache.\n",
      "Key '8908796337208117131' not in persistent cache.\n",
      "Key '-8185707952114485607' not in persistent cache.\n",
      "Key '-3549443412193555789' not in persistent cache.\n",
      "Key '4985965355861395465' not in persistent cache.\n",
      "Key '-7377624565183662438' not in persistent cache.\n",
      "Key '5236138614704765433' not in persistent cache.\n",
      "Key '4646624923590576660' not in persistent cache.\n",
      "Key '-1905195894449916397' not in persistent cache.\n",
      "Key '-6172355839840188343' not in persistent cache.\n",
      "Key '-8824294170312360448' not in persistent cache.\n",
      "Key '-3971861661222772140' not in persistent cache.\n",
      "Key '9034503535749255304' not in persistent cache.\n",
      "Key '1742147001237158090' not in persistent cache.\n",
      "Key '6188024596329838952' not in persistent cache.\n",
      "Key '340639472830615208' not in persistent cache.\n",
      "Key '-8217046748351318125' not in persistent cache.\n",
      "Key '8872967929468414629' not in persistent cache.\n",
      "Key '-266546650543155055' not in persistent cache.\n",
      "Key '3274936524212286267' not in persistent cache.\n",
      "Key '-3913925224145512794' not in persistent cache.\n",
      "Key '1527832397394615460' not in persistent cache.\n",
      "Key '-715013982326409397' not in persistent cache.\n",
      "Key '4021629574611101718' not in persistent cache.\n",
      "Key '-384388451178914377' not in persistent cache.\n",
      "Key '1037168221375151162' not in persistent cache.\n",
      "Key '8246528991876805257' not in persistent cache.\n",
      "Key '4556237735923035431' not in persistent cache.\n",
      "Key '7367241123440321398' not in persistent cache.\n",
      "Key '3604211329784794354' not in persistent cache.\n",
      "Key '6415214717302080321' not in persistent cache.\n",
      "Key '77251555697821798' not in persistent cache.\n",
      "Key '3342083657696380104' not in persistent cache.\n",
      "Key '3635089377627028292' not in persistent cache.\n",
      "Key '472924507900148920' not in persistent cache.\n",
      "Key '-408593577008418730' not in persistent cache.\n",
      "Key '4049687360091106273' not in persistent cache.\n",
      "Key '2395247906077169463' not in persistent cache.\n",
      "Key '-7698583144750918330' not in persistent cache.\n",
      "Key '-4887579757233632363' not in persistent cache.\n",
      "Key '1547566440590310055' not in persistent cache.\n",
      "Key '-9000093324719050077' not in persistent cache.\n",
      "Key '-5735261222720491771' not in persistent cache.\n",
      "Key '84652832817941896' not in persistent cache.\n",
      "Key '2895656220335227863' not in persistent cache.\n",
      "Key '3603722347365826165' not in persistent cache.\n",
      "Key '6414725734883112132' not in persistent cache.\n",
      "Key '-1746661441756783040' not in persistent cache.\n",
      "Key '-1583329959889985770' not in persistent cache.\n",
      "Key '-5273621215843755596' not in persistent cache.\n",
      "Key '2389568269139170838' not in persistent cache.\n",
      "Key '2682573989069819026' not in persistent cache.\n",
      "Key '4794593300655343958' not in persistent cache.\n",
      "Key '-3132954072888080517' not in persistent cache.\n",
      "Key '3972998769861933183' not in persistent cache.\n",
      "Key '2318559315847996373' not in persistent cache.\n",
      "Key '-7775271734980091420' not in persistent cache.\n",
      "Key '-565910964478437325' not in persistent cache.\n",
      "Key '1470877850361136965' not in persistent cache.\n",
      "Key '-9076781914948223167' not in persistent cache.\n",
      "Key '-1413592429965296733' not in persistent cache.\n",
      "Key '7964242588768806' not in persistent cache.\n",
      "Key '7217325013090422901' not in persistent cache.\n",
      "Key '3527033757136653075' not in persistent cache.\n",
      "Key '3690365239003450345' not in persistent cache.\n",
      "Key '2575007350998411998' not in persistent cache.\n",
      "Key '2738338832865209268' not in persistent cache.\n",
      "Key '-951952423088560558' not in persistent cache.\n",
      "Key '6711237061894365876' not in persistent cache.\n",
      "Key '7004242781825014064' not in persistent cache.\n",
      "Key '-671721299489903664' not in persistent cache.\n",
      "Key '-1553239384398471314' not in persistent cache.\n",
      "Key '5552713458351542386' not in persistent cache.\n",
      "Key '-3147755284297251249' not in persistent cache.\n",
      "Key '-6195557046490482217' not in persistent cache.\n",
      "Key '1013803724011171878' not in persistent cache.\n",
      "Key '3050592538850746168' not in persistent cache.\n",
      "Key '-7497067226458613964' not in persistent cache.\n",
      "Key '166122258524312470' not in persistent cache.\n",
      "Key '1587678931078378009' not in persistent cache.\n",
      "Key '8797039701580032104' not in persistent cache.\n",
      "Key '5106748445626262278' not in persistent cache.\n",
      "Key '5270079927493059548' not in persistent cache.\n",
      "Key '-2891307249146835624' not in persistent cache.\n",
      "Key '4318053521354818471' not in persistent cache.\n",
      "Key '627762265401048645' not in persistent cache.\n",
      "Key '3892594367399606951' not in persistent cache.\n",
      "Key '4185600087330255139' not in persistent cache.\n",
      "Key '2609634238537049631' not in persistent cache.\n",
      "Key '1728116153628481981' not in persistent cache.\n",
      "Key '-5214317694346687807' not in persistent cache.\n",
      "Key '133600253729702046' not in persistent cache.\n",
      "Key '-2914201508463528922' not in persistent cache.\n",
      "Key '4295159262038125173' not in persistent cache.\n",
      "Key '6331948076877699463' not in persistent cache.\n",
      "Key '182645694552707459' not in persistent cache.\n",
      "Key '3447477796551265765' not in persistent cache.\n",
      "Key '4869034469105331304' not in persistent cache.\n",
      "Key '-6368348834102566217' not in persistent cache.\n",
      "Key '8388103983653215573' not in persistent cache.\n",
      "Key '8551435465520012843' not in persistent cache.\n",
      "Key '390048288880117671' not in persistent cache.\n",
      "Key '7599409059381771766' not in persistent cache.\n",
      "Key '3909117803428001940' not in persistent cache.\n",
      "Key '-6874436785298623242' not in persistent cache.\n",
      "Key '-6581431065367975054' not in persistent cache.\n",
      "Key '105985385354219151' not in persistent cache.\n",
      "Key '-775532699554348499' not in persistent cache.\n",
      "Key '6330420143195665201' not in persistent cache.\n",
      "Key '-2370048599453128434' not in persistent cache.\n",
      "Key '-5417850361646359402' not in persistent cache.\n",
      "Key '-5254518879779562132' not in persistent cache.\n",
      "Key '-3217730064939987842' not in persistent cache.\n",
      "Key '-6719360541614491149' not in persistent cache.\n",
      "Key '943828943368435285' not in persistent cache.\n",
      "Key '2365385615922500824' not in persistent cache.\n",
      "Key '2528717097789298094' not in persistent cache.\n",
      "Key '-1161574158164471732' not in persistent cache.\n",
      "Key '6047786612337182363' not in persistent cache.\n",
      "Key '-2113600564302712809' not in persistent cache.\n",
      "Key '5095760206198941286' not in persistent cache.\n",
      "Key '1405468950245171460' not in persistent cache.\n",
      "Key '-2375728236391127059' not in persistent cache.\n",
      "Key '-2082722516460478871' not in persistent cache.\n",
      "Key '-5920247033397147850' not in persistent cache.\n",
      "Key '2302562571399893904' not in persistent cache.\n",
      "Key '1252780418272972471' not in persistent cache.\n",
      "Key '371262333364404821' not in persistent cache.\n",
      "Key '431185887479561696' not in persistent cache.\n",
      "Key '-1223253566534375114' not in persistent cache.\n",
      "Key '7129659456347088709' not in persistent cache.\n",
      "Key '-4107723846860808812' not in persistent cache.\n",
      "Key '-2070935032021234522' not in persistent cache.\n",
      "Key '-5572565508695737829' not in persistent cache.\n",
      "Key '-4955405312347668220' not in persistent cache.\n",
      "Key '3512180648841254144' not in persistent cache.\n",
      "Key '3675512130708051414' not in persistent cache.\n",
      "Key '-14779125245718412' not in persistent cache.\n",
      "Key '7194581645255935683' not in persistent cache.\n",
      "Key '-966805531383959489' not in persistent cache.\n",
      "Key '6242555239117694606' not in persistent cache.\n",
      "Key '-4493765305470932045' not in persistent cache.\n",
      "Key '3169424179511994389' not in persistent cache.\n",
      "Key '3462429899442642577' not in persistent cache.\n",
      "Key '1425439896457358186' not in persistent cache.\n",
      "Key '4942279194533158664' not in persistent cache.\n",
      "Key '5002202748648315539' not in persistent cache.\n",
      "Key '3347763294634378729' not in persistent cache.\n",
      "Key '-6746067756193709064' not in persistent cache.\n",
      "Key '463293014307945031' not in persistent cache.\n",
      "Key '2500081829147519321' not in persistent cache.\n",
      "Key '-1001548647526983986' not in persistent cache.\n",
      "Key '-384388451178914377' not in persistent cache.\n",
      "Key '1037168221375151162' not in persistent cache.\n",
      "Key '8246528991876805257' not in persistent cache.\n",
      "Key '4556237735923035431' not in persistent cache.\n",
      "Key '7367241123440321398' not in persistent cache.\n",
      "Key '3604211329784794354' not in persistent cache.\n",
      "Key '6415214717302080321' not in persistent cache.\n",
      "Key '77251555697821798' not in persistent cache.\n",
      "Key '3342083657696380104' not in persistent cache.\n",
      "Key '3635089377627028292' not in persistent cache.\n",
      "Key '472924507900148920' not in persistent cache.\n",
      "Key '-408593577008418730' not in persistent cache.\n",
      "Key '4049687360091106273' not in persistent cache.\n",
      "Key '2395247906077169463' not in persistent cache.\n",
      "Key '-7698583144750918330' not in persistent cache.\n",
      "Key '-4887579757233632363' not in persistent cache.\n",
      "Key '1547566440590310055' not in persistent cache.\n",
      "Key '-9000093324719050077' not in persistent cache.\n",
      "Key '-5735261222720491771' not in persistent cache.\n",
      "Key '84652832817941896' not in persistent cache.\n",
      "Key '2895656220335227863' not in persistent cache.\n",
      "Key '3603722347365826165' not in persistent cache.\n",
      "Key '6414725734883112132' not in persistent cache.\n",
      "Key '-1746661441756783040' not in persistent cache.\n",
      "Key '-1583329959889985770' not in persistent cache.\n",
      "Key '-5273621215843755596' not in persistent cache.\n",
      "Key '2389568269139170838' not in persistent cache.\n",
      "Key '2682573989069819026' not in persistent cache.\n",
      "Key '4794593300655343958' not in persistent cache.\n",
      "Key '-3132954072888080517' not in persistent cache.\n",
      "Key '3972998769861933183' not in persistent cache.\n",
      "Key '2318559315847996373' not in persistent cache.\n",
      "Key '-7775271734980091420' not in persistent cache.\n",
      "Key '-8645387572858873058' not in persistent cache.\n",
      "Key '-7937321445828274756' not in persistent cache.\n",
      "Key '6728225441244978341' not in persistent cache.\n",
      "Key '7021231161175626529' not in persistent cache.\n",
      "Key '8523124774935067900' not in persistent cache.\n",
      "Key '-2521795696083917490' not in persistent cache.\n",
      "Key '2733927508563557549' not in persistent cache.\n",
      "Key '2585377274201354476' not in persistent cache.\n",
      "Key '-1806212981286313511' not in persistent cache.\n",
      "Key '3942105668315856387' not in persistent cache.\n",
      "Key '-1967728012523756058' not in persistent cache.\n",
      "Key '7603720597982411357' not in persistent cache.\n",
      "Key '-2199021571917225791' not in persistent cache.\n",
      "Key '4819577004056229320' not in persistent cache.\n",
      "Key '8277809316887320672' not in persistent cache.\n",
      "Key '-83598078021844726' not in persistent cache.\n",
      "Key '4435728804904029371' not in persistent cache.\n",
      "Key '-2354308527346345082' not in persistent cache.\n",
      "Key '2818966646182012256' not in persistent cache.\n",
      "Key '1800469492637262750' not in persistent cache.\n",
      "Key '-7886174798075830749' not in persistent cache.\n",
      "Key '656624812739739742' not in persistent cache.\n",
      "Key '-1081953005769575278' not in persistent cache.\n",
      "Key '8431098831214023998' not in persistent cache.\n",
      "Key '-1818959576569205924' not in persistent cache.\n",
      "Key '-6186669671631487522' not in persistent cache.\n",
      "Key '-3190243877669491822' not in persistent cache.\n",
      "Key '-9052388680325617060' not in persistent cache.\n",
      "Key '-6698774899593397100' not in persistent cache.\n",
      "Key '5361220697565267446' not in persistent cache.\n",
      "Key '-4674881506627592112' not in persistent cache.\n",
      "Key '3832826738977706402' not in persistent cache.\n",
      "Key '3332989798691096588' not in persistent cache.\n",
      "Key '811127651492340147' not in persistent cache.\n",
      "Key '5794818088280572053' not in persistent cache.\n",
      "Key '993100129209272256' not in persistent cache.\n",
      "Key '-2255167786926080382' not in persistent cache.\n",
      "Key '6155148116865089564' not in persistent cache.\n",
      "Key '-608032920919874070' not in persistent cache.\n",
      "Key '4083641718232155160' not in persistent cache.\n",
      "Key '-726422597404791766' not in persistent cache.\n",
      "Key '4335647334121532320' not in persistent cache.\n",
      "Key '3958445080885541120' not in persistent cache.\n",
      "Key '2198942633041967671' not in persistent cache.\n",
      "Key '-426564682215827717' not in persistent cache.\n",
      "Key '-2672722182300706210' not in persistent cache.\n",
      "Key '3488239664354830344' not in persistent cache.\n",
      "Key '-7257335383671072494' not in persistent cache.\n",
      "Key '-5962596681477806403' not in persistent cache.\n",
      "Key '1276425082674092493' not in persistent cache.\n",
      "Key '-8858000745713532220' not in persistent cache.\n",
      "Key '8493539985902944973' not in persistent cache.\n",
      "Key '2693735148489224114' not in persistent cache.\n",
      "Key '1845872599005367803' not in persistent cache.\n",
      "Key '7958432329319535152' not in persistent cache.\n",
      "Key '-7219723371790311423' not in persistent cache.\n",
      "Key '1865092967521613080' not in persistent cache.\n",
      "Key '-4751638091504163632' not in persistent cache.\n",
      "Key '-1507550756610164904' not in persistent cache.\n",
      "Key '7961032635341564698' not in persistent cache.\n",
      "Key '4106165133353514593' not in persistent cache.\n",
      "Key '-3763781187836281328' not in persistent cache.\n",
      "Key '2314027727452280353' not in persistent cache.\n",
      "Key '4402014260484232887' not in persistent cache.\n",
      "Key '1438187230103993140' not in persistent cache.\n",
      "Key '6258454307539039847' not in persistent cache.\n",
      "Key '7531294625045553366' not in persistent cache.\n",
      "Key '-3678963461893920432' not in persistent cache.\n",
      "Key '270873181223047442' not in persistent cache.\n",
      "Key '-8415901407256347537' not in persistent cache.\n",
      "Key '5844483200776640105' not in persistent cache.\n",
      "Key '654368581301949445' not in persistent cache.\n",
      "Key '8908796337208117131' not in persistent cache.\n",
      "Key '-8185707952114485607' not in persistent cache.\n",
      "Key '-3549443412193555789' not in persistent cache.\n",
      "Key '2285602066246468643' not in persistent cache.\n",
      "Key '-3876674726524143168' not in persistent cache.\n",
      "Key '-5283284360185832468' not in persistent cache.\n",
      "Key '2542481865984890333' not in persistent cache.\n",
      "Key '-6487243821242031824' not in persistent cache.\n",
      "Key '-1533962901938988882' not in persistent cache.\n",
      "Key '8165070210477707174' not in persistent cache.\n",
      "Key '-8208717038198758959' not in persistent cache.\n",
      "Key '-1744322061891522006' not in persistent cache.\n",
      "Key '446298814589318215' not in persistent cache.\n",
      "Key '-170033418804243833' not in persistent cache.\n",
      "Key '-4296220011559289705' not in persistent cache.\n",
      "Key '2419513105116402321' not in persistent cache.\n",
      "Key '8753576219594531707' not in persistent cache.\n",
      "Key '-5694323355020436776' not in persistent cache.\n",
      "Key '3274936524212286267' not in persistent cache.\n",
      "Key '-5327745414841781287' not in persistent cache.\n",
      "Key '-3913925224145512794' not in persistent cache.\n",
      "Key '8029002957387461589' not in persistent cache.\n",
      "Key '4423414675586803505' not in persistent cache.\n",
      "Key '-1636602672232218003' not in persistent cache.\n",
      "Key '2738146653731138115' not in persistent cache.\n",
      "Key '1878437001481998489' not in persistent cache.\n",
      "Key '8407810947158960462' not in persistent cache.\n",
      "Key '-4601233978951518571' not in persistent cache.\n",
      "Key '-7727271148049631726' not in persistent cache.\n",
      "Key '1161516707671621692' not in persistent cache.\n",
      "Key '4678356005747422170' not in persistent cache.\n",
      "Key '4738279559862579045' not in persistent cache.\n",
      "Key '3083840105848642235' not in persistent cache.\n",
      "Key '-7009990944979445558' not in persistent cache.\n",
      "Key '-4198987557462159591' not in persistent cache.\n",
      "Key '2236158640361782827' not in persistent cache.\n",
      "Key '-1265471836312720480' not in persistent cache.\n",
      "Key '-5046669022949018999' not in persistent cache.\n",
      "Key '773245032589414668' not in persistent cache.\n",
      "Key '3584248420106700635' not in persistent cache.\n",
      "Key '4292314547137298937' not in persistent cache.\n",
      "Key '7103317934654584904' not in persistent cache.\n",
      "Key '-1058069241985310268' not in persistent cache.\n",
      "Key '6151291528516343827' not in persistent cache.\n",
      "Key '-4585029016072282824' not in persistent cache.\n",
      "Key '3078160468910643610' not in persistent cache.\n",
      "Key '3371166188841291798' not in persistent cache.\n",
      "Key '4663205265752178606' not in persistent cache.\n",
      "Key '3781687180843610956' not in persistent cache.\n",
      "Key '-3160746667131558832' not in persistent cache.\n",
      "Key '6585528663929199149' not in persistent cache.\n",
      "Key '3537726901735968181' not in persistent cache.\n",
      "Key '-697298999381602677' not in persistent cache.\n",
      "Key '5737847198442339741' not in persistent cache.\n",
      "Key '2236216721767836434' not in persistent cache.\n",
      "Key '5501048823766394740' not in persistent cache.\n",
      "Key '-7125781194404723209' not in persistent cache.\n",
      "Key '7085936978187257549' not in persistent cache.\n",
      "Key '7794003105217855851' not in persistent cache.\n",
      "Key '-7841737580974409798' not in persistent cache.\n",
      "Key '2443619316095246646' not in persistent cache.\n",
      "Key '-8793763987112650875' not in persistent cache.\n",
      "Key '5962688830643130915' not in persistent cache.\n",
      "Key '6579849026991200524' not in persistent cache.\n",
      "Key '6872854746921848712' not in persistent cache.\n",
      "Key '-4531515614642572331' not in persistent cache.\n",
      "Key '-5413033699551139981' not in persistent cache.\n",
      "Key '-5353110145435983106' not in persistent cache.\n",
      "Key '-7007549599449919916' not in persistent cache.\n",
      "Key '1345363423431543907' not in persistent cache.\n",
      "Key '8554724193933198002' not in persistent cache.\n",
      "Key '-7855231064936779324' not in persistent cache.\n",
      "Key '7089882532098268985' not in persistent cache.\n",
      "Key '7707042728446338594' not in persistent cache.\n",
      "Key '-2272115384074290658' not in persistent cache.\n",
      "Key '-2108783902207493388' not in persistent cache.\n",
      "Key '-5799075158161263214' not in persistent cache.\n",
      "Key '1410285612340390881' not in persistent cache.\n",
      "Key '-6751101564299504291' not in persistent cache.\n",
      "Key '-3940098176782218324' not in persistent cache.\n",
      "Key '-3232032049751620022' not in persistent cache.\n",
      "Key '-7013229236387918541' not in persistent cache.\n",
      "Key '-6720223516457270353' not in persistent cache.\n",
      "Key '1925124469213425672' not in persistent cache.\n",
      "Key '1043606384304858022' not in persistent cache.\n",
      "Key '-5898827463670311766' not in persistent cache.\n",
      "Key '-550909515593921913' not in persistent cache.\n",
      "Key '-3598711277787152881' not in persistent cache.\n",
      "Key '3610649492714501214' not in persistent cache.\n",
      "Key '5647438307554075504' not in persistent cache.\n",
      "Key '-501864074770916500' not in persistent cache.\n",
      "Key '2762968027227641806' not in persistent cache.\n",
      "Key '4184524699781707345' not in persistent cache.\n",
      "Key '-7052858603426190176' not in persistent cache.\n",
      "Key '7703594214329591614' not in persistent cache.\n",
      "Key '7866925696196388884' not in persistent cache.\n",
      "Key '-294461480443506288' not in persistent cache.\n",
      "Key '6914899290058147807' not in persistent cache.\n",
      "Key '3224608034104377981' not in persistent cache.\n",
      "Key '-7558946554622247201' not in persistent cache.\n",
      "Key '-7265940834691599013' not in persistent cache.\n",
      "Key '7978560585130828681' not in persistent cache.\n",
      "Key '-9044996676559990860' not in persistent cache.\n",
      "Key '-308148107916087273' not in persistent cache.\n",
      "Key '5741914253268135971' not in persistent cache.\n",
      "Key '-4215391669388796797' not in persistent cache.\n",
      "Key '-3578768451713710018' not in persistent cache.\n",
      "Key '-6981913406988129836' not in persistent cache.\n",
      "Key '4375723744344176874' not in persistent cache.\n",
      "Key '-4189077110081353160' not in persistent cache.\n",
      "Key '7667492833304644700' not in persistent cache.\n",
      "Key '-8933097188248907950' not in persistent cache.\n",
      "Key '-3397461890567746490' not in persistent cache.\n",
      "Key '-3529395872782913188' not in persistent cache.\n",
      "Key '5164094010892350439' not in persistent cache.\n",
      "Key '1946882262939315232' not in persistent cache.\n",
      "Key '2222257489168211987' not in persistent cache.\n",
      "Key '-4834607692918764212' not in persistent cache.\n",
      "Key '1844556150604168116' not in persistent cache.\n",
      "Key '-2772793815095391857' not in persistent cache.\n",
      "Key '7439991611574350331' not in persistent cache.\n",
      "Key '447668432486827652' not in persistent cache.\n",
      "Key '5756691279143454499' not in persistent cache.\n",
      "Key '-8348613555521858843' not in persistent cache.\n",
      "Key '-8239670132104152921' not in persistent cache.\n",
      "Key '-4511741124772655799' not in persistent cache.\n",
      "Key '-4538027040918396750' not in persistent cache.\n",
      "Key '-6575505043892552299' not in persistent cache.\n",
      "Key '4974076910975556552' not in persistent cache.\n",
      "Key '-5481831046066831464' not in persistent cache.\n",
      "Key '716241281778798927' not in persistent cache.\n",
      "Key '2801644306721597602' not in persistent cache.\n",
      "Key '-2319412408034083690' not in persistent cache.\n",
      "Key '-3755182969695601242' not in persistent cache.\n",
      "Key '-1896641030787651297' not in persistent cache.\n",
      "Key '5755880549247088270' not in persistent cache.\n",
      "Key '-2188057434617587509' not in persistent cache.\n",
      "Key '5869950406630787805' not in persistent cache.\n",
      "Key '7169292734105518224' not in persistent cache.\n",
      "Key '-6230953725716329467' not in persistent cache.\n",
      "Key '-2700875928509362985' not in persistent cache.\n",
      "Key '-923879797705544820' not in persistent cache.\n",
      "Key '-6516639089435506111' not in persistent cache.\n",
      "Key '1122867824782849594' not in persistent cache.\n",
      "Key '-4275009968922902514' not in persistent cache.\n",
      "Key '-3774030312028601889' not in persistent cache.\n",
      "Key '-2095505507924507234' not in persistent cache.\n",
      "Key '-1437317619391864082' not in persistent cache.\n",
      "Key '3875133997165393190' not in persistent cache.\n",
      "Key '-3363921443397102528' not in persistent cache.\n",
      "Key '831132118362637195' not in persistent cache.\n",
      "Key '-3469323552664686036' not in persistent cache.\n",
      "Key '811137392730923285' not in persistent cache.\n",
      "Key '-2285601547300415366' not in persistent cache.\n",
      "Key '-5355881677650262861' not in persistent cache.\n",
      "Key '1628436217852041407' not in persistent cache.\n",
      "Key '7767807855423874611' not in persistent cache.\n",
      "Key '7696475513309729286' not in persistent cache.\n",
      "Key '5027601685329504591' not in persistent cache.\n",
      "Key '-6825163021566703128' not in persistent cache.\n",
      "Key '-8025736725059536962' not in persistent cache.\n",
      "Key '-7779638021838945964' not in persistent cache.\n",
      "Key '-2830903967759198172' not in persistent cache.\n",
      "Key '-4948554286115700985' not in persistent cache.\n",
      "Key '7050061419393432514' not in persistent cache.\n",
      "Key '2274959739048390257' not in persistent cache.\n",
      "Key '-3482077346248030975' not in persistent cache.\n",
      "Key '-3141798437568746168' not in persistent cache.\n",
      "Key '4506853610153435461' not in persistent cache.\n",
      "Key '4474212197612427317' not in persistent cache.\n",
      "Key '-7394648237682175429' not in persistent cache.\n",
      "Key '-7544279293132160128' not in persistent cache.\n",
      "Key '-8381670713905648190' not in persistent cache.\n",
      "Key '3563184440468933115' not in persistent cache.\n",
      "Key '242540537593806518' not in persistent cache.\n",
      "Key '-5888032042351094930' not in persistent cache.\n",
      "Key '7986795403242780361' not in persistent cache.\n",
      "Key '-7420573002933219545' not in persistent cache.\n",
      "Key '-3455467912764773335' not in persistent cache.\n",
      "Key '-4105144919411018529' not in persistent cache.\n",
      "Key '5666613526201831025' not in persistent cache.\n",
      "Key '-3837556766050289354' not in persistent cache.\n",
      "Key '-6123431744348263919' not in persistent cache.\n",
      "Key '-8758829211979756319' not in persistent cache.\n",
      "Key '-268365914986116943' not in persistent cache.\n",
      "Key '543843157288647688' not in persistent cache.\n",
      "Key '-9037099785086000039' not in persistent cache.\n",
      "Key '8890884894613825319' not in persistent cache.\n",
      "Key '2163547908060905590' not in persistent cache.\n",
      "Key '2565649670639723412' not in persistent cache.\n",
      "Key '-1764004469995145002' not in persistent cache.\n",
      "Key '5982584634179543090' not in persistent cache.\n",
      "Key '1413398063089154837' not in persistent cache.\n",
      "Key '-3339604501711679685' not in persistent cache.\n",
      "Key '-4510750454180532344' not in persistent cache.\n",
      "Key '19251962873579192' not in persistent cache.\n",
      "Key '-6239257572480951710' not in persistent cache.\n",
      "Key '-6617370693163116260' not in persistent cache.\n",
      "Key '-6907315157905196401' not in persistent cache.\n",
      "Key '5789324677530990262' not in persistent cache.\n",
      "Key '2764069856360285441' not in persistent cache.\n",
      "Key '2129233753756854874' not in persistent cache.\n",
      "Key '-6428143199570252989' not in persistent cache.\n",
      "Key '8230808533397307227' not in persistent cache.\n",
      "Key '-2159377522789312985' not in persistent cache.\n",
      "Key '-6614770423430794197' not in persistent cache.\n",
      "Key '-1060092471370705816' not in persistent cache.\n",
      "Key '-8150961985380674617' not in persistent cache.\n",
      "Key '-613455925793443513' not in persistent cache.\n",
      "Key '-3858423107871003916' not in persistent cache.\n",
      "Key '-1952286524104363891' not in persistent cache.\n",
      "Key '-8765295614808914083' not in persistent cache.\n",
      "Key '7248406118752351879' not in persistent cache.\n",
      "Key '3469417793823573578' not in persistent cache.\n",
      "Key '5969289149616489609' not in persistent cache.\n",
      "Key '5334340112310260665' not in persistent cache.\n",
      "Key '8056743373504266945' not in persistent cache.\n",
      "Key '-5694323355020436776' not in persistent cache.\n",
      "Key '-5327745414841781287' not in persistent cache.\n",
      "Key '6418439926772877882' not in persistent cache.\n",
      "Key '-26394896608594912' not in persistent cache.\n",
      "Key '-8415901407256347537' not in persistent cache.\n",
      "Key '5844483200776640105' not in persistent cache.\n",
      "Key '654368581301949445' not in persistent cache.\n",
      "Key '8908796337208117131' not in persistent cache.\n",
      "Key '-8185707952114485607' not in persistent cache.\n",
      "Key '-3549443412193555789' not in persistent cache.\n",
      "Key '4985965355861395465' not in persistent cache.\n",
      "Key '-7377624565183662438' not in persistent cache.\n",
      "Key '5236138614704765433' not in persistent cache.\n",
      "Key '4646624923590576660' not in persistent cache.\n",
      "Key '-1905195894449916397' not in persistent cache.\n",
      "Key '-6172355839840188343' not in persistent cache.\n",
      "Key '-8824294170312360448' not in persistent cache.\n",
      "Key '-3971861661222772140' not in persistent cache.\n",
      "Key '9034503535749255304' not in persistent cache.\n",
      "Key '1742147001237158090' not in persistent cache.\n",
      "Key '6188024596329838952' not in persistent cache.\n",
      "Key '340639472830615208' not in persistent cache.\n",
      "Key '-8217046748351318125' not in persistent cache.\n",
      "Key '8872967929468414629' not in persistent cache.\n",
      "Key '-266546650543155055' not in persistent cache.\n",
      "Key '3274936524212286267' not in persistent cache.\n",
      "Key '-3913925224145512794' not in persistent cache.\n",
      "Key '1527832397394615460' not in persistent cache.\n",
      "Key '-715013982326409397' not in persistent cache.\n",
      "Key '4021629574611101718' not in persistent cache.\n",
      "Key '-384388451178914377' not in persistent cache.\n",
      "Key '1037168221375151162' not in persistent cache.\n",
      "Key '8246528991876805257' not in persistent cache.\n",
      "Key '4556237735923035431' not in persistent cache.\n",
      "Key '7367241123440321398' not in persistent cache.\n",
      "Key '3604211329784794354' not in persistent cache.\n",
      "Key '6415214717302080321' not in persistent cache.\n",
      "Key '77251555697821798' not in persistent cache.\n",
      "Key '3342083657696380104' not in persistent cache.\n",
      "Key '3635089377627028292' not in persistent cache.\n",
      "Key '472924507900148920' not in persistent cache.\n",
      "Key '-408593577008418730' not in persistent cache.\n",
      "Key '4049687360091106273' not in persistent cache.\n",
      "Key '2395247906077169463' not in persistent cache.\n",
      "Key '-7698583144750918330' not in persistent cache.\n",
      "Key '-4887579757233632363' not in persistent cache.\n",
      "Key '1547566440590310055' not in persistent cache.\n",
      "Key '-9000093324719050077' not in persistent cache.\n",
      "Key '-5735261222720491771' not in persistent cache.\n",
      "Key '84652832817941896' not in persistent cache.\n",
      "Key '2895656220335227863' not in persistent cache.\n",
      "Key '3603722347365826165' not in persistent cache.\n",
      "Key '6414725734883112132' not in persistent cache.\n",
      "Key '-1746661441756783040' not in persistent cache.\n",
      "Key '-1583329959889985770' not in persistent cache.\n",
      "Key '-5273621215843755596' not in persistent cache.\n",
      "Key '2389568269139170838' not in persistent cache.\n",
      "Key '2682573989069819026' not in persistent cache.\n",
      "Key '4794593300655343958' not in persistent cache.\n",
      "Key '-3132954072888080517' not in persistent cache.\n",
      "Key '3972998769861933183' not in persistent cache.\n",
      "Key '2318559315847996373' not in persistent cache.\n",
      "Key '-7775271734980091420' not in persistent cache.\n",
      "Key '-565910964478437325' not in persistent cache.\n",
      "Key '1470877850361136965' not in persistent cache.\n",
      "Key '-9076781914948223167' not in persistent cache.\n",
      "Key '-1413592429965296733' not in persistent cache.\n",
      "Key '7964242588768806' not in persistent cache.\n",
      "Key '7217325013090422901' not in persistent cache.\n",
      "Key '3527033757136653075' not in persistent cache.\n",
      "Key '3690365239003450345' not in persistent cache.\n",
      "Key '2575007350998411998' not in persistent cache.\n",
      "Key '2738338832865209268' not in persistent cache.\n",
      "Key '-951952423088560558' not in persistent cache.\n",
      "Key '6711237061894365876' not in persistent cache.\n",
      "Key '7004242781825014064' not in persistent cache.\n",
      "Key '-671721299489903664' not in persistent cache.\n",
      "Key '-1553239384398471314' not in persistent cache.\n",
      "Key '5552713458351542386' not in persistent cache.\n",
      "Key '-3147755284297251249' not in persistent cache.\n",
      "Key '-6195557046490482217' not in persistent cache.\n",
      "Key '1013803724011171878' not in persistent cache.\n",
      "Key '3050592538850746168' not in persistent cache.\n",
      "Key '-7497067226458613964' not in persistent cache.\n",
      "Key '166122258524312470' not in persistent cache.\n",
      "Key '1587678931078378009' not in persistent cache.\n",
      "Key '8797039701580032104' not in persistent cache.\n",
      "Key '5106748445626262278' not in persistent cache.\n",
      "Key '5270079927493059548' not in persistent cache.\n",
      "Key '-2891307249146835624' not in persistent cache.\n",
      "Key '4318053521354818471' not in persistent cache.\n",
      "Key '627762265401048645' not in persistent cache.\n",
      "Key '3892594367399606951' not in persistent cache.\n",
      "Key '4185600087330255139' not in persistent cache.\n",
      "Key '2609634238537049631' not in persistent cache.\n",
      "Key '1728116153628481981' not in persistent cache.\n",
      "Key '-5214317694346687807' not in persistent cache.\n",
      "Key '133600253729702046' not in persistent cache.\n",
      "Key '-2914201508463528922' not in persistent cache.\n",
      "Key '4295159262038125173' not in persistent cache.\n",
      "Key '6331948076877699463' not in persistent cache.\n",
      "Key '182645694552707459' not in persistent cache.\n",
      "Key '3447477796551265765' not in persistent cache.\n",
      "Key '4869034469105331304' not in persistent cache.\n",
      "Key '-6368348834102566217' not in persistent cache.\n",
      "Key '8388103983653215573' not in persistent cache.\n",
      "Key '8551435465520012843' not in persistent cache.\n",
      "Key '390048288880117671' not in persistent cache.\n",
      "Key '7599409059381771766' not in persistent cache.\n",
      "Key '3909117803428001940' not in persistent cache.\n",
      "Key '-6874436785298623242' not in persistent cache.\n",
      "Key '-6581431065367975054' not in persistent cache.\n",
      "Key '105985385354219151' not in persistent cache.\n",
      "Key '-775532699554348499' not in persistent cache.\n",
      "Key '6330420143195665201' not in persistent cache.\n",
      "Key '-2370048599453128434' not in persistent cache.\n",
      "Key '-5417850361646359402' not in persistent cache.\n",
      "Key '-5254518879779562132' not in persistent cache.\n",
      "Key '-3217730064939987842' not in persistent cache.\n",
      "Key '-6719360541614491149' not in persistent cache.\n",
      "Key '943828943368435285' not in persistent cache.\n",
      "Key '2365385615922500824' not in persistent cache.\n",
      "Key '2528717097789298094' not in persistent cache.\n",
      "Key '-1161574158164471732' not in persistent cache.\n",
      "Key '6047786612337182363' not in persistent cache.\n",
      "Key '-2113600564302712809' not in persistent cache.\n",
      "Key '5095760206198941286' not in persistent cache.\n",
      "Key '1405468950245171460' not in persistent cache.\n",
      "Key '-2375728236391127059' not in persistent cache.\n",
      "Key '-2082722516460478871' not in persistent cache.\n",
      "Key '-5920247033397147850' not in persistent cache.\n",
      "Key '2302562571399893904' not in persistent cache.\n",
      "Key '1252780418272972471' not in persistent cache.\n",
      "Key '371262333364404821' not in persistent cache.\n",
      "Key '431185887479561696' not in persistent cache.\n",
      "Key '-1223253566534375114' not in persistent cache.\n",
      "Key '7129659456347088709' not in persistent cache.\n",
      "Key '-4107723846860808812' not in persistent cache.\n",
      "Key '-2070935032021234522' not in persistent cache.\n",
      "Key '-5572565508695737829' not in persistent cache.\n",
      "Key '-4955405312347668220' not in persistent cache.\n",
      "Key '3512180648841254144' not in persistent cache.\n",
      "Key '3675512130708051414' not in persistent cache.\n",
      "Key '-14779125245718412' not in persistent cache.\n",
      "Key '7194581645255935683' not in persistent cache.\n",
      "Key '-966805531383959489' not in persistent cache.\n",
      "Key '6242555239117694606' not in persistent cache.\n",
      "Key '-4493765305470932045' not in persistent cache.\n",
      "Key '3169424179511994389' not in persistent cache.\n",
      "Key '3462429899442642577' not in persistent cache.\n",
      "Key '1425439896457358186' not in persistent cache.\n",
      "Key '4942279194533158664' not in persistent cache.\n",
      "Key '5002202748648315539' not in persistent cache.\n",
      "Key '3347763294634378729' not in persistent cache.\n",
      "Key '-6746067756193709064' not in persistent cache.\n",
      "Key '463293014307945031' not in persistent cache.\n",
      "Key '2500081829147519321' not in persistent cache.\n",
      "Key '-1001548647526983986' not in persistent cache.\n",
      "Key '-384388451178914377' not in persistent cache.\n",
      "Key '1037168221375151162' not in persistent cache.\n",
      "Key '8246528991876805257' not in persistent cache.\n",
      "Key '4556237735923035431' not in persistent cache.\n",
      "Key '7367241123440321398' not in persistent cache.\n",
      "Key '3604211329784794354' not in persistent cache.\n",
      "Key '6415214717302080321' not in persistent cache.\n",
      "Key '77251555697821798' not in persistent cache.\n",
      "Key '3342083657696380104' not in persistent cache.\n",
      "Key '3635089377627028292' not in persistent cache.\n",
      "Key '472924507900148920' not in persistent cache.\n",
      "Key '-408593577008418730' not in persistent cache.\n",
      "Key '4049687360091106273' not in persistent cache.\n",
      "Key '2395247906077169463' not in persistent cache.\n",
      "Key '-7698583144750918330' not in persistent cache.\n",
      "Key '-4887579757233632363' not in persistent cache.\n",
      "Key '1547566440590310055' not in persistent cache.\n",
      "Key '-9000093324719050077' not in persistent cache.\n",
      "Key '-5735261222720491771' not in persistent cache.\n",
      "Key '84652832817941896' not in persistent cache.\n",
      "Key '2895656220335227863' not in persistent cache.\n",
      "Key '3603722347365826165' not in persistent cache.\n",
      "Key '6414725734883112132' not in persistent cache.\n",
      "Key '-1746661441756783040' not in persistent cache.\n",
      "Key '-1583329959889985770' not in persistent cache.\n",
      "Key '-5273621215843755596' not in persistent cache.\n",
      "Key '2389568269139170838' not in persistent cache.\n",
      "Key '2682573989069819026' not in persistent cache.\n",
      "Key '4794593300655343958' not in persistent cache.\n",
      "Key '-3132954072888080517' not in persistent cache.\n",
      "Key '3972998769861933183' not in persistent cache.\n",
      "Key '2318559315847996373' not in persistent cache.\n",
      "Key '-7775271734980091420' not in persistent cache.\n",
      "Key '-8645387572858873058' not in persistent cache.\n",
      "Key '-7937321445828274756' not in persistent cache.\n",
      "Key '6728225441244978341' not in persistent cache.\n",
      "Key '7021231161175626529' not in persistent cache.\n",
      "Key '8523124774935067900' not in persistent cache.\n",
      "Key '-2521795696083917490' not in persistent cache.\n",
      "Key '2733927508563557549' not in persistent cache.\n",
      "Key '2585377274201354476' not in persistent cache.\n",
      "Key '-1806212981286313511' not in persistent cache.\n",
      "Key '3942105668315856387' not in persistent cache.\n",
      "Key '-1967728012523756058' not in persistent cache.\n",
      "Key '7603720597982411357' not in persistent cache.\n",
      "Key '-2199021571917225791' not in persistent cache.\n",
      "Key '4819577004056229320' not in persistent cache.\n",
      "Key '8277809316887320672' not in persistent cache.\n",
      "Key '-83598078021844726' not in persistent cache.\n",
      "Key '4435728804904029371' not in persistent cache.\n",
      "Key '-2354308527346345082' not in persistent cache.\n",
      "Key '2818966646182012256' not in persistent cache.\n",
      "Key '1800469492637262750' not in persistent cache.\n",
      "Key '-7886174798075830749' not in persistent cache.\n",
      "Key '656624812739739742' not in persistent cache.\n",
      "Key '-1081953005769575278' not in persistent cache.\n",
      "Key '8431098831214023998' not in persistent cache.\n",
      "Key '-1818959576569205924' not in persistent cache.\n",
      "Key '-6186669671631487522' not in persistent cache.\n",
      "Key '-3190243877669491822' not in persistent cache.\n",
      "Key '-9052388680325617060' not in persistent cache.\n",
      "Key '-6698774899593397100' not in persistent cache.\n",
      "Key '5361220697565267446' not in persistent cache.\n",
      "Key '-4674881506627592112' not in persistent cache.\n",
      "Key '3832826738977706402' not in persistent cache.\n",
      "Key '3332989798691096588' not in persistent cache.\n",
      "Key '811127651492340147' not in persistent cache.\n",
      "Key '5794818088280572053' not in persistent cache.\n",
      "Key '993100129209272256' not in persistent cache.\n",
      "Key '-2255167786926080382' not in persistent cache.\n",
      "Key '6155148116865089564' not in persistent cache.\n",
      "Key '-608032920919874070' not in persistent cache.\n",
      "Key '4083641718232155160' not in persistent cache.\n",
      "Key '-726422597404791766' not in persistent cache.\n",
      "Key '4335647334121532320' not in persistent cache.\n",
      "Key '3958445080885541120' not in persistent cache.\n",
      "Key '2198942633041967671' not in persistent cache.\n",
      "Key '-426564682215827717' not in persistent cache.\n",
      "Key '-2672722182300706210' not in persistent cache.\n",
      "Key '3488239664354830344' not in persistent cache.\n",
      "Key '-7257335383671072494' not in persistent cache.\n",
      "Key '-5962596681477806403' not in persistent cache.\n",
      "Key '1276425082674092493' not in persistent cache.\n",
      "Key '-8858000745713532220' not in persistent cache.\n",
      "Key '8493539985902944973' not in persistent cache.\n",
      "Key '2693735148489224114' not in persistent cache.\n",
      "Key '1845872599005367803' not in persistent cache.\n",
      "Key '7958432329319535152' not in persistent cache.\n",
      "Key '-7219723371790311423' not in persistent cache.\n",
      "Key '1865092967521613080' not in persistent cache.\n",
      "Key '-4751638091504163632' not in persistent cache.\n",
      "Key '-1507550756610164904' not in persistent cache.\n",
      "Key '7961032635341564698' not in persistent cache.\n",
      "Key '4106165133353514593' not in persistent cache.\n",
      "Key '-3763781187836281328' not in persistent cache.\n",
      "Key '2314027727452280353' not in persistent cache.\n",
      "Key '4402014260484232887' not in persistent cache.\n",
      "Key '1438187230103993140' not in persistent cache.\n",
      "Key '6258454307539039847' not in persistent cache.\n",
      "Key '7531294625045553366' not in persistent cache.\n",
      "Key '-3678963461893920432' not in persistent cache.\n",
      "Key '270873181223047442' not in persistent cache.\n",
      "Key '-8415901407256347537' not in persistent cache.\n",
      "Key '5844483200776640105' not in persistent cache.\n",
      "Key '654368581301949445' not in persistent cache.\n",
      "Key '8908796337208117131' not in persistent cache.\n",
      "Key '-8185707952114485607' not in persistent cache.\n",
      "Key '-3549443412193555789' not in persistent cache.\n",
      "Key '2285602066246468643' not in persistent cache.\n",
      "Key '-3876674726524143168' not in persistent cache.\n",
      "Key '-5283284360185832468' not in persistent cache.\n",
      "Key '2542481865984890333' not in persistent cache.\n",
      "Key '-6487243821242031824' not in persistent cache.\n",
      "Key '-1533962901938988882' not in persistent cache.\n",
      "Key '8165070210477707174' not in persistent cache.\n",
      "Key '-8208717038198758959' not in persistent cache.\n",
      "Key '-1744322061891522006' not in persistent cache.\n",
      "Key '446298814589318215' not in persistent cache.\n",
      "Key '-170033418804243833' not in persistent cache.\n",
      "Key '-4296220011559289705' not in persistent cache.\n",
      "Key '2419513105116402321' not in persistent cache.\n",
      "Key '8753576219594531707' not in persistent cache.\n",
      "Key '-5694323355020436776' not in persistent cache.\n",
      "Key '3274936524212286267' not in persistent cache.\n",
      "Key '-5327745414841781287' not in persistent cache.\n",
      "Key '-3913925224145512794' not in persistent cache.\n",
      "Key '8029002957387461589' not in persistent cache.\n",
      "Key '4423414675586803505' not in persistent cache.\n",
      "Key '-1636602672232218003' not in persistent cache.\n",
      "Key '2738146653731138115' not in persistent cache.\n",
      "Key '1878437001481998489' not in persistent cache.\n",
      "Key '8407810947158960462' not in persistent cache.\n",
      "Key '-4601233978951518571' not in persistent cache.\n",
      "Key '-7727271148049631726' not in persistent cache.\n",
      "Key '1161516707671621692' not in persistent cache.\n",
      "Key '4678356005747422170' not in persistent cache.\n",
      "Key '4738279559862579045' not in persistent cache.\n",
      "Key '3083840105848642235' not in persistent cache.\n",
      "Key '-7009990944979445558' not in persistent cache.\n",
      "Key '-4198987557462159591' not in persistent cache.\n",
      "Key '2236158640361782827' not in persistent cache.\n",
      "Key '-1265471836312720480' not in persistent cache.\n",
      "Key '-5046669022949018999' not in persistent cache.\n",
      "Key '773245032589414668' not in persistent cache.\n",
      "Key '3584248420106700635' not in persistent cache.\n",
      "Key '4292314547137298937' not in persistent cache.\n",
      "Key '7103317934654584904' not in persistent cache.\n",
      "Key '-1058069241985310268' not in persistent cache.\n",
      "Key '6151291528516343827' not in persistent cache.\n",
      "Key '-4585029016072282824' not in persistent cache.\n",
      "Key '3078160468910643610' not in persistent cache.\n",
      "Key '3371166188841291798' not in persistent cache.\n",
      "Key '4663205265752178606' not in persistent cache.\n",
      "Key '3781687180843610956' not in persistent cache.\n",
      "Key '-3160746667131558832' not in persistent cache.\n",
      "Key '6585528663929199149' not in persistent cache.\n",
      "Key '3537726901735968181' not in persistent cache.\n",
      "Key '-697298999381602677' not in persistent cache.\n",
      "Key '5737847198442339741' not in persistent cache.\n",
      "Key '2236216721767836434' not in persistent cache.\n",
      "Key '5501048823766394740' not in persistent cache.\n",
      "Key '-7125781194404723209' not in persistent cache.\n",
      "Key '7085936978187257549' not in persistent cache.\n",
      "Key '7794003105217855851' not in persistent cache.\n",
      "Key '-7841737580974409798' not in persistent cache.\n",
      "Key '2443619316095246646' not in persistent cache.\n",
      "Key '-8793763987112650875' not in persistent cache.\n",
      "Key '5962688830643130915' not in persistent cache.\n",
      "Key '6579849026991200524' not in persistent cache.\n",
      "Key '6872854746921848712' not in persistent cache.\n",
      "Key '-4531515614642572331' not in persistent cache.\n",
      "Key '-5413033699551139981' not in persistent cache.\n",
      "Key '-5353110145435983106' not in persistent cache.\n",
      "Key '-7007549599449919916' not in persistent cache.\n",
      "Key '1345363423431543907' not in persistent cache.\n",
      "Key '8554724193933198002' not in persistent cache.\n",
      "Key '-7855231064936779324' not in persistent cache.\n",
      "Key '7089882532098268985' not in persistent cache.\n",
      "Key '7707042728446338594' not in persistent cache.\n",
      "Key '-2272115384074290658' not in persistent cache.\n",
      "Key '-2108783902207493388' not in persistent cache.\n",
      "Key '-5799075158161263214' not in persistent cache.\n",
      "Key '1410285612340390881' not in persistent cache.\n",
      "Key '-6751101564299504291' not in persistent cache.\n",
      "Key '-3940098176782218324' not in persistent cache.\n",
      "Key '-3232032049751620022' not in persistent cache.\n",
      "Key '-7013229236387918541' not in persistent cache.\n",
      "Key '-6720223516457270353' not in persistent cache.\n",
      "Key '1925124469213425672' not in persistent cache.\n",
      "Key '1043606384304858022' not in persistent cache.\n",
      "Key '-5898827463670311766' not in persistent cache.\n",
      "Key '-550909515593921913' not in persistent cache.\n",
      "Key '-3598711277787152881' not in persistent cache.\n",
      "Key '3610649492714501214' not in persistent cache.\n",
      "Key '5647438307554075504' not in persistent cache.\n",
      "Key '-501864074770916500' not in persistent cache.\n",
      "Key '2762968027227641806' not in persistent cache.\n",
      "Key '4184524699781707345' not in persistent cache.\n",
      "Key '-7052858603426190176' not in persistent cache.\n",
      "Key '7703594214329591614' not in persistent cache.\n",
      "Key '7866925696196388884' not in persistent cache.\n",
      "Key '-294461480443506288' not in persistent cache.\n",
      "Key '6914899290058147807' not in persistent cache.\n",
      "Key '3224608034104377981' not in persistent cache.\n",
      "Key '-7558946554622247201' not in persistent cache.\n",
      "Key '-7265940834691599013' not in persistent cache.\n",
      "Key '7978560585130828681' not in persistent cache.\n",
      "Key '-9044996676559990860' not in persistent cache.\n",
      "Key '-308148107916087273' not in persistent cache.\n",
      "Key '5741914253268135971' not in persistent cache.\n",
      "Key '-4215391669388796797' not in persistent cache.\n",
      "Key '-3578768451713710018' not in persistent cache.\n",
      "Key '-6981913406988129836' not in persistent cache.\n",
      "Key '4375723744344176874' not in persistent cache.\n",
      "Key '-4189077110081353160' not in persistent cache.\n",
      "Key '7667492833304644700' not in persistent cache.\n",
      "Key '-8933097188248907950' not in persistent cache.\n",
      "Key '-3397461890567746490' not in persistent cache.\n",
      "Key '-3529395872782913188' not in persistent cache.\n",
      "Key '5164094010892350439' not in persistent cache.\n",
      "Key '1946882262939315232' not in persistent cache.\n",
      "Key '2222257489168211987' not in persistent cache.\n",
      "Key '-4834607692918764212' not in persistent cache.\n",
      "Key '1844556150604168116' not in persistent cache.\n",
      "Key '-2772793815095391857' not in persistent cache.\n",
      "Key '7439991611574350331' not in persistent cache.\n",
      "Key '447668432486827652' not in persistent cache.\n",
      "Key '5756691279143454499' not in persistent cache.\n",
      "Key '-8348613555521858843' not in persistent cache.\n",
      "Key '-8239670132104152921' not in persistent cache.\n",
      "Key '-4511741124772655799' not in persistent cache.\n",
      "Key '-4538027040918396750' not in persistent cache.\n",
      "Key '-6575505043892552299' not in persistent cache.\n",
      "Key '4974076910975556552' not in persistent cache.\n",
      "Key '-5481831046066831464' not in persistent cache.\n",
      "Key '716241281778798927' not in persistent cache.\n",
      "Key '2801644306721597602' not in persistent cache.\n",
      "Key '-2319412408034083690' not in persistent cache.\n",
      "Key '-3755182969695601242' not in persistent cache.\n",
      "Key '-1896641030787651297' not in persistent cache.\n",
      "Key '5755880549247088270' not in persistent cache.\n",
      "Key '-2188057434617587509' not in persistent cache.\n",
      "Key '5869950406630787805' not in persistent cache.\n",
      "Key '7169292734105518224' not in persistent cache.\n",
      "Key '-6230953725716329467' not in persistent cache.\n",
      "Key '-2700875928509362985' not in persistent cache.\n",
      "Key '-923879797705544820' not in persistent cache.\n",
      "Key '-6516639089435506111' not in persistent cache.\n",
      "Key '1122867824782849594' not in persistent cache.\n",
      "Key '-4275009968922902514' not in persistent cache.\n",
      "Key '-3774030312028601889' not in persistent cache.\n",
      "Key '-2095505507924507234' not in persistent cache.\n",
      "Key '-1437317619391864082' not in persistent cache.\n",
      "Key '3875133997165393190' not in persistent cache.\n",
      "Key '-3363921443397102528' not in persistent cache.\n",
      "Key '831132118362637195' not in persistent cache.\n",
      "Key '-3469323552664686036' not in persistent cache.\n",
      "Key '811137392730923285' not in persistent cache.\n",
      "Key '-2285601547300415366' not in persistent cache.\n",
      "Key '-5355881677650262861' not in persistent cache.\n",
      "Key '1628436217852041407' not in persistent cache.\n",
      "Key '7767807855423874611' not in persistent cache.\n",
      "Key '7696475513309729286' not in persistent cache.\n",
      "Key '5027601685329504591' not in persistent cache.\n",
      "Key '-6825163021566703128' not in persistent cache.\n",
      "Key '-8025736725059536962' not in persistent cache.\n",
      "Key '-7779638021838945964' not in persistent cache.\n",
      "Key '-2830903967759198172' not in persistent cache.\n",
      "Key '-4948554286115700985' not in persistent cache.\n",
      "Key '7050061419393432514' not in persistent cache.\n",
      "Key '2274959739048390257' not in persistent cache.\n",
      "Key '-3482077346248030975' not in persistent cache.\n",
      "Key '-3141798437568746168' not in persistent cache.\n",
      "Key '4506853610153435461' not in persistent cache.\n",
      "Key '4474212197612427317' not in persistent cache.\n",
      "Key '-7394648237682175429' not in persistent cache.\n",
      "Key '-7544279293132160128' not in persistent cache.\n",
      "Key '-8381670713905648190' not in persistent cache.\n",
      "Key '3563184440468933115' not in persistent cache.\n",
      "Key '242540537593806518' not in persistent cache.\n",
      "Key '-5888032042351094930' not in persistent cache.\n",
      "Key '7986795403242780361' not in persistent cache.\n",
      "Key '-7420573002933219545' not in persistent cache.\n",
      "Key '-3455467912764773335' not in persistent cache.\n",
      "Key '-4105144919411018529' not in persistent cache.\n",
      "Key '5666613526201831025' not in persistent cache.\n",
      "Key '-3837556766050289354' not in persistent cache.\n",
      "Key '-6123431744348263919' not in persistent cache.\n",
      "Key '-8758829211979756319' not in persistent cache.\n",
      "Key '-268365914986116943' not in persistent cache.\n",
      "Key '543843157288647688' not in persistent cache.\n",
      "Key '-9037099785086000039' not in persistent cache.\n",
      "Key '8890884894613825319' not in persistent cache.\n",
      "Key '2163547908060905590' not in persistent cache.\n",
      "Key '2565649670639723412' not in persistent cache.\n",
      "Key '-1764004469995145002' not in persistent cache.\n",
      "Key '5982584634179543090' not in persistent cache.\n",
      "Key '1413398063089154837' not in persistent cache.\n",
      "Key '-3339604501711679685' not in persistent cache.\n",
      "Key '-4510750454180532344' not in persistent cache.\n",
      "Key '19251962873579192' not in persistent cache.\n",
      "Key '-6239257572480951710' not in persistent cache.\n",
      "Key '-6617370693163116260' not in persistent cache.\n",
      "Key '-6907315157905196401' not in persistent cache.\n",
      "Key '5789324677530990262' not in persistent cache.\n",
      "Key '2764069856360285441' not in persistent cache.\n",
      "Key '2129233753756854874' not in persistent cache.\n",
      "Key '-6428143199570252989' not in persistent cache.\n",
      "Key '8230808533397307227' not in persistent cache.\n",
      "Key '-2159377522789312985' not in persistent cache.\n",
      "Key '-6614770423430794197' not in persistent cache.\n",
      "Key '-1060092471370705816' not in persistent cache.\n",
      "Key '-8150961985380674617' not in persistent cache.\n",
      "Key '-613455925793443513' not in persistent cache.\n",
      "Key '-3858423107871003916' not in persistent cache.\n",
      "Key '-1952286524104363891' not in persistent cache.\n",
      "Key '-8765295614808914083' not in persistent cache.\n",
      "Key '7248406118752351879' not in persistent cache.\n",
      "Key '3469417793823573578' not in persistent cache.\n",
      "Key '5969289149616489609' not in persistent cache.\n",
      "Key '5334340112310260665' not in persistent cache.\n",
      "Key '8056743373504266945' not in persistent cache.\n",
      "Key '-5694323355020436776' not in persistent cache.\n",
      "Key '-5327745414841781287' not in persistent cache.\n",
      "Key '6418439926772877882' not in persistent cache.\n",
      "Key '-26394896608594912' not in persistent cache.\n",
      "Key '-8415901407256347537' not in persistent cache.\n",
      "Key '5844483200776640105' not in persistent cache.\n",
      "Key '654368581301949445' not in persistent cache.\n",
      "Key '8908796337208117131' not in persistent cache.\n",
      "Key '-8185707952114485607' not in persistent cache.\n",
      "Key '-3549443412193555789' not in persistent cache.\n",
      "Key '4985965355861395465' not in persistent cache.\n",
      "Key '-7377624565183662438' not in persistent cache.\n",
      "Key '5236138614704765433' not in persistent cache.\n",
      "Key '4646624923590576660' not in persistent cache.\n",
      "Key '-1905195894449916397' not in persistent cache.\n",
      "Key '-6172355839840188343' not in persistent cache.\n",
      "Key '-8824294170312360448' not in persistent cache.\n",
      "Key '-3971861661222772140' not in persistent cache.\n",
      "Key '9034503535749255304' not in persistent cache.\n",
      "Key '1742147001237158090' not in persistent cache.\n",
      "Key '6188024596329838952' not in persistent cache.\n",
      "Key '340639472830615208' not in persistent cache.\n",
      "Key '-8217046748351318125' not in persistent cache.\n",
      "Key '8872967929468414629' not in persistent cache.\n",
      "Key '-266546650543155055' not in persistent cache.\n",
      "Key '3274936524212286267' not in persistent cache.\n",
      "Key '-3913925224145512794' not in persistent cache.\n",
      "Key '1527832397394615460' not in persistent cache.\n",
      "Key '-715013982326409397' not in persistent cache.\n",
      "Key '4021629574611101718' not in persistent cache.\n",
      "Key '-384388451178914377' not in persistent cache.\n",
      "Key '1037168221375151162' not in persistent cache.\n",
      "Key '8246528991876805257' not in persistent cache.\n",
      "Key '4556237735923035431' not in persistent cache.\n",
      "Key '7367241123440321398' not in persistent cache.\n",
      "Key '3604211329784794354' not in persistent cache.\n",
      "Key '6415214717302080321' not in persistent cache.\n",
      "Key '77251555697821798' not in persistent cache.\n",
      "Key '3342083657696380104' not in persistent cache.\n",
      "Key '3635089377627028292' not in persistent cache.\n",
      "Key '472924507900148920' not in persistent cache.\n",
      "Key '-408593577008418730' not in persistent cache.\n",
      "Key '4049687360091106273' not in persistent cache.\n",
      "Key '2395247906077169463' not in persistent cache.\n",
      "Key '-7698583144750918330' not in persistent cache.\n",
      "Key '-4887579757233632363' not in persistent cache.\n",
      "Key '1547566440590310055' not in persistent cache.\n",
      "Key '-9000093324719050077' not in persistent cache.\n",
      "Key '-5735261222720491771' not in persistent cache.\n",
      "Key '84652832817941896' not in persistent cache.\n",
      "Key '2895656220335227863' not in persistent cache.\n",
      "Key '3603722347365826165' not in persistent cache.\n",
      "Key '6414725734883112132' not in persistent cache.\n",
      "Key '-1746661441756783040' not in persistent cache.\n",
      "Key '-1583329959889985770' not in persistent cache.\n",
      "Key '-5273621215843755596' not in persistent cache.\n",
      "Key '2389568269139170838' not in persistent cache.\n",
      "Key '2682573989069819026' not in persistent cache.\n",
      "Key '4794593300655343958' not in persistent cache.\n",
      "Key '-3132954072888080517' not in persistent cache.\n",
      "Key '3972998769861933183' not in persistent cache.\n",
      "Key '2318559315847996373' not in persistent cache.\n",
      "Key '-7775271734980091420' not in persistent cache.\n",
      "Key '-565910964478437325' not in persistent cache.\n",
      "Key '1470877850361136965' not in persistent cache.\n",
      "Key '-9076781914948223167' not in persistent cache.\n",
      "Key '-1413592429965296733' not in persistent cache.\n",
      "Key '7964242588768806' not in persistent cache.\n",
      "Key '7217325013090422901' not in persistent cache.\n",
      "Key '3527033757136653075' not in persistent cache.\n",
      "Key '3690365239003450345' not in persistent cache.\n",
      "Key '2575007350998411998' not in persistent cache.\n",
      "Key '2738338832865209268' not in persistent cache.\n",
      "Key '-951952423088560558' not in persistent cache.\n",
      "Key '6711237061894365876' not in persistent cache.\n",
      "Key '7004242781825014064' not in persistent cache.\n",
      "Key '-671721299489903664' not in persistent cache.\n",
      "Key '-1553239384398471314' not in persistent cache.\n",
      "Key '5552713458351542386' not in persistent cache.\n",
      "Key '-3147755284297251249' not in persistent cache.\n",
      "Key '-6195557046490482217' not in persistent cache.\n",
      "Key '1013803724011171878' not in persistent cache.\n",
      "Key '3050592538850746168' not in persistent cache.\n",
      "Key '-7497067226458613964' not in persistent cache.\n",
      "Key '166122258524312470' not in persistent cache.\n",
      "Key '1587678931078378009' not in persistent cache.\n",
      "Key '8797039701580032104' not in persistent cache.\n",
      "Key '5106748445626262278' not in persistent cache.\n",
      "Key '5270079927493059548' not in persistent cache.\n",
      "Key '-2891307249146835624' not in persistent cache.\n",
      "Key '4318053521354818471' not in persistent cache.\n",
      "Key '627762265401048645' not in persistent cache.\n",
      "Key '3892594367399606951' not in persistent cache.\n",
      "Key '4185600087330255139' not in persistent cache.\n",
      "Key '2609634238537049631' not in persistent cache.\n",
      "Key '1728116153628481981' not in persistent cache.\n",
      "Key '-5214317694346687807' not in persistent cache.\n",
      "Key '133600253729702046' not in persistent cache.\n",
      "Key '-2914201508463528922' not in persistent cache.\n",
      "Key '4295159262038125173' not in persistent cache.\n",
      "Key '6331948076877699463' not in persistent cache.\n",
      "Key '182645694552707459' not in persistent cache.\n",
      "Key '3447477796551265765' not in persistent cache.\n",
      "Key '4869034469105331304' not in persistent cache.\n",
      "Key '-6368348834102566217' not in persistent cache.\n",
      "Key '8388103983653215573' not in persistent cache.\n",
      "Key '8551435465520012843' not in persistent cache.\n",
      "Key '390048288880117671' not in persistent cache.\n",
      "Key '7599409059381771766' not in persistent cache.\n",
      "Key '3909117803428001940' not in persistent cache.\n",
      "Key '-6874436785298623242' not in persistent cache.\n",
      "Key '-6581431065367975054' not in persistent cache.\n",
      "Key '105985385354219151' not in persistent cache.\n",
      "Key '-775532699554348499' not in persistent cache.\n",
      "Key '6330420143195665201' not in persistent cache.\n",
      "Key '-2370048599453128434' not in persistent cache.\n",
      "Key '-5417850361646359402' not in persistent cache.\n",
      "Key '-5254518879779562132' not in persistent cache.\n",
      "Key '-3217730064939987842' not in persistent cache.\n",
      "Key '-6719360541614491149' not in persistent cache.\n",
      "Key '943828943368435285' not in persistent cache.\n",
      "Key '2365385615922500824' not in persistent cache.\n",
      "Key '2528717097789298094' not in persistent cache.\n",
      "Key '-1161574158164471732' not in persistent cache.\n",
      "Key '6047786612337182363' not in persistent cache.\n",
      "Key '-2113600564302712809' not in persistent cache.\n",
      "Key '5095760206198941286' not in persistent cache.\n",
      "Key '1405468950245171460' not in persistent cache.\n",
      "Key '-2375728236391127059' not in persistent cache.\n",
      "Key '-2082722516460478871' not in persistent cache.\n",
      "Key '-5920247033397147850' not in persistent cache.\n",
      "Key '2302562571399893904' not in persistent cache.\n",
      "Key '1252780418272972471' not in persistent cache.\n",
      "Key '371262333364404821' not in persistent cache.\n",
      "Key '431185887479561696' not in persistent cache.\n",
      "Key '-1223253566534375114' not in persistent cache.\n",
      "Key '7129659456347088709' not in persistent cache.\n",
      "Key '-4107723846860808812' not in persistent cache.\n",
      "Key '-2070935032021234522' not in persistent cache.\n",
      "Key '-5572565508695737829' not in persistent cache.\n",
      "Key '-4955405312347668220' not in persistent cache.\n",
      "Key '3512180648841254144' not in persistent cache.\n",
      "Key '3675512130708051414' not in persistent cache.\n",
      "Key '-14779125245718412' not in persistent cache.\n",
      "Key '7194581645255935683' not in persistent cache.\n",
      "Key '-966805531383959489' not in persistent cache.\n",
      "Key '6242555239117694606' not in persistent cache.\n",
      "Key '-4493765305470932045' not in persistent cache.\n",
      "Key '3169424179511994389' not in persistent cache.\n",
      "Key '3462429899442642577' not in persistent cache.\n",
      "Key '1425439896457358186' not in persistent cache.\n",
      "Key '4942279194533158664' not in persistent cache.\n",
      "Key '5002202748648315539' not in persistent cache.\n",
      "Key '3347763294634378729' not in persistent cache.\n",
      "Key '-6746067756193709064' not in persistent cache.\n",
      "Key '463293014307945031' not in persistent cache.\n",
      "Key '2500081829147519321' not in persistent cache.\n",
      "Key '-1001548647526983986' not in persistent cache.\n",
      "Key '-384388451178914377' not in persistent cache.\n",
      "Key '1037168221375151162' not in persistent cache.\n",
      "Key '8246528991876805257' not in persistent cache.\n",
      "Key '4556237735923035431' not in persistent cache.\n",
      "Key '7367241123440321398' not in persistent cache.\n",
      "Key '3604211329784794354' not in persistent cache.\n",
      "Key '6415214717302080321' not in persistent cache.\n",
      "Key '77251555697821798' not in persistent cache.\n",
      "Key '3342083657696380104' not in persistent cache.\n",
      "Key '3635089377627028292' not in persistent cache.\n",
      "Key '472924507900148920' not in persistent cache.\n",
      "Key '-408593577008418730' not in persistent cache.\n",
      "Key '4049687360091106273' not in persistent cache.\n",
      "Key '2395247906077169463' not in persistent cache.\n",
      "Key '-7698583144750918330' not in persistent cache.\n",
      "Key '-4887579757233632363' not in persistent cache.\n",
      "Key '1547566440590310055' not in persistent cache.\n",
      "Key '-9000093324719050077' not in persistent cache.\n",
      "Key '-5735261222720491771' not in persistent cache.\n",
      "Key '84652832817941896' not in persistent cache.\n",
      "Key '2895656220335227863' not in persistent cache.\n",
      "Key '3603722347365826165' not in persistent cache.\n",
      "Key '6414725734883112132' not in persistent cache.\n",
      "Key '-1746661441756783040' not in persistent cache.\n",
      "Key '-1583329959889985770' not in persistent cache.\n",
      "Key '-5273621215843755596' not in persistent cache.\n",
      "Key '2389568269139170838' not in persistent cache.\n",
      "Key '2682573989069819026' not in persistent cache.\n",
      "Key '4794593300655343958' not in persistent cache.\n",
      "Key '-3132954072888080517' not in persistent cache.\n",
      "Key '3972998769861933183' not in persistent cache.\n",
      "Key '2318559315847996373' not in persistent cache.\n",
      "Key '-7775271734980091420' not in persistent cache.\n",
      "Key '-8645387572858873058' not in persistent cache.\n",
      "Key '-7937321445828274756' not in persistent cache.\n",
      "Key '6728225441244978341' not in persistent cache.\n",
      "Key '7021231161175626529' not in persistent cache.\n",
      "Key '8523124774935067900' not in persistent cache.\n",
      "Key '-2521795696083917490' not in persistent cache.\n",
      "Key '2733927508563557549' not in persistent cache.\n",
      "Key '2585377274201354476' not in persistent cache.\n",
      "Key '-1806212981286313511' not in persistent cache.\n",
      "Key '3942105668315856387' not in persistent cache.\n",
      "Key '-1967728012523756058' not in persistent cache.\n",
      "Key '7603720597982411357' not in persistent cache.\n",
      "Key '-2199021571917225791' not in persistent cache.\n",
      "Key '4819577004056229320' not in persistent cache.\n",
      "Key '8277809316887320672' not in persistent cache.\n",
      "Key '-83598078021844726' not in persistent cache.\n",
      "Key '4435728804904029371' not in persistent cache.\n",
      "Key '-2354308527346345082' not in persistent cache.\n",
      "Key '2818966646182012256' not in persistent cache.\n",
      "Key '1800469492637262750' not in persistent cache.\n",
      "Key '-7886174798075830749' not in persistent cache.\n",
      "Key '656624812739739742' not in persistent cache.\n",
      "Key '-1081953005769575278' not in persistent cache.\n",
      "Key '8431098831214023998' not in persistent cache.\n",
      "Key '-1818959576569205924' not in persistent cache.\n",
      "Key '-6186669671631487522' not in persistent cache.\n",
      "Key '-3190243877669491822' not in persistent cache.\n",
      "Key '-9052388680325617060' not in persistent cache.\n",
      "Key '-6698774899593397100' not in persistent cache.\n",
      "Key '5361220697565267446' not in persistent cache.\n",
      "Key '-4674881506627592112' not in persistent cache.\n",
      "Key '3832826738977706402' not in persistent cache.\n",
      "Key '3332989798691096588' not in persistent cache.\n",
      "Key '811127651492340147' not in persistent cache.\n",
      "Key '5794818088280572053' not in persistent cache.\n",
      "Key '993100129209272256' not in persistent cache.\n",
      "Key '-2255167786926080382' not in persistent cache.\n",
      "Key '6155148116865089564' not in persistent cache.\n",
      "Key '-608032920919874070' not in persistent cache.\n",
      "Key '4083641718232155160' not in persistent cache.\n",
      "Key '-726422597404791766' not in persistent cache.\n",
      "Key '4335647334121532320' not in persistent cache.\n",
      "Key '3958445080885541120' not in persistent cache.\n",
      "Key '2198942633041967671' not in persistent cache.\n",
      "Key '-426564682215827717' not in persistent cache.\n",
      "Key '-2672722182300706210' not in persistent cache.\n",
      "Key '3488239664354830344' not in persistent cache.\n",
      "Key '-7257335383671072494' not in persistent cache.\n",
      "Key '-5962596681477806403' not in persistent cache.\n",
      "Key '1276425082674092493' not in persistent cache.\n",
      "Key '-8858000745713532220' not in persistent cache.\n",
      "Key '8493539985902944973' not in persistent cache.\n",
      "Key '2693735148489224114' not in persistent cache.\n",
      "Key '1845872599005367803' not in persistent cache.\n",
      "Key '7958432329319535152' not in persistent cache.\n",
      "Key '-7219723371790311423' not in persistent cache.\n",
      "Key '1865092967521613080' not in persistent cache.\n",
      "Key '-4751638091504163632' not in persistent cache.\n",
      "Key '-1507550756610164904' not in persistent cache.\n",
      "Key '7961032635341564698' not in persistent cache.\n",
      "Key '4106165133353514593' not in persistent cache.\n",
      "Key '-3763781187836281328' not in persistent cache.\n",
      "Key '2314027727452280353' not in persistent cache.\n",
      "Key '4402014260484232887' not in persistent cache.\n",
      "Key '1438187230103993140' not in persistent cache.\n",
      "Key '6258454307539039847' not in persistent cache.\n",
      "Key '7531294625045553366' not in persistent cache.\n",
      "Key '-3678963461893920432' not in persistent cache.\n",
      "Key '270873181223047442' not in persistent cache.\n",
      "Key '-8415901407256347537' not in persistent cache.\n",
      "Key '5844483200776640105' not in persistent cache.\n",
      "Key '654368581301949445' not in persistent cache.\n",
      "Key '8908796337208117131' not in persistent cache.\n",
      "Key '-8185707952114485607' not in persistent cache.\n",
      "Key '-3549443412193555789' not in persistent cache.\n",
      "Key '2285602066246468643' not in persistent cache.\n",
      "Key '-3876674726524143168' not in persistent cache.\n",
      "Key '-5283284360185832468' not in persistent cache.\n",
      "Key '2542481865984890333' not in persistent cache.\n",
      "Key '-6487243821242031824' not in persistent cache.\n",
      "Key '-1533962901938988882' not in persistent cache.\n",
      "Key '8165070210477707174' not in persistent cache.\n",
      "Key '-8208717038198758959' not in persistent cache.\n",
      "Key '-1744322061891522006' not in persistent cache.\n",
      "Key '446298814589318215' not in persistent cache.\n",
      "Key '-170033418804243833' not in persistent cache.\n",
      "Key '-4296220011559289705' not in persistent cache.\n",
      "Key '2419513105116402321' not in persistent cache.\n",
      "Key '8753576219594531707' not in persistent cache.\n",
      "Key '-5694323355020436776' not in persistent cache.\n",
      "Key '3274936524212286267' not in persistent cache.\n",
      "Key '-5327745414841781287' not in persistent cache.\n",
      "Key '-3913925224145512794' not in persistent cache.\n",
      "Key '8029002957387461589' not in persistent cache.\n",
      "Key '4423414675586803505' not in persistent cache.\n",
      "Key '-1636602672232218003' not in persistent cache.\n",
      "Key '2738146653731138115' not in persistent cache.\n",
      "Key '1878437001481998489' not in persistent cache.\n",
      "Key '8407810947158960462' not in persistent cache.\n",
      "Key '-4601233978951518571' not in persistent cache.\n",
      "Key '-7727271148049631726' not in persistent cache.\n",
      "Key '1161516707671621692' not in persistent cache.\n",
      "Key '4678356005747422170' not in persistent cache.\n",
      "Key '4738279559862579045' not in persistent cache.\n",
      "Key '3083840105848642235' not in persistent cache.\n",
      "Key '-7009990944979445558' not in persistent cache.\n",
      "Key '-4198987557462159591' not in persistent cache.\n",
      "Key '2236158640361782827' not in persistent cache.\n",
      "Key '-1265471836312720480' not in persistent cache.\n",
      "Key '-5046669022949018999' not in persistent cache.\n",
      "Key '773245032589414668' not in persistent cache.\n",
      "Key '3584248420106700635' not in persistent cache.\n",
      "Key '4292314547137298937' not in persistent cache.\n",
      "Key '7103317934654584904' not in persistent cache.\n",
      "Key '-1058069241985310268' not in persistent cache.\n",
      "Key '6151291528516343827' not in persistent cache.\n",
      "Key '-4585029016072282824' not in persistent cache.\n",
      "Key '3078160468910643610' not in persistent cache.\n",
      "Key '3371166188841291798' not in persistent cache.\n",
      "Key '4663205265752178606' not in persistent cache.\n",
      "Key '3781687180843610956' not in persistent cache.\n",
      "Key '-3160746667131558832' not in persistent cache.\n",
      "Key '6585528663929199149' not in persistent cache.\n",
      "Key '3537726901735968181' not in persistent cache.\n",
      "Key '-697298999381602677' not in persistent cache.\n",
      "Key '5737847198442339741' not in persistent cache.\n",
      "Key '2236216721767836434' not in persistent cache.\n",
      "Key '5501048823766394740' not in persistent cache.\n",
      "Key '-7125781194404723209' not in persistent cache.\n",
      "Key '7085936978187257549' not in persistent cache.\n",
      "Key '7794003105217855851' not in persistent cache.\n",
      "Key '-7841737580974409798' not in persistent cache.\n",
      "Key '2443619316095246646' not in persistent cache.\n",
      "Key '-8793763987112650875' not in persistent cache.\n",
      "Key '5962688830643130915' not in persistent cache.\n",
      "Key '6579849026991200524' not in persistent cache.\n",
      "Key '6872854746921848712' not in persistent cache.\n",
      "Key '-4531515614642572331' not in persistent cache.\n",
      "Key '-5413033699551139981' not in persistent cache.\n",
      "Key '-5353110145435983106' not in persistent cache.\n",
      "Key '-7007549599449919916' not in persistent cache.\n",
      "Key '1345363423431543907' not in persistent cache.\n",
      "Key '8554724193933198002' not in persistent cache.\n",
      "Key '-7855231064936779324' not in persistent cache.\n",
      "Key '7089882532098268985' not in persistent cache.\n",
      "Key '7707042728446338594' not in persistent cache.\n",
      "Key '-2272115384074290658' not in persistent cache.\n",
      "Key '-2108783902207493388' not in persistent cache.\n",
      "Key '-5799075158161263214' not in persistent cache.\n",
      "Key '1410285612340390881' not in persistent cache.\n",
      "Key '-6751101564299504291' not in persistent cache.\n",
      "Key '-3940098176782218324' not in persistent cache.\n",
      "Key '-3232032049751620022' not in persistent cache.\n",
      "Key '-7013229236387918541' not in persistent cache.\n",
      "Key '-6720223516457270353' not in persistent cache.\n",
      "Key '1925124469213425672' not in persistent cache.\n",
      "Key '1043606384304858022' not in persistent cache.\n",
      "Key '-5898827463670311766' not in persistent cache.\n",
      "Key '-550909515593921913' not in persistent cache.\n",
      "Key '-3598711277787152881' not in persistent cache.\n",
      "Key '3610649492714501214' not in persistent cache.\n",
      "Key '5647438307554075504' not in persistent cache.\n",
      "Key '-501864074770916500' not in persistent cache.\n",
      "Key '2762968027227641806' not in persistent cache.\n",
      "Key '4184524699781707345' not in persistent cache.\n",
      "Key '-7052858603426190176' not in persistent cache.\n",
      "Key '7703594214329591614' not in persistent cache.\n",
      "Key '7866925696196388884' not in persistent cache.\n",
      "Key '-294461480443506288' not in persistent cache.\n",
      "Key '6914899290058147807' not in persistent cache.\n",
      "Key '3224608034104377981' not in persistent cache.\n",
      "Key '-7558946554622247201' not in persistent cache.\n",
      "Key '-7265940834691599013' not in persistent cache.\n",
      "Key '7978560585130828681' not in persistent cache.\n",
      "Key '-9044996676559990860' not in persistent cache.\n",
      "Key '-308148107916087273' not in persistent cache.\n",
      "Key '5741914253268135971' not in persistent cache.\n",
      "Key '-4215391669388796797' not in persistent cache.\n",
      "Key '-3578768451713710018' not in persistent cache.\n",
      "Key '-6981913406988129836' not in persistent cache.\n",
      "Key '4375723744344176874' not in persistent cache.\n",
      "Key '-4189077110081353160' not in persistent cache.\n",
      "Key '7667492833304644700' not in persistent cache.\n",
      "Key '-8933097188248907950' not in persistent cache.\n",
      "Key '-3397461890567746490' not in persistent cache.\n",
      "Key '-3529395872782913188' not in persistent cache.\n",
      "Key '5164094010892350439' not in persistent cache.\n",
      "Key '1946882262939315232' not in persistent cache.\n",
      "Key '2222257489168211987' not in persistent cache.\n",
      "Key '-4834607692918764212' not in persistent cache.\n",
      "Key '1844556150604168116' not in persistent cache.\n",
      "Key '-2772793815095391857' not in persistent cache.\n",
      "Key '7439991611574350331' not in persistent cache.\n",
      "Key '447668432486827652' not in persistent cache.\n",
      "Key '5756691279143454499' not in persistent cache.\n",
      "Key '-8348613555521858843' not in persistent cache.\n",
      "Key '-8239670132104152921' not in persistent cache.\n",
      "Key '-4511741124772655799' not in persistent cache.\n",
      "Key '-4538027040918396750' not in persistent cache.\n",
      "Key '-6575505043892552299' not in persistent cache.\n",
      "Key '4974076910975556552' not in persistent cache.\n",
      "Key '-5481831046066831464' not in persistent cache.\n",
      "Key '716241281778798927' not in persistent cache.\n",
      "Key '2801644306721597602' not in persistent cache.\n",
      "Key '-2319412408034083690' not in persistent cache.\n",
      "Key '-3755182969695601242' not in persistent cache.\n",
      "Key '-1896641030787651297' not in persistent cache.\n",
      "Key '5755880549247088270' not in persistent cache.\n",
      "Key '-2188057434617587509' not in persistent cache.\n",
      "Key '5869950406630787805' not in persistent cache.\n",
      "Key '7169292734105518224' not in persistent cache.\n",
      "Key '-6230953725716329467' not in persistent cache.\n",
      "Key '-2700875928509362985' not in persistent cache.\n",
      "Key '-923879797705544820' not in persistent cache.\n",
      "Key '-6516639089435506111' not in persistent cache.\n",
      "Key '1122867824782849594' not in persistent cache.\n",
      "Key '-4275009968922902514' not in persistent cache.\n",
      "Key '-3774030312028601889' not in persistent cache.\n",
      "Key '-2095505507924507234' not in persistent cache.\n",
      "Key '-1437317619391864082' not in persistent cache.\n",
      "Key '3875133997165393190' not in persistent cache.\n",
      "Key '-3363921443397102528' not in persistent cache.\n",
      "Key '831132118362637195' not in persistent cache.\n",
      "Key '-3469323552664686036' not in persistent cache.\n",
      "Key '811137392730923285' not in persistent cache.\n",
      "Key '-2285601547300415366' not in persistent cache.\n",
      "Key '-5355881677650262861' not in persistent cache.\n",
      "Key '1628436217852041407' not in persistent cache.\n",
      "Key '7767807855423874611' not in persistent cache.\n",
      "Key '7696475513309729286' not in persistent cache.\n",
      "Key '5027601685329504591' not in persistent cache.\n",
      "Key '-6825163021566703128' not in persistent cache.\n",
      "Key '-8025736725059536962' not in persistent cache.\n",
      "Key '-7779638021838945964' not in persistent cache.\n",
      "Key '-2830903967759198172' not in persistent cache.\n",
      "Key '-4948554286115700985' not in persistent cache.\n",
      "Key '7050061419393432514' not in persistent cache.\n",
      "Key '2274959739048390257' not in persistent cache.\n",
      "Key '-3482077346248030975' not in persistent cache.\n",
      "Key '-3141798437568746168' not in persistent cache.\n",
      "Key '4506853610153435461' not in persistent cache.\n",
      "Key '4474212197612427317' not in persistent cache.\n",
      "Key '-7394648237682175429' not in persistent cache.\n",
      "Key '-7544279293132160128' not in persistent cache.\n",
      "Key '-8381670713905648190' not in persistent cache.\n",
      "Key '3563184440468933115' not in persistent cache.\n",
      "Key '242540537593806518' not in persistent cache.\n",
      "Key '-5888032042351094930' not in persistent cache.\n",
      "Key '7986795403242780361' not in persistent cache.\n",
      "Key '-7420573002933219545' not in persistent cache.\n",
      "Key '-3455467912764773335' not in persistent cache.\n",
      "Key '-4105144919411018529' not in persistent cache.\n",
      "Key '5666613526201831025' not in persistent cache.\n",
      "Key '-3837556766050289354' not in persistent cache.\n",
      "Key '-6123431744348263919' not in persistent cache.\n",
      "Key '-8758829211979756319' not in persistent cache.\n",
      "Key '-268365914986116943' not in persistent cache.\n",
      "Key '543843157288647688' not in persistent cache.\n",
      "Key '-9037099785086000039' not in persistent cache.\n",
      "Key '8890884894613825319' not in persistent cache.\n",
      "Key '2163547908060905590' not in persistent cache.\n",
      "Key '2565649670639723412' not in persistent cache.\n",
      "Key '-1764004469995145002' not in persistent cache.\n",
      "Key '5982584634179543090' not in persistent cache.\n",
      "Key '1413398063089154837' not in persistent cache.\n",
      "Key '-3339604501711679685' not in persistent cache.\n",
      "Key '-4510750454180532344' not in persistent cache.\n",
      "Key '19251962873579192' not in persistent cache.\n",
      "Key '-6239257572480951710' not in persistent cache.\n",
      "Key '-6617370693163116260' not in persistent cache.\n",
      "Key '-6907315157905196401' not in persistent cache.\n",
      "Key '5789324677530990262' not in persistent cache.\n",
      "Key '2764069856360285441' not in persistent cache.\n",
      "Key '2129233753756854874' not in persistent cache.\n",
      "Key '-6428143199570252989' not in persistent cache.\n",
      "Key '8230808533397307227' not in persistent cache.\n",
      "Key '-2159377522789312985' not in persistent cache.\n",
      "Key '-6614770423430794197' not in persistent cache.\n",
      "Key '-1060092471370705816' not in persistent cache.\n",
      "Key '-8150961985380674617' not in persistent cache.\n",
      "Key '-613455925793443513' not in persistent cache.\n",
      "Key '-3858423107871003916' not in persistent cache.\n",
      "Key '-1952286524104363891' not in persistent cache.\n",
      "Key '-8765295614808914083' not in persistent cache.\n",
      "Key '7248406118752351879' not in persistent cache.\n",
      "Key '3469417793823573578' not in persistent cache.\n",
      "Key '5969289149616489609' not in persistent cache.\n",
      "Key '5334340112310260665' not in persistent cache.\n",
      "Key '8056743373504266945' not in persistent cache.\n",
      "Key '-5694323355020436776' not in persistent cache.\n",
      "Key '-5327745414841781287' not in persistent cache.\n",
      "Key '6418439926772877882' not in persistent cache.\n",
      "Key '-26394896608594912' not in persistent cache.\n",
      "Key '-8415901407256347537' not in persistent cache.\n",
      "Key '5844483200776640105' not in persistent cache.\n",
      "Key '654368581301949445' not in persistent cache.\n",
      "Key '8908796337208117131' not in persistent cache.\n",
      "Key '-8185707952114485607' not in persistent cache.\n",
      "Key '-3549443412193555789' not in persistent cache.\n",
      "Key '4985965355861395465' not in persistent cache.\n",
      "Key '-7377624565183662438' not in persistent cache.\n",
      "Key '5236138614704765433' not in persistent cache.\n",
      "Key '4646624923590576660' not in persistent cache.\n",
      "Key '-1905195894449916397' not in persistent cache.\n",
      "Key '-6172355839840188343' not in persistent cache.\n",
      "Key '-8824294170312360448' not in persistent cache.\n",
      "Key '-3971861661222772140' not in persistent cache.\n",
      "Key '9034503535749255304' not in persistent cache.\n",
      "Key '1742147001237158090' not in persistent cache.\n",
      "Key '6188024596329838952' not in persistent cache.\n",
      "Key '340639472830615208' not in persistent cache.\n",
      "Key '-8217046748351318125' not in persistent cache.\n",
      "Key '8872967929468414629' not in persistent cache.\n",
      "Key '-266546650543155055' not in persistent cache.\n",
      "Key '3274936524212286267' not in persistent cache.\n",
      "Key '-3913925224145512794' not in persistent cache.\n",
      "Key '1527832397394615460' not in persistent cache.\n",
      "Key '-715013982326409397' not in persistent cache.\n",
      "Key '4021629574611101718' not in persistent cache.\n",
      "Key '-384388451178914377' not in persistent cache.\n",
      "Key '1037168221375151162' not in persistent cache.\n",
      "Key '8246528991876805257' not in persistent cache.\n",
      "Key '4556237735923035431' not in persistent cache.\n",
      "Key '7367241123440321398' not in persistent cache.\n",
      "Key '3604211329784794354' not in persistent cache.\n",
      "Key '6415214717302080321' not in persistent cache.\n",
      "Key '77251555697821798' not in persistent cache.\n",
      "Key '3342083657696380104' not in persistent cache.\n",
      "Key '3635089377627028292' not in persistent cache.\n",
      "Key '472924507900148920' not in persistent cache.\n",
      "Key '-408593577008418730' not in persistent cache.\n",
      "Key '4049687360091106273' not in persistent cache.\n",
      "Key '2395247906077169463' not in persistent cache.\n",
      "Key '-7698583144750918330' not in persistent cache.\n",
      "Key '-4887579757233632363' not in persistent cache.\n",
      "Key '1547566440590310055' not in persistent cache.\n",
      "Key '-9000093324719050077' not in persistent cache.\n",
      "Key '-5735261222720491771' not in persistent cache.\n",
      "Key '84652832817941896' not in persistent cache.\n",
      "Key '2895656220335227863' not in persistent cache.\n",
      "Key '3603722347365826165' not in persistent cache.\n",
      "Key '6414725734883112132' not in persistent cache.\n",
      "Key '-1746661441756783040' not in persistent cache.\n",
      "Key '-1583329959889985770' not in persistent cache.\n",
      "Key '-5273621215843755596' not in persistent cache.\n",
      "Key '2389568269139170838' not in persistent cache.\n",
      "Key '2682573989069819026' not in persistent cache.\n",
      "Key '4794593300655343958' not in persistent cache.\n",
      "Key '-3132954072888080517' not in persistent cache.\n",
      "Key '3972998769861933183' not in persistent cache.\n",
      "Key '2318559315847996373' not in persistent cache.\n",
      "Key '-7775271734980091420' not in persistent cache.\n",
      "Key '-565910964478437325' not in persistent cache.\n",
      "Key '1470877850361136965' not in persistent cache.\n",
      "Key '-9076781914948223167' not in persistent cache.\n",
      "Key '-1413592429965296733' not in persistent cache.\n",
      "Key '7964242588768806' not in persistent cache.\n",
      "Key '7217325013090422901' not in persistent cache.\n",
      "Key '3527033757136653075' not in persistent cache.\n",
      "Key '3690365239003450345' not in persistent cache.\n",
      "Key '2575007350998411998' not in persistent cache.\n",
      "Key '2738338832865209268' not in persistent cache.\n",
      "Key '-951952423088560558' not in persistent cache.\n",
      "Key '6711237061894365876' not in persistent cache.\n",
      "Key '7004242781825014064' not in persistent cache.\n",
      "Key '-671721299489903664' not in persistent cache.\n",
      "Key '-1553239384398471314' not in persistent cache.\n",
      "Key '5552713458351542386' not in persistent cache.\n",
      "Key '-3147755284297251249' not in persistent cache.\n",
      "Key '-6195557046490482217' not in persistent cache.\n",
      "Key '1013803724011171878' not in persistent cache.\n",
      "Key '3050592538850746168' not in persistent cache.\n",
      "Key '-7497067226458613964' not in persistent cache.\n",
      "Key '166122258524312470' not in persistent cache.\n",
      "Key '1587678931078378009' not in persistent cache.\n",
      "Key '8797039701580032104' not in persistent cache.\n",
      "Key '5106748445626262278' not in persistent cache.\n",
      "Key '5270079927493059548' not in persistent cache.\n",
      "Key '-2891307249146835624' not in persistent cache.\n",
      "Key '4318053521354818471' not in persistent cache.\n",
      "Key '627762265401048645' not in persistent cache.\n",
      "Key '3892594367399606951' not in persistent cache.\n",
      "Key '4185600087330255139' not in persistent cache.\n",
      "Key '2609634238537049631' not in persistent cache.\n",
      "Key '1728116153628481981' not in persistent cache.\n",
      "Key '-5214317694346687807' not in persistent cache.\n",
      "Key '133600253729702046' not in persistent cache.\n",
      "Key '-2914201508463528922' not in persistent cache.\n",
      "Key '4295159262038125173' not in persistent cache.\n",
      "Key '6331948076877699463' not in persistent cache.\n",
      "Key '182645694552707459' not in persistent cache.\n",
      "Key '3447477796551265765' not in persistent cache.\n",
      "Key '4869034469105331304' not in persistent cache.\n",
      "Key '-6368348834102566217' not in persistent cache.\n",
      "Key '8388103983653215573' not in persistent cache.\n",
      "Key '8551435465520012843' not in persistent cache.\n",
      "Key '390048288880117671' not in persistent cache.\n",
      "Key '7599409059381771766' not in persistent cache.\n",
      "Key '3909117803428001940' not in persistent cache.\n",
      "Key '-6874436785298623242' not in persistent cache.\n",
      "Key '-6581431065367975054' not in persistent cache.\n",
      "Key '105985385354219151' not in persistent cache.\n",
      "Key '-775532699554348499' not in persistent cache.\n",
      "Key '6330420143195665201' not in persistent cache.\n",
      "Key '-2370048599453128434' not in persistent cache.\n",
      "Key '-5417850361646359402' not in persistent cache.\n",
      "Key '-5254518879779562132' not in persistent cache.\n",
      "Key '-3217730064939987842' not in persistent cache.\n",
      "Key '-6719360541614491149' not in persistent cache.\n",
      "Key '943828943368435285' not in persistent cache.\n",
      "Key '2365385615922500824' not in persistent cache.\n",
      "Key '2528717097789298094' not in persistent cache.\n",
      "Key '-1161574158164471732' not in persistent cache.\n",
      "Key '6047786612337182363' not in persistent cache.\n",
      "Key '-2113600564302712809' not in persistent cache.\n",
      "Key '5095760206198941286' not in persistent cache.\n",
      "Key '1405468950245171460' not in persistent cache.\n",
      "Key '-2375728236391127059' not in persistent cache.\n",
      "Key '-2082722516460478871' not in persistent cache.\n",
      "Key '-5920247033397147850' not in persistent cache.\n",
      "Key '2302562571399893904' not in persistent cache.\n",
      "Key '1252780418272972471' not in persistent cache.\n",
      "Key '371262333364404821' not in persistent cache.\n",
      "Key '431185887479561696' not in persistent cache.\n",
      "Key '-1223253566534375114' not in persistent cache.\n",
      "Key '7129659456347088709' not in persistent cache.\n",
      "Key '-4107723846860808812' not in persistent cache.\n",
      "Key '-2070935032021234522' not in persistent cache.\n",
      "Key '-5572565508695737829' not in persistent cache.\n",
      "Key '-4955405312347668220' not in persistent cache.\n",
      "Key '3512180648841254144' not in persistent cache.\n",
      "Key '3675512130708051414' not in persistent cache.\n",
      "Key '-14779125245718412' not in persistent cache.\n",
      "Key '7194581645255935683' not in persistent cache.\n",
      "Key '-966805531383959489' not in persistent cache.\n",
      "Key '6242555239117694606' not in persistent cache.\n",
      "Key '-4493765305470932045' not in persistent cache.\n",
      "Key '3169424179511994389' not in persistent cache.\n",
      "Key '3462429899442642577' not in persistent cache.\n",
      "Key '1425439896457358186' not in persistent cache.\n",
      "Key '4942279194533158664' not in persistent cache.\n",
      "Key '5002202748648315539' not in persistent cache.\n",
      "Key '3347763294634378729' not in persistent cache.\n",
      "Key '-6746067756193709064' not in persistent cache.\n",
      "Key '463293014307945031' not in persistent cache.\n",
      "Key '2500081829147519321' not in persistent cache.\n",
      "Key '-1001548647526983986' not in persistent cache.\n",
      "Key '-384388451178914377' not in persistent cache.\n",
      "Key '1037168221375151162' not in persistent cache.\n",
      "Key '8246528991876805257' not in persistent cache.\n",
      "Key '4556237735923035431' not in persistent cache.\n",
      "Key '7367241123440321398' not in persistent cache.\n",
      "Key '3604211329784794354' not in persistent cache.\n",
      "Key '6415214717302080321' not in persistent cache.\n",
      "Key '77251555697821798' not in persistent cache.\n",
      "Key '3342083657696380104' not in persistent cache.\n",
      "Key '3635089377627028292' not in persistent cache.\n",
      "Key '472924507900148920' not in persistent cache.\n",
      "Key '-408593577008418730' not in persistent cache.\n",
      "Key '4049687360091106273' not in persistent cache.\n",
      "Key '2395247906077169463' not in persistent cache.\n",
      "Key '-7698583144750918330' not in persistent cache.\n",
      "Key '-4887579757233632363' not in persistent cache.\n",
      "Key '1547566440590310055' not in persistent cache.\n",
      "Key '-9000093324719050077' not in persistent cache.\n",
      "Key '-5735261222720491771' not in persistent cache.\n",
      "Key '84652832817941896' not in persistent cache.\n",
      "Key '2895656220335227863' not in persistent cache.\n",
      "Key '3603722347365826165' not in persistent cache.\n",
      "Key '6414725734883112132' not in persistent cache.\n",
      "Key '-1746661441756783040' not in persistent cache.\n",
      "Key '-1583329959889985770' not in persistent cache.\n",
      "Key '-5273621215843755596' not in persistent cache.\n",
      "Key '2389568269139170838' not in persistent cache.\n",
      "Key '2682573989069819026' not in persistent cache.\n",
      "Key '4794593300655343958' not in persistent cache.\n",
      "Key '-3132954072888080517' not in persistent cache.\n",
      "Key '3972998769861933183' not in persistent cache.\n",
      "Key '2318559315847996373' not in persistent cache.\n",
      "Key '-7775271734980091420' not in persistent cache.\n",
      "Key '-8645387572858873058' not in persistent cache.\n",
      "Key '-7937321445828274756' not in persistent cache.\n",
      "Key '6728225441244978341' not in persistent cache.\n",
      "Key '7021231161175626529' not in persistent cache.\n",
      "Key '8523124774935067900' not in persistent cache.\n",
      "Key '-2521795696083917490' not in persistent cache.\n",
      "Key '2733927508563557549' not in persistent cache.\n",
      "Key '2585377274201354476' not in persistent cache.\n",
      "Key '-1806212981286313511' not in persistent cache.\n",
      "Key '3942105668315856387' not in persistent cache.\n",
      "Key '-1967728012523756058' not in persistent cache.\n",
      "Key '7603720597982411357' not in persistent cache.\n",
      "Key '-2199021571917225791' not in persistent cache.\n",
      "Key '4819577004056229320' not in persistent cache.\n",
      "Key '8277809316887320672' not in persistent cache.\n",
      "Key '-83598078021844726' not in persistent cache.\n",
      "Key '4435728804904029371' not in persistent cache.\n",
      "Key '-2354308527346345082' not in persistent cache.\n",
      "Key '2818966646182012256' not in persistent cache.\n",
      "Key '1800469492637262750' not in persistent cache.\n",
      "Key '-7886174798075830749' not in persistent cache.\n",
      "Key '656624812739739742' not in persistent cache.\n",
      "Key '-1081953005769575278' not in persistent cache.\n",
      "Key '8431098831214023998' not in persistent cache.\n",
      "Key '-1818959576569205924' not in persistent cache.\n",
      "Key '-6186669671631487522' not in persistent cache.\n",
      "Key '-3190243877669491822' not in persistent cache.\n",
      "Key '-9052388680325617060' not in persistent cache.\n",
      "Key '-6698774899593397100' not in persistent cache.\n",
      "Key '5361220697565267446' not in persistent cache.\n",
      "Key '-4674881506627592112' not in persistent cache.\n",
      "Key '3832826738977706402' not in persistent cache.\n",
      "Key '3332989798691096588' not in persistent cache.\n",
      "Key '811127651492340147' not in persistent cache.\n",
      "Key '5794818088280572053' not in persistent cache.\n",
      "Key '993100129209272256' not in persistent cache.\n",
      "Key '-2255167786926080382' not in persistent cache.\n",
      "Key '6155148116865089564' not in persistent cache.\n",
      "Key '-608032920919874070' not in persistent cache.\n",
      "Key '4083641718232155160' not in persistent cache.\n",
      "Key '-726422597404791766' not in persistent cache.\n",
      "Key '4335647334121532320' not in persistent cache.\n",
      "Key '3958445080885541120' not in persistent cache.\n",
      "Key '2198942633041967671' not in persistent cache.\n",
      "Key '-426564682215827717' not in persistent cache.\n",
      "Key '-2672722182300706210' not in persistent cache.\n",
      "Key '3488239664354830344' not in persistent cache.\n",
      "Key '-7257335383671072494' not in persistent cache.\n",
      "Key '-5962596681477806403' not in persistent cache.\n",
      "Key '1276425082674092493' not in persistent cache.\n",
      "Key '-8858000745713532220' not in persistent cache.\n",
      "Key '8493539985902944973' not in persistent cache.\n",
      "Key '2693735148489224114' not in persistent cache.\n",
      "Key '1845872599005367803' not in persistent cache.\n",
      "Key '7958432329319535152' not in persistent cache.\n",
      "Key '-7219723371790311423' not in persistent cache.\n",
      "Key '1865092967521613080' not in persistent cache.\n",
      "Key '-4751638091504163632' not in persistent cache.\n",
      "Key '-1507550756610164904' not in persistent cache.\n",
      "Key '7961032635341564698' not in persistent cache.\n",
      "Key '4106165133353514593' not in persistent cache.\n",
      "Key '-3763781187836281328' not in persistent cache.\n",
      "Key '2314027727452280353' not in persistent cache.\n",
      "Key '4402014260484232887' not in persistent cache.\n",
      "Key '1438187230103993140' not in persistent cache.\n",
      "Key '6258454307539039847' not in persistent cache.\n",
      "Key '7531294625045553366' not in persistent cache.\n",
      "Key '-3678963461893920432' not in persistent cache.\n",
      "Key '270873181223047442' not in persistent cache.\n",
      "Key '-8415901407256347537' not in persistent cache.\n",
      "Key '5844483200776640105' not in persistent cache.\n",
      "Key '654368581301949445' not in persistent cache.\n",
      "Key '8908796337208117131' not in persistent cache.\n",
      "Key '-8185707952114485607' not in persistent cache.\n",
      "Key '-3549443412193555789' not in persistent cache.\n",
      "Key '2285602066246468643' not in persistent cache.\n",
      "Key '-3876674726524143168' not in persistent cache.\n",
      "Key '-5283284360185832468' not in persistent cache.\n",
      "Key '2542481865984890333' not in persistent cache.\n",
      "Key '-6487243821242031824' not in persistent cache.\n",
      "Key '-1533962901938988882' not in persistent cache.\n",
      "Key '8165070210477707174' not in persistent cache.\n",
      "Key '-8208717038198758959' not in persistent cache.\n",
      "Key '-1744322061891522006' not in persistent cache.\n",
      "Key '446298814589318215' not in persistent cache.\n",
      "Key '-170033418804243833' not in persistent cache.\n",
      "Key '-4296220011559289705' not in persistent cache.\n",
      "Key '2419513105116402321' not in persistent cache.\n",
      "Key '8753576219594531707' not in persistent cache.\n",
      "Key '-5694323355020436776' not in persistent cache.\n",
      "Key '3274936524212286267' not in persistent cache.\n",
      "Key '-5327745414841781287' not in persistent cache.\n",
      "Key '-3913925224145512794' not in persistent cache.\n",
      "Key '8029002957387461589' not in persistent cache.\n",
      "Key '4423414675586803505' not in persistent cache.\n",
      "Key '-1636602672232218003' not in persistent cache.\n",
      "Key '2738146653731138115' not in persistent cache.\n",
      "Key '1878437001481998489' not in persistent cache.\n",
      "Key '8407810947158960462' not in persistent cache.\n",
      "Key '-4601233978951518571' not in persistent cache.\n",
      "Key '-7727271148049631726' not in persistent cache.\n",
      "Key '1161516707671621692' not in persistent cache.\n",
      "Key '4678356005747422170' not in persistent cache.\n",
      "Key '4738279559862579045' not in persistent cache.\n",
      "Key '3083840105848642235' not in persistent cache.\n",
      "Key '-7009990944979445558' not in persistent cache.\n",
      "Key '-4198987557462159591' not in persistent cache.\n",
      "Key '2236158640361782827' not in persistent cache.\n",
      "Key '-1265471836312720480' not in persistent cache.\n",
      "Key '-5046669022949018999' not in persistent cache.\n",
      "Key '773245032589414668' not in persistent cache.\n",
      "Key '3584248420106700635' not in persistent cache.\n",
      "Key '4292314547137298937' not in persistent cache.\n",
      "Key '7103317934654584904' not in persistent cache.\n",
      "Key '-1058069241985310268' not in persistent cache.\n",
      "Key '6151291528516343827' not in persistent cache.\n",
      "Key '-4585029016072282824' not in persistent cache.\n",
      "Key '3078160468910643610' not in persistent cache.\n",
      "Key '3371166188841291798' not in persistent cache.\n",
      "Key '4663205265752178606' not in persistent cache.\n",
      "Key '3781687180843610956' not in persistent cache.\n",
      "Key '-3160746667131558832' not in persistent cache.\n",
      "Key '6585528663929199149' not in persistent cache.\n",
      "Key '3537726901735968181' not in persistent cache.\n",
      "Key '-697298999381602677' not in persistent cache.\n",
      "Key '5737847198442339741' not in persistent cache.\n",
      "Key '2236216721767836434' not in persistent cache.\n",
      "Key '5501048823766394740' not in persistent cache.\n",
      "Key '-7125781194404723209' not in persistent cache.\n",
      "Key '7085936978187257549' not in persistent cache.\n",
      "Key '7794003105217855851' not in persistent cache.\n",
      "Key '-7841737580974409798' not in persistent cache.\n",
      "Key '2443619316095246646' not in persistent cache.\n",
      "Key '-8793763987112650875' not in persistent cache.\n",
      "Key '5962688830643130915' not in persistent cache.\n",
      "Key '6579849026991200524' not in persistent cache.\n",
      "Key '6872854746921848712' not in persistent cache.\n",
      "Key '-4531515614642572331' not in persistent cache.\n",
      "Key '-5413033699551139981' not in persistent cache.\n",
      "Key '-5353110145435983106' not in persistent cache.\n",
      "Key '-7007549599449919916' not in persistent cache.\n",
      "Key '1345363423431543907' not in persistent cache.\n",
      "Key '8554724193933198002' not in persistent cache.\n",
      "Key '-7855231064936779324' not in persistent cache.\n",
      "Key '7089882532098268985' not in persistent cache.\n",
      "Key '7707042728446338594' not in persistent cache.\n",
      "Key '-2272115384074290658' not in persistent cache.\n",
      "Key '-2108783902207493388' not in persistent cache.\n",
      "Key '-5799075158161263214' not in persistent cache.\n",
      "Key '1410285612340390881' not in persistent cache.\n",
      "Key '-6751101564299504291' not in persistent cache.\n",
      "Key '-3940098176782218324' not in persistent cache.\n",
      "Key '-3232032049751620022' not in persistent cache.\n",
      "Key '-7013229236387918541' not in persistent cache.\n",
      "Key '-6720223516457270353' not in persistent cache.\n",
      "Key '1925124469213425672' not in persistent cache.\n",
      "Key '1043606384304858022' not in persistent cache.\n",
      "Key '-5898827463670311766' not in persistent cache.\n",
      "Key '-550909515593921913' not in persistent cache.\n",
      "Key '-3598711277787152881' not in persistent cache.\n",
      "Key '3610649492714501214' not in persistent cache.\n",
      "Key '5647438307554075504' not in persistent cache.\n",
      "Key '-501864074770916500' not in persistent cache.\n",
      "Key '2762968027227641806' not in persistent cache.\n",
      "Key '4184524699781707345' not in persistent cache.\n",
      "Key '-7052858603426190176' not in persistent cache.\n",
      "Key '7703594214329591614' not in persistent cache.\n",
      "Key '7866925696196388884' not in persistent cache.\n",
      "Key '-294461480443506288' not in persistent cache.\n",
      "Key '6914899290058147807' not in persistent cache.\n",
      "Key '3224608034104377981' not in persistent cache.\n",
      "Key '-7558946554622247201' not in persistent cache.\n",
      "Key '-7265940834691599013' not in persistent cache.\n",
      "Key '7978560585130828681' not in persistent cache.\n",
      "Key '-9044996676559990860' not in persistent cache.\n",
      "Key '-308148107916087273' not in persistent cache.\n",
      "Key '5741914253268135971' not in persistent cache.\n",
      "Key '-4215391669388796797' not in persistent cache.\n",
      "Key '-3578768451713710018' not in persistent cache.\n",
      "Key '-6981913406988129836' not in persistent cache.\n",
      "Key '4375723744344176874' not in persistent cache.\n",
      "Key '-4189077110081353160' not in persistent cache.\n",
      "Key '7667492833304644700' not in persistent cache.\n",
      "Key '-8933097188248907950' not in persistent cache.\n",
      "Key '-3397461890567746490' not in persistent cache.\n",
      "Key '-3529395872782913188' not in persistent cache.\n",
      "Key '5164094010892350439' not in persistent cache.\n",
      "Key '1946882262939315232' not in persistent cache.\n",
      "Key '2222257489168211987' not in persistent cache.\n",
      "Key '-4834607692918764212' not in persistent cache.\n",
      "Key '1844556150604168116' not in persistent cache.\n",
      "Key '-2772793815095391857' not in persistent cache.\n",
      "Key '7439991611574350331' not in persistent cache.\n",
      "Key '447668432486827652' not in persistent cache.\n",
      "Key '5756691279143454499' not in persistent cache.\n",
      "Key '-8348613555521858843' not in persistent cache.\n",
      "Key '-8239670132104152921' not in persistent cache.\n",
      "Key '-4511741124772655799' not in persistent cache.\n",
      "Key '-4538027040918396750' not in persistent cache.\n",
      "Key '-6575505043892552299' not in persistent cache.\n",
      "Key '4974076910975556552' not in persistent cache.\n",
      "Key '-5481831046066831464' not in persistent cache.\n",
      "Key '716241281778798927' not in persistent cache.\n",
      "Key '2801644306721597602' not in persistent cache.\n",
      "Key '-2319412408034083690' not in persistent cache.\n",
      "Key '-3755182969695601242' not in persistent cache.\n",
      "Key '-1896641030787651297' not in persistent cache.\n",
      "Key '5755880549247088270' not in persistent cache.\n",
      "Key '-2188057434617587509' not in persistent cache.\n",
      "Key '5869950406630787805' not in persistent cache.\n",
      "Key '7169292734105518224' not in persistent cache.\n",
      "Key '-6230953725716329467' not in persistent cache.\n",
      "Key '-2700875928509362985' not in persistent cache.\n",
      "Key '-923879797705544820' not in persistent cache.\n",
      "Key '-6516639089435506111' not in persistent cache.\n",
      "Key '1122867824782849594' not in persistent cache.\n",
      "Key '-4275009968922902514' not in persistent cache.\n",
      "Key '-3774030312028601889' not in persistent cache.\n",
      "Key '-2095505507924507234' not in persistent cache.\n",
      "Key '-1437317619391864082' not in persistent cache.\n",
      "Key '3875133997165393190' not in persistent cache.\n",
      "Key '-3363921443397102528' not in persistent cache.\n",
      "Key '831132118362637195' not in persistent cache.\n",
      "Key '-3469323552664686036' not in persistent cache.\n",
      "Key '811137392730923285' not in persistent cache.\n",
      "Key '-2285601547300415366' not in persistent cache.\n",
      "Key '-5355881677650262861' not in persistent cache.\n",
      "Key '1628436217852041407' not in persistent cache.\n",
      "Key '7767807855423874611' not in persistent cache.\n",
      "Key '7696475513309729286' not in persistent cache.\n",
      "Key '5027601685329504591' not in persistent cache.\n",
      "Key '-6825163021566703128' not in persistent cache.\n",
      "Key '-8025736725059536962' not in persistent cache.\n",
      "Key '-7779638021838945964' not in persistent cache.\n",
      "Key '-2830903967759198172' not in persistent cache.\n",
      "Key '-4948554286115700985' not in persistent cache.\n",
      "Key '7050061419393432514' not in persistent cache.\n",
      "Key '2274959739048390257' not in persistent cache.\n",
      "Key '-3482077346248030975' not in persistent cache.\n",
      "Key '-3141798437568746168' not in persistent cache.\n",
      "Key '4506853610153435461' not in persistent cache.\n",
      "Key '4474212197612427317' not in persistent cache.\n",
      "Key '-7394648237682175429' not in persistent cache.\n",
      "Key '-7544279293132160128' not in persistent cache.\n",
      "Key '-8381670713905648190' not in persistent cache.\n",
      "Key '3563184440468933115' not in persistent cache.\n",
      "Key '242540537593806518' not in persistent cache.\n",
      "Key '-5888032042351094930' not in persistent cache.\n",
      "Key '7986795403242780361' not in persistent cache.\n",
      "Key '-7420573002933219545' not in persistent cache.\n",
      "Key '-3455467912764773335' not in persistent cache.\n",
      "Key '-4105144919411018529' not in persistent cache.\n",
      "Key '5666613526201831025' not in persistent cache.\n",
      "Key '-3837556766050289354' not in persistent cache.\n",
      "Key '-6123431744348263919' not in persistent cache.\n",
      "Key '-8758829211979756319' not in persistent cache.\n",
      "Key '-268365914986116943' not in persistent cache.\n",
      "Key '543843157288647688' not in persistent cache.\n",
      "Key '-9037099785086000039' not in persistent cache.\n",
      "Key '8890884894613825319' not in persistent cache.\n",
      "Key '2163547908060905590' not in persistent cache.\n",
      "Key '2565649670639723412' not in persistent cache.\n",
      "Key '-1764004469995145002' not in persistent cache.\n",
      "Key '5982584634179543090' not in persistent cache.\n",
      "Key '1413398063089154837' not in persistent cache.\n",
      "Key '-3339604501711679685' not in persistent cache.\n",
      "Key '-4510750454180532344' not in persistent cache.\n",
      "Key '19251962873579192' not in persistent cache.\n",
      "Key '-6239257572480951710' not in persistent cache.\n",
      "Key '-6617370693163116260' not in persistent cache.\n",
      "Key '-6907315157905196401' not in persistent cache.\n",
      "Key '5789324677530990262' not in persistent cache.\n",
      "Key '2764069856360285441' not in persistent cache.\n",
      "Key '2129233753756854874' not in persistent cache.\n",
      "Key '-6428143199570252989' not in persistent cache.\n",
      "Key '8230808533397307227' not in persistent cache.\n",
      "Key '-2159377522789312985' not in persistent cache.\n",
      "Key '-6614770423430794197' not in persistent cache.\n",
      "Key '-1060092471370705816' not in persistent cache.\n",
      "Key '-8150961985380674617' not in persistent cache.\n",
      "Key '-613455925793443513' not in persistent cache.\n",
      "Key '-3858423107871003916' not in persistent cache.\n",
      "Key '-1952286524104363891' not in persistent cache.\n",
      "Key '-8765295614808914083' not in persistent cache.\n",
      "Key '7248406118752351879' not in persistent cache.\n",
      "Key '3469417793823573578' not in persistent cache.\n",
      "Key '5969289149616489609' not in persistent cache.\n",
      "Key '5334340112310260665' not in persistent cache.\n",
      "Key '8056743373504266945' not in persistent cache.\n",
      "Key '-5694323355020436776' not in persistent cache.\n",
      "Key '-5327745414841781287' not in persistent cache.\n",
      "Key '6418439926772877882' not in persistent cache.\n",
      "Key '-26394896608594912' not in persistent cache.\n",
      "Key '-8415901407256347537' not in persistent cache.\n",
      "Key '5844483200776640105' not in persistent cache.\n",
      "Key '654368581301949445' not in persistent cache.\n",
      "Key '8908796337208117131' not in persistent cache.\n",
      "Key '-8185707952114485607' not in persistent cache.\n",
      "Key '-3549443412193555789' not in persistent cache.\n",
      "Key '4985965355861395465' not in persistent cache.\n",
      "Key '-7377624565183662438' not in persistent cache.\n",
      "Key '5236138614704765433' not in persistent cache.\n",
      "Key '4646624923590576660' not in persistent cache.\n",
      "Key '-1905195894449916397' not in persistent cache.\n",
      "Key '-6172355839840188343' not in persistent cache.\n",
      "Key '-8824294170312360448' not in persistent cache.\n",
      "Key '-3971861661222772140' not in persistent cache.\n",
      "Key '9034503535749255304' not in persistent cache.\n",
      "Key '1742147001237158090' not in persistent cache.\n",
      "Key '6188024596329838952' not in persistent cache.\n",
      "Key '340639472830615208' not in persistent cache.\n",
      "Key '-8217046748351318125' not in persistent cache.\n",
      "Key '8872967929468414629' not in persistent cache.\n",
      "Key '-266546650543155055' not in persistent cache.\n",
      "Key '3274936524212286267' not in persistent cache.\n",
      "Key '-3913925224145512794' not in persistent cache.\n",
      "Key '1527832397394615460' not in persistent cache.\n",
      "Key '-715013982326409397' not in persistent cache.\n",
      "Key '4021629574611101718' not in persistent cache.\n",
      "Key '-384388451178914377' not in persistent cache.\n",
      "Key '1037168221375151162' not in persistent cache.\n",
      "Key '8246528991876805257' not in persistent cache.\n",
      "Key '4556237735923035431' not in persistent cache.\n",
      "Key '7367241123440321398' not in persistent cache.\n",
      "Key '3604211329784794354' not in persistent cache.\n",
      "Key '6415214717302080321' not in persistent cache.\n",
      "Key '77251555697821798' not in persistent cache.\n",
      "Key '3342083657696380104' not in persistent cache.\n",
      "Key '3635089377627028292' not in persistent cache.\n",
      "Key '472924507900148920' not in persistent cache.\n",
      "Key '-408593577008418730' not in persistent cache.\n",
      "Key '4049687360091106273' not in persistent cache.\n",
      "Key '2395247906077169463' not in persistent cache.\n",
      "Key '-7698583144750918330' not in persistent cache.\n",
      "Key '-4887579757233632363' not in persistent cache.\n",
      "Key '1547566440590310055' not in persistent cache.\n",
      "Key '-9000093324719050077' not in persistent cache.\n",
      "Key '-5735261222720491771' not in persistent cache.\n",
      "Key '84652832817941896' not in persistent cache.\n",
      "Key '2895656220335227863' not in persistent cache.\n",
      "Key '3603722347365826165' not in persistent cache.\n",
      "Key '6414725734883112132' not in persistent cache.\n",
      "Key '-1746661441756783040' not in persistent cache.\n",
      "Key '-1583329959889985770' not in persistent cache.\n",
      "Key '-5273621215843755596' not in persistent cache.\n",
      "Key '2389568269139170838' not in persistent cache.\n",
      "Key '2682573989069819026' not in persistent cache.\n",
      "Key '4794593300655343958' not in persistent cache.\n",
      "Key '-3132954072888080517' not in persistent cache.\n",
      "Key '3972998769861933183' not in persistent cache.\n",
      "Key '2318559315847996373' not in persistent cache.\n",
      "Key '-7775271734980091420' not in persistent cache.\n",
      "Key '-565910964478437325' not in persistent cache.\n",
      "Key '1470877850361136965' not in persistent cache.\n",
      "Key '-9076781914948223167' not in persistent cache.\n",
      "Key '-1413592429965296733' not in persistent cache.\n",
      "Key '7964242588768806' not in persistent cache.\n",
      "Key '7217325013090422901' not in persistent cache.\n",
      "Key '3527033757136653075' not in persistent cache.\n",
      "Key '3690365239003450345' not in persistent cache.\n",
      "Key '2575007350998411998' not in persistent cache.\n",
      "Key '2738338832865209268' not in persistent cache.\n",
      "Key '-951952423088560558' not in persistent cache.\n",
      "Key '6711237061894365876' not in persistent cache.\n",
      "Key '7004242781825014064' not in persistent cache.\n",
      "Key '-671721299489903664' not in persistent cache.\n",
      "Key '-1553239384398471314' not in persistent cache.\n",
      "Key '5552713458351542386' not in persistent cache.\n",
      "Key '-3147755284297251249' not in persistent cache.\n",
      "Key '-6195557046490482217' not in persistent cache.\n",
      "Key '1013803724011171878' not in persistent cache.\n",
      "Key '3050592538850746168' not in persistent cache.\n",
      "Key '-7497067226458613964' not in persistent cache.\n",
      "Key '166122258524312470' not in persistent cache.\n",
      "Key '1587678931078378009' not in persistent cache.\n",
      "Key '8797039701580032104' not in persistent cache.\n",
      "Key '5106748445626262278' not in persistent cache.\n",
      "Key '5270079927493059548' not in persistent cache.\n",
      "Key '-2891307249146835624' not in persistent cache.\n",
      "Key '4318053521354818471' not in persistent cache.\n",
      "Key '627762265401048645' not in persistent cache.\n",
      "Key '3892594367399606951' not in persistent cache.\n",
      "Key '4185600087330255139' not in persistent cache.\n",
      "Key '2609634238537049631' not in persistent cache.\n",
      "Key '1728116153628481981' not in persistent cache.\n",
      "Key '-5214317694346687807' not in persistent cache.\n",
      "Key '133600253729702046' not in persistent cache.\n",
      "Key '-2914201508463528922' not in persistent cache.\n",
      "Key '4295159262038125173' not in persistent cache.\n",
      "Key '6331948076877699463' not in persistent cache.\n",
      "Key '182645694552707459' not in persistent cache.\n",
      "Key '3447477796551265765' not in persistent cache.\n",
      "Key '4869034469105331304' not in persistent cache.\n",
      "Key '-6368348834102566217' not in persistent cache.\n",
      "Key '8388103983653215573' not in persistent cache.\n",
      "Key '8551435465520012843' not in persistent cache.\n",
      "Key '390048288880117671' not in persistent cache.\n",
      "Key '7599409059381771766' not in persistent cache.\n",
      "Key '3909117803428001940' not in persistent cache.\n",
      "Key '-6874436785298623242' not in persistent cache.\n",
      "Key '-6581431065367975054' not in persistent cache.\n",
      "Key '105985385354219151' not in persistent cache.\n",
      "Key '-775532699554348499' not in persistent cache.\n",
      "Key '6330420143195665201' not in persistent cache.\n",
      "Key '-2370048599453128434' not in persistent cache.\n",
      "Key '-5417850361646359402' not in persistent cache.\n",
      "Key '-5254518879779562132' not in persistent cache.\n",
      "Key '-3217730064939987842' not in persistent cache.\n",
      "Key '-6719360541614491149' not in persistent cache.\n",
      "Key '943828943368435285' not in persistent cache.\n",
      "Key '2365385615922500824' not in persistent cache.\n",
      "Key '2528717097789298094' not in persistent cache.\n",
      "Key '-1161574158164471732' not in persistent cache.\n",
      "Key '6047786612337182363' not in persistent cache.\n",
      "Key '-2113600564302712809' not in persistent cache.\n",
      "Key '5095760206198941286' not in persistent cache.\n",
      "Key '1405468950245171460' not in persistent cache.\n",
      "Key '-2375728236391127059' not in persistent cache.\n",
      "Key '-2082722516460478871' not in persistent cache.\n",
      "Key '-5920247033397147850' not in persistent cache.\n",
      "Key '2302562571399893904' not in persistent cache.\n",
      "Key '1252780418272972471' not in persistent cache.\n",
      "Key '371262333364404821' not in persistent cache.\n",
      "Key '431185887479561696' not in persistent cache.\n",
      "Key '-1223253566534375114' not in persistent cache.\n",
      "Key '7129659456347088709' not in persistent cache.\n",
      "Key '-4107723846860808812' not in persistent cache.\n",
      "Key '-2070935032021234522' not in persistent cache.\n",
      "Key '-5572565508695737829' not in persistent cache.\n",
      "Key '-4955405312347668220' not in persistent cache.\n",
      "Key '3512180648841254144' not in persistent cache.\n",
      "Key '3675512130708051414' not in persistent cache.\n",
      "Key '-14779125245718412' not in persistent cache.\n",
      "Key '7194581645255935683' not in persistent cache.\n",
      "Key '-966805531383959489' not in persistent cache.\n",
      "Key '6242555239117694606' not in persistent cache.\n",
      "Key '-4493765305470932045' not in persistent cache.\n",
      "Key '3169424179511994389' not in persistent cache.\n",
      "Key '3462429899442642577' not in persistent cache.\n",
      "Key '1425439896457358186' not in persistent cache.\n",
      "Key '4942279194533158664' not in persistent cache.\n",
      "Key '5002202748648315539' not in persistent cache.\n",
      "Key '3347763294634378729' not in persistent cache.\n",
      "Key '-6746067756193709064' not in persistent cache.\n",
      "Key '463293014307945031' not in persistent cache.\n",
      "Key '2500081829147519321' not in persistent cache.\n",
      "Key '-1001548647526983986' not in persistent cache.\n",
      "Key '-384388451178914377' not in persistent cache.\n",
      "Key '1037168221375151162' not in persistent cache.\n",
      "Key '8246528991876805257' not in persistent cache.\n",
      "Key '4556237735923035431' not in persistent cache.\n",
      "Key '7367241123440321398' not in persistent cache.\n",
      "Key '3604211329784794354' not in persistent cache.\n",
      "Key '6415214717302080321' not in persistent cache.\n",
      "Key '77251555697821798' not in persistent cache.\n",
      "Key '3342083657696380104' not in persistent cache.\n",
      "Key '3635089377627028292' not in persistent cache.\n",
      "Key '472924507900148920' not in persistent cache.\n",
      "Key '-408593577008418730' not in persistent cache.\n",
      "Key '4049687360091106273' not in persistent cache.\n",
      "Key '2395247906077169463' not in persistent cache.\n",
      "Key '-7698583144750918330' not in persistent cache.\n",
      "Key '-4887579757233632363' not in persistent cache.\n",
      "Key '1547566440590310055' not in persistent cache.\n",
      "Key '-9000093324719050077' not in persistent cache.\n",
      "Key '-5735261222720491771' not in persistent cache.\n",
      "Key '84652832817941896' not in persistent cache.\n",
      "Key '2895656220335227863' not in persistent cache.\n",
      "Key '3603722347365826165' not in persistent cache.\n",
      "Key '6414725734883112132' not in persistent cache.\n",
      "Key '-1746661441756783040' not in persistent cache.\n",
      "Key '-1583329959889985770' not in persistent cache.\n",
      "Key '-5273621215843755596' not in persistent cache.\n",
      "Key '2389568269139170838' not in persistent cache.\n",
      "Key '2682573989069819026' not in persistent cache.\n",
      "Key '4794593300655343958' not in persistent cache.\n",
      "Key '-3132954072888080517' not in persistent cache.\n",
      "Key '3972998769861933183' not in persistent cache.\n",
      "Key '2318559315847996373' not in persistent cache.\n",
      "Key '-7775271734980091420' not in persistent cache.\n",
      "Key '-8645387572858873058' not in persistent cache.\n",
      "Key '-7937321445828274756' not in persistent cache.\n",
      "Key '6728225441244978341' not in persistent cache.\n",
      "Key '7021231161175626529' not in persistent cache.\n",
      "Key '8523124774935067900' not in persistent cache.\n",
      "Key '-2521795696083917490' not in persistent cache.\n",
      "Key '2733927508563557549' not in persistent cache.\n",
      "Key '2585377274201354476' not in persistent cache.\n",
      "Key '-1806212981286313511' not in persistent cache.\n",
      "Key '3942105668315856387' not in persistent cache.\n",
      "Key '-1967728012523756058' not in persistent cache.\n",
      "Key '7603720597982411357' not in persistent cache.\n",
      "Key '-2199021571917225791' not in persistent cache.\n",
      "Key '4819577004056229320' not in persistent cache.\n",
      "Key '8277809316887320672' not in persistent cache.\n",
      "Key '-83598078021844726' not in persistent cache.\n",
      "Key '4435728804904029371' not in persistent cache.\n",
      "Key '-2354308527346345082' not in persistent cache.\n",
      "Key '2818966646182012256' not in persistent cache.\n",
      "Key '1800469492637262750' not in persistent cache.\n",
      "Key '-7886174798075830749' not in persistent cache.\n",
      "Key '656624812739739742' not in persistent cache.\n",
      "Key '-1081953005769575278' not in persistent cache.\n",
      "Key '8431098831214023998' not in persistent cache.\n",
      "Key '-1818959576569205924' not in persistent cache.\n",
      "Key '-6186669671631487522' not in persistent cache.\n",
      "Key '-3190243877669491822' not in persistent cache.\n",
      "Key '-9052388680325617060' not in persistent cache.\n",
      "Key '-6698774899593397100' not in persistent cache.\n",
      "Key '5361220697565267446' not in persistent cache.\n",
      "Key '-4674881506627592112' not in persistent cache.\n",
      "Key '3832826738977706402' not in persistent cache.\n",
      "Key '3332989798691096588' not in persistent cache.\n",
      "Key '811127651492340147' not in persistent cache.\n",
      "Key '5794818088280572053' not in persistent cache.\n",
      "Key '993100129209272256' not in persistent cache.\n",
      "Key '-2255167786926080382' not in persistent cache.\n",
      "Key '6155148116865089564' not in persistent cache.\n",
      "Key '-608032920919874070' not in persistent cache.\n",
      "Key '4083641718232155160' not in persistent cache.\n",
      "Key '-726422597404791766' not in persistent cache.\n",
      "Key '4335647334121532320' not in persistent cache.\n",
      "Key '3958445080885541120' not in persistent cache.\n",
      "Key '2198942633041967671' not in persistent cache.\n",
      "Key '-426564682215827717' not in persistent cache.\n",
      "Key '-2672722182300706210' not in persistent cache.\n",
      "Key '3488239664354830344' not in persistent cache.\n",
      "Key '-7257335383671072494' not in persistent cache.\n",
      "Key '-5962596681477806403' not in persistent cache.\n",
      "Key '1276425082674092493' not in persistent cache.\n",
      "Key '-8858000745713532220' not in persistent cache.\n",
      "Key '8493539985902944973' not in persistent cache.\n",
      "Key '2693735148489224114' not in persistent cache.\n",
      "Key '1845872599005367803' not in persistent cache.\n",
      "Key '7958432329319535152' not in persistent cache.\n",
      "Key '-7219723371790311423' not in persistent cache.\n",
      "Key '1865092967521613080' not in persistent cache.\n",
      "Key '-4751638091504163632' not in persistent cache.\n",
      "Key '-1507550756610164904' not in persistent cache.\n",
      "Key '7961032635341564698' not in persistent cache.\n",
      "Key '4106165133353514593' not in persistent cache.\n",
      "Key '-3763781187836281328' not in persistent cache.\n",
      "Key '2314027727452280353' not in persistent cache.\n",
      "Key '4402014260484232887' not in persistent cache.\n",
      "Key '1438187230103993140' not in persistent cache.\n",
      "Key '6258454307539039847' not in persistent cache.\n",
      "Key '7531294625045553366' not in persistent cache.\n",
      "Key '-3678963461893920432' not in persistent cache.\n",
      "Key '270873181223047442' not in persistent cache.\n",
      "Key '-8415901407256347537' not in persistent cache.\n",
      "Key '5844483200776640105' not in persistent cache.\n",
      "Key '654368581301949445' not in persistent cache.\n",
      "Key '8908796337208117131' not in persistent cache.\n",
      "Key '-8185707952114485607' not in persistent cache.\n",
      "Key '-3549443412193555789' not in persistent cache.\n",
      "Key '2285602066246468643' not in persistent cache.\n",
      "Key '-3876674726524143168' not in persistent cache.\n",
      "Key '-5283284360185832468' not in persistent cache.\n",
      "Key '2542481865984890333' not in persistent cache.\n",
      "Key '-6487243821242031824' not in persistent cache.\n",
      "Key '-1533962901938988882' not in persistent cache.\n",
      "Key '8165070210477707174' not in persistent cache.\n",
      "Key '-8208717038198758959' not in persistent cache.\n",
      "Key '-1744322061891522006' not in persistent cache.\n",
      "Key '446298814589318215' not in persistent cache.\n",
      "Key '-170033418804243833' not in persistent cache.\n",
      "Key '-4296220011559289705' not in persistent cache.\n",
      "Key '2419513105116402321' not in persistent cache.\n",
      "Key '8753576219594531707' not in persistent cache.\n",
      "Key '-5694323355020436776' not in persistent cache.\n",
      "Key '3274936524212286267' not in persistent cache.\n",
      "Key '-5327745414841781287' not in persistent cache.\n",
      "Key '-3913925224145512794' not in persistent cache.\n",
      "Key '8029002957387461589' not in persistent cache.\n",
      "Key '4423414675586803505' not in persistent cache.\n",
      "Key '-1636602672232218003' not in persistent cache.\n",
      "Key '2738146653731138115' not in persistent cache.\n",
      "Key '1878437001481998489' not in persistent cache.\n",
      "Key '8407810947158960462' not in persistent cache.\n",
      "Key '-4601233978951518571' not in persistent cache.\n",
      "Key '-7727271148049631726' not in persistent cache.\n",
      "Key '1161516707671621692' not in persistent cache.\n",
      "Key '4678356005747422170' not in persistent cache.\n",
      "Key '4738279559862579045' not in persistent cache.\n",
      "Key '3083840105848642235' not in persistent cache.\n",
      "Key '-7009990944979445558' not in persistent cache.\n",
      "Key '-4198987557462159591' not in persistent cache.\n",
      "Key '2236158640361782827' not in persistent cache.\n",
      "Key '-1265471836312720480' not in persistent cache.\n",
      "Key '-5046669022949018999' not in persistent cache.\n",
      "Key '773245032589414668' not in persistent cache.\n",
      "Key '3584248420106700635' not in persistent cache.\n",
      "Key '4292314547137298937' not in persistent cache.\n",
      "Key '7103317934654584904' not in persistent cache.\n",
      "Key '-1058069241985310268' not in persistent cache.\n",
      "Key '6151291528516343827' not in persistent cache.\n",
      "Key '-4585029016072282824' not in persistent cache.\n",
      "Key '3078160468910643610' not in persistent cache.\n",
      "Key '3371166188841291798' not in persistent cache.\n",
      "Key '4663205265752178606' not in persistent cache.\n",
      "Key '3781687180843610956' not in persistent cache.\n",
      "Key '-3160746667131558832' not in persistent cache.\n",
      "Key '6585528663929199149' not in persistent cache.\n",
      "Key '3537726901735968181' not in persistent cache.\n",
      "Key '-697298999381602677' not in persistent cache.\n",
      "Key '5737847198442339741' not in persistent cache.\n",
      "Key '2236216721767836434' not in persistent cache.\n",
      "Key '5501048823766394740' not in persistent cache.\n",
      "Key '-7125781194404723209' not in persistent cache.\n",
      "Key '7085936978187257549' not in persistent cache.\n",
      "Key '7794003105217855851' not in persistent cache.\n",
      "Key '-7841737580974409798' not in persistent cache.\n",
      "Key '2443619316095246646' not in persistent cache.\n",
      "Key '-8793763987112650875' not in persistent cache.\n",
      "Key '5962688830643130915' not in persistent cache.\n",
      "Key '6579849026991200524' not in persistent cache.\n",
      "Key '6872854746921848712' not in persistent cache.\n",
      "Key '-4531515614642572331' not in persistent cache.\n",
      "Key '-5413033699551139981' not in persistent cache.\n",
      "Key '-5353110145435983106' not in persistent cache.\n",
      "Key '-7007549599449919916' not in persistent cache.\n",
      "Key '1345363423431543907' not in persistent cache.\n",
      "Key '8554724193933198002' not in persistent cache.\n",
      "Key '-7855231064936779324' not in persistent cache.\n",
      "Key '7089882532098268985' not in persistent cache.\n",
      "Key '7707042728446338594' not in persistent cache.\n",
      "Key '-2272115384074290658' not in persistent cache.\n",
      "Key '-2108783902207493388' not in persistent cache.\n",
      "Key '-5799075158161263214' not in persistent cache.\n",
      "Key '1410285612340390881' not in persistent cache.\n",
      "Key '-6751101564299504291' not in persistent cache.\n",
      "Key '-3940098176782218324' not in persistent cache.\n",
      "Key '-3232032049751620022' not in persistent cache.\n",
      "Key '-7013229236387918541' not in persistent cache.\n",
      "Key '-6720223516457270353' not in persistent cache.\n",
      "Key '1925124469213425672' not in persistent cache.\n",
      "Key '1043606384304858022' not in persistent cache.\n",
      "Key '-5898827463670311766' not in persistent cache.\n",
      "Key '-550909515593921913' not in persistent cache.\n",
      "Key '-3598711277787152881' not in persistent cache.\n",
      "Key '3610649492714501214' not in persistent cache.\n",
      "Key '5647438307554075504' not in persistent cache.\n",
      "Key '-501864074770916500' not in persistent cache.\n",
      "Key '2762968027227641806' not in persistent cache.\n",
      "Key '4184524699781707345' not in persistent cache.\n",
      "Key '-7052858603426190176' not in persistent cache.\n",
      "Key '7703594214329591614' not in persistent cache.\n",
      "Key '7866925696196388884' not in persistent cache.\n",
      "Key '-294461480443506288' not in persistent cache.\n",
      "Key '6914899290058147807' not in persistent cache.\n",
      "Key '3224608034104377981' not in persistent cache.\n",
      "Key '-7558946554622247201' not in persistent cache.\n",
      "Key '-7265940834691599013' not in persistent cache.\n",
      "Key '7978560585130828681' not in persistent cache.\n",
      "Key '-9044996676559990860' not in persistent cache.\n",
      "Key '-308148107916087273' not in persistent cache.\n",
      "Key '5741914253268135971' not in persistent cache.\n",
      "Key '-4215391669388796797' not in persistent cache.\n",
      "Key '-3578768451713710018' not in persistent cache.\n",
      "Key '-6981913406988129836' not in persistent cache.\n",
      "Key '4375723744344176874' not in persistent cache.\n",
      "Key '-4189077110081353160' not in persistent cache.\n",
      "Key '7667492833304644700' not in persistent cache.\n",
      "Key '-8933097188248907950' not in persistent cache.\n",
      "Key '-3397461890567746490' not in persistent cache.\n",
      "Key '-3529395872782913188' not in persistent cache.\n",
      "Key '5164094010892350439' not in persistent cache.\n",
      "Key '1946882262939315232' not in persistent cache.\n",
      "Key '2222257489168211987' not in persistent cache.\n",
      "Key '-4834607692918764212' not in persistent cache.\n",
      "Key '1844556150604168116' not in persistent cache.\n",
      "Key '-2772793815095391857' not in persistent cache.\n",
      "Key '7439991611574350331' not in persistent cache.\n",
      "Key '447668432486827652' not in persistent cache.\n",
      "Key '5756691279143454499' not in persistent cache.\n",
      "Key '-8348613555521858843' not in persistent cache.\n",
      "Key '-8239670132104152921' not in persistent cache.\n",
      "Key '-4511741124772655799' not in persistent cache.\n",
      "Key '-4538027040918396750' not in persistent cache.\n",
      "Key '-6575505043892552299' not in persistent cache.\n",
      "Key '4974076910975556552' not in persistent cache.\n",
      "Key '-5481831046066831464' not in persistent cache.\n",
      "Key '716241281778798927' not in persistent cache.\n",
      "Key '2801644306721597602' not in persistent cache.\n",
      "Key '-2319412408034083690' not in persistent cache.\n",
      "Key '-3755182969695601242' not in persistent cache.\n",
      "Key '-1896641030787651297' not in persistent cache.\n",
      "Key '5755880549247088270' not in persistent cache.\n",
      "Key '-2188057434617587509' not in persistent cache.\n",
      "Key '5869950406630787805' not in persistent cache.\n",
      "Key '7169292734105518224' not in persistent cache.\n",
      "Key '-6230953725716329467' not in persistent cache.\n",
      "Key '-2700875928509362985' not in persistent cache.\n",
      "Key '-923879797705544820' not in persistent cache.\n",
      "Key '-6516639089435506111' not in persistent cache.\n",
      "Key '1122867824782849594' not in persistent cache.\n",
      "Key '-4275009968922902514' not in persistent cache.\n",
      "Key '-3774030312028601889' not in persistent cache.\n",
      "Key '-2095505507924507234' not in persistent cache.\n",
      "Key '-1437317619391864082' not in persistent cache.\n",
      "Key '3875133997165393190' not in persistent cache.\n",
      "Key '-3363921443397102528' not in persistent cache.\n",
      "Key '831132118362637195' not in persistent cache.\n",
      "Key '-3469323552664686036' not in persistent cache.\n",
      "Key '811137392730923285' not in persistent cache.\n",
      "Key '-2285601547300415366' not in persistent cache.\n",
      "Key '-5355881677650262861' not in persistent cache.\n",
      "Key '1628436217852041407' not in persistent cache.\n",
      "Key '7767807855423874611' not in persistent cache.\n",
      "Key '7696475513309729286' not in persistent cache.\n",
      "Key '5027601685329504591' not in persistent cache.\n",
      "Key '-6825163021566703128' not in persistent cache.\n",
      "Key '-8025736725059536962' not in persistent cache.\n",
      "Key '-7779638021838945964' not in persistent cache.\n",
      "Key '-2830903967759198172' not in persistent cache.\n",
      "Key '-4948554286115700985' not in persistent cache.\n",
      "Key '7050061419393432514' not in persistent cache.\n",
      "Key '2274959739048390257' not in persistent cache.\n",
      "Key '-3482077346248030975' not in persistent cache.\n",
      "Key '-3141798437568746168' not in persistent cache.\n",
      "Key '4506853610153435461' not in persistent cache.\n",
      "Key '4474212197612427317' not in persistent cache.\n",
      "Key '-7394648237682175429' not in persistent cache.\n",
      "Key '-7544279293132160128' not in persistent cache.\n",
      "Key '-8381670713905648190' not in persistent cache.\n",
      "Key '3563184440468933115' not in persistent cache.\n",
      "Key '242540537593806518' not in persistent cache.\n",
      "Key '-5888032042351094930' not in persistent cache.\n",
      "Key '7986795403242780361' not in persistent cache.\n",
      "Key '-7420573002933219545' not in persistent cache.\n",
      "Key '-3455467912764773335' not in persistent cache.\n",
      "Key '-4105144919411018529' not in persistent cache.\n",
      "Key '5666613526201831025' not in persistent cache.\n",
      "Key '-3837556766050289354' not in persistent cache.\n",
      "Key '-6123431744348263919' not in persistent cache.\n",
      "Key '-8758829211979756319' not in persistent cache.\n",
      "Key '-268365914986116943' not in persistent cache.\n",
      "Key '543843157288647688' not in persistent cache.\n",
      "Key '-9037099785086000039' not in persistent cache.\n",
      "Key '8890884894613825319' not in persistent cache.\n",
      "Key '2163547908060905590' not in persistent cache.\n",
      "Key '2565649670639723412' not in persistent cache.\n",
      "Key '-1764004469995145002' not in persistent cache.\n",
      "Key '5982584634179543090' not in persistent cache.\n",
      "Key '1413398063089154837' not in persistent cache.\n",
      "Key '-3339604501711679685' not in persistent cache.\n",
      "Key '-4510750454180532344' not in persistent cache.\n",
      "Key '19251962873579192' not in persistent cache.\n",
      "Key '-6239257572480951710' not in persistent cache.\n",
      "Key '-6617370693163116260' not in persistent cache.\n",
      "Key '-6907315157905196401' not in persistent cache.\n",
      "Key '5789324677530990262' not in persistent cache.\n",
      "Key '2764069856360285441' not in persistent cache.\n",
      "Key '2129233753756854874' not in persistent cache.\n",
      "Key '-6428143199570252989' not in persistent cache.\n",
      "Key '8230808533397307227' not in persistent cache.\n",
      "Key '-2159377522789312985' not in persistent cache.\n",
      "Key '-6614770423430794197' not in persistent cache.\n",
      "Key '-1060092471370705816' not in persistent cache.\n",
      "Key '-8150961985380674617' not in persistent cache.\n",
      "Key '-613455925793443513' not in persistent cache.\n",
      "Key '-3858423107871003916' not in persistent cache.\n",
      "Key '-1952286524104363891' not in persistent cache.\n",
      "Key '-8765295614808914083' not in persistent cache.\n",
      "Key '7248406118752351879' not in persistent cache.\n",
      "Key '3469417793823573578' not in persistent cache.\n",
      "Key '5969289149616489609' not in persistent cache.\n",
      "Key '5334340112310260665' not in persistent cache.\n",
      "Key '8056743373504266945' not in persistent cache.\n",
      "Key '-5694323355020436776' not in persistent cache.\n",
      "Key '-5327745414841781287' not in persistent cache.\n",
      "Key '6418439926772877882' not in persistent cache.\n",
      "Key '-26394896608594912' not in persistent cache.\n",
      "Key '-8415901407256347537' not in persistent cache.\n",
      "Key '5844483200776640105' not in persistent cache.\n",
      "Key '654368581301949445' not in persistent cache.\n",
      "Key '8908796337208117131' not in persistent cache.\n",
      "Key '-8185707952114485607' not in persistent cache.\n",
      "Key '-3549443412193555789' not in persistent cache.\n",
      "Key '4985965355861395465' not in persistent cache.\n",
      "Key '-7377624565183662438' not in persistent cache.\n",
      "Key '5236138614704765433' not in persistent cache.\n",
      "Key '4646624923590576660' not in persistent cache.\n",
      "Key '-1905195894449916397' not in persistent cache.\n",
      "Key '-6172355839840188343' not in persistent cache.\n",
      "Key '-8824294170312360448' not in persistent cache.\n",
      "Key '-3971861661222772140' not in persistent cache.\n",
      "Key '9034503535749255304' not in persistent cache.\n",
      "Key '1742147001237158090' not in persistent cache.\n",
      "Key '6188024596329838952' not in persistent cache.\n",
      "Key '340639472830615208' not in persistent cache.\n",
      "Key '-8217046748351318125' not in persistent cache.\n",
      "Key '8872967929468414629' not in persistent cache.\n",
      "Key '-266546650543155055' not in persistent cache.\n",
      "Key '3274936524212286267' not in persistent cache.\n",
      "Key '-3913925224145512794' not in persistent cache.\n",
      "Key '1527832397394615460' not in persistent cache.\n",
      "Key '-715013982326409397' not in persistent cache.\n",
      "Key '4021629574611101718' not in persistent cache.\n",
      "Key '-384388451178914377' not in persistent cache.\n",
      "Key '1037168221375151162' not in persistent cache.\n",
      "Key '8246528991876805257' not in persistent cache.\n",
      "Key '4556237735923035431' not in persistent cache.\n",
      "Key '7367241123440321398' not in persistent cache.\n",
      "Key '3604211329784794354' not in persistent cache.\n",
      "Key '6415214717302080321' not in persistent cache.\n",
      "Key '77251555697821798' not in persistent cache.\n",
      "Key '3342083657696380104' not in persistent cache.\n",
      "Key '3635089377627028292' not in persistent cache.\n",
      "Key '472924507900148920' not in persistent cache.\n",
      "Key '-408593577008418730' not in persistent cache.\n",
      "Key '4049687360091106273' not in persistent cache.\n",
      "Key '2395247906077169463' not in persistent cache.\n",
      "Key '-7698583144750918330' not in persistent cache.\n",
      "Key '-4887579757233632363' not in persistent cache.\n",
      "Key '1547566440590310055' not in persistent cache.\n",
      "Key '-9000093324719050077' not in persistent cache.\n",
      "Key '-5735261222720491771' not in persistent cache.\n",
      "Key '84652832817941896' not in persistent cache.\n",
      "Key '2895656220335227863' not in persistent cache.\n",
      "Key '3603722347365826165' not in persistent cache.\n",
      "Key '6414725734883112132' not in persistent cache.\n",
      "Key '-1746661441756783040' not in persistent cache.\n",
      "Key '-1583329959889985770' not in persistent cache.\n",
      "Key '-5273621215843755596' not in persistent cache.\n",
      "Key '2389568269139170838' not in persistent cache.\n",
      "Key '2682573989069819026' not in persistent cache.\n",
      "Key '4794593300655343958' not in persistent cache.\n",
      "Key '-3132954072888080517' not in persistent cache.\n",
      "Key '3972998769861933183' not in persistent cache.\n",
      "Key '2318559315847996373' not in persistent cache.\n",
      "Key '-7775271734980091420' not in persistent cache.\n",
      "Key '-565910964478437325' not in persistent cache.\n",
      "Key '1470877850361136965' not in persistent cache.\n",
      "Key '-9076781914948223167' not in persistent cache.\n",
      "Key '-1413592429965296733' not in persistent cache.\n",
      "Key '7964242588768806' not in persistent cache.\n",
      "Key '7217325013090422901' not in persistent cache.\n",
      "Key '3527033757136653075' not in persistent cache.\n",
      "Key '3690365239003450345' not in persistent cache.\n",
      "Key '2575007350998411998' not in persistent cache.\n",
      "Key '2738338832865209268' not in persistent cache.\n",
      "Key '-951952423088560558' not in persistent cache.\n",
      "Key '6711237061894365876' not in persistent cache.\n",
      "Key '7004242781825014064' not in persistent cache.\n",
      "Key '-671721299489903664' not in persistent cache.\n",
      "Key '-1553239384398471314' not in persistent cache.\n",
      "Key '5552713458351542386' not in persistent cache.\n",
      "Key '-3147755284297251249' not in persistent cache.\n",
      "Key '-6195557046490482217' not in persistent cache.\n",
      "Key '1013803724011171878' not in persistent cache.\n",
      "Key '3050592538850746168' not in persistent cache.\n",
      "Key '-7497067226458613964' not in persistent cache.\n",
      "Key '166122258524312470' not in persistent cache.\n",
      "Key '1587678931078378009' not in persistent cache.\n",
      "Key '8797039701580032104' not in persistent cache.\n",
      "Key '5106748445626262278' not in persistent cache.\n",
      "Key '5270079927493059548' not in persistent cache.\n",
      "Key '-2891307249146835624' not in persistent cache.\n",
      "Key '4318053521354818471' not in persistent cache.\n",
      "Key '627762265401048645' not in persistent cache.\n",
      "Key '3892594367399606951' not in persistent cache.\n",
      "Key '4185600087330255139' not in persistent cache.\n",
      "Key '2609634238537049631' not in persistent cache.\n",
      "Key '1728116153628481981' not in persistent cache.\n",
      "Key '-5214317694346687807' not in persistent cache.\n",
      "Key '133600253729702046' not in persistent cache.\n",
      "Key '-2914201508463528922' not in persistent cache.\n",
      "Key '4295159262038125173' not in persistent cache.\n",
      "Key '6331948076877699463' not in persistent cache.\n",
      "Key '182645694552707459' not in persistent cache.\n",
      "Key '3447477796551265765' not in persistent cache.\n",
      "Key '4869034469105331304' not in persistent cache.\n",
      "Key '-6368348834102566217' not in persistent cache.\n",
      "Key '8388103983653215573' not in persistent cache.\n",
      "Key '8551435465520012843' not in persistent cache.\n",
      "Key '390048288880117671' not in persistent cache.\n",
      "Key '7599409059381771766' not in persistent cache.\n",
      "Key '3909117803428001940' not in persistent cache.\n",
      "Key '-6874436785298623242' not in persistent cache.\n",
      "Key '-6581431065367975054' not in persistent cache.\n",
      "Key '105985385354219151' not in persistent cache.\n",
      "Key '-775532699554348499' not in persistent cache.\n",
      "Key '6330420143195665201' not in persistent cache.\n",
      "Key '-2370048599453128434' not in persistent cache.\n",
      "Key '-5417850361646359402' not in persistent cache.\n",
      "Key '-5254518879779562132' not in persistent cache.\n",
      "Key '-3217730064939987842' not in persistent cache.\n",
      "Key '-6719360541614491149' not in persistent cache.\n",
      "Key '943828943368435285' not in persistent cache.\n",
      "Key '2365385615922500824' not in persistent cache.\n",
      "Key '2528717097789298094' not in persistent cache.\n",
      "Key '-1161574158164471732' not in persistent cache.\n",
      "Key '6047786612337182363' not in persistent cache.\n",
      "Key '-2113600564302712809' not in persistent cache.\n",
      "Key '5095760206198941286' not in persistent cache.\n",
      "Key '1405468950245171460' not in persistent cache.\n",
      "Key '-2375728236391127059' not in persistent cache.\n",
      "Key '-2082722516460478871' not in persistent cache.\n",
      "Key '-5920247033397147850' not in persistent cache.\n",
      "Key '2302562571399893904' not in persistent cache.\n",
      "Key '1252780418272972471' not in persistent cache.\n",
      "Key '371262333364404821' not in persistent cache.\n",
      "Key '431185887479561696' not in persistent cache.\n",
      "Key '-1223253566534375114' not in persistent cache.\n",
      "Key '7129659456347088709' not in persistent cache.\n",
      "Key '-4107723846860808812' not in persistent cache.\n",
      "Key '-2070935032021234522' not in persistent cache.\n",
      "Key '-5572565508695737829' not in persistent cache.\n",
      "Key '-4955405312347668220' not in persistent cache.\n",
      "Key '3512180648841254144' not in persistent cache.\n",
      "Key '3675512130708051414' not in persistent cache.\n",
      "Key '-14779125245718412' not in persistent cache.\n",
      "Key '7194581645255935683' not in persistent cache.\n",
      "Key '-966805531383959489' not in persistent cache.\n",
      "Key '6242555239117694606' not in persistent cache.\n",
      "Key '-4493765305470932045' not in persistent cache.\n",
      "Key '3169424179511994389' not in persistent cache.\n",
      "Key '3462429899442642577' not in persistent cache.\n",
      "Key '1425439896457358186' not in persistent cache.\n",
      "Key '4942279194533158664' not in persistent cache.\n",
      "Key '5002202748648315539' not in persistent cache.\n",
      "Key '3347763294634378729' not in persistent cache.\n",
      "Key '-6746067756193709064' not in persistent cache.\n",
      "Key '463293014307945031' not in persistent cache.\n",
      "Key '2500081829147519321' not in persistent cache.\n",
      "Key '-1001548647526983986' not in persistent cache.\n",
      "Key '-384388451178914377' not in persistent cache.\n",
      "Key '1037168221375151162' not in persistent cache.\n",
      "Key '8246528991876805257' not in persistent cache.\n",
      "Key '4556237735923035431' not in persistent cache.\n",
      "Key '7367241123440321398' not in persistent cache.\n",
      "Key '3604211329784794354' not in persistent cache.\n",
      "Key '6415214717302080321' not in persistent cache.\n",
      "Key '77251555697821798' not in persistent cache.\n",
      "Key '3342083657696380104' not in persistent cache.\n",
      "Key '3635089377627028292' not in persistent cache.\n",
      "Key '472924507900148920' not in persistent cache.\n",
      "Key '-408593577008418730' not in persistent cache.\n",
      "Key '4049687360091106273' not in persistent cache.\n",
      "Key '2395247906077169463' not in persistent cache.\n",
      "Key '-7698583144750918330' not in persistent cache.\n",
      "Key '-4887579757233632363' not in persistent cache.\n",
      "Key '1547566440590310055' not in persistent cache.\n",
      "Key '-9000093324719050077' not in persistent cache.\n",
      "Key '-5735261222720491771' not in persistent cache.\n",
      "Key '84652832817941896' not in persistent cache.\n",
      "Key '2895656220335227863' not in persistent cache.\n",
      "Key '3603722347365826165' not in persistent cache.\n",
      "Key '6414725734883112132' not in persistent cache.\n",
      "Key '-1746661441756783040' not in persistent cache.\n",
      "Key '-1583329959889985770' not in persistent cache.\n",
      "Key '-5273621215843755596' not in persistent cache.\n",
      "Key '2389568269139170838' not in persistent cache.\n",
      "Key '2682573989069819026' not in persistent cache.\n",
      "Key '4794593300655343958' not in persistent cache.\n",
      "Key '-3132954072888080517' not in persistent cache.\n",
      "Key '3972998769861933183' not in persistent cache.\n",
      "Key '2318559315847996373' not in persistent cache.\n",
      "Key '-7775271734980091420' not in persistent cache.\n",
      "Key '-8645387572858873058' not in persistent cache.\n",
      "Key '-7937321445828274756' not in persistent cache.\n",
      "Key '6728225441244978341' not in persistent cache.\n",
      "Key '7021231161175626529' not in persistent cache.\n",
      "Key '8523124774935067900' not in persistent cache.\n",
      "Key '-2521795696083917490' not in persistent cache.\n",
      "Key '2733927508563557549' not in persistent cache.\n",
      "Key '2585377274201354476' not in persistent cache.\n",
      "Key '-1806212981286313511' not in persistent cache.\n",
      "Key '3942105668315856387' not in persistent cache.\n",
      "Key '-1967728012523756058' not in persistent cache.\n",
      "Key '7603720597982411357' not in persistent cache.\n",
      "Key '-2199021571917225791' not in persistent cache.\n",
      "Key '4819577004056229320' not in persistent cache.\n",
      "Key '8277809316887320672' not in persistent cache.\n",
      "Key '-83598078021844726' not in persistent cache.\n",
      "Key '4435728804904029371' not in persistent cache.\n",
      "Key '-2354308527346345082' not in persistent cache.\n",
      "Key '2818966646182012256' not in persistent cache.\n",
      "Key '1800469492637262750' not in persistent cache.\n",
      "Key '-7886174798075830749' not in persistent cache.\n",
      "Key '656624812739739742' not in persistent cache.\n",
      "Key '-1081953005769575278' not in persistent cache.\n",
      "Key '8431098831214023998' not in persistent cache.\n",
      "Key '-1818959576569205924' not in persistent cache.\n",
      "Key '-6186669671631487522' not in persistent cache.\n",
      "Key '-3190243877669491822' not in persistent cache.\n",
      "Key '-9052388680325617060' not in persistent cache.\n",
      "Key '-6698774899593397100' not in persistent cache.\n",
      "Key '5361220697565267446' not in persistent cache.\n",
      "Key '-4674881506627592112' not in persistent cache.\n",
      "Key '3832826738977706402' not in persistent cache.\n",
      "Key '3332989798691096588' not in persistent cache.\n",
      "Key '811127651492340147' not in persistent cache.\n",
      "Key '5794818088280572053' not in persistent cache.\n",
      "Key '993100129209272256' not in persistent cache.\n",
      "Key '-2255167786926080382' not in persistent cache.\n",
      "Key '6155148116865089564' not in persistent cache.\n",
      "Key '-608032920919874070' not in persistent cache.\n",
      "Key '4083641718232155160' not in persistent cache.\n",
      "Key '-726422597404791766' not in persistent cache.\n",
      "Key '4335647334121532320' not in persistent cache.\n",
      "Key '3958445080885541120' not in persistent cache.\n",
      "Key '2198942633041967671' not in persistent cache.\n",
      "Key '-426564682215827717' not in persistent cache.\n",
      "Key '-2672722182300706210' not in persistent cache.\n",
      "Key '3488239664354830344' not in persistent cache.\n",
      "Key '-7257335383671072494' not in persistent cache.\n",
      "Key '-5962596681477806403' not in persistent cache.\n",
      "Key '1276425082674092493' not in persistent cache.\n",
      "Key '-8858000745713532220' not in persistent cache.\n",
      "Key '8493539985902944973' not in persistent cache.\n",
      "Key '2693735148489224114' not in persistent cache.\n",
      "Key '1845872599005367803' not in persistent cache.\n",
      "Key '7958432329319535152' not in persistent cache.\n",
      "Key '-7219723371790311423' not in persistent cache.\n",
      "Key '1865092967521613080' not in persistent cache.\n",
      "Key '-4751638091504163632' not in persistent cache.\n",
      "Key '-1507550756610164904' not in persistent cache.\n",
      "Key '7961032635341564698' not in persistent cache.\n",
      "Key '4106165133353514593' not in persistent cache.\n",
      "Key '-3763781187836281328' not in persistent cache.\n",
      "Key '2314027727452280353' not in persistent cache.\n",
      "Key '4402014260484232887' not in persistent cache.\n",
      "Key '1438187230103993140' not in persistent cache.\n",
      "Key '6258454307539039847' not in persistent cache.\n",
      "Key '7531294625045553366' not in persistent cache.\n",
      "Key '-3678963461893920432' not in persistent cache.\n",
      "Key '270873181223047442' not in persistent cache.\n",
      "Key '-8415901407256347537' not in persistent cache.\n",
      "Key '5844483200776640105' not in persistent cache.\n",
      "Key '654368581301949445' not in persistent cache.\n",
      "Key '8908796337208117131' not in persistent cache.\n",
      "Key '-8185707952114485607' not in persistent cache.\n",
      "Key '-3549443412193555789' not in persistent cache.\n",
      "Key '2285602066246468643' not in persistent cache.\n",
      "Key '-3876674726524143168' not in persistent cache.\n",
      "Key '-5283284360185832468' not in persistent cache.\n",
      "Key '2542481865984890333' not in persistent cache.\n",
      "Key '-6487243821242031824' not in persistent cache.\n",
      "Key '-1533962901938988882' not in persistent cache.\n",
      "Key '8165070210477707174' not in persistent cache.\n",
      "Key '-8208717038198758959' not in persistent cache.\n",
      "Key '-1744322061891522006' not in persistent cache.\n",
      "Key '446298814589318215' not in persistent cache.\n",
      "Key '-170033418804243833' not in persistent cache.\n",
      "Key '-4296220011559289705' not in persistent cache.\n",
      "Key '2419513105116402321' not in persistent cache.\n",
      "Key '8753576219594531707' not in persistent cache.\n",
      "Key '-5694323355020436776' not in persistent cache.\n",
      "Key '3274936524212286267' not in persistent cache.\n",
      "Key '-5327745414841781287' not in persistent cache.\n",
      "Key '-3913925224145512794' not in persistent cache.\n",
      "Key '8029002957387461589' not in persistent cache.\n",
      "Key '4423414675586803505' not in persistent cache.\n",
      "Key '-1636602672232218003' not in persistent cache.\n",
      "Key '2738146653731138115' not in persistent cache.\n",
      "Key '1878437001481998489' not in persistent cache.\n",
      "Key '8407810947158960462' not in persistent cache.\n",
      "Key '-4601233978951518571' not in persistent cache.\n",
      "Key '-7727271148049631726' not in persistent cache.\n",
      "Key '1161516707671621692' not in persistent cache.\n",
      "Key '4678356005747422170' not in persistent cache.\n",
      "Key '4738279559862579045' not in persistent cache.\n",
      "Key '3083840105848642235' not in persistent cache.\n",
      "Key '-7009990944979445558' not in persistent cache.\n",
      "Key '-4198987557462159591' not in persistent cache.\n",
      "Key '2236158640361782827' not in persistent cache.\n",
      "Key '-1265471836312720480' not in persistent cache.\n",
      "Key '-5046669022949018999' not in persistent cache.\n",
      "Key '773245032589414668' not in persistent cache.\n",
      "Key '3584248420106700635' not in persistent cache.\n",
      "Key '4292314547137298937' not in persistent cache.\n",
      "Key '7103317934654584904' not in persistent cache.\n",
      "Key '-1058069241985310268' not in persistent cache.\n",
      "Key '6151291528516343827' not in persistent cache.\n",
      "Key '-4585029016072282824' not in persistent cache.\n",
      "Key '3078160468910643610' not in persistent cache.\n",
      "Key '3371166188841291798' not in persistent cache.\n",
      "Key '4663205265752178606' not in persistent cache.\n",
      "Key '3781687180843610956' not in persistent cache.\n",
      "Key '-3160746667131558832' not in persistent cache.\n",
      "Key '6585528663929199149' not in persistent cache.\n",
      "Key '3537726901735968181' not in persistent cache.\n",
      "Key '-697298999381602677' not in persistent cache.\n",
      "Key '5737847198442339741' not in persistent cache.\n",
      "Key '2236216721767836434' not in persistent cache.\n",
      "Key '5501048823766394740' not in persistent cache.\n",
      "Key '-7125781194404723209' not in persistent cache.\n",
      "Key '7085936978187257549' not in persistent cache.\n",
      "Key '7794003105217855851' not in persistent cache.\n",
      "Key '-7841737580974409798' not in persistent cache.\n",
      "Key '2443619316095246646' not in persistent cache.\n",
      "Key '-8793763987112650875' not in persistent cache.\n",
      "Key '5962688830643130915' not in persistent cache.\n",
      "Key '6579849026991200524' not in persistent cache.\n",
      "Key '6872854746921848712' not in persistent cache.\n",
      "Key '-4531515614642572331' not in persistent cache.\n",
      "Key '-5413033699551139981' not in persistent cache.\n",
      "Key '-5353110145435983106' not in persistent cache.\n",
      "Key '-7007549599449919916' not in persistent cache.\n",
      "Key '1345363423431543907' not in persistent cache.\n",
      "Key '8554724193933198002' not in persistent cache.\n",
      "Key '-7855231064936779324' not in persistent cache.\n",
      "Key '7089882532098268985' not in persistent cache.\n",
      "Key '7707042728446338594' not in persistent cache.\n",
      "Key '-2272115384074290658' not in persistent cache.\n",
      "Key '-2108783902207493388' not in persistent cache.\n",
      "Key '-5799075158161263214' not in persistent cache.\n",
      "Key '1410285612340390881' not in persistent cache.\n",
      "Key '-6751101564299504291' not in persistent cache.\n",
      "Key '-3940098176782218324' not in persistent cache.\n",
      "Key '-3232032049751620022' not in persistent cache.\n",
      "Key '-7013229236387918541' not in persistent cache.\n",
      "Key '-6720223516457270353' not in persistent cache.\n",
      "Key '1925124469213425672' not in persistent cache.\n",
      "Key '1043606384304858022' not in persistent cache.\n",
      "Key '-5898827463670311766' not in persistent cache.\n",
      "Key '-550909515593921913' not in persistent cache.\n",
      "Key '-3598711277787152881' not in persistent cache.\n",
      "Key '3610649492714501214' not in persistent cache.\n",
      "Key '5647438307554075504' not in persistent cache.\n",
      "Key '-501864074770916500' not in persistent cache.\n",
      "Key '2762968027227641806' not in persistent cache.\n",
      "Key '4184524699781707345' not in persistent cache.\n",
      "Key '-7052858603426190176' not in persistent cache.\n",
      "Key '7703594214329591614' not in persistent cache.\n",
      "Key '7866925696196388884' not in persistent cache.\n",
      "Key '-294461480443506288' not in persistent cache.\n",
      "Key '6914899290058147807' not in persistent cache.\n",
      "Key '3224608034104377981' not in persistent cache.\n",
      "Key '-7558946554622247201' not in persistent cache.\n",
      "Key '-7265940834691599013' not in persistent cache.\n",
      "Key '7978560585130828681' not in persistent cache.\n",
      "Key '-9044996676559990860' not in persistent cache.\n",
      "Key '-308148107916087273' not in persistent cache.\n",
      "Key '5741914253268135971' not in persistent cache.\n",
      "Key '-4215391669388796797' not in persistent cache.\n",
      "Key '-3578768451713710018' not in persistent cache.\n",
      "Key '-6981913406988129836' not in persistent cache.\n",
      "Key '4375723744344176874' not in persistent cache.\n",
      "Key '-4189077110081353160' not in persistent cache.\n",
      "Key '7667492833304644700' not in persistent cache.\n",
      "Key '-8933097188248907950' not in persistent cache.\n",
      "Key '-3397461890567746490' not in persistent cache.\n",
      "Key '-3529395872782913188' not in persistent cache.\n",
      "Key '5164094010892350439' not in persistent cache.\n",
      "Key '1946882262939315232' not in persistent cache.\n",
      "Key '2222257489168211987' not in persistent cache.\n",
      "Key '-4834607692918764212' not in persistent cache.\n",
      "Key '1844556150604168116' not in persistent cache.\n",
      "Key '-2772793815095391857' not in persistent cache.\n",
      "Key '7439991611574350331' not in persistent cache.\n",
      "Key '447668432486827652' not in persistent cache.\n",
      "Key '5756691279143454499' not in persistent cache.\n",
      "Key '-8348613555521858843' not in persistent cache.\n",
      "Key '-8239670132104152921' not in persistent cache.\n",
      "Key '-4511741124772655799' not in persistent cache.\n",
      "Key '-4538027040918396750' not in persistent cache.\n",
      "Key '-6575505043892552299' not in persistent cache.\n",
      "Key '4974076910975556552' not in persistent cache.\n",
      "Key '-5481831046066831464' not in persistent cache.\n",
      "Key '716241281778798927' not in persistent cache.\n",
      "Key '2801644306721597602' not in persistent cache.\n",
      "Key '-2319412408034083690' not in persistent cache.\n",
      "Key '-3755182969695601242' not in persistent cache.\n",
      "Key '-1896641030787651297' not in persistent cache.\n",
      "Key '5755880549247088270' not in persistent cache.\n",
      "Key '-2188057434617587509' not in persistent cache.\n",
      "Key '5869950406630787805' not in persistent cache.\n",
      "Key '7169292734105518224' not in persistent cache.\n",
      "Key '-6230953725716329467' not in persistent cache.\n",
      "Key '-2700875928509362985' not in persistent cache.\n",
      "Key '-923879797705544820' not in persistent cache.\n",
      "Key '-6516639089435506111' not in persistent cache.\n",
      "Key '1122867824782849594' not in persistent cache.\n",
      "Key '-4275009968922902514' not in persistent cache.\n",
      "Key '-3774030312028601889' not in persistent cache.\n",
      "Key '-2095505507924507234' not in persistent cache.\n",
      "Key '-1437317619391864082' not in persistent cache.\n",
      "Key '3875133997165393190' not in persistent cache.\n",
      "Key '-3363921443397102528' not in persistent cache.\n",
      "Key '831132118362637195' not in persistent cache.\n",
      "Key '-3469323552664686036' not in persistent cache.\n",
      "Key '811137392730923285' not in persistent cache.\n",
      "Key '-2285601547300415366' not in persistent cache.\n",
      "Key '-5355881677650262861' not in persistent cache.\n",
      "Key '1628436217852041407' not in persistent cache.\n",
      "Key '7767807855423874611' not in persistent cache.\n",
      "Key '7696475513309729286' not in persistent cache.\n",
      "Key '5027601685329504591' not in persistent cache.\n",
      "Key '-6825163021566703128' not in persistent cache.\n",
      "Key '-8025736725059536962' not in persistent cache.\n",
      "Key '-7779638021838945964' not in persistent cache.\n",
      "Key '-2830903967759198172' not in persistent cache.\n",
      "Key '-4948554286115700985' not in persistent cache.\n",
      "Key '7050061419393432514' not in persistent cache.\n",
      "Key '2274959739048390257' not in persistent cache.\n",
      "Key '-3482077346248030975' not in persistent cache.\n",
      "Key '-3141798437568746168' not in persistent cache.\n",
      "Key '4506853610153435461' not in persistent cache.\n",
      "Key '4474212197612427317' not in persistent cache.\n",
      "Key '-7394648237682175429' not in persistent cache.\n",
      "Key '-7544279293132160128' not in persistent cache.\n",
      "Key '-8381670713905648190' not in persistent cache.\n",
      "Key '3563184440468933115' not in persistent cache.\n",
      "Key '242540537593806518' not in persistent cache.\n",
      "Key '-5888032042351094930' not in persistent cache.\n",
      "Key '7986795403242780361' not in persistent cache.\n",
      "Key '-7420573002933219545' not in persistent cache.\n",
      "Key '-3455467912764773335' not in persistent cache.\n",
      "Key '-4105144919411018529' not in persistent cache.\n",
      "Key '5666613526201831025' not in persistent cache.\n",
      "Key '-3837556766050289354' not in persistent cache.\n",
      "Key '-6123431744348263919' not in persistent cache.\n",
      "Key '-8758829211979756319' not in persistent cache.\n",
      "Key '-268365914986116943' not in persistent cache.\n",
      "Key '543843157288647688' not in persistent cache.\n",
      "Key '-9037099785086000039' not in persistent cache.\n",
      "Key '8890884894613825319' not in persistent cache.\n",
      "Key '2163547908060905590' not in persistent cache.\n",
      "Key '2565649670639723412' not in persistent cache.\n",
      "Key '-1764004469995145002' not in persistent cache.\n",
      "Key '5982584634179543090' not in persistent cache.\n",
      "Key '1413398063089154837' not in persistent cache.\n",
      "Key '-3339604501711679685' not in persistent cache.\n",
      "Key '-4510750454180532344' not in persistent cache.\n",
      "Key '19251962873579192' not in persistent cache.\n",
      "Key '-6239257572480951710' not in persistent cache.\n",
      "Key '-6617370693163116260' not in persistent cache.\n",
      "Key '-6907315157905196401' not in persistent cache.\n",
      "Key '5789324677530990262' not in persistent cache.\n",
      "Key '2764069856360285441' not in persistent cache.\n",
      "Key '2129233753756854874' not in persistent cache.\n",
      "Key '-6428143199570252989' not in persistent cache.\n",
      "Key '8230808533397307227' not in persistent cache.\n",
      "Key '-2159377522789312985' not in persistent cache.\n",
      "Key '-6614770423430794197' not in persistent cache.\n",
      "Key '-1060092471370705816' not in persistent cache.\n",
      "Key '-8150961985380674617' not in persistent cache.\n",
      "Key '-613455925793443513' not in persistent cache.\n",
      "Key '-3858423107871003916' not in persistent cache.\n",
      "Key '-1952286524104363891' not in persistent cache.\n",
      "Key '-8765295614808914083' not in persistent cache.\n",
      "Key '7248406118752351879' not in persistent cache.\n",
      "Key '3469417793823573578' not in persistent cache.\n",
      "Key '5969289149616489609' not in persistent cache.\n",
      "Key '5334340112310260665' not in persistent cache.\n",
      "Key '8056743373504266945' not in persistent cache.\n",
      "Key '-5694323355020436776' not in persistent cache.\n",
      "Key '-5327745414841781287' not in persistent cache.\n",
      "Key '6418439926772877882' not in persistent cache.\n",
      "Key '-26394896608594912' not in persistent cache.\n",
      "Key '-8415901407256347537' not in persistent cache.\n",
      "Key '5844483200776640105' not in persistent cache.\n",
      "Key '654368581301949445' not in persistent cache.\n",
      "Key '8908796337208117131' not in persistent cache.\n",
      "Key '-8185707952114485607' not in persistent cache.\n",
      "Key '-3549443412193555789' not in persistent cache.\n",
      "Key '4985965355861395465' not in persistent cache.\n",
      "Key '-7377624565183662438' not in persistent cache.\n",
      "Key '5236138614704765433' not in persistent cache.\n",
      "Key '4646624923590576660' not in persistent cache.\n",
      "Key '-1905195894449916397' not in persistent cache.\n",
      "Key '-6172355839840188343' not in persistent cache.\n",
      "Key '-8824294170312360448' not in persistent cache.\n",
      "Key '-3971861661222772140' not in persistent cache.\n",
      "Key '9034503535749255304' not in persistent cache.\n",
      "Key '1742147001237158090' not in persistent cache.\n",
      "Key '6188024596329838952' not in persistent cache.\n",
      "Key '340639472830615208' not in persistent cache.\n",
      "Key '-8217046748351318125' not in persistent cache.\n",
      "Key '8872967929468414629' not in persistent cache.\n",
      "Key '-266546650543155055' not in persistent cache.\n",
      "Key '3274936524212286267' not in persistent cache.\n",
      "Key '-3913925224145512794' not in persistent cache.\n",
      "Key '1527832397394615460' not in persistent cache.\n",
      "Key '-715013982326409397' not in persistent cache.\n",
      "Key '4021629574611101718' not in persistent cache.\n",
      "Key '-384388451178914377' not in persistent cache.\n",
      "Key '1037168221375151162' not in persistent cache.\n",
      "Key '8246528991876805257' not in persistent cache.\n",
      "Key '4556237735923035431' not in persistent cache.\n",
      "Key '7367241123440321398' not in persistent cache.\n",
      "Key '3604211329784794354' not in persistent cache.\n",
      "Key '6415214717302080321' not in persistent cache.\n",
      "Key '77251555697821798' not in persistent cache.\n",
      "Key '3342083657696380104' not in persistent cache.\n",
      "Key '3635089377627028292' not in persistent cache.\n",
      "Key '472924507900148920' not in persistent cache.\n",
      "Key '-408593577008418730' not in persistent cache.\n",
      "Key '4049687360091106273' not in persistent cache.\n",
      "Key '2395247906077169463' not in persistent cache.\n",
      "Key '-7698583144750918330' not in persistent cache.\n",
      "Key '-4887579757233632363' not in persistent cache.\n",
      "Key '1547566440590310055' not in persistent cache.\n",
      "Key '-9000093324719050077' not in persistent cache.\n",
      "Key '-5735261222720491771' not in persistent cache.\n",
      "Key '84652832817941896' not in persistent cache.\n",
      "Key '2895656220335227863' not in persistent cache.\n",
      "Key '3603722347365826165' not in persistent cache.\n",
      "Key '6414725734883112132' not in persistent cache.\n",
      "Key '-1746661441756783040' not in persistent cache.\n",
      "Key '-1583329959889985770' not in persistent cache.\n",
      "Key '-5273621215843755596' not in persistent cache.\n",
      "Key '2389568269139170838' not in persistent cache.\n",
      "Key '2682573989069819026' not in persistent cache.\n",
      "Key '4794593300655343958' not in persistent cache.\n",
      "Key '-3132954072888080517' not in persistent cache.\n",
      "Key '3972998769861933183' not in persistent cache.\n",
      "Key '2318559315847996373' not in persistent cache.\n",
      "Key '-7775271734980091420' not in persistent cache.\n",
      "Key '-565910964478437325' not in persistent cache.\n",
      "Key '1470877850361136965' not in persistent cache.\n",
      "Key '-9076781914948223167' not in persistent cache.\n",
      "Key '-1413592429965296733' not in persistent cache.\n",
      "Key '7964242588768806' not in persistent cache.\n",
      "Key '7217325013090422901' not in persistent cache.\n",
      "Key '3527033757136653075' not in persistent cache.\n",
      "Key '3690365239003450345' not in persistent cache.\n",
      "Key '2575007350998411998' not in persistent cache.\n",
      "Key '2738338832865209268' not in persistent cache.\n",
      "Key '-951952423088560558' not in persistent cache.\n",
      "Key '6711237061894365876' not in persistent cache.\n",
      "Key '7004242781825014064' not in persistent cache.\n",
      "Key '-671721299489903664' not in persistent cache.\n",
      "Key '-1553239384398471314' not in persistent cache.\n",
      "Key '5552713458351542386' not in persistent cache.\n",
      "Key '-3147755284297251249' not in persistent cache.\n",
      "Key '-6195557046490482217' not in persistent cache.\n",
      "Key '1013803724011171878' not in persistent cache.\n",
      "Key '3050592538850746168' not in persistent cache.\n",
      "Key '-7497067226458613964' not in persistent cache.\n",
      "Key '166122258524312470' not in persistent cache.\n",
      "Key '1587678931078378009' not in persistent cache.\n",
      "Key '8797039701580032104' not in persistent cache.\n",
      "Key '5106748445626262278' not in persistent cache.\n",
      "Key '5270079927493059548' not in persistent cache.\n",
      "Key '-2891307249146835624' not in persistent cache.\n",
      "Key '4318053521354818471' not in persistent cache.\n",
      "Key '627762265401048645' not in persistent cache.\n",
      "Key '3892594367399606951' not in persistent cache.\n",
      "Key '4185600087330255139' not in persistent cache.\n",
      "Key '2609634238537049631' not in persistent cache.\n",
      "Key '1728116153628481981' not in persistent cache.\n",
      "Key '-5214317694346687807' not in persistent cache.\n",
      "Key '133600253729702046' not in persistent cache.\n",
      "Key '-2914201508463528922' not in persistent cache.\n",
      "Key '4295159262038125173' not in persistent cache.\n",
      "Key '6331948076877699463' not in persistent cache.\n",
      "Key '182645694552707459' not in persistent cache.\n",
      "Key '3447477796551265765' not in persistent cache.\n",
      "Key '4869034469105331304' not in persistent cache.\n",
      "Key '-6368348834102566217' not in persistent cache.\n",
      "Key '8388103983653215573' not in persistent cache.\n",
      "Key '8551435465520012843' not in persistent cache.\n",
      "Key '390048288880117671' not in persistent cache.\n",
      "Key '7599409059381771766' not in persistent cache.\n",
      "Key '3909117803428001940' not in persistent cache.\n",
      "Key '-6874436785298623242' not in persistent cache.\n",
      "Key '-6581431065367975054' not in persistent cache.\n",
      "Key '105985385354219151' not in persistent cache.\n",
      "Key '-775532699554348499' not in persistent cache.\n",
      "Key '6330420143195665201' not in persistent cache.\n",
      "Key '-2370048599453128434' not in persistent cache.\n",
      "Key '-5417850361646359402' not in persistent cache.\n",
      "Key '-5254518879779562132' not in persistent cache.\n",
      "Key '-3217730064939987842' not in persistent cache.\n",
      "Key '-6719360541614491149' not in persistent cache.\n",
      "Key '943828943368435285' not in persistent cache.\n",
      "Key '2365385615922500824' not in persistent cache.\n",
      "Key '2528717097789298094' not in persistent cache.\n",
      "Key '-1161574158164471732' not in persistent cache.\n",
      "Key '6047786612337182363' not in persistent cache.\n",
      "Key '-2113600564302712809' not in persistent cache.\n",
      "Key '5095760206198941286' not in persistent cache.\n",
      "Key '1405468950245171460' not in persistent cache.\n",
      "Key '-2375728236391127059' not in persistent cache.\n",
      "Key '-2082722516460478871' not in persistent cache.\n",
      "Key '-5920247033397147850' not in persistent cache.\n",
      "Key '2302562571399893904' not in persistent cache.\n",
      "Key '1252780418272972471' not in persistent cache.\n",
      "Key '371262333364404821' not in persistent cache.\n",
      "Key '431185887479561696' not in persistent cache.\n",
      "Key '-1223253566534375114' not in persistent cache.\n",
      "Key '7129659456347088709' not in persistent cache.\n",
      "Key '-4107723846860808812' not in persistent cache.\n",
      "Key '-2070935032021234522' not in persistent cache.\n",
      "Key '-5572565508695737829' not in persistent cache.\n",
      "Key '-4955405312347668220' not in persistent cache.\n",
      "Key '3512180648841254144' not in persistent cache.\n",
      "Key '3675512130708051414' not in persistent cache.\n",
      "Key '-14779125245718412' not in persistent cache.\n",
      "Key '7194581645255935683' not in persistent cache.\n",
      "Key '-966805531383959489' not in persistent cache.\n",
      "Key '6242555239117694606' not in persistent cache.\n",
      "Key '-4493765305470932045' not in persistent cache.\n",
      "Key '3169424179511994389' not in persistent cache.\n",
      "Key '3462429899442642577' not in persistent cache.\n",
      "Key '1425439896457358186' not in persistent cache.\n",
      "Key '4942279194533158664' not in persistent cache.\n",
      "Key '5002202748648315539' not in persistent cache.\n",
      "Key '3347763294634378729' not in persistent cache.\n",
      "Key '-6746067756193709064' not in persistent cache.\n",
      "Key '463293014307945031' not in persistent cache.\n",
      "Key '2500081829147519321' not in persistent cache.\n",
      "Key '-1001548647526983986' not in persistent cache.\n",
      "Key '-384388451178914377' not in persistent cache.\n",
      "Key '1037168221375151162' not in persistent cache.\n",
      "Key '8246528991876805257' not in persistent cache.\n",
      "Key '4556237735923035431' not in persistent cache.\n",
      "Key '7367241123440321398' not in persistent cache.\n",
      "Key '3604211329784794354' not in persistent cache.\n",
      "Key '6415214717302080321' not in persistent cache.\n",
      "Key '77251555697821798' not in persistent cache.\n",
      "Key '3342083657696380104' not in persistent cache.\n",
      "Key '3635089377627028292' not in persistent cache.\n",
      "Key '472924507900148920' not in persistent cache.\n",
      "Key '-408593577008418730' not in persistent cache.\n",
      "Key '4049687360091106273' not in persistent cache.\n",
      "Key '2395247906077169463' not in persistent cache.\n",
      "Key '-7698583144750918330' not in persistent cache.\n",
      "Key '-4887579757233632363' not in persistent cache.\n",
      "Key '1547566440590310055' not in persistent cache.\n",
      "Key '-9000093324719050077' not in persistent cache.\n",
      "Key '-5735261222720491771' not in persistent cache.\n",
      "Key '84652832817941896' not in persistent cache.\n",
      "Key '2895656220335227863' not in persistent cache.\n",
      "Key '3603722347365826165' not in persistent cache.\n",
      "Key '6414725734883112132' not in persistent cache.\n",
      "Key '-1746661441756783040' not in persistent cache.\n",
      "Key '-1583329959889985770' not in persistent cache.\n",
      "Key '-5273621215843755596' not in persistent cache.\n",
      "Key '2389568269139170838' not in persistent cache.\n",
      "Key '2682573989069819026' not in persistent cache.\n",
      "Key '4794593300655343958' not in persistent cache.\n",
      "Key '-3132954072888080517' not in persistent cache.\n",
      "Key '3972998769861933183' not in persistent cache.\n",
      "Key '2318559315847996373' not in persistent cache.\n",
      "Key '-7775271734980091420' not in persistent cache.\n",
      "Key '-8645387572858873058' not in persistent cache.\n",
      "Key '-7937321445828274756' not in persistent cache.\n",
      "Key '6728225441244978341' not in persistent cache.\n",
      "Key '7021231161175626529' not in persistent cache.\n",
      "Key '8523124774935067900' not in persistent cache.\n",
      "Key '-2521795696083917490' not in persistent cache.\n",
      "Key '2733927508563557549' not in persistent cache.\n",
      "Key '2585377274201354476' not in persistent cache.\n",
      "Key '-1806212981286313511' not in persistent cache.\n",
      "Key '3942105668315856387' not in persistent cache.\n",
      "Key '-1967728012523756058' not in persistent cache.\n",
      "Key '7603720597982411357' not in persistent cache.\n",
      "Key '-2199021571917225791' not in persistent cache.\n",
      "Key '4819577004056229320' not in persistent cache.\n",
      "Key '8277809316887320672' not in persistent cache.\n",
      "Key '-83598078021844726' not in persistent cache.\n",
      "Key '4435728804904029371' not in persistent cache.\n",
      "Key '-2354308527346345082' not in persistent cache.\n",
      "Key '2818966646182012256' not in persistent cache.\n",
      "Key '1800469492637262750' not in persistent cache.\n",
      "Key '-7886174798075830749' not in persistent cache.\n",
      "Key '656624812739739742' not in persistent cache.\n",
      "Key '-1081953005769575278' not in persistent cache.\n",
      "Key '8431098831214023998' not in persistent cache.\n",
      "Key '-1818959576569205924' not in persistent cache.\n",
      "Key '-6186669671631487522' not in persistent cache.\n",
      "Key '-3190243877669491822' not in persistent cache.\n",
      "Key '-9052388680325617060' not in persistent cache.\n",
      "Key '-6698774899593397100' not in persistent cache.\n",
      "Key '5361220697565267446' not in persistent cache.\n",
      "Key '-4674881506627592112' not in persistent cache.\n",
      "Key '3832826738977706402' not in persistent cache.\n",
      "Key '3332989798691096588' not in persistent cache.\n",
      "Key '811127651492340147' not in persistent cache.\n",
      "Key '5794818088280572053' not in persistent cache.\n",
      "Key '993100129209272256' not in persistent cache.\n",
      "Key '-2255167786926080382' not in persistent cache.\n",
      "Key '6155148116865089564' not in persistent cache.\n",
      "Key '-608032920919874070' not in persistent cache.\n",
      "Key '4083641718232155160' not in persistent cache.\n",
      "Key '-726422597404791766' not in persistent cache.\n",
      "Key '4335647334121532320' not in persistent cache.\n",
      "Key '3958445080885541120' not in persistent cache.\n",
      "Key '2198942633041967671' not in persistent cache.\n",
      "Key '-426564682215827717' not in persistent cache.\n",
      "Key '-2672722182300706210' not in persistent cache.\n",
      "Key '3488239664354830344' not in persistent cache.\n",
      "Key '-7257335383671072494' not in persistent cache.\n",
      "Key '-5962596681477806403' not in persistent cache.\n",
      "Key '1276425082674092493' not in persistent cache.\n",
      "Key '-8858000745713532220' not in persistent cache.\n",
      "Key '8493539985902944973' not in persistent cache.\n",
      "Key '2693735148489224114' not in persistent cache.\n",
      "Key '1845872599005367803' not in persistent cache.\n",
      "Key '7958432329319535152' not in persistent cache.\n",
      "Key '-7219723371790311423' not in persistent cache.\n",
      "Key '1865092967521613080' not in persistent cache.\n",
      "Key '-4751638091504163632' not in persistent cache.\n",
      "Key '-1507550756610164904' not in persistent cache.\n",
      "Key '7961032635341564698' not in persistent cache.\n",
      "Key '4106165133353514593' not in persistent cache.\n",
      "Key '-3763781187836281328' not in persistent cache.\n",
      "Key '2314027727452280353' not in persistent cache.\n",
      "Key '4402014260484232887' not in persistent cache.\n",
      "Key '1438187230103993140' not in persistent cache.\n",
      "Key '6258454307539039847' not in persistent cache.\n",
      "Key '7531294625045553366' not in persistent cache.\n",
      "Key '-3678963461893920432' not in persistent cache.\n",
      "Key '270873181223047442' not in persistent cache.\n",
      "Key '-8415901407256347537' not in persistent cache.\n",
      "Key '5844483200776640105' not in persistent cache.\n",
      "Key '654368581301949445' not in persistent cache.\n",
      "Key '8908796337208117131' not in persistent cache.\n",
      "Key '-8185707952114485607' not in persistent cache.\n",
      "Key '-3549443412193555789' not in persistent cache.\n",
      "Key '2285602066246468643' not in persistent cache.\n",
      "Key '-3876674726524143168' not in persistent cache.\n",
      "Key '-5283284360185832468' not in persistent cache.\n",
      "Key '2542481865984890333' not in persistent cache.\n",
      "Key '-6487243821242031824' not in persistent cache.\n",
      "Key '-1533962901938988882' not in persistent cache.\n",
      "Key '8165070210477707174' not in persistent cache.\n",
      "Key '-8208717038198758959' not in persistent cache.\n",
      "Key '-1744322061891522006' not in persistent cache.\n",
      "Key '446298814589318215' not in persistent cache.\n",
      "Key '-170033418804243833' not in persistent cache.\n",
      "Key '-4296220011559289705' not in persistent cache.\n",
      "Key '2419513105116402321' not in persistent cache.\n",
      "Key '8753576219594531707' not in persistent cache.\n",
      "Key '-5694323355020436776' not in persistent cache.\n",
      "Key '3274936524212286267' not in persistent cache.\n",
      "Key '-5327745414841781287' not in persistent cache.\n",
      "Key '-3913925224145512794' not in persistent cache.\n",
      "Key '8029002957387461589' not in persistent cache.\n",
      "Key '4423414675586803505' not in persistent cache.\n",
      "Key '-1636602672232218003' not in persistent cache.\n",
      "Key '2738146653731138115' not in persistent cache.\n",
      "Key '1878437001481998489' not in persistent cache.\n",
      "Key '8407810947158960462' not in persistent cache.\n",
      "Key '-4601233978951518571' not in persistent cache.\n",
      "Key '-7727271148049631726' not in persistent cache.\n",
      "Key '1161516707671621692' not in persistent cache.\n",
      "Key '4678356005747422170' not in persistent cache.\n",
      "Key '4738279559862579045' not in persistent cache.\n",
      "Key '3083840105848642235' not in persistent cache.\n",
      "Key '-7009990944979445558' not in persistent cache.\n",
      "Key '-4198987557462159591' not in persistent cache.\n",
      "Key '2236158640361782827' not in persistent cache.\n",
      "Key '-1265471836312720480' not in persistent cache.\n",
      "Key '-5046669022949018999' not in persistent cache.\n",
      "Key '773245032589414668' not in persistent cache.\n",
      "Key '3584248420106700635' not in persistent cache.\n",
      "Key '4292314547137298937' not in persistent cache.\n",
      "Key '7103317934654584904' not in persistent cache.\n",
      "Key '-1058069241985310268' not in persistent cache.\n",
      "Key '6151291528516343827' not in persistent cache.\n",
      "Key '-4585029016072282824' not in persistent cache.\n",
      "Key '3078160468910643610' not in persistent cache.\n",
      "Key '3371166188841291798' not in persistent cache.\n",
      "Key '4663205265752178606' not in persistent cache.\n",
      "Key '3781687180843610956' not in persistent cache.\n",
      "Key '-3160746667131558832' not in persistent cache.\n",
      "Key '6585528663929199149' not in persistent cache.\n",
      "Key '3537726901735968181' not in persistent cache.\n",
      "Key '-697298999381602677' not in persistent cache.\n",
      "Key '5737847198442339741' not in persistent cache.\n",
      "Key '2236216721767836434' not in persistent cache.\n",
      "Key '5501048823766394740' not in persistent cache.\n",
      "Key '-7125781194404723209' not in persistent cache.\n",
      "Key '7085936978187257549' not in persistent cache.\n",
      "Key '7794003105217855851' not in persistent cache.\n",
      "Key '-7841737580974409798' not in persistent cache.\n",
      "Key '2443619316095246646' not in persistent cache.\n",
      "Key '-8793763987112650875' not in persistent cache.\n",
      "Key '5962688830643130915' not in persistent cache.\n",
      "Key '6579849026991200524' not in persistent cache.\n",
      "Key '6872854746921848712' not in persistent cache.\n",
      "Key '-4531515614642572331' not in persistent cache.\n",
      "Key '-5413033699551139981' not in persistent cache.\n",
      "Key '-5353110145435983106' not in persistent cache.\n",
      "Key '-7007549599449919916' not in persistent cache.\n",
      "Key '1345363423431543907' not in persistent cache.\n",
      "Key '8554724193933198002' not in persistent cache.\n",
      "Key '-7855231064936779324' not in persistent cache.\n",
      "Key '7089882532098268985' not in persistent cache.\n",
      "Key '7707042728446338594' not in persistent cache.\n",
      "Key '-2272115384074290658' not in persistent cache.\n",
      "Key '-2108783902207493388' not in persistent cache.\n",
      "Key '-5799075158161263214' not in persistent cache.\n",
      "Key '1410285612340390881' not in persistent cache.\n",
      "Key '-6751101564299504291' not in persistent cache.\n",
      "Key '-3940098176782218324' not in persistent cache.\n",
      "Key '-3232032049751620022' not in persistent cache.\n",
      "Key '-7013229236387918541' not in persistent cache.\n",
      "Key '-6720223516457270353' not in persistent cache.\n",
      "Key '1925124469213425672' not in persistent cache.\n",
      "Key '1043606384304858022' not in persistent cache.\n",
      "Key '-5898827463670311766' not in persistent cache.\n",
      "Key '-550909515593921913' not in persistent cache.\n",
      "Key '-3598711277787152881' not in persistent cache.\n",
      "Key '3610649492714501214' not in persistent cache.\n",
      "Key '5647438307554075504' not in persistent cache.\n",
      "Key '-501864074770916500' not in persistent cache.\n",
      "Key '2762968027227641806' not in persistent cache.\n",
      "Key '4184524699781707345' not in persistent cache.\n",
      "Key '-7052858603426190176' not in persistent cache.\n",
      "Key '7703594214329591614' not in persistent cache.\n",
      "Key '7866925696196388884' not in persistent cache.\n",
      "Key '-294461480443506288' not in persistent cache.\n",
      "Key '6914899290058147807' not in persistent cache.\n",
      "Key '3224608034104377981' not in persistent cache.\n",
      "Key '-7558946554622247201' not in persistent cache.\n",
      "Key '-7265940834691599013' not in persistent cache.\n",
      "Key '7978560585130828681' not in persistent cache.\n",
      "Key '-9044996676559990860' not in persistent cache.\n",
      "Key '-308148107916087273' not in persistent cache.\n",
      "Key '5741914253268135971' not in persistent cache.\n",
      "Key '-4215391669388796797' not in persistent cache.\n",
      "Key '-3578768451713710018' not in persistent cache.\n",
      "Key '-6981913406988129836' not in persistent cache.\n",
      "Key '4375723744344176874' not in persistent cache.\n",
      "Key '-4189077110081353160' not in persistent cache.\n",
      "Key '7667492833304644700' not in persistent cache.\n",
      "Key '-8933097188248907950' not in persistent cache.\n",
      "Key '-3397461890567746490' not in persistent cache.\n",
      "Key '-3529395872782913188' not in persistent cache.\n",
      "Key '5164094010892350439' not in persistent cache.\n",
      "Key '1946882262939315232' not in persistent cache.\n",
      "Key '2222257489168211987' not in persistent cache.\n",
      "Key '-4834607692918764212' not in persistent cache.\n",
      "Key '1844556150604168116' not in persistent cache.\n",
      "Key '-2772793815095391857' not in persistent cache.\n",
      "Key '7439991611574350331' not in persistent cache.\n",
      "Key '447668432486827652' not in persistent cache.\n",
      "Key '5756691279143454499' not in persistent cache.\n",
      "Key '-8348613555521858843' not in persistent cache.\n",
      "Key '-8239670132104152921' not in persistent cache.\n",
      "Key '-4511741124772655799' not in persistent cache.\n",
      "Key '-4538027040918396750' not in persistent cache.\n",
      "Key '-6575505043892552299' not in persistent cache.\n",
      "Key '4974076910975556552' not in persistent cache.\n",
      "Key '-5481831046066831464' not in persistent cache.\n",
      "Key '716241281778798927' not in persistent cache.\n",
      "Key '2801644306721597602' not in persistent cache.\n",
      "Key '-2319412408034083690' not in persistent cache.\n",
      "Key '-3755182969695601242' not in persistent cache.\n",
      "Key '-1896641030787651297' not in persistent cache.\n",
      "Key '5755880549247088270' not in persistent cache.\n",
      "Key '-2188057434617587509' not in persistent cache.\n",
      "Key '5869950406630787805' not in persistent cache.\n",
      "Key '7169292734105518224' not in persistent cache.\n",
      "Key '-6230953725716329467' not in persistent cache.\n",
      "Key '-2700875928509362985' not in persistent cache.\n",
      "Key '-923879797705544820' not in persistent cache.\n",
      "Key '-6516639089435506111' not in persistent cache.\n",
      "Key '1122867824782849594' not in persistent cache.\n",
      "Key '-4275009968922902514' not in persistent cache.\n",
      "Key '-3774030312028601889' not in persistent cache.\n",
      "Key '-2095505507924507234' not in persistent cache.\n",
      "Key '-1437317619391864082' not in persistent cache.\n",
      "Key '3875133997165393190' not in persistent cache.\n",
      "Key '-3363921443397102528' not in persistent cache.\n",
      "Key '831132118362637195' not in persistent cache.\n",
      "Key '-3469323552664686036' not in persistent cache.\n",
      "Key '811137392730923285' not in persistent cache.\n",
      "Key '-2285601547300415366' not in persistent cache.\n",
      "Key '-5355881677650262861' not in persistent cache.\n",
      "Key '1628436217852041407' not in persistent cache.\n",
      "Key '7767807855423874611' not in persistent cache.\n",
      "Key '7696475513309729286' not in persistent cache.\n",
      "Key '5027601685329504591' not in persistent cache.\n",
      "Key '-6825163021566703128' not in persistent cache.\n",
      "Key '-8025736725059536962' not in persistent cache.\n",
      "Key '-7779638021838945964' not in persistent cache.\n",
      "Key '-2830903967759198172' not in persistent cache.\n",
      "Key '-4948554286115700985' not in persistent cache.\n",
      "Key '7050061419393432514' not in persistent cache.\n",
      "Key '2274959739048390257' not in persistent cache.\n",
      "Key '-3482077346248030975' not in persistent cache.\n",
      "Key '-3141798437568746168' not in persistent cache.\n",
      "Key '4506853610153435461' not in persistent cache.\n",
      "Key '4474212197612427317' not in persistent cache.\n",
      "Key '-7394648237682175429' not in persistent cache.\n",
      "Key '-7544279293132160128' not in persistent cache.\n",
      "Key '-8381670713905648190' not in persistent cache.\n",
      "Key '3563184440468933115' not in persistent cache.\n",
      "Key '242540537593806518' not in persistent cache.\n",
      "Key '-5888032042351094930' not in persistent cache.\n",
      "Key '7986795403242780361' not in persistent cache.\n",
      "Key '-7420573002933219545' not in persistent cache.\n",
      "Key '-3455467912764773335' not in persistent cache.\n",
      "Key '-4105144919411018529' not in persistent cache.\n",
      "Key '5666613526201831025' not in persistent cache.\n",
      "Key '-3837556766050289354' not in persistent cache.\n",
      "Key '-6123431744348263919' not in persistent cache.\n",
      "Key '-8758829211979756319' not in persistent cache.\n",
      "Key '-268365914986116943' not in persistent cache.\n",
      "Key '543843157288647688' not in persistent cache.\n",
      "Key '-9037099785086000039' not in persistent cache.\n",
      "Key '8890884894613825319' not in persistent cache.\n",
      "Key '2163547908060905590' not in persistent cache.\n",
      "Key '2565649670639723412' not in persistent cache.\n",
      "Key '-1764004469995145002' not in persistent cache.\n",
      "Key '5982584634179543090' not in persistent cache.\n",
      "Key '1413398063089154837' not in persistent cache.\n",
      "Key '-3339604501711679685' not in persistent cache.\n",
      "Key '-4510750454180532344' not in persistent cache.\n",
      "Key '19251962873579192' not in persistent cache.\n",
      "Key '-6239257572480951710' not in persistent cache.\n",
      "Key '-6617370693163116260' not in persistent cache.\n",
      "Key '-6907315157905196401' not in persistent cache.\n",
      "Key '5789324677530990262' not in persistent cache.\n",
      "Key '2764069856360285441' not in persistent cache.\n",
      "Key '2129233753756854874' not in persistent cache.\n",
      "Key '-6428143199570252989' not in persistent cache.\n",
      "Key '8230808533397307227' not in persistent cache.\n",
      "Key '-2159377522789312985' not in persistent cache.\n",
      "Key '-6614770423430794197' not in persistent cache.\n",
      "Key '-1060092471370705816' not in persistent cache.\n",
      "Key '-8150961985380674617' not in persistent cache.\n",
      "Key '-613455925793443513' not in persistent cache.\n",
      "Key '-3858423107871003916' not in persistent cache.\n",
      "Key '-1952286524104363891' not in persistent cache.\n",
      "Key '-8765295614808914083' not in persistent cache.\n",
      "Key '7248406118752351879' not in persistent cache.\n",
      "Key '3469417793823573578' not in persistent cache.\n",
      "Key '5969289149616489609' not in persistent cache.\n",
      "Key '5334340112310260665' not in persistent cache.\n",
      "Key '8056743373504266945' not in persistent cache.\n",
      "Key '-5694323355020436776' not in persistent cache.\n",
      "Key '-5327745414841781287' not in persistent cache.\n",
      "Key '6418439926772877882' not in persistent cache.\n",
      "Key '-26394896608594912' not in persistent cache.\n",
      "Key '-8415901407256347537' not in persistent cache.\n",
      "Key '5844483200776640105' not in persistent cache.\n",
      "Key '654368581301949445' not in persistent cache.\n",
      "Key '8908796337208117131' not in persistent cache.\n",
      "Key '-8185707952114485607' not in persistent cache.\n",
      "Key '-3549443412193555789' not in persistent cache.\n",
      "Key '4985965355861395465' not in persistent cache.\n",
      "Key '-7377624565183662438' not in persistent cache.\n",
      "Key '5236138614704765433' not in persistent cache.\n",
      "Key '4646624923590576660' not in persistent cache.\n",
      "Key '-1905195894449916397' not in persistent cache.\n",
      "Key '-6172355839840188343' not in persistent cache.\n",
      "Key '-8824294170312360448' not in persistent cache.\n",
      "Key '-3971861661222772140' not in persistent cache.\n",
      "Key '9034503535749255304' not in persistent cache.\n",
      "Key '1742147001237158090' not in persistent cache.\n",
      "Key '6188024596329838952' not in persistent cache.\n",
      "Key '340639472830615208' not in persistent cache.\n",
      "Key '-8217046748351318125' not in persistent cache.\n",
      "Key '8872967929468414629' not in persistent cache.\n",
      "Key '-266546650543155055' not in persistent cache.\n",
      "Key '3274936524212286267' not in persistent cache.\n",
      "Key '-3913925224145512794' not in persistent cache.\n",
      "Key '1527832397394615460' not in persistent cache.\n",
      "Key '-715013982326409397' not in persistent cache.\n",
      "Key '4021629574611101718' not in persistent cache.\n"
     ]
    },
    {
     "data": {
      "text/html": [
       "        <script type=\"text/javascript\">\n",
       "        window.PlotlyConfig = {MathJaxConfig: 'local'};\n",
       "        if (window.MathJax && window.MathJax.Hub && window.MathJax.Hub.Config) {window.MathJax.Hub.Config({SVG: {font: \"STIX-Web\"}});}\n",
       "        if (typeof require !== 'undefined') {\n",
       "        require.undef(\"plotly\");\n",
       "        requirejs.config({\n",
       "            paths: {\n",
       "                'plotly': ['https://cdn.plot.ly/plotly-2.35.2.min']\n",
       "            }\n",
       "        });\n",
       "        require(['plotly'], function(Plotly) {\n",
       "            window._Plotly = Plotly;\n",
       "        });\n",
       "        }\n",
       "        </script>\n",
       "        "
      ]
     },
     "metadata": {},
     "output_type": "display_data"
    }
   ],
   "source": [
    "# import packages\n",
    "\n",
    "import wbdata\n",
    "import pandas as pd\n",
    "import math\n",
    "import iso3166\n",
    "import plotly.offline as py\n",
    "from scipy.optimize import newton\n",
    "import plotly.graph_objs as go\n",
    "from plotly.subplots import make_subplots\n",
    "import numpy as np\n",
    "import cufflinks as cf\n",
    "from matplotlib import animation as ani\n",
    "cf.go_offline()"
   ]
  },
  {
   "cell_type": "code",
   "execution_count": 4,
   "id": "d71ea40c-45e4-4657-9f3e-5c5869aff9dd",
   "metadata": {},
   "outputs": [],
   "source": [
    "pd.options.plotting.backend = 'plotly'\n",
    "SOURCE2=2 "
   ]
  },
  {
   "cell_type": "code",
   "execution_count": 5,
   "id": "09678704-5c7e-4be0-98e3-d23cf1852bfd",
   "metadata": {},
   "outputs": [
    {
     "name": "stderr",
     "output_type": "stream",
     "text": [
      "Key '2466066575192908675' not in persistent cache.\n"
     ]
    },
    {
     "data": {
      "text/plain": [
       "  id  value\n",
       "----  -------------------------------\n",
       "   1  Agriculture & Rural Development\n",
       "   2  Aid Effectiveness\n",
       "   3  Economy & Growth\n",
       "   4  Education\n",
       "   5  Energy & Mining\n",
       "   6  Environment\n",
       "   7  Financial Sector\n",
       "   8  Health\n",
       "   9  Infrastructure\n",
       "  10  Social Protection & Labor\n",
       "  11  Poverty\n",
       "  12  Private Sector\n",
       "  13  Public Sector\n",
       "  14  Science & Technology\n",
       "  15  Social Development\n",
       "  16  Urban Development\n",
       "  17  Gender\n",
       "  18  Millenium development goals\n",
       "  19  Climate Change\n",
       "  20  External Debt\n",
       "  21  Trade"
      ]
     },
     "execution_count": 5,
     "metadata": {},
     "output_type": "execute_result"
    }
   ],
   "source": [
    "# Look around a bit\n",
    "wbdata.get_topics()"
   ]
  },
  {
   "cell_type": "code",
   "execution_count": 6,
   "id": "75251a81-518d-4f47-b97f-13e8e21547e3",
   "metadata": {
    "scrolled": true
   },
   "outputs": [
    {
     "name": "stderr",
     "output_type": "stream",
     "text": [
      "WARNING:shelved_cache.persistent_cache:Key '2466066575192908675' not in persistent cache.\n"
     ]
    },
    {
     "data": {
      "application/vnd.plotly.v1+json": {
       "config": {
        "plotlyServerURL": "https://plot.ly"
       },
       "data": [
        {
         "hovertemplate": "country=Argentina<br>date=%{x}<br>value=%{y}<extra></extra>",
         "legendgroup": "Argentina",
         "line": {
          "color": "#636efa",
          "dash": "solid"
         },
         "marker": {
          "symbol": "circle"
         },
         "mode": "lines",
         "name": "Argentina",
         "orientation": "v",
         "showlegend": true,
         "type": "scatter",
         "x": [
          "1960-01-01T00:00:00",
          "1961-01-01T00:00:00",
          "1962-01-01T00:00:00",
          "1963-01-01T00:00:00",
          "1964-01-01T00:00:00",
          "1965-01-01T00:00:00",
          "1966-01-01T00:00:00",
          "1967-01-01T00:00:00",
          "1968-01-01T00:00:00",
          "1969-01-01T00:00:00",
          "1970-01-01T00:00:00",
          "1971-01-01T00:00:00",
          "1972-01-01T00:00:00",
          "1973-01-01T00:00:00",
          "1974-01-01T00:00:00",
          "1975-01-01T00:00:00",
          "1976-01-01T00:00:00",
          "1977-01-01T00:00:00",
          "1978-01-01T00:00:00",
          "1979-01-01T00:00:00",
          "1980-01-01T00:00:00",
          "1981-01-01T00:00:00",
          "1982-01-01T00:00:00",
          "1983-01-01T00:00:00",
          "1984-01-01T00:00:00",
          "1985-01-01T00:00:00",
          "1986-01-01T00:00:00",
          "1987-01-01T00:00:00",
          "1988-01-01T00:00:00",
          "1989-01-01T00:00:00",
          "1990-01-01T00:00:00",
          "1991-01-01T00:00:00",
          "1992-01-01T00:00:00",
          "1993-01-01T00:00:00",
          "1994-01-01T00:00:00",
          "1995-01-01T00:00:00",
          "1996-01-01T00:00:00",
          "1997-01-01T00:00:00",
          "1998-01-01T00:00:00",
          "1999-01-01T00:00:00",
          "2000-01-01T00:00:00",
          "2001-01-01T00:00:00",
          "2002-01-01T00:00:00",
          "2003-01-01T00:00:00",
          "2004-01-01T00:00:00",
          "2005-01-01T00:00:00",
          "2006-01-01T00:00:00",
          "2007-01-01T00:00:00",
          "2008-01-01T00:00:00",
          "2009-01-01T00:00:00",
          "2010-01-01T00:00:00",
          "2011-01-01T00:00:00",
          "2012-01-01T00:00:00",
          "2013-01-01T00:00:00",
          "2014-01-01T00:00:00",
          "2015-01-01T00:00:00",
          "2016-01-01T00:00:00",
          "2017-01-01T00:00:00",
          "2018-01-01T00:00:00",
          "2019-01-01T00:00:00",
          "2020-01-01T00:00:00",
          "2021-01-01T00:00:00",
          "2022-01-01T00:00:00",
          "2023-01-01T00:00:00"
         ],
         "xaxis": "x",
         "y": [
          null,
          null,
          null,
          null,
          null,
          null,
          null,
          null,
          null,
          null,
          null,
          null,
          null,
          null,
          null,
          null,
          null,
          null,
          null,
          null,
          null,
          null,
          null,
          null,
          null,
          null,
          null,
          null,
          null,
          null,
          78.8945883201315,
          79.2542709682829,
          79.7786350872369,
          80.3337006585459,
          80.9358863354632,
          81.608093422829,
          82.3698768370974,
          83.247062020095,
          84.2638406906497,
          85.4318646348945,
          91.8,
          88.6,
          92.6,
          92.9,
          93.2,
          93.4,
          93.6,
          93.8,
          94,
          94.2,
          98.6,
          97.8,
          96.1,
          95.4,
          100,
          97.6,
          99.3,
          100,
          99.9,
          100,
          100,
          100,
          100,
          null
         ],
         "yaxis": "y"
        },
        {
         "hovertemplate": "country=Chile<br>date=%{x}<br>value=%{y}<extra></extra>",
         "legendgroup": "Chile",
         "line": {
          "color": "#EF553B",
          "dash": "solid"
         },
         "marker": {
          "symbol": "circle"
         },
         "mode": "lines",
         "name": "Chile",
         "orientation": "v",
         "showlegend": true,
         "type": "scatter",
         "x": [
          "1960-01-01T00:00:00",
          "1961-01-01T00:00:00",
          "1962-01-01T00:00:00",
          "1963-01-01T00:00:00",
          "1964-01-01T00:00:00",
          "1965-01-01T00:00:00",
          "1966-01-01T00:00:00",
          "1967-01-01T00:00:00",
          "1968-01-01T00:00:00",
          "1969-01-01T00:00:00",
          "1970-01-01T00:00:00",
          "1971-01-01T00:00:00",
          "1972-01-01T00:00:00",
          "1973-01-01T00:00:00",
          "1974-01-01T00:00:00",
          "1975-01-01T00:00:00",
          "1976-01-01T00:00:00",
          "1977-01-01T00:00:00",
          "1978-01-01T00:00:00",
          "1979-01-01T00:00:00",
          "1980-01-01T00:00:00",
          "1981-01-01T00:00:00",
          "1982-01-01T00:00:00",
          "1983-01-01T00:00:00",
          "1984-01-01T00:00:00",
          "1985-01-01T00:00:00",
          "1986-01-01T00:00:00",
          "1987-01-01T00:00:00",
          "1988-01-01T00:00:00",
          "1989-01-01T00:00:00",
          "1990-01-01T00:00:00",
          "1991-01-01T00:00:00",
          "1992-01-01T00:00:00",
          "1993-01-01T00:00:00",
          "1994-01-01T00:00:00",
          "1995-01-01T00:00:00",
          "1996-01-01T00:00:00",
          "1997-01-01T00:00:00",
          "1998-01-01T00:00:00",
          "1999-01-01T00:00:00",
          "2000-01-01T00:00:00",
          "2001-01-01T00:00:00",
          "2002-01-01T00:00:00",
          "2003-01-01T00:00:00",
          "2004-01-01T00:00:00",
          "2005-01-01T00:00:00",
          "2006-01-01T00:00:00",
          "2007-01-01T00:00:00",
          "2008-01-01T00:00:00",
          "2009-01-01T00:00:00",
          "2010-01-01T00:00:00",
          "2011-01-01T00:00:00",
          "2012-01-01T00:00:00",
          "2013-01-01T00:00:00",
          "2014-01-01T00:00:00",
          "2015-01-01T00:00:00",
          "2016-01-01T00:00:00",
          "2017-01-01T00:00:00",
          "2018-01-01T00:00:00",
          "2019-01-01T00:00:00",
          "2020-01-01T00:00:00",
          "2021-01-01T00:00:00",
          "2022-01-01T00:00:00",
          "2023-01-01T00:00:00"
         ],
         "xaxis": "x",
         "y": [
          null,
          null,
          null,
          null,
          null,
          null,
          null,
          null,
          null,
          null,
          null,
          null,
          null,
          null,
          null,
          null,
          null,
          null,
          null,
          null,
          null,
          null,
          null,
          null,
          null,
          null,
          null,
          null,
          null,
          null,
          59.458310297133,
          72.6529187893954,
          71.4397443359869,
          74.0618441426621,
          74.7053747121922,
          75.4195550331526,
          74.1794729751692,
          77.1353797964394,
          82.9624556298822,
          79.3576862813837,
          86.5,
          82.2,
          83.1,
          92.8,
          85.3,
          86.4,
          96.4,
          88.5,
          89.6,
          97.7,
          98.3,
          97.8,
          100,
          100,
          100,
          100,
          100,
          100,
          100,
          100,
          100,
          100,
          100,
          null
         ],
         "yaxis": "y"
        },
        {
         "hovertemplate": "country=Uruguay<br>date=%{x}<br>value=%{y}<extra></extra>",
         "legendgroup": "Uruguay",
         "line": {
          "color": "#00cc96",
          "dash": "solid"
         },
         "marker": {
          "symbol": "circle"
         },
         "mode": "lines",
         "name": "Uruguay",
         "orientation": "v",
         "showlegend": true,
         "type": "scatter",
         "x": [
          "1960-01-01T00:00:00",
          "1961-01-01T00:00:00",
          "1962-01-01T00:00:00",
          "1963-01-01T00:00:00",
          "1964-01-01T00:00:00",
          "1965-01-01T00:00:00",
          "1966-01-01T00:00:00",
          "1967-01-01T00:00:00",
          "1968-01-01T00:00:00",
          "1969-01-01T00:00:00",
          "1970-01-01T00:00:00",
          "1971-01-01T00:00:00",
          "1972-01-01T00:00:00",
          "1973-01-01T00:00:00",
          "1974-01-01T00:00:00",
          "1975-01-01T00:00:00",
          "1976-01-01T00:00:00",
          "1977-01-01T00:00:00",
          "1978-01-01T00:00:00",
          "1979-01-01T00:00:00",
          "1980-01-01T00:00:00",
          "1981-01-01T00:00:00",
          "1982-01-01T00:00:00",
          "1983-01-01T00:00:00",
          "1984-01-01T00:00:00",
          "1985-01-01T00:00:00",
          "1986-01-01T00:00:00",
          "1987-01-01T00:00:00",
          "1988-01-01T00:00:00",
          "1989-01-01T00:00:00",
          "1990-01-01T00:00:00",
          "1991-01-01T00:00:00",
          "1992-01-01T00:00:00",
          "1993-01-01T00:00:00",
          "1994-01-01T00:00:00",
          "1995-01-01T00:00:00",
          "1996-01-01T00:00:00",
          "1997-01-01T00:00:00",
          "1998-01-01T00:00:00",
          "1999-01-01T00:00:00",
          "2000-01-01T00:00:00",
          "2001-01-01T00:00:00",
          "2002-01-01T00:00:00",
          "2003-01-01T00:00:00",
          "2004-01-01T00:00:00",
          "2005-01-01T00:00:00",
          "2006-01-01T00:00:00",
          "2007-01-01T00:00:00",
          "2008-01-01T00:00:00",
          "2009-01-01T00:00:00",
          "2010-01-01T00:00:00",
          "2011-01-01T00:00:00",
          "2012-01-01T00:00:00",
          "2013-01-01T00:00:00",
          "2014-01-01T00:00:00",
          "2015-01-01T00:00:00",
          "2016-01-01T00:00:00",
          "2017-01-01T00:00:00",
          "2018-01-01T00:00:00",
          "2019-01-01T00:00:00",
          "2020-01-01T00:00:00",
          "2021-01-01T00:00:00",
          "2022-01-01T00:00:00",
          "2023-01-01T00:00:00"
         ],
         "xaxis": "x",
         "y": [
          null,
          null,
          null,
          null,
          null,
          null,
          null,
          null,
          null,
          null,
          null,
          null,
          null,
          null,
          null,
          null,
          null,
          null,
          null,
          null,
          null,
          null,
          null,
          null,
          null,
          null,
          null,
          null,
          null,
          null,
          null,
          null,
          77.2005902678541,
          73.2686698192808,
          73.5476591596717,
          73.9571549138308,
          62.0482294524734,
          73.9576901943799,
          74.7242211245104,
          76.9679349981963,
          78.1,
          80.3,
          80.9,
          81.6,
          82.2,
          82.8,
          86.6,
          88.2,
          88,
          92.6,
          94.2,
          94.6,
          100,
          100,
          100,
          100,
          100,
          100,
          100,
          100,
          100,
          100,
          100,
          null
         ],
         "yaxis": "y"
        }
       ],
       "layout": {
        "legend": {
         "title": {
          "text": "country"
         },
         "tracegroupgap": 0
        },
        "template": {
         "data": {
          "bar": [
           {
            "error_x": {
             "color": "#2a3f5f"
            },
            "error_y": {
             "color": "#2a3f5f"
            },
            "marker": {
             "line": {
              "color": "#E5ECF6",
              "width": 0.5
             },
             "pattern": {
              "fillmode": "overlay",
              "size": 10,
              "solidity": 0.2
             }
            },
            "type": "bar"
           }
          ],
          "barpolar": [
           {
            "marker": {
             "line": {
              "color": "#E5ECF6",
              "width": 0.5
             },
             "pattern": {
              "fillmode": "overlay",
              "size": 10,
              "solidity": 0.2
             }
            },
            "type": "barpolar"
           }
          ],
          "carpet": [
           {
            "aaxis": {
             "endlinecolor": "#2a3f5f",
             "gridcolor": "white",
             "linecolor": "white",
             "minorgridcolor": "white",
             "startlinecolor": "#2a3f5f"
            },
            "baxis": {
             "endlinecolor": "#2a3f5f",
             "gridcolor": "white",
             "linecolor": "white",
             "minorgridcolor": "white",
             "startlinecolor": "#2a3f5f"
            },
            "type": "carpet"
           }
          ],
          "choropleth": [
           {
            "colorbar": {
             "outlinewidth": 0,
             "ticks": ""
            },
            "type": "choropleth"
           }
          ],
          "contour": [
           {
            "colorbar": {
             "outlinewidth": 0,
             "ticks": ""
            },
            "colorscale": [
             [
              0,
              "#0d0887"
             ],
             [
              0.1111111111111111,
              "#46039f"
             ],
             [
              0.2222222222222222,
              "#7201a8"
             ],
             [
              0.3333333333333333,
              "#9c179e"
             ],
             [
              0.4444444444444444,
              "#bd3786"
             ],
             [
              0.5555555555555556,
              "#d8576b"
             ],
             [
              0.6666666666666666,
              "#ed7953"
             ],
             [
              0.7777777777777778,
              "#fb9f3a"
             ],
             [
              0.8888888888888888,
              "#fdca26"
             ],
             [
              1,
              "#f0f921"
             ]
            ],
            "type": "contour"
           }
          ],
          "contourcarpet": [
           {
            "colorbar": {
             "outlinewidth": 0,
             "ticks": ""
            },
            "type": "contourcarpet"
           }
          ],
          "heatmap": [
           {
            "colorbar": {
             "outlinewidth": 0,
             "ticks": ""
            },
            "colorscale": [
             [
              0,
              "#0d0887"
             ],
             [
              0.1111111111111111,
              "#46039f"
             ],
             [
              0.2222222222222222,
              "#7201a8"
             ],
             [
              0.3333333333333333,
              "#9c179e"
             ],
             [
              0.4444444444444444,
              "#bd3786"
             ],
             [
              0.5555555555555556,
              "#d8576b"
             ],
             [
              0.6666666666666666,
              "#ed7953"
             ],
             [
              0.7777777777777778,
              "#fb9f3a"
             ],
             [
              0.8888888888888888,
              "#fdca26"
             ],
             [
              1,
              "#f0f921"
             ]
            ],
            "type": "heatmap"
           }
          ],
          "heatmapgl": [
           {
            "colorbar": {
             "outlinewidth": 0,
             "ticks": ""
            },
            "colorscale": [
             [
              0,
              "#0d0887"
             ],
             [
              0.1111111111111111,
              "#46039f"
             ],
             [
              0.2222222222222222,
              "#7201a8"
             ],
             [
              0.3333333333333333,
              "#9c179e"
             ],
             [
              0.4444444444444444,
              "#bd3786"
             ],
             [
              0.5555555555555556,
              "#d8576b"
             ],
             [
              0.6666666666666666,
              "#ed7953"
             ],
             [
              0.7777777777777778,
              "#fb9f3a"
             ],
             [
              0.8888888888888888,
              "#fdca26"
             ],
             [
              1,
              "#f0f921"
             ]
            ],
            "type": "heatmapgl"
           }
          ],
          "histogram": [
           {
            "marker": {
             "pattern": {
              "fillmode": "overlay",
              "size": 10,
              "solidity": 0.2
             }
            },
            "type": "histogram"
           }
          ],
          "histogram2d": [
           {
            "colorbar": {
             "outlinewidth": 0,
             "ticks": ""
            },
            "colorscale": [
             [
              0,
              "#0d0887"
             ],
             [
              0.1111111111111111,
              "#46039f"
             ],
             [
              0.2222222222222222,
              "#7201a8"
             ],
             [
              0.3333333333333333,
              "#9c179e"
             ],
             [
              0.4444444444444444,
              "#bd3786"
             ],
             [
              0.5555555555555556,
              "#d8576b"
             ],
             [
              0.6666666666666666,
              "#ed7953"
             ],
             [
              0.7777777777777778,
              "#fb9f3a"
             ],
             [
              0.8888888888888888,
              "#fdca26"
             ],
             [
              1,
              "#f0f921"
             ]
            ],
            "type": "histogram2d"
           }
          ],
          "histogram2dcontour": [
           {
            "colorbar": {
             "outlinewidth": 0,
             "ticks": ""
            },
            "colorscale": [
             [
              0,
              "#0d0887"
             ],
             [
              0.1111111111111111,
              "#46039f"
             ],
             [
              0.2222222222222222,
              "#7201a8"
             ],
             [
              0.3333333333333333,
              "#9c179e"
             ],
             [
              0.4444444444444444,
              "#bd3786"
             ],
             [
              0.5555555555555556,
              "#d8576b"
             ],
             [
              0.6666666666666666,
              "#ed7953"
             ],
             [
              0.7777777777777778,
              "#fb9f3a"
             ],
             [
              0.8888888888888888,
              "#fdca26"
             ],
             [
              1,
              "#f0f921"
             ]
            ],
            "type": "histogram2dcontour"
           }
          ],
          "mesh3d": [
           {
            "colorbar": {
             "outlinewidth": 0,
             "ticks": ""
            },
            "type": "mesh3d"
           }
          ],
          "parcoords": [
           {
            "line": {
             "colorbar": {
              "outlinewidth": 0,
              "ticks": ""
             }
            },
            "type": "parcoords"
           }
          ],
          "pie": [
           {
            "automargin": true,
            "type": "pie"
           }
          ],
          "scatter": [
           {
            "fillpattern": {
             "fillmode": "overlay",
             "size": 10,
             "solidity": 0.2
            },
            "type": "scatter"
           }
          ],
          "scatter3d": [
           {
            "line": {
             "colorbar": {
              "outlinewidth": 0,
              "ticks": ""
             }
            },
            "marker": {
             "colorbar": {
              "outlinewidth": 0,
              "ticks": ""
             }
            },
            "type": "scatter3d"
           }
          ],
          "scattercarpet": [
           {
            "marker": {
             "colorbar": {
              "outlinewidth": 0,
              "ticks": ""
             }
            },
            "type": "scattercarpet"
           }
          ],
          "scattergeo": [
           {
            "marker": {
             "colorbar": {
              "outlinewidth": 0,
              "ticks": ""
             }
            },
            "type": "scattergeo"
           }
          ],
          "scattergl": [
           {
            "marker": {
             "colorbar": {
              "outlinewidth": 0,
              "ticks": ""
             }
            },
            "type": "scattergl"
           }
          ],
          "scattermapbox": [
           {
            "marker": {
             "colorbar": {
              "outlinewidth": 0,
              "ticks": ""
             }
            },
            "type": "scattermapbox"
           }
          ],
          "scatterpolar": [
           {
            "marker": {
             "colorbar": {
              "outlinewidth": 0,
              "ticks": ""
             }
            },
            "type": "scatterpolar"
           }
          ],
          "scatterpolargl": [
           {
            "marker": {
             "colorbar": {
              "outlinewidth": 0,
              "ticks": ""
             }
            },
            "type": "scatterpolargl"
           }
          ],
          "scatterternary": [
           {
            "marker": {
             "colorbar": {
              "outlinewidth": 0,
              "ticks": ""
             }
            },
            "type": "scatterternary"
           }
          ],
          "surface": [
           {
            "colorbar": {
             "outlinewidth": 0,
             "ticks": ""
            },
            "colorscale": [
             [
              0,
              "#0d0887"
             ],
             [
              0.1111111111111111,
              "#46039f"
             ],
             [
              0.2222222222222222,
              "#7201a8"
             ],
             [
              0.3333333333333333,
              "#9c179e"
             ],
             [
              0.4444444444444444,
              "#bd3786"
             ],
             [
              0.5555555555555556,
              "#d8576b"
             ],
             [
              0.6666666666666666,
              "#ed7953"
             ],
             [
              0.7777777777777778,
              "#fb9f3a"
             ],
             [
              0.8888888888888888,
              "#fdca26"
             ],
             [
              1,
              "#f0f921"
             ]
            ],
            "type": "surface"
           }
          ],
          "table": [
           {
            "cells": {
             "fill": {
              "color": "#EBF0F8"
             },
             "line": {
              "color": "white"
             }
            },
            "header": {
             "fill": {
              "color": "#C8D4E3"
             },
             "line": {
              "color": "white"
             }
            },
            "type": "table"
           }
          ]
         },
         "layout": {
          "annotationdefaults": {
           "arrowcolor": "#2a3f5f",
           "arrowhead": 0,
           "arrowwidth": 1
          },
          "autotypenumbers": "strict",
          "coloraxis": {
           "colorbar": {
            "outlinewidth": 0,
            "ticks": ""
           }
          },
          "colorscale": {
           "diverging": [
            [
             0,
             "#8e0152"
            ],
            [
             0.1,
             "#c51b7d"
            ],
            [
             0.2,
             "#de77ae"
            ],
            [
             0.3,
             "#f1b6da"
            ],
            [
             0.4,
             "#fde0ef"
            ],
            [
             0.5,
             "#f7f7f7"
            ],
            [
             0.6,
             "#e6f5d0"
            ],
            [
             0.7,
             "#b8e186"
            ],
            [
             0.8,
             "#7fbc41"
            ],
            [
             0.9,
             "#4d9221"
            ],
            [
             1,
             "#276419"
            ]
           ],
           "sequential": [
            [
             0,
             "#0d0887"
            ],
            [
             0.1111111111111111,
             "#46039f"
            ],
            [
             0.2222222222222222,
             "#7201a8"
            ],
            [
             0.3333333333333333,
             "#9c179e"
            ],
            [
             0.4444444444444444,
             "#bd3786"
            ],
            [
             0.5555555555555556,
             "#d8576b"
            ],
            [
             0.6666666666666666,
             "#ed7953"
            ],
            [
             0.7777777777777778,
             "#fb9f3a"
            ],
            [
             0.8888888888888888,
             "#fdca26"
            ],
            [
             1,
             "#f0f921"
            ]
           ],
           "sequentialminus": [
            [
             0,
             "#0d0887"
            ],
            [
             0.1111111111111111,
             "#46039f"
            ],
            [
             0.2222222222222222,
             "#7201a8"
            ],
            [
             0.3333333333333333,
             "#9c179e"
            ],
            [
             0.4444444444444444,
             "#bd3786"
            ],
            [
             0.5555555555555556,
             "#d8576b"
            ],
            [
             0.6666666666666666,
             "#ed7953"
            ],
            [
             0.7777777777777778,
             "#fb9f3a"
            ],
            [
             0.8888888888888888,
             "#fdca26"
            ],
            [
             1,
             "#f0f921"
            ]
           ]
          },
          "colorway": [
           "#636efa",
           "#EF553B",
           "#00cc96",
           "#ab63fa",
           "#FFA15A",
           "#19d3f3",
           "#FF6692",
           "#B6E880",
           "#FF97FF",
           "#FECB52"
          ],
          "font": {
           "color": "#2a3f5f"
          },
          "geo": {
           "bgcolor": "white",
           "lakecolor": "white",
           "landcolor": "#E5ECF6",
           "showlakes": true,
           "showland": true,
           "subunitcolor": "white"
          },
          "hoverlabel": {
           "align": "left"
          },
          "hovermode": "closest",
          "mapbox": {
           "style": "light"
          },
          "paper_bgcolor": "white",
          "plot_bgcolor": "#E5ECF6",
          "polar": {
           "angularaxis": {
            "gridcolor": "white",
            "linecolor": "white",
            "ticks": ""
           },
           "bgcolor": "#E5ECF6",
           "radialaxis": {
            "gridcolor": "white",
            "linecolor": "white",
            "ticks": ""
           }
          },
          "scene": {
           "xaxis": {
            "backgroundcolor": "#E5ECF6",
            "gridcolor": "white",
            "gridwidth": 2,
            "linecolor": "white",
            "showbackground": true,
            "ticks": "",
            "zerolinecolor": "white"
           },
           "yaxis": {
            "backgroundcolor": "#E5ECF6",
            "gridcolor": "white",
            "gridwidth": 2,
            "linecolor": "white",
            "showbackground": true,
            "ticks": "",
            "zerolinecolor": "white"
           },
           "zaxis": {
            "backgroundcolor": "#E5ECF6",
            "gridcolor": "white",
            "gridwidth": 2,
            "linecolor": "white",
            "showbackground": true,
            "ticks": "",
            "zerolinecolor": "white"
           }
          },
          "shapedefaults": {
           "line": {
            "color": "#2a3f5f"
           }
          },
          "ternary": {
           "aaxis": {
            "gridcolor": "white",
            "linecolor": "white",
            "ticks": ""
           },
           "baxis": {
            "gridcolor": "white",
            "linecolor": "white",
            "ticks": ""
           },
           "bgcolor": "#E5ECF6",
           "caxis": {
            "gridcolor": "white",
            "linecolor": "white",
            "ticks": ""
           }
          },
          "title": {
           "x": 0.05
          },
          "xaxis": {
           "automargin": true,
           "gridcolor": "white",
           "linecolor": "white",
           "ticks": "",
           "title": {
            "standoff": 15
           },
           "zerolinecolor": "white",
           "zerolinewidth": 2
          },
          "yaxis": {
           "automargin": true,
           "gridcolor": "white",
           "linecolor": "white",
           "ticks": "",
           "title": {
            "standoff": 15
           },
           "zerolinecolor": "white",
           "zerolinewidth": 2
          }
         }
        },
        "title": {
         "text": "Test"
        },
        "xaxis": {
         "anchor": "y",
         "domain": [
          0,
          1
         ],
         "title": {
          "text": "date"
         }
        },
        "yaxis": {
         "anchor": "x",
         "domain": [
          0,
          1
         ],
         "title": {
          "text": "value"
         }
        }
       }
      },
      "text/html": [
       "<div>                            <div id=\"c5c055d5-38bd-4ceb-860e-e7e0f031f5e0\" class=\"plotly-graph-div\" style=\"height:525px; width:100%;\"></div>            <script type=\"text/javascript\">                require([\"plotly\"], function(Plotly) {                    window.PLOTLYENV=window.PLOTLYENV || {};                                    if (document.getElementById(\"c5c055d5-38bd-4ceb-860e-e7e0f031f5e0\")) {                    Plotly.newPlot(                        \"c5c055d5-38bd-4ceb-860e-e7e0f031f5e0\",                        [{\"hovertemplate\":\"country=Argentina\\u003cbr\\u003edate=%{x}\\u003cbr\\u003evalue=%{y}\\u003cextra\\u003e\\u003c\\u002fextra\\u003e\",\"legendgroup\":\"Argentina\",\"line\":{\"color\":\"#636efa\",\"dash\":\"solid\"},\"marker\":{\"symbol\":\"circle\"},\"mode\":\"lines\",\"name\":\"Argentina\",\"orientation\":\"v\",\"showlegend\":true,\"x\":[\"1960-01-01T00:00:00\",\"1961-01-01T00:00:00\",\"1962-01-01T00:00:00\",\"1963-01-01T00:00:00\",\"1964-01-01T00:00:00\",\"1965-01-01T00:00:00\",\"1966-01-01T00:00:00\",\"1967-01-01T00:00:00\",\"1968-01-01T00:00:00\",\"1969-01-01T00:00:00\",\"1970-01-01T00:00:00\",\"1971-01-01T00:00:00\",\"1972-01-01T00:00:00\",\"1973-01-01T00:00:00\",\"1974-01-01T00:00:00\",\"1975-01-01T00:00:00\",\"1976-01-01T00:00:00\",\"1977-01-01T00:00:00\",\"1978-01-01T00:00:00\",\"1979-01-01T00:00:00\",\"1980-01-01T00:00:00\",\"1981-01-01T00:00:00\",\"1982-01-01T00:00:00\",\"1983-01-01T00:00:00\",\"1984-01-01T00:00:00\",\"1985-01-01T00:00:00\",\"1986-01-01T00:00:00\",\"1987-01-01T00:00:00\",\"1988-01-01T00:00:00\",\"1989-01-01T00:00:00\",\"1990-01-01T00:00:00\",\"1991-01-01T00:00:00\",\"1992-01-01T00:00:00\",\"1993-01-01T00:00:00\",\"1994-01-01T00:00:00\",\"1995-01-01T00:00:00\",\"1996-01-01T00:00:00\",\"1997-01-01T00:00:00\",\"1998-01-01T00:00:00\",\"1999-01-01T00:00:00\",\"2000-01-01T00:00:00\",\"2001-01-01T00:00:00\",\"2002-01-01T00:00:00\",\"2003-01-01T00:00:00\",\"2004-01-01T00:00:00\",\"2005-01-01T00:00:00\",\"2006-01-01T00:00:00\",\"2007-01-01T00:00:00\",\"2008-01-01T00:00:00\",\"2009-01-01T00:00:00\",\"2010-01-01T00:00:00\",\"2011-01-01T00:00:00\",\"2012-01-01T00:00:00\",\"2013-01-01T00:00:00\",\"2014-01-01T00:00:00\",\"2015-01-01T00:00:00\",\"2016-01-01T00:00:00\",\"2017-01-01T00:00:00\",\"2018-01-01T00:00:00\",\"2019-01-01T00:00:00\",\"2020-01-01T00:00:00\",\"2021-01-01T00:00:00\",\"2022-01-01T00:00:00\",\"2023-01-01T00:00:00\"],\"xaxis\":\"x\",\"y\":[null,null,null,null,null,null,null,null,null,null,null,null,null,null,null,null,null,null,null,null,null,null,null,null,null,null,null,null,null,null,78.8945883201315,79.2542709682829,79.7786350872369,80.3337006585459,80.9358863354632,81.608093422829,82.3698768370974,83.247062020095,84.2638406906497,85.4318646348945,91.8,88.6,92.6,92.9,93.2,93.4,93.6,93.8,94.0,94.2,98.6,97.8,96.1,95.4,100.0,97.6,99.3,100.0,99.9,100.0,100.0,100.0,100.0,null],\"yaxis\":\"y\",\"type\":\"scatter\"},{\"hovertemplate\":\"country=Chile\\u003cbr\\u003edate=%{x}\\u003cbr\\u003evalue=%{y}\\u003cextra\\u003e\\u003c\\u002fextra\\u003e\",\"legendgroup\":\"Chile\",\"line\":{\"color\":\"#EF553B\",\"dash\":\"solid\"},\"marker\":{\"symbol\":\"circle\"},\"mode\":\"lines\",\"name\":\"Chile\",\"orientation\":\"v\",\"showlegend\":true,\"x\":[\"1960-01-01T00:00:00\",\"1961-01-01T00:00:00\",\"1962-01-01T00:00:00\",\"1963-01-01T00:00:00\",\"1964-01-01T00:00:00\",\"1965-01-01T00:00:00\",\"1966-01-01T00:00:00\",\"1967-01-01T00:00:00\",\"1968-01-01T00:00:00\",\"1969-01-01T00:00:00\",\"1970-01-01T00:00:00\",\"1971-01-01T00:00:00\",\"1972-01-01T00:00:00\",\"1973-01-01T00:00:00\",\"1974-01-01T00:00:00\",\"1975-01-01T00:00:00\",\"1976-01-01T00:00:00\",\"1977-01-01T00:00:00\",\"1978-01-01T00:00:00\",\"1979-01-01T00:00:00\",\"1980-01-01T00:00:00\",\"1981-01-01T00:00:00\",\"1982-01-01T00:00:00\",\"1983-01-01T00:00:00\",\"1984-01-01T00:00:00\",\"1985-01-01T00:00:00\",\"1986-01-01T00:00:00\",\"1987-01-01T00:00:00\",\"1988-01-01T00:00:00\",\"1989-01-01T00:00:00\",\"1990-01-01T00:00:00\",\"1991-01-01T00:00:00\",\"1992-01-01T00:00:00\",\"1993-01-01T00:00:00\",\"1994-01-01T00:00:00\",\"1995-01-01T00:00:00\",\"1996-01-01T00:00:00\",\"1997-01-01T00:00:00\",\"1998-01-01T00:00:00\",\"1999-01-01T00:00:00\",\"2000-01-01T00:00:00\",\"2001-01-01T00:00:00\",\"2002-01-01T00:00:00\",\"2003-01-01T00:00:00\",\"2004-01-01T00:00:00\",\"2005-01-01T00:00:00\",\"2006-01-01T00:00:00\",\"2007-01-01T00:00:00\",\"2008-01-01T00:00:00\",\"2009-01-01T00:00:00\",\"2010-01-01T00:00:00\",\"2011-01-01T00:00:00\",\"2012-01-01T00:00:00\",\"2013-01-01T00:00:00\",\"2014-01-01T00:00:00\",\"2015-01-01T00:00:00\",\"2016-01-01T00:00:00\",\"2017-01-01T00:00:00\",\"2018-01-01T00:00:00\",\"2019-01-01T00:00:00\",\"2020-01-01T00:00:00\",\"2021-01-01T00:00:00\",\"2022-01-01T00:00:00\",\"2023-01-01T00:00:00\"],\"xaxis\":\"x\",\"y\":[null,null,null,null,null,null,null,null,null,null,null,null,null,null,null,null,null,null,null,null,null,null,null,null,null,null,null,null,null,null,59.458310297133,72.6529187893954,71.4397443359869,74.0618441426621,74.7053747121922,75.4195550331526,74.1794729751692,77.1353797964394,82.9624556298822,79.3576862813837,86.5,82.2,83.1,92.8,85.3,86.4,96.4,88.5,89.6,97.7,98.3,97.8,100.0,100.0,100.0,100.0,100.0,100.0,100.0,100.0,100.0,100.0,100.0,null],\"yaxis\":\"y\",\"type\":\"scatter\"},{\"hovertemplate\":\"country=Uruguay\\u003cbr\\u003edate=%{x}\\u003cbr\\u003evalue=%{y}\\u003cextra\\u003e\\u003c\\u002fextra\\u003e\",\"legendgroup\":\"Uruguay\",\"line\":{\"color\":\"#00cc96\",\"dash\":\"solid\"},\"marker\":{\"symbol\":\"circle\"},\"mode\":\"lines\",\"name\":\"Uruguay\",\"orientation\":\"v\",\"showlegend\":true,\"x\":[\"1960-01-01T00:00:00\",\"1961-01-01T00:00:00\",\"1962-01-01T00:00:00\",\"1963-01-01T00:00:00\",\"1964-01-01T00:00:00\",\"1965-01-01T00:00:00\",\"1966-01-01T00:00:00\",\"1967-01-01T00:00:00\",\"1968-01-01T00:00:00\",\"1969-01-01T00:00:00\",\"1970-01-01T00:00:00\",\"1971-01-01T00:00:00\",\"1972-01-01T00:00:00\",\"1973-01-01T00:00:00\",\"1974-01-01T00:00:00\",\"1975-01-01T00:00:00\",\"1976-01-01T00:00:00\",\"1977-01-01T00:00:00\",\"1978-01-01T00:00:00\",\"1979-01-01T00:00:00\",\"1980-01-01T00:00:00\",\"1981-01-01T00:00:00\",\"1982-01-01T00:00:00\",\"1983-01-01T00:00:00\",\"1984-01-01T00:00:00\",\"1985-01-01T00:00:00\",\"1986-01-01T00:00:00\",\"1987-01-01T00:00:00\",\"1988-01-01T00:00:00\",\"1989-01-01T00:00:00\",\"1990-01-01T00:00:00\",\"1991-01-01T00:00:00\",\"1992-01-01T00:00:00\",\"1993-01-01T00:00:00\",\"1994-01-01T00:00:00\",\"1995-01-01T00:00:00\",\"1996-01-01T00:00:00\",\"1997-01-01T00:00:00\",\"1998-01-01T00:00:00\",\"1999-01-01T00:00:00\",\"2000-01-01T00:00:00\",\"2001-01-01T00:00:00\",\"2002-01-01T00:00:00\",\"2003-01-01T00:00:00\",\"2004-01-01T00:00:00\",\"2005-01-01T00:00:00\",\"2006-01-01T00:00:00\",\"2007-01-01T00:00:00\",\"2008-01-01T00:00:00\",\"2009-01-01T00:00:00\",\"2010-01-01T00:00:00\",\"2011-01-01T00:00:00\",\"2012-01-01T00:00:00\",\"2013-01-01T00:00:00\",\"2014-01-01T00:00:00\",\"2015-01-01T00:00:00\",\"2016-01-01T00:00:00\",\"2017-01-01T00:00:00\",\"2018-01-01T00:00:00\",\"2019-01-01T00:00:00\",\"2020-01-01T00:00:00\",\"2021-01-01T00:00:00\",\"2022-01-01T00:00:00\",\"2023-01-01T00:00:00\"],\"xaxis\":\"x\",\"y\":[null,null,null,null,null,null,null,null,null,null,null,null,null,null,null,null,null,null,null,null,null,null,null,null,null,null,null,null,null,null,null,null,77.2005902678541,73.2686698192808,73.5476591596717,73.9571549138308,62.0482294524734,73.9576901943799,74.7242211245104,76.9679349981963,78.1,80.3,80.9,81.6,82.2,82.8,86.6,88.2,88.0,92.6,94.2,94.6,100.0,100.0,100.0,100.0,100.0,100.0,100.0,100.0,100.0,100.0,100.0,null],\"yaxis\":\"y\",\"type\":\"scatter\"}],                        {\"template\":{\"data\":{\"histogram2dcontour\":[{\"type\":\"histogram2dcontour\",\"colorbar\":{\"outlinewidth\":0,\"ticks\":\"\"},\"colorscale\":[[0.0,\"#0d0887\"],[0.1111111111111111,\"#46039f\"],[0.2222222222222222,\"#7201a8\"],[0.3333333333333333,\"#9c179e\"],[0.4444444444444444,\"#bd3786\"],[0.5555555555555556,\"#d8576b\"],[0.6666666666666666,\"#ed7953\"],[0.7777777777777778,\"#fb9f3a\"],[0.8888888888888888,\"#fdca26\"],[1.0,\"#f0f921\"]]}],\"choropleth\":[{\"type\":\"choropleth\",\"colorbar\":{\"outlinewidth\":0,\"ticks\":\"\"}}],\"histogram2d\":[{\"type\":\"histogram2d\",\"colorbar\":{\"outlinewidth\":0,\"ticks\":\"\"},\"colorscale\":[[0.0,\"#0d0887\"],[0.1111111111111111,\"#46039f\"],[0.2222222222222222,\"#7201a8\"],[0.3333333333333333,\"#9c179e\"],[0.4444444444444444,\"#bd3786\"],[0.5555555555555556,\"#d8576b\"],[0.6666666666666666,\"#ed7953\"],[0.7777777777777778,\"#fb9f3a\"],[0.8888888888888888,\"#fdca26\"],[1.0,\"#f0f921\"]]}],\"heatmap\":[{\"type\":\"heatmap\",\"colorbar\":{\"outlinewidth\":0,\"ticks\":\"\"},\"colorscale\":[[0.0,\"#0d0887\"],[0.1111111111111111,\"#46039f\"],[0.2222222222222222,\"#7201a8\"],[0.3333333333333333,\"#9c179e\"],[0.4444444444444444,\"#bd3786\"],[0.5555555555555556,\"#d8576b\"],[0.6666666666666666,\"#ed7953\"],[0.7777777777777778,\"#fb9f3a\"],[0.8888888888888888,\"#fdca26\"],[1.0,\"#f0f921\"]]}],\"heatmapgl\":[{\"type\":\"heatmapgl\",\"colorbar\":{\"outlinewidth\":0,\"ticks\":\"\"},\"colorscale\":[[0.0,\"#0d0887\"],[0.1111111111111111,\"#46039f\"],[0.2222222222222222,\"#7201a8\"],[0.3333333333333333,\"#9c179e\"],[0.4444444444444444,\"#bd3786\"],[0.5555555555555556,\"#d8576b\"],[0.6666666666666666,\"#ed7953\"],[0.7777777777777778,\"#fb9f3a\"],[0.8888888888888888,\"#fdca26\"],[1.0,\"#f0f921\"]]}],\"contourcarpet\":[{\"type\":\"contourcarpet\",\"colorbar\":{\"outlinewidth\":0,\"ticks\":\"\"}}],\"contour\":[{\"type\":\"contour\",\"colorbar\":{\"outlinewidth\":0,\"ticks\":\"\"},\"colorscale\":[[0.0,\"#0d0887\"],[0.1111111111111111,\"#46039f\"],[0.2222222222222222,\"#7201a8\"],[0.3333333333333333,\"#9c179e\"],[0.4444444444444444,\"#bd3786\"],[0.5555555555555556,\"#d8576b\"],[0.6666666666666666,\"#ed7953\"],[0.7777777777777778,\"#fb9f3a\"],[0.8888888888888888,\"#fdca26\"],[1.0,\"#f0f921\"]]}],\"surface\":[{\"type\":\"surface\",\"colorbar\":{\"outlinewidth\":0,\"ticks\":\"\"},\"colorscale\":[[0.0,\"#0d0887\"],[0.1111111111111111,\"#46039f\"],[0.2222222222222222,\"#7201a8\"],[0.3333333333333333,\"#9c179e\"],[0.4444444444444444,\"#bd3786\"],[0.5555555555555556,\"#d8576b\"],[0.6666666666666666,\"#ed7953\"],[0.7777777777777778,\"#fb9f3a\"],[0.8888888888888888,\"#fdca26\"],[1.0,\"#f0f921\"]]}],\"mesh3d\":[{\"type\":\"mesh3d\",\"colorbar\":{\"outlinewidth\":0,\"ticks\":\"\"}}],\"scatter\":[{\"fillpattern\":{\"fillmode\":\"overlay\",\"size\":10,\"solidity\":0.2},\"type\":\"scatter\"}],\"parcoords\":[{\"type\":\"parcoords\",\"line\":{\"colorbar\":{\"outlinewidth\":0,\"ticks\":\"\"}}}],\"scatterpolargl\":[{\"type\":\"scatterpolargl\",\"marker\":{\"colorbar\":{\"outlinewidth\":0,\"ticks\":\"\"}}}],\"bar\":[{\"error_x\":{\"color\":\"#2a3f5f\"},\"error_y\":{\"color\":\"#2a3f5f\"},\"marker\":{\"line\":{\"color\":\"#E5ECF6\",\"width\":0.5},\"pattern\":{\"fillmode\":\"overlay\",\"size\":10,\"solidity\":0.2}},\"type\":\"bar\"}],\"scattergeo\":[{\"type\":\"scattergeo\",\"marker\":{\"colorbar\":{\"outlinewidth\":0,\"ticks\":\"\"}}}],\"scatterpolar\":[{\"type\":\"scatterpolar\",\"marker\":{\"colorbar\":{\"outlinewidth\":0,\"ticks\":\"\"}}}],\"histogram\":[{\"marker\":{\"pattern\":{\"fillmode\":\"overlay\",\"size\":10,\"solidity\":0.2}},\"type\":\"histogram\"}],\"scattergl\":[{\"type\":\"scattergl\",\"marker\":{\"colorbar\":{\"outlinewidth\":0,\"ticks\":\"\"}}}],\"scatter3d\":[{\"type\":\"scatter3d\",\"line\":{\"colorbar\":{\"outlinewidth\":0,\"ticks\":\"\"}},\"marker\":{\"colorbar\":{\"outlinewidth\":0,\"ticks\":\"\"}}}],\"scattermapbox\":[{\"type\":\"scattermapbox\",\"marker\":{\"colorbar\":{\"outlinewidth\":0,\"ticks\":\"\"}}}],\"scatterternary\":[{\"type\":\"scatterternary\",\"marker\":{\"colorbar\":{\"outlinewidth\":0,\"ticks\":\"\"}}}],\"scattercarpet\":[{\"type\":\"scattercarpet\",\"marker\":{\"colorbar\":{\"outlinewidth\":0,\"ticks\":\"\"}}}],\"carpet\":[{\"aaxis\":{\"endlinecolor\":\"#2a3f5f\",\"gridcolor\":\"white\",\"linecolor\":\"white\",\"minorgridcolor\":\"white\",\"startlinecolor\":\"#2a3f5f\"},\"baxis\":{\"endlinecolor\":\"#2a3f5f\",\"gridcolor\":\"white\",\"linecolor\":\"white\",\"minorgridcolor\":\"white\",\"startlinecolor\":\"#2a3f5f\"},\"type\":\"carpet\"}],\"table\":[{\"cells\":{\"fill\":{\"color\":\"#EBF0F8\"},\"line\":{\"color\":\"white\"}},\"header\":{\"fill\":{\"color\":\"#C8D4E3\"},\"line\":{\"color\":\"white\"}},\"type\":\"table\"}],\"barpolar\":[{\"marker\":{\"line\":{\"color\":\"#E5ECF6\",\"width\":0.5},\"pattern\":{\"fillmode\":\"overlay\",\"size\":10,\"solidity\":0.2}},\"type\":\"barpolar\"}],\"pie\":[{\"automargin\":true,\"type\":\"pie\"}]},\"layout\":{\"autotypenumbers\":\"strict\",\"colorway\":[\"#636efa\",\"#EF553B\",\"#00cc96\",\"#ab63fa\",\"#FFA15A\",\"#19d3f3\",\"#FF6692\",\"#B6E880\",\"#FF97FF\",\"#FECB52\"],\"font\":{\"color\":\"#2a3f5f\"},\"hovermode\":\"closest\",\"hoverlabel\":{\"align\":\"left\"},\"paper_bgcolor\":\"white\",\"plot_bgcolor\":\"#E5ECF6\",\"polar\":{\"bgcolor\":\"#E5ECF6\",\"angularaxis\":{\"gridcolor\":\"white\",\"linecolor\":\"white\",\"ticks\":\"\"},\"radialaxis\":{\"gridcolor\":\"white\",\"linecolor\":\"white\",\"ticks\":\"\"}},\"ternary\":{\"bgcolor\":\"#E5ECF6\",\"aaxis\":{\"gridcolor\":\"white\",\"linecolor\":\"white\",\"ticks\":\"\"},\"baxis\":{\"gridcolor\":\"white\",\"linecolor\":\"white\",\"ticks\":\"\"},\"caxis\":{\"gridcolor\":\"white\",\"linecolor\":\"white\",\"ticks\":\"\"}},\"coloraxis\":{\"colorbar\":{\"outlinewidth\":0,\"ticks\":\"\"}},\"colorscale\":{\"sequential\":[[0.0,\"#0d0887\"],[0.1111111111111111,\"#46039f\"],[0.2222222222222222,\"#7201a8\"],[0.3333333333333333,\"#9c179e\"],[0.4444444444444444,\"#bd3786\"],[0.5555555555555556,\"#d8576b\"],[0.6666666666666666,\"#ed7953\"],[0.7777777777777778,\"#fb9f3a\"],[0.8888888888888888,\"#fdca26\"],[1.0,\"#f0f921\"]],\"sequentialminus\":[[0.0,\"#0d0887\"],[0.1111111111111111,\"#46039f\"],[0.2222222222222222,\"#7201a8\"],[0.3333333333333333,\"#9c179e\"],[0.4444444444444444,\"#bd3786\"],[0.5555555555555556,\"#d8576b\"],[0.6666666666666666,\"#ed7953\"],[0.7777777777777778,\"#fb9f3a\"],[0.8888888888888888,\"#fdca26\"],[1.0,\"#f0f921\"]],\"diverging\":[[0,\"#8e0152\"],[0.1,\"#c51b7d\"],[0.2,\"#de77ae\"],[0.3,\"#f1b6da\"],[0.4,\"#fde0ef\"],[0.5,\"#f7f7f7\"],[0.6,\"#e6f5d0\"],[0.7,\"#b8e186\"],[0.8,\"#7fbc41\"],[0.9,\"#4d9221\"],[1,\"#276419\"]]},\"xaxis\":{\"gridcolor\":\"white\",\"linecolor\":\"white\",\"ticks\":\"\",\"title\":{\"standoff\":15},\"zerolinecolor\":\"white\",\"automargin\":true,\"zerolinewidth\":2},\"yaxis\":{\"gridcolor\":\"white\",\"linecolor\":\"white\",\"ticks\":\"\",\"title\":{\"standoff\":15},\"zerolinecolor\":\"white\",\"automargin\":true,\"zerolinewidth\":2},\"scene\":{\"xaxis\":{\"backgroundcolor\":\"#E5ECF6\",\"gridcolor\":\"white\",\"linecolor\":\"white\",\"showbackground\":true,\"ticks\":\"\",\"zerolinecolor\":\"white\",\"gridwidth\":2},\"yaxis\":{\"backgroundcolor\":\"#E5ECF6\",\"gridcolor\":\"white\",\"linecolor\":\"white\",\"showbackground\":true,\"ticks\":\"\",\"zerolinecolor\":\"white\",\"gridwidth\":2},\"zaxis\":{\"backgroundcolor\":\"#E5ECF6\",\"gridcolor\":\"white\",\"linecolor\":\"white\",\"showbackground\":true,\"ticks\":\"\",\"zerolinecolor\":\"white\",\"gridwidth\":2}},\"shapedefaults\":{\"line\":{\"color\":\"#2a3f5f\"}},\"annotationdefaults\":{\"arrowcolor\":\"#2a3f5f\",\"arrowhead\":0,\"arrowwidth\":1},\"geo\":{\"bgcolor\":\"white\",\"landcolor\":\"#E5ECF6\",\"subunitcolor\":\"white\",\"showland\":true,\"showlakes\":true,\"lakecolor\":\"white\"},\"title\":{\"x\":0.05},\"mapbox\":{\"style\":\"light\"}}},\"xaxis\":{\"anchor\":\"y\",\"domain\":[0.0,1.0],\"title\":{\"text\":\"date\"}},\"yaxis\":{\"anchor\":\"x\",\"domain\":[0.0,1.0],\"title\":{\"text\":\"value\"}},\"legend\":{\"title\":{\"text\":\"country\"},\"tracegroupgap\":0},\"title\":{\"text\":\"Test\"}},                        {\"responsive\": true}                    ).then(function(){\n",
       "                            \n",
       "var gd = document.getElementById('c5c055d5-38bd-4ceb-860e-e7e0f031f5e0');\n",
       "var x = new MutationObserver(function (mutations, observer) {{\n",
       "        var display = window.getComputedStyle(gd).display;\n",
       "        if (!display || display === 'none') {{\n",
       "            console.log([gd, 'removed!']);\n",
       "            Plotly.purge(gd);\n",
       "            observer.disconnect();\n",
       "        }}\n",
       "}});\n",
       "\n",
       "// Listen for the removal of the full notebook cells\n",
       "var notebookContainer = gd.closest('#notebook-container');\n",
       "if (notebookContainer) {{\n",
       "    x.observe(notebookContainer, {childList: true});\n",
       "}}\n",
       "\n",
       "// Listen for the clearing of the current output cell\n",
       "var outputEl = gd.closest('.output');\n",
       "if (outputEl) {{\n",
       "    x.observe(outputEl, {childList: true});\n",
       "}}\n",
       "\n",
       "                        })                };                });            </script>        </div>"
      ]
     },
     "metadata": {},
     "output_type": "display_data"
    }
   ],
   "source": [
    "# this is extra code left over from playing around, for now\n",
    "vars4 = {\"EG.ELC.ACCS.RU.ZS\":\"Investigation\"}\n",
    "\n",
    "#BLA is all of Latin America and the Caribbean\n",
    "\n",
    "scone=[\"BLA\",\"CHL\",\"ARG\",\"URY\"]\n",
    "viet=[\"VNM\",\"BRA\"]\n",
    "\n",
    "chldlabor = wbdata.get_dataframe(vars4,country=scone,parse_dates=True).squeeze().unstack('country')\n",
    "\n",
    "chldlabor.plot(title=\"Test\")"
   ]
  },
  {
   "cell_type": "code",
   "execution_count": 7,
   "id": "09ec78ab-07d6-4e45-8a5d-f63ed1ccffed",
   "metadata": {
    "scrolled": true
   },
   "outputs": [
    {
     "name": "stderr",
     "output_type": "stream",
     "text": [
      "WARNING:shelved_cache.persistent_cache:Key '2466066575192908675' not in persistent cache.\n"
     ]
    },
    {
     "data": {
      "text/plain": [
       "id                 name\n",
       "-----------------  -------------------------------------------------------------------\n",
       "SH.DTH.0509        Number of deaths ages 5-9 years\n",
       "SH.DTH.0514        Number of deaths ages 5-14 years\n",
       "SH.DTH.1014        Number of deaths ages 10-14 years\n",
       "SH.DTH.1019        Number of deaths ages 10-19 years\n",
       "SH.DTH.1519        Number of deaths ages 15-19 years\n",
       "SH.DTH.2024        Number of deaths ages 20-24 years\n",
       "SH.DTH.IMRT        Number of infant deaths\n",
       "SH.DTH.IMRT.FE     Number of infant deaths, female\n",
       "SH.DTH.IMRT.MA     Number of infant deaths, male\n",
       "SH.DTH.MORT        Number of under-five deaths\n",
       "SH.DTH.MORT.FE     Number of under-five deaths, female\n",
       "SH.DTH.MORT.MA     Number of under-five deaths, male\n",
       "SH.DTH.NMRT        Number of neonatal deaths\n",
       "SH.DYN.0509        Probability of dying among children ages 5-9 years (per 1,000)\n",
       "SH.DYN.0514        Probability of dying at age 5-14 years (per 1,000 children age 5)\n",
       "SH.DYN.1014        Probability of dying among adolescents ages 10-14 years (per 1,000)\n",
       "SH.DYN.1019        Probability of dying among adolescents ages 10-19 years (per 1,000)\n",
       "SH.DYN.1519        Probability of dying among adolescents ages 15-19 years (per 1,000)\n",
       "SH.DYN.2024        Probability of dying among youth ages 20-24 years (per 1,000)\n",
       "SH.DYN.MORT        Mortality rate, under-5 (per 1,000 live births)\n",
       "SH.DYN.MORT.FE     Mortality rate, under-5, female (per 1,000 live births)\n",
       "SH.DYN.MORT.MA     Mortality rate, under-5, male (per 1,000 live births)\n",
       "SH.DYN.NMRT        Mortality rate, neonatal (per 1,000 live births)\n",
       "SM.POP.NETM        Net migration\n",
       "SP.DYN.AMRT.FE     Mortality rate, adult, female (per 1,000 female adults)\n",
       "SP.DYN.AMRT.MA     Mortality rate, adult, male (per 1,000 male adults)\n",
       "SP.DYN.CBRT.IN     Birth rate, crude (per 1,000 people)\n",
       "SP.DYN.CDRT.IN     Death rate, crude (per 1,000 people)\n",
       "SP.DYN.IMRT.FE.IN  Mortality rate, infant, female (per 1,000 live births)\n",
       "SP.DYN.IMRT.IN     Mortality rate, infant (per 1,000 live births)\n",
       "SP.DYN.IMRT.MA.IN  Mortality rate, infant, male (per 1,000 live births)\n",
       "SP.DYN.LE00.FE.IN  Life expectancy at birth, female (years)\n",
       "SP.DYN.LE00.IN     Life expectancy at birth, total (years)\n",
       "SP.DYN.LE00.MA.IN  Life expectancy at birth, male (years)\n",
       "SP.DYN.TFRT.IN     Fertility rate, total (births per woman)\n",
       "SP.POP.0004.FE     Population ages 00-04, female\n",
       "SP.POP.0004.FE.5Y  Population ages 00-04, female (% of female population)\n",
       "SP.POP.0004.MA     Population ages 00-04, male\n",
       "SP.POP.0004.MA.5Y  Population ages 00-04, male (% of male population)\n",
       "SP.POP.0014.FE.IN  Population ages 0-14, female\n",
       "SP.POP.0014.FE.ZS  Population ages 0-14, female (% of female population)\n",
       "SP.POP.0014.MA.IN  Population ages 0-14, male\n",
       "SP.POP.0014.MA.ZS  Population ages 0-14, male (% of male population)\n",
       "SP.POP.0014.TO     Population ages 0-14, total\n",
       "SP.POP.0014.TO.ZS  Population ages 0-14 (% of total population)\n",
       "SP.POP.0509.FE     Population ages 05-09, female\n",
       "SP.POP.0509.FE.5Y  Population ages 05-09, female (% of female population)\n",
       "SP.POP.0509.MA     Population ages 05-09, male\n",
       "SP.POP.0509.MA.5Y  Population ages 05-09, male (% of male population)\n",
       "SP.POP.1014.FE     Population ages 10-14, female\n",
       "SP.POP.1014.FE.5Y  Population ages 10-14, female (% of female population)\n",
       "SP.POP.1014.MA     Population ages 10-14, male\n",
       "SP.POP.1014.MA.5Y  Population ages 10-14, male (% of male population)\n",
       "SP.POP.1519.FE     Population ages 15-19, female\n",
       "SP.POP.1519.FE.5Y  Population ages 15-19, female (% of female population)\n",
       "SP.POP.1519.MA     Population ages 15-19, male\n",
       "SP.POP.1519.MA.5Y  Population ages 15-19, male (% of male population)\n",
       "SP.POP.1564.FE.IN  Population ages 15-64, female\n",
       "SP.POP.1564.FE.ZS  Population ages 15-64, female (% of female population)\n",
       "SP.POP.1564.MA.IN  Population ages 15-64, male\n",
       "SP.POP.1564.MA.ZS  Population ages 15-64, male (% of male population)\n",
       "SP.POP.1564.TO     Population ages 15-64, total\n",
       "SP.POP.1564.TO.ZS  Population ages 15-64 (% of total population)\n",
       "SP.POP.2024.FE     Population ages 20-24, female\n",
       "SP.POP.2024.FE.5Y  Population ages 20-24, female (% of female population)\n",
       "SP.POP.2024.MA     Population ages 20-24, male\n",
       "SP.POP.2024.MA.5Y  Population ages 20-24, male (% of male population)\n",
       "SP.POP.2529.FE     Population ages 25-29, female\n",
       "SP.POP.2529.FE.5Y  Population ages 25-29, female (% of female population)\n",
       "SP.POP.2529.MA     Population ages 25-29, male\n",
       "SP.POP.2529.MA.5Y  Population ages 25-29, male (% of male population)\n",
       "SP.POP.3034.FE     Population ages 30-34, female\n",
       "SP.POP.3034.FE.5Y  Population ages 30-34, female (% of female population)\n",
       "SP.POP.3034.MA     Population ages 30-34, male\n",
       "SP.POP.3034.MA.5Y  Population ages 30-34, male (% of male population)\n",
       "SP.POP.3539.FE     Population ages 35-39, female\n",
       "SP.POP.3539.FE.5Y  Population ages 35-39, female (% of female population)\n",
       "SP.POP.3539.MA     Population ages 35-39, male\n",
       "SP.POP.3539.MA.5Y  Population ages 35-39, male (% of male population)\n",
       "SP.POP.4044.FE     Population ages 40-44, female\n",
       "SP.POP.4044.FE.5Y  Population ages 40-44, female (% of female population)\n",
       "SP.POP.4044.MA     Population ages 40-44, male\n",
       "SP.POP.4044.MA.5Y  Population ages 40-44, male (% of male population)\n",
       "SP.POP.4549.FE     Population ages 45-49, female\n",
       "SP.POP.4549.FE.5Y  Population ages 45-49, female (% of female population)\n",
       "SP.POP.4549.MA     Population ages 45-49, male\n",
       "SP.POP.4549.MA.5Y  Population ages 45-49, male (% of male population)\n",
       "SP.POP.5054.FE     Population ages 50-54, female\n",
       "SP.POP.5054.FE.5Y  Population ages 50-54, female (% of female population)\n",
       "SP.POP.5054.MA     Population ages 50-54, male\n",
       "SP.POP.5054.MA.5Y  Population ages 50-54, male (% of male population)\n",
       "SP.POP.5559.FE     Population ages 55-59, female\n",
       "SP.POP.5559.FE.5Y  Population ages 55-59, female (% of female population)\n",
       "SP.POP.5559.MA     Population ages 55-59, male\n",
       "SP.POP.5559.MA.5Y  Population ages 55-59, male (% of male population)\n",
       "SP.POP.6064.FE     Population ages 60-64, female\n",
       "SP.POP.6064.FE.5Y  Population ages 60-64, female (% of female population)\n",
       "SP.POP.6064.MA     Population ages 60-64, male\n",
       "SP.POP.6064.MA.5Y  Population ages 60-64, male (% of male population)\n",
       "SP.POP.6569.FE     Population ages 65-69, female\n",
       "SP.POP.6569.FE.5Y  Population ages 65-69, female (% of female population)\n",
       "SP.POP.6569.MA     Population ages 65-69, male\n",
       "SP.POP.6569.MA.5Y  Population ages 65-69, male (% of male population)\n",
       "SP.POP.65UP.FE.IN  Population ages 65 and above, female\n",
       "SP.POP.65UP.FE.ZS  Population ages 65 and above, female (% of female population)\n",
       "SP.POP.65UP.MA.IN  Population ages 65 and above, male\n",
       "SP.POP.65UP.MA.ZS  Population ages 65 and above, male (% of male population)\n",
       "SP.POP.65UP.TO     Population ages 65 and above, total\n",
       "SP.POP.65UP.TO.ZS  Population ages 65 and above (% of total population)\n",
       "SP.POP.7074.FE     Population ages 70-74, female\n",
       "SP.POP.7074.FE.5Y  Population ages 70-74, female (% of female population)\n",
       "SP.POP.7074.MA     Population ages 70-74, male\n",
       "SP.POP.7074.MA.5Y  Population ages 70-74, male (% of male population)\n",
       "SP.POP.7579.FE     Population ages 75-79, female\n",
       "SP.POP.7579.FE.5Y  Population ages 75-79, female (% of female population)\n",
       "SP.POP.7579.MA     Population ages 75-79, male\n",
       "SP.POP.7579.MA.5Y  Population ages 75-79, male (% of male population)\n",
       "SP.POP.80UP.FE     Population ages 80 and above, female\n",
       "SP.POP.80UP.FE.5Y  Population ages 80 and above, female (% of female population)\n",
       "SP.POP.80UP.MA     Population ages 80 and above, male\n",
       "SP.POP.80UP.MA.5Y  Population ages 80 and above, male (% of male population)\n",
       "SP.POP.AG00.FE.IN  Age population, age 00, female, interpolated\n",
       "SP.POP.AG00.MA.IN  Age population, age 00, male, interpolated\n",
       "SP.POP.AG01.FE.IN  Age population, age 01, female, interpolated\n",
       "SP.POP.AG01.MA.IN  Age population, age 01, male, interpolated\n",
       "SP.POP.AG02.FE.IN  Age population, age 02, female, interpolated\n",
       "SP.POP.AG02.MA.IN  Age population, age 02, male, interpolated\n",
       "SP.POP.AG03.FE.IN  Age population, age 03, female, interpolated\n",
       "SP.POP.AG03.MA.IN  Age population, age 03, male, interpolated\n",
       "SP.POP.AG04.FE.IN  Age population, age 04, female, interpolated\n",
       "SP.POP.AG04.MA.IN  Age population, age 04, male, interpolated\n",
       "SP.POP.AG05.FE.IN  Age population, age 05, female, interpolated\n",
       "SP.POP.AG05.MA.IN  Age population, age 05, male, interpolated\n",
       "SP.POP.AG06.FE.IN  Age population, age 06, female, interpolated\n",
       "SP.POP.AG06.MA.IN  Age population, age 06, male, interpolated\n",
       "SP.POP.AG07.FE.IN  Age population, age 07, female, interpolated\n",
       "SP.POP.AG07.MA.IN  Age population, age 07, male, interpolated\n",
       "SP.POP.AG08.FE.IN  Age population, age 08, female, interpolated\n",
       "SP.POP.AG08.MA.IN  Age population, age 08, male, interpolated\n",
       "SP.POP.AG09.FE.IN  Age population, age 09, female, interpolated\n",
       "SP.POP.AG09.MA.IN  Age population, age 09, male, interpolated\n",
       "SP.POP.AG10.FE.IN  Age population, age 10, female, interpolated\n",
       "SP.POP.AG10.MA.IN  Age population, age 10, male, interpolated\n",
       "SP.POP.AG11.FE.IN  Age population, age 11, female, interpolated\n",
       "SP.POP.AG11.MA.IN  Age population, age 11, male, interpolated\n",
       "SP.POP.AG12.FE.IN  Age population, age 12, female, interpolated\n",
       "SP.POP.AG12.MA.IN  Age population, age 12, male, interpolated\n",
       "SP.POP.AG13.FE.IN  Age population, age 13, female, interpolated\n",
       "SP.POP.AG13.MA.IN  Age population, age 13, male, interpolated\n",
       "SP.POP.AG14.FE.IN  Age population, age 14, female, interpolated\n",
       "SP.POP.AG14.MA.IN  Age population, age 14, male, interpolated\n",
       "SP.POP.AG15.FE.IN  Age population, age 15, female, interpolated\n",
       "SP.POP.AG15.MA.IN  Age population, age 15, male, interpolated\n",
       "SP.POP.AG16.FE.IN  Age population, age 16, female, interpolated\n",
       "SP.POP.AG16.MA.IN  Age population, age 16, male, interpolated\n",
       "SP.POP.AG17.FE.IN  Age population, age 17, female, interpolated\n",
       "SP.POP.AG17.MA.IN  Age population, age 17, male, interpolated\n",
       "SP.POP.AG18.FE.IN  Age population, age 18, female, interpolated\n",
       "SP.POP.AG18.MA.IN  Age population, age 18, male, interpolated\n",
       "SP.POP.AG19.FE.IN  Age population, age 19, female, interpolated\n",
       "SP.POP.AG19.MA.IN  Age population, age 19, male, interpolated\n",
       "SP.POP.AG20.FE.IN  Age population, age 20, female, interpolated\n",
       "SP.POP.AG20.MA.IN  Age population, age 20, male, interpolated\n",
       "SP.POP.AG21.FE.IN  Age population, age 21, female, interpolated\n",
       "SP.POP.AG21.MA.IN  Age population, age 21, male, interpolated\n",
       "SP.POP.AG22.FE.IN  Age population, age 22, female, interpolated\n",
       "SP.POP.AG22.MA.IN  Age population, age 22, male, interpolated\n",
       "SP.POP.AG23.FE.IN  Age population, age 23, female, interpolated\n",
       "SP.POP.AG23.MA.IN  Age population, age 23, male, interpolated\n",
       "SP.POP.AG24.FE.IN  Age population, age 24, female, interpolated\n",
       "SP.POP.AG24.MA.IN  Age population, age 24, male, interpolated\n",
       "SP.POP.AG25.FE.IN  Age population, age 25, female, interpolated\n",
       "SP.POP.AG25.MA.IN  Age population, age 25, male, interpolated\n",
       "SP.POP.BRTH.MF     Sex ratio at birth (male births per female births)\n",
       "SP.POP.DPND        Age dependency ratio (% of working-age population)\n",
       "SP.POP.DPND.OL     Age dependency ratio, old (% of working-age population)\n",
       "SP.POP.DPND.YG     Age dependency ratio, young (% of working-age population)\n",
       "SP.POP.GROW        Population growth (annual %)\n",
       "SP.POP.TOTL        Population, total\n",
       "SP.POP.TOTL.FE.IN  Population, female\n",
       "SP.POP.TOTL.FE.ZS  Population, female (% of total population)\n",
       "SP.POP.TOTL.MA.IN  Population, male\n",
       "SP.POP.TOTL.MA.ZS  Population, male (% of total population)\n",
       "SP.RUR.TOTL        Rural population\n",
       "SP.RUR.TOTL.ZG     Rural population growth (annual %)\n",
       "SP.RUR.TOTL.ZS     Rural population (% of total population)\n",
       "SP.URB.GROW        Urban population growth (annual %)\n",
       "SP.URB.TOTL        Urban population\n",
       "SP.URB.TOTL.IN.ZS  Urban population (% of total population)"
      ]
     },
     "execution_count": 7,
     "metadata": {},
     "output_type": "execute_result"
    }
   ],
   "source": [
    "wbdata.get_indicators(source=40)"
   ]
  },
  {
   "cell_type": "code",
   "execution_count": 8,
   "id": "932dfec4-78a6-42fd-9bef-c8086fa067be",
   "metadata": {},
   "outputs": [],
   "source": [
    "# World Population Pyramid"
   ]
  },
  {
   "cell_type": "code",
   "execution_count": 9,
   "id": "b5827f21-824e-4b27-bc59-ce1a9bca5587",
   "metadata": {},
   "outputs": [
    {
     "name": "stdout",
     "output_type": "stream",
     "text": [
      "['0004', '0509', '1014', '1519', '2024', '2529', '3034', '3539', '4044', '4549', '5054', '5559', '6064', '6569', '7074', '7579', '80UP']\n"
     ]
    }
   ],
   "source": [
    "# Constructing a list of all possible age categories, such as 0-4, 5-9, ... 75-79, 80PLUS.\n",
    "ages = []\n",
    "for a in range(0,80,5):\n",
    "    ages.append(f\"{a:02d}\"+f\"{a+4:02d}\")\n",
    "\n",
    "ages.append(\"80UP\")\n",
    "# Print the result to ensure the correct ranges are created.\n",
    "print(ages)"
   ]
  },
  {
   "cell_type": "code",
   "execution_count": 10,
   "id": "3346f0f2-4b6b-4935-90cf-fca0a2c5c6a3",
   "metadata": {},
   "outputs": [
    {
     "name": "stdout",
     "output_type": "stream",
     "text": [
      "{'SP.POP.0004.MA': 'Males 0004', 'SP.POP.0509.MA': 'Males 0509', 'SP.POP.1014.MA': 'Males 1014', 'SP.POP.1519.MA': 'Males 1519', 'SP.POP.2024.MA': 'Males 2024', 'SP.POP.2529.MA': 'Males 2529', 'SP.POP.3034.MA': 'Males 3034', 'SP.POP.3539.MA': 'Males 3539', 'SP.POP.4044.MA': 'Males 4044', 'SP.POP.4549.MA': 'Males 4549', 'SP.POP.5054.MA': 'Males 5054', 'SP.POP.5559.MA': 'Males 5559', 'SP.POP.6064.MA': 'Males 6064', 'SP.POP.6569.MA': 'Males 6569', 'SP.POP.7074.MA': 'Males 7074', 'SP.POP.7579.MA': 'Males 7579', 'SP.POP.80UP.MA': 'Males 80UP', 'SP.POP.0004.FE': 'Females 0004', 'SP.POP.0509.FE': 'Females 0509', 'SP.POP.1014.FE': 'Females 1014', 'SP.POP.1519.FE': 'Females 1519', 'SP.POP.2024.FE': 'Females 2024', 'SP.POP.2529.FE': 'Females 2529', 'SP.POP.3034.FE': 'Females 3034', 'SP.POP.3539.FE': 'Females 3539', 'SP.POP.4044.FE': 'Females 4044', 'SP.POP.4549.FE': 'Females 4549', 'SP.POP.5054.FE': 'Females 5054', 'SP.POP.5559.FE': 'Females 5559', 'SP.POP.6064.FE': 'Females 6064', 'SP.POP.6569.FE': 'Females 6569', 'SP.POP.7074.FE': 'Females 7074', 'SP.POP.7579.FE': 'Females 7579', 'SP.POP.80UP.FE': 'Females 80UP'}\n"
     ]
    }
   ],
   "source": [
    "# Creates a dictionary, where each term defining a population in the wbdata dataset is named more descriptively.\n",
    "male_ranges = {\"SP.POP.\"+age_range+\".MA\":\"Males \"+age_range for age_range in ages}\n",
    "female_ranges = {\"SP.POP.\"+age_range+\".FE\":\"Females \"+age_range for age_range in ages}\n",
    "\n",
    "# Develop a combined dictionary, then print it to sanity check.\n",
    "categories = {**male_ranges, **female_ranges}\n",
    "print(categories)"
   ]
  },
  {
   "cell_type": "code",
   "execution_count": 11,
   "id": "6918c7c2-f3aa-49bd-9e8f-1d2f494a4666",
   "metadata": {
    "scrolled": true
   },
   "outputs": [
    {
     "name": "stderr",
     "output_type": "stream",
     "text": [
      "WARNING:shelved_cache.persistent_cache:Key '-7410570219254812890' not in persistent cache.\n",
      "WARNING:shelved_cache.persistent_cache:Key '-3380023984192082033' not in persistent cache.\n",
      "WARNING:shelved_cache.persistent_cache:Key '-499139921700405885' not in persistent cache.\n",
      "WARNING:shelved_cache.persistent_cache:Key '7055961715960999170' not in persistent cache.\n",
      "WARNING:shelved_cache.persistent_cache:Key '-4545010434065734243' not in persistent cache.\n",
      "WARNING:shelved_cache.persistent_cache:Key '-5556077325787274925' not in persistent cache.\n",
      "WARNING:shelved_cache.persistent_cache:Key '8189231181197653058' not in persistent cache.\n",
      "WARNING:shelved_cache.persistent_cache:Key '8502265601245884241' not in persistent cache.\n",
      "WARNING:shelved_cache.persistent_cache:Key '6562956295096259040' not in persistent cache.\n",
      "WARNING:shelved_cache.persistent_cache:Key '9122493731754046526' not in persistent cache.\n",
      "WARNING:shelved_cache.persistent_cache:Key '-7497872719388744015' not in persistent cache.\n",
      "WARNING:shelved_cache.persistent_cache:Key '2247095146204527439' not in persistent cache.\n",
      "WARNING:shelved_cache.persistent_cache:Key '-8786961082278240849' not in persistent cache.\n",
      "WARNING:shelved_cache.persistent_cache:Key '-2359073310987388426' not in persistent cache.\n",
      "WARNING:shelved_cache.persistent_cache:Key '-3934691575054289716' not in persistent cache.\n",
      "WARNING:shelved_cache.persistent_cache:Key '-5497417426422646843' not in persistent cache.\n",
      "WARNING:shelved_cache.persistent_cache:Key '6539420799142057202' not in persistent cache.\n",
      "WARNING:shelved_cache.persistent_cache:Key '6367693527533140689' not in persistent cache.\n",
      "WARNING:shelved_cache.persistent_cache:Key '-4657030256347984564' not in persistent cache.\n",
      "WARNING:shelved_cache.persistent_cache:Key '4846984127426643866' not in persistent cache.\n",
      "WARNING:shelved_cache.persistent_cache:Key '-2160815991036084977' not in persistent cache.\n",
      "WARNING:shelved_cache.persistent_cache:Key '8652620699062862671' not in persistent cache.\n"
     ]
    }
   ],
   "source": [
    "# Make a dataframe of the chosen 'country_choice' data\n",
    "\n",
    "country_choice = \"WLD\"\n",
    "world = wbdata.get_dataframe(categories,country=country_choice)"
   ]
  },
  {
   "cell_type": "code",
   "execution_count": 12,
   "id": "f31a9f33-7ed6-42cd-b48d-5d2ed2dd3c78",
   "metadata": {},
   "outputs": [
    {
     "data": {
      "text/html": [
       "        <script type=\"text/javascript\">\n",
       "        window.PlotlyConfig = {MathJaxConfig: 'local'};\n",
       "        if (window.MathJax && window.MathJax.Hub && window.MathJax.Hub.Config) {window.MathJax.Hub.Config({SVG: {font: \"STIX-Web\"}});}\n",
       "        if (typeof require !== 'undefined') {\n",
       "        require.undef(\"plotly\");\n",
       "        requirejs.config({\n",
       "            paths: {\n",
       "                'plotly': ['https://cdn.plot.ly/plotly-2.35.2.min']\n",
       "            }\n",
       "        });\n",
       "        require(['plotly'], function(Plotly) {\n",
       "            window._Plotly = Plotly;\n",
       "        });\n",
       "        }\n",
       "        </script>\n",
       "        "
      ]
     },
     "metadata": {},
     "output_type": "display_data"
    },
    {
     "data": {
      "application/vnd.plotly.v1+json": {
       "config": {
        "linkText": "Export to plot.ly",
        "plotlyServerURL": "https://plot.ly",
        "showLink": false
       },
       "data": [
        {
         "hoverinfo": "skip",
         "marker": {
          "color": "olive",
          "line": {
           "color": "black",
           "width": 1
          }
         },
         "name": "Men",
         "orientation": "h",
         "type": "bar",
         "x": [
          334765288,
          353677898,
          350908323,
          330734289,
          315810689,
          307639362,
          310933348,
          295368359,
          264576185,
          237668148,
          229011272,
          203254223,
          162420898,
          135500657,
          99573175,
          61764493,
          60745503
         ],
         "y": [
          1,
          6,
          11,
          16,
          21,
          26,
          31,
          36,
          41,
          46,
          51,
          56,
          61,
          66,
          71,
          76,
          81
         ]
        },
        {
         "hoverinfo": "skip",
         "marker": {
          "color": "purple",
          "line": {
           "color": "black",
           "width": 1
          }
         },
         "name": "Women",
         "orientation": "h",
         "type": "bar",
         "x": [
          -317720103,
          -333286965,
          -328854130,
          -310627065,
          -297607203,
          -290279991,
          -295121795,
          -283877044,
          -257096669,
          -234564251,
          -229951766,
          -208886865,
          -172758277,
          -151572611,
          -118632451,
          -78182123,
          -98504674
         ],
         "y": [
          1,
          6,
          11,
          16,
          21,
          26,
          31,
          36,
          41,
          46,
          51,
          56,
          61,
          66,
          71,
          76,
          81
         ]
        }
       ],
       "layout": {
        "barmode": "overlay",
        "font": {
         "color": "black",
         "family": "Arial, sans-serif",
         "size": 14
        },
        "height": 600,
        "paper_bgcolor": "#f4f4f4",
        "plot_bgcolor": "#ffffff",
        "showlegend": true,
        "template": {
         "data": {
          "bar": [
           {
            "error_x": {
             "color": "#2a3f5f"
            },
            "error_y": {
             "color": "#2a3f5f"
            },
            "marker": {
             "line": {
              "color": "#E5ECF6",
              "width": 0.5
             },
             "pattern": {
              "fillmode": "overlay",
              "size": 10,
              "solidity": 0.2
             }
            },
            "type": "bar"
           }
          ],
          "barpolar": [
           {
            "marker": {
             "line": {
              "color": "#E5ECF6",
              "width": 0.5
             },
             "pattern": {
              "fillmode": "overlay",
              "size": 10,
              "solidity": 0.2
             }
            },
            "type": "barpolar"
           }
          ],
          "carpet": [
           {
            "aaxis": {
             "endlinecolor": "#2a3f5f",
             "gridcolor": "white",
             "linecolor": "white",
             "minorgridcolor": "white",
             "startlinecolor": "#2a3f5f"
            },
            "baxis": {
             "endlinecolor": "#2a3f5f",
             "gridcolor": "white",
             "linecolor": "white",
             "minorgridcolor": "white",
             "startlinecolor": "#2a3f5f"
            },
            "type": "carpet"
           }
          ],
          "choropleth": [
           {
            "colorbar": {
             "outlinewidth": 0,
             "ticks": ""
            },
            "type": "choropleth"
           }
          ],
          "contour": [
           {
            "colorbar": {
             "outlinewidth": 0,
             "ticks": ""
            },
            "colorscale": [
             [
              0,
              "#0d0887"
             ],
             [
              0.1111111111111111,
              "#46039f"
             ],
             [
              0.2222222222222222,
              "#7201a8"
             ],
             [
              0.3333333333333333,
              "#9c179e"
             ],
             [
              0.4444444444444444,
              "#bd3786"
             ],
             [
              0.5555555555555556,
              "#d8576b"
             ],
             [
              0.6666666666666666,
              "#ed7953"
             ],
             [
              0.7777777777777778,
              "#fb9f3a"
             ],
             [
              0.8888888888888888,
              "#fdca26"
             ],
             [
              1,
              "#f0f921"
             ]
            ],
            "type": "contour"
           }
          ],
          "contourcarpet": [
           {
            "colorbar": {
             "outlinewidth": 0,
             "ticks": ""
            },
            "type": "contourcarpet"
           }
          ],
          "heatmap": [
           {
            "colorbar": {
             "outlinewidth": 0,
             "ticks": ""
            },
            "colorscale": [
             [
              0,
              "#0d0887"
             ],
             [
              0.1111111111111111,
              "#46039f"
             ],
             [
              0.2222222222222222,
              "#7201a8"
             ],
             [
              0.3333333333333333,
              "#9c179e"
             ],
             [
              0.4444444444444444,
              "#bd3786"
             ],
             [
              0.5555555555555556,
              "#d8576b"
             ],
             [
              0.6666666666666666,
              "#ed7953"
             ],
             [
              0.7777777777777778,
              "#fb9f3a"
             ],
             [
              0.8888888888888888,
              "#fdca26"
             ],
             [
              1,
              "#f0f921"
             ]
            ],
            "type": "heatmap"
           }
          ],
          "heatmapgl": [
           {
            "colorbar": {
             "outlinewidth": 0,
             "ticks": ""
            },
            "colorscale": [
             [
              0,
              "#0d0887"
             ],
             [
              0.1111111111111111,
              "#46039f"
             ],
             [
              0.2222222222222222,
              "#7201a8"
             ],
             [
              0.3333333333333333,
              "#9c179e"
             ],
             [
              0.4444444444444444,
              "#bd3786"
             ],
             [
              0.5555555555555556,
              "#d8576b"
             ],
             [
              0.6666666666666666,
              "#ed7953"
             ],
             [
              0.7777777777777778,
              "#fb9f3a"
             ],
             [
              0.8888888888888888,
              "#fdca26"
             ],
             [
              1,
              "#f0f921"
             ]
            ],
            "type": "heatmapgl"
           }
          ],
          "histogram": [
           {
            "marker": {
             "pattern": {
              "fillmode": "overlay",
              "size": 10,
              "solidity": 0.2
             }
            },
            "type": "histogram"
           }
          ],
          "histogram2d": [
           {
            "colorbar": {
             "outlinewidth": 0,
             "ticks": ""
            },
            "colorscale": [
             [
              0,
              "#0d0887"
             ],
             [
              0.1111111111111111,
              "#46039f"
             ],
             [
              0.2222222222222222,
              "#7201a8"
             ],
             [
              0.3333333333333333,
              "#9c179e"
             ],
             [
              0.4444444444444444,
              "#bd3786"
             ],
             [
              0.5555555555555556,
              "#d8576b"
             ],
             [
              0.6666666666666666,
              "#ed7953"
             ],
             [
              0.7777777777777778,
              "#fb9f3a"
             ],
             [
              0.8888888888888888,
              "#fdca26"
             ],
             [
              1,
              "#f0f921"
             ]
            ],
            "type": "histogram2d"
           }
          ],
          "histogram2dcontour": [
           {
            "colorbar": {
             "outlinewidth": 0,
             "ticks": ""
            },
            "colorscale": [
             [
              0,
              "#0d0887"
             ],
             [
              0.1111111111111111,
              "#46039f"
             ],
             [
              0.2222222222222222,
              "#7201a8"
             ],
             [
              0.3333333333333333,
              "#9c179e"
             ],
             [
              0.4444444444444444,
              "#bd3786"
             ],
             [
              0.5555555555555556,
              "#d8576b"
             ],
             [
              0.6666666666666666,
              "#ed7953"
             ],
             [
              0.7777777777777778,
              "#fb9f3a"
             ],
             [
              0.8888888888888888,
              "#fdca26"
             ],
             [
              1,
              "#f0f921"
             ]
            ],
            "type": "histogram2dcontour"
           }
          ],
          "mesh3d": [
           {
            "colorbar": {
             "outlinewidth": 0,
             "ticks": ""
            },
            "type": "mesh3d"
           }
          ],
          "parcoords": [
           {
            "line": {
             "colorbar": {
              "outlinewidth": 0,
              "ticks": ""
             }
            },
            "type": "parcoords"
           }
          ],
          "pie": [
           {
            "automargin": true,
            "type": "pie"
           }
          ],
          "scatter": [
           {
            "fillpattern": {
             "fillmode": "overlay",
             "size": 10,
             "solidity": 0.2
            },
            "type": "scatter"
           }
          ],
          "scatter3d": [
           {
            "line": {
             "colorbar": {
              "outlinewidth": 0,
              "ticks": ""
             }
            },
            "marker": {
             "colorbar": {
              "outlinewidth": 0,
              "ticks": ""
             }
            },
            "type": "scatter3d"
           }
          ],
          "scattercarpet": [
           {
            "marker": {
             "colorbar": {
              "outlinewidth": 0,
              "ticks": ""
             }
            },
            "type": "scattercarpet"
           }
          ],
          "scattergeo": [
           {
            "marker": {
             "colorbar": {
              "outlinewidth": 0,
              "ticks": ""
             }
            },
            "type": "scattergeo"
           }
          ],
          "scattergl": [
           {
            "marker": {
             "colorbar": {
              "outlinewidth": 0,
              "ticks": ""
             }
            },
            "type": "scattergl"
           }
          ],
          "scattermapbox": [
           {
            "marker": {
             "colorbar": {
              "outlinewidth": 0,
              "ticks": ""
             }
            },
            "type": "scattermapbox"
           }
          ],
          "scatterpolar": [
           {
            "marker": {
             "colorbar": {
              "outlinewidth": 0,
              "ticks": ""
             }
            },
            "type": "scatterpolar"
           }
          ],
          "scatterpolargl": [
           {
            "marker": {
             "colorbar": {
              "outlinewidth": 0,
              "ticks": ""
             }
            },
            "type": "scatterpolargl"
           }
          ],
          "scatterternary": [
           {
            "marker": {
             "colorbar": {
              "outlinewidth": 0,
              "ticks": ""
             }
            },
            "type": "scatterternary"
           }
          ],
          "surface": [
           {
            "colorbar": {
             "outlinewidth": 0,
             "ticks": ""
            },
            "colorscale": [
             [
              0,
              "#0d0887"
             ],
             [
              0.1111111111111111,
              "#46039f"
             ],
             [
              0.2222222222222222,
              "#7201a8"
             ],
             [
              0.3333333333333333,
              "#9c179e"
             ],
             [
              0.4444444444444444,
              "#bd3786"
             ],
             [
              0.5555555555555556,
              "#d8576b"
             ],
             [
              0.6666666666666666,
              "#ed7953"
             ],
             [
              0.7777777777777778,
              "#fb9f3a"
             ],
             [
              0.8888888888888888,
              "#fdca26"
             ],
             [
              1,
              "#f0f921"
             ]
            ],
            "type": "surface"
           }
          ],
          "table": [
           {
            "cells": {
             "fill": {
              "color": "#EBF0F8"
             },
             "line": {
              "color": "white"
             }
            },
            "header": {
             "fill": {
              "color": "#C8D4E3"
             },
             "line": {
              "color": "white"
             }
            },
            "type": "table"
           }
          ]
         },
         "layout": {
          "annotationdefaults": {
           "arrowcolor": "#2a3f5f",
           "arrowhead": 0,
           "arrowwidth": 1
          },
          "autotypenumbers": "strict",
          "coloraxis": {
           "colorbar": {
            "outlinewidth": 0,
            "ticks": ""
           }
          },
          "colorscale": {
           "diverging": [
            [
             0,
             "#8e0152"
            ],
            [
             0.1,
             "#c51b7d"
            ],
            [
             0.2,
             "#de77ae"
            ],
            [
             0.3,
             "#f1b6da"
            ],
            [
             0.4,
             "#fde0ef"
            ],
            [
             0.5,
             "#f7f7f7"
            ],
            [
             0.6,
             "#e6f5d0"
            ],
            [
             0.7,
             "#b8e186"
            ],
            [
             0.8,
             "#7fbc41"
            ],
            [
             0.9,
             "#4d9221"
            ],
            [
             1,
             "#276419"
            ]
           ],
           "sequential": [
            [
             0,
             "#0d0887"
            ],
            [
             0.1111111111111111,
             "#46039f"
            ],
            [
             0.2222222222222222,
             "#7201a8"
            ],
            [
             0.3333333333333333,
             "#9c179e"
            ],
            [
             0.4444444444444444,
             "#bd3786"
            ],
            [
             0.5555555555555556,
             "#d8576b"
            ],
            [
             0.6666666666666666,
             "#ed7953"
            ],
            [
             0.7777777777777778,
             "#fb9f3a"
            ],
            [
             0.8888888888888888,
             "#fdca26"
            ],
            [
             1,
             "#f0f921"
            ]
           ],
           "sequentialminus": [
            [
             0,
             "#0d0887"
            ],
            [
             0.1111111111111111,
             "#46039f"
            ],
            [
             0.2222222222222222,
             "#7201a8"
            ],
            [
             0.3333333333333333,
             "#9c179e"
            ],
            [
             0.4444444444444444,
             "#bd3786"
            ],
            [
             0.5555555555555556,
             "#d8576b"
            ],
            [
             0.6666666666666666,
             "#ed7953"
            ],
            [
             0.7777777777777778,
             "#fb9f3a"
            ],
            [
             0.8888888888888888,
             "#fdca26"
            ],
            [
             1,
             "#f0f921"
            ]
           ]
          },
          "colorway": [
           "#636efa",
           "#EF553B",
           "#00cc96",
           "#ab63fa",
           "#FFA15A",
           "#19d3f3",
           "#FF6692",
           "#B6E880",
           "#FF97FF",
           "#FECB52"
          ],
          "font": {
           "color": "#2a3f5f"
          },
          "geo": {
           "bgcolor": "white",
           "lakecolor": "white",
           "landcolor": "#E5ECF6",
           "showlakes": true,
           "showland": true,
           "subunitcolor": "white"
          },
          "hoverlabel": {
           "align": "left"
          },
          "hovermode": "closest",
          "mapbox": {
           "style": "light"
          },
          "paper_bgcolor": "white",
          "plot_bgcolor": "#E5ECF6",
          "polar": {
           "angularaxis": {
            "gridcolor": "white",
            "linecolor": "white",
            "ticks": ""
           },
           "bgcolor": "#E5ECF6",
           "radialaxis": {
            "gridcolor": "white",
            "linecolor": "white",
            "ticks": ""
           }
          },
          "scene": {
           "xaxis": {
            "backgroundcolor": "#E5ECF6",
            "gridcolor": "white",
            "gridwidth": 2,
            "linecolor": "white",
            "showbackground": true,
            "ticks": "",
            "zerolinecolor": "white"
           },
           "yaxis": {
            "backgroundcolor": "#E5ECF6",
            "gridcolor": "white",
            "gridwidth": 2,
            "linecolor": "white",
            "showbackground": true,
            "ticks": "",
            "zerolinecolor": "white"
           },
           "zaxis": {
            "backgroundcolor": "#E5ECF6",
            "gridcolor": "white",
            "gridwidth": 2,
            "linecolor": "white",
            "showbackground": true,
            "ticks": "",
            "zerolinecolor": "white"
           }
          },
          "shapedefaults": {
           "line": {
            "color": "#2a3f5f"
           }
          },
          "ternary": {
           "aaxis": {
            "gridcolor": "white",
            "linecolor": "white",
            "ticks": ""
           },
           "baxis": {
            "gridcolor": "white",
            "linecolor": "white",
            "ticks": ""
           },
           "bgcolor": "#E5ECF6",
           "caxis": {
            "gridcolor": "white",
            "linecolor": "white",
            "ticks": ""
           }
          },
          "title": {
           "x": 0.05
          },
          "xaxis": {
           "automargin": true,
           "gridcolor": "white",
           "linecolor": "white",
           "ticks": "",
           "title": {
            "standoff": 15
           },
           "zerolinecolor": "white",
           "zerolinewidth": 2
          },
          "yaxis": {
           "automargin": true,
           "gridcolor": "white",
           "linecolor": "white",
           "ticks": "",
           "title": {
            "standoff": 15
           },
           "zerolinecolor": "white",
           "zerolinewidth": 2
          }
         }
        },
        "title": {
         "font": {
          "color": "black",
          "size": 18
         },
         "text": "World Population Pyramid (2023)"
        },
        "width": 600,
        "xaxis": {
         "gridcolor": "lightgray",
         "tickfont": {
          "size": 12
         },
         "title": {
          "font": {
           "size": 16
          },
          "text": "Number of People"
         }
        },
        "yaxis": {
         "gridcolor": "lightgray",
         "range": [
          0,
          90
         ],
         "tickfont": {
          "size": 12
         },
         "title": {
          "font": {
           "size": 16
          },
          "text": "Age"
         }
        }
       }
      },
      "text/html": [
       "<div>                            <div id=\"e1e4ae37-a8bd-4f1f-8c20-15de38154a65\" class=\"plotly-graph-div\" style=\"height:600px; width:600px;\"></div>            <script type=\"text/javascript\">                require([\"plotly\"], function(Plotly) {                    window.PLOTLYENV=window.PLOTLYENV || {};                                    if (document.getElementById(\"e1e4ae37-a8bd-4f1f-8c20-15de38154a65\")) {                    Plotly.newPlot(                        \"e1e4ae37-a8bd-4f1f-8c20-15de38154a65\",                        [{\"hoverinfo\":\"skip\",\"marker\":{\"color\":\"olive\",\"line\":{\"color\":\"black\",\"width\":1}},\"name\":\"Men\",\"orientation\":\"h\",\"x\":[334765288.0,353677898.0,350908323.0,330734289.0,315810689.0,307639362.0,310933348.0,295368359.0,264576185.0,237668148.0,229011272.0,203254223.0,162420898.0,135500657.0,99573175.0,61764493.0,60745503.0],\"y\":[1,6,11,16,21,26,31,36,41,46,51,56,61,66,71,76,81],\"type\":\"bar\"},{\"hoverinfo\":\"skip\",\"marker\":{\"color\":\"purple\",\"line\":{\"color\":\"black\",\"width\":1}},\"name\":\"Women\",\"orientation\":\"h\",\"x\":[-317720103.0,-333286965.0,-328854130.0,-310627065.0,-297607203.0,-290279991.0,-295121795.0,-283877044.0,-257096669.0,-234564251.0,-229951766.0,-208886865.0,-172758277.0,-151572611.0,-118632451.0,-78182123.0,-98504674.0],\"y\":[1,6,11,16,21,26,31,36,41,46,51,56,61,66,71,76,81],\"type\":\"bar\"}],                        {\"barmode\":\"overlay\",\"font\":{\"color\":\"black\",\"family\":\"Arial, sans-serif\",\"size\":14},\"height\":600,\"paper_bgcolor\":\"#f4f4f4\",\"plot_bgcolor\":\"#ffffff\",\"showlegend\":true,\"template\":{\"data\":{\"barpolar\":[{\"marker\":{\"line\":{\"color\":\"#E5ECF6\",\"width\":0.5},\"pattern\":{\"fillmode\":\"overlay\",\"size\":10,\"solidity\":0.2}},\"type\":\"barpolar\"}],\"bar\":[{\"error_x\":{\"color\":\"#2a3f5f\"},\"error_y\":{\"color\":\"#2a3f5f\"},\"marker\":{\"line\":{\"color\":\"#E5ECF6\",\"width\":0.5},\"pattern\":{\"fillmode\":\"overlay\",\"size\":10,\"solidity\":0.2}},\"type\":\"bar\"}],\"carpet\":[{\"aaxis\":{\"endlinecolor\":\"#2a3f5f\",\"gridcolor\":\"white\",\"linecolor\":\"white\",\"minorgridcolor\":\"white\",\"startlinecolor\":\"#2a3f5f\"},\"baxis\":{\"endlinecolor\":\"#2a3f5f\",\"gridcolor\":\"white\",\"linecolor\":\"white\",\"minorgridcolor\":\"white\",\"startlinecolor\":\"#2a3f5f\"},\"type\":\"carpet\"}],\"choropleth\":[{\"colorbar\":{\"outlinewidth\":0,\"ticks\":\"\"},\"type\":\"choropleth\"}],\"contourcarpet\":[{\"colorbar\":{\"outlinewidth\":0,\"ticks\":\"\"},\"type\":\"contourcarpet\"}],\"contour\":[{\"colorbar\":{\"outlinewidth\":0,\"ticks\":\"\"},\"colorscale\":[[0.0,\"#0d0887\"],[0.1111111111111111,\"#46039f\"],[0.2222222222222222,\"#7201a8\"],[0.3333333333333333,\"#9c179e\"],[0.4444444444444444,\"#bd3786\"],[0.5555555555555556,\"#d8576b\"],[0.6666666666666666,\"#ed7953\"],[0.7777777777777778,\"#fb9f3a\"],[0.8888888888888888,\"#fdca26\"],[1.0,\"#f0f921\"]],\"type\":\"contour\"}],\"heatmapgl\":[{\"colorbar\":{\"outlinewidth\":0,\"ticks\":\"\"},\"colorscale\":[[0.0,\"#0d0887\"],[0.1111111111111111,\"#46039f\"],[0.2222222222222222,\"#7201a8\"],[0.3333333333333333,\"#9c179e\"],[0.4444444444444444,\"#bd3786\"],[0.5555555555555556,\"#d8576b\"],[0.6666666666666666,\"#ed7953\"],[0.7777777777777778,\"#fb9f3a\"],[0.8888888888888888,\"#fdca26\"],[1.0,\"#f0f921\"]],\"type\":\"heatmapgl\"}],\"heatmap\":[{\"colorbar\":{\"outlinewidth\":0,\"ticks\":\"\"},\"colorscale\":[[0.0,\"#0d0887\"],[0.1111111111111111,\"#46039f\"],[0.2222222222222222,\"#7201a8\"],[0.3333333333333333,\"#9c179e\"],[0.4444444444444444,\"#bd3786\"],[0.5555555555555556,\"#d8576b\"],[0.6666666666666666,\"#ed7953\"],[0.7777777777777778,\"#fb9f3a\"],[0.8888888888888888,\"#fdca26\"],[1.0,\"#f0f921\"]],\"type\":\"heatmap\"}],\"histogram2dcontour\":[{\"colorbar\":{\"outlinewidth\":0,\"ticks\":\"\"},\"colorscale\":[[0.0,\"#0d0887\"],[0.1111111111111111,\"#46039f\"],[0.2222222222222222,\"#7201a8\"],[0.3333333333333333,\"#9c179e\"],[0.4444444444444444,\"#bd3786\"],[0.5555555555555556,\"#d8576b\"],[0.6666666666666666,\"#ed7953\"],[0.7777777777777778,\"#fb9f3a\"],[0.8888888888888888,\"#fdca26\"],[1.0,\"#f0f921\"]],\"type\":\"histogram2dcontour\"}],\"histogram2d\":[{\"colorbar\":{\"outlinewidth\":0,\"ticks\":\"\"},\"colorscale\":[[0.0,\"#0d0887\"],[0.1111111111111111,\"#46039f\"],[0.2222222222222222,\"#7201a8\"],[0.3333333333333333,\"#9c179e\"],[0.4444444444444444,\"#bd3786\"],[0.5555555555555556,\"#d8576b\"],[0.6666666666666666,\"#ed7953\"],[0.7777777777777778,\"#fb9f3a\"],[0.8888888888888888,\"#fdca26\"],[1.0,\"#f0f921\"]],\"type\":\"histogram2d\"}],\"histogram\":[{\"marker\":{\"pattern\":{\"fillmode\":\"overlay\",\"size\":10,\"solidity\":0.2}},\"type\":\"histogram\"}],\"mesh3d\":[{\"colorbar\":{\"outlinewidth\":0,\"ticks\":\"\"},\"type\":\"mesh3d\"}],\"parcoords\":[{\"line\":{\"colorbar\":{\"outlinewidth\":0,\"ticks\":\"\"}},\"type\":\"parcoords\"}],\"pie\":[{\"automargin\":true,\"type\":\"pie\"}],\"scatter3d\":[{\"line\":{\"colorbar\":{\"outlinewidth\":0,\"ticks\":\"\"}},\"marker\":{\"colorbar\":{\"outlinewidth\":0,\"ticks\":\"\"}},\"type\":\"scatter3d\"}],\"scattercarpet\":[{\"marker\":{\"colorbar\":{\"outlinewidth\":0,\"ticks\":\"\"}},\"type\":\"scattercarpet\"}],\"scattergeo\":[{\"marker\":{\"colorbar\":{\"outlinewidth\":0,\"ticks\":\"\"}},\"type\":\"scattergeo\"}],\"scattergl\":[{\"marker\":{\"colorbar\":{\"outlinewidth\":0,\"ticks\":\"\"}},\"type\":\"scattergl\"}],\"scattermapbox\":[{\"marker\":{\"colorbar\":{\"outlinewidth\":0,\"ticks\":\"\"}},\"type\":\"scattermapbox\"}],\"scatterpolargl\":[{\"marker\":{\"colorbar\":{\"outlinewidth\":0,\"ticks\":\"\"}},\"type\":\"scatterpolargl\"}],\"scatterpolar\":[{\"marker\":{\"colorbar\":{\"outlinewidth\":0,\"ticks\":\"\"}},\"type\":\"scatterpolar\"}],\"scatter\":[{\"fillpattern\":{\"fillmode\":\"overlay\",\"size\":10,\"solidity\":0.2},\"type\":\"scatter\"}],\"scatterternary\":[{\"marker\":{\"colorbar\":{\"outlinewidth\":0,\"ticks\":\"\"}},\"type\":\"scatterternary\"}],\"surface\":[{\"colorbar\":{\"outlinewidth\":0,\"ticks\":\"\"},\"colorscale\":[[0.0,\"#0d0887\"],[0.1111111111111111,\"#46039f\"],[0.2222222222222222,\"#7201a8\"],[0.3333333333333333,\"#9c179e\"],[0.4444444444444444,\"#bd3786\"],[0.5555555555555556,\"#d8576b\"],[0.6666666666666666,\"#ed7953\"],[0.7777777777777778,\"#fb9f3a\"],[0.8888888888888888,\"#fdca26\"],[1.0,\"#f0f921\"]],\"type\":\"surface\"}],\"table\":[{\"cells\":{\"fill\":{\"color\":\"#EBF0F8\"},\"line\":{\"color\":\"white\"}},\"header\":{\"fill\":{\"color\":\"#C8D4E3\"},\"line\":{\"color\":\"white\"}},\"type\":\"table\"}]},\"layout\":{\"annotationdefaults\":{\"arrowcolor\":\"#2a3f5f\",\"arrowhead\":0,\"arrowwidth\":1},\"autotypenumbers\":\"strict\",\"coloraxis\":{\"colorbar\":{\"outlinewidth\":0,\"ticks\":\"\"}},\"colorscale\":{\"diverging\":[[0,\"#8e0152\"],[0.1,\"#c51b7d\"],[0.2,\"#de77ae\"],[0.3,\"#f1b6da\"],[0.4,\"#fde0ef\"],[0.5,\"#f7f7f7\"],[0.6,\"#e6f5d0\"],[0.7,\"#b8e186\"],[0.8,\"#7fbc41\"],[0.9,\"#4d9221\"],[1,\"#276419\"]],\"sequential\":[[0.0,\"#0d0887\"],[0.1111111111111111,\"#46039f\"],[0.2222222222222222,\"#7201a8\"],[0.3333333333333333,\"#9c179e\"],[0.4444444444444444,\"#bd3786\"],[0.5555555555555556,\"#d8576b\"],[0.6666666666666666,\"#ed7953\"],[0.7777777777777778,\"#fb9f3a\"],[0.8888888888888888,\"#fdca26\"],[1.0,\"#f0f921\"]],\"sequentialminus\":[[0.0,\"#0d0887\"],[0.1111111111111111,\"#46039f\"],[0.2222222222222222,\"#7201a8\"],[0.3333333333333333,\"#9c179e\"],[0.4444444444444444,\"#bd3786\"],[0.5555555555555556,\"#d8576b\"],[0.6666666666666666,\"#ed7953\"],[0.7777777777777778,\"#fb9f3a\"],[0.8888888888888888,\"#fdca26\"],[1.0,\"#f0f921\"]]},\"colorway\":[\"#636efa\",\"#EF553B\",\"#00cc96\",\"#ab63fa\",\"#FFA15A\",\"#19d3f3\",\"#FF6692\",\"#B6E880\",\"#FF97FF\",\"#FECB52\"],\"font\":{\"color\":\"#2a3f5f\"},\"geo\":{\"bgcolor\":\"white\",\"lakecolor\":\"white\",\"landcolor\":\"#E5ECF6\",\"showlakes\":true,\"showland\":true,\"subunitcolor\":\"white\"},\"hoverlabel\":{\"align\":\"left\"},\"hovermode\":\"closest\",\"mapbox\":{\"style\":\"light\"},\"paper_bgcolor\":\"white\",\"plot_bgcolor\":\"#E5ECF6\",\"polar\":{\"angularaxis\":{\"gridcolor\":\"white\",\"linecolor\":\"white\",\"ticks\":\"\"},\"bgcolor\":\"#E5ECF6\",\"radialaxis\":{\"gridcolor\":\"white\",\"linecolor\":\"white\",\"ticks\":\"\"}},\"scene\":{\"xaxis\":{\"backgroundcolor\":\"#E5ECF6\",\"gridcolor\":\"white\",\"gridwidth\":2,\"linecolor\":\"white\",\"showbackground\":true,\"ticks\":\"\",\"zerolinecolor\":\"white\"},\"yaxis\":{\"backgroundcolor\":\"#E5ECF6\",\"gridcolor\":\"white\",\"gridwidth\":2,\"linecolor\":\"white\",\"showbackground\":true,\"ticks\":\"\",\"zerolinecolor\":\"white\"},\"zaxis\":{\"backgroundcolor\":\"#E5ECF6\",\"gridcolor\":\"white\",\"gridwidth\":2,\"linecolor\":\"white\",\"showbackground\":true,\"ticks\":\"\",\"zerolinecolor\":\"white\"}},\"shapedefaults\":{\"line\":{\"color\":\"#2a3f5f\"}},\"ternary\":{\"aaxis\":{\"gridcolor\":\"white\",\"linecolor\":\"white\",\"ticks\":\"\"},\"baxis\":{\"gridcolor\":\"white\",\"linecolor\":\"white\",\"ticks\":\"\"},\"bgcolor\":\"#E5ECF6\",\"caxis\":{\"gridcolor\":\"white\",\"linecolor\":\"white\",\"ticks\":\"\"}},\"title\":{\"x\":0.05},\"xaxis\":{\"automargin\":true,\"gridcolor\":\"white\",\"linecolor\":\"white\",\"ticks\":\"\",\"title\":{\"standoff\":15},\"zerolinecolor\":\"white\",\"zerolinewidth\":2},\"yaxis\":{\"automargin\":true,\"gridcolor\":\"white\",\"linecolor\":\"white\",\"ticks\":\"\",\"title\":{\"standoff\":15},\"zerolinecolor\":\"white\",\"zerolinewidth\":2}}},\"title\":{\"font\":{\"color\":\"black\",\"size\":18},\"text\":\"World Population Pyramid (2023)\"},\"width\":600,\"xaxis\":{\"gridcolor\":\"lightgray\",\"tickfont\":{\"size\":12},\"title\":{\"font\":{\"size\":16},\"text\":\"Number of People\"}},\"yaxis\":{\"gridcolor\":\"lightgray\",\"range\":[0,90],\"tickfont\":{\"size\":12},\"title\":{\"font\":{\"size\":16},\"text\":\"Age\"}}},                        {\"responsive\": true}                    ).then(function(){\n",
       "                            \n",
       "var gd = document.getElementById('e1e4ae37-a8bd-4f1f-8c20-15de38154a65');\n",
       "var x = new MutationObserver(function (mutations, observer) {{\n",
       "        var display = window.getComputedStyle(gd).display;\n",
       "        if (!display || display === 'none') {{\n",
       "            console.log([gd, 'removed!']);\n",
       "            Plotly.purge(gd);\n",
       "            observer.disconnect();\n",
       "        }}\n",
       "}});\n",
       "\n",
       "// Listen for the removal of the full notebook cells\n",
       "var notebookContainer = gd.closest('#notebook-container');\n",
       "if (notebookContainer) {{\n",
       "    x.observe(notebookContainer, {childList: true});\n",
       "}}\n",
       "\n",
       "// Listen for the clearing of the current output cell\n",
       "var outputEl = gd.closest('.output');\n",
       "if (outputEl) {{\n",
       "    x.observe(outputEl, {childList: true});\n",
       "}}\n",
       "\n",
       "                        })                };                });            </script>        </div>"
      ]
     },
     "metadata": {},
     "output_type": "display_data"
    }
   ],
   "source": [
    "# Creating a population pyramid of the world\n",
    "py.init_notebook_mode(connected=True)\n",
    "\n",
    "layout_world1 = go.Layout(\n",
    "    title=\"World Population Pyramid (2023)\",\n",
    "    title_font=dict(size=18, color='black'),\n",
    "    barmode='overlay',\n",
    "    width=600,\n",
    "    height=600,\n",
    "    paper_bgcolor='#f4f4f4',\n",
    "    plot_bgcolor='#ffffff',\n",
    "    font=dict(family=\"Arial, sans-serif\", size=14, color=\"black\"),\n",
    "    xaxis=dict(\n",
    "        title='Number of People',\n",
    "        title_font=dict(size=16),\n",
    "        tickfont=dict(size=12),\n",
    "        gridcolor='lightgray'\n",
    "    ),\n",
    "    yaxis=dict(\n",
    "        range=[0, 90],\n",
    "        title='Age',\n",
    "        title_font=dict(size=16),\n",
    "        tickfont=dict(size=12),\n",
    "        gridcolor='lightgray'\n",
    "    ),\n",
    "    showlegend=True\n",
    ")\n",
    "\n",
    "bins_world1 = [go.Bar(x = world.loc[str(2023),:].filter(regex=\"Male\").values,\n",
    "               y = [int(s[:2])+1 for s in ages],\n",
    "               orientation='h',\n",
    "               name='Men',\n",
    "               marker=dict(color='olive', line=dict(color='black', width=1)),\n",
    "               hoverinfo='skip'\n",
    "               ),\n",
    "\n",
    "        go.Bar(x = -world.loc[str(2023),:].filter(regex=\"Female\").values,\n",
    "               y=[int(s[:2])+1 for s in ages],\n",
    "               orientation='h',\n",
    "               name='Women',\n",
    "               marker=dict(color='purple', line=dict(color='black', width=1)),\n",
    "               hoverinfo='skip',\n",
    "               )\n",
    "        ]\n",
    "\n",
    "py.iplot(dict(data=bins_world1, layout=layout_world1))"
   ]
  },
  {
   "cell_type": "code",
   "execution_count": 13,
   "id": "7dbf9b51-5dbf-44d2-9710-0d38221e69d3",
   "metadata": {},
   "outputs": [
    {
     "data": {
      "application/vnd.plotly.v1+json": {
       "config": {
        "plotlyServerURL": "https://plot.ly"
       },
       "data": [
        {
         "hoverinfo": "skip",
         "marker": {
          "color": "olive",
          "line": {
           "color": "black",
           "width": 1
          }
         },
         "name": "Men",
         "orientation": "h",
         "type": "bar",
         "x": [
          268170523,
          235015889,
          206041424,
          186355585,
          152429287,
          124895333,
          119618199,
          108244614,
          98559412,
          82864207,
          66253436,
          60402532,
          49398168,
          36396119,
          23374568,
          13045234,
          8979539
         ],
         "y": [
          1,
          6,
          11,
          16,
          21,
          26,
          31,
          36,
          41,
          46,
          51,
          56,
          61,
          66,
          71,
          76,
          81,
          85
         ]
        },
        {
         "hoverinfo": "skip",
         "marker": {
          "color": "purple",
          "line": {
           "color": "black",
           "width": 1
          }
         },
         "name": "Women",
         "orientation": "h",
         "type": "bar",
         "x": [
          -256927025,
          -225057027,
          -197507610,
          -179796861,
          -147420912,
          -121008410,
          -116111782,
          -105670376,
          -97832255,
          -86471694,
          -70188304,
          -66883271,
          -57131229,
          -44978528,
          -31810229,
          -19799405,
          -15949054
         ],
         "y": [
          1,
          6,
          11,
          16,
          21,
          26,
          31,
          36,
          41,
          46,
          51,
          56,
          61,
          66,
          71,
          76,
          81,
          85
         ]
        }
       ],
       "frames": [
        {
         "data": [
          {
           "hoverinfo": "skip",
           "marker": {
            "color": "olive",
            "line": {
             "color": "black",
             "width": 1
            }
           },
           "name": "Men",
           "orientation": "h",
           "type": "bar",
           "x": [
            268170523,
            235015889,
            206041424,
            186355585,
            152429287,
            124895333,
            119618199,
            108244614,
            98559412,
            82864207,
            66253436,
            60402532,
            49398168,
            36396119,
            23374568,
            13045234,
            8979539
           ],
           "y": [
            1,
            6,
            11,
            16,
            21,
            26,
            31,
            36,
            41,
            46,
            51,
            56,
            61,
            66,
            71,
            76,
            81,
            85
           ]
          },
          {
           "hoverinfo": "skip",
           "marker": {
            "color": "purple",
            "line": {
             "color": "black",
             "width": 1
            }
           },
           "name": "Women",
           "orientation": "h",
           "type": "bar",
           "x": [
            -256927025,
            -225057027,
            -197507610,
            -179796861,
            -147420912,
            -121008410,
            -116111782,
            -105670376,
            -97832255,
            -86471694,
            -70188304,
            -66883271,
            -57131229,
            -44978528,
            -31810229,
            -19799405,
            -15949054
           ],
           "y": [
            1,
            6,
            11,
            16,
            21,
            26,
            31,
            36,
            41,
            46,
            51,
            56,
            61,
            66,
            71,
            76,
            81,
            85
           ]
          }
         ],
         "name": "1970"
        },
        {
         "data": [
          {
           "hoverinfo": "skip",
           "marker": {
            "color": "olive",
            "line": {
             "color": "black",
             "width": 1
            }
           },
           "name": "Men",
           "orientation": "h",
           "type": "bar",
           "x": [
            281880870,
            269616912,
            254111043,
            229563532,
            200843422,
            180833628,
            147679196,
            120100703,
            113555987,
            100883136,
            89593360,
            72597497,
            54424375,
            45068612,
            31553313,
            18503609,
            12239388
           ],
           "y": [
            1,
            6,
            11,
            16,
            21,
            26,
            31,
            36,
            41,
            46,
            51,
            56,
            61,
            66,
            71,
            76,
            81,
            85
           ]
          },
          {
           "hoverinfo": "skip",
           "marker": {
            "color": "purple",
            "line": {
             "color": "black",
             "width": 1
            }
           },
           "name": "Women",
           "orientation": "h",
           "type": "bar",
           "x": [
            -268851292,
            -257422618,
            -243111049,
            -220280243,
            -193858727,
            -175902582,
            -143297703,
            -116691253,
            -111205808,
            -100253460,
            -91762037,
            -79583041,
            -61990653,
            -55646201,
            -42810055,
            -28441422,
            -23445475
           ],
           "y": [
            1,
            6,
            11,
            16,
            21,
            26,
            31,
            36,
            41,
            46,
            51,
            56,
            61,
            66,
            71,
            76,
            81,
            85
           ]
          }
         ],
         "name": "1980"
        },
        {
         "data": [
          {
           "hoverinfo": "skip",
           "marker": {
            "color": "olive",
            "line": {
             "color": "black",
             "width": 1
            }
           },
           "name": "Men",
           "orientation": "h",
           "type": "bar",
           "x": [
            331119722,
            297919636,
            268966779,
            263217926,
            247665798,
            223274703,
            195179031,
            175059458,
            141567937,
            113404787,
            104365353,
            89445587,
            74998133,
            55570668,
            36156032,
            24346216,
            18124300
           ],
           "y": [
            1,
            6,
            11,
            16,
            21,
            26,
            31,
            36,
            41,
            46,
            51,
            56,
            61,
            66,
            71,
            76,
            81,
            85
           ]
          },
          {
           "hoverinfo": "skip",
           "marker": {
            "color": "purple",
            "line": {
             "color": "black",
             "width": 1
            }
           },
           "name": "Women",
           "orientation": "h",
           "type": "bar",
           "x": [
            -313092291,
            -283103801,
            -256446150,
            -252152335,
            -238453269,
            -216240673,
            -189837436,
            -171382787,
            -138570715,
            -111853071,
            -105146140,
            -92830069,
            -82129869,
            -67153519,
            -47499103,
            -36948115,
            -36025043
           ],
           "y": [
            1,
            6,
            11,
            16,
            21,
            26,
            31,
            36,
            41,
            46,
            51,
            56,
            61,
            66,
            71,
            76,
            81,
            85
           ]
          }
         ],
         "name": "1990"
        },
        {
         "data": [
          {
           "hoverinfo": "skip",
           "marker": {
            "color": "olive",
            "line": {
             "color": "black",
             "width": 1
            }
           },
           "name": "Men",
           "orientation": "h",
           "type": "bar",
           "x": [
            323242397,
            319575048,
            322416810,
            295149165,
            264345745,
            256111683,
            240792377,
            217026800,
            188272543,
            166466275,
            131771282,
            102086084,
            89361676,
            70844762,
            52502740,
            32593816,
            24774935
           ],
           "y": [
            1,
            6,
            11,
            16,
            21,
            26,
            31,
            36,
            41,
            46,
            51,
            56,
            61,
            66,
            71,
            76,
            81,
            85
           ]
          },
          {
           "hoverinfo": "skip",
           "marker": {
            "color": "purple",
            "line": {
             "color": "black",
             "width": 1
            }
           },
           "name": "Women",
           "orientation": "h",
           "type": "bar",
           "x": [
            -302551531,
            -300003539,
            -304621551,
            -281165810,
            -254225496,
            -248472955,
            -234682250,
            -212493612,
            -185657119,
            -166279805,
            -132788210,
            -105065508,
            -96068142,
            -80548308,
            -65450952,
            -46963531,
            -47512404
           ],
           "y": [
            1,
            6,
            11,
            16,
            21,
            26,
            31,
            36,
            41,
            46,
            51,
            56,
            61,
            66,
            71,
            76,
            81,
            85
           ]
          }
         ],
         "name": "2000"
        },
        {
         "data": [
          {
           "hoverinfo": "skip",
           "marker": {
            "color": "olive",
            "line": {
             "color": "black",
             "width": 1
            }
           },
           "name": "Men",
           "orientation": "h",
           "type": "bar",
           "x": [
            345490124,
            325604745,
            315924285,
            315874190,
            316229271,
            287046034,
            256528734,
            248219860,
            232104841,
            206438135,
            175051539,
            150923620,
            114909622,
            83135699,
            65137476,
            44190945,
            39579879
           ],
           "y": [
            1,
            6,
            11,
            16,
            21,
            26,
            31,
            36,
            41,
            46,
            51,
            56,
            61,
            66,
            71,
            76,
            81,
            85
           ]
          },
          {
           "hoverinfo": "skip",
           "marker": {
            "color": "purple",
            "line": {
             "color": "black",
             "width": 1
            }
           },
           "name": "Women",
           "orientation": "h",
           "type": "bar",
           "x": [
            -323431762,
            -304517119,
            -295382357,
            -296927385,
            -300222059,
            -275437688,
            -248681827,
            -242804958,
            -228794746,
            -205870753,
            -177890614,
            -157300429,
            -122537320,
            -92479736,
            -78514104,
            -58536636,
            -68952756
           ],
           "y": [
            1,
            6,
            11,
            16,
            21,
            26,
            31,
            36,
            41,
            46,
            51,
            56,
            61,
            66,
            71,
            76,
            81,
            85
           ]
          }
         ],
         "name": "2010"
        },
        {
         "data": [
          {
           "hoverinfo": "skip",
           "marker": {
            "color": "olive",
            "line": {
             "color": "black",
             "width": 1
            }
           },
           "name": "Men",
           "orientation": "h",
           "type": "bar",
           "x": [
            350515471,
            355003268,
            340399749,
            322082499,
            311226388,
            309641234,
            309357029,
            279781371,
            248255758,
            238154909,
            219307981,
            189959120,
            154564673,
            125884632,
            87855497,
            55019059,
            56756917
           ],
           "y": [
            1,
            6,
            11,
            16,
            21,
            26,
            31,
            36,
            41,
            46,
            51,
            56,
            61,
            66,
            71,
            76,
            81,
            85
           ]
          },
          {
           "hoverinfo": "skip",
           "marker": {
            "color": "purple",
            "line": {
             "color": "black",
             "width": 1
            }
           },
           "name": "Women",
           "orientation": "h",
           "type": "bar",
           "x": [
            -331072104,
            -333282669,
            -318975287,
            -302489242,
            -292770535,
            -292492131,
            -294687536,
            -269789622,
            -242241330,
            -235726796,
            -220639805,
            -195511933,
            -165052444,
            -141232037,
            -103450405,
            -70038474,
            -92920892
           ],
           "y": [
            1,
            6,
            11,
            16,
            21,
            26,
            31,
            36,
            41,
            46,
            51,
            56,
            61,
            66,
            71,
            76,
            81,
            85
           ]
          }
         ],
         "name": "2020"
        }
       ],
       "layout": {
        "barmode": "overlay",
        "font": {
         "color": "black",
         "family": "Arial, sans-serif",
         "size": 14
        },
        "height": 600,
        "paper_bgcolor": "#f4f4f4",
        "plot_bgcolor": "#ffffff",
        "showlegend": true,
        "sliders": [
         {
          "currentvalue": {
           "font": {
            "size": 16
           },
           "prefix": "Year: "
          },
          "steps": [
           {
            "args": [
             [
              "1970"
             ],
             {
              "frame": {
               "duration": 0,
               "redraw": true
              },
              "mode": "immediate"
             }
            ],
            "label": "1970",
            "method": "animate"
           },
           {
            "args": [
             [
              "1980"
             ],
             {
              "frame": {
               "duration": 0,
               "redraw": true
              },
              "mode": "immediate"
             }
            ],
            "label": "1980",
            "method": "animate"
           },
           {
            "args": [
             [
              "1990"
             ],
             {
              "frame": {
               "duration": 0,
               "redraw": true
              },
              "mode": "immediate"
             }
            ],
            "label": "1990",
            "method": "animate"
           },
           {
            "args": [
             [
              "2000"
             ],
             {
              "frame": {
               "duration": 0,
               "redraw": true
              },
              "mode": "immediate"
             }
            ],
            "label": "2000",
            "method": "animate"
           },
           {
            "args": [
             [
              "2010"
             ],
             {
              "frame": {
               "duration": 0,
               "redraw": true
              },
              "mode": "immediate"
             }
            ],
            "label": "2010",
            "method": "animate"
           },
           {
            "args": [
             [
              "2020"
             ],
             {
              "frame": {
               "duration": 0,
               "redraw": true
              },
              "mode": "immediate"
             }
            ],
            "label": "2020",
            "method": "animate"
           }
          ]
         }
        ],
        "template": {
         "data": {
          "bar": [
           {
            "error_x": {
             "color": "#2a3f5f"
            },
            "error_y": {
             "color": "#2a3f5f"
            },
            "marker": {
             "line": {
              "color": "#E5ECF6",
              "width": 0.5
             },
             "pattern": {
              "fillmode": "overlay",
              "size": 10,
              "solidity": 0.2
             }
            },
            "type": "bar"
           }
          ],
          "barpolar": [
           {
            "marker": {
             "line": {
              "color": "#E5ECF6",
              "width": 0.5
             },
             "pattern": {
              "fillmode": "overlay",
              "size": 10,
              "solidity": 0.2
             }
            },
            "type": "barpolar"
           }
          ],
          "carpet": [
           {
            "aaxis": {
             "endlinecolor": "#2a3f5f",
             "gridcolor": "white",
             "linecolor": "white",
             "minorgridcolor": "white",
             "startlinecolor": "#2a3f5f"
            },
            "baxis": {
             "endlinecolor": "#2a3f5f",
             "gridcolor": "white",
             "linecolor": "white",
             "minorgridcolor": "white",
             "startlinecolor": "#2a3f5f"
            },
            "type": "carpet"
           }
          ],
          "choropleth": [
           {
            "colorbar": {
             "outlinewidth": 0,
             "ticks": ""
            },
            "type": "choropleth"
           }
          ],
          "contour": [
           {
            "colorbar": {
             "outlinewidth": 0,
             "ticks": ""
            },
            "colorscale": [
             [
              0,
              "#0d0887"
             ],
             [
              0.1111111111111111,
              "#46039f"
             ],
             [
              0.2222222222222222,
              "#7201a8"
             ],
             [
              0.3333333333333333,
              "#9c179e"
             ],
             [
              0.4444444444444444,
              "#bd3786"
             ],
             [
              0.5555555555555556,
              "#d8576b"
             ],
             [
              0.6666666666666666,
              "#ed7953"
             ],
             [
              0.7777777777777778,
              "#fb9f3a"
             ],
             [
              0.8888888888888888,
              "#fdca26"
             ],
             [
              1,
              "#f0f921"
             ]
            ],
            "type": "contour"
           }
          ],
          "contourcarpet": [
           {
            "colorbar": {
             "outlinewidth": 0,
             "ticks": ""
            },
            "type": "contourcarpet"
           }
          ],
          "heatmap": [
           {
            "colorbar": {
             "outlinewidth": 0,
             "ticks": ""
            },
            "colorscale": [
             [
              0,
              "#0d0887"
             ],
             [
              0.1111111111111111,
              "#46039f"
             ],
             [
              0.2222222222222222,
              "#7201a8"
             ],
             [
              0.3333333333333333,
              "#9c179e"
             ],
             [
              0.4444444444444444,
              "#bd3786"
             ],
             [
              0.5555555555555556,
              "#d8576b"
             ],
             [
              0.6666666666666666,
              "#ed7953"
             ],
             [
              0.7777777777777778,
              "#fb9f3a"
             ],
             [
              0.8888888888888888,
              "#fdca26"
             ],
             [
              1,
              "#f0f921"
             ]
            ],
            "type": "heatmap"
           }
          ],
          "heatmapgl": [
           {
            "colorbar": {
             "outlinewidth": 0,
             "ticks": ""
            },
            "colorscale": [
             [
              0,
              "#0d0887"
             ],
             [
              0.1111111111111111,
              "#46039f"
             ],
             [
              0.2222222222222222,
              "#7201a8"
             ],
             [
              0.3333333333333333,
              "#9c179e"
             ],
             [
              0.4444444444444444,
              "#bd3786"
             ],
             [
              0.5555555555555556,
              "#d8576b"
             ],
             [
              0.6666666666666666,
              "#ed7953"
             ],
             [
              0.7777777777777778,
              "#fb9f3a"
             ],
             [
              0.8888888888888888,
              "#fdca26"
             ],
             [
              1,
              "#f0f921"
             ]
            ],
            "type": "heatmapgl"
           }
          ],
          "histogram": [
           {
            "marker": {
             "pattern": {
              "fillmode": "overlay",
              "size": 10,
              "solidity": 0.2
             }
            },
            "type": "histogram"
           }
          ],
          "histogram2d": [
           {
            "colorbar": {
             "outlinewidth": 0,
             "ticks": ""
            },
            "colorscale": [
             [
              0,
              "#0d0887"
             ],
             [
              0.1111111111111111,
              "#46039f"
             ],
             [
              0.2222222222222222,
              "#7201a8"
             ],
             [
              0.3333333333333333,
              "#9c179e"
             ],
             [
              0.4444444444444444,
              "#bd3786"
             ],
             [
              0.5555555555555556,
              "#d8576b"
             ],
             [
              0.6666666666666666,
              "#ed7953"
             ],
             [
              0.7777777777777778,
              "#fb9f3a"
             ],
             [
              0.8888888888888888,
              "#fdca26"
             ],
             [
              1,
              "#f0f921"
             ]
            ],
            "type": "histogram2d"
           }
          ],
          "histogram2dcontour": [
           {
            "colorbar": {
             "outlinewidth": 0,
             "ticks": ""
            },
            "colorscale": [
             [
              0,
              "#0d0887"
             ],
             [
              0.1111111111111111,
              "#46039f"
             ],
             [
              0.2222222222222222,
              "#7201a8"
             ],
             [
              0.3333333333333333,
              "#9c179e"
             ],
             [
              0.4444444444444444,
              "#bd3786"
             ],
             [
              0.5555555555555556,
              "#d8576b"
             ],
             [
              0.6666666666666666,
              "#ed7953"
             ],
             [
              0.7777777777777778,
              "#fb9f3a"
             ],
             [
              0.8888888888888888,
              "#fdca26"
             ],
             [
              1,
              "#f0f921"
             ]
            ],
            "type": "histogram2dcontour"
           }
          ],
          "mesh3d": [
           {
            "colorbar": {
             "outlinewidth": 0,
             "ticks": ""
            },
            "type": "mesh3d"
           }
          ],
          "parcoords": [
           {
            "line": {
             "colorbar": {
              "outlinewidth": 0,
              "ticks": ""
             }
            },
            "type": "parcoords"
           }
          ],
          "pie": [
           {
            "automargin": true,
            "type": "pie"
           }
          ],
          "scatter": [
           {
            "fillpattern": {
             "fillmode": "overlay",
             "size": 10,
             "solidity": 0.2
            },
            "type": "scatter"
           }
          ],
          "scatter3d": [
           {
            "line": {
             "colorbar": {
              "outlinewidth": 0,
              "ticks": ""
             }
            },
            "marker": {
             "colorbar": {
              "outlinewidth": 0,
              "ticks": ""
             }
            },
            "type": "scatter3d"
           }
          ],
          "scattercarpet": [
           {
            "marker": {
             "colorbar": {
              "outlinewidth": 0,
              "ticks": ""
             }
            },
            "type": "scattercarpet"
           }
          ],
          "scattergeo": [
           {
            "marker": {
             "colorbar": {
              "outlinewidth": 0,
              "ticks": ""
             }
            },
            "type": "scattergeo"
           }
          ],
          "scattergl": [
           {
            "marker": {
             "colorbar": {
              "outlinewidth": 0,
              "ticks": ""
             }
            },
            "type": "scattergl"
           }
          ],
          "scattermapbox": [
           {
            "marker": {
             "colorbar": {
              "outlinewidth": 0,
              "ticks": ""
             }
            },
            "type": "scattermapbox"
           }
          ],
          "scatterpolar": [
           {
            "marker": {
             "colorbar": {
              "outlinewidth": 0,
              "ticks": ""
             }
            },
            "type": "scatterpolar"
           }
          ],
          "scatterpolargl": [
           {
            "marker": {
             "colorbar": {
              "outlinewidth": 0,
              "ticks": ""
             }
            },
            "type": "scatterpolargl"
           }
          ],
          "scatterternary": [
           {
            "marker": {
             "colorbar": {
              "outlinewidth": 0,
              "ticks": ""
             }
            },
            "type": "scatterternary"
           }
          ],
          "surface": [
           {
            "colorbar": {
             "outlinewidth": 0,
             "ticks": ""
            },
            "colorscale": [
             [
              0,
              "#0d0887"
             ],
             [
              0.1111111111111111,
              "#46039f"
             ],
             [
              0.2222222222222222,
              "#7201a8"
             ],
             [
              0.3333333333333333,
              "#9c179e"
             ],
             [
              0.4444444444444444,
              "#bd3786"
             ],
             [
              0.5555555555555556,
              "#d8576b"
             ],
             [
              0.6666666666666666,
              "#ed7953"
             ],
             [
              0.7777777777777778,
              "#fb9f3a"
             ],
             [
              0.8888888888888888,
              "#fdca26"
             ],
             [
              1,
              "#f0f921"
             ]
            ],
            "type": "surface"
           }
          ],
          "table": [
           {
            "cells": {
             "fill": {
              "color": "#EBF0F8"
             },
             "line": {
              "color": "white"
             }
            },
            "header": {
             "fill": {
              "color": "#C8D4E3"
             },
             "line": {
              "color": "white"
             }
            },
            "type": "table"
           }
          ]
         },
         "layout": {
          "annotationdefaults": {
           "arrowcolor": "#2a3f5f",
           "arrowhead": 0,
           "arrowwidth": 1
          },
          "autotypenumbers": "strict",
          "coloraxis": {
           "colorbar": {
            "outlinewidth": 0,
            "ticks": ""
           }
          },
          "colorscale": {
           "diverging": [
            [
             0,
             "#8e0152"
            ],
            [
             0.1,
             "#c51b7d"
            ],
            [
             0.2,
             "#de77ae"
            ],
            [
             0.3,
             "#f1b6da"
            ],
            [
             0.4,
             "#fde0ef"
            ],
            [
             0.5,
             "#f7f7f7"
            ],
            [
             0.6,
             "#e6f5d0"
            ],
            [
             0.7,
             "#b8e186"
            ],
            [
             0.8,
             "#7fbc41"
            ],
            [
             0.9,
             "#4d9221"
            ],
            [
             1,
             "#276419"
            ]
           ],
           "sequential": [
            [
             0,
             "#0d0887"
            ],
            [
             0.1111111111111111,
             "#46039f"
            ],
            [
             0.2222222222222222,
             "#7201a8"
            ],
            [
             0.3333333333333333,
             "#9c179e"
            ],
            [
             0.4444444444444444,
             "#bd3786"
            ],
            [
             0.5555555555555556,
             "#d8576b"
            ],
            [
             0.6666666666666666,
             "#ed7953"
            ],
            [
             0.7777777777777778,
             "#fb9f3a"
            ],
            [
             0.8888888888888888,
             "#fdca26"
            ],
            [
             1,
             "#f0f921"
            ]
           ],
           "sequentialminus": [
            [
             0,
             "#0d0887"
            ],
            [
             0.1111111111111111,
             "#46039f"
            ],
            [
             0.2222222222222222,
             "#7201a8"
            ],
            [
             0.3333333333333333,
             "#9c179e"
            ],
            [
             0.4444444444444444,
             "#bd3786"
            ],
            [
             0.5555555555555556,
             "#d8576b"
            ],
            [
             0.6666666666666666,
             "#ed7953"
            ],
            [
             0.7777777777777778,
             "#fb9f3a"
            ],
            [
             0.8888888888888888,
             "#fdca26"
            ],
            [
             1,
             "#f0f921"
            ]
           ]
          },
          "colorway": [
           "#636efa",
           "#EF553B",
           "#00cc96",
           "#ab63fa",
           "#FFA15A",
           "#19d3f3",
           "#FF6692",
           "#B6E880",
           "#FF97FF",
           "#FECB52"
          ],
          "font": {
           "color": "#2a3f5f"
          },
          "geo": {
           "bgcolor": "white",
           "lakecolor": "white",
           "landcolor": "#E5ECF6",
           "showlakes": true,
           "showland": true,
           "subunitcolor": "white"
          },
          "hoverlabel": {
           "align": "left"
          },
          "hovermode": "closest",
          "mapbox": {
           "style": "light"
          },
          "paper_bgcolor": "white",
          "plot_bgcolor": "#E5ECF6",
          "polar": {
           "angularaxis": {
            "gridcolor": "white",
            "linecolor": "white",
            "ticks": ""
           },
           "bgcolor": "#E5ECF6",
           "radialaxis": {
            "gridcolor": "white",
            "linecolor": "white",
            "ticks": ""
           }
          },
          "scene": {
           "xaxis": {
            "backgroundcolor": "#E5ECF6",
            "gridcolor": "white",
            "gridwidth": 2,
            "linecolor": "white",
            "showbackground": true,
            "ticks": "",
            "zerolinecolor": "white"
           },
           "yaxis": {
            "backgroundcolor": "#E5ECF6",
            "gridcolor": "white",
            "gridwidth": 2,
            "linecolor": "white",
            "showbackground": true,
            "ticks": "",
            "zerolinecolor": "white"
           },
           "zaxis": {
            "backgroundcolor": "#E5ECF6",
            "gridcolor": "white",
            "gridwidth": 2,
            "linecolor": "white",
            "showbackground": true,
            "ticks": "",
            "zerolinecolor": "white"
           }
          },
          "shapedefaults": {
           "line": {
            "color": "#2a3f5f"
           }
          },
          "ternary": {
           "aaxis": {
            "gridcolor": "white",
            "linecolor": "white",
            "ticks": ""
           },
           "baxis": {
            "gridcolor": "white",
            "linecolor": "white",
            "ticks": ""
           },
           "bgcolor": "#E5ECF6",
           "caxis": {
            "gridcolor": "white",
            "linecolor": "white",
            "ticks": ""
           }
          },
          "title": {
           "x": 0.05
          },
          "xaxis": {
           "automargin": true,
           "gridcolor": "white",
           "linecolor": "white",
           "ticks": "",
           "title": {
            "standoff": 15
           },
           "zerolinecolor": "white",
           "zerolinewidth": 2
          },
          "yaxis": {
           "automargin": true,
           "gridcolor": "white",
           "linecolor": "white",
           "ticks": "",
           "title": {
            "standoff": 15
           },
           "zerolinecolor": "white",
           "zerolinewidth": 2
          }
         }
        },
        "title": {
         "text": "Animated World Population Pyramid (1970-2020)"
        },
        "updatemenus": [
         {
          "buttons": [
           {
            "args": [
             null,
             {
              "frame": {
               "duration": 1000,
               "redraw": true
              },
              "fromcurrent": true
             }
            ],
            "label": "Play",
            "method": "animate"
           },
           {
            "args": [
             [
              null
             ],
             {
              "frame": {
               "duration": 0,
               "redraw": true
              },
              "mode": "immediate"
             }
            ],
            "label": "Pause",
            "method": "animate"
           }
          ],
          "type": "buttons",
          "x": 0.1,
          "y": 0
         }
        ],
        "width": 700,
        "xaxis": {
         "gridcolor": "lightgray",
         "range": [
          -355003268,
          355003268
         ],
         "title": {
          "text": "Population"
         }
        },
        "yaxis": {
         "gridcolor": "lightgray",
         "title": {
          "text": "Age Group"
         }
        }
       }
      },
      "text/html": [
       "<div>                            <div id=\"33c3ae52-27a8-4cff-9848-20bc530f0191\" class=\"plotly-graph-div\" style=\"height:600px; width:700px;\"></div>            <script type=\"text/javascript\">                require([\"plotly\"], function(Plotly) {                    window.PLOTLYENV=window.PLOTLYENV || {};                                    if (document.getElementById(\"33c3ae52-27a8-4cff-9848-20bc530f0191\")) {                    Plotly.newPlot(                        \"33c3ae52-27a8-4cff-9848-20bc530f0191\",                        [{\"hoverinfo\":\"skip\",\"marker\":{\"color\":\"olive\",\"line\":{\"color\":\"black\",\"width\":1}},\"name\":\"Men\",\"orientation\":\"h\",\"x\":[268170523.0,235015889.0,206041424.0,186355585.0,152429287.0,124895333.0,119618199.0,108244614.0,98559412.0,82864207.0,66253436.0,60402532.0,49398168.0,36396119.0,23374568.0,13045234.0,8979539.0],\"y\":[1,6,11,16,21,26,31,36,41,46,51,56,61,66,71,76,81,85],\"type\":\"bar\"},{\"hoverinfo\":\"skip\",\"marker\":{\"color\":\"purple\",\"line\":{\"color\":\"black\",\"width\":1}},\"name\":\"Women\",\"orientation\":\"h\",\"x\":[-256927025.0,-225057027.0,-197507610.0,-179796861.0,-147420912.0,-121008410.0,-116111782.0,-105670376.0,-97832255.0,-86471694.0,-70188304.0,-66883271.0,-57131229.0,-44978528.0,-31810229.0,-19799405.0,-15949054.0],\"y\":[1,6,11,16,21,26,31,36,41,46,51,56,61,66,71,76,81,85],\"type\":\"bar\"}],                        {\"template\":{\"data\":{\"histogram2dcontour\":[{\"type\":\"histogram2dcontour\",\"colorbar\":{\"outlinewidth\":0,\"ticks\":\"\"},\"colorscale\":[[0.0,\"#0d0887\"],[0.1111111111111111,\"#46039f\"],[0.2222222222222222,\"#7201a8\"],[0.3333333333333333,\"#9c179e\"],[0.4444444444444444,\"#bd3786\"],[0.5555555555555556,\"#d8576b\"],[0.6666666666666666,\"#ed7953\"],[0.7777777777777778,\"#fb9f3a\"],[0.8888888888888888,\"#fdca26\"],[1.0,\"#f0f921\"]]}],\"choropleth\":[{\"type\":\"choropleth\",\"colorbar\":{\"outlinewidth\":0,\"ticks\":\"\"}}],\"histogram2d\":[{\"type\":\"histogram2d\",\"colorbar\":{\"outlinewidth\":0,\"ticks\":\"\"},\"colorscale\":[[0.0,\"#0d0887\"],[0.1111111111111111,\"#46039f\"],[0.2222222222222222,\"#7201a8\"],[0.3333333333333333,\"#9c179e\"],[0.4444444444444444,\"#bd3786\"],[0.5555555555555556,\"#d8576b\"],[0.6666666666666666,\"#ed7953\"],[0.7777777777777778,\"#fb9f3a\"],[0.8888888888888888,\"#fdca26\"],[1.0,\"#f0f921\"]]}],\"heatmap\":[{\"type\":\"heatmap\",\"colorbar\":{\"outlinewidth\":0,\"ticks\":\"\"},\"colorscale\":[[0.0,\"#0d0887\"],[0.1111111111111111,\"#46039f\"],[0.2222222222222222,\"#7201a8\"],[0.3333333333333333,\"#9c179e\"],[0.4444444444444444,\"#bd3786\"],[0.5555555555555556,\"#d8576b\"],[0.6666666666666666,\"#ed7953\"],[0.7777777777777778,\"#fb9f3a\"],[0.8888888888888888,\"#fdca26\"],[1.0,\"#f0f921\"]]}],\"heatmapgl\":[{\"type\":\"heatmapgl\",\"colorbar\":{\"outlinewidth\":0,\"ticks\":\"\"},\"colorscale\":[[0.0,\"#0d0887\"],[0.1111111111111111,\"#46039f\"],[0.2222222222222222,\"#7201a8\"],[0.3333333333333333,\"#9c179e\"],[0.4444444444444444,\"#bd3786\"],[0.5555555555555556,\"#d8576b\"],[0.6666666666666666,\"#ed7953\"],[0.7777777777777778,\"#fb9f3a\"],[0.8888888888888888,\"#fdca26\"],[1.0,\"#f0f921\"]]}],\"contourcarpet\":[{\"type\":\"contourcarpet\",\"colorbar\":{\"outlinewidth\":0,\"ticks\":\"\"}}],\"contour\":[{\"type\":\"contour\",\"colorbar\":{\"outlinewidth\":0,\"ticks\":\"\"},\"colorscale\":[[0.0,\"#0d0887\"],[0.1111111111111111,\"#46039f\"],[0.2222222222222222,\"#7201a8\"],[0.3333333333333333,\"#9c179e\"],[0.4444444444444444,\"#bd3786\"],[0.5555555555555556,\"#d8576b\"],[0.6666666666666666,\"#ed7953\"],[0.7777777777777778,\"#fb9f3a\"],[0.8888888888888888,\"#fdca26\"],[1.0,\"#f0f921\"]]}],\"surface\":[{\"type\":\"surface\",\"colorbar\":{\"outlinewidth\":0,\"ticks\":\"\"},\"colorscale\":[[0.0,\"#0d0887\"],[0.1111111111111111,\"#46039f\"],[0.2222222222222222,\"#7201a8\"],[0.3333333333333333,\"#9c179e\"],[0.4444444444444444,\"#bd3786\"],[0.5555555555555556,\"#d8576b\"],[0.6666666666666666,\"#ed7953\"],[0.7777777777777778,\"#fb9f3a\"],[0.8888888888888888,\"#fdca26\"],[1.0,\"#f0f921\"]]}],\"mesh3d\":[{\"type\":\"mesh3d\",\"colorbar\":{\"outlinewidth\":0,\"ticks\":\"\"}}],\"scatter\":[{\"fillpattern\":{\"fillmode\":\"overlay\",\"size\":10,\"solidity\":0.2},\"type\":\"scatter\"}],\"parcoords\":[{\"type\":\"parcoords\",\"line\":{\"colorbar\":{\"outlinewidth\":0,\"ticks\":\"\"}}}],\"scatterpolargl\":[{\"type\":\"scatterpolargl\",\"marker\":{\"colorbar\":{\"outlinewidth\":0,\"ticks\":\"\"}}}],\"bar\":[{\"error_x\":{\"color\":\"#2a3f5f\"},\"error_y\":{\"color\":\"#2a3f5f\"},\"marker\":{\"line\":{\"color\":\"#E5ECF6\",\"width\":0.5},\"pattern\":{\"fillmode\":\"overlay\",\"size\":10,\"solidity\":0.2}},\"type\":\"bar\"}],\"scattergeo\":[{\"type\":\"scattergeo\",\"marker\":{\"colorbar\":{\"outlinewidth\":0,\"ticks\":\"\"}}}],\"scatterpolar\":[{\"type\":\"scatterpolar\",\"marker\":{\"colorbar\":{\"outlinewidth\":0,\"ticks\":\"\"}}}],\"histogram\":[{\"marker\":{\"pattern\":{\"fillmode\":\"overlay\",\"size\":10,\"solidity\":0.2}},\"type\":\"histogram\"}],\"scattergl\":[{\"type\":\"scattergl\",\"marker\":{\"colorbar\":{\"outlinewidth\":0,\"ticks\":\"\"}}}],\"scatter3d\":[{\"type\":\"scatter3d\",\"line\":{\"colorbar\":{\"outlinewidth\":0,\"ticks\":\"\"}},\"marker\":{\"colorbar\":{\"outlinewidth\":0,\"ticks\":\"\"}}}],\"scattermapbox\":[{\"type\":\"scattermapbox\",\"marker\":{\"colorbar\":{\"outlinewidth\":0,\"ticks\":\"\"}}}],\"scatterternary\":[{\"type\":\"scatterternary\",\"marker\":{\"colorbar\":{\"outlinewidth\":0,\"ticks\":\"\"}}}],\"scattercarpet\":[{\"type\":\"scattercarpet\",\"marker\":{\"colorbar\":{\"outlinewidth\":0,\"ticks\":\"\"}}}],\"carpet\":[{\"aaxis\":{\"endlinecolor\":\"#2a3f5f\",\"gridcolor\":\"white\",\"linecolor\":\"white\",\"minorgridcolor\":\"white\",\"startlinecolor\":\"#2a3f5f\"},\"baxis\":{\"endlinecolor\":\"#2a3f5f\",\"gridcolor\":\"white\",\"linecolor\":\"white\",\"minorgridcolor\":\"white\",\"startlinecolor\":\"#2a3f5f\"},\"type\":\"carpet\"}],\"table\":[{\"cells\":{\"fill\":{\"color\":\"#EBF0F8\"},\"line\":{\"color\":\"white\"}},\"header\":{\"fill\":{\"color\":\"#C8D4E3\"},\"line\":{\"color\":\"white\"}},\"type\":\"table\"}],\"barpolar\":[{\"marker\":{\"line\":{\"color\":\"#E5ECF6\",\"width\":0.5},\"pattern\":{\"fillmode\":\"overlay\",\"size\":10,\"solidity\":0.2}},\"type\":\"barpolar\"}],\"pie\":[{\"automargin\":true,\"type\":\"pie\"}]},\"layout\":{\"autotypenumbers\":\"strict\",\"colorway\":[\"#636efa\",\"#EF553B\",\"#00cc96\",\"#ab63fa\",\"#FFA15A\",\"#19d3f3\",\"#FF6692\",\"#B6E880\",\"#FF97FF\",\"#FECB52\"],\"font\":{\"color\":\"#2a3f5f\"},\"hovermode\":\"closest\",\"hoverlabel\":{\"align\":\"left\"},\"paper_bgcolor\":\"white\",\"plot_bgcolor\":\"#E5ECF6\",\"polar\":{\"bgcolor\":\"#E5ECF6\",\"angularaxis\":{\"gridcolor\":\"white\",\"linecolor\":\"white\",\"ticks\":\"\"},\"radialaxis\":{\"gridcolor\":\"white\",\"linecolor\":\"white\",\"ticks\":\"\"}},\"ternary\":{\"bgcolor\":\"#E5ECF6\",\"aaxis\":{\"gridcolor\":\"white\",\"linecolor\":\"white\",\"ticks\":\"\"},\"baxis\":{\"gridcolor\":\"white\",\"linecolor\":\"white\",\"ticks\":\"\"},\"caxis\":{\"gridcolor\":\"white\",\"linecolor\":\"white\",\"ticks\":\"\"}},\"coloraxis\":{\"colorbar\":{\"outlinewidth\":0,\"ticks\":\"\"}},\"colorscale\":{\"sequential\":[[0.0,\"#0d0887\"],[0.1111111111111111,\"#46039f\"],[0.2222222222222222,\"#7201a8\"],[0.3333333333333333,\"#9c179e\"],[0.4444444444444444,\"#bd3786\"],[0.5555555555555556,\"#d8576b\"],[0.6666666666666666,\"#ed7953\"],[0.7777777777777778,\"#fb9f3a\"],[0.8888888888888888,\"#fdca26\"],[1.0,\"#f0f921\"]],\"sequentialminus\":[[0.0,\"#0d0887\"],[0.1111111111111111,\"#46039f\"],[0.2222222222222222,\"#7201a8\"],[0.3333333333333333,\"#9c179e\"],[0.4444444444444444,\"#bd3786\"],[0.5555555555555556,\"#d8576b\"],[0.6666666666666666,\"#ed7953\"],[0.7777777777777778,\"#fb9f3a\"],[0.8888888888888888,\"#fdca26\"],[1.0,\"#f0f921\"]],\"diverging\":[[0,\"#8e0152\"],[0.1,\"#c51b7d\"],[0.2,\"#de77ae\"],[0.3,\"#f1b6da\"],[0.4,\"#fde0ef\"],[0.5,\"#f7f7f7\"],[0.6,\"#e6f5d0\"],[0.7,\"#b8e186\"],[0.8,\"#7fbc41\"],[0.9,\"#4d9221\"],[1,\"#276419\"]]},\"xaxis\":{\"gridcolor\":\"white\",\"linecolor\":\"white\",\"ticks\":\"\",\"title\":{\"standoff\":15},\"zerolinecolor\":\"white\",\"automargin\":true,\"zerolinewidth\":2},\"yaxis\":{\"gridcolor\":\"white\",\"linecolor\":\"white\",\"ticks\":\"\",\"title\":{\"standoff\":15},\"zerolinecolor\":\"white\",\"automargin\":true,\"zerolinewidth\":2},\"scene\":{\"xaxis\":{\"backgroundcolor\":\"#E5ECF6\",\"gridcolor\":\"white\",\"linecolor\":\"white\",\"showbackground\":true,\"ticks\":\"\",\"zerolinecolor\":\"white\",\"gridwidth\":2},\"yaxis\":{\"backgroundcolor\":\"#E5ECF6\",\"gridcolor\":\"white\",\"linecolor\":\"white\",\"showbackground\":true,\"ticks\":\"\",\"zerolinecolor\":\"white\",\"gridwidth\":2},\"zaxis\":{\"backgroundcolor\":\"#E5ECF6\",\"gridcolor\":\"white\",\"linecolor\":\"white\",\"showbackground\":true,\"ticks\":\"\",\"zerolinecolor\":\"white\",\"gridwidth\":2}},\"shapedefaults\":{\"line\":{\"color\":\"#2a3f5f\"}},\"annotationdefaults\":{\"arrowcolor\":\"#2a3f5f\",\"arrowhead\":0,\"arrowwidth\":1},\"geo\":{\"bgcolor\":\"white\",\"landcolor\":\"#E5ECF6\",\"subunitcolor\":\"white\",\"showland\":true,\"showlakes\":true,\"lakecolor\":\"white\"},\"title\":{\"x\":0.05},\"mapbox\":{\"style\":\"light\"}}},\"font\":{\"family\":\"Arial, sans-serif\",\"size\":14,\"color\":\"black\"},\"xaxis\":{\"title\":{\"text\":\"Population\"},\"gridcolor\":\"lightgray\",\"range\":[-355003268.0,355003268.0]},\"yaxis\":{\"title\":{\"text\":\"Age Group\"},\"gridcolor\":\"lightgray\"},\"title\":{\"text\":\"Animated World Population Pyramid (1970-2020)\"},\"width\":700,\"height\":600,\"paper_bgcolor\":\"#f4f4f4\",\"plot_bgcolor\":\"#ffffff\",\"barmode\":\"overlay\",\"showlegend\":true,\"updatemenus\":[{\"buttons\":[{\"args\":[null,{\"frame\":{\"duration\":1000,\"redraw\":true},\"fromcurrent\":true}],\"label\":\"Play\",\"method\":\"animate\"},{\"args\":[[null],{\"frame\":{\"duration\":0,\"redraw\":true},\"mode\":\"immediate\"}],\"label\":\"Pause\",\"method\":\"animate\"}],\"type\":\"buttons\",\"x\":0.1,\"y\":0}],\"sliders\":[{\"currentvalue\":{\"font\":{\"size\":16},\"prefix\":\"Year: \"},\"steps\":[{\"args\":[[\"1970\"],{\"frame\":{\"duration\":0,\"redraw\":true},\"mode\":\"immediate\"}],\"label\":\"1970\",\"method\":\"animate\"},{\"args\":[[\"1980\"],{\"frame\":{\"duration\":0,\"redraw\":true},\"mode\":\"immediate\"}],\"label\":\"1980\",\"method\":\"animate\"},{\"args\":[[\"1990\"],{\"frame\":{\"duration\":0,\"redraw\":true},\"mode\":\"immediate\"}],\"label\":\"1990\",\"method\":\"animate\"},{\"args\":[[\"2000\"],{\"frame\":{\"duration\":0,\"redraw\":true},\"mode\":\"immediate\"}],\"label\":\"2000\",\"method\":\"animate\"},{\"args\":[[\"2010\"],{\"frame\":{\"duration\":0,\"redraw\":true},\"mode\":\"immediate\"}],\"label\":\"2010\",\"method\":\"animate\"},{\"args\":[[\"2020\"],{\"frame\":{\"duration\":0,\"redraw\":true},\"mode\":\"immediate\"}],\"label\":\"2020\",\"method\":\"animate\"}]}]},                        {\"responsive\": true}                    ).then(function(){\n",
       "                            Plotly.addFrames('33c3ae52-27a8-4cff-9848-20bc530f0191', [{\"data\":[{\"hoverinfo\":\"skip\",\"marker\":{\"color\":\"olive\",\"line\":{\"color\":\"black\",\"width\":1}},\"name\":\"Men\",\"orientation\":\"h\",\"x\":[268170523.0,235015889.0,206041424.0,186355585.0,152429287.0,124895333.0,119618199.0,108244614.0,98559412.0,82864207.0,66253436.0,60402532.0,49398168.0,36396119.0,23374568.0,13045234.0,8979539.0],\"y\":[1,6,11,16,21,26,31,36,41,46,51,56,61,66,71,76,81,85],\"type\":\"bar\"},{\"hoverinfo\":\"skip\",\"marker\":{\"color\":\"purple\",\"line\":{\"color\":\"black\",\"width\":1}},\"name\":\"Women\",\"orientation\":\"h\",\"x\":[-256927025.0,-225057027.0,-197507610.0,-179796861.0,-147420912.0,-121008410.0,-116111782.0,-105670376.0,-97832255.0,-86471694.0,-70188304.0,-66883271.0,-57131229.0,-44978528.0,-31810229.0,-19799405.0,-15949054.0],\"y\":[1,6,11,16,21,26,31,36,41,46,51,56,61,66,71,76,81,85],\"type\":\"bar\"}],\"name\":\"1970\"},{\"data\":[{\"hoverinfo\":\"skip\",\"marker\":{\"color\":\"olive\",\"line\":{\"color\":\"black\",\"width\":1}},\"name\":\"Men\",\"orientation\":\"h\",\"x\":[281880870.0,269616912.0,254111043.0,229563532.0,200843422.0,180833628.0,147679196.0,120100703.0,113555987.0,100883136.0,89593360.0,72597497.0,54424375.0,45068612.0,31553313.0,18503609.0,12239388.0],\"y\":[1,6,11,16,21,26,31,36,41,46,51,56,61,66,71,76,81,85],\"type\":\"bar\"},{\"hoverinfo\":\"skip\",\"marker\":{\"color\":\"purple\",\"line\":{\"color\":\"black\",\"width\":1}},\"name\":\"Women\",\"orientation\":\"h\",\"x\":[-268851292.0,-257422618.0,-243111049.0,-220280243.0,-193858727.0,-175902582.0,-143297703.0,-116691253.0,-111205808.0,-100253460.0,-91762037.0,-79583041.0,-61990653.0,-55646201.0,-42810055.0,-28441422.0,-23445475.0],\"y\":[1,6,11,16,21,26,31,36,41,46,51,56,61,66,71,76,81,85],\"type\":\"bar\"}],\"name\":\"1980\"},{\"data\":[{\"hoverinfo\":\"skip\",\"marker\":{\"color\":\"olive\",\"line\":{\"color\":\"black\",\"width\":1}},\"name\":\"Men\",\"orientation\":\"h\",\"x\":[331119722.0,297919636.0,268966779.0,263217926.0,247665798.0,223274703.0,195179031.0,175059458.0,141567937.0,113404787.0,104365353.0,89445587.0,74998133.0,55570668.0,36156032.0,24346216.0,18124300.0],\"y\":[1,6,11,16,21,26,31,36,41,46,51,56,61,66,71,76,81,85],\"type\":\"bar\"},{\"hoverinfo\":\"skip\",\"marker\":{\"color\":\"purple\",\"line\":{\"color\":\"black\",\"width\":1}},\"name\":\"Women\",\"orientation\":\"h\",\"x\":[-313092291.0,-283103801.0,-256446150.0,-252152335.0,-238453269.0,-216240673.0,-189837436.0,-171382787.0,-138570715.0,-111853071.0,-105146140.0,-92830069.0,-82129869.0,-67153519.0,-47499103.0,-36948115.0,-36025043.0],\"y\":[1,6,11,16,21,26,31,36,41,46,51,56,61,66,71,76,81,85],\"type\":\"bar\"}],\"name\":\"1990\"},{\"data\":[{\"hoverinfo\":\"skip\",\"marker\":{\"color\":\"olive\",\"line\":{\"color\":\"black\",\"width\":1}},\"name\":\"Men\",\"orientation\":\"h\",\"x\":[323242397.0,319575048.0,322416810.0,295149165.0,264345745.0,256111683.0,240792377.0,217026800.0,188272543.0,166466275.0,131771282.0,102086084.0,89361676.0,70844762.0,52502740.0,32593816.0,24774935.0],\"y\":[1,6,11,16,21,26,31,36,41,46,51,56,61,66,71,76,81,85],\"type\":\"bar\"},{\"hoverinfo\":\"skip\",\"marker\":{\"color\":\"purple\",\"line\":{\"color\":\"black\",\"width\":1}},\"name\":\"Women\",\"orientation\":\"h\",\"x\":[-302551531.0,-300003539.0,-304621551.0,-281165810.0,-254225496.0,-248472955.0,-234682250.0,-212493612.0,-185657119.0,-166279805.0,-132788210.0,-105065508.0,-96068142.0,-80548308.0,-65450952.0,-46963531.0,-47512404.0],\"y\":[1,6,11,16,21,26,31,36,41,46,51,56,61,66,71,76,81,85],\"type\":\"bar\"}],\"name\":\"2000\"},{\"data\":[{\"hoverinfo\":\"skip\",\"marker\":{\"color\":\"olive\",\"line\":{\"color\":\"black\",\"width\":1}},\"name\":\"Men\",\"orientation\":\"h\",\"x\":[345490124.0,325604745.0,315924285.0,315874190.0,316229271.0,287046034.0,256528734.0,248219860.0,232104841.0,206438135.0,175051539.0,150923620.0,114909622.0,83135699.0,65137476.0,44190945.0,39579879.0],\"y\":[1,6,11,16,21,26,31,36,41,46,51,56,61,66,71,76,81,85],\"type\":\"bar\"},{\"hoverinfo\":\"skip\",\"marker\":{\"color\":\"purple\",\"line\":{\"color\":\"black\",\"width\":1}},\"name\":\"Women\",\"orientation\":\"h\",\"x\":[-323431762.0,-304517119.0,-295382357.0,-296927385.0,-300222059.0,-275437688.0,-248681827.0,-242804958.0,-228794746.0,-205870753.0,-177890614.0,-157300429.0,-122537320.0,-92479736.0,-78514104.0,-58536636.0,-68952756.0],\"y\":[1,6,11,16,21,26,31,36,41,46,51,56,61,66,71,76,81,85],\"type\":\"bar\"}],\"name\":\"2010\"},{\"data\":[{\"hoverinfo\":\"skip\",\"marker\":{\"color\":\"olive\",\"line\":{\"color\":\"black\",\"width\":1}},\"name\":\"Men\",\"orientation\":\"h\",\"x\":[350515471.0,355003268.0,340399749.0,322082499.0,311226388.0,309641234.0,309357029.0,279781371.0,248255758.0,238154909.0,219307981.0,189959120.0,154564673.0,125884632.0,87855497.0,55019059.0,56756917.0],\"y\":[1,6,11,16,21,26,31,36,41,46,51,56,61,66,71,76,81,85],\"type\":\"bar\"},{\"hoverinfo\":\"skip\",\"marker\":{\"color\":\"purple\",\"line\":{\"color\":\"black\",\"width\":1}},\"name\":\"Women\",\"orientation\":\"h\",\"x\":[-331072104.0,-333282669.0,-318975287.0,-302489242.0,-292770535.0,-292492131.0,-294687536.0,-269789622.0,-242241330.0,-235726796.0,-220639805.0,-195511933.0,-165052444.0,-141232037.0,-103450405.0,-70038474.0,-92920892.0],\"y\":[1,6,11,16,21,26,31,36,41,46,51,56,61,66,71,76,81,85],\"type\":\"bar\"}],\"name\":\"2020\"}]);\n",
       "                        }).then(function(){\n",
       "                            \n",
       "var gd = document.getElementById('33c3ae52-27a8-4cff-9848-20bc530f0191');\n",
       "var x = new MutationObserver(function (mutations, observer) {{\n",
       "        var display = window.getComputedStyle(gd).display;\n",
       "        if (!display || display === 'none') {{\n",
       "            console.log([gd, 'removed!']);\n",
       "            Plotly.purge(gd);\n",
       "            observer.disconnect();\n",
       "        }}\n",
       "}});\n",
       "\n",
       "// Listen for the removal of the full notebook cells\n",
       "var notebookContainer = gd.closest('#notebook-container');\n",
       "if (notebookContainer) {{\n",
       "    x.observe(notebookContainer, {childList: true});\n",
       "}}\n",
       "\n",
       "// Listen for the clearing of the current output cell\n",
       "var outputEl = gd.closest('.output');\n",
       "if (outputEl) {{\n",
       "    x.observe(outputEl, {childList: true});\n",
       "}}\n",
       "\n",
       "                        })                };                });            </script>        </div>"
      ]
     },
     "metadata": {},
     "output_type": "display_data"
    }
   ],
   "source": [
    "# Trying to make an animated one..?\n",
    "\n",
    "# Define available years\n",
    "years = [1970, 1980, 1990, 2000, 2010, 2020]\n",
    "ages = [f\"{i}-{i+4}\" for i in range(0, 85, 5)] + [\"85+\"]  # Includes 85+ group\n",
    "\n",
    "# Function to create bar traces for a given year\n",
    "def get_traces(year):\n",
    "    male_values = world.loc[str(year)].filter(regex=\"Male\").values\n",
    "    female_values = world.loc[str(year)].filter(regex=\"Female\").values\n",
    "\n",
    "    return [\n",
    "        go.Bar(\n",
    "            x=male_values,\n",
    "            y=[int(s.split('-')[0]) + 1 if '-' in s else int(s[:-1]) for s in ages],\n",
    "            orientation='h',\n",
    "            name='Men',\n",
    "            marker=dict(color='olive', line=dict(color='black', width=1)),\n",
    "            hoverinfo='skip'\n",
    "        ),\n",
    "        go.Bar(\n",
    "            x=-female_values,  # Keep negative values for left alignment\n",
    "            y=[int(s.split('-')[0]) + 1 if '-' in s else int(s[:-1]) for s in ages],\n",
    "            orientation='h',\n",
    "            name='Women',\n",
    "            marker=dict(color='purple', line=dict(color='black', width=1)),\n",
    "            hoverinfo='skip'\n",
    "        )\n",
    "    ]\n",
    "\n",
    "# Ensure index is properly formatted for lookup\n",
    "max_population = max(world.loc[world.index.astype(str).isin(map(str, years))].filter(regex=\"Male|Female\").max().values)\n",
    "\n",
    "# Create figure with initial data (1970)\n",
    "fig2 = go.Figure(data=get_traces(1970), frames=[\n",
    "    go.Frame(data=get_traces(year), name=str(year)) for year in years\n",
    "])\n",
    "\n",
    "# Update layout with proper axis alignment\n",
    "fig2.update_layout(\n",
    "    title=\"Animated World Population Pyramid (1970-2020)\",\n",
    "    width=700, height=600, paper_bgcolor='#f4f4f4', plot_bgcolor='#ffffff',\n",
    "    font=dict(family=\"Arial, sans-serif\", size=14, color=\"black\"),\n",
    "    xaxis=dict(title=\"Population\", gridcolor='lightgray', range=[-max_population, max_population]),\n",
    "    yaxis=dict(title=\"Age Group\", gridcolor='lightgray'),\n",
    "    barmode='overlay',\n",
    "    showlegend=True,\n",
    "    updatemenus=[{\n",
    "        \"buttons\": [\n",
    "            {\"args\": [None, {\"frame\": {\"duration\": 1000, \"redraw\": True}, \"fromcurrent\": True}],\n",
    "             \"label\": \"Play\", \"method\": \"animate\"},\n",
    "            {\"args\": [[None], {\"frame\": {\"duration\": 0, \"redraw\": True}, \"mode\": \"immediate\"}],\n",
    "             \"label\": \"Pause\", \"method\": \"animate\"}\n",
    "        ],\n",
    "        \"type\": \"buttons\", \"x\": 0.1, \"y\": 0\n",
    "    }],\n",
    "    sliders=[{\n",
    "        \"steps\": [{\"args\": [[str(year)], {\"frame\": {\"duration\": 0, \"redraw\": True}, \"mode\": \"immediate\"}],\n",
    "                   \"label\": str(year), \"method\": \"animate\"} for year in years],\n",
    "        \"currentvalue\": {\"prefix\": \"Year: \", \"font\": {\"size\": 16}}\n",
    "    }]\n",
    ")\n",
    "\n",
    "fig2.show()"
   ]
  },
  {
   "cell_type": "code",
   "execution_count": 14,
   "id": "0a268f58-94dc-49d4-921b-8ff7ba91148e",
   "metadata": {},
   "outputs": [],
   "source": [
    "# Now to make pop. pyramids for some of our target countries (the Operation Condor countries)\n",
    "    # Brazil, Chile, Argentina, Uruguay,  Ecuador, Colombia, Peru, and Paraguay"
   ]
  },
  {
   "cell_type": "code",
   "execution_count": 15,
   "id": "661fa2b8-78e0-4897-9ce6-de3663900b9d",
   "metadata": {},
   "outputs": [
    {
     "name": "stderr",
     "output_type": "stream",
     "text": [
      "WARNING:shelved_cache.persistent_cache:Key '1681123005772711366' not in persistent cache.\n",
      "WARNING:shelved_cache.persistent_cache:Key '-2687243736897056920' not in persistent cache.\n",
      "WARNING:shelved_cache.persistent_cache:Key '-2571186067204417576' not in persistent cache.\n",
      "WARNING:shelved_cache.persistent_cache:Key '-5071441665795905185' not in persistent cache.\n",
      "WARNING:shelved_cache.persistent_cache:Key '2632708370931985365' not in persistent cache.\n",
      "WARNING:shelved_cache.persistent_cache:Key '5504091808622398849' not in persistent cache.\n",
      "WARNING:shelved_cache.persistent_cache:Key '8018884278580215050' not in persistent cache.\n",
      "WARNING:shelved_cache.persistent_cache:Key '5738427000476907373' not in persistent cache.\n",
      "WARNING:shelved_cache.persistent_cache:Key '378054964190417464' not in persistent cache.\n",
      "WARNING:shelved_cache.persistent_cache:Key '-8300437475104973941' not in persistent cache.\n",
      "WARNING:shelved_cache.persistent_cache:Key '-5888663456870722295' not in persistent cache.\n",
      "WARNING:shelved_cache.persistent_cache:Key '-89189513745733966' not in persistent cache.\n",
      "WARNING:shelved_cache.persistent_cache:Key '-8128178994576765319' not in persistent cache.\n",
      "WARNING:shelved_cache.persistent_cache:Key '-8360643941294323212' not in persistent cache.\n",
      "WARNING:shelved_cache.persistent_cache:Key '-6308482070053405855' not in persistent cache.\n",
      "WARNING:shelved_cache.persistent_cache:Key '-6186669671631487522' not in persistent cache.\n",
      "WARNING:shelved_cache.persistent_cache:Key '-3190243877669491822' not in persistent cache.\n",
      "WARNING:shelved_cache.persistent_cache:Key '-9052388680325617060' not in persistent cache.\n",
      "WARNING:shelved_cache.persistent_cache:Key '-6698774899593397100' not in persistent cache.\n",
      "WARNING:shelved_cache.persistent_cache:Key '5361220697565267446' not in persistent cache.\n",
      "WARNING:shelved_cache.persistent_cache:Key '-4674881506627592112' not in persistent cache.\n",
      "WARNING:shelved_cache.persistent_cache:Key '3832826738977706402' not in persistent cache.\n",
      "WARNING:shelved_cache.persistent_cache:Key '3332989798691096588' not in persistent cache.\n",
      "WARNING:shelved_cache.persistent_cache:Key '811127651492340147' not in persistent cache.\n",
      "WARNING:shelved_cache.persistent_cache:Key '5794818088280572053' not in persistent cache.\n",
      "WARNING:shelved_cache.persistent_cache:Key '993100129209272256' not in persistent cache.\n",
      "WARNING:shelved_cache.persistent_cache:Key '-2255167786926080382' not in persistent cache.\n",
      "WARNING:shelved_cache.persistent_cache:Key '6155148116865089564' not in persistent cache.\n",
      "WARNING:shelved_cache.persistent_cache:Key '-608032920919874070' not in persistent cache.\n",
      "WARNING:shelved_cache.persistent_cache:Key '4083641718232155160' not in persistent cache.\n",
      "WARNING:shelved_cache.persistent_cache:Key '-726422597404791766' not in persistent cache.\n",
      "WARNING:shelved_cache.persistent_cache:Key '4335647334121532320' not in persistent cache.\n",
      "WARNING:shelved_cache.persistent_cache:Key '3958445080885541120' not in persistent cache.\n",
      "WARNING:shelved_cache.persistent_cache:Key '2198942633041967671' not in persistent cache.\n"
     ]
    },
    {
     "data": {
      "text/html": [
       "        <script type=\"text/javascript\">\n",
       "        window.PlotlyConfig = {MathJaxConfig: 'local'};\n",
       "        if (window.MathJax && window.MathJax.Hub && window.MathJax.Hub.Config) {window.MathJax.Hub.Config({SVG: {font: \"STIX-Web\"}});}\n",
       "        if (typeof require !== 'undefined') {\n",
       "        require.undef(\"plotly\");\n",
       "        requirejs.config({\n",
       "            paths: {\n",
       "                'plotly': ['https://cdn.plot.ly/plotly-2.35.2.min']\n",
       "            }\n",
       "        });\n",
       "        require(['plotly'], function(Plotly) {\n",
       "            window._Plotly = Plotly;\n",
       "        });\n",
       "        }\n",
       "        </script>\n",
       "        "
      ]
     },
     "metadata": {},
     "output_type": "display_data"
    },
    {
     "ename": "ValueError",
     "evalue": "invalid literal for int() with base 10: '0-'",
     "output_type": "error",
     "traceback": [
      "\u001b[0;31m---------------------------------------------------------------------------\u001b[0m",
      "\u001b[0;31mValueError\u001b[0m                                Traceback (most recent call last)",
      "Cell \u001b[0;32mIn[15], line 34\u001b[0m\n\u001b[1;32m      6\u001b[0m py\u001b[38;5;241m.\u001b[39minit_notebook_mode(connected\u001b[38;5;241m=\u001b[39m\u001b[38;5;28;01mTrue\u001b[39;00m)\n\u001b[1;32m      8\u001b[0m layout_LA_caribbean \u001b[38;5;241m=\u001b[39m go\u001b[38;5;241m.\u001b[39mLayout(\n\u001b[1;32m      9\u001b[0m     title\u001b[38;5;241m=\u001b[39m\u001b[38;5;124m\"\u001b[39m\u001b[38;5;124mPopulation Pyramid of Latin America and the Caribbean (2023)\u001b[39m\u001b[38;5;124m\"\u001b[39m,\n\u001b[1;32m     10\u001b[0m     title_font\u001b[38;5;241m=\u001b[39m\u001b[38;5;28mdict\u001b[39m(size\u001b[38;5;241m=\u001b[39m\u001b[38;5;241m18\u001b[39m, color\u001b[38;5;241m=\u001b[39m\u001b[38;5;124m'\u001b[39m\u001b[38;5;124mblack\u001b[39m\u001b[38;5;124m'\u001b[39m),\n\u001b[0;32m   (...)\u001b[0m\n\u001b[1;32m     30\u001b[0m     showlegend\u001b[38;5;241m=\u001b[39m\u001b[38;5;28;01mTrue\u001b[39;00m\n\u001b[1;32m     31\u001b[0m )\n\u001b[1;32m     33\u001b[0m bins_LA_caribbean \u001b[38;5;241m=\u001b[39m [go\u001b[38;5;241m.\u001b[39mBar(x \u001b[38;5;241m=\u001b[39m LA_caribbean\u001b[38;5;241m.\u001b[39mloc[\u001b[38;5;28mstr\u001b[39m(\u001b[38;5;241m2023\u001b[39m),:]\u001b[38;5;241m.\u001b[39mfilter(regex\u001b[38;5;241m=\u001b[39m\u001b[38;5;124m\"\u001b[39m\u001b[38;5;124mMale\u001b[39m\u001b[38;5;124m\"\u001b[39m)\u001b[38;5;241m.\u001b[39mvalues,\n\u001b[0;32m---> 34\u001b[0m                y \u001b[38;5;241m=\u001b[39m \u001b[43m[\u001b[49m\u001b[38;5;28;43mint\u001b[39;49m\u001b[43m(\u001b[49m\u001b[43ms\u001b[49m\u001b[43m[\u001b[49m\u001b[43m:\u001b[49m\u001b[38;5;241;43m2\u001b[39;49m\u001b[43m]\u001b[49m\u001b[43m)\u001b[49m\u001b[38;5;241;43m+\u001b[39;49m\u001b[38;5;241;43m1\u001b[39;49m\u001b[43m \u001b[49m\u001b[38;5;28;43;01mfor\u001b[39;49;00m\u001b[43m \u001b[49m\u001b[43ms\u001b[49m\u001b[43m \u001b[49m\u001b[38;5;129;43;01min\u001b[39;49;00m\u001b[43m \u001b[49m\u001b[43mages\u001b[49m\u001b[43m]\u001b[49m,\n\u001b[1;32m     35\u001b[0m                orientation\u001b[38;5;241m=\u001b[39m\u001b[38;5;124m'\u001b[39m\u001b[38;5;124mh\u001b[39m\u001b[38;5;124m'\u001b[39m,\n\u001b[1;32m     36\u001b[0m                name\u001b[38;5;241m=\u001b[39m\u001b[38;5;124m'\u001b[39m\u001b[38;5;124mMen\u001b[39m\u001b[38;5;124m'\u001b[39m,\n\u001b[1;32m     37\u001b[0m                marker\u001b[38;5;241m=\u001b[39m\u001b[38;5;28mdict\u001b[39m(color\u001b[38;5;241m=\u001b[39m\u001b[38;5;124m'\u001b[39m\u001b[38;5;124mgreen\u001b[39m\u001b[38;5;124m'\u001b[39m, line\u001b[38;5;241m=\u001b[39m\u001b[38;5;28mdict\u001b[39m(color\u001b[38;5;241m=\u001b[39m\u001b[38;5;124m'\u001b[39m\u001b[38;5;124mblack\u001b[39m\u001b[38;5;124m'\u001b[39m, width\u001b[38;5;241m=\u001b[39m\u001b[38;5;241m1\u001b[39m)),\n\u001b[1;32m     38\u001b[0m                hoverinfo\u001b[38;5;241m=\u001b[39m\u001b[38;5;124m'\u001b[39m\u001b[38;5;124mskip\u001b[39m\u001b[38;5;124m'\u001b[39m\n\u001b[1;32m     39\u001b[0m                ),\n\u001b[1;32m     40\u001b[0m \n\u001b[1;32m     41\u001b[0m         go\u001b[38;5;241m.\u001b[39mBar(x \u001b[38;5;241m=\u001b[39m \u001b[38;5;241m-\u001b[39mLA_caribbean\u001b[38;5;241m.\u001b[39mloc[\u001b[38;5;28mstr\u001b[39m(\u001b[38;5;241m2023\u001b[39m),:]\u001b[38;5;241m.\u001b[39mfilter(regex\u001b[38;5;241m=\u001b[39m\u001b[38;5;124m\"\u001b[39m\u001b[38;5;124mFemale\u001b[39m\u001b[38;5;124m\"\u001b[39m)\u001b[38;5;241m.\u001b[39mvalues,\n\u001b[1;32m     42\u001b[0m                y\u001b[38;5;241m=\u001b[39m[\u001b[38;5;28mint\u001b[39m(s[:\u001b[38;5;241m2\u001b[39m])\u001b[38;5;241m+\u001b[39m\u001b[38;5;241m1\u001b[39m \u001b[38;5;28;01mfor\u001b[39;00m s \u001b[38;5;129;01min\u001b[39;00m ages],\n\u001b[1;32m     43\u001b[0m                orientation\u001b[38;5;241m=\u001b[39m\u001b[38;5;124m'\u001b[39m\u001b[38;5;124mh\u001b[39m\u001b[38;5;124m'\u001b[39m,\n\u001b[1;32m     44\u001b[0m                name\u001b[38;5;241m=\u001b[39m\u001b[38;5;124m'\u001b[39m\u001b[38;5;124mWomen\u001b[39m\u001b[38;5;124m'\u001b[39m,\n\u001b[1;32m     45\u001b[0m                marker\u001b[38;5;241m=\u001b[39m\u001b[38;5;28mdict\u001b[39m(color\u001b[38;5;241m=\u001b[39m\u001b[38;5;124m'\u001b[39m\u001b[38;5;124morange\u001b[39m\u001b[38;5;124m'\u001b[39m, line\u001b[38;5;241m=\u001b[39m\u001b[38;5;28mdict\u001b[39m(color\u001b[38;5;241m=\u001b[39m\u001b[38;5;124m'\u001b[39m\u001b[38;5;124mblack\u001b[39m\u001b[38;5;124m'\u001b[39m, width\u001b[38;5;241m=\u001b[39m\u001b[38;5;241m1\u001b[39m)),\n\u001b[1;32m     46\u001b[0m                hoverinfo\u001b[38;5;241m=\u001b[39m\u001b[38;5;124m'\u001b[39m\u001b[38;5;124mskip\u001b[39m\u001b[38;5;124m'\u001b[39m,\n\u001b[1;32m     47\u001b[0m                )\n\u001b[1;32m     48\u001b[0m         ]\n\u001b[1;32m     50\u001b[0m py\u001b[38;5;241m.\u001b[39miplot(\u001b[38;5;28mdict\u001b[39m(data\u001b[38;5;241m=\u001b[39mbins_LA_caribbean, layout\u001b[38;5;241m=\u001b[39mlayout_LA_caribbean))\n",
      "Cell \u001b[0;32mIn[15], line 34\u001b[0m, in \u001b[0;36m<listcomp>\u001b[0;34m(.0)\u001b[0m\n\u001b[1;32m      6\u001b[0m py\u001b[38;5;241m.\u001b[39minit_notebook_mode(connected\u001b[38;5;241m=\u001b[39m\u001b[38;5;28;01mTrue\u001b[39;00m)\n\u001b[1;32m      8\u001b[0m layout_LA_caribbean \u001b[38;5;241m=\u001b[39m go\u001b[38;5;241m.\u001b[39mLayout(\n\u001b[1;32m      9\u001b[0m     title\u001b[38;5;241m=\u001b[39m\u001b[38;5;124m\"\u001b[39m\u001b[38;5;124mPopulation Pyramid of Latin America and the Caribbean (2023)\u001b[39m\u001b[38;5;124m\"\u001b[39m,\n\u001b[1;32m     10\u001b[0m     title_font\u001b[38;5;241m=\u001b[39m\u001b[38;5;28mdict\u001b[39m(size\u001b[38;5;241m=\u001b[39m\u001b[38;5;241m18\u001b[39m, color\u001b[38;5;241m=\u001b[39m\u001b[38;5;124m'\u001b[39m\u001b[38;5;124mblack\u001b[39m\u001b[38;5;124m'\u001b[39m),\n\u001b[0;32m   (...)\u001b[0m\n\u001b[1;32m     30\u001b[0m     showlegend\u001b[38;5;241m=\u001b[39m\u001b[38;5;28;01mTrue\u001b[39;00m\n\u001b[1;32m     31\u001b[0m )\n\u001b[1;32m     33\u001b[0m bins_LA_caribbean \u001b[38;5;241m=\u001b[39m [go\u001b[38;5;241m.\u001b[39mBar(x \u001b[38;5;241m=\u001b[39m LA_caribbean\u001b[38;5;241m.\u001b[39mloc[\u001b[38;5;28mstr\u001b[39m(\u001b[38;5;241m2023\u001b[39m),:]\u001b[38;5;241m.\u001b[39mfilter(regex\u001b[38;5;241m=\u001b[39m\u001b[38;5;124m\"\u001b[39m\u001b[38;5;124mMale\u001b[39m\u001b[38;5;124m\"\u001b[39m)\u001b[38;5;241m.\u001b[39mvalues,\n\u001b[0;32m---> 34\u001b[0m                y \u001b[38;5;241m=\u001b[39m [\u001b[38;5;28;43mint\u001b[39;49m\u001b[43m(\u001b[49m\u001b[43ms\u001b[49m\u001b[43m[\u001b[49m\u001b[43m:\u001b[49m\u001b[38;5;241;43m2\u001b[39;49m\u001b[43m]\u001b[49m\u001b[43m)\u001b[49m\u001b[38;5;241m+\u001b[39m\u001b[38;5;241m1\u001b[39m \u001b[38;5;28;01mfor\u001b[39;00m s \u001b[38;5;129;01min\u001b[39;00m ages],\n\u001b[1;32m     35\u001b[0m                orientation\u001b[38;5;241m=\u001b[39m\u001b[38;5;124m'\u001b[39m\u001b[38;5;124mh\u001b[39m\u001b[38;5;124m'\u001b[39m,\n\u001b[1;32m     36\u001b[0m                name\u001b[38;5;241m=\u001b[39m\u001b[38;5;124m'\u001b[39m\u001b[38;5;124mMen\u001b[39m\u001b[38;5;124m'\u001b[39m,\n\u001b[1;32m     37\u001b[0m                marker\u001b[38;5;241m=\u001b[39m\u001b[38;5;28mdict\u001b[39m(color\u001b[38;5;241m=\u001b[39m\u001b[38;5;124m'\u001b[39m\u001b[38;5;124mgreen\u001b[39m\u001b[38;5;124m'\u001b[39m, line\u001b[38;5;241m=\u001b[39m\u001b[38;5;28mdict\u001b[39m(color\u001b[38;5;241m=\u001b[39m\u001b[38;5;124m'\u001b[39m\u001b[38;5;124mblack\u001b[39m\u001b[38;5;124m'\u001b[39m, width\u001b[38;5;241m=\u001b[39m\u001b[38;5;241m1\u001b[39m)),\n\u001b[1;32m     38\u001b[0m                hoverinfo\u001b[38;5;241m=\u001b[39m\u001b[38;5;124m'\u001b[39m\u001b[38;5;124mskip\u001b[39m\u001b[38;5;124m'\u001b[39m\n\u001b[1;32m     39\u001b[0m                ),\n\u001b[1;32m     40\u001b[0m \n\u001b[1;32m     41\u001b[0m         go\u001b[38;5;241m.\u001b[39mBar(x \u001b[38;5;241m=\u001b[39m \u001b[38;5;241m-\u001b[39mLA_caribbean\u001b[38;5;241m.\u001b[39mloc[\u001b[38;5;28mstr\u001b[39m(\u001b[38;5;241m2023\u001b[39m),:]\u001b[38;5;241m.\u001b[39mfilter(regex\u001b[38;5;241m=\u001b[39m\u001b[38;5;124m\"\u001b[39m\u001b[38;5;124mFemale\u001b[39m\u001b[38;5;124m\"\u001b[39m)\u001b[38;5;241m.\u001b[39mvalues,\n\u001b[1;32m     42\u001b[0m                y\u001b[38;5;241m=\u001b[39m[\u001b[38;5;28mint\u001b[39m(s[:\u001b[38;5;241m2\u001b[39m])\u001b[38;5;241m+\u001b[39m\u001b[38;5;241m1\u001b[39m \u001b[38;5;28;01mfor\u001b[39;00m s \u001b[38;5;129;01min\u001b[39;00m ages],\n\u001b[1;32m     43\u001b[0m                orientation\u001b[38;5;241m=\u001b[39m\u001b[38;5;124m'\u001b[39m\u001b[38;5;124mh\u001b[39m\u001b[38;5;124m'\u001b[39m,\n\u001b[1;32m     44\u001b[0m                name\u001b[38;5;241m=\u001b[39m\u001b[38;5;124m'\u001b[39m\u001b[38;5;124mWomen\u001b[39m\u001b[38;5;124m'\u001b[39m,\n\u001b[1;32m     45\u001b[0m                marker\u001b[38;5;241m=\u001b[39m\u001b[38;5;28mdict\u001b[39m(color\u001b[38;5;241m=\u001b[39m\u001b[38;5;124m'\u001b[39m\u001b[38;5;124morange\u001b[39m\u001b[38;5;124m'\u001b[39m, line\u001b[38;5;241m=\u001b[39m\u001b[38;5;28mdict\u001b[39m(color\u001b[38;5;241m=\u001b[39m\u001b[38;5;124m'\u001b[39m\u001b[38;5;124mblack\u001b[39m\u001b[38;5;124m'\u001b[39m, width\u001b[38;5;241m=\u001b[39m\u001b[38;5;241m1\u001b[39m)),\n\u001b[1;32m     46\u001b[0m                hoverinfo\u001b[38;5;241m=\u001b[39m\u001b[38;5;124m'\u001b[39m\u001b[38;5;124mskip\u001b[39m\u001b[38;5;124m'\u001b[39m,\n\u001b[1;32m     47\u001b[0m                )\n\u001b[1;32m     48\u001b[0m         ]\n\u001b[1;32m     50\u001b[0m py\u001b[38;5;241m.\u001b[39miplot(\u001b[38;5;28mdict\u001b[39m(data\u001b[38;5;241m=\u001b[39mbins_LA_caribbean, layout\u001b[38;5;241m=\u001b[39mlayout_LA_caribbean))\n",
      "\u001b[0;31mValueError\u001b[0m: invalid literal for int() with base 10: '0-'"
     ]
    }
   ],
   "source": [
    "# Using Latin America & the Caribbean (TLA)\n",
    "country_choice_2 = \"TLA\"\n",
    "LA_caribbean = wbdata.get_dataframe(categories,country=country_choice_2)\n",
    "\n",
    "# Creating a population pyramid\n",
    "py.init_notebook_mode(connected=True)\n",
    "\n",
    "layout_LA_caribbean = go.Layout(\n",
    "    title=\"Population Pyramid of Latin America and the Caribbean (2023)\",\n",
    "    title_font=dict(size=18, color='black'),\n",
    "    barmode='overlay',\n",
    "    width=600,\n",
    "    height=600,\n",
    "    paper_bgcolor='#f4f4f4',\n",
    "    plot_bgcolor='#ffffff',\n",
    "    font=dict(family=\"Arial, sans-serif\", size=14, color=\"black\"),\n",
    "    xaxis=dict(\n",
    "        title='Number of People',\n",
    "        title_font=dict(size=16),\n",
    "        tickfont=dict(size=12),\n",
    "        gridcolor='lightgray'\n",
    "    ),\n",
    "    yaxis=dict(\n",
    "        range=[0, 90],\n",
    "        title='Age',\n",
    "        title_font=dict(size=16),\n",
    "        tickfont=dict(size=12),\n",
    "        gridcolor='lightgray'\n",
    "    ),\n",
    "    showlegend=True\n",
    ")\n",
    "\n",
    "bins_LA_caribbean = [go.Bar(x = LA_caribbean.loc[str(2023),:].filter(regex=\"Male\").values,\n",
    "               y = [int(s[:2])+1 for s in ages],\n",
    "               orientation='h',\n",
    "               name='Men',\n",
    "               marker=dict(color='green', line=dict(color='black', width=1)),\n",
    "               hoverinfo='skip'\n",
    "               ),\n",
    "\n",
    "        go.Bar(x = -LA_caribbean.loc[str(2023),:].filter(regex=\"Female\").values,\n",
    "               y=[int(s[:2])+1 for s in ages],\n",
    "               orientation='h',\n",
    "               name='Women',\n",
    "               marker=dict(color='orange', line=dict(color='black', width=1)),\n",
    "               hoverinfo='skip',\n",
    "               )\n",
    "        ]\n",
    "\n",
    "py.iplot(dict(data=bins_LA_caribbean, layout=layout_LA_caribbean))"
   ]
  },
  {
   "cell_type": "code",
   "execution_count": null,
   "id": "2d604868-fa1e-491c-9cc0-11d8fad8b196",
   "metadata": {},
   "outputs": [],
   "source": [
    "# A figure comparing the population pyramids of various Operation Condor countries in 2023 (recent data)\n",
    "\n",
    "# Define multiple countries\n",
    "country_choices = [\"CHL\", \"BRA\", \"ARG\", \"PER\"]\n",
    "country_titles = [\"Chile\", \"Brazil\", \"Argentina\", \"Peru\"]\n",
    "\n",
    "# Create a subplot layout (2 rows, 2 columns)\n",
    "fig_4 = make_subplots(rows=2, cols=2, subplot_titles=country_titles)\n",
    "\n",
    "# Loop through each country and generate its population pyramid\n",
    "for i, (country, title) in enumerate(zip(country_choices, country_titles)):\n",
    "    condor_countries = wbdata.get_dataframe(categories, country=country)\n",
    "\n",
    "    # Extract male and female data\n",
    "    male_data = condor_countries.loc[str(2023), :].filter(regex=\"Male\").values\n",
    "    female_data = -condor_countries.loc[str(2023), :].filter(regex=\"Female\").values  # Negative for left alignment\n",
    "    age_groups = [int(s[:2]) + 1 for s in ages]  # Convert age labels to integers\n",
    "\n",
    "    # Determine subplot position\n",
    "    row = i // 2 + 1\n",
    "    col = i % 2 + 1\n",
    "\n",
    "    # Add Male bar trace\n",
    "    fig_4.add_trace(go.Bar(\n",
    "        x=male_data,\n",
    "        y=age_groups,\n",
    "        orientation='h',\n",
    "        name=f'{country} - Men',\n",
    "        marker=dict(color='blue', line=dict(color='black', width=1)),\n",
    "        hoverinfo='skip'\n",
    "    ), row=row, col=col)\n",
    "\n",
    "    # Add Female bar trace\n",
    "    fig_4.add_trace(go.Bar(\n",
    "        x=female_data,\n",
    "        y=age_groups,\n",
    "        orientation='h',\n",
    "        name=f'{country} - Women',\n",
    "        marker=dict(color='pink', line=dict(color='black', width=1)),\n",
    "        hoverinfo='skip'\n",
    "    ), row=row, col=col)\n",
    "\n",
    " # Customize X and Y axis labels for each subplot\n",
    "    fig_4.update_xaxes(title_text=\"Number of People\", row=row, col=col)\n",
    "    fig_4.update_yaxes(title_text=\"Age\", row=row, col=col)\n",
    "\n",
    "# Updated layout for aesthetics!\n",
    "fig_4.update_layout(\n",
    "    title=\"Population Pyramids of Selected Latin American Countries (2023)\",\n",
    "    title_font=dict(size=18, color='black'),\n",
    "    barmode='overlay',\n",
    "    width=1200,  # Adjust width\n",
    "    height=1000,  # Adjust height\n",
    "    paper_bgcolor='#f4f4f4',\n",
    "    plot_bgcolor='#ffffff',\n",
    "    font=dict(family=\"Arial, sans-serif\", size=14, color=\"black\"),\n",
    "    showlegend=True\n",
    ")\n",
    "\n",
    "# Make the final figure\n",
    "fig_4.show()"
   ]
  },
  {
   "cell_type": "code",
   "execution_count": null,
   "id": "63728cfd-cf0a-4faf-b461-1aaa47875e5a",
   "metadata": {},
   "outputs": [],
   "source": [
    "# A figure comparing the population pyramids of various Operation Condor countries in 1980\n",
    "\n",
    "# Define multiple countries\n",
    "country_choices = [\"CHL\", \"BRA\", \"ARG\", \"PER\"]\n",
    "country_titles = [\"Chile\", \"Brazil\", \"Argentina\", \"Peru\"]\n",
    "\n",
    "# Create a subplot layout (2 rows, 2 columns)\n",
    "fig_5 = make_subplots(rows=2, cols=2, subplot_titles=country_titles)\n",
    "\n",
    "# Loop through each country and generate its population pyramid\n",
    "for i, (country, title) in enumerate(zip(country_choices, country_titles)):\n",
    "    condor_countries = wbdata.get_dataframe(categories, country=country)\n",
    "\n",
    "    # Extract male and female data\n",
    "    male_data = condor_countries.loc[str(1980), :].filter(regex=\"Male\").values\n",
    "    female_data = -condor_countries.loc[str(1980), :].filter(regex=\"Female\").values  # Negative for left alignment\n",
    "    age_groups = [int(s[:2]) + 1 for s in ages]  # Convert age labels to integers\n",
    "\n",
    "    # Determine subplot position\n",
    "    row = i // 2 + 1\n",
    "    col = i % 2 + 1\n",
    "\n",
    "    # Add Male bar trace\n",
    "    fig_5.add_trace(go.Bar(\n",
    "        x=male_data,\n",
    "        y=age_groups,\n",
    "        orientation='h',\n",
    "        name=f'{country} - Men',\n",
    "        marker=dict(color='blue', line=dict(color='black', width=1)),\n",
    "        hoverinfo='skip'\n",
    "    ), row=row, col=col)\n",
    "\n",
    "    # Add Female bar trace\n",
    "    fig_5.add_trace(go.Bar(\n",
    "        x=female_data,\n",
    "        y=age_groups,\n",
    "        orientation='h',\n",
    "        name=f'{country} - Women',\n",
    "        marker=dict(color='pink', line=dict(color='black', width=1)),\n",
    "        hoverinfo='skip'\n",
    "    ), row=row, col=col)\n",
    "\n",
    " # Customize X and Y axis labels for each subplot\n",
    "    fig_5.update_xaxes(title_text=\"Number of People\", row=row, col=col)\n",
    "    fig_5.update_yaxes(title_text=\"Age\", row=row, col=col)\n",
    "\n",
    "# Updated layout for aesthetics!\n",
    "fig_5.update_layout(\n",
    "    title=\"Population Pyramids of Selected Latin American Countries during Operation Condor (1980)\",\n",
    "    title_font=dict(size=18, color='black'),\n",
    "    barmode='overlay',\n",
    "    width=1200,  # Adjust width\n",
    "    height=1000,  # Adjust height\n",
    "    paper_bgcolor='#f4f4f4',\n",
    "    plot_bgcolor='#ffffff',\n",
    "    font=dict(family=\"Arial, sans-serif\", size=14, color=\"black\"),\n",
    "    showlegend=True\n",
    ")\n",
    "\n",
    "# Make the final figure\n",
    "fig_5.show()"
   ]
  },
  {
   "cell_type": "code",
   "execution_count": null,
   "id": "fc80cf1a-83e9-476b-90c5-d562d15719c6",
   "metadata": {},
   "outputs": [],
   "source": [
    "# Look at the changes within a given country"
   ]
  },
  {
   "cell_type": "code",
   "execution_count": null,
   "id": "230dde3c-5f22-40fe-b458-868a0a71dd2a",
   "metadata": {},
   "outputs": [],
   "source": [
    "# Argentina\n",
    "\n",
    "argentina = wbdata.get_dataframe(categories,country='ARG')\n",
    "\n",
    "a_bins = [go.Bar(x = argentina.loc[str(year),:].filter(regex=\"Male\").values,\n",
    "               y = [int(s[:2])+1 for s in age_ranges],\n",
    "               orientation='h',\n",
    "               name='Men',\n",
    "               marker=dict(color='blue'),\n",
    "               hoverinfo='skip'\n",
    "               ),\n",
    "\n",
    "        go.Bar(x = -argentina.loc[str(year),:].filter(regex=\"Female\").values,\n",
    "               y=[int(s[:2])+1 for s in age_ranges],\n",
    "               orientation='h',\n",
    "               name='Women',\n",
    "               marker=dict(color='pink'),\n",
    "               hoverinfo='skip',\n",
    "               )\n",
    "        ]"
   ]
  },
  {
   "cell_type": "code",
   "execution_count": null,
   "id": "812897ea-0b5b-4f62-b8eb-3fc439c579b6",
   "metadata": {},
   "outputs": [],
   "source": []
  }
 ],
 "metadata": {
  "kernelspec": {
   "display_name": "Python 3 (ipykernel)",
   "language": "python",
   "name": "python3"
  },
  "language_info": {
   "codemirror_mode": {
    "name": "ipython",
    "version": 3
   },
   "file_extension": ".py",
   "mimetype": "text/x-python",
   "name": "python",
   "nbconvert_exporter": "python",
   "pygments_lexer": "ipython3",
   "version": "3.11.11"
  }
 },
 "nbformat": 4,
 "nbformat_minor": 5
}
