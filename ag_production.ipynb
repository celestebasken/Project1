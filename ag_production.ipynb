{
 "cells": [
  {
   "cell_type": "markdown",
   "metadata": {},
   "source": [
    "## Agricultural Production\n",
    "\n"
   ]
  },
  {
   "cell_type": "markdown",
   "metadata": {},
   "source": [
    "### Preface\n",
    "\n"
   ]
  },
  {
   "cell_type": "markdown",
   "metadata": {},
   "source": [
    "Some packages we need to have installed (skip this if already installed):\n",
    "\n"
   ]
  },
  {
   "cell_type": "code",
   "execution_count": 1,
   "metadata": {},
   "outputs": [],
   "source": [
    "%pip install plotly\n",
    "%pip install wbdata\n",
    "%pip install cufflinks\n",
    "%pip install eep153_tools\n",
    "%pip install python_gnupg"
   ]
  },
  {
   "cell_type": "markdown",
   "metadata": {},
   "source": [
    "### Malthus\n",
    "\n"
   ]
  },
  {
   "cell_type": "markdown",
   "metadata": {},
   "source": [
    "Among all the things ever written by social scientists (or &ldquo;political philosophers&rdquo;, to use a term he would have recognized), Malthus&rsquo; [&ldquo;Essay on Population&rdquo; (1798)](https://oll.libertyfund.org/titles/malthus-an-essay-on-the-principle-of-population-1798-1st-ed) must be among the most influential.  You can find the first edition at the link above. The main argument is spelled out in Chapter 1, which I encourage you to read.  A key point of the essay begins with [two postulata](https://oll.libertyfund.org/titles/311#Malthus_0195_20):\n",
    "\n",
    "-   **First:** That food is necessary to the existence of man.\n",
    "-   **Secondly:** That the passion between the sexes is necessary and will remain nearly in its present state.\n",
    "\n",
    "These lead to a conclusion:\n",
    "\n",
    "Assuming then, my postulata as granted, I say, that the power of population is indefinitely greater than the power in the earth to produce subsistence for man.  Population, when unchecked, increases in a geometrical ratio. Subsistence increases only in an arithmetical ratio. A slight acquaintance with numbers will shew the immensity of the first power in comparison of the second.\n",
    "\n",
    ".\n",
    "\n"
   ]
  },
  {
   "cell_type": "markdown",
   "metadata": {},
   "source": [
    "### Malthus meets math\n",
    "\n"
   ]
  },
  {
   "cell_type": "markdown",
   "metadata": {},
   "source": [
    "Malthus&rsquo; argument boils down to a mathematical assertion: that\n",
    "    population grows at an exponential rate, while food production\n",
    "    increases only linearly.  We might write this as\n",
    "    $$\n",
    "       \\mbox{Population}_t = \\mbox{Population}_0e^{rt},\n",
    "    $$\n",
    "    where $r$ is the rate of population growth, and $t$ is the number\n",
    "    of years that have passed; and\n",
    "   $$\n",
    "       \\mbox{Food}_t = \\mbox{Food}_0 + mt.\n",
    "    $$\n",
    "    If we lack a &ldquo;slight acquaintance&rdquo; with numbers a graph makes the\n",
    "    point:\n",
    "\n"
   ]
  },
  {
   "cell_type": "code",
   "execution_count": 1,
   "metadata": {},
   "outputs": [],
   "source": [
    "import numpy as np\n",
    "import pandas as pd\n",
    "from scipy.optimize import newton\n",
    "import cufflinks as cf\n",
    "cf.go_offline()\n",
    "\n",
    "# Play with these constants\n",
    "## for exponential\n",
    "P0 = 1\n",
    "r = 0.02  # Rate of population growth\n",
    "\n",
    "## for line\n",
    "F0 = 10\n",
    "m = 100\n",
    "\n",
    "def food_production(t,m=m):\n",
    "    return F0+m*t\n",
    "\n",
    "def population(t,r=r):\n",
    "    return P0*np.exp(r*t)\n",
    "\n",
    "def choose_xaxis(r,m,x0=10):\n",
    "    \"\"\"\n",
    "    Find a range of x so that curves intersect\n",
    "    \"\"\"\n",
    "    tstar = -1\n",
    "    try:\n",
    "        while tstar <= 0:\n",
    "            tstar = newton(lambda t: food_production(t,m) - population(t,r),x0,maxiter=1000)\n",
    "            x0 = x0*10\n",
    "        return np.linspace(0,tstar*1.1,100)\n",
    "    except RuntimeError: # Failed to find root\n",
    "        return np.linspace(0,1000,100)\n",
    "\n",
    "T = choose_xaxis(r,m)\n",
    "\n",
    "df = pd.DataFrame({'Time': T,\n",
    "                   'Food production':[food_production(t) for t in T],\n",
    "                   'Population':[population(t) for t in T]}).set_index('Time')\n",
    "\n",
    "df.iplot()"
   ]
  },
  {
   "cell_type": "markdown",
   "metadata": {},
   "source": [
    "### Food Production\n",
    "\n"
   ]
  },
  {
   "cell_type": "markdown",
   "metadata": {},
   "source": [
    "Malthus thought that population would have to increase at an exponential rate.  We&rsquo;ve seen that in fact the rate of population increase has been roughly linear over the last six decades. (There are no guarantees about the future!)\n",
    "\n",
    "Malthus also thought that food production (&ldquo;subsistence&rdquo;) could only increase linearly (&ldquo;arithmetically&rdquo;).  We&rsquo;ll next take a look to see what the data say about this.\n",
    "\n"
   ]
  },
  {
   "cell_type": "markdown",
   "metadata": {},
   "source": [
    "#### Preface\n",
    "\n"
   ]
  },
  {
   "cell_type": "code",
   "execution_count": 1,
   "metadata": {},
   "outputs": [],
   "source": [
    "import numpy as np\n",
    "import wbdata\n",
    "import cufflinks as cf\n",
    "cf.go_offline()"
   ]
  },
  {
   "cell_type": "markdown",
   "metadata": {},
   "source": [
    "#### Finding data\n",
    "\n"
   ]
  },
  {
   "cell_type": "markdown",
   "metadata": {},
   "source": [
    "Maybe there&rsquo;s something relevant to food production in the WDI indicators?\n",
    "\n"
   ]
  },
  {
   "cell_type": "code",
   "execution_count": 1,
   "metadata": {},
   "outputs": [],
   "source": [
    "wbdata.get_topics()"
   ]
  },
  {
   "cell_type": "markdown",
   "metadata": {},
   "source": [
    "&ldquo;Agriculture & Rural Development&rdquo; sounds relevant.  Let&rsquo;s see what variables are available:\n",
    "\n"
   ]
  },
  {
   "cell_type": "code",
   "execution_count": 1,
   "metadata": {},
   "outputs": [],
   "source": [
    "wbdata.get_indicators(topic=1)"
   ]
  },
  {
   "cell_type": "markdown",
   "metadata": {},
   "source": [
    "#### Cereal production & land\n",
    "\n"
   ]
  },
  {
   "cell_type": "markdown",
   "metadata": {},
   "source": [
    "The great majority of food (as measured by calories) originates in the form of cereals; some of these are turned into products directly consumed by humans (bread, rice, hominy); others are used to feed livestock, which humans subsequently eat.  So what&rsquo;s happened to cereal production over the last few decades?\n",
    "\n"
   ]
  },
  {
   "cell_type": "code",
   "execution_count": 1,
   "metadata": {},
   "outputs": [],
   "source": [
    "vars = {\"AG.PRD.CREL.MT\":\"Cereal production\"}\n",
    "\n",
    "\n",
    "use=[\"CHN\",\"USA\",\"IND\",\"FRA\",\"RUS\",\"WLD\"]\n",
    "\n",
    "cereals = wbdata.get_dataframe(vars,country=use,parse_dates=True)).squeeze().unstack('country')\n",
    "\n",
    "# Use this to find top producers:\n",
    "#big_producers = cereals.xs('2022-01-01',level='date').squeeze().sort_values(ascending=False)\n",
    "#big_producers.head(20)\n",
    "\n",
    "cereals.iplot(xTitle=\"Year\",yTitle=\"Metric Tons\",\n",
    "              title=\"Cereal Production by Top 5 (in 2022)\")"
   ]
  },
  {
   "cell_type": "markdown",
   "metadata": {},
   "source": [
    "#### FAO Food Index\n",
    "\n"
   ]
  },
  {
   "cell_type": "markdown",
   "metadata": {},
   "source": [
    "The FAO compiles a series of data meant to measure changes in the supply of food of all sorts, including both plant and animal sources.\n",
    "\n",
    "From this we don&rsquo;t get levels; instead the series is normalized to an arbitrary year.  Let&rsquo;s let each series take the value of 100 in the year 2000, and compare this with a similarly normalized description of world population:\n",
    "\n"
   ]
  },
  {
   "cell_type": "code",
   "execution_count": 1,
   "metadata": {},
   "outputs": [],
   "source": [
    "vars = {\"AG.PRD.LVSK.XD\":\"Livestock index\",\n",
    "        \"AG.PRD.FOOD.XD\":\"Food index\",\n",
    "        \"AG.PRD.CROP.XD\":\"Crop index\",\n",
    "        \"SP.POP.TOTL\":\"Population\"}\n",
    "\n",
    "food = wbdata.get_dataframe(vars,parse_dates=True)).dropna()\n",
    "# Add population back...\n",
    "Population = food.Population\n",
    "\n",
    "# Weight indices by population\n",
    "food = food.filter(regex='index$').multiply(Population,axis=0)\n",
    "\n",
    "food['Population'] = Population\n",
    "\n",
    "# No \"WLD\" or other regions; add up all countries\n",
    "food = food.groupby('date').sum().replace(0,np.nan).dropna()\n",
    "\n",
    "food.sort_index(inplace=True)\n",
    "\n",
    "# Normalize so 2000 = 1\n",
    "food = food/food.loc['2000-01-01',:]\n",
    "\n",
    "# Some important countries missing data after 2020; drop later dates\n",
    "food = food.query(\"date<2021\")\n",
    "\n",
    "food.iplot(xTitle=\"Year\",yTitle=\"Index\")"
   ]
  },
  {
   "cell_type": "markdown",
   "metadata": {},
   "source": [
    "And here in growth rates:\n",
    "\n"
   ]
  },
  {
   "cell_type": "code",
   "execution_count": 1,
   "metadata": {},
   "outputs": [],
   "source": [
    "np.log(food).diff().iplot(xTitle=\"Year\",yTitle=\"Growth rates\")"
   ]
  },
  {
   "cell_type": "markdown",
   "metadata": {},
   "source": [
    "### How is agricultural production increasing?\n",
    "\n"
   ]
  },
  {
   "cell_type": "markdown",
   "metadata": {},
   "source": [
    "We&rsquo;ve seen that growth in food production is typically greater than\n",
    " population growth.  But where is this growth coming from?\n",
    "\n",
    "Food (and crops in particular) are the classical example of\n",
    "production.  The &ldquo;classical&rdquo; economists in the 18th century, when\n",
    "most income came from agriculture, thought there were three main\n",
    "&ldquo;factors&rdquo; of production:\n",
    "\n",
    "-   Land\n",
    "-   Labor\n",
    "-   Capital\n",
    "\n",
    "Thus one might write the technical relationship between &ldquo;factors&rdquo; (or\n",
    "inputs) and output as\n",
    "$$\n",
    "    \\text{Crop output} = F(\\mbox{Land},\\mbox{Labor},\\mbox{Capital}).\n",
    " $$\n",
    "\n"
   ]
  },
  {
   "cell_type": "markdown",
   "metadata": {},
   "source": [
    "### Functional forms\n",
    "\n"
   ]
  },
  {
   "cell_type": "markdown",
   "metadata": {},
   "source": [
    "We have good reason to think that $F$ displays constant returns to\n",
    "  scale; i.e., is homogeneous of degree one.  Write it as\n",
    "  $F(x_1,x_2,\\dots,x_n)$ (thus abstracting from the classical factors\n",
    "  of production).\n",
    "\n",
    "Observationally, it&rsquo;s also often the case the cost share for\n",
    "different factors of production remains constant, even when prices\n",
    "change.  If we combine these facts (linearly homogeneous, constant\n",
    "cost shares) with an assumption that farmers operating this\n",
    "production function are profit maximizing price-takers and a\n",
    "technical assumption that $F$ is continuously differentiable, then\n",
    "one can prove that $F$ is &ldquo;Cobb-Douglas&rdquo;, or\n",
    "$$\n",
    "      F(x_1,x_2,\\dots,x_n) = A\\prod_{i=1}^nx_i^{\\alpha_i},\n",
    "  $$\n",
    "where $\\sum_{i=1}^n\\alpha_i=1$.  This is a result first established\n",
    "by the economist Paul Douglas and the mathematician Charles Cobb in 1928.\n",
    "\n",
    "If we observe output at time $t$ for country $j$, say $y^j_t$ and inputs $x^j_{it}$, we can take the\n",
    "logarithm of the Cobb-Douglas production function, obtaining\n",
    "$$\n",
    "     \\log y^j_t = \\log A^j_t + \\sum_{i=1}^n\\alpha^j_i\\log(x^j_{it}).\n",
    "  $$\n",
    "Note that we&rsquo;ve allowed the cost-share parameters $\\alpha$ to vary\n",
    "across both inputs and also countries, but *not* over time.\n",
    "\n"
   ]
  },
  {
   "cell_type": "markdown",
   "metadata": {},
   "source": [
    "### Total Factor Productivity\n",
    "\n"
   ]
  },
  {
   "cell_type": "markdown",
   "metadata": {},
   "source": [
    "The term $A$ is sometimes called &ldquo;Total Factor Productivity&rdquo; (TFP),\n",
    "   because increases in $A$ increase productivity of all factors.  If\n",
    "   we take differences in log output over time we get\n",
    "   $$\n",
    "      \\Delta\\log y^j_t = \\Delta\\log A^j_t + \\sum_{i=1}^n\\alpha^j_i\\Delta\\log(x^j_{it}).\n",
    "   $$\n",
    "   Recall that changes in logs approximate percent changes or growth\n",
    "   rates, so we can use this equation to decompose output growth into\n",
    "   growth in input use and TFP growth.\n",
    "\n"
   ]
  },
  {
   "cell_type": "markdown",
   "metadata": {},
   "source": [
    "### Data on Food Production\n",
    "\n"
   ]
  },
  {
   "cell_type": "markdown",
   "metadata": {},
   "source": [
    "What’s happened to food production over recent decades?\n",
    " See\n",
    " [https://www.ers.usda.gov/data-products/international-agricultural-productivity/](https://www.ers.usda.gov/data-products/international-agricultural-productivity/).\n",
    "\n",
    "Data on TFP, output, factor use, and factor shares can be found at\n",
    "[https://docs.google.com/spreadsheets/d/1IL9BYacvhs6oIOAnp2KWYdTsoqIqReA2jGRlpheB9kQ/](https://docs.google.com/spreadsheets/d/1IL9BYacvhs6oIOAnp2KWYdTsoqIqReA2jGRlpheB9kQ/),\n",
    "which is publicly readable.\n",
    "\n"
   ]
  },
  {
   "cell_type": "markdown",
   "metadata": {},
   "source": [
    "### Reading Sheets\n",
    "\n"
   ]
  },
  {
   "cell_type": "markdown",
   "metadata": {},
   "source": [
    "I&rsquo;ve written a python package `eep153_tools` which includes tools to\n",
    "handle authentication as well as reading google sheets as pandas\n",
    "DataFrames.  First we have to deal with authentication, by decrypting\n",
    "credentials to access particular files (you should only have to do\n",
    "this part once):\n",
    "\n"
   ]
  },
  {
   "cell_type": "code",
   "execution_count": 1,
   "metadata": {},
   "outputs": [],
   "source": [
    "from eep153_tools.sheets import decrypt_credentials\n",
    "decrypt_credentials('../students.json.gpg')"
   ]
  },
  {
   "cell_type": "markdown",
   "metadata": {},
   "source": [
    "To check that this worked, the following gives a list of\n",
    "emails for &ldquo;service<sub>accounts</sub>&rdquo; that now have credentials&#x2013;you can\n",
    "then &ldquo;share&rdquo; google sheets with these.\n",
    "\n"
   ]
  },
  {
   "cell_type": "code",
   "execution_count": 1,
   "metadata": {},
   "outputs": [],
   "source": [
    "!ls ~/.eep153.service_accounts/"
   ]
  },
  {
   "cell_type": "markdown",
   "metadata": {},
   "source": [
    "With those credentials established\n",
    "\n"
   ]
  },
  {
   "cell_type": "code",
   "execution_count": 1,
   "metadata": {},
   "outputs": [],
   "source": [
    "from eep153_tools.sheets import read_sheets\n",
    "from functools import cache\n",
    "import pandas as pd\n",
    "\n",
    "@cache\n",
    "def get_ag_data():\n",
    "    \"\"\"Read a bunch of google worksheets into a dictionary of dataframes\"\"\"\n",
    "    data = read_sheets('https://docs.google.com/spreadsheets/d/1IL9BYacvhs6oIOAnp2KWYdTsoqIqReA2jGRlpheB9kQ/',sheet='Wide format data')\n",
    "\n",
    "    Data = {'Country':'Country/territory','WDI Code':'ISO3','Year':'Year','Output':'Outall_Index','TFP':'TFP_Index','Land':'Land_Index','Labor':'Labor_Index','Capital':'Capital_Index','Materials':'Materials_Index'}\n",
    "\n",
    "    df = data.rename(columns={v:k for k,v in Data.items()})\n",
    "    df = df[Data.keys()].set_index(['WDI Code','Country','Year'])\n",
    "\n",
    "    # Deal with some duplicate indices (drops regions)\n",
    "    df = df.loc[~df.index.duplicated(),:]\n",
    "\n",
    "    return df"
   ]
  },
  {
   "cell_type": "markdown",
   "metadata": {},
   "source": [
    "### Visualizing data on ag production\n",
    "\n"
   ]
  },
  {
   "cell_type": "markdown",
   "metadata": {},
   "source": [
    "Plot growth in output for all countries for 1961 on:\n",
    "\n"
   ]
  },
  {
   "cell_type": "code",
   "execution_count": 1,
   "metadata": {},
   "outputs": [],
   "source": [
    "#% pip install cufflinks\n",
    "import cufflinks as cf\n",
    "cf.go_offline()\n",
    "\n",
    "df = get_ag_data()\n",
    "\n",
    "df['Output'].unstack().T.iplot(title=\"Index of Agricultural Output\",\n",
    "                               yTitle='Value of Output Index',\n",
    "                               xTitle='Year')"
   ]
  },
  {
   "cell_type": "markdown",
   "metadata": {},
   "source": [
    "Compare world growth in outputs, inputs, and TFP:\n",
    "\n"
   ]
  },
  {
   "cell_type": "code",
   "execution_count": 1,
   "metadata": {},
   "outputs": [],
   "source": [
    "import numpy as np\n",
    "\n",
    "world = df.xs('World',level='Country').replace(0,np.nan).dropna(how='any')\n",
    "\n",
    "# Drop unnecessary index levels\n",
    "world = world.droplevel(['WDI Code'])\n",
    "\n",
    "# Put in log differences\n",
    "dworld = np.log(world).diff()\n",
    "dworld['Inputs'] = dworld['Output'] - dworld['TFP']\n",
    "\n",
    "dworld.mean()"
   ]
  },
  {
   "cell_type": "markdown",
   "metadata": {},
   "source": [
    "And a graph of growth rates:\n",
    "\n"
   ]
  },
  {
   "cell_type": "code",
   "execution_count": 1,
   "metadata": {},
   "outputs": [],
   "source": [
    "dworld[['Output','Inputs','TFP']].iplot(title=\"Growth rates of output, inputs, & TFP\",\n",
    "                                           xTitle=\"Year\")"
   ]
  },
  {
   "cell_type": "markdown",
   "metadata": {},
   "source": [
    "That&rsquo;s the overall picture for the world.  Now &ldquo;drill down&rdquo; and\n",
    "consider just production in the US:\n",
    "\n"
   ]
  },
  {
   "cell_type": "code",
   "execution_count": 1,
   "metadata": {},
   "outputs": [],
   "source": [
    "select = df.xs('USA',level='WDI Code').dropna(how='any')\n",
    "\n",
    "# Drop unnecessary index levels\n",
    "select = select.droplevel(['Country'])\n",
    "\n",
    "dselect = np.log(select).diff()\n",
    "dselect['Inputs'] = dselect['Output'] - dselect['TFP']\n",
    "\n",
    "dselect.mean()"
   ]
  },
  {
   "cell_type": "markdown",
   "metadata": {},
   "source": [
    "And here a graph of growth in indices of inputs & outputs since 1961:\n",
    "\n"
   ]
  },
  {
   "cell_type": "code",
   "execution_count": 1,
   "metadata": {},
   "outputs": [],
   "source": [
    "select = df.xs('USA',level='WDI Code').dropna(how='any').droplevel(['Country'])\n",
    "\n",
    "select = select/select.loc[1961,:]\n",
    "select.iplot()"
   ]
  },
  {
   "cell_type": "markdown",
   "metadata": {},
   "source": [
    "Compare with India, which in recent years has had a level of\n",
    "agricultural output close to that of the US:\n",
    "\n"
   ]
  },
  {
   "cell_type": "code",
   "execution_count": 1,
   "metadata": {},
   "outputs": [],
   "source": [
    "select = df.xs('IND',level='WDI Code').dropna(how='any').droplevel(['Country'])\n",
    "\n",
    "select = select/select.loc[1961,:]\n",
    "select.iplot()"
   ]
  }
 ],
 "metadata": {
  "kernelspec": {
   "display_name": "Python 3 (ipykernel)",
   "language": "python",
   "name": "python3"
  },
  "language_info": {
   "codemirror_mode": {
    "name": "ipython",
    "version": 3
   },
   "file_extension": ".py",
   "mimetype": "text/x-python",
   "name": "python",
   "nbconvert_exporter": "python",
   "pygments_lexer": "ipython3",
   "version": "3.8.2"
  },
  "org": null
 },
 "nbformat": 4,
 "nbformat_minor": 4
}
