{
 "cells": [
  {
   "cell_type": "code",
   "execution_count": 1,
   "id": "15df1ae1-92fc-46e1-89d7-a471c61408b5",
   "metadata": {},
   "outputs": [],
   "source": [
    "# New Project 1 document"
   ]
  },
  {
   "cell_type": "code",
   "execution_count": 2,
   "id": "6ef7503a-0f92-49a2-83a3-9f6c75b85d7f",
   "metadata": {},
   "outputs": [
    {
     "data": {
      "text/plain": [
       "'Create a GitHub repository with your code and any files necessary to run your code. See edstem post for GitHub resources.\\n'"
      ]
     },
     "execution_count": 2,
     "metadata": {},
     "output_type": "execute_result"
    }
   ],
   "source": [
    "#REQUIRED ELEMENTS:\n",
    "#1 [A] Population Statistics (REILY)\n",
    "'''A python function named population that will deliver information to answer the queries of the following form:\n",
    "\n",
    "In [year] how many [people/males/females] aged [low] to [high] were living in [the world/region/country]?\n",
    "Then answering such a query suggests writing a function that returns a population count given a year, sort of person, age range, and place. For example:\n",
    "\n",
    "def population(year,sex,age_range,place):\n",
    "    \"\"\"Your doc-string here\"\"\"\n",
    "    pass '''\n",
    "#2 [A] Unit tests (TEAM MEMBER)\n",
    "\n",
    "'''Unit tests are a great tool for designing and testing code you produce as a team.\n",
    "\n",
    "The idea: for any function your team plans to write (e.g., the population function described above), think of some tests you’d expect the function to pass even before the function is written. Using the python assert keyword can be very useful. (there are also more powerful and complex approaches, including the unittest module).\n",
    "\n",
    "For example:\n",
    "\n",
    "   assert population(year=2000,sex='Male',age_range=(0,100),place='WLD') > 7e9/2,\"Too few males!\"'''\n",
    "\n",
    "#. [A] Presentation\n",
    "'''Each group will be responsible for creating a 15 minute video demonstration of the work they’ve accomplished during the sdisplay.\n",
    "\n",
    "Note that you will be evaluated on how well your team managed its time during the presentation, so try not to go over 15 minutes. Also note that groups typically discuss or run through their code in some way during presentations.\n",
    "'''\n",
    "#10. [A] GitHub Repository containing code\n",
    "'''Create a GitHub repository with your code and any files necessary to run your code. See edstem post for GitHub resources.\n",
    "'''\n",
    "#11. [A] Code Review\n"
   ]
  },
  {
   "cell_type": "code",
   "execution_count": 3,
   "id": "b8a3e5cf-2910-4e4c-b46c-fba343365a70",
   "metadata": {},
   "outputs": [
    {
     "data": {
      "text/plain": [
       "'A python function that takes as input a pandas DataFrame with columns providing counts of people by age-sex groups, and constructs a “population pyramid” graph for visualizing the data.\\n'"
      ]
     },
     "execution_count": 3,
     "metadata": {},
     "output_type": "execute_result"
    }
   ],
   "source": [
    "#VERY DESIRABLE:\n",
    "#1 Population DataFrames\n",
    "'''A function that returns a pandas DataFrame indexed by Region or Country and Year, with columns giving counts of people in different age-sex groups.\n",
    "'''\n",
    "#4. [B] Population Pyramids\n",
    "'''A python function that takes as input a pandas DataFrame with columns providing counts of people by age-sex groups, and constructs a “population pyramid” graph for visualizing the data.\n",
    "'''\n",
    "\n"
   ]
  },
  {
   "cell_type": "code",
   "execution_count": 4,
   "id": "df566738-93b3-48f4-a04b-dcdd6ba632ba",
   "metadata": {},
   "outputs": [
    {
     "data": {
      "text/plain": [
       "'5. [C] Animated Population Pyramids\\nA python function that takes as input a pandas DataFrame with columns providing counts of people by age-sex groups, with rows corresponding to different years, and constructs an animated “population pyramid” graph for visualizing how the population changes over time.\\n\\n6. [C] Population Maps\\nA Jupyter notebook which queries a population database and provides visualizations in the form of maps. An example of a library that may be useful is geopandas.\\n\\n7. [C] Other Visualization Tools\\nIf you think of other ways to organize or visualize population and how it changes over time, this is for you!\\n\\n8. [C] Agricultural Supply\\nRelate changes in agricultural food supply to changes in population. What would Malthus think?'"
      ]
     },
     "execution_count": 4,
     "metadata": {},
     "output_type": "execute_result"
    }
   ],
   "source": [
    "# NICE TO HAVES:\n",
    "'''5. [C] Animated Population Pyramids\n",
    "A python function that takes as input a pandas DataFrame with columns providing counts of people by age-sex groups, with rows corresponding to different years, and constructs an animated “population pyramid” graph for visualizing how the population changes over time.\n",
    "\n",
    "6. [C] Population Maps\n",
    "A Jupyter notebook which queries a population database and provides visualizations in the form of maps. An example of a library that may be useful is geopandas.\n",
    "\n",
    "7. [C] Other Visualization Tools\n",
    "If you think of other ways to organize or visualize population and how it changes over time, this is for you!\n",
    "\n",
    "8. [C] Agricultural Supply\n",
    "Relate changes in agricultural food supply to changes in population. What would Malthus think?'''"
   ]
  },
  {
   "cell_type": "code",
   "execution_count": 5,
   "id": "a1244804-d8bc-4769-b54a-9b959709f874",
   "metadata": {},
   "outputs": [
    {
     "name": "stderr",
     "output_type": "stream",
     "text": [
      "/Users/celestebasken/Library/Python/3.8/lib/python/site-packages/urllib3/__init__.py:35: NotOpenSSLWarning: urllib3 v2 only supports OpenSSL 1.1.1+, currently the 'ssl' module is compiled with 'LibreSSL 2.8.3'. See: https://github.com/urllib3/urllib3/issues/3020\n",
      "  warnings.warn(\n",
      "Failed to open cache database file /Users/celestebasken/Library/Caches/wbdata/1.0.0/cache. Overwriting with a new one.\n"
     ]
    }
   ],
   "source": [
    "# Every group member should uncomment below first to install wbdata:\n",
    "#%pip install wbdata\n",
    "\n",
    "import wbdata\n"
   ]
  },
  {
   "cell_type": "code",
   "execution_count": 6,
   "id": "bc8396fb-eb89-4dad-8b6e-820b8378628a",
   "metadata": {},
   "outputs": [
    {
     "ename": "NameError",
     "evalue": "name 'np' is not defined",
     "output_type": "error",
     "traceback": [
      "\u001b[0;31m---------------------------------------------------------------------------\u001b[0m",
      "\u001b[0;31mNameError\u001b[0m                                 Traceback (most recent call last)",
      "Cell \u001b[0;32mIn[6], line 96\u001b[0m\n\u001b[1;32m     91\u001b[0m     display(\u001b[38;5;124mf\u001b[39m\u001b[38;5;124m'\u001b[39m\u001b[38;5;124mIn \u001b[39m\u001b[38;5;132;01m{\u001b[39;00myear\u001b[38;5;132;01m}\u001b[39;00m\u001b[38;5;124m, the number of \u001b[39m\u001b[38;5;132;01m{\u001b[39;00msex\u001b[38;5;132;01m}\u001b[39;00m\u001b[38;5;124m between ages \u001b[39m\u001b[38;5;132;01m{\u001b[39;00mage_low\u001b[38;5;132;01m}\u001b[39;00m\u001b[38;5;124m to \u001b[39m\u001b[38;5;132;01m{\u001b[39;00mage_high\u001b[38;5;132;01m}\u001b[39;00m\u001b[38;5;124m living in \u001b[39m\u001b[38;5;132;01m{\u001b[39;00mplace\u001b[38;5;132;01m}\u001b[39;00m\u001b[38;5;124m was approximately \u001b[39m\u001b[38;5;132;01m{\u001b[39;00mtotal\u001b[38;5;132;01m}\u001b[39;00m\u001b[38;5;124m'\u001b[39m)\n\u001b[1;32m     92\u001b[0m     \u001b[38;5;28;01mreturn\u001b[39;00m df\n\u001b[0;32m---> 96\u001b[0m \u001b[43mpopulation\u001b[49m\u001b[43m(\u001b[49m\u001b[38;5;124;43m'\u001b[39;49m\u001b[38;5;124;43mall sexes\u001b[39;49m\u001b[38;5;124;43m'\u001b[39;49m\u001b[43m,\u001b[49m\u001b[43m \u001b[49m\u001b[38;5;241;43m26\u001b[39;49m\u001b[43m,\u001b[49m\u001b[43m \u001b[49m\u001b[38;5;241;43m32\u001b[39;49m\u001b[43m,\u001b[49m\u001b[43m \u001b[49m\u001b[38;5;124;43m'\u001b[39;49m\u001b[38;5;124;43mIND\u001b[39;49m\u001b[38;5;124;43m'\u001b[39;49m\u001b[43m,\u001b[49m\u001b[43m \u001b[49m\u001b[38;5;241;43m2023\u001b[39;49m\u001b[43m)\u001b[49m\n",
      "Cell \u001b[0;32mIn[6], line 85\u001b[0m, in \u001b[0;36mpopulation\u001b[0;34m(sex, age_low, age_high, place, year)\u001b[0m\n\u001b[1;32m     84\u001b[0m \u001b[38;5;28;01mdef\u001b[39;00m\u001b[38;5;250m \u001b[39m\u001b[38;5;21mpopulation\u001b[39m(sex,age_low, age_high, place, year):\n\u001b[0;32m---> 85\u001b[0m     labels \u001b[38;5;241m=\u001b[39m \u001b[38;5;28;43mrange\u001b[39;49m\u001b[43m(\u001b[49m\u001b[43mage_low\u001b[49m\u001b[43m,\u001b[49m\u001b[43m \u001b[49m\u001b[43mage_high\u001b[49m\u001b[43m,\u001b[49m\u001b[43m \u001b[49m\u001b[43msex\u001b[49m\u001b[43m)\u001b[49m\n\u001b[1;32m     86\u001b[0m     \u001b[38;5;66;03m#display(labels)\u001b[39;00m\n\u001b[1;32m     87\u001b[0m     df \u001b[38;5;241m=\u001b[39m get_df(labels, sex, place, year)\n",
      "Cell \u001b[0;32mIn[6], line 30\u001b[0m, in \u001b[0;36mrange\u001b[0;34m(age_low, age_high, sex)\u001b[0m\n\u001b[1;32m     27\u001b[0m floor_str \u001b[38;5;241m=\u001b[39m \u001b[38;5;28mstr\u001b[39m(age_floor)\u001b[38;5;241m.\u001b[39mzfill(\u001b[38;5;241m2\u001b[39m)\n\u001b[1;32m     28\u001b[0m num_ranges \u001b[38;5;241m=\u001b[39m (age_ceiling \u001b[38;5;241m-\u001b[39m age_floor) \u001b[38;5;241m/\u001b[39m \u001b[38;5;241m5\u001b[39m\n\u001b[0;32m---> 30\u001b[0m \u001b[38;5;28;01mfor\u001b[39;00m i \u001b[38;5;129;01min\u001b[39;00m \u001b[43mnp\u001b[49m\u001b[38;5;241m.\u001b[39marange(num_ranges):\n\u001b[1;32m     31\u001b[0m     lower_str \u001b[38;5;241m=\u001b[39m \u001b[38;5;28mstr\u001b[39m(\u001b[38;5;28mint\u001b[39m(age_floor\u001b[38;5;241m+\u001b[39m\u001b[38;5;241m5\u001b[39m\u001b[38;5;241m*\u001b[39mi))\n\u001b[1;32m     32\u001b[0m     higher_str \u001b[38;5;241m=\u001b[39m \u001b[38;5;28mstr\u001b[39m(\u001b[38;5;28mint\u001b[39m(age_floor\u001b[38;5;241m+\u001b[39m\u001b[38;5;241m5\u001b[39m\u001b[38;5;241m*\u001b[39mi\u001b[38;5;241m+\u001b[39m\u001b[38;5;241m4\u001b[39m))\n",
      "\u001b[0;31mNameError\u001b[0m: name 'np' is not defined"
     ]
    }
   ],
   "source": [
    "#1 [A] Population Statistics \n",
    "'''In [year] how many [people/males/females] aged [low] to [high] were living in [the world/region/country]?'''\n",
    "import math\n",
    "#def population(year,sex,age_low, age_high,place):\n",
    "SOURCE = 40\n",
    "\n",
    " ##correct age range:\n",
    "def range(age_low, age_high, sex):\n",
    "    \n",
    "    labels = {}\n",
    "    #age range [0,25]\n",
    "    if age_high <= 25:\n",
    "        for i in np.arange(age_low, age_high+1):\n",
    "            if sex == 'males':\n",
    "                labels[f'SP.POP.AG{str(i).zfill(2)}.MA.IN'] = f'SP.POP.AG{str(i).zfill(2)}.MA.IN'\n",
    "            elif sex == 'females':\n",
    "                \n",
    "                labels[f'SP.POP.AG{str(i).zfill(2)}.FE.IN'] = f'SP.POP.AG{str(i).zfill(2)}.FE.IN'\n",
    "            else:\n",
    "                labels[f'SP.POP.AG{str(i).zfill(2)}.MA.IN'] = f'SP.POP.AG{str(i).zfill(2)}.MA.IN'\n",
    "                labels[f'SP.POP.AG{str(i).zfill(2)}.FE.IN'] = f'SP.POP.AG{str(i).zfill(2)}.FE.IN'\n",
    "                \n",
    "    #age range [25, +]\n",
    "    elif age_low > 25:\n",
    "        age_floor = math.floor(age_low /5) * 5\n",
    "        age_ceiling = math.ceil(age_high/5)*5 \n",
    "        floor_str = str(age_floor).zfill(2)\n",
    "        num_ranges = (age_ceiling - age_floor) / 5\n",
    "       \n",
    "        for i in np.arange(num_ranges):\n",
    "            lower_str = str(int(age_floor+5*i))\n",
    "            higher_str = str(int(age_floor+5*i+4))\n",
    "           \n",
    "            if sex == 'males':\n",
    "                labels[f'SP.POP.{lower_str}{higher_str}.MA'] = f'SP.POP.{lower_str}{higher_str}.MA'\n",
    "            elif sex == 'females':\n",
    "                labels[f'SP.POP.{lower_str}{higher_str}.FE'] = f'SP.POP.{lower_str}{higher_str}.FE'\n",
    "            else:\n",
    "               \n",
    "                labels[f'SP.POP.{lower_str}{higher_str}.FE'] = f'SP.POP.{lower_str}{higher_str}.FE'\n",
    "                labels[f'SP.POP.{lower_str}{higher_str}.MA'] = f'SP.POP.{lower_str}{higher_str}.MA'\n",
    "    #age range [0, 25+]\n",
    "    else:\n",
    "        age_ceiling = math.ceil(age_high/5)*5 \n",
    "        range = (age_ceiling - 25) /5\n",
    "       \n",
    "        display('both')\n",
    "        for i in np.arange(age_low, 25):\n",
    "            if sex == 'males':\n",
    "                \n",
    "                labels[f'SP.POP.AG{str(i).zfill(2)}.MA.IN'] = f'SP.POP.AG{str(i).zfill(2)}.MA.IN'\n",
    "            elif sex == 'females':\n",
    "                \n",
    "                labels[f'SP.POP.AG{str(i).zfill(2)}.FE.IN'] = f'SP.POP.AG{str(i).zfill(2)}.FE.IN'\n",
    "            else:\n",
    "               \n",
    "                labels[f'SP.POP.AG{str(i).zfill(2)}.MA.IN'] = f'SP.POP.AG{str(i).zfill(2)}.MA.IN'\n",
    "                labels[f'SP.POP.AG{str(i).zfill(2)}.FE.IN'] = f'SP.POP.AG{str(i).zfill(2)}.FE.IN'\n",
    "        for j in np.arange((age_ceiling-25)/5):\n",
    "            lower_str = str(int(25+5*j))\n",
    "            higher_str = str(int(25+5*j +4))\n",
    "\n",
    "            if sex == 'males':\n",
    "                \n",
    "                labels[f'SP.POP.AG{lower_str}{higher_str}.MA.IN'] = f'SP.POP.AG{lower_str}{higher_str}.MA.IN'\n",
    "            elif sex == 'females':\n",
    "               \n",
    "                labels[f'SP.POP.AG{lower_str}{higher_str}.FE.IN'] = f'SP.POP.AG{lower_str}{higher_str}.FE.IN'\n",
    "            else:\n",
    "              \n",
    "                labels[f'SP.POP.AG{lower_str}{higher_str}.FE.IN'] = f'SP.POP.AG{lower_str}{higher_str}.FE.IN'\n",
    "                labels[f'SP.POP.AG{lower_str}{higher_str}.MA.IN'] = f'SP.POP.AG{lower_str}{higher_str}.MA.IN'\n",
    "    return labels\n",
    "\n",
    "\n",
    "\n",
    "def get_df(labels, sex, place, year):\n",
    "    df = wbdata.get_dataframe(labels,country = place,parse_dates=True)\n",
    "    df = df.reset_index()\n",
    "    df2 = df[df['date'] == f'{year}-01-01']\n",
    "    return df2\n",
    "\n",
    "\n",
    "def population(sex,age_low, age_high, place, year):\n",
    "    labels = range(age_low, age_high, sex)\n",
    "    #display(labels)\n",
    "    df = get_df(labels, sex, place, year)\n",
    "    df.drop('date', axis = 1, inplace=True)\n",
    "    df['total pop in age range'] = df.sum(axis=1)\n",
    "    total = df.iloc[0]['total pop in age range']\n",
    "    display(f'In {year}, the number of {sex} between ages {age_low} to {age_high} living in {place} was approximately {total}')\n",
    "    return df\n",
    "    \n",
    "\n",
    "\n",
    "population('all sexes', 26, 32, 'IND', 2023)"
   ]
  },
  {
   "cell_type": "code",
   "execution_count": null,
   "id": "55c84a44-347e-4868-837c-03fabf914c9f",
   "metadata": {},
   "outputs": [],
   "source": [
    "#lecture 1 resources for working with wbdata:\n",
    "\n",
    "# Return list of all country/region codes:\n",
    "wbdata.get_countries()\n",
    "\n",
    "# Return list matching a query term:\n",
    "#wbdata.get_countries(query=\"World\")\n",
    "#wbdata.get_countries(query=\"United\")\n",
    "\n",
    "## Try your own search!\n",
    "wbdata.get_countries(query=\"\")\n",
    "\n",
    "#see sources\n",
    "#wbdata.get_sources()\n",
    "\n",
    "SOURCE = 40 # \"Population estimates and projections\n",
    "\n",
    "indicators = wbdata.get_indicators(source=SOURCE)\n",
    "#indicators\n",
    "\n",
    "\n",
    "# Give variable for clarity\n",
    "#variable_labels = {\"SP.POP.TOTL\":\"World Population\"}\n",
    "\n",
    "#world = wbdata.get_dataframe(variable_labels, country=\"WLD\",parse_dates=True)\n",
    "\n",
    "# display a few years' data\n",
    "#world.head()"
   ]
  },
  {
   "cell_type": "code",
   "execution_count": null,
   "id": "c01fb9ad-0b4a-4967-968b-7c2d74817585",
   "metadata": {},
   "outputs": [],
   "source": [
    "import pandas as pd\n",
    "import numpy as np\n",
    "pd.options.plotting.backend = 'plotly'"
   ]
  },
  {
   "cell_type": "code",
   "execution_count": null,
   "id": "f7061584-daff-470e-88e3-fff20d60c354",
   "metadata": {},
   "outputs": [],
   "source": [
    "# Useful arguments to pass include xTitle, yTitle, Title\n",
    "#world.plot(title=\"Fact I: Growth Rates Falling over Time\",\n",
    "           # labels=dict(date='Year',value='Population'))\n",
    "\n",
    "\n",
    "#variable_labels = {\"SP.POP.TOTL\":\"Population\"}\n",
    "\n",
    "# Three letter codes come from wbdata.get_countries()\n",
    "'''\n",
    "countries = {\"WLD\":\"World\",\n",
    "             \"LIC\":\"Low income\",\n",
    "             \"LMC\":\"Low-medium income\",\n",
    "             \"UMC\":\"Upper-medium income\",\n",
    "             \"HIC\":\"High income\",\n",
    "            }\n",
    "            \n",
    "df = wbdata.get_dataframe(variable_labels, country = countries,parse_dates=True).squeeze()\n",
    "\n",
    "df = df.unstack('country')\n",
    "\n",
    "# Differences (over time) in logs give us growth rates\n",
    "np.log(df).diff().plot(title=\"Fact II: Poorer places have higher growth rates\",\n",
    "                       labels=dict(value=\"Growth Rate\",date='Year'))\n",
    "\n",
    "# wbdata.get_indicators(query=\"GDP per capita\")\n",
    "\n",
    "indicators = {\"NY.GDP.PCAP.CD\":\"GDP per capita\",\n",
    "              \"SP.DYN.TFRT.IN\":\"Total Fertility Rate\",\n",
    "              \"SP.POP.GROW\":\"Population Growth Rate\",\n",
    "              \"SP.DYN.AMRT.MA\":\"Male Mortality\",\n",
    "              \"SP.DYN.AMRT.FE\":\"Female Mortality\",\n",
    "              \"SP.POP.1564.FE.ZS\":\"% Adult Female\",\n",
    "              \"SP.POP.TOTL.FE.ZS\":\"% Female\"}\n",
    "\n",
    "data = wbdata.get_dataframe(indicators,parse_dates=True)\n",
    "\n",
    "# Just grab data from one year\n",
    "df = data.xs(\"2022-01-01\",level='date') # Latest year missing some data\n",
    "\n",
    "df['Log GDP per capita'] = np.log(df['GDP per capita'])\n",
    "\n",
    "df.plot.scatter(title=\"Fact II: Population growth is lower in higher-income countries\",\n",
    "         x=\"Log GDP per capita\",y=\"Population Growth Rate\",\n",
    "         hover_name=df.reset_index('country')['country'].values.tolist())\n",
    "         '''"
   ]
  },
  {
   "cell_type": "code",
   "execution_count": null,
   "id": "daff1e60-9ac9-4343-8aef-32a132fa9ffe",
   "metadata": {},
   "outputs": [],
   "source": [
    "# DATA EXPLORATION FOR INDIA GREEN REVOLUTION [REILY]: \n",
    "\n",
    "\n",
    "#I don't think its a good option because it was during the 1960s which is right when our dataset begins"
   ]
  },
  {
   "cell_type": "code",
   "execution_count": null,
   "id": "4c578386-4d77-4232-a1e1-1d23c194cac7",
   "metadata": {},
   "outputs": [],
   "source": [
    "#wbdata.get_countries(query=\"India\")\n",
    "#wbdata.get_sources()\n",
    "\n",
    "#RELEVANT SOURCES for India (IND)\n",
    "#5  Subnational Malnutrition Database\n",
    "#16  Health Nutrition and Population Statistics\n",
    "# 39  Health Nutrition and Population Statistics by Wealth Quintile\n",
    "# 40  Population estimates and projections\n",
    "#41  Country Partnership Strategy for India (FY2013 - 17)\n",
    "#88  Food Prices for Nutrition\n",
    "\n",
    "SOURCE = 40\n",
    "\n",
    "indicators = wbdata.get_indicators(source=SOURCE)\n",
    "#indicators\n",
    "\n",
    "variable_labels = {\"SP.POP.TOTL\":\"India Population\", 'SP.URB.TOTL': 'Urban population', 'SP.RUR.TOTL': 'Rural population'}\n",
    "\n",
    "india_pop = wbdata.get_dataframe(variable_labels, country=\"IND\",parse_dates=True)\n",
    "\n",
    "# display a few years' data\n",
    "#india_pop.head()"
   ]
  },
  {
   "cell_type": "code",
   "execution_count": null,
   "id": "1f9219f6-95f0-4c2c-9ada-4c488afe24b5",
   "metadata": {},
   "outputs": [],
   "source": [
    "india_pop.plot(kind='line')"
   ]
  },
  {
   "cell_type": "code",
   "execution_count": null,
   "id": "c767275a-ac87-433b-857a-f1d6c3a21788",
   "metadata": {
    "jupyter": {
     "source_hidden": true
    }
   },
   "outputs": [],
   "source": [
    "SOURCE = 16\n",
    "\n",
    "indicators = wbdata.get_indicators(source=SOURCE)\n",
    "indicators\n",
    "\n",
    "variable_labels = {\"SH.DYN.MORT\":'Mortality rate, under-5 (per 1,000 live births)',\n",
    "#\"SP.POP.TOTL\":\"India Population\",  \n",
    "'SP.DYN.IMRT.IN': 'Mortality rate, infant (per 1,000 live births)',\n",
    "#'SP.DYN.LE00.IN': 'Life expectancy at birth, total (years)',\n",
    "#'SP.DYN.TFRT.IN': 'Fertility rate, total (births per woman)',\n",
    "'SP.DYN.CBRT.IN':'Birth rate, crude (per 1,000 people)',\n",
    "'SP.DYN.CDRT.IN':'Death rate, crude (per 1,000 people)'}\n",
    "#SP.POP.GROW           Population growth (annual %)\n",
    "india_rate = wbdata.get_dataframe(variable_labels, country=\"IND\",parse_dates=True)\n",
    "\n",
    "# display a few years' data\n",
    "#india_rate.head()\n",
    "india_rate.plot(kind='line')"
   ]
  },
  {
   "cell_type": "code",
   "execution_count": null,
   "id": "480b8fb1-63f1-4dbb-bb67-82391f326ac5",
   "metadata": {
    "jupyter": {
     "source_hidden": true
    }
   },
   "outputs": [],
   "source": [
    "SOURCE = 88\n",
    "\n",
    "indicators = wbdata.get_indicators(source=SOURCE)\n",
    "indicators\n",
    "\n",
    "#variable_labels = {\"SH.DYN.MORT\":'Mortality rate, under-5 (per 1,000 live births)',\n",
    "#\"SP.POP.TOTL\":\"India Population\",  \n",
    "#'SP.DYN.IMRT.IN': 'Mortality rate, infant (per 1,000 live births)',\n",
    "#'SP.DYN.LE00.IN': 'Life expectancy at birth, total (years)',\n",
    "#'SP.DYN.TFRT.IN': 'Fertility rate, total (births per woman)',\n",
    "#'SP.DYN.CBRT.IN':'Birth rate, crude (per 1,000 people)',\n",
    "#'SP.DYN.CDRT.IN':'Death rate, crude (per 1,000 people)'}\n",
    "#SP.POP.GROW           Population growth (annual %)\n",
    "#india_rate = wbdata.get_dataframe(variable_labels, country=\"IND\",parse_dates=True)\n",
    "\n",
    "# display a few years' data\n",
    "#india_rate.head()\n",
    "#india_rate.plot(kind='line')"
   ]
  },
  {
   "cell_type": "code",
   "execution_count": null,
   "id": "a4a4b60a-903c-43ce-8cd5-ba90a854807a",
   "metadata": {},
   "outputs": [],
   "source": []
  },
  {
   "cell_type": "code",
   "execution_count": null,
   "id": "8554d2e4-a8d6-485e-a9e5-ae96f3251f2f",
   "metadata": {},
   "outputs": [],
   "source": [
    "# DATA EXPLORATION FOR BRIC countries/ child labor in ag/ urbanization?  : (Celeste)"
   ]
  },
  {
   "cell_type": "code",
   "execution_count": 7,
   "id": "ded6a71e-8bd0-4f83-beb3-affd9018f6a7",
   "metadata": {
    "collapsed": true,
    "jupyter": {
     "outputs_hidden": true
    }
   },
   "outputs": [
    {
     "name": "stdout",
     "output_type": "stream",
     "text": [
      "Defaulting to user installation because normal site-packages is not writeable\n",
      "Requirement already satisfied: plotly in /Users/celestebasken/Library/Python/3.8/lib/python/site-packages (5.24.1)\n",
      "Requirement already satisfied: tenacity>=6.2.0 in /Users/celestebasken/Library/Python/3.8/lib/python/site-packages (from plotly) (9.0.0)\n",
      "Requirement already satisfied: packaging in /Users/celestebasken/Library/Python/3.8/lib/python/site-packages (from plotly) (24.2)\n",
      "Note: you may need to restart the kernel to use updated packages.\n",
      "Defaulting to user installation because normal site-packages is not writeable\n",
      "Requirement already satisfied: wbdata in /Users/celestebasken/Library/Python/3.8/lib/python/site-packages (1.0.0)\n",
      "Requirement already satisfied: appdirs<2.0,>=1.4 in /Users/celestebasken/Library/Python/3.8/lib/python/site-packages (from wbdata) (1.4.4)\n",
      "Requirement already satisfied: backoff<3.0.0,>=2.2.1 in /Users/celestebasken/Library/Python/3.8/lib/python/site-packages (from wbdata) (2.2.1)\n",
      "Requirement already satisfied: cachetools<6.0.0,>=5.3.2 in /Users/celestebasken/Library/Python/3.8/lib/python/site-packages (from wbdata) (5.5.1)\n",
      "Requirement already satisfied: dateparser<2.0.0,>=1.2.0 in /Users/celestebasken/Library/Python/3.8/lib/python/site-packages (from wbdata) (1.2.0)\n",
      "Requirement already satisfied: decorator<6.0.0,>=5.1.1 in /Users/celestebasken/Library/Python/3.8/lib/python/site-packages (from wbdata) (5.1.1)\n",
      "Requirement already satisfied: requests<3.0,>=2.0 in /Users/celestebasken/Library/Python/3.8/lib/python/site-packages (from wbdata) (2.32.3)\n",
      "Requirement already satisfied: shelved-cache<0.4.0,>=0.3.1 in /Users/celestebasken/Library/Python/3.8/lib/python/site-packages (from wbdata) (0.3.1)\n",
      "Requirement already satisfied: tabulate<0.9.0,>=0.8.5 in /Users/celestebasken/Library/Python/3.8/lib/python/site-packages (from wbdata) (0.8.10)\n",
      "Requirement already satisfied: python-dateutil in /Users/celestebasken/Library/Python/3.8/lib/python/site-packages (from dateparser<2.0.0,>=1.2.0->wbdata) (2.9.0.post0)\n",
      "Requirement already satisfied: pytz in /Users/celestebasken/Library/Python/3.8/lib/python/site-packages (from dateparser<2.0.0,>=1.2.0->wbdata) (2024.2)\n",
      "Requirement already satisfied: regex!=2019.02.19,!=2021.8.27 in /Users/celestebasken/Library/Python/3.8/lib/python/site-packages (from dateparser<2.0.0,>=1.2.0->wbdata) (2024.11.6)\n",
      "Requirement already satisfied: tzlocal in /Users/celestebasken/Library/Python/3.8/lib/python/site-packages (from dateparser<2.0.0,>=1.2.0->wbdata) (5.2)\n",
      "Requirement already satisfied: charset-normalizer<4,>=2 in /Users/celestebasken/Library/Python/3.8/lib/python/site-packages (from requests<3.0,>=2.0->wbdata) (3.4.1)\n",
      "Requirement already satisfied: idna<4,>=2.5 in /Users/celestebasken/Library/Python/3.8/lib/python/site-packages (from requests<3.0,>=2.0->wbdata) (3.10)\n",
      "Requirement already satisfied: urllib3<3,>=1.21.1 in /Users/celestebasken/Library/Python/3.8/lib/python/site-packages (from requests<3.0,>=2.0->wbdata) (2.2.3)\n",
      "Requirement already satisfied: certifi>=2017.4.17 in /Users/celestebasken/Library/Python/3.8/lib/python/site-packages (from requests<3.0,>=2.0->wbdata) (2024.12.14)\n",
      "Requirement already satisfied: six>=1.5 in /Library/Developer/CommandLineTools/Library/Frameworks/Python3.framework/Versions/3.8/lib/python3.8/site-packages (from python-dateutil->dateparser<2.0.0,>=1.2.0->wbdata) (1.15.0)\n",
      "Requirement already satisfied: backports.zoneinfo in /Users/celestebasken/Library/Python/3.8/lib/python/site-packages (from tzlocal->dateparser<2.0.0,>=1.2.0->wbdata) (0.2.1)\n",
      "Note: you may need to restart the kernel to use updated packages.\n",
      "Defaulting to user installation because normal site-packages is not writeable\n",
      "Requirement already satisfied: cufflinks in /Users/celestebasken/Library/Python/3.8/lib/python/site-packages (0.17.3)\n",
      "Requirement already satisfied: numpy>=1.9.2 in /Users/celestebasken/Library/Python/3.8/lib/python/site-packages (from cufflinks) (1.24.4)\n",
      "Requirement already satisfied: pandas>=0.19.2 in /Users/celestebasken/Library/Python/3.8/lib/python/site-packages (from cufflinks) (2.0.3)\n",
      "Requirement already satisfied: plotly>=4.1.1 in /Users/celestebasken/Library/Python/3.8/lib/python/site-packages (from cufflinks) (5.24.1)\n",
      "Requirement already satisfied: six>=1.9.0 in /Library/Developer/CommandLineTools/Library/Frameworks/Python3.framework/Versions/3.8/lib/python3.8/site-packages (from cufflinks) (1.15.0)\n",
      "Requirement already satisfied: colorlover>=0.2.1 in /Users/celestebasken/Library/Python/3.8/lib/python/site-packages (from cufflinks) (0.3.0)\n",
      "Requirement already satisfied: setuptools>=34.4.1 in /Library/Developer/CommandLineTools/Library/Frameworks/Python3.framework/Versions/3.8/lib/python3.8/site-packages (from cufflinks) (41.2.0)\n",
      "Requirement already satisfied: ipython>=5.3.0 in /Users/celestebasken/Library/Python/3.8/lib/python/site-packages (from cufflinks) (8.12.3)\n",
      "Requirement already satisfied: ipywidgets>=7.0.0 in /Users/celestebasken/Library/Python/3.8/lib/python/site-packages (from cufflinks) (8.1.5)\n",
      "Requirement already satisfied: backcall in /Users/celestebasken/Library/Python/3.8/lib/python/site-packages (from ipython>=5.3.0->cufflinks) (0.2.0)\n",
      "Requirement already satisfied: decorator in /Users/celestebasken/Library/Python/3.8/lib/python/site-packages (from ipython>=5.3.0->cufflinks) (5.1.1)\n",
      "Requirement already satisfied: jedi>=0.16 in /Users/celestebasken/Library/Python/3.8/lib/python/site-packages (from ipython>=5.3.0->cufflinks) (0.19.2)\n",
      "Requirement already satisfied: matplotlib-inline in /Users/celestebasken/Library/Python/3.8/lib/python/site-packages (from ipython>=5.3.0->cufflinks) (0.1.7)\n",
      "Requirement already satisfied: pickleshare in /Users/celestebasken/Library/Python/3.8/lib/python/site-packages (from ipython>=5.3.0->cufflinks) (0.7.5)\n",
      "Requirement already satisfied: prompt-toolkit!=3.0.37,<3.1.0,>=3.0.30 in /Users/celestebasken/Library/Python/3.8/lib/python/site-packages (from ipython>=5.3.0->cufflinks) (3.0.50)\n",
      "Requirement already satisfied: pygments>=2.4.0 in /Users/celestebasken/Library/Python/3.8/lib/python/site-packages (from ipython>=5.3.0->cufflinks) (2.19.1)\n",
      "Requirement already satisfied: stack-data in /Users/celestebasken/Library/Python/3.8/lib/python/site-packages (from ipython>=5.3.0->cufflinks) (0.6.3)\n",
      "Requirement already satisfied: traitlets>=5 in /Users/celestebasken/Library/Python/3.8/lib/python/site-packages (from ipython>=5.3.0->cufflinks) (5.14.3)\n",
      "Requirement already satisfied: typing-extensions in /Users/celestebasken/Library/Python/3.8/lib/python/site-packages (from ipython>=5.3.0->cufflinks) (4.12.2)\n",
      "Requirement already satisfied: pexpect>4.3 in /Users/celestebasken/Library/Python/3.8/lib/python/site-packages (from ipython>=5.3.0->cufflinks) (4.9.0)\n",
      "Requirement already satisfied: appnope in /Users/celestebasken/Library/Python/3.8/lib/python/site-packages (from ipython>=5.3.0->cufflinks) (0.1.4)\n",
      "Requirement already satisfied: comm>=0.1.3 in /Users/celestebasken/Library/Python/3.8/lib/python/site-packages (from ipywidgets>=7.0.0->cufflinks) (0.2.2)\n",
      "Requirement already satisfied: widgetsnbextension~=4.0.12 in /Users/celestebasken/Library/Python/3.8/lib/python/site-packages (from ipywidgets>=7.0.0->cufflinks) (4.0.13)\n",
      "Requirement already satisfied: jupyterlab-widgets~=3.0.12 in /Users/celestebasken/Library/Python/3.8/lib/python/site-packages (from ipywidgets>=7.0.0->cufflinks) (3.0.13)\n",
      "Requirement already satisfied: python-dateutil>=2.8.2 in /Users/celestebasken/Library/Python/3.8/lib/python/site-packages (from pandas>=0.19.2->cufflinks) (2.9.0.post0)\n",
      "Requirement already satisfied: pytz>=2020.1 in /Users/celestebasken/Library/Python/3.8/lib/python/site-packages (from pandas>=0.19.2->cufflinks) (2024.2)\n",
      "Requirement already satisfied: tzdata>=2022.1 in /Users/celestebasken/Library/Python/3.8/lib/python/site-packages (from pandas>=0.19.2->cufflinks) (2025.1)\n",
      "Requirement already satisfied: tenacity>=6.2.0 in /Users/celestebasken/Library/Python/3.8/lib/python/site-packages (from plotly>=4.1.1->cufflinks) (9.0.0)\n",
      "Requirement already satisfied: packaging in /Users/celestebasken/Library/Python/3.8/lib/python/site-packages (from plotly>=4.1.1->cufflinks) (24.2)\n",
      "Requirement already satisfied: parso<0.9.0,>=0.8.4 in /Users/celestebasken/Library/Python/3.8/lib/python/site-packages (from jedi>=0.16->ipython>=5.3.0->cufflinks) (0.8.4)\n",
      "Requirement already satisfied: ptyprocess>=0.5 in /Users/celestebasken/Library/Python/3.8/lib/python/site-packages (from pexpect>4.3->ipython>=5.3.0->cufflinks) (0.7.0)\n",
      "Requirement already satisfied: wcwidth in /Users/celestebasken/Library/Python/3.8/lib/python/site-packages (from prompt-toolkit!=3.0.37,<3.1.0,>=3.0.30->ipython>=5.3.0->cufflinks) (0.2.13)\n",
      "Requirement already satisfied: executing>=1.2.0 in /Users/celestebasken/Library/Python/3.8/lib/python/site-packages (from stack-data->ipython>=5.3.0->cufflinks) (2.2.0)\n",
      "Requirement already satisfied: asttokens>=2.1.0 in /Users/celestebasken/Library/Python/3.8/lib/python/site-packages (from stack-data->ipython>=5.3.0->cufflinks) (3.0.0)\n",
      "Requirement already satisfied: pure-eval in /Users/celestebasken/Library/Python/3.8/lib/python/site-packages (from stack-data->ipython>=5.3.0->cufflinks) (0.2.3)\n",
      "Note: you may need to restart the kernel to use updated packages.\n",
      "Defaulting to user installation because normal site-packages is not writeable\n",
      "Requirement already satisfied: eep153_tools in /Users/celestebasken/Library/Python/3.8/lib/python/site-packages (0.12.4)\n",
      "Note: you may need to restart the kernel to use updated packages.\n",
      "Defaulting to user installation because normal site-packages is not writeable\n",
      "Requirement already satisfied: python_gnupg in /Users/celestebasken/Library/Python/3.8/lib/python/site-packages (0.5.4)\n",
      "Note: you may need to restart the kernel to use updated packages.\n"
     ]
    }
   ],
   "source": [
    "# If not installed, run this cell\n",
    "%pip install pandas\n",
    "%pip install plotly\n",
    "%pip install wbdata\n",
    "%pip install cufflinks\n",
    "%pip install eep153_tools\n",
    "%pip install python_gnupg"
   ]
  },
  {
   "cell_type": "code",
   "execution_count": 10,
   "id": "2a95f565-bee5-4068-883e-531c7d8497e3",
   "metadata": {},
   "outputs": [],
   "source": [
    "import pandas as pd\n",
    "import numpy as np\n",
    "import wbdata\n",
    "\n",
    "pd.options.plotting.backend = 'plotly'\n",
    "SOURCE2=2 "
   ]
  },
  {
   "cell_type": "code",
   "execution_count": 17,
   "id": "44df73a1-9a4f-4f2f-b540-e06133a8a2c8",
   "metadata": {},
   "outputs": [],
   "source": [
    "# Isolating Child employment in agriculture for data investigation\n",
    "\n",
    "variable_children = {\"SL.AGR.0714.ZS\": \"Child Ag\"}\n",
    "\n",
    "world = wbdata.get_dataframe(variable_children, country=\"WLD\", parse_dates=True)\n",
    "\n",
    "# Three letter codes come from wbdata.get_countries()\n",
    "countries = {\"BRA\":\"Brazil\",\n",
    "             \"IDN\":\"Indonesia\",\n",
    "             \"VNM\":\"Vietnam\",\n",
    "             \"CHN\":\"China\",\n",
    "            }\n",
    "\n",
    "df2 = wbdata.get_dataframe(variable_children, country = countries,parse_dates=True).squeeze()\n",
    "df2 = df2.unstack('country')\n"
   ]
  }
 ],
 "metadata": {
  "kernelspec": {
   "display_name": "Python 3 (ipykernel)",
   "language": "python",
   "name": "python3"
  },
  "language_info": {
   "codemirror_mode": {
    "name": "ipython",
    "version": 3
   },
   "file_extension": ".py",
   "mimetype": "text/x-python",
   "name": "python",
   "nbconvert_exporter": "python",
   "pygments_lexer": "ipython3",
   "version": "3.8.2"
  }
 },
 "nbformat": 4,
 "nbformat_minor": 5
}
