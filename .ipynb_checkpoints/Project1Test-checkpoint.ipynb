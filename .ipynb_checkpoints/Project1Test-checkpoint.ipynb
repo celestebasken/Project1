{
 "cells": [
  {
   "cell_type": "code",
   "execution_count": null,
   "id": "15df1ae1-92fc-46e1-89d7-a471c61408b5",
   "metadata": {},
   "outputs": [],
   "source": [
    "# New Project 1 document test"
   ]
  }
 ],
 "metadata": {
  "kernelspec": {
   "display_name": "Python 3 (ipykernel)",
   "language": "python",
   "name": "python3"
  },
  "language_info": {
   "codemirror_mode": {
    "name": "ipython",
    "version": 3
   },
   "file_extension": ".py",
   "mimetype": "text/x-python",
   "name": "python",
   "nbconvert_exporter": "python",
   "pygments_lexer": "ipython3",
   "version": "3.11.11"
  }
 },
 "nbformat": 4,
 "nbformat_minor": 5
}
