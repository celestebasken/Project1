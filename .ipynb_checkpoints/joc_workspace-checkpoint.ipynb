{
 "cells": [
  {
   "cell_type": "code",
   "execution_count": null,
   "id": "29dfd537-53e6-4f08-ad01-92dca39b2ab7",
   "metadata": {},
   "outputs": [],
   "source": [
    "!pip install geopandas contextily matplotlib pandas\n",
    "!pip install --upgrade contextily xyzservices\n",
    "import geopandas as gpd\n",
    "import matplotlib.pyplot as plt\n",
    "\n",
    "file_path = \"south-america_652 (1).geojson\"\n",
    "southamerica = gpd.read_file(file_path)\n",
    "\n",
    "\n",
    "fig, ax = plt.subplots(figsize=(10, 6))\n",
    "southamerica.plot(ax=ax, edgecolor=\"black\", color=\"pink\")\n",
    "plt.title(\"South America Map\")\n",
    "plt.show()"
   ]
  },
  {
   "cell_type": "code",
   "execution_count": null,
   "id": "02bd4a6c-61a7-4620-a524-7d7be6a35d73",
   "metadata": {},
   "outputs": [],
   "source": [
    "southamerica.head()"
   ]
  },
  {
   "cell_type": "code",
   "execution_count": null,
   "id": "292cbb4e-8353-4cd5-b796-0feb1ee31b30",
   "metadata": {},
   "outputs": [],
   "source": [
    "selected_countries = [\"Brazil\", \"Chile\", \"Argentina\", \"Uruguay\", \"Ecuador\", \"Colombia\", \"Peru\", \"Paraguay\"]\n",
    "filtered_df = southamerica[southamerica[\"name\"].isin(selected_countries)]\n",
    "print(southamerica.columns)\n"
   ]
  },
  {
   "cell_type": "code",
   "execution_count": null,
   "id": "c793175c-6e14-4cc6-8a33-bcc02a9649ab",
   "metadata": {},
   "outputs": [],
   "source": [
    "population_data = {\n",
    "    \"Country\": [\"Brazil\", \"Chile\", \"Argentina\", \"Uruguay\", \"Ecuador\", \"Colombia\", \"Peru\", \"Paraguay\"],\n",
    "    \"Population\": [213000000, 19000000, 45000000, 3500000, 17800000, 50800000, 33000000, 7100000]\n",
    "}\n",
    "population_df = pd.DataFrame(population_data)"
   ]
  },
  {
   "cell_type": "code",
   "execution_count": null,
   "id": "bdfaac1d-ec34-4782-8f50-d0c144a3218c",
   "metadata": {},
   "outputs": [],
   "source": [
    "merged_df = filtered_df.merge(population_df, left_on=\"name\", right_on=\"Country\")"
   ]
  },
  {
   "cell_type": "code",
   "execution_count": null,
   "id": "91a018bc-f194-48f9-805b-022509ccece2",
   "metadata": {},
   "outputs": [],
   "source": [
    "import contextily as ctx\n",
    "print(ctx.providers.keys())"
   ]
  },
  {
   "cell_type": "code",
   "execution_count": null,
   "id": "1e062351-699e-4d47-85ac-1b313888794a",
   "metadata": {},
   "outputs": [],
   "source": [
    "fig, ax = plt.subplots(figsize=(10, 8))\n",
    "merged_df.plot(column=\"Population\", cmap=\"OrRd\", linewidth=0.8, edgecolor=\"black\", legend=True, ax=ax)\n",
    "ax.set_title(\"Population Distribution in South America\", fontsize=15)\n",
    "ctx.add_basemap(ax, source=ctx.providers.OpenStreetMap.Mapnik, zoom=10)\n",
    "\n",
    "ctx.add_basemap(ax, source=ctx.providers.OpenStreetMap.Mapnik)\n",
    "plt.show()\n",
    "\n",
    "\n",
    "\n"
   ]
  },
  {
   "cell_type": "code",
   "execution_count": null,
   "id": "78345487-5711-4afc-ba27-fe11235b7ba0",
   "metadata": {},
   "outputs": [],
   "source": [
    "argentina = southamerica[southamerica['name'] == 'Argentina']\n",
    "argentina.plot()"
   ]
  }
 ],
 "metadata": {
  "kernelspec": {
   "display_name": "Python 3 (ipykernel)",
   "language": "python",
   "name": "python3"
  },
  "language_info": {
   "codemirror_mode": {
    "name": "ipython",
    "version": 3
   },
   "file_extension": ".py",
   "mimetype": "text/x-python",
   "name": "python",
   "nbconvert_exporter": "python",
   "pygments_lexer": "ipython3",
   "version": "3.11.11"
  }
 },
 "nbformat": 4,
 "nbformat_minor": 5
}
