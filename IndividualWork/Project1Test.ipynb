{
 "cells": [
  {
   "cell_type": "code",
   "execution_count": 2,
   "id": "15df1ae1-92fc-46e1-89d7-a471c61408b5",
   "metadata": {},
   "outputs": [],
   "source": [
    "# New Project 1 document"
   ]
  },
  {
   "cell_type": "code",
   "execution_count": 1,
   "id": "a2a939f8-f981-4675-a005-8f66cc9f0d62",
   "metadata": {},
   "outputs": [],
   "source": [
    "# good source: https://www.jstor.org/stable/2633683?seq=15"
   ]
  },
  {
   "cell_type": "code",
   "execution_count": 3,
   "id": "6ef7503a-0f92-49a2-83a3-9f6c75b85d7f",
   "metadata": {},
   "outputs": [
    {
     "data": {
      "text/plain": [
       "'Create a GitHub repository with your code and any files necessary to run your code. See edstem post for GitHub resources.\\n'"
      ]
     },
     "execution_count": 3,
     "metadata": {},
     "output_type": "execute_result"
    }
   ],
   "source": [
    "#REQUIRED ELEMENTS:\n",
    "#1 [A] Population Statistics (REILY)\n",
    "'''A python function named population that will deliver information to answer the queries of the following form:\n",
    "\n",
    "In [year] how many [people/males/females] aged [low] to [high] were living in [the world/region/country]?\n",
    "Then answering such a query suggests writing a function that returns a population count given a year, sort of person, age range, and place. For example:\n",
    "\n",
    "def population(year,sex,age_range,place):\n",
    "    \"\"\"Your doc-string here\"\"\"\n",
    "    pass '''\n",
    "#2 [A] Unit tests (TEAM MEMBER)\n",
    "\n",
    "'''Unit tests are a great tool for designing and testing code you produce as a team.\n",
    "\n",
    "The idea: for any function your team plans to write (e.g., the population function described above), think of some tests you’d expect the function to pass even before the function is written. Using the python assert keyword can be very useful. (there are also more powerful and complex approaches, including the unittest module).\n",
    "\n",
    "For example:\n",
    "\n",
    "   assert population(year=2000,sex='Male',age_range=(0,100),place='WLD') > 7e9/2,\"Too few males!\"'''\n",
    "\n",
    "#. [A] Presentation\n",
    "'''Each group will be responsible for creating a 15 minute video demonstration of the work they’ve accomplished during the sdisplay.\n",
    "\n",
    "Note that you will be evaluated on how well your team managed its time during the presentation, so try not to go over 15 minutes. Also note that groups typically discuss or run through their code in some way during presentations.\n",
    "'''\n",
    "#10. [A] GitHub Repository containing code\n",
    "'''Create a GitHub repository with your code and any files necessary to run your code. See edstem post for GitHub resources.\n",
    "'''\n",
    "#11. [A] Code Review\n"
   ]
  },
  {
   "cell_type": "code",
   "execution_count": 4,
   "id": "b8a3e5cf-2910-4e4c-b46c-fba343365a70",
   "metadata": {},
   "outputs": [
    {
     "data": {
      "text/plain": [
       "'A python function that takes as input a pandas DataFrame with columns providing counts of people by age-sex groups, and constructs a “population pyramid” graph for visualizing the data.\\n'"
      ]
     },
     "execution_count": 4,
     "metadata": {},
     "output_type": "execute_result"
    }
   ],
   "source": [
    "#VERY DESIRABLE:\n",
    "#1 Population DataFrames (Reily)\n",
    "'''A function that returns a pandas DataFrame indexed by Region or Country and Year, with columns giving counts of people in different age-sex groups.\n",
    "'''\n",
    "#4. [B] Population Pyramids\n",
    "'''A python function that takes as input a pandas DataFrame with columns providing counts of people by age-sex groups, and constructs a “population pyramid” graph for visualizing the data.\n",
    "'''\n",
    "\n"
   ]
  },
  {
   "cell_type": "code",
   "execution_count": 5,
   "id": "df566738-93b3-48f4-a04b-dcdd6ba632ba",
   "metadata": {},
   "outputs": [
    {
     "data": {
      "text/plain": [
       "'5. [C] Animated Population Pyramids\\nA python function that takes as input a pandas DataFrame with columns providing counts of people by age-sex groups, with rows corresponding to different years, and constructs an animated “population pyramid” graph for visualizing how the population changes over time.\\n\\n6. [C] Population Maps\\nA Jupyter notebook which queries a population database and provides visualizations in the form of maps. An example of a library that may be useful is geopandas.\\n\\n7. [C] Other Visualization Tools\\nIf you think of other ways to organize or visualize population and how it changes over time, this is for you!\\n\\n8. [C] Agricultural Supply\\nRelate changes in agricultural food supply to changes in population. What would Malthus think?'"
      ]
     },
     "execution_count": 5,
     "metadata": {},
     "output_type": "execute_result"
    }
   ],
   "source": [
    "# NICE TO HAVES:\n",
    "'''5. [C] Animated Population Pyramids\n",
    "A python function that takes as input a pandas DataFrame with columns providing counts of people by age-sex groups, with rows corresponding to different years, and constructs an animated “population pyramid” graph for visualizing how the population changes over time.\n",
    "\n",
    "6. [C] Population Maps\n",
    "A Jupyter notebook which queries a population database and provides visualizations in the form of maps. An example of a library that may be useful is geopandas.\n",
    "\n",
    "7. [C] Other Visualization Tools\n",
    "If you think of other ways to organize or visualize population and how it changes over time, this is for you!\n",
    "\n",
    "8. [C] Agricultural Supply\n",
    "Relate changes in agricultural food supply to changes in population. What would Malthus think?'''"
   ]
  },
  {
   "cell_type": "code",
   "execution_count": 8,
   "id": "a1244804-d8bc-4769-b54a-9b959709f874",
   "metadata": {},
   "outputs": [
    {
     "name": "stdout",
     "output_type": "stream",
     "text": [
      "Requirement already satisfied: wbdata in /srv/conda/lib/python3.11/site-packages (1.0.0)\n",
      "Requirement already satisfied: appdirs<2.0,>=1.4 in /srv/conda/lib/python3.11/site-packages (from wbdata) (1.4.4)\n",
      "Requirement already satisfied: backoff<3.0.0,>=2.2.1 in /srv/conda/lib/python3.11/site-packages (from wbdata) (2.2.1)\n",
      "Requirement already satisfied: cachetools<6.0.0,>=5.3.2 in /srv/conda/lib/python3.11/site-packages (from wbdata) (5.5.1)\n",
      "Requirement already satisfied: dateparser<2.0.0,>=1.2.0 in /srv/conda/lib/python3.11/site-packages (from wbdata) (1.2.0)\n",
      "Requirement already satisfied: decorator<6.0.0,>=5.1.1 in /srv/conda/lib/python3.11/site-packages (from wbdata) (5.1.1)\n",
      "Requirement already satisfied: requests<3.0,>=2.0 in /srv/conda/lib/python3.11/site-packages (from wbdata) (2.32.3)\n",
      "Requirement already satisfied: shelved-cache<0.4.0,>=0.3.1 in /srv/conda/lib/python3.11/site-packages (from wbdata) (0.3.1)\n",
      "Requirement already satisfied: tabulate<0.9.0,>=0.8.5 in /srv/conda/lib/python3.11/site-packages (from wbdata) (0.8.10)\n",
      "Requirement already satisfied: python-dateutil in /srv/conda/lib/python3.11/site-packages (from dateparser<2.0.0,>=1.2.0->wbdata) (2.9.0.post0)\n",
      "Requirement already satisfied: pytz in /srv/conda/lib/python3.11/site-packages (from dateparser<2.0.0,>=1.2.0->wbdata) (2024.1)\n",
      "Requirement already satisfied: regex!=2019.02.19,!=2021.8.27 in /srv/conda/lib/python3.11/site-packages (from dateparser<2.0.0,>=1.2.0->wbdata) (2024.11.6)\n",
      "Requirement already satisfied: tzlocal in /srv/conda/lib/python3.11/site-packages (from dateparser<2.0.0,>=1.2.0->wbdata) (5.2)\n",
      "Requirement already satisfied: charset_normalizer<4,>=2 in /srv/conda/lib/python3.11/site-packages (from requests<3.0,>=2.0->wbdata) (3.4.0)\n",
      "Requirement already satisfied: idna<4,>=2.5 in /srv/conda/lib/python3.11/site-packages (from requests<3.0,>=2.0->wbdata) (3.10)\n",
      "Requirement already satisfied: urllib3<3,>=1.21.1 in /srv/conda/lib/python3.11/site-packages (from requests<3.0,>=2.0->wbdata) (2.3.0)\n",
      "Requirement already satisfied: certifi>=2017.4.17 in /srv/conda/lib/python3.11/site-packages (from requests<3.0,>=2.0->wbdata) (2024.12.14)\n",
      "Requirement already satisfied: six>=1.5 in /srv/conda/lib/python3.11/site-packages (from python-dateutil->dateparser<2.0.0,>=1.2.0->wbdata) (1.17.0)\n",
      "Note: you may need to restart the kernel to use updated packages.\n"
     ]
    }
   ],
   "source": [
    "%pip install wbdata\n",
    "\n",
    "import wbdata\n",
    "\n"
   ]
  },
  {
   "cell_type": "code",
   "execution_count": 1,
   "id": "bc8396fb-eb89-4dad-8b6e-820b8378628a",
   "metadata": {},
   "outputs": [
    {
     "ename": "NameError",
     "evalue": "name 'wbdata' is not defined",
     "output_type": "error",
     "traceback": [
      "\u001b[0;31m---------------------------------------------------------------------------\u001b[0m",
      "\u001b[0;31mNameError\u001b[0m                                 Traceback (most recent call last)",
      "Cell \u001b[0;32mIn[1], line 96\u001b[0m\n\u001b[1;32m     92\u001b[0m     \u001b[38;5;28;01mreturn\u001b[39;00m df\n\u001b[1;32m     95\u001b[0m \u001b[38;5;66;03m# working for >25 not less than\u001b[39;00m\n\u001b[0;32m---> 96\u001b[0m \u001b[43mpopulation\u001b[49m\u001b[43m(\u001b[49m\u001b[38;5;124;43m'\u001b[39;49m\u001b[38;5;124;43mall sexes\u001b[39;49m\u001b[38;5;124;43m'\u001b[39;49m\u001b[43m,\u001b[49m\u001b[43m \u001b[49m\u001b[38;5;241;43m24\u001b[39;49m\u001b[43m,\u001b[49m\u001b[43m \u001b[49m\u001b[38;5;241;43m25\u001b[39;49m\u001b[43m,\u001b[49m\u001b[43m \u001b[49m\u001b[38;5;124;43m'\u001b[39;49m\u001b[38;5;124;43mCHL\u001b[39;49m\u001b[38;5;124;43m'\u001b[39;49m\u001b[43m,\u001b[49m\u001b[43m \u001b[49m\u001b[38;5;241;43m2023\u001b[39;49m\u001b[43m)\u001b[49m\n\u001b[1;32m     97\u001b[0m \u001b[38;5;66;03m#ARG   Argentina\u001b[39;00m\n\u001b[1;32m     98\u001b[0m \u001b[38;5;66;03m#BOL   Bolivia\u001b[39;00m\n\u001b[1;32m     99\u001b[0m \u001b[38;5;66;03m#BRA   Brazil \u001b[39;00m\n\u001b[1;32m    100\u001b[0m \u001b[38;5;66;03m#CHL   Chile Got error 120 (Invalid value): The provided parameter value is not valid\u001b[39;00m\n\u001b[1;32m    101\u001b[0m \u001b[38;5;66;03m#ECU   Ecuador Got error 120 (Invalid value): The provided parameter value is not valid\u001b[39;00m\n",
      "Cell \u001b[0;32mIn[1], line 87\u001b[0m, in \u001b[0;36mpopulation\u001b[0;34m(sex, age_low, age_high, place, year)\u001b[0m\n\u001b[1;32m     85\u001b[0m labels \u001b[38;5;241m=\u001b[39m \u001b[38;5;28mrange\u001b[39m(age_low, age_high, sex)\n\u001b[1;32m     86\u001b[0m \u001b[38;5;66;03m#display(labels)\u001b[39;00m\n\u001b[0;32m---> 87\u001b[0m df \u001b[38;5;241m=\u001b[39m \u001b[43mget_df\u001b[49m\u001b[43m(\u001b[49m\u001b[43mlabels\u001b[49m\u001b[43m,\u001b[49m\u001b[43m \u001b[49m\u001b[43msex\u001b[49m\u001b[43m,\u001b[49m\u001b[43m \u001b[49m\u001b[43mplace\u001b[49m\u001b[43m,\u001b[49m\u001b[43m \u001b[49m\u001b[43myear\u001b[49m\u001b[43m)\u001b[49m\n\u001b[1;32m     88\u001b[0m df\u001b[38;5;241m.\u001b[39mdrop(\u001b[38;5;124m'\u001b[39m\u001b[38;5;124mdate\u001b[39m\u001b[38;5;124m'\u001b[39m, axis \u001b[38;5;241m=\u001b[39m \u001b[38;5;241m1\u001b[39m, inplace\u001b[38;5;241m=\u001b[39m\u001b[38;5;28;01mTrue\u001b[39;00m)\n\u001b[1;32m     89\u001b[0m df[\u001b[38;5;124m'\u001b[39m\u001b[38;5;124mtotal pop in age range\u001b[39m\u001b[38;5;124m'\u001b[39m] \u001b[38;5;241m=\u001b[39m df\u001b[38;5;241m.\u001b[39msum(axis\u001b[38;5;241m=\u001b[39m\u001b[38;5;241m1\u001b[39m)\n",
      "Cell \u001b[0;32mIn[1], line 78\u001b[0m, in \u001b[0;36mget_df\u001b[0;34m(labels, sex, place, year)\u001b[0m\n\u001b[1;32m     77\u001b[0m \u001b[38;5;28;01mdef\u001b[39;00m\u001b[38;5;250m \u001b[39m\u001b[38;5;21mget_df\u001b[39m(labels, sex, place, year):\n\u001b[0;32m---> 78\u001b[0m     df \u001b[38;5;241m=\u001b[39m \u001b[43mwbdata\u001b[49m\u001b[38;5;241m.\u001b[39mget_dataframe(labels,country \u001b[38;5;241m=\u001b[39m place,parse_dates\u001b[38;5;241m=\u001b[39m\u001b[38;5;28;01mTrue\u001b[39;00m)\n\u001b[1;32m     79\u001b[0m     df \u001b[38;5;241m=\u001b[39m df\u001b[38;5;241m.\u001b[39mreset_index()\n\u001b[1;32m     80\u001b[0m     df2 \u001b[38;5;241m=\u001b[39m df[df[\u001b[38;5;124m'\u001b[39m\u001b[38;5;124mdate\u001b[39m\u001b[38;5;124m'\u001b[39m] \u001b[38;5;241m==\u001b[39m \u001b[38;5;124mf\u001b[39m\u001b[38;5;124m'\u001b[39m\u001b[38;5;132;01m{\u001b[39;00myear\u001b[38;5;132;01m}\u001b[39;00m\u001b[38;5;124m-01-01\u001b[39m\u001b[38;5;124m'\u001b[39m]\n",
      "\u001b[0;31mNameError\u001b[0m: name 'wbdata' is not defined"
     ]
    }
   ],
   "source": [
    "#1 [A] Population Statistics \n",
    "'''In [year] how many [people/males/females] aged [low] to [high] were living in [the world/region/country]?'''\n",
    "import math\n",
    "import numpy as np\n",
    "#def population(year,sex,age_low, age_high,place):\n",
    "SOURCE = 40\n",
    "\n",
    " ##correct age range:\n",
    "def range(age_low, age_high, sex):\n",
    "    \n",
    "    labels = {}\n",
    "    #age range [0,25]\n",
    "    if age_high <= 25:\n",
    "        for i in np.arange(age_low, age_high+1):\n",
    "            if sex == 'males':\n",
    "                labels[f'SP.POP.AG{str(i).zfill(2)}.MA.IN'] = f'SP.POP.AG{str(i).zfill(2)}.MA.IN'\n",
    "            elif sex == 'females':\n",
    "                \n",
    "                labels[f'SP.POP.AG{str(i).zfill(2)}.FE.IN'] = f'SP.POP.AG{str(i).zfill(2)}.FE.IN'\n",
    "            else:\n",
    "                labels[f'SP.POP.AG{str(i).zfill(2)}.MA.IN'] = f'SP.POP.AG{str(i).zfill(2)}.MA.IN'\n",
    "                labels[f'SP.POP.AG{str(i).zfill(2)}.FE.IN'] = f'SP.POP.AG{str(i).zfill(2)}.FE.IN'\n",
    "                \n",
    "    #age range [25, +]\n",
    "    elif age_low > 25:\n",
    "        age_floor = math.floor(age_low /5) * 5\n",
    "        age_ceiling = math.ceil(age_high/5)*5 \n",
    "        floor_str = str(age_floor).zfill(2)\n",
    "        num_ranges = (age_ceiling - age_floor) / 5\n",
    "       \n",
    "        for i in np.arange(num_ranges):\n",
    "            lower_str = str(int(age_floor+5*i))\n",
    "            higher_str = str(int(age_floor+5*i+4))\n",
    "           \n",
    "            if sex == 'males':\n",
    "                labels[f'SP.POP.{lower_str}{higher_str}.MA'] = f'SP.POP.{lower_str}{higher_str}.MA'\n",
    "            elif sex == 'females':\n",
    "                labels[f'SP.POP.{lower_str}{higher_str}.FE'] = f'SP.POP.{lower_str}{higher_str}.FE'\n",
    "            else:\n",
    "               \n",
    "                labels[f'SP.POP.{lower_str}{higher_str}.FE'] = f'SP.POP.{lower_str}{higher_str}.FE'\n",
    "                labels[f'SP.POP.{lower_str}{higher_str}.MA'] = f'SP.POP.{lower_str}{higher_str}.MA'\n",
    "    #age range [0, 25+]\n",
    "    else:\n",
    "        age_ceiling = math.ceil(age_high/5)*5 \n",
    "        range = (age_ceiling - 25) /5\n",
    "       \n",
    "        display('both')\n",
    "        for i in np.arange(age_low, 25):\n",
    "            display(f'i:{i}')\n",
    "            if sex == 'males':\n",
    "                labels[f'SP.POP.AG{str(i).zfill(2)}.MA.IN'] = f'SP.POP.AG{str(i).zfill(2)}.MA.IN'\n",
    "            elif sex == 'females':\n",
    "                \n",
    "                labels[f'SP.POP.AG{str(i).zfill(2)}.FE.IN'] = f'SP.POP.AG{str(i).zfill(2)}.FE.IN'\n",
    "            else:\n",
    "                display(f'SP.POP.AG{str(i).zfill(2)}.MA.IN')\n",
    "                labels[f'SP.POP.AG{str(i).zfill(2)}.MA.IN'] = f'SP.POP.AG{str(i).zfill(2)}.MA.IN'\n",
    "                labels[f'SP.POP.AG{str(i).zfill(2)}.FE.IN'] = f'SP.POP.AG{str(i).zfill(2)}.FE.IN'\n",
    "        \n",
    "        for j in np.arange((age_ceiling-25)/5):\n",
    "            lower_str = str(int(25+5*j))\n",
    "            higher_str = str(int(25+5*j +4))\n",
    "\n",
    "            if sex == 'males':\n",
    "                labels[f'SP.POP.AG{lower_str}{higher_str}.MA.IN'] = f'SP.POP.AG{lower_str}{higher_str}.MA.IN'\n",
    "            elif sex == 'females':\n",
    "                labels[f'SP.POP.AG{lower_str}{higher_str}.FE.IN'] = f'SP.POP.AG{lower_str}{higher_str}.FE.IN'\n",
    "            else:\n",
    "                display(f'SP.POP.AG{lower_str}{higher_str}.FE.IN')\n",
    "                labels[f'SP.POP.AG{lower_str}{higher_str}.FE.IN'] = f'SP.POP.AG{lower_str}{higher_str}.FE.IN'\n",
    "                labels[f'SP.POP.AG{lower_str}{higher_str}.MA.IN'] = f'SP.POP.AG{lower_str}{higher_str}.MA.IN'\n",
    "    return labels\n",
    "\n",
    "\n",
    "\n",
    "def get_df(labels, sex, place, year):\n",
    "    df = wbdata.get_dataframe(labels,country = place,parse_dates=True)\n",
    "    df = df.reset_index()\n",
    "    df2 = df[df['date'] == f'{year}-01-01']\n",
    "    return df2\n",
    "\n",
    "\n",
    "def population(sex,age_low, age_high, place, year):\n",
    "    labels = range(age_low, age_high, sex)\n",
    "    #display(labels)\n",
    "    df = get_df(labels, sex, place, year)\n",
    "    df.drop('date', axis = 1, inplace=True)\n",
    "    df['total pop in age range'] = df.sum(axis=1)\n",
    "    total = df.iloc[0]['total pop in age range']\n",
    "    display(f'In {year}, the number of {sex} between ages {age_low} to {age_high} living in {place} was approximately {total}')\n",
    "    return df\n",
    "    \n",
    "\n",
    "# working for >25 not less than\n",
    "population('all sexes', 24, 25, 'CHL', 2023)\n",
    "#ARG   Argentina\n",
    "#BOL   Bolivia\n",
    "#BRA   Brazil \n",
    "#CHL   Chile Got error 120 (Invalid value): The provided parameter value is not valid\n",
    "#ECU   Ecuador Got error 120 (Invalid value): The provided parameter value is not valid"
   ]
  },
  {
   "cell_type": "code",
   "execution_count": 14,
   "id": "55c84a44-347e-4868-837c-03fabf914c9f",
   "metadata": {},
   "outputs": [
    {
     "data": {
      "text/plain": [
       "id    name\n",
       "----  --------------------------------------------------------------------------------\n",
       "ABW   Aruba\n",
       "AFE   Africa Eastern and Southern\n",
       "AFG   Afghanistan\n",
       "AFR   Africa\n",
       "AFW   Africa Western and Central\n",
       "AGO   Angola\n",
       "ALB   Albania\n",
       "AND   Andorra\n",
       "ARB   Arab World\n",
       "ARE   United Arab Emirates\n",
       "ARG   Argentina\n",
       "ARM   Armenia\n",
       "ASM   American Samoa\n",
       "ATG   Antigua and Barbuda\n",
       "AUS   Australia\n",
       "AUT   Austria\n",
       "AZE   Azerbaijan\n",
       "BDI   Burundi\n",
       "BEA   East Asia & Pacific (IBRD-only countries)\n",
       "BEC   Europe & Central Asia (IBRD-only countries)\n",
       "BEL   Belgium\n",
       "BEN   Benin\n",
       "BFA   Burkina Faso\n",
       "BGD   Bangladesh\n",
       "BGR   Bulgaria\n",
       "BHI   IBRD countries classified as high income\n",
       "BHR   Bahrain\n",
       "BHS   Bahamas, The\n",
       "BIH   Bosnia and Herzegovina\n",
       "BLA   Latin America & the Caribbean (IBRD-only countries)\n",
       "BLR   Belarus\n",
       "BLZ   Belize\n",
       "BMN   Middle East & North Africa (IBRD-only countries)\n",
       "BMU   Bermuda\n",
       "BOL   Bolivia\n",
       "BRA   Brazil\n",
       "BRB   Barbados\n",
       "BRN   Brunei Darussalam\n",
       "BSS   Sub-Saharan Africa (IBRD-only countries)\n",
       "BTN   Bhutan\n",
       "BWA   Botswana\n",
       "CAA   Sub-Saharan Africa (IFC classification)\n",
       "CAF   Central African Republic\n",
       "CAN   Canada\n",
       "CEA   East Asia and the Pacific (IFC classification)\n",
       "CEB   Central Europe and the Baltics\n",
       "CEU   Europe and Central Asia (IFC classification)\n",
       "CHE   Switzerland\n",
       "CHI   Channel Islands\n",
       "CHL   Chile\n",
       "CHN   China\n",
       "CIV   Cote d'Ivoire\n",
       "CLA   Latin America and the Caribbean (IFC classification)\n",
       "CME   Middle East and North Africa (IFC classification)\n",
       "CMR   Cameroon\n",
       "COD   Congo, Dem. Rep.\n",
       "COG   Congo, Rep.\n",
       "COL   Colombia\n",
       "COM   Comoros\n",
       "CPV   Cabo Verde\n",
       "CRI   Costa Rica\n",
       "CSA   South Asia (IFC classification)\n",
       "CSS   Caribbean small states\n",
       "CUB   Cuba\n",
       "CUW   Curacao\n",
       "CYM   Cayman Islands\n",
       "CYP   Cyprus\n",
       "CZE   Czechia\n",
       "DEA   East Asia & Pacific (IDA-eligible countries)\n",
       "DEC   Europe & Central Asia (IDA-eligible countries)\n",
       "DEU   Germany\n",
       "DJI   Djibouti\n",
       "DLA   Latin America & the Caribbean (IDA-eligible countries)\n",
       "DMA   Dominica\n",
       "DMN   Middle East & North Africa (IDA-eligible countries)\n",
       "DNK   Denmark\n",
       "DNS   IDA countries in Sub-Saharan Africa not classified as fragile situations\n",
       "DOM   Dominican Republic\n",
       "DSA   South Asia (IDA-eligible countries)\n",
       "DSF   IDA countries in Sub-Saharan Africa classified as fragile situations\n",
       "DSS   Sub-Saharan Africa (IDA-eligible countries)\n",
       "DZA   Algeria\n",
       "EAP   East Asia & Pacific (excluding high income)\n",
       "EAR   Early-demographic dividend\n",
       "EAS   East Asia & Pacific\n",
       "ECA   Europe & Central Asia (excluding high income)\n",
       "ECS   Europe & Central Asia\n",
       "ECU   Ecuador\n",
       "EGY   Egypt, Arab Rep.\n",
       "EMU   Euro area\n",
       "ERI   Eritrea\n",
       "ESP   Spain\n",
       "EST   Estonia\n",
       "ETH   Ethiopia\n",
       "EUU   European Union\n",
       "FCS   Fragile and conflict affected situations\n",
       "FIN   Finland\n",
       "FJI   Fiji\n",
       "FRA   France\n",
       "FRO   Faroe Islands\n",
       "FSM   Micronesia, Fed. Sts.\n",
       "FXS   IDA countries classified as fragile situations, excluding Sub-Saharan Africa\n",
       "GAB   Gabon\n",
       "GBR   United Kingdom\n",
       "GEO   Georgia\n",
       "GHA   Ghana\n",
       "GIB   Gibraltar\n",
       "GIN   Guinea\n",
       "GMB   Gambia, The\n",
       "GNB   Guinea-Bissau\n",
       "GNQ   Equatorial Guinea\n",
       "GRC   Greece\n",
       "GRD   Grenada\n",
       "GRL   Greenland\n",
       "GTM   Guatemala\n",
       "GUM   Guam\n",
       "GUY   Guyana\n",
       "HIC   High income\n",
       "HKG   Hong Kong SAR, China\n",
       "HND   Honduras\n",
       "HPC   Heavily indebted poor countries (HIPC)\n",
       "HRV   Croatia\n",
       "HTI   Haiti\n",
       "HUN   Hungary\n",
       "IBB   IBRD, including blend\n",
       "IBD   IBRD only\n",
       "IBT   IDA & IBRD total\n",
       "IDA   IDA total\n",
       "IDB   IDA blend\n",
       "IDN   Indonesia\n",
       "IDX   IDA only\n",
       "IMN   Isle of Man\n",
       "IND   India\n",
       "INX   Not classified\n",
       "IRL   Ireland\n",
       "IRN   Iran, Islamic Rep.\n",
       "IRQ   Iraq\n",
       "ISL   Iceland\n",
       "ISR   Israel\n",
       "ITA   Italy\n",
       "JAM   Jamaica\n",
       "JOR   Jordan\n",
       "JPN   Japan\n",
       "KAZ   Kazakhstan\n",
       "KEN   Kenya\n",
       "KGZ   Kyrgyz Republic\n",
       "KHM   Cambodia\n",
       "KIR   Kiribati\n",
       "KNA   St. Kitts and Nevis\n",
       "KOR   Korea, Rep.\n",
       "KWT   Kuwait\n",
       "LAC   Latin America & Caribbean (excluding high income)\n",
       "LAO   Lao PDR\n",
       "LBN   Lebanon\n",
       "LBR   Liberia\n",
       "LBY   Libya\n",
       "LCA   St. Lucia\n",
       "LCN   Latin America & Caribbean\n",
       "LDC   Least developed countries: UN classification\n",
       "LIC   Low income\n",
       "LIE   Liechtenstein\n",
       "LKA   Sri Lanka\n",
       "LMC   Lower middle income\n",
       "LMY   Low & middle income\n",
       "LSO   Lesotho\n",
       "LTE   Late-demographic dividend\n",
       "LTU   Lithuania\n",
       "LUX   Luxembourg\n",
       "LVA   Latvia\n",
       "MAC   Macao SAR, China\n",
       "MAF   St. Martin (French part)\n",
       "MAR   Morocco\n",
       "MCO   Monaco\n",
       "MDA   Moldova\n",
       "MDE   Middle East (developing only)\n",
       "MDG   Madagascar\n",
       "MDV   Maldives\n",
       "MEA   Middle East & North Africa\n",
       "MEX   Mexico\n",
       "MHL   Marshall Islands\n",
       "MIC   Middle income\n",
       "MKD   North Macedonia\n",
       "MLI   Mali\n",
       "MLT   Malta\n",
       "MMR   Myanmar\n",
       "MNA   Middle East & North Africa (excluding high income)\n",
       "MNE   Montenegro\n",
       "MNG   Mongolia\n",
       "MNP   Northern Mariana Islands\n",
       "MOZ   Mozambique\n",
       "MRT   Mauritania\n",
       "MUS   Mauritius\n",
       "MWI   Malawi\n",
       "MYS   Malaysia\n",
       "NAC   North America\n",
       "NAF   North Africa\n",
       "NAM   Namibia\n",
       "NCL   New Caledonia\n",
       "NER   Niger\n",
       "NGA   Nigeria\n",
       "NIC   Nicaragua\n",
       "NLD   Netherlands\n",
       "NOR   Norway\n",
       "NPL   Nepal\n",
       "NRS   Non-resource rich Sub-Saharan Africa countries\n",
       "NRU   Nauru\n",
       "NXS   IDA countries not classified as fragile situations, excluding Sub-Saharan Africa\n",
       "NZL   New Zealand\n",
       "OED   OECD members\n",
       "OMN   Oman\n",
       "OSS   Other small states\n",
       "PAK   Pakistan\n",
       "PAN   Panama\n",
       "PER   Peru\n",
       "PHL   Philippines\n",
       "PLW   Palau\n",
       "PNG   Papua New Guinea\n",
       "POL   Poland\n",
       "PRE   Pre-demographic dividend\n",
       "PRI   Puerto Rico\n",
       "PRK   Korea, Dem. People's Rep.\n",
       "PRT   Portugal\n",
       "PRY   Paraguay\n",
       "PSE   West Bank and Gaza\n",
       "PSS   Pacific island small states\n",
       "PST   Post-demographic dividend\n",
       "PYF   French Polynesia\n",
       "QAT   Qatar\n",
       "ROU   Romania\n",
       "RRS   Resource rich Sub-Saharan Africa countries\n",
       "RUS   Russian Federation\n",
       "RWA   Rwanda\n",
       "SAS   South Asia\n",
       "SAU   Saudi Arabia\n",
       "SDN   Sudan\n",
       "SEN   Senegal\n",
       "SGP   Singapore\n",
       "SLB   Solomon Islands\n",
       "SLE   Sierra Leone\n",
       "SLV   El Salvador\n",
       "SMR   San Marino\n",
       "SOM   Somalia\n",
       "SRB   Serbia\n",
       "SSA   Sub-Saharan Africa (excluding high income)\n",
       "SSD   South Sudan\n",
       "SSF   Sub-Saharan Africa\n",
       "SST   Small states\n",
       "STP   Sao Tome and Principe\n",
       "SUR   Suriname\n",
       "SVK   Slovak Republic\n",
       "SVN   Slovenia\n",
       "SWE   Sweden\n",
       "SWZ   Eswatini\n",
       "SXM   Sint Maarten (Dutch part)\n",
       "SXZ   Sub-Saharan Africa excluding South Africa\n",
       "SYC   Seychelles\n",
       "SYR   Syrian Arab Republic\n",
       "TCA   Turks and Caicos Islands\n",
       "TCD   Chad\n",
       "TEA   East Asia & Pacific (IDA & IBRD countries)\n",
       "TEC   Europe & Central Asia (IDA & IBRD countries)\n",
       "TGO   Togo\n",
       "THA   Thailand\n",
       "TJK   Tajikistan\n",
       "TKM   Turkmenistan\n",
       "TLA   Latin America & the Caribbean (IDA & IBRD countries)\n",
       "TLS   Timor-Leste\n",
       "TMN   Middle East & North Africa (IDA & IBRD countries)\n",
       "TON   Tonga\n",
       "TSA   South Asia (IDA & IBRD)\n",
       "TSS   Sub-Saharan Africa (IDA & IBRD countries)\n",
       "TTO   Trinidad and Tobago\n",
       "TUN   Tunisia\n",
       "TUR   Turkiye\n",
       "TUV   Tuvalu\n",
       "TZA   Tanzania\n",
       "UGA   Uganda\n",
       "UKR   Ukraine\n",
       "UMC   Upper middle income\n",
       "URY   Uruguay\n",
       "USA   United States\n",
       "UZB   Uzbekistan\n",
       "VCT   St. Vincent and the Grenadines\n",
       "VEN   Venezuela, RB\n",
       "VGB   British Virgin Islands\n",
       "VIR   Virgin Islands (U.S.)\n",
       "VNM   Viet Nam\n",
       "VUT   Vanuatu\n",
       "WLD   World\n",
       "WSM   Samoa\n",
       "XKX   Kosovo\n",
       "XZN   Sub-Saharan Africa excluding South Africa and Nigeria\n",
       "YEM   Yemen, Rep.\n",
       "ZAF   South Africa\n",
       "ZMB   Zambia\n",
       "ZWE   Zimbabwe"
      ]
     },
     "execution_count": 14,
     "metadata": {},
     "output_type": "execute_result"
    }
   ],
   "source": [
    "#lecture 1 resources for working with wbdata:\n",
    "\n",
    "# Return list of all country/region codes:\n",
    "wbdata.get_countries()\n",
    "\n",
    "# Return list matching a query term:\n",
    "#wbdata.get_countries(query=\"World\")\n",
    "#wbdata.get_countries(query=\"United\")\n",
    "\n",
    "## Try your own search!\n",
    "wbdata.get_countries(query=\"\")\n",
    "\n",
    "#see sources\n",
    "#wbdata.get_sources()\n",
    "\n",
    "#SOURCE = 40 # \"Population estimates and projections\n",
    "\n",
    "#indicators = wbdata.get_indicators(source=SOURCE)\n",
    "#indicators\n",
    "\n",
    "\n",
    "# Give variable for clarity\n",
    "#variable_labels = {\"SP.POP.TOTL\":\"World Population\"}\n",
    "\n",
    "#world = wbdata.get_dataframe(variable_labels, country=\"WLD\",parse_dates=True)\n",
    "\n",
    "# display a few years' data\n",
    "#world.head()"
   ]
  },
  {
   "cell_type": "code",
   "execution_count": 148,
   "id": "c01fb9ad-0b4a-4967-968b-7c2d74817585",
   "metadata": {},
   "outputs": [],
   "source": [
    "import pandas as pd\n",
    "import numpy as np\n",
    "pd.options.plotting.backend = 'plotly'"
   ]
  },
  {
   "cell_type": "code",
   "execution_count": 149,
   "id": "f7061584-daff-470e-88e3-fff20d60c354",
   "metadata": {},
   "outputs": [
    {
     "data": {
      "text/plain": [
       "'\\ncountries = {\"WLD\":\"World\",\\n             \"LIC\":\"Low income\",\\n             \"LMC\":\"Low-medium income\",\\n             \"UMC\":\"Upper-medium income\",\\n             \"HIC\":\"High income\",\\n            }\\n            \\ndf = wbdata.get_dataframe(variable_labels, country = countries,parse_dates=True).squeeze()\\n\\ndf = df.unstack(\\'country\\')\\n\\n# Differences (over time) in logs give us growth rates\\nnp.log(df).diff().plot(title=\"Fact II: Poorer places have higher growth rates\",\\n                       labels=dict(value=\"Growth Rate\",date=\\'Year\\'))\\n\\n# wbdata.get_indicators(query=\"GDP per capita\")\\n\\nindicators = {\"NY.GDP.PCAP.CD\":\"GDP per capita\",\\n              \"SP.DYN.TFRT.IN\":\"Total Fertility Rate\",\\n              \"SP.POP.GROW\":\"Population Growth Rate\",\\n              \"SP.DYN.AMRT.MA\":\"Male Mortality\",\\n              \"SP.DYN.AMRT.FE\":\"Female Mortality\",\\n              \"SP.POP.1564.FE.ZS\":\"% Adult Female\",\\n              \"SP.POP.TOTL.FE.ZS\":\"% Female\"}\\n\\ndata = wbdata.get_dataframe(indicators,parse_dates=True)\\n\\n# Just grab data from one year\\ndf = data.xs(\"2022-01-01\",level=\\'date\\') # Latest year missing some data\\n\\ndf[\\'Log GDP per capita\\'] = np.log(df[\\'GDP per capita\\'])\\n\\ndf.plot.scatter(title=\"Fact II: Population growth is lower in higher-income countries\",\\n         x=\"Log GDP per capita\",y=\"Population Growth Rate\",\\n         hover_name=df.reset_index(\\'country\\')[\\'country\\'].values.tolist())\\n         '"
      ]
     },
     "execution_count": 149,
     "metadata": {},
     "output_type": "execute_result"
    }
   ],
   "source": [
    "# Useful arguments to pass include xTitle, yTitle, Title\n",
    "#world.plot(title=\"Fact I: Growth Rates Falling over Time\",\n",
    "           # labels=dict(date='Year',value='Population'))\n",
    "\n",
    "\n",
    "#variable_labels = {\"SP.POP.TOTL\":\"Population\"}\n",
    "\n",
    "# Three letter codes come from wbdata.get_countries()\n",
    "'''\n",
    "countries = {\"WLD\":\"World\",\n",
    "             \"LIC\":\"Low income\",\n",
    "             \"LMC\":\"Low-medium income\",\n",
    "             \"UMC\":\"Upper-medium income\",\n",
    "             \"HIC\":\"High income\",\n",
    "            }\n",
    "            \n",
    "df = wbdata.get_dataframe(variable_labels, country = countries,parse_dates=True).squeeze()\n",
    "\n",
    "df = df.unstack('country')\n",
    "\n",
    "# Differences (over time) in logs give us growth rates\n",
    "np.log(df).diff().plot(title=\"Fact II: Poorer places have higher growth rates\",\n",
    "                       labels=dict(value=\"Growth Rate\",date='Year'))\n",
    "\n",
    "# wbdata.get_indicators(query=\"GDP per capita\")\n",
    "\n",
    "indicators = {\"NY.GDP.PCAP.CD\":\"GDP per capita\",\n",
    "              \"SP.DYN.TFRT.IN\":\"Total Fertility Rate\",\n",
    "              \"SP.POP.GROW\":\"Population Growth Rate\",\n",
    "              \"SP.DYN.AMRT.MA\":\"Male Mortality\",\n",
    "              \"SP.DYN.AMRT.FE\":\"Female Mortality\",\n",
    "              \"SP.POP.1564.FE.ZS\":\"% Adult Female\",\n",
    "              \"SP.POP.TOTL.FE.ZS\":\"% Female\"}\n",
    "\n",
    "data = wbdata.get_dataframe(indicators,parse_dates=True)\n",
    "\n",
    "# Just grab data from one year\n",
    "df = data.xs(\"2022-01-01\",level='date') # Latest year missing some data\n",
    "\n",
    "df['Log GDP per capita'] = np.log(df['GDP per capita'])\n",
    "\n",
    "df.plot.scatter(title=\"Fact II: Population growth is lower in higher-income countries\",\n",
    "         x=\"Log GDP per capita\",y=\"Population Growth Rate\",\n",
    "         hover_name=df.reset_index('country')['country'].values.tolist())\n",
    "         '''"
   ]
  },
  {
   "cell_type": "code",
   "execution_count": 150,
   "id": "daff1e60-9ac9-4343-8aef-32a132fa9ffe",
   "metadata": {},
   "outputs": [],
   "source": [
    "# DATA EXPLORATION FOR INDIA GREEN REVOLUTION [REILY]: \n",
    "\n",
    "\n",
    "#I don't think its a good option because it was during the 1960s which is right when our dataset begins"
   ]
  },
  {
   "cell_type": "code",
   "execution_count": 151,
   "id": "4c578386-4d77-4232-a1e1-1d23c194cac7",
   "metadata": {},
   "outputs": [],
   "source": [
    "#wbdata.get_countries(query=\"India\")\n",
    "#wbdata.get_sources()\n",
    "\n",
    "#RELEVANT SOURCES for India (IND)\n",
    "#5  Subnational Malnutrition Database\n",
    "#16  Health Nutrition and Population Statistics\n",
    "# 39  Health Nutrition and Population Statistics by Wealth Quintile\n",
    "# 40  Population estimates and projections\n",
    "#41  Country Partnership Strategy for India (FY2013 - 17)\n",
    "#88  Food Prices for Nutrition\n",
    "\n",
    "SOURCE = 40\n",
    "\n",
    "indicators = wbdata.get_indicators(source=SOURCE)\n",
    "#indicators\n",
    "\n",
    "variable_labels = {\"SP.POP.TOTL\":\"India Population\", 'SP.URB.TOTL': 'Urban population', 'SP.RUR.TOTL': 'Rural population'}\n",
    "\n",
    "india_pop = wbdata.get_dataframe(variable_labels, country=\"IND\",parse_dates=True)\n",
    "\n",
    "# display a few years' data\n",
    "#india_pop.head()"
   ]
  },
  {
   "cell_type": "code",
   "execution_count": 152,
   "id": "1f9219f6-95f0-4c2c-9ada-4c488afe24b5",
   "metadata": {},
   "outputs": [
    {
     "data": {
      "application/vnd.plotly.v1+json": {
       "config": {
        "plotlyServerURL": "https://plot.ly"
       },
       "data": [
        {
         "hovertemplate": "variable=India Population<br>date=%{x}<br>value=%{y}<extra></extra>",
         "legendgroup": "India Population",
         "line": {
          "color": "#636efa",
          "dash": "solid"
         },
         "marker": {
          "symbol": "circle"
         },
         "mode": "lines",
         "name": "India Population",
         "orientation": "v",
         "showlegend": true,
         "type": "scatter",
         "x": [
          "2023-01-01T00:00:00",
          "2022-01-01T00:00:00",
          "2021-01-01T00:00:00",
          "2020-01-01T00:00:00",
          "2019-01-01T00:00:00",
          "2018-01-01T00:00:00",
          "2017-01-01T00:00:00",
          "2016-01-01T00:00:00",
          "2015-01-01T00:00:00",
          "2014-01-01T00:00:00",
          "2013-01-01T00:00:00",
          "2012-01-01T00:00:00",
          "2011-01-01T00:00:00",
          "2010-01-01T00:00:00",
          "2009-01-01T00:00:00",
          "2008-01-01T00:00:00",
          "2007-01-01T00:00:00",
          "2006-01-01T00:00:00",
          "2005-01-01T00:00:00",
          "2004-01-01T00:00:00",
          "2003-01-01T00:00:00",
          "2002-01-01T00:00:00",
          "2001-01-01T00:00:00",
          "2000-01-01T00:00:00",
          "1999-01-01T00:00:00",
          "1998-01-01T00:00:00",
          "1997-01-01T00:00:00",
          "1996-01-01T00:00:00",
          "1995-01-01T00:00:00",
          "1994-01-01T00:00:00",
          "1993-01-01T00:00:00",
          "1992-01-01T00:00:00",
          "1991-01-01T00:00:00",
          "1990-01-01T00:00:00",
          "1989-01-01T00:00:00",
          "1988-01-01T00:00:00",
          "1987-01-01T00:00:00",
          "1986-01-01T00:00:00",
          "1985-01-01T00:00:00",
          "1984-01-01T00:00:00",
          "1983-01-01T00:00:00",
          "1982-01-01T00:00:00",
          "1981-01-01T00:00:00",
          "1980-01-01T00:00:00",
          "1979-01-01T00:00:00",
          "1978-01-01T00:00:00",
          "1977-01-01T00:00:00",
          "1976-01-01T00:00:00",
          "1975-01-01T00:00:00",
          "1974-01-01T00:00:00",
          "1973-01-01T00:00:00",
          "1972-01-01T00:00:00",
          "1971-01-01T00:00:00",
          "1970-01-01T00:00:00",
          "1969-01-01T00:00:00",
          "1968-01-01T00:00:00",
          "1967-01-01T00:00:00",
          "1966-01-01T00:00:00",
          "1965-01-01T00:00:00",
          "1964-01-01T00:00:00",
          "1963-01-01T00:00:00",
          "1962-01-01T00:00:00",
          "1961-01-01T00:00:00",
          "1960-01-01T00:00:00"
         ],
         "xaxis": "x",
         "y": [
          1438069596,
          1425423212,
          1414203896,
          1402617695,
          1389030312,
          1374659064,
          1359657400,
          1343944296,
          1328024498,
          1312277191,
          1295829511,
          1278674502,
          1261224954,
          1243481564,
          1225524753,
          1207930964,
          1190676021,
          1172878890,
          1154676322,
          1135991513,
          1116803006,
          1097600380,
          1077898575,
          1057922733,
          1038225823,
          1018665080,
          999133762,
          979678458,
          960301044,
          941163767,
          922118387,
          902957070,
          883927600,
          864972221,
          846039529,
          827342990,
          808931270,
          790689978,
          772647793,
          754875449,
          737372681,
          720313473,
          703696250,
          687354025,
          671155747,
          655728229,
          640801103,
          625861883,
          611309535,
          597041391,
          583465598,
          570482142,
          558096387,
          545864268,
          533880544,
          522716889,
          511606372,
          500740247,
          490140146,
          479229598,
          468138575,
          457283090,
          446564729,
          435990338
         ],
         "yaxis": "y"
        },
        {
         "hovertemplate": "variable=Urban population<br>date=%{x}<br>value=%{y}<extra></extra>",
         "legendgroup": "Urban population",
         "line": {
          "color": "#EF553B",
          "dash": "solid"
         },
         "marker": {
          "symbol": "circle"
         },
         "mode": "lines",
         "name": "Urban population",
         "orientation": "v",
         "showlegend": true,
         "type": "scatter",
         "x": [
          "2023-01-01T00:00:00",
          "2022-01-01T00:00:00",
          "2021-01-01T00:00:00",
          "2020-01-01T00:00:00",
          "2019-01-01T00:00:00",
          "2018-01-01T00:00:00",
          "2017-01-01T00:00:00",
          "2016-01-01T00:00:00",
          "2015-01-01T00:00:00",
          "2014-01-01T00:00:00",
          "2013-01-01T00:00:00",
          "2012-01-01T00:00:00",
          "2011-01-01T00:00:00",
          "2010-01-01T00:00:00",
          "2009-01-01T00:00:00",
          "2008-01-01T00:00:00",
          "2007-01-01T00:00:00",
          "2006-01-01T00:00:00",
          "2005-01-01T00:00:00",
          "2004-01-01T00:00:00",
          "2003-01-01T00:00:00",
          "2002-01-01T00:00:00",
          "2001-01-01T00:00:00",
          "2000-01-01T00:00:00",
          "1999-01-01T00:00:00",
          "1998-01-01T00:00:00",
          "1997-01-01T00:00:00",
          "1996-01-01T00:00:00",
          "1995-01-01T00:00:00",
          "1994-01-01T00:00:00",
          "1993-01-01T00:00:00",
          "1992-01-01T00:00:00",
          "1991-01-01T00:00:00",
          "1990-01-01T00:00:00",
          "1989-01-01T00:00:00",
          "1988-01-01T00:00:00",
          "1987-01-01T00:00:00",
          "1986-01-01T00:00:00",
          "1985-01-01T00:00:00",
          "1984-01-01T00:00:00",
          "1983-01-01T00:00:00",
          "1982-01-01T00:00:00",
          "1981-01-01T00:00:00",
          "1980-01-01T00:00:00",
          "1979-01-01T00:00:00",
          "1978-01-01T00:00:00",
          "1977-01-01T00:00:00",
          "1976-01-01T00:00:00",
          "1975-01-01T00:00:00",
          "1974-01-01T00:00:00",
          "1973-01-01T00:00:00",
          "1972-01-01T00:00:00",
          "1971-01-01T00:00:00",
          "1970-01-01T00:00:00",
          "1969-01-01T00:00:00",
          "1968-01-01T00:00:00",
          "1967-01-01T00:00:00",
          "1966-01-01T00:00:00",
          "1965-01-01T00:00:00",
          "1964-01-01T00:00:00",
          "1963-01-01T00:00:00",
          "1962-01-01T00:00:00",
          "1961-01-01T00:00:00",
          "1960-01-01T00:00:00"
         ],
         "xaxis": "x",
         "y": [
          522939628,
          511327815,
          500529185,
          489878256,
          478826529,
          467796479,
          456844886,
          445947596,
          435286590,
          424967846,
          414704318,
          404495892,
          394460717,
          384608848,
          374851256,
          365350799,
          356083571,
          346808559,
          337569623,
          328335627,
          319092955,
          310006251,
          300927724,
          292695483,
          285024135,
          277484368,
          270045873,
          262720372,
          255507299,
          248457823,
          241512027,
          234624365,
          227858857,
          220974453,
          214090303,
          207356974,
          200801009,
          194391131,
          188124285,
          182023117,
          176077222,
          170332527,
          164784551,
          158765033,
          152593971,
          146745420,
          141142851,
          135668080,
          130404550,
          125324958,
          120503150,
          115927676,
          111569049,
          107862779,
          104437712,
          101229353,
          98080058,
          95025477,
          92072826,
          89112744,
          86160905,
          83307833,
          80524552,
          78146908
         ],
         "yaxis": "y"
        },
        {
         "hovertemplate": "variable=Rural population<br>date=%{x}<br>value=%{y}<extra></extra>",
         "legendgroup": "Rural population",
         "line": {
          "color": "#00cc96",
          "dash": "solid"
         },
         "marker": {
          "symbol": "circle"
         },
         "mode": "lines",
         "name": "Rural population",
         "orientation": "v",
         "showlegend": true,
         "type": "scatter",
         "x": [
          "2023-01-01T00:00:00",
          "2022-01-01T00:00:00",
          "2021-01-01T00:00:00",
          "2020-01-01T00:00:00",
          "2019-01-01T00:00:00",
          "2018-01-01T00:00:00",
          "2017-01-01T00:00:00",
          "2016-01-01T00:00:00",
          "2015-01-01T00:00:00",
          "2014-01-01T00:00:00",
          "2013-01-01T00:00:00",
          "2012-01-01T00:00:00",
          "2011-01-01T00:00:00",
          "2010-01-01T00:00:00",
          "2009-01-01T00:00:00",
          "2008-01-01T00:00:00",
          "2007-01-01T00:00:00",
          "2006-01-01T00:00:00",
          "2005-01-01T00:00:00",
          "2004-01-01T00:00:00",
          "2003-01-01T00:00:00",
          "2002-01-01T00:00:00",
          "2001-01-01T00:00:00",
          "2000-01-01T00:00:00",
          "1999-01-01T00:00:00",
          "1998-01-01T00:00:00",
          "1997-01-01T00:00:00",
          "1996-01-01T00:00:00",
          "1995-01-01T00:00:00",
          "1994-01-01T00:00:00",
          "1993-01-01T00:00:00",
          "1992-01-01T00:00:00",
          "1991-01-01T00:00:00",
          "1990-01-01T00:00:00",
          "1989-01-01T00:00:00",
          "1988-01-01T00:00:00",
          "1987-01-01T00:00:00",
          "1986-01-01T00:00:00",
          "1985-01-01T00:00:00",
          "1984-01-01T00:00:00",
          "1983-01-01T00:00:00",
          "1982-01-01T00:00:00",
          "1981-01-01T00:00:00",
          "1980-01-01T00:00:00",
          "1979-01-01T00:00:00",
          "1978-01-01T00:00:00",
          "1977-01-01T00:00:00",
          "1976-01-01T00:00:00",
          "1975-01-01T00:00:00",
          "1974-01-01T00:00:00",
          "1973-01-01T00:00:00",
          "1972-01-01T00:00:00",
          "1971-01-01T00:00:00",
          "1970-01-01T00:00:00",
          "1969-01-01T00:00:00",
          "1968-01-01T00:00:00",
          "1967-01-01T00:00:00",
          "1966-01-01T00:00:00",
          "1965-01-01T00:00:00",
          "1964-01-01T00:00:00",
          "1963-01-01T00:00:00",
          "1962-01-01T00:00:00",
          "1961-01-01T00:00:00",
          "1960-01-01T00:00:00"
         ],
         "xaxis": "x",
         "y": [
          915129968,
          914095397,
          913674711,
          912739439,
          910203783,
          906862585,
          902812514,
          897996700,
          892737908,
          887309345,
          881125193,
          874178610,
          866764237,
          858872716,
          850673497,
          842580165,
          834592450,
          826070331,
          817106699,
          807655886,
          797710051,
          787594129,
          776970851,
          765227250,
          753201688,
          741180712,
          729087889,
          716958086,
          704793745,
          692705944,
          680606360,
          668332705,
          656068743,
          643997768,
          631949226,
          619986016,
          608130261,
          596298847,
          584523508,
          572852332,
          561295459,
          549980946,
          538911699,
          528588992,
          518561776,
          508982809,
          499658252,
          490193803,
          480904985,
          471716433,
          462962448,
          454554466,
          446527338,
          438001489,
          429442832,
          421487536,
          413526314,
          405714770,
          398067320,
          390116854,
          381977670,
          373975257,
          366040177,
          357843430
         ],
         "yaxis": "y"
        }
       ],
       "layout": {
        "legend": {
         "title": {
          "text": "variable"
         },
         "tracegroupgap": 0
        },
        "margin": {
         "t": 60
        },
        "template": {
         "data": {
          "bar": [
           {
            "error_x": {
             "color": "#2a3f5f"
            },
            "error_y": {
             "color": "#2a3f5f"
            },
            "marker": {
             "line": {
              "color": "#E5ECF6",
              "width": 0.5
             },
             "pattern": {
              "fillmode": "overlay",
              "size": 10,
              "solidity": 0.2
             }
            },
            "type": "bar"
           }
          ],
          "barpolar": [
           {
            "marker": {
             "line": {
              "color": "#E5ECF6",
              "width": 0.5
             },
             "pattern": {
              "fillmode": "overlay",
              "size": 10,
              "solidity": 0.2
             }
            },
            "type": "barpolar"
           }
          ],
          "carpet": [
           {
            "aaxis": {
             "endlinecolor": "#2a3f5f",
             "gridcolor": "white",
             "linecolor": "white",
             "minorgridcolor": "white",
             "startlinecolor": "#2a3f5f"
            },
            "baxis": {
             "endlinecolor": "#2a3f5f",
             "gridcolor": "white",
             "linecolor": "white",
             "minorgridcolor": "white",
             "startlinecolor": "#2a3f5f"
            },
            "type": "carpet"
           }
          ],
          "choropleth": [
           {
            "colorbar": {
             "outlinewidth": 0,
             "ticks": ""
            },
            "type": "choropleth"
           }
          ],
          "contour": [
           {
            "colorbar": {
             "outlinewidth": 0,
             "ticks": ""
            },
            "colorscale": [
             [
              0,
              "#0d0887"
             ],
             [
              0.1111111111111111,
              "#46039f"
             ],
             [
              0.2222222222222222,
              "#7201a8"
             ],
             [
              0.3333333333333333,
              "#9c179e"
             ],
             [
              0.4444444444444444,
              "#bd3786"
             ],
             [
              0.5555555555555556,
              "#d8576b"
             ],
             [
              0.6666666666666666,
              "#ed7953"
             ],
             [
              0.7777777777777778,
              "#fb9f3a"
             ],
             [
              0.8888888888888888,
              "#fdca26"
             ],
             [
              1,
              "#f0f921"
             ]
            ],
            "type": "contour"
           }
          ],
          "contourcarpet": [
           {
            "colorbar": {
             "outlinewidth": 0,
             "ticks": ""
            },
            "type": "contourcarpet"
           }
          ],
          "heatmap": [
           {
            "colorbar": {
             "outlinewidth": 0,
             "ticks": ""
            },
            "colorscale": [
             [
              0,
              "#0d0887"
             ],
             [
              0.1111111111111111,
              "#46039f"
             ],
             [
              0.2222222222222222,
              "#7201a8"
             ],
             [
              0.3333333333333333,
              "#9c179e"
             ],
             [
              0.4444444444444444,
              "#bd3786"
             ],
             [
              0.5555555555555556,
              "#d8576b"
             ],
             [
              0.6666666666666666,
              "#ed7953"
             ],
             [
              0.7777777777777778,
              "#fb9f3a"
             ],
             [
              0.8888888888888888,
              "#fdca26"
             ],
             [
              1,
              "#f0f921"
             ]
            ],
            "type": "heatmap"
           }
          ],
          "heatmapgl": [
           {
            "colorbar": {
             "outlinewidth": 0,
             "ticks": ""
            },
            "colorscale": [
             [
              0,
              "#0d0887"
             ],
             [
              0.1111111111111111,
              "#46039f"
             ],
             [
              0.2222222222222222,
              "#7201a8"
             ],
             [
              0.3333333333333333,
              "#9c179e"
             ],
             [
              0.4444444444444444,
              "#bd3786"
             ],
             [
              0.5555555555555556,
              "#d8576b"
             ],
             [
              0.6666666666666666,
              "#ed7953"
             ],
             [
              0.7777777777777778,
              "#fb9f3a"
             ],
             [
              0.8888888888888888,
              "#fdca26"
             ],
             [
              1,
              "#f0f921"
             ]
            ],
            "type": "heatmapgl"
           }
          ],
          "histogram": [
           {
            "marker": {
             "pattern": {
              "fillmode": "overlay",
              "size": 10,
              "solidity": 0.2
             }
            },
            "type": "histogram"
           }
          ],
          "histogram2d": [
           {
            "colorbar": {
             "outlinewidth": 0,
             "ticks": ""
            },
            "colorscale": [
             [
              0,
              "#0d0887"
             ],
             [
              0.1111111111111111,
              "#46039f"
             ],
             [
              0.2222222222222222,
              "#7201a8"
             ],
             [
              0.3333333333333333,
              "#9c179e"
             ],
             [
              0.4444444444444444,
              "#bd3786"
             ],
             [
              0.5555555555555556,
              "#d8576b"
             ],
             [
              0.6666666666666666,
              "#ed7953"
             ],
             [
              0.7777777777777778,
              "#fb9f3a"
             ],
             [
              0.8888888888888888,
              "#fdca26"
             ],
             [
              1,
              "#f0f921"
             ]
            ],
            "type": "histogram2d"
           }
          ],
          "histogram2dcontour": [
           {
            "colorbar": {
             "outlinewidth": 0,
             "ticks": ""
            },
            "colorscale": [
             [
              0,
              "#0d0887"
             ],
             [
              0.1111111111111111,
              "#46039f"
             ],
             [
              0.2222222222222222,
              "#7201a8"
             ],
             [
              0.3333333333333333,
              "#9c179e"
             ],
             [
              0.4444444444444444,
              "#bd3786"
             ],
             [
              0.5555555555555556,
              "#d8576b"
             ],
             [
              0.6666666666666666,
              "#ed7953"
             ],
             [
              0.7777777777777778,
              "#fb9f3a"
             ],
             [
              0.8888888888888888,
              "#fdca26"
             ],
             [
              1,
              "#f0f921"
             ]
            ],
            "type": "histogram2dcontour"
           }
          ],
          "mesh3d": [
           {
            "colorbar": {
             "outlinewidth": 0,
             "ticks": ""
            },
            "type": "mesh3d"
           }
          ],
          "parcoords": [
           {
            "line": {
             "colorbar": {
              "outlinewidth": 0,
              "ticks": ""
             }
            },
            "type": "parcoords"
           }
          ],
          "pie": [
           {
            "automargin": true,
            "type": "pie"
           }
          ],
          "scatter": [
           {
            "fillpattern": {
             "fillmode": "overlay",
             "size": 10,
             "solidity": 0.2
            },
            "type": "scatter"
           }
          ],
          "scatter3d": [
           {
            "line": {
             "colorbar": {
              "outlinewidth": 0,
              "ticks": ""
             }
            },
            "marker": {
             "colorbar": {
              "outlinewidth": 0,
              "ticks": ""
             }
            },
            "type": "scatter3d"
           }
          ],
          "scattercarpet": [
           {
            "marker": {
             "colorbar": {
              "outlinewidth": 0,
              "ticks": ""
             }
            },
            "type": "scattercarpet"
           }
          ],
          "scattergeo": [
           {
            "marker": {
             "colorbar": {
              "outlinewidth": 0,
              "ticks": ""
             }
            },
            "type": "scattergeo"
           }
          ],
          "scattergl": [
           {
            "marker": {
             "colorbar": {
              "outlinewidth": 0,
              "ticks": ""
             }
            },
            "type": "scattergl"
           }
          ],
          "scattermapbox": [
           {
            "marker": {
             "colorbar": {
              "outlinewidth": 0,
              "ticks": ""
             }
            },
            "type": "scattermapbox"
           }
          ],
          "scatterpolar": [
           {
            "marker": {
             "colorbar": {
              "outlinewidth": 0,
              "ticks": ""
             }
            },
            "type": "scatterpolar"
           }
          ],
          "scatterpolargl": [
           {
            "marker": {
             "colorbar": {
              "outlinewidth": 0,
              "ticks": ""
             }
            },
            "type": "scatterpolargl"
           }
          ],
          "scatterternary": [
           {
            "marker": {
             "colorbar": {
              "outlinewidth": 0,
              "ticks": ""
             }
            },
            "type": "scatterternary"
           }
          ],
          "surface": [
           {
            "colorbar": {
             "outlinewidth": 0,
             "ticks": ""
            },
            "colorscale": [
             [
              0,
              "#0d0887"
             ],
             [
              0.1111111111111111,
              "#46039f"
             ],
             [
              0.2222222222222222,
              "#7201a8"
             ],
             [
              0.3333333333333333,
              "#9c179e"
             ],
             [
              0.4444444444444444,
              "#bd3786"
             ],
             [
              0.5555555555555556,
              "#d8576b"
             ],
             [
              0.6666666666666666,
              "#ed7953"
             ],
             [
              0.7777777777777778,
              "#fb9f3a"
             ],
             [
              0.8888888888888888,
              "#fdca26"
             ],
             [
              1,
              "#f0f921"
             ]
            ],
            "type": "surface"
           }
          ],
          "table": [
           {
            "cells": {
             "fill": {
              "color": "#EBF0F8"
             },
             "line": {
              "color": "white"
             }
            },
            "header": {
             "fill": {
              "color": "#C8D4E3"
             },
             "line": {
              "color": "white"
             }
            },
            "type": "table"
           }
          ]
         },
         "layout": {
          "annotationdefaults": {
           "arrowcolor": "#2a3f5f",
           "arrowhead": 0,
           "arrowwidth": 1
          },
          "autotypenumbers": "strict",
          "coloraxis": {
           "colorbar": {
            "outlinewidth": 0,
            "ticks": ""
           }
          },
          "colorscale": {
           "diverging": [
            [
             0,
             "#8e0152"
            ],
            [
             0.1,
             "#c51b7d"
            ],
            [
             0.2,
             "#de77ae"
            ],
            [
             0.3,
             "#f1b6da"
            ],
            [
             0.4,
             "#fde0ef"
            ],
            [
             0.5,
             "#f7f7f7"
            ],
            [
             0.6,
             "#e6f5d0"
            ],
            [
             0.7,
             "#b8e186"
            ],
            [
             0.8,
             "#7fbc41"
            ],
            [
             0.9,
             "#4d9221"
            ],
            [
             1,
             "#276419"
            ]
           ],
           "sequential": [
            [
             0,
             "#0d0887"
            ],
            [
             0.1111111111111111,
             "#46039f"
            ],
            [
             0.2222222222222222,
             "#7201a8"
            ],
            [
             0.3333333333333333,
             "#9c179e"
            ],
            [
             0.4444444444444444,
             "#bd3786"
            ],
            [
             0.5555555555555556,
             "#d8576b"
            ],
            [
             0.6666666666666666,
             "#ed7953"
            ],
            [
             0.7777777777777778,
             "#fb9f3a"
            ],
            [
             0.8888888888888888,
             "#fdca26"
            ],
            [
             1,
             "#f0f921"
            ]
           ],
           "sequentialminus": [
            [
             0,
             "#0d0887"
            ],
            [
             0.1111111111111111,
             "#46039f"
            ],
            [
             0.2222222222222222,
             "#7201a8"
            ],
            [
             0.3333333333333333,
             "#9c179e"
            ],
            [
             0.4444444444444444,
             "#bd3786"
            ],
            [
             0.5555555555555556,
             "#d8576b"
            ],
            [
             0.6666666666666666,
             "#ed7953"
            ],
            [
             0.7777777777777778,
             "#fb9f3a"
            ],
            [
             0.8888888888888888,
             "#fdca26"
            ],
            [
             1,
             "#f0f921"
            ]
           ]
          },
          "colorway": [
           "#636efa",
           "#EF553B",
           "#00cc96",
           "#ab63fa",
           "#FFA15A",
           "#19d3f3",
           "#FF6692",
           "#B6E880",
           "#FF97FF",
           "#FECB52"
          ],
          "font": {
           "color": "#2a3f5f"
          },
          "geo": {
           "bgcolor": "white",
           "lakecolor": "white",
           "landcolor": "#E5ECF6",
           "showlakes": true,
           "showland": true,
           "subunitcolor": "white"
          },
          "hoverlabel": {
           "align": "left"
          },
          "hovermode": "closest",
          "mapbox": {
           "style": "light"
          },
          "paper_bgcolor": "white",
          "plot_bgcolor": "#E5ECF6",
          "polar": {
           "angularaxis": {
            "gridcolor": "white",
            "linecolor": "white",
            "ticks": ""
           },
           "bgcolor": "#E5ECF6",
           "radialaxis": {
            "gridcolor": "white",
            "linecolor": "white",
            "ticks": ""
           }
          },
          "scene": {
           "xaxis": {
            "backgroundcolor": "#E5ECF6",
            "gridcolor": "white",
            "gridwidth": 2,
            "linecolor": "white",
            "showbackground": true,
            "ticks": "",
            "zerolinecolor": "white"
           },
           "yaxis": {
            "backgroundcolor": "#E5ECF6",
            "gridcolor": "white",
            "gridwidth": 2,
            "linecolor": "white",
            "showbackground": true,
            "ticks": "",
            "zerolinecolor": "white"
           },
           "zaxis": {
            "backgroundcolor": "#E5ECF6",
            "gridcolor": "white",
            "gridwidth": 2,
            "linecolor": "white",
            "showbackground": true,
            "ticks": "",
            "zerolinecolor": "white"
           }
          },
          "shapedefaults": {
           "line": {
            "color": "#2a3f5f"
           }
          },
          "ternary": {
           "aaxis": {
            "gridcolor": "white",
            "linecolor": "white",
            "ticks": ""
           },
           "baxis": {
            "gridcolor": "white",
            "linecolor": "white",
            "ticks": ""
           },
           "bgcolor": "#E5ECF6",
           "caxis": {
            "gridcolor": "white",
            "linecolor": "white",
            "ticks": ""
           }
          },
          "title": {
           "x": 0.05
          },
          "xaxis": {
           "automargin": true,
           "gridcolor": "white",
           "linecolor": "white",
           "ticks": "",
           "title": {
            "standoff": 15
           },
           "zerolinecolor": "white",
           "zerolinewidth": 2
          },
          "yaxis": {
           "automargin": true,
           "gridcolor": "white",
           "linecolor": "white",
           "ticks": "",
           "title": {
            "standoff": 15
           },
           "zerolinecolor": "white",
           "zerolinewidth": 2
          }
         }
        },
        "xaxis": {
         "anchor": "y",
         "domain": [
          0,
          1
         ],
         "title": {
          "text": "date"
         }
        },
        "yaxis": {
         "anchor": "x",
         "domain": [
          0,
          1
         ],
         "title": {
          "text": "value"
         }
        }
       }
      },
      "text/html": [
       "<div>                            <div id=\"75eee0a9-a550-4d65-9706-725969dad7e3\" class=\"plotly-graph-div\" style=\"height:525px; width:100%;\"></div>            <script type=\"text/javascript\">                require([\"plotly\"], function(Plotly) {                    window.PLOTLYENV=window.PLOTLYENV || {};                                    if (document.getElementById(\"75eee0a9-a550-4d65-9706-725969dad7e3\")) {                    Plotly.newPlot(                        \"75eee0a9-a550-4d65-9706-725969dad7e3\",                        [{\"hovertemplate\":\"variable=India Population\\u003cbr\\u003edate=%{x}\\u003cbr\\u003evalue=%{y}\\u003cextra\\u003e\\u003c\\u002fextra\\u003e\",\"legendgroup\":\"India Population\",\"line\":{\"color\":\"#636efa\",\"dash\":\"solid\"},\"marker\":{\"symbol\":\"circle\"},\"mode\":\"lines\",\"name\":\"India Population\",\"orientation\":\"v\",\"showlegend\":true,\"x\":[\"2023-01-01T00:00:00\",\"2022-01-01T00:00:00\",\"2021-01-01T00:00:00\",\"2020-01-01T00:00:00\",\"2019-01-01T00:00:00\",\"2018-01-01T00:00:00\",\"2017-01-01T00:00:00\",\"2016-01-01T00:00:00\",\"2015-01-01T00:00:00\",\"2014-01-01T00:00:00\",\"2013-01-01T00:00:00\",\"2012-01-01T00:00:00\",\"2011-01-01T00:00:00\",\"2010-01-01T00:00:00\",\"2009-01-01T00:00:00\",\"2008-01-01T00:00:00\",\"2007-01-01T00:00:00\",\"2006-01-01T00:00:00\",\"2005-01-01T00:00:00\",\"2004-01-01T00:00:00\",\"2003-01-01T00:00:00\",\"2002-01-01T00:00:00\",\"2001-01-01T00:00:00\",\"2000-01-01T00:00:00\",\"1999-01-01T00:00:00\",\"1998-01-01T00:00:00\",\"1997-01-01T00:00:00\",\"1996-01-01T00:00:00\",\"1995-01-01T00:00:00\",\"1994-01-01T00:00:00\",\"1993-01-01T00:00:00\",\"1992-01-01T00:00:00\",\"1991-01-01T00:00:00\",\"1990-01-01T00:00:00\",\"1989-01-01T00:00:00\",\"1988-01-01T00:00:00\",\"1987-01-01T00:00:00\",\"1986-01-01T00:00:00\",\"1985-01-01T00:00:00\",\"1984-01-01T00:00:00\",\"1983-01-01T00:00:00\",\"1982-01-01T00:00:00\",\"1981-01-01T00:00:00\",\"1980-01-01T00:00:00\",\"1979-01-01T00:00:00\",\"1978-01-01T00:00:00\",\"1977-01-01T00:00:00\",\"1976-01-01T00:00:00\",\"1975-01-01T00:00:00\",\"1974-01-01T00:00:00\",\"1973-01-01T00:00:00\",\"1972-01-01T00:00:00\",\"1971-01-01T00:00:00\",\"1970-01-01T00:00:00\",\"1969-01-01T00:00:00\",\"1968-01-01T00:00:00\",\"1967-01-01T00:00:00\",\"1966-01-01T00:00:00\",\"1965-01-01T00:00:00\",\"1964-01-01T00:00:00\",\"1963-01-01T00:00:00\",\"1962-01-01T00:00:00\",\"1961-01-01T00:00:00\",\"1960-01-01T00:00:00\"],\"xaxis\":\"x\",\"y\":[1438069596.0,1425423212.0,1414203896.0,1402617695.0,1389030312.0,1374659064.0,1359657400.0,1343944296.0,1328024498.0,1312277191.0,1295829511.0,1278674502.0,1261224954.0,1243481564.0,1225524753.0,1207930964.0,1190676021.0,1172878890.0,1154676322.0,1135991513.0,1116803006.0,1097600380.0,1077898575.0,1057922733.0,1038225823.0,1018665080.0,999133762.0,979678458.0,960301044.0,941163767.0,922118387.0,902957070.0,883927600.0,864972221.0,846039529.0,827342990.0,808931270.0,790689978.0,772647793.0,754875449.0,737372681.0,720313473.0,703696250.0,687354025.0,671155747.0,655728229.0,640801103.0,625861883.0,611309535.0,597041391.0,583465598.0,570482142.0,558096387.0,545864268.0,533880544.0,522716889.0,511606372.0,500740247.0,490140146.0,479229598.0,468138575.0,457283090.0,446564729.0,435990338.0],\"yaxis\":\"y\",\"type\":\"scatter\"},{\"hovertemplate\":\"variable=Urban population\\u003cbr\\u003edate=%{x}\\u003cbr\\u003evalue=%{y}\\u003cextra\\u003e\\u003c\\u002fextra\\u003e\",\"legendgroup\":\"Urban population\",\"line\":{\"color\":\"#EF553B\",\"dash\":\"solid\"},\"marker\":{\"symbol\":\"circle\"},\"mode\":\"lines\",\"name\":\"Urban population\",\"orientation\":\"v\",\"showlegend\":true,\"x\":[\"2023-01-01T00:00:00\",\"2022-01-01T00:00:00\",\"2021-01-01T00:00:00\",\"2020-01-01T00:00:00\",\"2019-01-01T00:00:00\",\"2018-01-01T00:00:00\",\"2017-01-01T00:00:00\",\"2016-01-01T00:00:00\",\"2015-01-01T00:00:00\",\"2014-01-01T00:00:00\",\"2013-01-01T00:00:00\",\"2012-01-01T00:00:00\",\"2011-01-01T00:00:00\",\"2010-01-01T00:00:00\",\"2009-01-01T00:00:00\",\"2008-01-01T00:00:00\",\"2007-01-01T00:00:00\",\"2006-01-01T00:00:00\",\"2005-01-01T00:00:00\",\"2004-01-01T00:00:00\",\"2003-01-01T00:00:00\",\"2002-01-01T00:00:00\",\"2001-01-01T00:00:00\",\"2000-01-01T00:00:00\",\"1999-01-01T00:00:00\",\"1998-01-01T00:00:00\",\"1997-01-01T00:00:00\",\"1996-01-01T00:00:00\",\"1995-01-01T00:00:00\",\"1994-01-01T00:00:00\",\"1993-01-01T00:00:00\",\"1992-01-01T00:00:00\",\"1991-01-01T00:00:00\",\"1990-01-01T00:00:00\",\"1989-01-01T00:00:00\",\"1988-01-01T00:00:00\",\"1987-01-01T00:00:00\",\"1986-01-01T00:00:00\",\"1985-01-01T00:00:00\",\"1984-01-01T00:00:00\",\"1983-01-01T00:00:00\",\"1982-01-01T00:00:00\",\"1981-01-01T00:00:00\",\"1980-01-01T00:00:00\",\"1979-01-01T00:00:00\",\"1978-01-01T00:00:00\",\"1977-01-01T00:00:00\",\"1976-01-01T00:00:00\",\"1975-01-01T00:00:00\",\"1974-01-01T00:00:00\",\"1973-01-01T00:00:00\",\"1972-01-01T00:00:00\",\"1971-01-01T00:00:00\",\"1970-01-01T00:00:00\",\"1969-01-01T00:00:00\",\"1968-01-01T00:00:00\",\"1967-01-01T00:00:00\",\"1966-01-01T00:00:00\",\"1965-01-01T00:00:00\",\"1964-01-01T00:00:00\",\"1963-01-01T00:00:00\",\"1962-01-01T00:00:00\",\"1961-01-01T00:00:00\",\"1960-01-01T00:00:00\"],\"xaxis\":\"x\",\"y\":[522939628.0,511327815.0,500529185.0,489878256.0,478826529.0,467796479.0,456844886.0,445947596.0,435286590.0,424967846.0,414704318.0,404495892.0,394460717.0,384608848.0,374851256.0,365350799.0,356083571.0,346808559.0,337569623.0,328335627.0,319092955.0,310006251.0,300927724.0,292695483.0,285024135.0,277484368.0,270045873.0,262720372.0,255507299.0,248457823.0,241512027.0,234624365.0,227858857.0,220974453.0,214090303.0,207356974.0,200801009.0,194391131.0,188124285.0,182023117.0,176077222.0,170332527.0,164784551.0,158765033.0,152593971.0,146745420.0,141142851.0,135668080.0,130404550.0,125324958.0,120503150.0,115927676.0,111569049.0,107862779.0,104437712.0,101229353.0,98080058.0,95025477.0,92072826.0,89112744.0,86160905.0,83307833.0,80524552.0,78146908.0],\"yaxis\":\"y\",\"type\":\"scatter\"},{\"hovertemplate\":\"variable=Rural population\\u003cbr\\u003edate=%{x}\\u003cbr\\u003evalue=%{y}\\u003cextra\\u003e\\u003c\\u002fextra\\u003e\",\"legendgroup\":\"Rural population\",\"line\":{\"color\":\"#00cc96\",\"dash\":\"solid\"},\"marker\":{\"symbol\":\"circle\"},\"mode\":\"lines\",\"name\":\"Rural population\",\"orientation\":\"v\",\"showlegend\":true,\"x\":[\"2023-01-01T00:00:00\",\"2022-01-01T00:00:00\",\"2021-01-01T00:00:00\",\"2020-01-01T00:00:00\",\"2019-01-01T00:00:00\",\"2018-01-01T00:00:00\",\"2017-01-01T00:00:00\",\"2016-01-01T00:00:00\",\"2015-01-01T00:00:00\",\"2014-01-01T00:00:00\",\"2013-01-01T00:00:00\",\"2012-01-01T00:00:00\",\"2011-01-01T00:00:00\",\"2010-01-01T00:00:00\",\"2009-01-01T00:00:00\",\"2008-01-01T00:00:00\",\"2007-01-01T00:00:00\",\"2006-01-01T00:00:00\",\"2005-01-01T00:00:00\",\"2004-01-01T00:00:00\",\"2003-01-01T00:00:00\",\"2002-01-01T00:00:00\",\"2001-01-01T00:00:00\",\"2000-01-01T00:00:00\",\"1999-01-01T00:00:00\",\"1998-01-01T00:00:00\",\"1997-01-01T00:00:00\",\"1996-01-01T00:00:00\",\"1995-01-01T00:00:00\",\"1994-01-01T00:00:00\",\"1993-01-01T00:00:00\",\"1992-01-01T00:00:00\",\"1991-01-01T00:00:00\",\"1990-01-01T00:00:00\",\"1989-01-01T00:00:00\",\"1988-01-01T00:00:00\",\"1987-01-01T00:00:00\",\"1986-01-01T00:00:00\",\"1985-01-01T00:00:00\",\"1984-01-01T00:00:00\",\"1983-01-01T00:00:00\",\"1982-01-01T00:00:00\",\"1981-01-01T00:00:00\",\"1980-01-01T00:00:00\",\"1979-01-01T00:00:00\",\"1978-01-01T00:00:00\",\"1977-01-01T00:00:00\",\"1976-01-01T00:00:00\",\"1975-01-01T00:00:00\",\"1974-01-01T00:00:00\",\"1973-01-01T00:00:00\",\"1972-01-01T00:00:00\",\"1971-01-01T00:00:00\",\"1970-01-01T00:00:00\",\"1969-01-01T00:00:00\",\"1968-01-01T00:00:00\",\"1967-01-01T00:00:00\",\"1966-01-01T00:00:00\",\"1965-01-01T00:00:00\",\"1964-01-01T00:00:00\",\"1963-01-01T00:00:00\",\"1962-01-01T00:00:00\",\"1961-01-01T00:00:00\",\"1960-01-01T00:00:00\"],\"xaxis\":\"x\",\"y\":[915129968.0,914095397.0,913674711.0,912739439.0,910203783.0,906862585.0,902812514.0,897996700.0,892737908.0,887309345.0,881125193.0,874178610.0,866764237.0,858872716.0,850673497.0,842580165.0,834592450.0,826070331.0,817106699.0,807655886.0,797710051.0,787594129.0,776970851.0,765227250.0,753201688.0,741180712.0,729087889.0,716958086.0,704793745.0,692705944.0,680606360.0,668332705.0,656068743.0,643997768.0,631949226.0,619986016.0,608130261.0,596298847.0,584523508.0,572852332.0,561295459.0,549980946.0,538911699.0,528588992.0,518561776.0,508982809.0,499658252.0,490193803.0,480904985.0,471716433.0,462962448.0,454554466.0,446527338.0,438001489.0,429442832.0,421487536.0,413526314.0,405714770.0,398067320.0,390116854.0,381977670.0,373975257.0,366040177.0,357843430.0],\"yaxis\":\"y\",\"type\":\"scatter\"}],                        {\"template\":{\"data\":{\"histogram2dcontour\":[{\"type\":\"histogram2dcontour\",\"colorbar\":{\"outlinewidth\":0,\"ticks\":\"\"},\"colorscale\":[[0.0,\"#0d0887\"],[0.1111111111111111,\"#46039f\"],[0.2222222222222222,\"#7201a8\"],[0.3333333333333333,\"#9c179e\"],[0.4444444444444444,\"#bd3786\"],[0.5555555555555556,\"#d8576b\"],[0.6666666666666666,\"#ed7953\"],[0.7777777777777778,\"#fb9f3a\"],[0.8888888888888888,\"#fdca26\"],[1.0,\"#f0f921\"]]}],\"choropleth\":[{\"type\":\"choropleth\",\"colorbar\":{\"outlinewidth\":0,\"ticks\":\"\"}}],\"histogram2d\":[{\"type\":\"histogram2d\",\"colorbar\":{\"outlinewidth\":0,\"ticks\":\"\"},\"colorscale\":[[0.0,\"#0d0887\"],[0.1111111111111111,\"#46039f\"],[0.2222222222222222,\"#7201a8\"],[0.3333333333333333,\"#9c179e\"],[0.4444444444444444,\"#bd3786\"],[0.5555555555555556,\"#d8576b\"],[0.6666666666666666,\"#ed7953\"],[0.7777777777777778,\"#fb9f3a\"],[0.8888888888888888,\"#fdca26\"],[1.0,\"#f0f921\"]]}],\"heatmap\":[{\"type\":\"heatmap\",\"colorbar\":{\"outlinewidth\":0,\"ticks\":\"\"},\"colorscale\":[[0.0,\"#0d0887\"],[0.1111111111111111,\"#46039f\"],[0.2222222222222222,\"#7201a8\"],[0.3333333333333333,\"#9c179e\"],[0.4444444444444444,\"#bd3786\"],[0.5555555555555556,\"#d8576b\"],[0.6666666666666666,\"#ed7953\"],[0.7777777777777778,\"#fb9f3a\"],[0.8888888888888888,\"#fdca26\"],[1.0,\"#f0f921\"]]}],\"heatmapgl\":[{\"type\":\"heatmapgl\",\"colorbar\":{\"outlinewidth\":0,\"ticks\":\"\"},\"colorscale\":[[0.0,\"#0d0887\"],[0.1111111111111111,\"#46039f\"],[0.2222222222222222,\"#7201a8\"],[0.3333333333333333,\"#9c179e\"],[0.4444444444444444,\"#bd3786\"],[0.5555555555555556,\"#d8576b\"],[0.6666666666666666,\"#ed7953\"],[0.7777777777777778,\"#fb9f3a\"],[0.8888888888888888,\"#fdca26\"],[1.0,\"#f0f921\"]]}],\"contourcarpet\":[{\"type\":\"contourcarpet\",\"colorbar\":{\"outlinewidth\":0,\"ticks\":\"\"}}],\"contour\":[{\"type\":\"contour\",\"colorbar\":{\"outlinewidth\":0,\"ticks\":\"\"},\"colorscale\":[[0.0,\"#0d0887\"],[0.1111111111111111,\"#46039f\"],[0.2222222222222222,\"#7201a8\"],[0.3333333333333333,\"#9c179e\"],[0.4444444444444444,\"#bd3786\"],[0.5555555555555556,\"#d8576b\"],[0.6666666666666666,\"#ed7953\"],[0.7777777777777778,\"#fb9f3a\"],[0.8888888888888888,\"#fdca26\"],[1.0,\"#f0f921\"]]}],\"surface\":[{\"type\":\"surface\",\"colorbar\":{\"outlinewidth\":0,\"ticks\":\"\"},\"colorscale\":[[0.0,\"#0d0887\"],[0.1111111111111111,\"#46039f\"],[0.2222222222222222,\"#7201a8\"],[0.3333333333333333,\"#9c179e\"],[0.4444444444444444,\"#bd3786\"],[0.5555555555555556,\"#d8576b\"],[0.6666666666666666,\"#ed7953\"],[0.7777777777777778,\"#fb9f3a\"],[0.8888888888888888,\"#fdca26\"],[1.0,\"#f0f921\"]]}],\"mesh3d\":[{\"type\":\"mesh3d\",\"colorbar\":{\"outlinewidth\":0,\"ticks\":\"\"}}],\"scatter\":[{\"fillpattern\":{\"fillmode\":\"overlay\",\"size\":10,\"solidity\":0.2},\"type\":\"scatter\"}],\"parcoords\":[{\"type\":\"parcoords\",\"line\":{\"colorbar\":{\"outlinewidth\":0,\"ticks\":\"\"}}}],\"scatterpolargl\":[{\"type\":\"scatterpolargl\",\"marker\":{\"colorbar\":{\"outlinewidth\":0,\"ticks\":\"\"}}}],\"bar\":[{\"error_x\":{\"color\":\"#2a3f5f\"},\"error_y\":{\"color\":\"#2a3f5f\"},\"marker\":{\"line\":{\"color\":\"#E5ECF6\",\"width\":0.5},\"pattern\":{\"fillmode\":\"overlay\",\"size\":10,\"solidity\":0.2}},\"type\":\"bar\"}],\"scattergeo\":[{\"type\":\"scattergeo\",\"marker\":{\"colorbar\":{\"outlinewidth\":0,\"ticks\":\"\"}}}],\"scatterpolar\":[{\"type\":\"scatterpolar\",\"marker\":{\"colorbar\":{\"outlinewidth\":0,\"ticks\":\"\"}}}],\"histogram\":[{\"marker\":{\"pattern\":{\"fillmode\":\"overlay\",\"size\":10,\"solidity\":0.2}},\"type\":\"histogram\"}],\"scattergl\":[{\"type\":\"scattergl\",\"marker\":{\"colorbar\":{\"outlinewidth\":0,\"ticks\":\"\"}}}],\"scatter3d\":[{\"type\":\"scatter3d\",\"line\":{\"colorbar\":{\"outlinewidth\":0,\"ticks\":\"\"}},\"marker\":{\"colorbar\":{\"outlinewidth\":0,\"ticks\":\"\"}}}],\"scattermapbox\":[{\"type\":\"scattermapbox\",\"marker\":{\"colorbar\":{\"outlinewidth\":0,\"ticks\":\"\"}}}],\"scatterternary\":[{\"type\":\"scatterternary\",\"marker\":{\"colorbar\":{\"outlinewidth\":0,\"ticks\":\"\"}}}],\"scattercarpet\":[{\"type\":\"scattercarpet\",\"marker\":{\"colorbar\":{\"outlinewidth\":0,\"ticks\":\"\"}}}],\"carpet\":[{\"aaxis\":{\"endlinecolor\":\"#2a3f5f\",\"gridcolor\":\"white\",\"linecolor\":\"white\",\"minorgridcolor\":\"white\",\"startlinecolor\":\"#2a3f5f\"},\"baxis\":{\"endlinecolor\":\"#2a3f5f\",\"gridcolor\":\"white\",\"linecolor\":\"white\",\"minorgridcolor\":\"white\",\"startlinecolor\":\"#2a3f5f\"},\"type\":\"carpet\"}],\"table\":[{\"cells\":{\"fill\":{\"color\":\"#EBF0F8\"},\"line\":{\"color\":\"white\"}},\"header\":{\"fill\":{\"color\":\"#C8D4E3\"},\"line\":{\"color\":\"white\"}},\"type\":\"table\"}],\"barpolar\":[{\"marker\":{\"line\":{\"color\":\"#E5ECF6\",\"width\":0.5},\"pattern\":{\"fillmode\":\"overlay\",\"size\":10,\"solidity\":0.2}},\"type\":\"barpolar\"}],\"pie\":[{\"automargin\":true,\"type\":\"pie\"}]},\"layout\":{\"autotypenumbers\":\"strict\",\"colorway\":[\"#636efa\",\"#EF553B\",\"#00cc96\",\"#ab63fa\",\"#FFA15A\",\"#19d3f3\",\"#FF6692\",\"#B6E880\",\"#FF97FF\",\"#FECB52\"],\"font\":{\"color\":\"#2a3f5f\"},\"hovermode\":\"closest\",\"hoverlabel\":{\"align\":\"left\"},\"paper_bgcolor\":\"white\",\"plot_bgcolor\":\"#E5ECF6\",\"polar\":{\"bgcolor\":\"#E5ECF6\",\"angularaxis\":{\"gridcolor\":\"white\",\"linecolor\":\"white\",\"ticks\":\"\"},\"radialaxis\":{\"gridcolor\":\"white\",\"linecolor\":\"white\",\"ticks\":\"\"}},\"ternary\":{\"bgcolor\":\"#E5ECF6\",\"aaxis\":{\"gridcolor\":\"white\",\"linecolor\":\"white\",\"ticks\":\"\"},\"baxis\":{\"gridcolor\":\"white\",\"linecolor\":\"white\",\"ticks\":\"\"},\"caxis\":{\"gridcolor\":\"white\",\"linecolor\":\"white\",\"ticks\":\"\"}},\"coloraxis\":{\"colorbar\":{\"outlinewidth\":0,\"ticks\":\"\"}},\"colorscale\":{\"sequential\":[[0.0,\"#0d0887\"],[0.1111111111111111,\"#46039f\"],[0.2222222222222222,\"#7201a8\"],[0.3333333333333333,\"#9c179e\"],[0.4444444444444444,\"#bd3786\"],[0.5555555555555556,\"#d8576b\"],[0.6666666666666666,\"#ed7953\"],[0.7777777777777778,\"#fb9f3a\"],[0.8888888888888888,\"#fdca26\"],[1.0,\"#f0f921\"]],\"sequentialminus\":[[0.0,\"#0d0887\"],[0.1111111111111111,\"#46039f\"],[0.2222222222222222,\"#7201a8\"],[0.3333333333333333,\"#9c179e\"],[0.4444444444444444,\"#bd3786\"],[0.5555555555555556,\"#d8576b\"],[0.6666666666666666,\"#ed7953\"],[0.7777777777777778,\"#fb9f3a\"],[0.8888888888888888,\"#fdca26\"],[1.0,\"#f0f921\"]],\"diverging\":[[0,\"#8e0152\"],[0.1,\"#c51b7d\"],[0.2,\"#de77ae\"],[0.3,\"#f1b6da\"],[0.4,\"#fde0ef\"],[0.5,\"#f7f7f7\"],[0.6,\"#e6f5d0\"],[0.7,\"#b8e186\"],[0.8,\"#7fbc41\"],[0.9,\"#4d9221\"],[1,\"#276419\"]]},\"xaxis\":{\"gridcolor\":\"white\",\"linecolor\":\"white\",\"ticks\":\"\",\"title\":{\"standoff\":15},\"zerolinecolor\":\"white\",\"automargin\":true,\"zerolinewidth\":2},\"yaxis\":{\"gridcolor\":\"white\",\"linecolor\":\"white\",\"ticks\":\"\",\"title\":{\"standoff\":15},\"zerolinecolor\":\"white\",\"automargin\":true,\"zerolinewidth\":2},\"scene\":{\"xaxis\":{\"backgroundcolor\":\"#E5ECF6\",\"gridcolor\":\"white\",\"linecolor\":\"white\",\"showbackground\":true,\"ticks\":\"\",\"zerolinecolor\":\"white\",\"gridwidth\":2},\"yaxis\":{\"backgroundcolor\":\"#E5ECF6\",\"gridcolor\":\"white\",\"linecolor\":\"white\",\"showbackground\":true,\"ticks\":\"\",\"zerolinecolor\":\"white\",\"gridwidth\":2},\"zaxis\":{\"backgroundcolor\":\"#E5ECF6\",\"gridcolor\":\"white\",\"linecolor\":\"white\",\"showbackground\":true,\"ticks\":\"\",\"zerolinecolor\":\"white\",\"gridwidth\":2}},\"shapedefaults\":{\"line\":{\"color\":\"#2a3f5f\"}},\"annotationdefaults\":{\"arrowcolor\":\"#2a3f5f\",\"arrowhead\":0,\"arrowwidth\":1},\"geo\":{\"bgcolor\":\"white\",\"landcolor\":\"#E5ECF6\",\"subunitcolor\":\"white\",\"showland\":true,\"showlakes\":true,\"lakecolor\":\"white\"},\"title\":{\"x\":0.05},\"mapbox\":{\"style\":\"light\"}}},\"xaxis\":{\"anchor\":\"y\",\"domain\":[0.0,1.0],\"title\":{\"text\":\"date\"}},\"yaxis\":{\"anchor\":\"x\",\"domain\":[0.0,1.0],\"title\":{\"text\":\"value\"}},\"legend\":{\"title\":{\"text\":\"variable\"},\"tracegroupgap\":0},\"margin\":{\"t\":60}},                        {\"responsive\": true}                    ).then(function(){\n",
       "                            \n",
       "var gd = document.getElementById('75eee0a9-a550-4d65-9706-725969dad7e3');\n",
       "var x = new MutationObserver(function (mutations, observer) {{\n",
       "        var display = window.getComputedStyle(gd).display;\n",
       "        if (!display || display === 'none') {{\n",
       "            console.log([gd, 'removed!']);\n",
       "            Plotly.purge(gd);\n",
       "            observer.disconnect();\n",
       "        }}\n",
       "}});\n",
       "\n",
       "// Listen for the removal of the full notebook cells\n",
       "var notebookContainer = gd.closest('#notebook-container');\n",
       "if (notebookContainer) {{\n",
       "    x.observe(notebookContainer, {childList: true});\n",
       "}}\n",
       "\n",
       "// Listen for the clearing of the current output cell\n",
       "var outputEl = gd.closest('.output');\n",
       "if (outputEl) {{\n",
       "    x.observe(outputEl, {childList: true});\n",
       "}}\n",
       "\n",
       "                        })                };                });            </script>        </div>"
      ]
     },
     "metadata": {},
     "output_type": "display_data"
    }
   ],
   "source": [
    "india_pop.plot(kind='line')"
   ]
  },
  {
   "cell_type": "code",
   "execution_count": 153,
   "id": "c767275a-ac87-433b-857a-f1d6c3a21788",
   "metadata": {},
   "outputs": [
    {
     "data": {
      "application/vnd.plotly.v1+json": {
       "config": {
        "plotlyServerURL": "https://plot.ly"
       },
       "data": [
        {
         "hovertemplate": "variable=Mortality rate, under-5 (per 1,000 live births)<br>date=%{x}<br>value=%{y}<extra></extra>",
         "legendgroup": "Mortality rate, under-5 (per 1,000 live births)",
         "line": {
          "color": "#636efa",
          "dash": "solid"
         },
         "marker": {
          "symbol": "circle"
         },
         "mode": "lines",
         "name": "Mortality rate, under-5 (per 1,000 live births)",
         "orientation": "v",
         "showlegend": true,
         "type": "scatter",
         "x": [
          "2023-01-01T00:00:00",
          "2022-01-01T00:00:00",
          "2021-01-01T00:00:00",
          "2020-01-01T00:00:00",
          "2019-01-01T00:00:00",
          "2018-01-01T00:00:00",
          "2017-01-01T00:00:00",
          "2016-01-01T00:00:00",
          "2015-01-01T00:00:00",
          "2014-01-01T00:00:00",
          "2013-01-01T00:00:00",
          "2012-01-01T00:00:00",
          "2011-01-01T00:00:00",
          "2010-01-01T00:00:00",
          "2009-01-01T00:00:00",
          "2008-01-01T00:00:00",
          "2007-01-01T00:00:00",
          "2006-01-01T00:00:00",
          "2005-01-01T00:00:00",
          "2004-01-01T00:00:00",
          "2003-01-01T00:00:00",
          "2002-01-01T00:00:00",
          "2001-01-01T00:00:00",
          "2000-01-01T00:00:00",
          "1999-01-01T00:00:00",
          "1998-01-01T00:00:00",
          "1997-01-01T00:00:00",
          "1996-01-01T00:00:00",
          "1995-01-01T00:00:00",
          "1994-01-01T00:00:00",
          "1993-01-01T00:00:00",
          "1992-01-01T00:00:00",
          "1991-01-01T00:00:00",
          "1990-01-01T00:00:00",
          "1989-01-01T00:00:00",
          "1988-01-01T00:00:00",
          "1987-01-01T00:00:00",
          "1986-01-01T00:00:00",
          "1985-01-01T00:00:00",
          "1984-01-01T00:00:00",
          "1983-01-01T00:00:00",
          "1982-01-01T00:00:00",
          "1981-01-01T00:00:00",
          "1980-01-01T00:00:00",
          "1979-01-01T00:00:00",
          "1978-01-01T00:00:00",
          "1977-01-01T00:00:00",
          "1976-01-01T00:00:00",
          "1975-01-01T00:00:00",
          "1974-01-01T00:00:00",
          "1973-01-01T00:00:00",
          "1972-01-01T00:00:00",
          "1971-01-01T00:00:00",
          "1970-01-01T00:00:00",
          "1969-01-01T00:00:00",
          "1968-01-01T00:00:00",
          "1967-01-01T00:00:00",
          "1966-01-01T00:00:00",
          "1965-01-01T00:00:00",
          "1964-01-01T00:00:00",
          "1963-01-01T00:00:00",
          "1962-01-01T00:00:00",
          "1961-01-01T00:00:00",
          "1960-01-01T00:00:00"
         ],
         "xaxis": "x",
         "y": [
          null,
          29.1,
          30.6,
          32.4,
          34.3,
          36.4,
          38.7,
          41.1,
          43.6,
          46.3,
          49.1,
          52,
          55,
          58.1,
          61.3,
          64.5,
          67.8,
          71.1,
          74.4,
          77.7,
          81.1,
          84.5,
          88.1,
          91.7,
          95.3,
          98.9,
          102.5,
          106,
          109.5,
          112.8,
          116.1,
          119.5,
          122.9,
          126.5,
          130.2,
          134.1,
          138.2,
          142.2,
          146.2,
          150.3,
          154.5,
          159.1,
          163.9,
          169.1,
          174.6,
          180.1,
          185.7,
          191,
          195.9,
          200.4,
          204.5,
          208.1,
          211.4,
          214.5,
          217.3,
          219.8,
          222.3,
          224.8,
          227.3,
          229.8,
          232.6,
          235.4,
          238.4,
          241.7
         ],
         "yaxis": "y"
        },
        {
         "hovertemplate": "variable=Mortality rate, infant (per 1,000 live births)<br>date=%{x}<br>value=%{y}<extra></extra>",
         "legendgroup": "Mortality rate, infant (per 1,000 live births)",
         "line": {
          "color": "#EF553B",
          "dash": "solid"
         },
         "marker": {
          "symbol": "circle"
         },
         "mode": "lines",
         "name": "Mortality rate, infant (per 1,000 live births)",
         "orientation": "v",
         "showlegend": true,
         "type": "scatter",
         "x": [
          "2023-01-01T00:00:00",
          "2022-01-01T00:00:00",
          "2021-01-01T00:00:00",
          "2020-01-01T00:00:00",
          "2019-01-01T00:00:00",
          "2018-01-01T00:00:00",
          "2017-01-01T00:00:00",
          "2016-01-01T00:00:00",
          "2015-01-01T00:00:00",
          "2014-01-01T00:00:00",
          "2013-01-01T00:00:00",
          "2012-01-01T00:00:00",
          "2011-01-01T00:00:00",
          "2010-01-01T00:00:00",
          "2009-01-01T00:00:00",
          "2008-01-01T00:00:00",
          "2007-01-01T00:00:00",
          "2006-01-01T00:00:00",
          "2005-01-01T00:00:00",
          "2004-01-01T00:00:00",
          "2003-01-01T00:00:00",
          "2002-01-01T00:00:00",
          "2001-01-01T00:00:00",
          "2000-01-01T00:00:00",
          "1999-01-01T00:00:00",
          "1998-01-01T00:00:00",
          "1997-01-01T00:00:00",
          "1996-01-01T00:00:00",
          "1995-01-01T00:00:00",
          "1994-01-01T00:00:00",
          "1993-01-01T00:00:00",
          "1992-01-01T00:00:00",
          "1991-01-01T00:00:00",
          "1990-01-01T00:00:00",
          "1989-01-01T00:00:00",
          "1988-01-01T00:00:00",
          "1987-01-01T00:00:00",
          "1986-01-01T00:00:00",
          "1985-01-01T00:00:00",
          "1984-01-01T00:00:00",
          "1983-01-01T00:00:00",
          "1982-01-01T00:00:00",
          "1981-01-01T00:00:00",
          "1980-01-01T00:00:00",
          "1979-01-01T00:00:00",
          "1978-01-01T00:00:00",
          "1977-01-01T00:00:00",
          "1976-01-01T00:00:00",
          "1975-01-01T00:00:00",
          "1974-01-01T00:00:00",
          "1973-01-01T00:00:00",
          "1972-01-01T00:00:00",
          "1971-01-01T00:00:00",
          "1970-01-01T00:00:00",
          "1969-01-01T00:00:00",
          "1968-01-01T00:00:00",
          "1967-01-01T00:00:00",
          "1966-01-01T00:00:00",
          "1965-01-01T00:00:00",
          "1964-01-01T00:00:00",
          "1963-01-01T00:00:00",
          "1962-01-01T00:00:00",
          "1961-01-01T00:00:00",
          "1960-01-01T00:00:00"
         ],
         "xaxis": "x",
         "y": [
          null,
          25.5,
          26.8,
          28.1,
          29.7,
          31.3,
          32.9,
          34.7,
          36.5,
          38.5,
          40.5,
          42.5,
          44.6,
          46.7,
          48.7,
          50.8,
          52.8,
          54.8,
          56.8,
          58.7,
          60.6,
          62.6,
          64.5,
          66.4,
          68.4,
          70.3,
          72.1,
          73.9,
          75.7,
          77.4,
          79,
          80.7,
          82.5,
          84.4,
          86.4,
          88.6,
          90.9,
          93.2,
          95.5,
          97.8,
          100.2,
          102.9,
          105.7,
          108.9,
          112.2,
          115.7,
          119.2,
          122.6,
          125.8,
          128.7,
          131.4,
          133.8,
          136,
          138,
          139.9,
          141.6,
          143.3,
          null,
          null,
          null,
          null,
          null,
          null,
          null
         ],
         "yaxis": "y"
        },
        {
         "hovertemplate": "variable=Birth rate, crude (per 1,000 people)<br>date=%{x}<br>value=%{y}<extra></extra>",
         "legendgroup": "Birth rate, crude (per 1,000 people)",
         "line": {
          "color": "#00cc96",
          "dash": "solid"
         },
         "marker": {
          "symbol": "circle"
         },
         "mode": "lines",
         "name": "Birth rate, crude (per 1,000 people)",
         "orientation": "v",
         "showlegend": true,
         "type": "scatter",
         "x": [
          "2023-01-01T00:00:00",
          "2022-01-01T00:00:00",
          "2021-01-01T00:00:00",
          "2020-01-01T00:00:00",
          "2019-01-01T00:00:00",
          "2018-01-01T00:00:00",
          "2017-01-01T00:00:00",
          "2016-01-01T00:00:00",
          "2015-01-01T00:00:00",
          "2014-01-01T00:00:00",
          "2013-01-01T00:00:00",
          "2012-01-01T00:00:00",
          "2011-01-01T00:00:00",
          "2010-01-01T00:00:00",
          "2009-01-01T00:00:00",
          "2008-01-01T00:00:00",
          "2007-01-01T00:00:00",
          "2006-01-01T00:00:00",
          "2005-01-01T00:00:00",
          "2004-01-01T00:00:00",
          "2003-01-01T00:00:00",
          "2002-01-01T00:00:00",
          "2001-01-01T00:00:00",
          "2000-01-01T00:00:00",
          "1999-01-01T00:00:00",
          "1998-01-01T00:00:00",
          "1997-01-01T00:00:00",
          "1996-01-01T00:00:00",
          "1995-01-01T00:00:00",
          "1994-01-01T00:00:00",
          "1993-01-01T00:00:00",
          "1992-01-01T00:00:00",
          "1991-01-01T00:00:00",
          "1990-01-01T00:00:00",
          "1989-01-01T00:00:00",
          "1988-01-01T00:00:00",
          "1987-01-01T00:00:00",
          "1986-01-01T00:00:00",
          "1985-01-01T00:00:00",
          "1984-01-01T00:00:00",
          "1983-01-01T00:00:00",
          "1982-01-01T00:00:00",
          "1981-01-01T00:00:00",
          "1980-01-01T00:00:00",
          "1979-01-01T00:00:00",
          "1978-01-01T00:00:00",
          "1977-01-01T00:00:00",
          "1976-01-01T00:00:00",
          "1975-01-01T00:00:00",
          "1974-01-01T00:00:00",
          "1973-01-01T00:00:00",
          "1972-01-01T00:00:00",
          "1971-01-01T00:00:00",
          "1970-01-01T00:00:00",
          "1969-01-01T00:00:00",
          "1968-01-01T00:00:00",
          "1967-01-01T00:00:00",
          "1966-01-01T00:00:00",
          "1965-01-01T00:00:00",
          "1964-01-01T00:00:00",
          "1963-01-01T00:00:00",
          "1962-01-01T00:00:00",
          "1961-01-01T00:00:00",
          "1960-01-01T00:00:00"
         ],
         "xaxis": "x",
         "y": [
          null,
          16.267,
          16.419,
          16.572,
          17.049,
          17.651,
          17.911,
          18.514,
          18.765,
          19.049,
          19.935,
          20.421,
          20.945,
          21.438,
          21.934,
          22.276,
          22.713,
          23.22,
          23.94,
          24.728,
          25.375,
          26.082,
          26.728,
          27.001,
          27.26,
          27.784,
          28.274,
          28.786,
          29.361,
          29.841,
          30.285,
          30.914,
          31.423,
          31.816,
          32.549,
          33.166,
          33.681,
          34.483,
          34.602,
          35.094,
          35.3,
          35.605,
          36.024,
          36.214,
          36.252,
          36.383,
          36.89,
          37.665,
          37.937,
          38.629,
          38.962,
          39.173,
          39.43,
          39.533,
          39.792,
          40.207,
          40.592,
          40.918,
          41.346,
          41.721,
          41.907,
          42.101,
          42.294,
          42.506
         ],
         "yaxis": "y"
        },
        {
         "hovertemplate": "variable=Death rate, crude (per 1,000 people)<br>date=%{x}<br>value=%{y}<extra></extra>",
         "legendgroup": "Death rate, crude (per 1,000 people)",
         "line": {
          "color": "#ab63fa",
          "dash": "solid"
         },
         "marker": {
          "symbol": "circle"
         },
         "mode": "lines",
         "name": "Death rate, crude (per 1,000 people)",
         "orientation": "v",
         "showlegend": true,
         "type": "scatter",
         "x": [
          "2023-01-01T00:00:00",
          "2022-01-01T00:00:00",
          "2021-01-01T00:00:00",
          "2020-01-01T00:00:00",
          "2019-01-01T00:00:00",
          "2018-01-01T00:00:00",
          "2017-01-01T00:00:00",
          "2016-01-01T00:00:00",
          "2015-01-01T00:00:00",
          "2014-01-01T00:00:00",
          "2013-01-01T00:00:00",
          "2012-01-01T00:00:00",
          "2011-01-01T00:00:00",
          "2010-01-01T00:00:00",
          "2009-01-01T00:00:00",
          "2008-01-01T00:00:00",
          "2007-01-01T00:00:00",
          "2006-01-01T00:00:00",
          "2005-01-01T00:00:00",
          "2004-01-01T00:00:00",
          "2003-01-01T00:00:00",
          "2002-01-01T00:00:00",
          "2001-01-01T00:00:00",
          "2000-01-01T00:00:00",
          "1999-01-01T00:00:00",
          "1998-01-01T00:00:00",
          "1997-01-01T00:00:00",
          "1996-01-01T00:00:00",
          "1995-01-01T00:00:00",
          "1994-01-01T00:00:00",
          "1993-01-01T00:00:00",
          "1992-01-01T00:00:00",
          "1991-01-01T00:00:00",
          "1990-01-01T00:00:00",
          "1989-01-01T00:00:00",
          "1988-01-01T00:00:00",
          "1987-01-01T00:00:00",
          "1986-01-01T00:00:00",
          "1985-01-01T00:00:00",
          "1984-01-01T00:00:00",
          "1983-01-01T00:00:00",
          "1982-01-01T00:00:00",
          "1981-01-01T00:00:00",
          "1980-01-01T00:00:00",
          "1979-01-01T00:00:00",
          "1978-01-01T00:00:00",
          "1977-01-01T00:00:00",
          "1976-01-01T00:00:00",
          "1975-01-01T00:00:00",
          "1974-01-01T00:00:00",
          "1973-01-01T00:00:00",
          "1972-01-01T00:00:00",
          "1971-01-01T00:00:00",
          "1970-01-01T00:00:00",
          "1969-01-01T00:00:00",
          "1968-01-01T00:00:00",
          "1967-01-01T00:00:00",
          "1966-01-01T00:00:00",
          "1965-01-01T00:00:00",
          "1964-01-01T00:00:00",
          "1963-01-01T00:00:00",
          "1962-01-01T00:00:00",
          "1961-01-01T00:00:00",
          "1960-01-01T00:00:00"
         ],
         "xaxis": "x",
         "y": [
          null,
          9.074,
          9.448,
          7.35,
          6.71,
          6.644,
          6.593,
          6.603,
          6.67,
          6.79,
          6.96,
          7.118,
          7.267,
          7.385,
          7.479,
          7.558,
          7.642,
          7.743,
          7.876,
          8.04,
          8.188,
          8.363,
          8.558,
          8.701,
          8.875,
          9.05,
          9.229,
          9.419,
          9.612,
          9.807,
          10.021,
          10.23,
          10.455,
          10.691,
          10.956,
          11.236,
          11.522,
          11.82,
          12.102,
          12.412,
          12.72,
          13.044,
          13.37,
          13.676,
          13.965,
          14.288,
          14.662,
          15.009,
          15.381,
          15.786,
          16.27,
          16.643,
          16.938,
          17.228,
          17.51,
          17.778,
          19.082,
          19.342,
          19.642,
          18.761,
          18.964,
          19.205,
          19.446,
          19.633
         ],
         "yaxis": "y"
        }
       ],
       "layout": {
        "legend": {
         "title": {
          "text": "variable"
         },
         "tracegroupgap": 0
        },
        "margin": {
         "t": 60
        },
        "template": {
         "data": {
          "bar": [
           {
            "error_x": {
             "color": "#2a3f5f"
            },
            "error_y": {
             "color": "#2a3f5f"
            },
            "marker": {
             "line": {
              "color": "#E5ECF6",
              "width": 0.5
             },
             "pattern": {
              "fillmode": "overlay",
              "size": 10,
              "solidity": 0.2
             }
            },
            "type": "bar"
           }
          ],
          "barpolar": [
           {
            "marker": {
             "line": {
              "color": "#E5ECF6",
              "width": 0.5
             },
             "pattern": {
              "fillmode": "overlay",
              "size": 10,
              "solidity": 0.2
             }
            },
            "type": "barpolar"
           }
          ],
          "carpet": [
           {
            "aaxis": {
             "endlinecolor": "#2a3f5f",
             "gridcolor": "white",
             "linecolor": "white",
             "minorgridcolor": "white",
             "startlinecolor": "#2a3f5f"
            },
            "baxis": {
             "endlinecolor": "#2a3f5f",
             "gridcolor": "white",
             "linecolor": "white",
             "minorgridcolor": "white",
             "startlinecolor": "#2a3f5f"
            },
            "type": "carpet"
           }
          ],
          "choropleth": [
           {
            "colorbar": {
             "outlinewidth": 0,
             "ticks": ""
            },
            "type": "choropleth"
           }
          ],
          "contour": [
           {
            "colorbar": {
             "outlinewidth": 0,
             "ticks": ""
            },
            "colorscale": [
             [
              0,
              "#0d0887"
             ],
             [
              0.1111111111111111,
              "#46039f"
             ],
             [
              0.2222222222222222,
              "#7201a8"
             ],
             [
              0.3333333333333333,
              "#9c179e"
             ],
             [
              0.4444444444444444,
              "#bd3786"
             ],
             [
              0.5555555555555556,
              "#d8576b"
             ],
             [
              0.6666666666666666,
              "#ed7953"
             ],
             [
              0.7777777777777778,
              "#fb9f3a"
             ],
             [
              0.8888888888888888,
              "#fdca26"
             ],
             [
              1,
              "#f0f921"
             ]
            ],
            "type": "contour"
           }
          ],
          "contourcarpet": [
           {
            "colorbar": {
             "outlinewidth": 0,
             "ticks": ""
            },
            "type": "contourcarpet"
           }
          ],
          "heatmap": [
           {
            "colorbar": {
             "outlinewidth": 0,
             "ticks": ""
            },
            "colorscale": [
             [
              0,
              "#0d0887"
             ],
             [
              0.1111111111111111,
              "#46039f"
             ],
             [
              0.2222222222222222,
              "#7201a8"
             ],
             [
              0.3333333333333333,
              "#9c179e"
             ],
             [
              0.4444444444444444,
              "#bd3786"
             ],
             [
              0.5555555555555556,
              "#d8576b"
             ],
             [
              0.6666666666666666,
              "#ed7953"
             ],
             [
              0.7777777777777778,
              "#fb9f3a"
             ],
             [
              0.8888888888888888,
              "#fdca26"
             ],
             [
              1,
              "#f0f921"
             ]
            ],
            "type": "heatmap"
           }
          ],
          "heatmapgl": [
           {
            "colorbar": {
             "outlinewidth": 0,
             "ticks": ""
            },
            "colorscale": [
             [
              0,
              "#0d0887"
             ],
             [
              0.1111111111111111,
              "#46039f"
             ],
             [
              0.2222222222222222,
              "#7201a8"
             ],
             [
              0.3333333333333333,
              "#9c179e"
             ],
             [
              0.4444444444444444,
              "#bd3786"
             ],
             [
              0.5555555555555556,
              "#d8576b"
             ],
             [
              0.6666666666666666,
              "#ed7953"
             ],
             [
              0.7777777777777778,
              "#fb9f3a"
             ],
             [
              0.8888888888888888,
              "#fdca26"
             ],
             [
              1,
              "#f0f921"
             ]
            ],
            "type": "heatmapgl"
           }
          ],
          "histogram": [
           {
            "marker": {
             "pattern": {
              "fillmode": "overlay",
              "size": 10,
              "solidity": 0.2
             }
            },
            "type": "histogram"
           }
          ],
          "histogram2d": [
           {
            "colorbar": {
             "outlinewidth": 0,
             "ticks": ""
            },
            "colorscale": [
             [
              0,
              "#0d0887"
             ],
             [
              0.1111111111111111,
              "#46039f"
             ],
             [
              0.2222222222222222,
              "#7201a8"
             ],
             [
              0.3333333333333333,
              "#9c179e"
             ],
             [
              0.4444444444444444,
              "#bd3786"
             ],
             [
              0.5555555555555556,
              "#d8576b"
             ],
             [
              0.6666666666666666,
              "#ed7953"
             ],
             [
              0.7777777777777778,
              "#fb9f3a"
             ],
             [
              0.8888888888888888,
              "#fdca26"
             ],
             [
              1,
              "#f0f921"
             ]
            ],
            "type": "histogram2d"
           }
          ],
          "histogram2dcontour": [
           {
            "colorbar": {
             "outlinewidth": 0,
             "ticks": ""
            },
            "colorscale": [
             [
              0,
              "#0d0887"
             ],
             [
              0.1111111111111111,
              "#46039f"
             ],
             [
              0.2222222222222222,
              "#7201a8"
             ],
             [
              0.3333333333333333,
              "#9c179e"
             ],
             [
              0.4444444444444444,
              "#bd3786"
             ],
             [
              0.5555555555555556,
              "#d8576b"
             ],
             [
              0.6666666666666666,
              "#ed7953"
             ],
             [
              0.7777777777777778,
              "#fb9f3a"
             ],
             [
              0.8888888888888888,
              "#fdca26"
             ],
             [
              1,
              "#f0f921"
             ]
            ],
            "type": "histogram2dcontour"
           }
          ],
          "mesh3d": [
           {
            "colorbar": {
             "outlinewidth": 0,
             "ticks": ""
            },
            "type": "mesh3d"
           }
          ],
          "parcoords": [
           {
            "line": {
             "colorbar": {
              "outlinewidth": 0,
              "ticks": ""
             }
            },
            "type": "parcoords"
           }
          ],
          "pie": [
           {
            "automargin": true,
            "type": "pie"
           }
          ],
          "scatter": [
           {
            "fillpattern": {
             "fillmode": "overlay",
             "size": 10,
             "solidity": 0.2
            },
            "type": "scatter"
           }
          ],
          "scatter3d": [
           {
            "line": {
             "colorbar": {
              "outlinewidth": 0,
              "ticks": ""
             }
            },
            "marker": {
             "colorbar": {
              "outlinewidth": 0,
              "ticks": ""
             }
            },
            "type": "scatter3d"
           }
          ],
          "scattercarpet": [
           {
            "marker": {
             "colorbar": {
              "outlinewidth": 0,
              "ticks": ""
             }
            },
            "type": "scattercarpet"
           }
          ],
          "scattergeo": [
           {
            "marker": {
             "colorbar": {
              "outlinewidth": 0,
              "ticks": ""
             }
            },
            "type": "scattergeo"
           }
          ],
          "scattergl": [
           {
            "marker": {
             "colorbar": {
              "outlinewidth": 0,
              "ticks": ""
             }
            },
            "type": "scattergl"
           }
          ],
          "scattermapbox": [
           {
            "marker": {
             "colorbar": {
              "outlinewidth": 0,
              "ticks": ""
             }
            },
            "type": "scattermapbox"
           }
          ],
          "scatterpolar": [
           {
            "marker": {
             "colorbar": {
              "outlinewidth": 0,
              "ticks": ""
             }
            },
            "type": "scatterpolar"
           }
          ],
          "scatterpolargl": [
           {
            "marker": {
             "colorbar": {
              "outlinewidth": 0,
              "ticks": ""
             }
            },
            "type": "scatterpolargl"
           }
          ],
          "scatterternary": [
           {
            "marker": {
             "colorbar": {
              "outlinewidth": 0,
              "ticks": ""
             }
            },
            "type": "scatterternary"
           }
          ],
          "surface": [
           {
            "colorbar": {
             "outlinewidth": 0,
             "ticks": ""
            },
            "colorscale": [
             [
              0,
              "#0d0887"
             ],
             [
              0.1111111111111111,
              "#46039f"
             ],
             [
              0.2222222222222222,
              "#7201a8"
             ],
             [
              0.3333333333333333,
              "#9c179e"
             ],
             [
              0.4444444444444444,
              "#bd3786"
             ],
             [
              0.5555555555555556,
              "#d8576b"
             ],
             [
              0.6666666666666666,
              "#ed7953"
             ],
             [
              0.7777777777777778,
              "#fb9f3a"
             ],
             [
              0.8888888888888888,
              "#fdca26"
             ],
             [
              1,
              "#f0f921"
             ]
            ],
            "type": "surface"
           }
          ],
          "table": [
           {
            "cells": {
             "fill": {
              "color": "#EBF0F8"
             },
             "line": {
              "color": "white"
             }
            },
            "header": {
             "fill": {
              "color": "#C8D4E3"
             },
             "line": {
              "color": "white"
             }
            },
            "type": "table"
           }
          ]
         },
         "layout": {
          "annotationdefaults": {
           "arrowcolor": "#2a3f5f",
           "arrowhead": 0,
           "arrowwidth": 1
          },
          "autotypenumbers": "strict",
          "coloraxis": {
           "colorbar": {
            "outlinewidth": 0,
            "ticks": ""
           }
          },
          "colorscale": {
           "diverging": [
            [
             0,
             "#8e0152"
            ],
            [
             0.1,
             "#c51b7d"
            ],
            [
             0.2,
             "#de77ae"
            ],
            [
             0.3,
             "#f1b6da"
            ],
            [
             0.4,
             "#fde0ef"
            ],
            [
             0.5,
             "#f7f7f7"
            ],
            [
             0.6,
             "#e6f5d0"
            ],
            [
             0.7,
             "#b8e186"
            ],
            [
             0.8,
             "#7fbc41"
            ],
            [
             0.9,
             "#4d9221"
            ],
            [
             1,
             "#276419"
            ]
           ],
           "sequential": [
            [
             0,
             "#0d0887"
            ],
            [
             0.1111111111111111,
             "#46039f"
            ],
            [
             0.2222222222222222,
             "#7201a8"
            ],
            [
             0.3333333333333333,
             "#9c179e"
            ],
            [
             0.4444444444444444,
             "#bd3786"
            ],
            [
             0.5555555555555556,
             "#d8576b"
            ],
            [
             0.6666666666666666,
             "#ed7953"
            ],
            [
             0.7777777777777778,
             "#fb9f3a"
            ],
            [
             0.8888888888888888,
             "#fdca26"
            ],
            [
             1,
             "#f0f921"
            ]
           ],
           "sequentialminus": [
            [
             0,
             "#0d0887"
            ],
            [
             0.1111111111111111,
             "#46039f"
            ],
            [
             0.2222222222222222,
             "#7201a8"
            ],
            [
             0.3333333333333333,
             "#9c179e"
            ],
            [
             0.4444444444444444,
             "#bd3786"
            ],
            [
             0.5555555555555556,
             "#d8576b"
            ],
            [
             0.6666666666666666,
             "#ed7953"
            ],
            [
             0.7777777777777778,
             "#fb9f3a"
            ],
            [
             0.8888888888888888,
             "#fdca26"
            ],
            [
             1,
             "#f0f921"
            ]
           ]
          },
          "colorway": [
           "#636efa",
           "#EF553B",
           "#00cc96",
           "#ab63fa",
           "#FFA15A",
           "#19d3f3",
           "#FF6692",
           "#B6E880",
           "#FF97FF",
           "#FECB52"
          ],
          "font": {
           "color": "#2a3f5f"
          },
          "geo": {
           "bgcolor": "white",
           "lakecolor": "white",
           "landcolor": "#E5ECF6",
           "showlakes": true,
           "showland": true,
           "subunitcolor": "white"
          },
          "hoverlabel": {
           "align": "left"
          },
          "hovermode": "closest",
          "mapbox": {
           "style": "light"
          },
          "paper_bgcolor": "white",
          "plot_bgcolor": "#E5ECF6",
          "polar": {
           "angularaxis": {
            "gridcolor": "white",
            "linecolor": "white",
            "ticks": ""
           },
           "bgcolor": "#E5ECF6",
           "radialaxis": {
            "gridcolor": "white",
            "linecolor": "white",
            "ticks": ""
           }
          },
          "scene": {
           "xaxis": {
            "backgroundcolor": "#E5ECF6",
            "gridcolor": "white",
            "gridwidth": 2,
            "linecolor": "white",
            "showbackground": true,
            "ticks": "",
            "zerolinecolor": "white"
           },
           "yaxis": {
            "backgroundcolor": "#E5ECF6",
            "gridcolor": "white",
            "gridwidth": 2,
            "linecolor": "white",
            "showbackground": true,
            "ticks": "",
            "zerolinecolor": "white"
           },
           "zaxis": {
            "backgroundcolor": "#E5ECF6",
            "gridcolor": "white",
            "gridwidth": 2,
            "linecolor": "white",
            "showbackground": true,
            "ticks": "",
            "zerolinecolor": "white"
           }
          },
          "shapedefaults": {
           "line": {
            "color": "#2a3f5f"
           }
          },
          "ternary": {
           "aaxis": {
            "gridcolor": "white",
            "linecolor": "white",
            "ticks": ""
           },
           "baxis": {
            "gridcolor": "white",
            "linecolor": "white",
            "ticks": ""
           },
           "bgcolor": "#E5ECF6",
           "caxis": {
            "gridcolor": "white",
            "linecolor": "white",
            "ticks": ""
           }
          },
          "title": {
           "x": 0.05
          },
          "xaxis": {
           "automargin": true,
           "gridcolor": "white",
           "linecolor": "white",
           "ticks": "",
           "title": {
            "standoff": 15
           },
           "zerolinecolor": "white",
           "zerolinewidth": 2
          },
          "yaxis": {
           "automargin": true,
           "gridcolor": "white",
           "linecolor": "white",
           "ticks": "",
           "title": {
            "standoff": 15
           },
           "zerolinecolor": "white",
           "zerolinewidth": 2
          }
         }
        },
        "xaxis": {
         "anchor": "y",
         "domain": [
          0,
          1
         ],
         "title": {
          "text": "date"
         }
        },
        "yaxis": {
         "anchor": "x",
         "domain": [
          0,
          1
         ],
         "title": {
          "text": "value"
         }
        }
       }
      },
      "image/png": "[encoded data removed]",
      "text/html": [
       "<div>                            <div id=\"5b021b6f-2a8b-4526-84cd-012e2753701e\" class=\"plotly-graph-div\" style=\"height:525px; width:100%;\"></div>            <script type=\"text/javascript\">                require([\"plotly\"], function(Plotly) {                    window.PLOTLYENV=window.PLOTLYENV || {};                                    if (document.getElementById(\"5b021b6f-2a8b-4526-84cd-012e2753701e\")) {                    Plotly.newPlot(                        \"5b021b6f-2a8b-4526-84cd-012e2753701e\",                        [{\"hovertemplate\":\"variable=Mortality rate, under-5 (per 1,000 live births)\\u003cbr\\u003edate=%{x}\\u003cbr\\u003evalue=%{y}\\u003cextra\\u003e\\u003c\\u002fextra\\u003e\",\"legendgroup\":\"Mortality rate, under-5 (per 1,000 live births)\",\"line\":{\"color\":\"#636efa\",\"dash\":\"solid\"},\"marker\":{\"symbol\":\"circle\"},\"mode\":\"lines\",\"name\":\"Mortality rate, under-5 (per 1,000 live births)\",\"orientation\":\"v\",\"showlegend\":true,\"x\":[\"2023-01-01T00:00:00\",\"2022-01-01T00:00:00\",\"2021-01-01T00:00:00\",\"2020-01-01T00:00:00\",\"2019-01-01T00:00:00\",\"2018-01-01T00:00:00\",\"2017-01-01T00:00:00\",\"2016-01-01T00:00:00\",\"2015-01-01T00:00:00\",\"2014-01-01T00:00:00\",\"2013-01-01T00:00:00\",\"2012-01-01T00:00:00\",\"2011-01-01T00:00:00\",\"2010-01-01T00:00:00\",\"2009-01-01T00:00:00\",\"2008-01-01T00:00:00\",\"2007-01-01T00:00:00\",\"2006-01-01T00:00:00\",\"2005-01-01T00:00:00\",\"2004-01-01T00:00:00\",\"2003-01-01T00:00:00\",\"2002-01-01T00:00:00\",\"2001-01-01T00:00:00\",\"2000-01-01T00:00:00\",\"1999-01-01T00:00:00\",\"1998-01-01T00:00:00\",\"1997-01-01T00:00:00\",\"1996-01-01T00:00:00\",\"1995-01-01T00:00:00\",\"1994-01-01T00:00:00\",\"1993-01-01T00:00:00\",\"1992-01-01T00:00:00\",\"1991-01-01T00:00:00\",\"1990-01-01T00:00:00\",\"1989-01-01T00:00:00\",\"1988-01-01T00:00:00\",\"1987-01-01T00:00:00\",\"1986-01-01T00:00:00\",\"1985-01-01T00:00:00\",\"1984-01-01T00:00:00\",\"1983-01-01T00:00:00\",\"1982-01-01T00:00:00\",\"1981-01-01T00:00:00\",\"1980-01-01T00:00:00\",\"1979-01-01T00:00:00\",\"1978-01-01T00:00:00\",\"1977-01-01T00:00:00\",\"1976-01-01T00:00:00\",\"1975-01-01T00:00:00\",\"1974-01-01T00:00:00\",\"1973-01-01T00:00:00\",\"1972-01-01T00:00:00\",\"1971-01-01T00:00:00\",\"1970-01-01T00:00:00\",\"1969-01-01T00:00:00\",\"1968-01-01T00:00:00\",\"1967-01-01T00:00:00\",\"1966-01-01T00:00:00\",\"1965-01-01T00:00:00\",\"1964-01-01T00:00:00\",\"1963-01-01T00:00:00\",\"1962-01-01T00:00:00\",\"1961-01-01T00:00:00\",\"1960-01-01T00:00:00\"],\"xaxis\":\"x\",\"y\":[null,29.1,30.6,32.4,34.3,36.4,38.7,41.1,43.6,46.3,49.1,52.0,55.0,58.1,61.3,64.5,67.8,71.1,74.4,77.7,81.1,84.5,88.1,91.7,95.3,98.9,102.5,106.0,109.5,112.8,116.1,119.5,122.9,126.5,130.2,134.1,138.2,142.2,146.2,150.3,154.5,159.1,163.9,169.1,174.6,180.1,185.7,191.0,195.9,200.4,204.5,208.1,211.4,214.5,217.3,219.8,222.3,224.8,227.3,229.8,232.6,235.4,238.4,241.7],\"yaxis\":\"y\",\"type\":\"scatter\"},{\"hovertemplate\":\"variable=Mortality rate, infant (per 1,000 live births)\\u003cbr\\u003edate=%{x}\\u003cbr\\u003evalue=%{y}\\u003cextra\\u003e\\u003c\\u002fextra\\u003e\",\"legendgroup\":\"Mortality rate, infant (per 1,000 live births)\",\"line\":{\"color\":\"#EF553B\",\"dash\":\"solid\"},\"marker\":{\"symbol\":\"circle\"},\"mode\":\"lines\",\"name\":\"Mortality rate, infant (per 1,000 live births)\",\"orientation\":\"v\",\"showlegend\":true,\"x\":[\"2023-01-01T00:00:00\",\"2022-01-01T00:00:00\",\"2021-01-01T00:00:00\",\"2020-01-01T00:00:00\",\"2019-01-01T00:00:00\",\"2018-01-01T00:00:00\",\"2017-01-01T00:00:00\",\"2016-01-01T00:00:00\",\"2015-01-01T00:00:00\",\"2014-01-01T00:00:00\",\"2013-01-01T00:00:00\",\"2012-01-01T00:00:00\",\"2011-01-01T00:00:00\",\"2010-01-01T00:00:00\",\"2009-01-01T00:00:00\",\"2008-01-01T00:00:00\",\"2007-01-01T00:00:00\",\"2006-01-01T00:00:00\",\"2005-01-01T00:00:00\",\"2004-01-01T00:00:00\",\"2003-01-01T00:00:00\",\"2002-01-01T00:00:00\",\"2001-01-01T00:00:00\",\"2000-01-01T00:00:00\",\"1999-01-01T00:00:00\",\"1998-01-01T00:00:00\",\"1997-01-01T00:00:00\",\"1996-01-01T00:00:00\",\"1995-01-01T00:00:00\",\"1994-01-01T00:00:00\",\"1993-01-01T00:00:00\",\"1992-01-01T00:00:00\",\"1991-01-01T00:00:00\",\"1990-01-01T00:00:00\",\"1989-01-01T00:00:00\",\"1988-01-01T00:00:00\",\"1987-01-01T00:00:00\",\"1986-01-01T00:00:00\",\"1985-01-01T00:00:00\",\"1984-01-01T00:00:00\",\"1983-01-01T00:00:00\",\"1982-01-01T00:00:00\",\"1981-01-01T00:00:00\",\"1980-01-01T00:00:00\",\"1979-01-01T00:00:00\",\"1978-01-01T00:00:00\",\"1977-01-01T00:00:00\",\"1976-01-01T00:00:00\",\"1975-01-01T00:00:00\",\"1974-01-01T00:00:00\",\"1973-01-01T00:00:00\",\"1972-01-01T00:00:00\",\"1971-01-01T00:00:00\",\"1970-01-01T00:00:00\",\"1969-01-01T00:00:00\",\"1968-01-01T00:00:00\",\"1967-01-01T00:00:00\",\"1966-01-01T00:00:00\",\"1965-01-01T00:00:00\",\"1964-01-01T00:00:00\",\"1963-01-01T00:00:00\",\"1962-01-01T00:00:00\",\"1961-01-01T00:00:00\",\"1960-01-01T00:00:00\"],\"xaxis\":\"x\",\"y\":[null,25.5,26.8,28.1,29.7,31.3,32.9,34.7,36.5,38.5,40.5,42.5,44.6,46.7,48.7,50.8,52.8,54.8,56.8,58.7,60.6,62.6,64.5,66.4,68.4,70.3,72.1,73.9,75.7,77.4,79.0,80.7,82.5,84.4,86.4,88.6,90.9,93.2,95.5,97.8,100.2,102.9,105.7,108.9,112.2,115.7,119.2,122.6,125.8,128.7,131.4,133.8,136.0,138.0,139.9,141.6,143.3,null,null,null,null,null,null,null],\"yaxis\":\"y\",\"type\":\"scatter\"},{\"hovertemplate\":\"variable=Birth rate, crude (per 1,000 people)\\u003cbr\\u003edate=%{x}\\u003cbr\\u003evalue=%{y}\\u003cextra\\u003e\\u003c\\u002fextra\\u003e\",\"legendgroup\":\"Birth rate, crude (per 1,000 people)\",\"line\":{\"color\":\"#00cc96\",\"dash\":\"solid\"},\"marker\":{\"symbol\":\"circle\"},\"mode\":\"lines\",\"name\":\"Birth rate, crude (per 1,000 people)\",\"orientation\":\"v\",\"showlegend\":true,\"x\":[\"2023-01-01T00:00:00\",\"2022-01-01T00:00:00\",\"2021-01-01T00:00:00\",\"2020-01-01T00:00:00\",\"2019-01-01T00:00:00\",\"2018-01-01T00:00:00\",\"2017-01-01T00:00:00\",\"2016-01-01T00:00:00\",\"2015-01-01T00:00:00\",\"2014-01-01T00:00:00\",\"2013-01-01T00:00:00\",\"2012-01-01T00:00:00\",\"2011-01-01T00:00:00\",\"2010-01-01T00:00:00\",\"2009-01-01T00:00:00\",\"2008-01-01T00:00:00\",\"2007-01-01T00:00:00\",\"2006-01-01T00:00:00\",\"2005-01-01T00:00:00\",\"2004-01-01T00:00:00\",\"2003-01-01T00:00:00\",\"2002-01-01T00:00:00\",\"2001-01-01T00:00:00\",\"2000-01-01T00:00:00\",\"1999-01-01T00:00:00\",\"1998-01-01T00:00:00\",\"1997-01-01T00:00:00\",\"1996-01-01T00:00:00\",\"1995-01-01T00:00:00\",\"1994-01-01T00:00:00\",\"1993-01-01T00:00:00\",\"1992-01-01T00:00:00\",\"1991-01-01T00:00:00\",\"1990-01-01T00:00:00\",\"1989-01-01T00:00:00\",\"1988-01-01T00:00:00\",\"1987-01-01T00:00:00\",\"1986-01-01T00:00:00\",\"1985-01-01T00:00:00\",\"1984-01-01T00:00:00\",\"1983-01-01T00:00:00\",\"1982-01-01T00:00:00\",\"1981-01-01T00:00:00\",\"1980-01-01T00:00:00\",\"1979-01-01T00:00:00\",\"1978-01-01T00:00:00\",\"1977-01-01T00:00:00\",\"1976-01-01T00:00:00\",\"1975-01-01T00:00:00\",\"1974-01-01T00:00:00\",\"1973-01-01T00:00:00\",\"1972-01-01T00:00:00\",\"1971-01-01T00:00:00\",\"1970-01-01T00:00:00\",\"1969-01-01T00:00:00\",\"1968-01-01T00:00:00\",\"1967-01-01T00:00:00\",\"1966-01-01T00:00:00\",\"1965-01-01T00:00:00\",\"1964-01-01T00:00:00\",\"1963-01-01T00:00:00\",\"1962-01-01T00:00:00\",\"1961-01-01T00:00:00\",\"1960-01-01T00:00:00\"],\"xaxis\":\"x\",\"y\":[null,16.267,16.419,16.572,17.049,17.651,17.911,18.514,18.765,19.049,19.935,20.421,20.945,21.438,21.934,22.276,22.713,23.22,23.94,24.728,25.375,26.082,26.728,27.001,27.26,27.784,28.274,28.786,29.361,29.841,30.285,30.914,31.423,31.816,32.549,33.166,33.681,34.483,34.602,35.094,35.3,35.605,36.024,36.214,36.252,36.383,36.89,37.665,37.937,38.629,38.962,39.173,39.43,39.533,39.792,40.207,40.592,40.918,41.346,41.721,41.907,42.101,42.294,42.506],\"yaxis\":\"y\",\"type\":\"scatter\"},{\"hovertemplate\":\"variable=Death rate, crude (per 1,000 people)\\u003cbr\\u003edate=%{x}\\u003cbr\\u003evalue=%{y}\\u003cextra\\u003e\\u003c\\u002fextra\\u003e\",\"legendgroup\":\"Death rate, crude (per 1,000 people)\",\"line\":{\"color\":\"#ab63fa\",\"dash\":\"solid\"},\"marker\":{\"symbol\":\"circle\"},\"mode\":\"lines\",\"name\":\"Death rate, crude (per 1,000 people)\",\"orientation\":\"v\",\"showlegend\":true,\"x\":[\"2023-01-01T00:00:00\",\"2022-01-01T00:00:00\",\"2021-01-01T00:00:00\",\"2020-01-01T00:00:00\",\"2019-01-01T00:00:00\",\"2018-01-01T00:00:00\",\"2017-01-01T00:00:00\",\"2016-01-01T00:00:00\",\"2015-01-01T00:00:00\",\"2014-01-01T00:00:00\",\"2013-01-01T00:00:00\",\"2012-01-01T00:00:00\",\"2011-01-01T00:00:00\",\"2010-01-01T00:00:00\",\"2009-01-01T00:00:00\",\"2008-01-01T00:00:00\",\"2007-01-01T00:00:00\",\"2006-01-01T00:00:00\",\"2005-01-01T00:00:00\",\"2004-01-01T00:00:00\",\"2003-01-01T00:00:00\",\"2002-01-01T00:00:00\",\"2001-01-01T00:00:00\",\"2000-01-01T00:00:00\",\"1999-01-01T00:00:00\",\"1998-01-01T00:00:00\",\"1997-01-01T00:00:00\",\"1996-01-01T00:00:00\",\"1995-01-01T00:00:00\",\"1994-01-01T00:00:00\",\"1993-01-01T00:00:00\",\"1992-01-01T00:00:00\",\"1991-01-01T00:00:00\",\"1990-01-01T00:00:00\",\"1989-01-01T00:00:00\",\"1988-01-01T00:00:00\",\"1987-01-01T00:00:00\",\"1986-01-01T00:00:00\",\"1985-01-01T00:00:00\",\"1984-01-01T00:00:00\",\"1983-01-01T00:00:00\",\"1982-01-01T00:00:00\",\"1981-01-01T00:00:00\",\"1980-01-01T00:00:00\",\"1979-01-01T00:00:00\",\"1978-01-01T00:00:00\",\"1977-01-01T00:00:00\",\"1976-01-01T00:00:00\",\"1975-01-01T00:00:00\",\"1974-01-01T00:00:00\",\"1973-01-01T00:00:00\",\"1972-01-01T00:00:00\",\"1971-01-01T00:00:00\",\"1970-01-01T00:00:00\",\"1969-01-01T00:00:00\",\"1968-01-01T00:00:00\",\"1967-01-01T00:00:00\",\"1966-01-01T00:00:00\",\"1965-01-01T00:00:00\",\"1964-01-01T00:00:00\",\"1963-01-01T00:00:00\",\"1962-01-01T00:00:00\",\"1961-01-01T00:00:00\",\"1960-01-01T00:00:00\"],\"xaxis\":\"x\",\"y\":[null,9.074,9.448,7.35,6.71,6.644,6.593,6.603,6.67,6.79,6.96,7.118,7.267,7.385,7.479,7.558,7.642,7.743,7.876,8.04,8.188,8.363,8.558,8.701,8.875,9.05,9.229,9.419,9.612,9.807,10.021,10.23,10.455,10.691,10.956,11.236,11.522,11.82,12.102,12.412,12.72,13.044,13.37,13.676,13.965,14.288,14.662,15.009,15.381,15.786,16.27,16.643,16.938,17.228,17.51,17.778,19.082,19.342,19.642,18.761,18.964,19.205,19.446,19.633],\"yaxis\":\"y\",\"type\":\"scatter\"}],                        {\"template\":{\"data\":{\"histogram2dcontour\":[{\"type\":\"histogram2dcontour\",\"colorbar\":{\"outlinewidth\":0,\"ticks\":\"\"},\"colorscale\":[[0.0,\"#0d0887\"],[0.1111111111111111,\"#46039f\"],[0.2222222222222222,\"#7201a8\"],[0.3333333333333333,\"#9c179e\"],[0.4444444444444444,\"#bd3786\"],[0.5555555555555556,\"#d8576b\"],[0.6666666666666666,\"#ed7953\"],[0.7777777777777778,\"#fb9f3a\"],[0.8888888888888888,\"#fdca26\"],[1.0,\"#f0f921\"]]}],\"choropleth\":[{\"type\":\"choropleth\",\"colorbar\":{\"outlinewidth\":0,\"ticks\":\"\"}}],\"histogram2d\":[{\"type\":\"histogram2d\",\"colorbar\":{\"outlinewidth\":0,\"ticks\":\"\"},\"colorscale\":[[0.0,\"#0d0887\"],[0.1111111111111111,\"#46039f\"],[0.2222222222222222,\"#7201a8\"],[0.3333333333333333,\"#9c179e\"],[0.4444444444444444,\"#bd3786\"],[0.5555555555555556,\"#d8576b\"],[0.6666666666666666,\"#ed7953\"],[0.7777777777777778,\"#fb9f3a\"],[0.8888888888888888,\"#fdca26\"],[1.0,\"#f0f921\"]]}],\"heatmap\":[{\"type\":\"heatmap\",\"colorbar\":{\"outlinewidth\":0,\"ticks\":\"\"},\"colorscale\":[[0.0,\"#0d0887\"],[0.1111111111111111,\"#46039f\"],[0.2222222222222222,\"#7201a8\"],[0.3333333333333333,\"#9c179e\"],[0.4444444444444444,\"#bd3786\"],[0.5555555555555556,\"#d8576b\"],[0.6666666666666666,\"#ed7953\"],[0.7777777777777778,\"#fb9f3a\"],[0.8888888888888888,\"#fdca26\"],[1.0,\"#f0f921\"]]}],\"heatmapgl\":[{\"type\":\"heatmapgl\",\"colorbar\":{\"outlinewidth\":0,\"ticks\":\"\"},\"colorscale\":[[0.0,\"#0d0887\"],[0.1111111111111111,\"#46039f\"],[0.2222222222222222,\"#7201a8\"],[0.3333333333333333,\"#9c179e\"],[0.4444444444444444,\"#bd3786\"],[0.5555555555555556,\"#d8576b\"],[0.6666666666666666,\"#ed7953\"],[0.7777777777777778,\"#fb9f3a\"],[0.8888888888888888,\"#fdca26\"],[1.0,\"#f0f921\"]]}],\"contourcarpet\":[{\"type\":\"contourcarpet\",\"colorbar\":{\"outlinewidth\":0,\"ticks\":\"\"}}],\"contour\":[{\"type\":\"contour\",\"colorbar\":{\"outlinewidth\":0,\"ticks\":\"\"},\"colorscale\":[[0.0,\"#0d0887\"],[0.1111111111111111,\"#46039f\"],[0.2222222222222222,\"#7201a8\"],[0.3333333333333333,\"#9c179e\"],[0.4444444444444444,\"#bd3786\"],[0.5555555555555556,\"#d8576b\"],[0.6666666666666666,\"#ed7953\"],[0.7777777777777778,\"#fb9f3a\"],[0.8888888888888888,\"#fdca26\"],[1.0,\"#f0f921\"]]}],\"surface\":[{\"type\":\"surface\",\"colorbar\":{\"outlinewidth\":0,\"ticks\":\"\"},\"colorscale\":[[0.0,\"#0d0887\"],[0.1111111111111111,\"#46039f\"],[0.2222222222222222,\"#7201a8\"],[0.3333333333333333,\"#9c179e\"],[0.4444444444444444,\"#bd3786\"],[0.5555555555555556,\"#d8576b\"],[0.6666666666666666,\"#ed7953\"],[0.7777777777777778,\"#fb9f3a\"],[0.8888888888888888,\"#fdca26\"],[1.0,\"#f0f921\"]]}],\"mesh3d\":[{\"type\":\"mesh3d\",\"colorbar\":{\"outlinewidth\":0,\"ticks\":\"\"}}],\"scatter\":[{\"fillpattern\":{\"fillmode\":\"overlay\",\"size\":10,\"solidity\":0.2},\"type\":\"scatter\"}],\"parcoords\":[{\"type\":\"parcoords\",\"line\":{\"colorbar\":{\"outlinewidth\":0,\"ticks\":\"\"}}}],\"scatterpolargl\":[{\"type\":\"scatterpolargl\",\"marker\":{\"colorbar\":{\"outlinewidth\":0,\"ticks\":\"\"}}}],\"bar\":[{\"error_x\":{\"color\":\"#2a3f5f\"},\"error_y\":{\"color\":\"#2a3f5f\"},\"marker\":{\"line\":{\"color\":\"#E5ECF6\",\"width\":0.5},\"pattern\":{\"fillmode\":\"overlay\",\"size\":10,\"solidity\":0.2}},\"type\":\"bar\"}],\"scattergeo\":[{\"type\":\"scattergeo\",\"marker\":{\"colorbar\":{\"outlinewidth\":0,\"ticks\":\"\"}}}],\"scatterpolar\":[{\"type\":\"scatterpolar\",\"marker\":{\"colorbar\":{\"outlinewidth\":0,\"ticks\":\"\"}}}],\"histogram\":[{\"marker\":{\"pattern\":{\"fillmode\":\"overlay\",\"size\":10,\"solidity\":0.2}},\"type\":\"histogram\"}],\"scattergl\":[{\"type\":\"scattergl\",\"marker\":{\"colorbar\":{\"outlinewidth\":0,\"ticks\":\"\"}}}],\"scatter3d\":[{\"type\":\"scatter3d\",\"line\":{\"colorbar\":{\"outlinewidth\":0,\"ticks\":\"\"}},\"marker\":{\"colorbar\":{\"outlinewidth\":0,\"ticks\":\"\"}}}],\"scattermapbox\":[{\"type\":\"scattermapbox\",\"marker\":{\"colorbar\":{\"outlinewidth\":0,\"ticks\":\"\"}}}],\"scatterternary\":[{\"type\":\"scatterternary\",\"marker\":{\"colorbar\":{\"outlinewidth\":0,\"ticks\":\"\"}}}],\"scattercarpet\":[{\"type\":\"scattercarpet\",\"marker\":{\"colorbar\":{\"outlinewidth\":0,\"ticks\":\"\"}}}],\"carpet\":[{\"aaxis\":{\"endlinecolor\":\"#2a3f5f\",\"gridcolor\":\"white\",\"linecolor\":\"white\",\"minorgridcolor\":\"white\",\"startlinecolor\":\"#2a3f5f\"},\"baxis\":{\"endlinecolor\":\"#2a3f5f\",\"gridcolor\":\"white\",\"linecolor\":\"white\",\"minorgridcolor\":\"white\",\"startlinecolor\":\"#2a3f5f\"},\"type\":\"carpet\"}],\"table\":[{\"cells\":{\"fill\":{\"color\":\"#EBF0F8\"},\"line\":{\"color\":\"white\"}},\"header\":{\"fill\":{\"color\":\"#C8D4E3\"},\"line\":{\"color\":\"white\"}},\"type\":\"table\"}],\"barpolar\":[{\"marker\":{\"line\":{\"color\":\"#E5ECF6\",\"width\":0.5},\"pattern\":{\"fillmode\":\"overlay\",\"size\":10,\"solidity\":0.2}},\"type\":\"barpolar\"}],\"pie\":[{\"automargin\":true,\"type\":\"pie\"}]},\"layout\":{\"autotypenumbers\":\"strict\",\"colorway\":[\"#636efa\",\"#EF553B\",\"#00cc96\",\"#ab63fa\",\"#FFA15A\",\"#19d3f3\",\"#FF6692\",\"#B6E880\",\"#FF97FF\",\"#FECB52\"],\"font\":{\"color\":\"#2a3f5f\"},\"hovermode\":\"closest\",\"hoverlabel\":{\"align\":\"left\"},\"paper_bgcolor\":\"white\",\"plot_bgcolor\":\"#E5ECF6\",\"polar\":{\"bgcolor\":\"#E5ECF6\",\"angularaxis\":{\"gridcolor\":\"white\",\"linecolor\":\"white\",\"ticks\":\"\"},\"radialaxis\":{\"gridcolor\":\"white\",\"linecolor\":\"white\",\"ticks\":\"\"}},\"ternary\":{\"bgcolor\":\"#E5ECF6\",\"aaxis\":{\"gridcolor\":\"white\",\"linecolor\":\"white\",\"ticks\":\"\"},\"baxis\":{\"gridcolor\":\"white\",\"linecolor\":\"white\",\"ticks\":\"\"},\"caxis\":{\"gridcolor\":\"white\",\"linecolor\":\"white\",\"ticks\":\"\"}},\"coloraxis\":{\"colorbar\":{\"outlinewidth\":0,\"ticks\":\"\"}},\"colorscale\":{\"sequential\":[[0.0,\"#0d0887\"],[0.1111111111111111,\"#46039f\"],[0.2222222222222222,\"#7201a8\"],[0.3333333333333333,\"#9c179e\"],[0.4444444444444444,\"#bd3786\"],[0.5555555555555556,\"#d8576b\"],[0.6666666666666666,\"#ed7953\"],[0.7777777777777778,\"#fb9f3a\"],[0.8888888888888888,\"#fdca26\"],[1.0,\"#f0f921\"]],\"sequentialminus\":[[0.0,\"#0d0887\"],[0.1111111111111111,\"#46039f\"],[0.2222222222222222,\"#7201a8\"],[0.3333333333333333,\"#9c179e\"],[0.4444444444444444,\"#bd3786\"],[0.5555555555555556,\"#d8576b\"],[0.6666666666666666,\"#ed7953\"],[0.7777777777777778,\"#fb9f3a\"],[0.8888888888888888,\"#fdca26\"],[1.0,\"#f0f921\"]],\"diverging\":[[0,\"#8e0152\"],[0.1,\"#c51b7d\"],[0.2,\"#de77ae\"],[0.3,\"#f1b6da\"],[0.4,\"#fde0ef\"],[0.5,\"#f7f7f7\"],[0.6,\"#e6f5d0\"],[0.7,\"#b8e186\"],[0.8,\"#7fbc41\"],[0.9,\"#4d9221\"],[1,\"#276419\"]]},\"xaxis\":{\"gridcolor\":\"white\",\"linecolor\":\"white\",\"ticks\":\"\",\"title\":{\"standoff\":15},\"zerolinecolor\":\"white\",\"automargin\":true,\"zerolinewidth\":2},\"yaxis\":{\"gridcolor\":\"white\",\"linecolor\":\"white\",\"ticks\":\"\",\"title\":{\"standoff\":15},\"zerolinecolor\":\"white\",\"automargin\":true,\"zerolinewidth\":2},\"scene\":{\"xaxis\":{\"backgroundcolor\":\"#E5ECF6\",\"gridcolor\":\"white\",\"linecolor\":\"white\",\"showbackground\":true,\"ticks\":\"\",\"zerolinecolor\":\"white\",\"gridwidth\":2},\"yaxis\":{\"backgroundcolor\":\"#E5ECF6\",\"gridcolor\":\"white\",\"linecolor\":\"white\",\"showbackground\":true,\"ticks\":\"\",\"zerolinecolor\":\"white\",\"gridwidth\":2},\"zaxis\":{\"backgroundcolor\":\"#E5ECF6\",\"gridcolor\":\"white\",\"linecolor\":\"white\",\"showbackground\":true,\"ticks\":\"\",\"zerolinecolor\":\"white\",\"gridwidth\":2}},\"shapedefaults\":{\"line\":{\"color\":\"#2a3f5f\"}},\"annotationdefaults\":{\"arrowcolor\":\"#2a3f5f\",\"arrowhead\":0,\"arrowwidth\":1},\"geo\":{\"bgcolor\":\"white\",\"landcolor\":\"#E5ECF6\",\"subunitcolor\":\"white\",\"showland\":true,\"showlakes\":true,\"lakecolor\":\"white\"},\"title\":{\"x\":0.05},\"mapbox\":{\"style\":\"light\"}}},\"xaxis\":{\"anchor\":\"y\",\"domain\":[0.0,1.0],\"title\":{\"text\":\"date\"}},\"yaxis\":{\"anchor\":\"x\",\"domain\":[0.0,1.0],\"title\":{\"text\":\"value\"}},\"legend\":{\"title\":{\"text\":\"variable\"},\"tracegroupgap\":0},\"margin\":{\"t\":60}},                        {\"responsive\": true}                    ).then(function(){\n",
       "                            \n",
       "var gd = document.getElementById('5b021b6f-2a8b-4526-84cd-012e2753701e');\n",
       "var x = new MutationObserver(function (mutations, observer) {{\n",
       "        var display = window.getComputedStyle(gd).display;\n",
       "        if (!display || display === 'none') {{\n",
       "            console.log([gd, 'removed!']);\n",
       "            Plotly.purge(gd);\n",
       "            observer.disconnect();\n",
       "        }}\n",
       "}});\n",
       "\n",
       "// Listen for the removal of the full notebook cells\n",
       "var notebookContainer = gd.closest('#notebook-container');\n",
       "if (notebookContainer) {{\n",
       "    x.observe(notebookContainer, {childList: true});\n",
       "}}\n",
       "\n",
       "// Listen for the clearing of the current output cell\n",
       "var outputEl = gd.closest('.output');\n",
       "if (outputEl) {{\n",
       "    x.observe(outputEl, {childList: true});\n",
       "}}\n",
       "\n",
       "                        })                };                });            </script>        </div>"
      ]
     },
     "metadata": {},
     "output_type": "display_data"
    }
   ],
   "source": [
    "SOURCE = 16\n",
    "\n",
    "indicators = wbdata.get_indicators(source=SOURCE)\n",
    "indicators\n",
    "\n",
    "variable_labels = {\"SH.DYN.MORT\":'Mortality rate, under-5 (per 1,000 live births)',\n",
    "#\"SP.POP.TOTL\":\"India Population\",  \n",
    "'SP.DYN.IMRT.IN': 'Mortality rate, infant (per 1,000 live births)',\n",
    "#'SP.DYN.LE00.IN': 'Life expectancy at birth, total (years)',\n",
    "#'SP.DYN.TFRT.IN': 'Fertility rate, total (births per woman)',\n",
    "'SP.DYN.CBRT.IN':'Birth rate, crude (per 1,000 people)',\n",
    "'SP.DYN.CDRT.IN':'Death rate, crude (per 1,000 people)'}\n",
    "#SP.POP.GROW           Population growth (annual %)\n",
    "india_rate = wbdata.get_dataframe(variable_labels, country=\"IND\",parse_dates=True)\n",
    "\n",
    "# display a few years' data\n",
    "#india_rate.head()\n",
    "india_rate.plot(kind='line')"
   ]
  },
  {
   "cell_type": "code",
   "execution_count": 154,
   "id": "480b8fb1-63f1-4dbb-bb67-82391f326ac5",
   "metadata": {},
   "outputs": [
    {
     "data": {
      "text/plain": [
       "id               name\n",
       "---------------  --------------------------------------------------------------------------------------------\n",
       "CoCA             Cost of an energy sufficient diet\n",
       "CoCA_fexp        Affordability of an energy sufficient diet: ratio of cost to food expenditures\n",
       "CoCA_headcount   Percent of the population who cannot afford sufficient calories\n",
       "CoCA_pov         Affordability of an energy sufficient diet: ratio of cost to the food poverty line\n",
       "CoCA_unafford_n  Millions of people who cannot afford sufficient calories\n",
       "CoHD             Cost of a healthy diet\n",
       "CoHD_asf         Cost of animal-source foods\n",
       "CoHD_asf_prop    Cost share for animal-sourced foods in a least-cost healthy diet\n",
       "CoHD_asf_ss      Cost of animal-sourced foods relative to the starchy staples in a least-cost healthy diet\n",
       "CoHD_CoCA        Cost of a healthy diet relative to the cost of sufficient energy from starchy staples\n",
       "CoHD_f           Cost of fruits\n",
       "CoHD_f_prop      Cost share for fruits in a least-cost healthy diet\n",
       "CoHD_f_ss        Cost of fruits relative to the starchy staples in a least-cost healthy diet\n",
       "CoHD_fexp        Affordability of a healthy diet: ratio of cost to food expenditures\n",
       "CoHD_headcount   Percent of the population who cannot afford a healthy diet\n",
       "CoHD_lns         Cost of legumes, nuts and seeds\n",
       "CoHD_lns_prop    Cost share for legumes, nuts and seeds in a least-cost healthy diet\n",
       "CoHD_lns_ss      Cost of legumes, nuts and seeds relative to the starchy staples in a least-cost healthy diet\n",
       "CoHD_of          Cost of oils and fats\n",
       "CoHD_of_prop     Cost share for oils and fats in a least-cost healthy diet\n",
       "CoHD_of_ss       Cost of oils and fats relative to the starchy staples in a least-cost healthy diet\n",
       "CoHD_pov         Affordability of a healthy diet: ratio of cost to the food poverty line\n",
       "CoHD_ss          Cost of starchy staples\n",
       "CoHD_ss_prop     Cost share for starchy staples in a least-cost healthy diet\n",
       "CoHD_unafford_n  Millions of people who cannot afford a healthy diet\n",
       "CoHD_v           Cost of vegetables\n",
       "CoHD_v_prop      Cost share for vegetables in a least-cost healthy diet\n",
       "CoHD_v_ss        Cost of vegetables relative to the starchy staples in a least-cost healthy diet\n",
       "CoNA             Cost of a nutrient adequate diet\n",
       "CoNA_fexp        Affordability of a nutrient adequate diet: ratio of cost to food expenditures\n",
       "CoNA_headcount   Percent of the population who cannot afford nutrient adequacy\n",
       "CoNA_pov         Affordability of a nutrient adequate diet: ratio of cost to the food poverty line\n",
       "CoNA_unafford_n  Millions of people who cannot afford nutrient adequacy\n",
       "Pop              Population"
      ]
     },
     "execution_count": 154,
     "metadata": {},
     "output_type": "execute_result"
    }
   ],
   "source": [
    "SOURCE = 88\n",
    "\n",
    "indicators = wbdata.get_indicators(source=SOURCE)\n",
    "indicators\n",
    "\n",
    "#variable_labels = {\"SH.DYN.MORT\":'Mortality rate, under-5 (per 1,000 live births)',\n",
    "#\"SP.POP.TOTL\":\"India Population\",  \n",
    "#'SP.DYN.IMRT.IN': 'Mortality rate, infant (per 1,000 live births)',\n",
    "#'SP.DYN.LE00.IN': 'Life expectancy at birth, total (years)',\n",
    "#'SP.DYN.TFRT.IN': 'Fertility rate, total (births per woman)',\n",
    "#'SP.DYN.CBRT.IN':'Birth rate, crude (per 1,000 people)',\n",
    "#'SP.DYN.CDRT.IN':'Death rate, crude (per 1,000 people)'}\n",
    "#SP.POP.GROW           Population growth (annual %)\n",
    "#india_rate = wbdata.get_dataframe(variable_labels, country=\"IND\",parse_dates=True)\n",
    "\n",
    "# display a few years' data\n",
    "#india_rate.head()\n",
    "#india_rate.plot(kind='line')"
   ]
  },
  {
   "cell_type": "code",
   "execution_count": null,
   "id": "a4a4b60a-903c-43ce-8cd5-ba90a854807a",
   "metadata": {},
   "outputs": [],
   "source": []
  },
  {
   "cell_type": "code",
   "execution_count": 155,
   "id": "8554d2e4-a8d6-485e-a9e5-ae96f3251f2f",
   "metadata": {},
   "outputs": [],
   "source": [
    "# DATA EXPLORATION FOR () [NAME]:"
   ]
  },
  {
   "cell_type": "code",
   "execution_count": null,
   "id": "50339f0a-d43c-4e59-b7a5-dea507592270",
   "metadata": {},
   "outputs": [],
   "source": []
  },
  {
   "cell_type": "code",
   "execution_count": null,
   "id": "44df73a1-9a4f-4f2f-b540-e06133a8a2c8",
   "metadata": {},
   "outputs": [],
   "source": []
  }
 ],
 "metadata": {
  "kernelspec": {
   "display_name": "Python 3 (ipykernel)",
   "language": "python",
   "name": "python3"
  },
  "language_info": {
   "codemirror_mode": {
    "name": "ipython",
    "version": 3
   },
   "file_extension": ".py",
   "mimetype": "text/x-python",
   "name": "python",
   "nbconvert_exporter": "python",
   "pygments_lexer": "ipython3",
   "version": "3.11.11"
  }
 },
 "nbformat": 4,
 "nbformat_minor": 5
}
