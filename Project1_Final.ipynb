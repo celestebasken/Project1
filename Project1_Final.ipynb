{
 "cells": [
  {
   "cell_type": "markdown",
   "id": "3ce6a55b-dac5-4580-8822-24408a947b70",
   "metadata": {},
   "source": [
    "# Final Project 1: Population and Agricultural Production Changes In Countries in Response to [Operation Condor]"
   ]
  },
  {
   "cell_type": "markdown",
   "id": "4dba8a71-f57f-4bba-8024-84bc72cf3531",
   "metadata": {},
   "source": [
    "## Team Malthus: Jocelyn  Velazquez, Reily Fairchild, Celeste Basken, and Ziheng Zhang"
   ]
  },
  {
   "cell_type": "markdown",
   "id": "64b920c7-f8bf-4288-be12-78bb97b89c10",
   "metadata": {},
   "source": [
    "# Table of Contents\n",
    "1. [Introduction](#Introduction)\n",
    "2. [Population Function, Deliverable 1A- Population Statistics](#Population-Function)\n",
    "3. [Population DataFrame Function, Deliverable 3A - Population DataFrames](#Population-Dataframe)\n",
    "4. [Regular Population Pyramids, Deliverable 4B - Population Pyramids](#Regular-Population-Pyramids)\n",
    "5. [Animated Population Pyramids](#[5]-Animated-Population-Pyramids)\n",
    "6. [Population Maps](#Population-Maps)\n",
    "7. [Agriculture Supply](#8-c-agricultural-supply)\n",
    "8. [Visualizations](#Visualizations)\n",
    "9. [Conclusion](#Conclusion)\n",
    "\n",
    "\n",
    "Unit Tests, Deliverable 2[A] - Unit Tests\n"
   ]
  },
  {
   "cell_type": "markdown",
   "id": "c255e9e7-d5a7-4d17-893a-619e3db1de69",
   "metadata": {},
   "source": [
    "Introduction: \n",
    "\n",
    "Operation Condor was a coordinated effort among South American dictatorships in the period 1960-1990, led by Chile under Augusto Pinochet, with active participation from Argentina, Bolivia, Brazil, Paraguay, and Uruguay, and later involvement by Ecuador and Peru. It aimed to suppress political dissent and eliminate opposition figures, while opening the economy to greater outside involvement from western powers like the United States. It is important to note that although there was central communication, dictatorships held power during different years in various countries, since they were not centrally installed.\n",
    "\n",
    "While most contemporary analyses of the Condor dictatorships focus on human rights and justice, there were also economic, social, and political changes inherent in the new regimes that had significant implications for development, agriculture, and population demographics. We seek to explore this using the World Bank World Development Indicators that are publicly available at [https://databank.worldbank.org/source/world-development-indicators](https://databank.worldbank.org/source/world-development-indicators). "
   ]
  },
  {
   "cell_type": "markdown",
   "id": "e5dab253-0a11-48cf-b4e0-e3bf8af2fd54",
   "metadata": {},
   "source": [
    "## Initial Imports"
   ]
  },
  {
   "cell_type": "code",
   "execution_count": 7,
   "id": "004bd82f-de83-49ba-89be-bfde9eec9560",
   "metadata": {
    "collapsed": true,
    "jupyter": {
     "outputs_hidden": true
    }
   },
   "outputs": [
    {
     "name": "stdout",
     "output_type": "stream",
     "text": [
      "Requirement already satisfied: wbdata in /srv/conda/lib/python3.11/site-packages (1.0.0)\n",
      "Requirement already satisfied: appdirs<2.0,>=1.4 in /srv/conda/lib/python3.11/site-packages (from wbdata) (1.4.4)\n",
      "Requirement already satisfied: backoff<3.0.0,>=2.2.1 in /srv/conda/lib/python3.11/site-packages (from wbdata) (2.2.1)\n",
      "Requirement already satisfied: cachetools<6.0.0,>=5.3.2 in /srv/conda/lib/python3.11/site-packages (from wbdata) (5.5.1)\n",
      "Requirement already satisfied: dateparser<2.0.0,>=1.2.0 in /srv/conda/lib/python3.11/site-packages (from wbdata) (1.2.1)\n",
      "Requirement already satisfied: decorator<6.0.0,>=5.1.1 in /srv/conda/lib/python3.11/site-packages (from wbdata) (5.1.1)\n",
      "Requirement already satisfied: requests<3.0,>=2.0 in /srv/conda/lib/python3.11/site-packages (from wbdata) (2.32.3)\n",
      "Requirement already satisfied: shelved-cache<0.4.0,>=0.3.1 in /srv/conda/lib/python3.11/site-packages (from wbdata) (0.3.1)\n",
      "Requirement already satisfied: tabulate<0.9.0,>=0.8.5 in /srv/conda/lib/python3.11/site-packages (from wbdata) (0.8.10)\n",
      "Requirement already satisfied: python-dateutil>=2.7.0 in /srv/conda/lib/python3.11/site-packages (from dateparser<2.0.0,>=1.2.0->wbdata) (2.9.0.post0)\n",
      "Requirement already satisfied: pytz>=2024.2 in /srv/conda/lib/python3.11/site-packages (from dateparser<2.0.0,>=1.2.0->wbdata) (2025.1)\n",
      "Requirement already satisfied: regex!=2019.02.19,!=2021.8.27,>=2015.06.24 in /srv/conda/lib/python3.11/site-packages (from dateparser<2.0.0,>=1.2.0->wbdata) (2024.11.6)\n",
      "Requirement already satisfied: tzlocal>=0.2 in /srv/conda/lib/python3.11/site-packages (from dateparser<2.0.0,>=1.2.0->wbdata) (5.2)\n",
      "Requirement already satisfied: charset_normalizer<4,>=2 in /srv/conda/lib/python3.11/site-packages (from requests<3.0,>=2.0->wbdata) (3.4.0)\n",
      "Requirement already satisfied: idna<4,>=2.5 in /srv/conda/lib/python3.11/site-packages (from requests<3.0,>=2.0->wbdata) (3.10)\n",
      "Requirement already satisfied: urllib3<3,>=1.21.1 in /srv/conda/lib/python3.11/site-packages (from requests<3.0,>=2.0->wbdata) (2.3.0)\n",
      "Requirement already satisfied: certifi>=2017.4.17 in /srv/conda/lib/python3.11/site-packages (from requests<3.0,>=2.0->wbdata) (2024.12.14)\n",
      "Requirement already satisfied: six>=1.5 in /srv/conda/lib/python3.11/site-packages (from python-dateutil>=2.7.0->dateparser<2.0.0,>=1.2.0->wbdata) (1.17.0)\n",
      "Note: you may need to restart the kernel to use updated packages.\n",
      "Requirement already satisfied: pandas in /srv/conda/lib/python3.11/site-packages (2.2.3)\n",
      "Requirement already satisfied: numpy>=1.23.2 in /srv/conda/lib/python3.11/site-packages (from pandas) (2.2.2)\n",
      "Requirement already satisfied: python-dateutil>=2.8.2 in /srv/conda/lib/python3.11/site-packages (from pandas) (2.9.0.post0)\n",
      "Requirement already satisfied: pytz>=2020.1 in /srv/conda/lib/python3.11/site-packages (from pandas) (2025.1)\n",
      "Requirement already satisfied: tzdata>=2022.7 in /srv/conda/lib/python3.11/site-packages (from pandas) (2025.1)\n",
      "Requirement already satisfied: six>=1.5 in /srv/conda/lib/python3.11/site-packages (from python-dateutil>=2.8.2->pandas) (1.17.0)\n",
      "Note: you may need to restart the kernel to use updated packages.\n",
      "Requirement already satisfied: iso3166 in /srv/conda/lib/python3.11/site-packages (2.1.1)\n",
      "Note: you may need to restart the kernel to use updated packages.\n",
      "Requirement already satisfied: cufflinks in /srv/conda/lib/python3.11/site-packages (0.17.3)\n",
      "Requirement already satisfied: numpy>=1.9.2 in /srv/conda/lib/python3.11/site-packages (from cufflinks) (2.2.2)\n",
      "Requirement already satisfied: pandas>=0.19.2 in /srv/conda/lib/python3.11/site-packages (from cufflinks) (2.2.3)\n",
      "Requirement already satisfied: plotly>=4.1.1 in /srv/conda/lib/python3.11/site-packages (from cufflinks) (6.0.0)\n",
      "Requirement already satisfied: six>=1.9.0 in /srv/conda/lib/python3.11/site-packages (from cufflinks) (1.17.0)\n",
      "Requirement already satisfied: colorlover>=0.2.1 in /srv/conda/lib/python3.11/site-packages (from cufflinks) (0.3.0)\n",
      "Requirement already satisfied: setuptools>=34.4.1 in /srv/conda/lib/python3.11/site-packages (from cufflinks) (75.6.0)\n",
      "Requirement already satisfied: ipython>=5.3.0 in /srv/conda/lib/python3.11/site-packages (from cufflinks) (8.32.0)\n",
      "Requirement already satisfied: ipywidgets>=7.0.0 in /srv/conda/lib/python3.11/site-packages (from cufflinks) (8.1.5)\n",
      "Requirement already satisfied: decorator in /srv/conda/lib/python3.11/site-packages (from ipython>=5.3.0->cufflinks) (5.1.1)\n",
      "Requirement already satisfied: jedi>=0.16 in /srv/conda/lib/python3.11/site-packages (from ipython>=5.3.0->cufflinks) (0.19.2)\n",
      "Requirement already satisfied: matplotlib-inline in /srv/conda/lib/python3.11/site-packages (from ipython>=5.3.0->cufflinks) (0.1.7)\n",
      "Requirement already satisfied: pexpect>4.3 in /srv/conda/lib/python3.11/site-packages (from ipython>=5.3.0->cufflinks) (4.9.0)\n",
      "Requirement already satisfied: prompt_toolkit<3.1.0,>=3.0.41 in /srv/conda/lib/python3.11/site-packages (from ipython>=5.3.0->cufflinks) (3.0.50)\n",
      "Requirement already satisfied: pygments>=2.4.0 in /srv/conda/lib/python3.11/site-packages (from ipython>=5.3.0->cufflinks) (2.19.1)\n",
      "Requirement already satisfied: stack_data in /srv/conda/lib/python3.11/site-packages (from ipython>=5.3.0->cufflinks) (0.6.3)\n",
      "Requirement already satisfied: traitlets>=5.13.0 in /srv/conda/lib/python3.11/site-packages (from ipython>=5.3.0->cufflinks) (5.14.3)\n",
      "Requirement already satisfied: typing_extensions>=4.6 in /srv/conda/lib/python3.11/site-packages (from ipython>=5.3.0->cufflinks) (4.12.2)\n",
      "Requirement already satisfied: comm>=0.1.3 in /srv/conda/lib/python3.11/site-packages (from ipywidgets>=7.0.0->cufflinks) (0.2.2)\n",
      "Requirement already satisfied: widgetsnbextension~=4.0.12 in /srv/conda/lib/python3.11/site-packages (from ipywidgets>=7.0.0->cufflinks) (4.0.13)\n",
      "Requirement already satisfied: jupyterlab_widgets~=3.0.12 in /srv/conda/lib/python3.11/site-packages (from ipywidgets>=7.0.0->cufflinks) (3.0.13)\n",
      "Requirement already satisfied: python-dateutil>=2.8.2 in /srv/conda/lib/python3.11/site-packages (from pandas>=0.19.2->cufflinks) (2.9.0.post0)\n",
      "Requirement already satisfied: pytz>=2020.1 in /srv/conda/lib/python3.11/site-packages (from pandas>=0.19.2->cufflinks) (2025.1)\n",
      "Requirement already satisfied: tzdata>=2022.7 in /srv/conda/lib/python3.11/site-packages (from pandas>=0.19.2->cufflinks) (2025.1)\n",
      "Requirement already satisfied: narwhals>=1.15.1 in /srv/conda/lib/python3.11/site-packages (from plotly>=4.1.1->cufflinks) (1.26.0)\n",
      "Requirement already satisfied: packaging in /srv/conda/lib/python3.11/site-packages (from plotly>=4.1.1->cufflinks) (24.2)\n",
      "Requirement already satisfied: parso<0.9.0,>=0.8.4 in /srv/conda/lib/python3.11/site-packages (from jedi>=0.16->ipython>=5.3.0->cufflinks) (0.8.4)\n",
      "Requirement already satisfied: ptyprocess>=0.5 in /srv/conda/lib/python3.11/site-packages (from pexpect>4.3->ipython>=5.3.0->cufflinks) (0.7.0)\n",
      "Requirement already satisfied: wcwidth in /srv/conda/lib/python3.11/site-packages (from prompt_toolkit<3.1.0,>=3.0.41->ipython>=5.3.0->cufflinks) (0.2.13)\n",
      "Requirement already satisfied: executing>=1.2.0 in /srv/conda/lib/python3.11/site-packages (from stack_data->ipython>=5.3.0->cufflinks) (2.1.0)\n",
      "Requirement already satisfied: asttokens>=2.1.0 in /srv/conda/lib/python3.11/site-packages (from stack_data->ipython>=5.3.0->cufflinks) (3.0.0)\n",
      "Requirement already satisfied: pure_eval in /srv/conda/lib/python3.11/site-packages (from stack_data->ipython>=5.3.0->cufflinks) (0.2.3)\n",
      "Note: you may need to restart the kernel to use updated packages.\n",
      "Requirement already satisfied: eep153_tools in /srv/conda/lib/python3.11/site-packages (0.12.4)\n",
      "Note: you may need to restart the kernel to use updated packages.\n",
      "Requirement already satisfied: plotly in /srv/conda/lib/python3.11/site-packages (6.0.0)\n",
      "Requirement already satisfied: narwhals>=1.15.1 in /srv/conda/lib/python3.11/site-packages (from plotly) (1.26.0)\n",
      "Requirement already satisfied: packaging in /srv/conda/lib/python3.11/site-packages (from plotly) (24.2)\n",
      "Note: you may need to restart the kernel to use updated packages.\n"
     ]
    },
    {
     "data": {
      "text/html": [
       "        <script type=\"text/javascript\">\n",
       "        window.PlotlyConfig = {MathJaxConfig: 'local'};\n",
       "        if (window.MathJax && window.MathJax.Hub && window.MathJax.Hub.Config) {window.MathJax.Hub.Config({SVG: {font: \"STIX-Web\"}});}\n",
       "        </script>\n",
       "        <script type=\"module\">import \"https://cdn.plot.ly/plotly-3.0.0.min\"</script>\n",
       "        "
      ]
     },
     "metadata": {},
     "output_type": "display_data"
    }
   ],
   "source": [
    "%pip install wbdata\n",
    "%pip install pandas\n",
    "%pip install iso3166\n",
    "%pip install cufflinks\n",
    "%pip install eep153_tools\n",
    "%pip install plotly\n",
    "\n",
    "import wbdata\n",
    "import pandas as pd\n",
    "import math\n",
    "import iso3166\n",
    "import plotly.offline as py\n",
    "from scipy.optimize import newton\n",
    "import plotly.graph_objs as go\n",
    "from plotly.subplots import make_subplots\n",
    "import numpy as np\n",
    "import cufflinks as cf\n",
    "from matplotlib import animation as ani\n",
    "cf.go_offline()"
   ]
  },
  {
   "cell_type": "markdown",
   "id": "f12d879f-ed40-4dea-adad-82a5a3aba0b7",
   "metadata": {},
   "source": [
    "## Population Function"
   ]
  },
  {
   "cell_type": "markdown",
   "id": "ef8c3096-cfa6-4af4-bc97-b092c11721d4",
   "metadata": {},
   "source": [
    "### This function returns a query response to the question: 'In [year] how many [people/males/females] aged [low] to [high] were living in [the world/region/country]?'\n",
    "\n",
    " Please note, this function was designed to be able to answer **only** the regions of countries targeted in Operation Condor, as that is the main regional focus of this project."
   ]
  },
  {
   "cell_type": "code",
   "execution_count": 81,
   "id": "6c732da3-f9d6-4bac-81e6-130c8e1bf18b",
   "metadata": {},
   "outputs": [],
   "source": [
    "\n",
    "import math\n",
    "#def population(year,sex,age_low, age_high,place):\n",
    "SOURCE = 40\n",
    "\n",
    "def age_floor_lessthan_25(age_low, age_high, labels, sex):\n",
    "    \n",
    "    for i in np.arange(age_low, age_high+1):\n",
    "            if sex == 'males':\n",
    "                #labels[f'SP.POP.AG{str(i).zfill(2)}.MA.IN'] = f'SP.POP.AG{str(i).zfill(2)}.MA.IN'\n",
    "                labels[f'SP.POP.AG{str(i).zfill(2)}.MA.IN'] = f'Males {str(i).zfill(2)}'\n",
    "            elif sex == 'females':\n",
    "                labels[f'SP.POP.AG{str(i).zfill(2)}.FE.IN'] = f'Females {str(i).zfill(2)}'\n",
    "                #labels[f'SP.POP.AG{str(i).zfill(2)}.FE.IN'] = f'SP.POP.AG{str(i).zfill(2)}.FE.IN'\n",
    "            else:\n",
    "                #labels[f'SP.POP.AG{str(i).zfill(2)}.MA.IN'] = f'SP.POP.AG{str(i).zfill(2)}.MA.IN'\n",
    "                #labels[f'SP.POP.AG{str(i).zfill(2)}.FE.IN'] = f'SP.POP.AG{str(i).zfill(2)}.FE.IN'   \n",
    "                labels[f'SP.POP.AG{str(i).zfill(2)}.FE.IN'] = f'Females {str(i).zfill(2)}'\n",
    "                labels[f'SP.POP.AG{str(i).zfill(2)}.MA.IN'] = f'Males {str(i).zfill(2)}'\n",
    "                \n",
    "def age_floor_greaterthan_25(age_low, age_high, labels, sex):\n",
    "        age_floor = math.floor(age_low /5) * 5\n",
    "        age_ceiling = math.ceil((age_high+1)/5)*5 \n",
    "        floor_str = str(age_floor).zfill(2)\n",
    "        num_ranges = int((age_ceiling - age_floor) / 5)\n",
    "        for i in np.arange(num_ranges):\n",
    "            lower_str = str(int(age_floor + 5 * i)).zfill(2)\n",
    "            higher_str = str(int(age_floor + 5 * i + 4)).zfill(2)\n",
    "\n",
    "           # lower_str = str(int(age_floor+5*i))\n",
    "           # higher_str = str(int(age_floor+5*i+4))\n",
    "           \n",
    "             #override if age is >=80\n",
    "            if lower_str >='80':\n",
    "                lower_str = \"80\"\n",
    "                higher_str = 'UP'\n",
    "            if sex == 'males':\n",
    "                labels[f'SP.POP.{lower_str}{higher_str}.MA'] = f'Males {lower_str}{higher_str}'\n",
    "            elif sex == 'females':\n",
    "                labels[f'SP.POP.{lower_str}{higher_str}.FE'] = f'Females {lower_str}{higher_str}'\n",
    "            else:\n",
    "                #labels[f'SP.POP.AG{str(i).zfill(2)}.FE.IN'] = f'SP.POP.AG{str(i).zfill(2)}.FE'\n",
    "                labels[f'SP.POP.{lower_str}{higher_str}.FE'] = f'Females {lower_str}{higher_str}'\n",
    "                labels[f'SP.POP.{lower_str}{higher_str}.MA'] = f'Males {lower_str}{higher_str}'\n",
    "\n",
    "\n",
    "#correct age range, use specific age year values if do not return null:\n",
    "def age_range(age_low, age_high, sex): \n",
    "    labels = {}\n",
    "    \n",
    "    labels_test1 = {}\n",
    "    age_floor_lessthan_25(0, 24, labels_test1, 'males')\n",
    "    assert 'SP.POP.AG00.MA.IN' in labels_test1 and 'SP.POP.AG24.MA.IN' in labels_test1, \"Failed to retrieve data for ages < 25\"\n",
    "\n",
    "    labels_test2 = {}\n",
    "    age_floor_greaterthan_25(25, 39, labels_test2, 'females')\n",
    "    assert 'SP.POP.2529.FE' in labels_test2 and 'SP.POP.3539.FE' in labels_test2, \"Failed to retrieve data for ages >= 25\"\n",
    "\n",
    "    #age range [0,25]\n",
    "    if age_high < 25:\n",
    "        age_floor_lessthan_25(age_low, age_high, labels, sex)\n",
    "    #age range [25, +]\n",
    "    elif age_low >= 25:\n",
    "        age_floor_greaterthan_25(age_low, age_high, labels, sex)\n",
    "    #age range [0, 25+]\n",
    "    else:\n",
    "        age_floor_lessthan_25(age_low, 24, labels, sex)\n",
    "        age_floor_greaterthan_25(25, age_high, labels, sex)\n",
    "        \n",
    "    return labels\n",
    "\n",
    "#correct age range, use specific age year values (0,25) do return null:\n",
    "def age_range_intv(age_low, age_high, sex):\n",
    "    labels = {}\n",
    "    \n",
    "    labels_test2 = {}\n",
    "    age_floor_greaterthan_25(25, 39, labels_test2, 'females')\n",
    "    assert 'SP.POP.2529.FE' in labels_test2 and 'SP.POP.3539.FE' in labels_test2, \"Failed to retrieve data for ages >= 25\"\n",
    "\n",
    "     \n",
    "    age_floor_greaterthan_25(age_low, age_high, labels, sex)\n",
    "   \n",
    "    return labels\n",
    "\n",
    "\n",
    "\n",
    "def get_region_df(labels, age_low, age_high, sex, place, year):\n",
    "    df = wbdata.get_dataframe(labels,country = place,parse_dates=True)\n",
    "    df = df.reset_index()\n",
    "    df2 = df[df['date'] == f'{year}-01-01'].copy()\n",
    "    display(f'df2.iloc[0, -1] before: {df2.iloc[0, -1]}')\n",
    "    #if the age high is >25 and <80 and not a multiple of 5, then take a proportional fraction of the last column\n",
    "    #example: 27, in range [25, 29] want (27%5 /5)\n",
    "    #doesn't account for ages 81, 82, 83, etc (difficult to interpolate when so little data on older ages)\n",
    "\n",
    "    #high and low age in same bin\n",
    "    if(len(labels) ==1):\n",
    "        if (25 <= age_high < 80) and ((age_high % 5 != 4) or (age_low % 5 != 0)):\n",
    "            proportion = (age_high - age_low + 1)/5\n",
    "            population_count = df2[df2.columns[1]].iloc[0]\n",
    "            df2.loc[df2.index[0], df2.columns[1]]= int(proportion*population_count)\n",
    "    #high and low ages in different bins\n",
    "    else:\n",
    "        if (25 <= age_high < 80) and (age_high % 5 != 4):\n",
    "            population_count = df2.iloc[0, -1]\n",
    "            proportion = (age_high%5+1) / 5\n",
    "            df2.loc[df2.index[0], df2.columns[-1]] = int(proportion*population_count)\n",
    "   \n",
    "       \n",
    "        if (25 <= age_low < 80) and (age_low % 5 != 0):\n",
    "            population_count_low = df2[df2.columns[1]].iloc[0]\n",
    "            proportion = (age_low%5+1) / 5\n",
    "            df2.loc[df2.index[0], df2.columns[1]]= int(proportion*population_count_low)\n",
    "           \n",
    "        \n",
    "    return df2\n",
    "\n",
    "\n",
    "#df = get_df(labels, sex, place, year)\n",
    "#labels = range(22, 77, 'males')\n",
    "#df = get_df(labels, 77, 'females', 'COL', 2022)\n",
    "#df\n",
    "\n",
    "\n",
    "def population(sex, age_low, age_high, place, year):\n",
    "    # Error handling for invalid age range\n",
    "    if age_low > age_high:\n",
    "        raise ValueError(f\"Invalid age range: ({age_low}) < ({age_high}). Please reverse the input age ranges.\")\n",
    "\n",
    "    # Validate `place` is a valid location in wbdata\n",
    "    ls_countries = wbdata.get_countries()\n",
    "    country_codes = [country['id'] for country in ls_countries]\n",
    "    \n",
    "    if place not in country_codes:\n",
    "        raise ValueError(f\"Invalid country code: {place}. Please enter a valid country. Call wbdata.get_countries to see the valid list of countries.\")\n",
    "\n",
    "\n",
    "    labels = age_range(age_low, age_high, sex)\n",
    "     \n",
    "    #unit test for age edge cases (if highest age lies in an interval)\n",
    "    tlabels = {'SP.POP.2529.MA': 'Males 25-29'}\n",
    "    #df_test = get_region_df(tlabels, 25, 27, sex, place, year)\n",
    "    #assert df_test.iloc[0, -1] <= df_test.iloc[0, 1], \"Population proportion adjustment error!\"\n",
    "\n",
    "\n",
    "    df = get_region_df(labels, age_low, age_high, sex, place, year)\n",
    "    \n",
    "    # Check if the dataframe has any 'None' values for an age (Like 'WLD')\n",
    "    if df.iloc[:, 1:].isnull().all().any():\n",
    "        print('The age range (1, 25) returned null values, using interval ages ranges [0-5] instead')\n",
    "        labels = age_range_intv(age_low, age_high, sex)\n",
    "        df = get_region_df(labels, age_low, age_high, sex, place, year)\n",
    "    \n",
    "    df.drop('date', axis = 1, inplace=True)\n",
    "    df['total pop in age range'] = df.sum(axis=1)\n",
    "    total = df.iloc[0]['total pop in age range']\n",
    "    display(f'In {year}, the number of {sex} between ages {age_low} to {age_high} living in {place} was approximately {total}')\n",
    "    return df\n"
   ]
  },
  {
   "cell_type": "code",
   "execution_count": 82,
   "id": "8a0b5fcc-b353-4257-aeeb-5c9f2c84d63b",
   "metadata": {},
   "outputs": [
    {
     "data": {
      "text/plain": [
       "'df2.iloc[0, -1] before: 1612108.0'"
      ]
     },
     "metadata": {},
     "output_type": "display_data"
    },
    {
     "data": {
      "text/plain": [
       "'In 2000, the number of males between ages 27 to 27 living in COL was approximately 322421.0'"
      ]
     },
     "metadata": {},
     "output_type": "display_data"
    },
    {
     "data": {
      "text/html": [
       "<div>\n",
       "<style scoped>\n",
       "    .dataframe tbody tr th:only-of-type {\n",
       "        vertical-align: middle;\n",
       "    }\n",
       "\n",
       "    .dataframe tbody tr th {\n",
       "        vertical-align: top;\n",
       "    }\n",
       "\n",
       "    .dataframe thead th {\n",
       "        text-align: right;\n",
       "    }\n",
       "</style>\n",
       "<table border=\"1\" class=\"dataframe\">\n",
       "  <thead>\n",
       "    <tr style=\"text-align: right;\">\n",
       "      <th></th>\n",
       "      <th>Males 2529</th>\n",
       "      <th>total pop in age range</th>\n",
       "    </tr>\n",
       "  </thead>\n",
       "  <tbody>\n",
       "    <tr>\n",
       "      <th>23</th>\n",
       "      <td>322421.0</td>\n",
       "      <td>322421.0</td>\n",
       "    </tr>\n",
       "  </tbody>\n",
       "</table>\n",
       "</div>"
      ],
      "text/plain": [
       "    Males 2529  total pop in age range\n",
       "23    322421.0                322421.0"
      ]
     },
     "execution_count": 82,
     "metadata": {},
     "output_type": "execute_result"
    }
   ],
   "source": [
    "#ENTER YOUR QUERIES HERE\n",
    "#df_test = population('males', 0, 100, 'COL', 2000)\n",
    "#assert df_test.iloc[0]['total pop in age range'] > 1e9 / 2, \"Too few males in world population!\"\n",
    "\n",
    "population('males', 27, 27, 'COL', 2000)\n",
    "#df_test"
   ]
  },
  {
   "cell_type": "code",
   "execution_count": 7,
   "id": "be7654e8-f68d-4fdb-9545-12ae0373f006",
   "metadata": {},
   "outputs": [
    {
     "name": "stderr",
     "output_type": "stream",
     "text": [
      "WARNING:shelved_cache.persistent_cache:Key '-8238533544617440617' not in persistent cache.\n",
      "WARNING:shelved_cache.persistent_cache:Key '-362337279374807327' not in persistent cache.\n",
      "WARNING:shelved_cache.persistent_cache:Key '4471508007129724147' not in persistent cache.\n",
      "WARNING:shelved_cache.persistent_cache:Key '-5354999969056865832' not in persistent cache.\n",
      "WARNING:shelved_cache.persistent_cache:Key '-7772788875216013442' not in persistent cache.\n",
      "WARNING:shelved_cache.persistent_cache:Key '-5278498678167036681' not in persistent cache.\n",
      "WARNING:shelved_cache.persistent_cache:Key '-801643630890527972' not in persistent cache.\n",
      "WARNING:shelved_cache.persistent_cache:Key '4347821204826092363' not in persistent cache.\n",
      "WARNING:shelved_cache.persistent_cache:Key '9044292181470632096' not in persistent cache.\n",
      "WARNING:shelved_cache.persistent_cache:Key '8689381379760621828' not in persistent cache.\n",
      "WARNING:shelved_cache.persistent_cache:Key '6333819236346417638' not in persistent cache.\n",
      "WARNING:shelved_cache.persistent_cache:Key '366859214149063113' not in persistent cache.\n",
      "WARNING:shelved_cache.persistent_cache:Key '4746007010479158100' not in persistent cache.\n",
      "WARNING:shelved_cache.persistent_cache:Key '4002933199134521532' not in persistent cache.\n"
     ]
    },
    {
     "data": {
      "text/plain": [
       "'population count: 602985.0'"
      ]
     },
     "metadata": {},
     "output_type": "display_data"
    },
    {
     "data": {
      "text/html": [
       "<div>\n",
       "<style scoped>\n",
       "    .dataframe tbody tr th:only-of-type {\n",
       "        vertical-align: middle;\n",
       "    }\n",
       "\n",
       "    .dataframe tbody tr th {\n",
       "        vertical-align: top;\n",
       "    }\n",
       "\n",
       "    .dataframe thead th {\n",
       "        text-align: right;\n",
       "    }\n",
       "</style>\n",
       "<table border=\"1\" class=\"dataframe\">\n",
       "  <thead>\n",
       "    <tr style=\"text-align: right;\">\n",
       "      <th></th>\n",
       "      <th>country</th>\n",
       "      <th>date</th>\n",
       "      <th>Females 22</th>\n",
       "      <th>Females 23</th>\n",
       "      <th>Females 24</th>\n",
       "      <th>Females 2529</th>\n",
       "      <th>Females 3034</th>\n",
       "      <th>Females 3539</th>\n",
       "      <th>Females 4044</th>\n",
       "      <th>Females 4549</th>\n",
       "      <th>Females 5054</th>\n",
       "      <th>Females 5559</th>\n",
       "      <th>Females 6064</th>\n",
       "      <th>Females 6569</th>\n",
       "      <th>Females 7074</th>\n",
       "      <th>Females 7579</th>\n",
       "    </tr>\n",
       "  </thead>\n",
       "  <tbody>\n",
       "    <tr>\n",
       "      <th>2</th>\n",
       "      <td>Argentina</td>\n",
       "      <td>2021</td>\n",
       "      <td>340990.0</td>\n",
       "      <td>339364.5</td>\n",
       "      <td>341034.0</td>\n",
       "      <td>1727965.0</td>\n",
       "      <td>1651617.0</td>\n",
       "      <td>1583375.0</td>\n",
       "      <td>1548702.0</td>\n",
       "      <td>1372580.0</td>\n",
       "      <td>1183031.0</td>\n",
       "      <td>1095091.0</td>\n",
       "      <td>1017473.0</td>\n",
       "      <td>914976.0</td>\n",
       "      <td>777595.0</td>\n",
       "      <td>361791.0</td>\n",
       "    </tr>\n",
       "    <tr>\n",
       "      <th>66</th>\n",
       "      <td>Bolivia</td>\n",
       "      <td>2021</td>\n",
       "      <td>109809.5</td>\n",
       "      <td>108289.5</td>\n",
       "      <td>107373.5</td>\n",
       "      <td>518258.0</td>\n",
       "      <td>469786.0</td>\n",
       "      <td>400557.0</td>\n",
       "      <td>349190.0</td>\n",
       "      <td>297321.0</td>\n",
       "      <td>251647.0</td>\n",
       "      <td>210244.0</td>\n",
       "      <td>169351.0</td>\n",
       "      <td>128503.0</td>\n",
       "      <td>96082.0</td>\n",
       "      <td>68510.0</td>\n",
       "    </tr>\n",
       "    <tr>\n",
       "      <th>130</th>\n",
       "      <td>Brazil</td>\n",
       "      <td>2021</td>\n",
       "      <td>1649095.0</td>\n",
       "      <td>1655825.0</td>\n",
       "      <td>1646923.0</td>\n",
       "      <td>8105921.0</td>\n",
       "      <td>8299446.0</td>\n",
       "      <td>8539224.0</td>\n",
       "      <td>8027939.0</td>\n",
       "      <td>7135873.0</td>\n",
       "      <td>6449326.0</td>\n",
       "      <td>6076687.0</td>\n",
       "      <td>5236762.0</td>\n",
       "      <td>4186711.0</td>\n",
       "      <td>3107121.0</td>\n",
       "      <td>2055915.0</td>\n",
       "    </tr>\n",
       "    <tr>\n",
       "      <th>194</th>\n",
       "      <td>Chile</td>\n",
       "      <td>2021</td>\n",
       "      <td>140459.5</td>\n",
       "      <td>145160.0</td>\n",
       "      <td>149702.0</td>\n",
       "      <td>792156.0</td>\n",
       "      <td>795033.0</td>\n",
       "      <td>725313.0</td>\n",
       "      <td>675065.0</td>\n",
       "      <td>649398.0</td>\n",
       "      <td>629116.0</td>\n",
       "      <td>586850.0</td>\n",
       "      <td>520887.0</td>\n",
       "      <td>436213.0</td>\n",
       "      <td>342926.0</td>\n",
       "      <td>236452.0</td>\n",
       "    </tr>\n",
       "    <tr>\n",
       "      <th>258</th>\n",
       "      <td>Ecuador</td>\n",
       "      <td>2021</td>\n",
       "      <td>155491.5</td>\n",
       "      <td>155337.5</td>\n",
       "      <td>155166.0</td>\n",
       "      <td>755239.0</td>\n",
       "      <td>701586.0</td>\n",
       "      <td>648686.0</td>\n",
       "      <td>574585.0</td>\n",
       "      <td>505627.0</td>\n",
       "      <td>442048.0</td>\n",
       "      <td>377253.0</td>\n",
       "      <td>313465.0</td>\n",
       "      <td>256287.0</td>\n",
       "      <td>198079.0</td>\n",
       "      <td>137218.0</td>\n",
       "    </tr>\n",
       "    <tr>\n",
       "      <th>322</th>\n",
       "      <td>World</td>\n",
       "      <td>2021</td>\n",
       "      <td>NaN</td>\n",
       "      <td>NaN</td>\n",
       "      <td>NaN</td>\n",
       "      <td>290638670.0</td>\n",
       "      <td>296697604.0</td>\n",
       "      <td>274546997.0</td>\n",
       "      <td>246000086.0</td>\n",
       "      <td>234930861.0</td>\n",
       "      <td>223923211.0</td>\n",
       "      <td>202156613.0</td>\n",
       "      <td>165292891.0</td>\n",
       "      <td>144946891.0</td>\n",
       "      <td>108698089.0</td>\n",
       "      <td>71377606.0</td>\n",
       "    </tr>\n",
       "  </tbody>\n",
       "</table>\n",
       "</div>"
      ],
      "text/plain": [
       "       country  date  Females 22  Females 23  Females 24  Females 2529  \\\n",
       "2    Argentina  2021    340990.0    339364.5    341034.0     1727965.0   \n",
       "66     Bolivia  2021    109809.5    108289.5    107373.5      518258.0   \n",
       "130     Brazil  2021   1649095.0   1655825.0   1646923.0     8105921.0   \n",
       "194      Chile  2021    140459.5    145160.0    149702.0      792156.0   \n",
       "258    Ecuador  2021    155491.5    155337.5    155166.0      755239.0   \n",
       "322      World  2021         NaN         NaN         NaN   290638670.0   \n",
       "\n",
       "     Females 3034  Females 3539  Females 4044  Females 4549  Females 5054  \\\n",
       "2       1651617.0     1583375.0     1548702.0     1372580.0     1183031.0   \n",
       "66       469786.0      400557.0      349190.0      297321.0      251647.0   \n",
       "130     8299446.0     8539224.0     8027939.0     7135873.0     6449326.0   \n",
       "194      795033.0      725313.0      675065.0      649398.0      629116.0   \n",
       "258      701586.0      648686.0      574585.0      505627.0      442048.0   \n",
       "322   296697604.0   274546997.0   246000086.0   234930861.0   223923211.0   \n",
       "\n",
       "     Females 5559  Females 6064  Females 6569  Females 7074  Females 7579  \n",
       "2       1095091.0     1017473.0      914976.0      777595.0      361791.0  \n",
       "66       210244.0      169351.0      128503.0       96082.0       68510.0  \n",
       "130     6076687.0     5236762.0     4186711.0     3107121.0     2055915.0  \n",
       "194      586850.0      520887.0      436213.0      342926.0      236452.0  \n",
       "258      377253.0      313465.0      256287.0      198079.0      137218.0  \n",
       "322   202156613.0   165292891.0   144946891.0   108698089.0    71377606.0  "
      ]
     },
     "execution_count": 7,
     "metadata": {},
     "output_type": "execute_result"
    }
   ],
   "source": [
    "condor_countries = {'ARG': 'Argentina', 'BOL': 'Bolivia', 'BRA': 'Brazil', 'CHL': 'Chile', 'ECU': 'Ecuador', 'CLA':'Latin America and the Caribbean (IFC classification)', 'WLD' :\"World\"}\n",
    "#labels = range(22, 77, 'females')\n",
    "#df = get_df(labels, 77, 'females', 'COL', 2022)\n",
    "#df\n",
    "\n",
    "\n",
    "def get_region_df(age_low, age_high, sex, place, year):\n",
    "    labels = age_range(age_low, age_high, sex)\n",
    "    df = wbdata.get_dataframe(labels,country = place,parse_dates=True)\n",
    "    df = df.reset_index()\n",
    "    df2 = df[df['date'] == f'{year}-01-01']\n",
    "    df2['date'] = year\n",
    "    #if the age high is >25 and <80 and not a multiple of 5, then take a proportional fraction of the last column\n",
    "    #example: 27, in range [25, 29] want (27%5 /5)\n",
    "    if ((age_high>=25) & (age_high<80) & (age_high%5 != 4)):\n",
    "        population_count = df2.iloc[0, -1]\n",
    "        display(f'population count: {population_count}')\n",
    "        proportion = (age_high%5+1) / 5\n",
    "        df2.iloc[0, -1] = proportion*population_count\n",
    "        \n",
    "        \n",
    "    return df2\n",
    "\n",
    "get_region_df(22, 77, 'females',condor_countries, 2021)"
   ]
  },
  {
   "cell_type": "markdown",
   "id": "d0de34ea-68ef-4ae1-8b2e-9c18acf19b12",
   "metadata": {},
   "source": [
    "## [4] Population Pyramids"
   ]
  },
  {
   "cell_type": "markdown",
   "id": "fb6fcfd2-713c-47d2-a654-df6323f24cf0",
   "metadata": {},
   "source": [
    "The dictatorships of Operation Condor led to significant changes in the populations of the affected countries. This notebook first develops a population pyramid of the world in this period as an international reference, and then looks at interesting trends in population distribution and growth regionally and within selected Condor countries."
   ]
  },
  {
   "cell_type": "markdown",
   "id": "dea9bbb8-0da7-4045-a23e-cfda7b731fdf",
   "metadata": {},
   "source": [
    "# Regular Population Pyramids"
   ]
  },
  {
   "cell_type": "code",
   "execution_count": 8,
   "id": "a39b4aea-2217-4051-878f-55a2072c7545",
   "metadata": {},
   "outputs": [
    {
     "name": "stdout",
     "output_type": "stream",
     "text": [
      "['0004', '0509', '1014', '1519', '2024', '2529', '3034', '3539', '4044', '4549', '5054', '5559', '6064', '6569', '7074', '7579', '80UP']\n",
      "{'SP.POP.0004.MA': 'Males 0004', 'SP.POP.0509.MA': 'Males 0509', 'SP.POP.1014.MA': 'Males 1014', 'SP.POP.1519.MA': 'Males 1519', 'SP.POP.2024.MA': 'Males 2024', 'SP.POP.2529.MA': 'Males 2529', 'SP.POP.3034.MA': 'Males 3034', 'SP.POP.3539.MA': 'Males 3539', 'SP.POP.4044.MA': 'Males 4044', 'SP.POP.4549.MA': 'Males 4549', 'SP.POP.5054.MA': 'Males 5054', 'SP.POP.5559.MA': 'Males 5559', 'SP.POP.6064.MA': 'Males 6064', 'SP.POP.6569.MA': 'Males 6569', 'SP.POP.7074.MA': 'Males 7074', 'SP.POP.7579.MA': 'Males 7579', 'SP.POP.80UP.MA': 'Males 80UP', 'SP.POP.0004.FE': 'Females 0004', 'SP.POP.0509.FE': 'Females 0509', 'SP.POP.1014.FE': 'Females 1014', 'SP.POP.1519.FE': 'Females 1519', 'SP.POP.2024.FE': 'Females 2024', 'SP.POP.2529.FE': 'Females 2529', 'SP.POP.3034.FE': 'Females 3034', 'SP.POP.3539.FE': 'Females 3539', 'SP.POP.4044.FE': 'Females 4044', 'SP.POP.4549.FE': 'Females 4549', 'SP.POP.5054.FE': 'Females 5054', 'SP.POP.5559.FE': 'Females 5559', 'SP.POP.6064.FE': 'Females 6064', 'SP.POP.6569.FE': 'Females 6569', 'SP.POP.7074.FE': 'Females 7074', 'SP.POP.7579.FE': 'Females 7579', 'SP.POP.80UP.FE': 'Females 80UP'}\n"
     ]
    }
   ],
   "source": [
    "# Setting up \n",
    "wbdata.get_indicators(source=40)\n",
    "SOURCE2=2 \n",
    "\n",
    "# Tell pandas to use plotly\n",
    "pd.options.plotting.backend = 'plotly'\n",
    "\n",
    "# World Population Pyramid\n",
    "\n",
    "# Constructing a list of all possible age categories, such as 0-4, 5-9, ... 75-79, 80PLUS.\n",
    "ages = []\n",
    "for a in range(0,80,5):\n",
    "    ages.append(f\"{a:02d}\"+f\"{a+4:02d}\")\n",
    "\n",
    "ages.append(\"80UP\")\n",
    "# Print the result to ensure the correct ranges are created.\n",
    "print(ages)\n",
    "\n",
    "# Creates a dictionary, where each term defining a population in the wbdata dataset is named more descriptively.\n",
    "male_ranges = {\"SP.POP.\"+age_range+\".MA\":\"Males \"+age_range for age_range in ages}\n",
    "female_ranges = {\"SP.POP.\"+age_range+\".FE\":\"Females \"+age_range for age_range in ages}\n",
    "\n",
    "# Develop a combined dictionary, then print it to sanity check.\n",
    "categories = {**male_ranges, **female_ranges}\n",
    "print(categories)\n",
    "\n",
    "# Make a dataframe of the chosen 'country_choice' data\n",
    "country_choice = \"WLD\"\n",
    "world = wbdata.get_dataframe(categories,country=country_choice)"
   ]
  },
  {
   "cell_type": "markdown",
   "id": "075d9c4e-a1f1-43bd-b0a9-4fcd3014ef09",
   "metadata": {},
   "source": [
    "# A Population Pyramid of the World"
   ]
  },
  {
   "cell_type": "code",
   "execution_count": 9,
   "id": "3d7eb0c4-b9d1-4a10-be6e-4a5edaf1597f",
   "metadata": {},
   "outputs": [
    {
     "data": {
      "text/html": [
       "        <script type=\"text/javascript\">\n",
       "        window.PlotlyConfig = {MathJaxConfig: 'local'};\n",
       "        if (window.MathJax && window.MathJax.Hub && window.MathJax.Hub.Config) {window.MathJax.Hub.Config({SVG: {font: \"STIX-Web\"}});}\n",
       "        </script>\n",
       "        <script type=\"module\">import \"https://cdn.plot.ly/plotly-3.0.0.min\"</script>\n",
       "        "
      ]
     },
     "metadata": {},
     "output_type": "display_data"
    },
    {
     "data": {
      "application/vnd.plotly.v1+json": {
       "config": {
        "linkText": "Export to plot.ly",
        "plotlyServerURL": "https://plot.ly",
        "showLink": false
       },
       "data": [
        {
         "hoverinfo": "skip",
         "marker": {
          "color": "olive",
          "line": {
           "color": "black",
           "width": 1
          }
         },
         "name": "Men",
         "orientation": "h",
         "type": "bar",
         "x": {
          "bdata": "AAAA6Bz0s0EAAABKshS1QQAAAKNv6rRBAAAA0Zq2s0EAAACB49KyQQAAAEI0VrJBAAAAZHeIskEAAACn9pqxQQAAAHI5iq9BAAAAaA5VrEEAAACQ3kyrQQAAAJ7TOqhBAAAARLFco0EAAADiJiegQQAAANx2vZdBAAAAaJxzjUEAAAD4OPeMQQ==",
          "dtype": "f8"
         },
         "y": [
          1,
          6,
          11,
          16,
          21,
          26,
          31,
          36,
          41,
          46,
          51,
          56,
          61,
          66,
          71,
          76,
          81
         ]
        },
        {
         "hoverinfo": "skip",
         "marker": {
          "color": "yellow",
          "line": {
           "color": "black",
           "width": 1
          }
         },
         "name": "Women",
         "orientation": "h",
         "type": "bar",
         "x": {
          "bdata": "AAAAJwbwssEAAAA1jt2zwQAAAHLqmbPBAAAA+cqDssEAAAAjIL2xwQAAADdSTbHBAAAAgzOXscEAAAC0nuuwwQAAALr3pa7BAAAANlX2q8EAAAAskmmrwQAAAKK45qjBAAAACiqYpMEAAAAGoRGiwQAAAAzASJzBAAAArNujksEAAACIP3yXwQ==",
          "dtype": "f8"
         },
         "y": [
          1,
          6,
          11,
          16,
          21,
          26,
          31,
          36,
          41,
          46,
          51,
          56,
          61,
          66,
          71,
          76,
          81
         ]
        }
       ],
       "layout": {
        "barmode": "overlay",
        "font": {
         "color": "black",
         "family": "Arial, sans-serif",
         "size": 14
        },
        "height": 600,
        "paper_bgcolor": "#f4f4f4",
        "plot_bgcolor": "#ffffff",
        "showlegend": true,
        "template": {
         "data": {
          "bar": [
           {
            "error_x": {
             "color": "#2a3f5f"
            },
            "error_y": {
             "color": "#2a3f5f"
            },
            "marker": {
             "line": {
              "color": "#E5ECF6",
              "width": 0.5
             },
             "pattern": {
              "fillmode": "overlay",
              "size": 10,
              "solidity": 0.2
             }
            },
            "type": "bar"
           }
          ],
          "barpolar": [
           {
            "marker": {
             "line": {
              "color": "#E5ECF6",
              "width": 0.5
             },
             "pattern": {
              "fillmode": "overlay",
              "size": 10,
              "solidity": 0.2
             }
            },
            "type": "barpolar"
           }
          ],
          "carpet": [
           {
            "aaxis": {
             "endlinecolor": "#2a3f5f",
             "gridcolor": "white",
             "linecolor": "white",
             "minorgridcolor": "white",
             "startlinecolor": "#2a3f5f"
            },
            "baxis": {
             "endlinecolor": "#2a3f5f",
             "gridcolor": "white",
             "linecolor": "white",
             "minorgridcolor": "white",
             "startlinecolor": "#2a3f5f"
            },
            "type": "carpet"
           }
          ],
          "choropleth": [
           {
            "colorbar": {
             "outlinewidth": 0,
             "ticks": ""
            },
            "type": "choropleth"
           }
          ],
          "contour": [
           {
            "colorbar": {
             "outlinewidth": 0,
             "ticks": ""
            },
            "colorscale": [
             [
              0,
              "#0d0887"
             ],
             [
              0.1111111111111111,
              "#46039f"
             ],
             [
              0.2222222222222222,
              "#7201a8"
             ],
             [
              0.3333333333333333,
              "#9c179e"
             ],
             [
              0.4444444444444444,
              "#bd3786"
             ],
             [
              0.5555555555555556,
              "#d8576b"
             ],
             [
              0.6666666666666666,
              "#ed7953"
             ],
             [
              0.7777777777777778,
              "#fb9f3a"
             ],
             [
              0.8888888888888888,
              "#fdca26"
             ],
             [
              1,
              "#f0f921"
             ]
            ],
            "type": "contour"
           }
          ],
          "contourcarpet": [
           {
            "colorbar": {
             "outlinewidth": 0,
             "ticks": ""
            },
            "type": "contourcarpet"
           }
          ],
          "heatmap": [
           {
            "colorbar": {
             "outlinewidth": 0,
             "ticks": ""
            },
            "colorscale": [
             [
              0,
              "#0d0887"
             ],
             [
              0.1111111111111111,
              "#46039f"
             ],
             [
              0.2222222222222222,
              "#7201a8"
             ],
             [
              0.3333333333333333,
              "#9c179e"
             ],
             [
              0.4444444444444444,
              "#bd3786"
             ],
             [
              0.5555555555555556,
              "#d8576b"
             ],
             [
              0.6666666666666666,
              "#ed7953"
             ],
             [
              0.7777777777777778,
              "#fb9f3a"
             ],
             [
              0.8888888888888888,
              "#fdca26"
             ],
             [
              1,
              "#f0f921"
             ]
            ],
            "type": "heatmap"
           }
          ],
          "histogram": [
           {
            "marker": {
             "pattern": {
              "fillmode": "overlay",
              "size": 10,
              "solidity": 0.2
             }
            },
            "type": "histogram"
           }
          ],
          "histogram2d": [
           {
            "colorbar": {
             "outlinewidth": 0,
             "ticks": ""
            },
            "colorscale": [
             [
              0,
              "#0d0887"
             ],
             [
              0.1111111111111111,
              "#46039f"
             ],
             [
              0.2222222222222222,
              "#7201a8"
             ],
             [
              0.3333333333333333,
              "#9c179e"
             ],
             [
              0.4444444444444444,
              "#bd3786"
             ],
             [
              0.5555555555555556,
              "#d8576b"
             ],
             [
              0.6666666666666666,
              "#ed7953"
             ],
             [
              0.7777777777777778,
              "#fb9f3a"
             ],
             [
              0.8888888888888888,
              "#fdca26"
             ],
             [
              1,
              "#f0f921"
             ]
            ],
            "type": "histogram2d"
           }
          ],
          "histogram2dcontour": [
           {
            "colorbar": {
             "outlinewidth": 0,
             "ticks": ""
            },
            "colorscale": [
             [
              0,
              "#0d0887"
             ],
             [
              0.1111111111111111,
              "#46039f"
             ],
             [
              0.2222222222222222,
              "#7201a8"
             ],
             [
              0.3333333333333333,
              "#9c179e"
             ],
             [
              0.4444444444444444,
              "#bd3786"
             ],
             [
              0.5555555555555556,
              "#d8576b"
             ],
             [
              0.6666666666666666,
              "#ed7953"
             ],
             [
              0.7777777777777778,
              "#fb9f3a"
             ],
             [
              0.8888888888888888,
              "#fdca26"
             ],
             [
              1,
              "#f0f921"
             ]
            ],
            "type": "histogram2dcontour"
           }
          ],
          "mesh3d": [
           {
            "colorbar": {
             "outlinewidth": 0,
             "ticks": ""
            },
            "type": "mesh3d"
           }
          ],
          "parcoords": [
           {
            "line": {
             "colorbar": {
              "outlinewidth": 0,
              "ticks": ""
             }
            },
            "type": "parcoords"
           }
          ],
          "pie": [
           {
            "automargin": true,
            "type": "pie"
           }
          ],
          "scatter": [
           {
            "fillpattern": {
             "fillmode": "overlay",
             "size": 10,
             "solidity": 0.2
            },
            "type": "scatter"
           }
          ],
          "scatter3d": [
           {
            "line": {
             "colorbar": {
              "outlinewidth": 0,
              "ticks": ""
             }
            },
            "marker": {
             "colorbar": {
              "outlinewidth": 0,
              "ticks": ""
             }
            },
            "type": "scatter3d"
           }
          ],
          "scattercarpet": [
           {
            "marker": {
             "colorbar": {
              "outlinewidth": 0,
              "ticks": ""
             }
            },
            "type": "scattercarpet"
           }
          ],
          "scattergeo": [
           {
            "marker": {
             "colorbar": {
              "outlinewidth": 0,
              "ticks": ""
             }
            },
            "type": "scattergeo"
           }
          ],
          "scattergl": [
           {
            "marker": {
             "colorbar": {
              "outlinewidth": 0,
              "ticks": ""
             }
            },
            "type": "scattergl"
           }
          ],
          "scattermap": [
           {
            "marker": {
             "colorbar": {
              "outlinewidth": 0,
              "ticks": ""
             }
            },
            "type": "scattermap"
           }
          ],
          "scattermapbox": [
           {
            "marker": {
             "colorbar": {
              "outlinewidth": 0,
              "ticks": ""
             }
            },
            "type": "scattermapbox"
           }
          ],
          "scatterpolar": [
           {
            "marker": {
             "colorbar": {
              "outlinewidth": 0,
              "ticks": ""
             }
            },
            "type": "scatterpolar"
           }
          ],
          "scatterpolargl": [
           {
            "marker": {
             "colorbar": {
              "outlinewidth": 0,
              "ticks": ""
             }
            },
            "type": "scatterpolargl"
           }
          ],
          "scatterternary": [
           {
            "marker": {
             "colorbar": {
              "outlinewidth": 0,
              "ticks": ""
             }
            },
            "type": "scatterternary"
           }
          ],
          "surface": [
           {
            "colorbar": {
             "outlinewidth": 0,
             "ticks": ""
            },
            "colorscale": [
             [
              0,
              "#0d0887"
             ],
             [
              0.1111111111111111,
              "#46039f"
             ],
             [
              0.2222222222222222,
              "#7201a8"
             ],
             [
              0.3333333333333333,
              "#9c179e"
             ],
             [
              0.4444444444444444,
              "#bd3786"
             ],
             [
              0.5555555555555556,
              "#d8576b"
             ],
             [
              0.6666666666666666,
              "#ed7953"
             ],
             [
              0.7777777777777778,
              "#fb9f3a"
             ],
             [
              0.8888888888888888,
              "#fdca26"
             ],
             [
              1,
              "#f0f921"
             ]
            ],
            "type": "surface"
           }
          ],
          "table": [
           {
            "cells": {
             "fill": {
              "color": "#EBF0F8"
             },
             "line": {
              "color": "white"
             }
            },
            "header": {
             "fill": {
              "color": "#C8D4E3"
             },
             "line": {
              "color": "white"
             }
            },
            "type": "table"
           }
          ]
         },
         "layout": {
          "annotationdefaults": {
           "arrowcolor": "#2a3f5f",
           "arrowhead": 0,
           "arrowwidth": 1
          },
          "autotypenumbers": "strict",
          "coloraxis": {
           "colorbar": {
            "outlinewidth": 0,
            "ticks": ""
           }
          },
          "colorscale": {
           "diverging": [
            [
             0,
             "#8e0152"
            ],
            [
             0.1,
             "#c51b7d"
            ],
            [
             0.2,
             "#de77ae"
            ],
            [
             0.3,
             "#f1b6da"
            ],
            [
             0.4,
             "#fde0ef"
            ],
            [
             0.5,
             "#f7f7f7"
            ],
            [
             0.6,
             "#e6f5d0"
            ],
            [
             0.7,
             "#b8e186"
            ],
            [
             0.8,
             "#7fbc41"
            ],
            [
             0.9,
             "#4d9221"
            ],
            [
             1,
             "#276419"
            ]
           ],
           "sequential": [
            [
             0,
             "#0d0887"
            ],
            [
             0.1111111111111111,
             "#46039f"
            ],
            [
             0.2222222222222222,
             "#7201a8"
            ],
            [
             0.3333333333333333,
             "#9c179e"
            ],
            [
             0.4444444444444444,
             "#bd3786"
            ],
            [
             0.5555555555555556,
             "#d8576b"
            ],
            [
             0.6666666666666666,
             "#ed7953"
            ],
            [
             0.7777777777777778,
             "#fb9f3a"
            ],
            [
             0.8888888888888888,
             "#fdca26"
            ],
            [
             1,
             "#f0f921"
            ]
           ],
           "sequentialminus": [
            [
             0,
             "#0d0887"
            ],
            [
             0.1111111111111111,
             "#46039f"
            ],
            [
             0.2222222222222222,
             "#7201a8"
            ],
            [
             0.3333333333333333,
             "#9c179e"
            ],
            [
             0.4444444444444444,
             "#bd3786"
            ],
            [
             0.5555555555555556,
             "#d8576b"
            ],
            [
             0.6666666666666666,
             "#ed7953"
            ],
            [
             0.7777777777777778,
             "#fb9f3a"
            ],
            [
             0.8888888888888888,
             "#fdca26"
            ],
            [
             1,
             "#f0f921"
            ]
           ]
          },
          "colorway": [
           "#636efa",
           "#EF553B",
           "#00cc96",
           "#ab63fa",
           "#FFA15A",
           "#19d3f3",
           "#FF6692",
           "#B6E880",
           "#FF97FF",
           "#FECB52"
          ],
          "font": {
           "color": "#2a3f5f"
          },
          "geo": {
           "bgcolor": "white",
           "lakecolor": "white",
           "landcolor": "#E5ECF6",
           "showlakes": true,
           "showland": true,
           "subunitcolor": "white"
          },
          "hoverlabel": {
           "align": "left"
          },
          "hovermode": "closest",
          "mapbox": {
           "style": "light"
          },
          "paper_bgcolor": "white",
          "plot_bgcolor": "#E5ECF6",
          "polar": {
           "angularaxis": {
            "gridcolor": "white",
            "linecolor": "white",
            "ticks": ""
           },
           "bgcolor": "#E5ECF6",
           "radialaxis": {
            "gridcolor": "white",
            "linecolor": "white",
            "ticks": ""
           }
          },
          "scene": {
           "xaxis": {
            "backgroundcolor": "#E5ECF6",
            "gridcolor": "white",
            "gridwidth": 2,
            "linecolor": "white",
            "showbackground": true,
            "ticks": "",
            "zerolinecolor": "white"
           },
           "yaxis": {
            "backgroundcolor": "#E5ECF6",
            "gridcolor": "white",
            "gridwidth": 2,
            "linecolor": "white",
            "showbackground": true,
            "ticks": "",
            "zerolinecolor": "white"
           },
           "zaxis": {
            "backgroundcolor": "#E5ECF6",
            "gridcolor": "white",
            "gridwidth": 2,
            "linecolor": "white",
            "showbackground": true,
            "ticks": "",
            "zerolinecolor": "white"
           }
          },
          "shapedefaults": {
           "line": {
            "color": "#2a3f5f"
           }
          },
          "ternary": {
           "aaxis": {
            "gridcolor": "white",
            "linecolor": "white",
            "ticks": ""
           },
           "baxis": {
            "gridcolor": "white",
            "linecolor": "white",
            "ticks": ""
           },
           "bgcolor": "#E5ECF6",
           "caxis": {
            "gridcolor": "white",
            "linecolor": "white",
            "ticks": ""
           }
          },
          "title": {
           "x": 0.05
          },
          "xaxis": {
           "automargin": true,
           "gridcolor": "white",
           "linecolor": "white",
           "ticks": "",
           "title": {
            "standoff": 15
           },
           "zerolinecolor": "white",
           "zerolinewidth": 2
          },
          "yaxis": {
           "automargin": true,
           "gridcolor": "white",
           "linecolor": "white",
           "ticks": "",
           "title": {
            "standoff": 15
           },
           "zerolinecolor": "white",
           "zerolinewidth": 2
          }
         }
        },
        "title": {
         "font": {
          "color": "black",
          "size": 18
         },
         "text": "World Population Pyramid (2023)"
        },
        "width": 600,
        "xaxis": {
         "gridcolor": "lightgray",
         "tickfont": {
          "size": 12
         },
         "title": {
          "font": {
           "size": 16
          },
          "text": "Number of People"
         }
        },
        "yaxis": {
         "gridcolor": "lightgray",
         "range": [
          0,
          90
         ],
         "tickfont": {
          "size": 12
         },
         "title": {
          "font": {
           "size": 16
          },
          "text": "Age"
         }
        }
       }
      },
      "text/html": [
       "<div>            <script src=\"https://cdnjs.cloudflare.com/ajax/libs/mathjax/2.7.5/MathJax.js?config=TeX-AMS-MML_SVG\"></script><script type=\"text/javascript\">if (window.MathJax && window.MathJax.Hub && window.MathJax.Hub.Config) {window.MathJax.Hub.Config({SVG: {font: \"STIX-Web\"}});}</script>                <script type=\"text/javascript\">window.PlotlyConfig = {MathJaxConfig: 'local'};</script>\n",
       "        <script charset=\"utf-8\" src=\"https://cdn.plot.ly/plotly-3.0.0.min.js\"></script>                <div id=\"98bdb3f0-1136-41ea-9cce-0f5c26909beb\" class=\"plotly-graph-div\" style=\"height:600px; width:600px;\"></div>            <script type=\"text/javascript\">                window.PLOTLYENV=window.PLOTLYENV || {};                                if (document.getElementById(\"98bdb3f0-1136-41ea-9cce-0f5c26909beb\")) {                    Plotly.newPlot(                        \"98bdb3f0-1136-41ea-9cce-0f5c26909beb\",                        [{\"hoverinfo\":\"skip\",\"marker\":{\"color\":\"olive\",\"line\":{\"color\":\"black\",\"width\":1}},\"name\":\"Men\",\"orientation\":\"h\",\"x\":{\"dtype\":\"f8\",\"bdata\":\"AAAA6Bz0s0EAAABKshS1QQAAAKNv6rRBAAAA0Zq2s0EAAACB49KyQQAAAEI0VrJBAAAAZHeIskEAAACn9pqxQQAAAHI5iq9BAAAAaA5VrEEAAACQ3kyrQQAAAJ7TOqhBAAAARLFco0EAAADiJiegQQAAANx2vZdBAAAAaJxzjUEAAAD4OPeMQQ==\"},\"y\":[1,6,11,16,21,26,31,36,41,46,51,56,61,66,71,76,81],\"type\":\"bar\"},{\"hoverinfo\":\"skip\",\"marker\":{\"color\":\"yellow\",\"line\":{\"color\":\"black\",\"width\":1}},\"name\":\"Women\",\"orientation\":\"h\",\"x\":{\"dtype\":\"f8\",\"bdata\":\"AAAAJwbwssEAAAA1jt2zwQAAAHLqmbPBAAAA+cqDssEAAAAjIL2xwQAAADdSTbHBAAAAgzOXscEAAAC0nuuwwQAAALr3pa7BAAAANlX2q8EAAAAskmmrwQAAAKK45qjBAAAACiqYpMEAAAAGoRGiwQAAAAzASJzBAAAArNujksEAAACIP3yXwQ==\"},\"y\":[1,6,11,16,21,26,31,36,41,46,51,56,61,66,71,76,81],\"type\":\"bar\"}],                        {\"barmode\":\"overlay\",\"font\":{\"color\":\"black\",\"family\":\"Arial, sans-serif\",\"size\":14},\"height\":600,\"paper_bgcolor\":\"#f4f4f4\",\"plot_bgcolor\":\"#ffffff\",\"showlegend\":true,\"template\":{\"data\":{\"barpolar\":[{\"marker\":{\"line\":{\"color\":\"#E5ECF6\",\"width\":0.5},\"pattern\":{\"fillmode\":\"overlay\",\"size\":10,\"solidity\":0.2}},\"type\":\"barpolar\"}],\"bar\":[{\"error_x\":{\"color\":\"#2a3f5f\"},\"error_y\":{\"color\":\"#2a3f5f\"},\"marker\":{\"line\":{\"color\":\"#E5ECF6\",\"width\":0.5},\"pattern\":{\"fillmode\":\"overlay\",\"size\":10,\"solidity\":0.2}},\"type\":\"bar\"}],\"carpet\":[{\"aaxis\":{\"endlinecolor\":\"#2a3f5f\",\"gridcolor\":\"white\",\"linecolor\":\"white\",\"minorgridcolor\":\"white\",\"startlinecolor\":\"#2a3f5f\"},\"baxis\":{\"endlinecolor\":\"#2a3f5f\",\"gridcolor\":\"white\",\"linecolor\":\"white\",\"minorgridcolor\":\"white\",\"startlinecolor\":\"#2a3f5f\"},\"type\":\"carpet\"}],\"choropleth\":[{\"colorbar\":{\"outlinewidth\":0,\"ticks\":\"\"},\"type\":\"choropleth\"}],\"contourcarpet\":[{\"colorbar\":{\"outlinewidth\":0,\"ticks\":\"\"},\"type\":\"contourcarpet\"}],\"contour\":[{\"colorbar\":{\"outlinewidth\":0,\"ticks\":\"\"},\"colorscale\":[[0.0,\"#0d0887\"],[0.1111111111111111,\"#46039f\"],[0.2222222222222222,\"#7201a8\"],[0.3333333333333333,\"#9c179e\"],[0.4444444444444444,\"#bd3786\"],[0.5555555555555556,\"#d8576b\"],[0.6666666666666666,\"#ed7953\"],[0.7777777777777778,\"#fb9f3a\"],[0.8888888888888888,\"#fdca26\"],[1.0,\"#f0f921\"]],\"type\":\"contour\"}],\"heatmap\":[{\"colorbar\":{\"outlinewidth\":0,\"ticks\":\"\"},\"colorscale\":[[0.0,\"#0d0887\"],[0.1111111111111111,\"#46039f\"],[0.2222222222222222,\"#7201a8\"],[0.3333333333333333,\"#9c179e\"],[0.4444444444444444,\"#bd3786\"],[0.5555555555555556,\"#d8576b\"],[0.6666666666666666,\"#ed7953\"],[0.7777777777777778,\"#fb9f3a\"],[0.8888888888888888,\"#fdca26\"],[1.0,\"#f0f921\"]],\"type\":\"heatmap\"}],\"histogram2dcontour\":[{\"colorbar\":{\"outlinewidth\":0,\"ticks\":\"\"},\"colorscale\":[[0.0,\"#0d0887\"],[0.1111111111111111,\"#46039f\"],[0.2222222222222222,\"#7201a8\"],[0.3333333333333333,\"#9c179e\"],[0.4444444444444444,\"#bd3786\"],[0.5555555555555556,\"#d8576b\"],[0.6666666666666666,\"#ed7953\"],[0.7777777777777778,\"#fb9f3a\"],[0.8888888888888888,\"#fdca26\"],[1.0,\"#f0f921\"]],\"type\":\"histogram2dcontour\"}],\"histogram2d\":[{\"colorbar\":{\"outlinewidth\":0,\"ticks\":\"\"},\"colorscale\":[[0.0,\"#0d0887\"],[0.1111111111111111,\"#46039f\"],[0.2222222222222222,\"#7201a8\"],[0.3333333333333333,\"#9c179e\"],[0.4444444444444444,\"#bd3786\"],[0.5555555555555556,\"#d8576b\"],[0.6666666666666666,\"#ed7953\"],[0.7777777777777778,\"#fb9f3a\"],[0.8888888888888888,\"#fdca26\"],[1.0,\"#f0f921\"]],\"type\":\"histogram2d\"}],\"histogram\":[{\"marker\":{\"pattern\":{\"fillmode\":\"overlay\",\"size\":10,\"solidity\":0.2}},\"type\":\"histogram\"}],\"mesh3d\":[{\"colorbar\":{\"outlinewidth\":0,\"ticks\":\"\"},\"type\":\"mesh3d\"}],\"parcoords\":[{\"line\":{\"colorbar\":{\"outlinewidth\":0,\"ticks\":\"\"}},\"type\":\"parcoords\"}],\"pie\":[{\"automargin\":true,\"type\":\"pie\"}],\"scatter3d\":[{\"line\":{\"colorbar\":{\"outlinewidth\":0,\"ticks\":\"\"}},\"marker\":{\"colorbar\":{\"outlinewidth\":0,\"ticks\":\"\"}},\"type\":\"scatter3d\"}],\"scattercarpet\":[{\"marker\":{\"colorbar\":{\"outlinewidth\":0,\"ticks\":\"\"}},\"type\":\"scattercarpet\"}],\"scattergeo\":[{\"marker\":{\"colorbar\":{\"outlinewidth\":0,\"ticks\":\"\"}},\"type\":\"scattergeo\"}],\"scattergl\":[{\"marker\":{\"colorbar\":{\"outlinewidth\":0,\"ticks\":\"\"}},\"type\":\"scattergl\"}],\"scattermapbox\":[{\"marker\":{\"colorbar\":{\"outlinewidth\":0,\"ticks\":\"\"}},\"type\":\"scattermapbox\"}],\"scattermap\":[{\"marker\":{\"colorbar\":{\"outlinewidth\":0,\"ticks\":\"\"}},\"type\":\"scattermap\"}],\"scatterpolargl\":[{\"marker\":{\"colorbar\":{\"outlinewidth\":0,\"ticks\":\"\"}},\"type\":\"scatterpolargl\"}],\"scatterpolar\":[{\"marker\":{\"colorbar\":{\"outlinewidth\":0,\"ticks\":\"\"}},\"type\":\"scatterpolar\"}],\"scatter\":[{\"fillpattern\":{\"fillmode\":\"overlay\",\"size\":10,\"solidity\":0.2},\"type\":\"scatter\"}],\"scatterternary\":[{\"marker\":{\"colorbar\":{\"outlinewidth\":0,\"ticks\":\"\"}},\"type\":\"scatterternary\"}],\"surface\":[{\"colorbar\":{\"outlinewidth\":0,\"ticks\":\"\"},\"colorscale\":[[0.0,\"#0d0887\"],[0.1111111111111111,\"#46039f\"],[0.2222222222222222,\"#7201a8\"],[0.3333333333333333,\"#9c179e\"],[0.4444444444444444,\"#bd3786\"],[0.5555555555555556,\"#d8576b\"],[0.6666666666666666,\"#ed7953\"],[0.7777777777777778,\"#fb9f3a\"],[0.8888888888888888,\"#fdca26\"],[1.0,\"#f0f921\"]],\"type\":\"surface\"}],\"table\":[{\"cells\":{\"fill\":{\"color\":\"#EBF0F8\"},\"line\":{\"color\":\"white\"}},\"header\":{\"fill\":{\"color\":\"#C8D4E3\"},\"line\":{\"color\":\"white\"}},\"type\":\"table\"}]},\"layout\":{\"annotationdefaults\":{\"arrowcolor\":\"#2a3f5f\",\"arrowhead\":0,\"arrowwidth\":1},\"autotypenumbers\":\"strict\",\"coloraxis\":{\"colorbar\":{\"outlinewidth\":0,\"ticks\":\"\"}},\"colorscale\":{\"diverging\":[[0,\"#8e0152\"],[0.1,\"#c51b7d\"],[0.2,\"#de77ae\"],[0.3,\"#f1b6da\"],[0.4,\"#fde0ef\"],[0.5,\"#f7f7f7\"],[0.6,\"#e6f5d0\"],[0.7,\"#b8e186\"],[0.8,\"#7fbc41\"],[0.9,\"#4d9221\"],[1,\"#276419\"]],\"sequential\":[[0.0,\"#0d0887\"],[0.1111111111111111,\"#46039f\"],[0.2222222222222222,\"#7201a8\"],[0.3333333333333333,\"#9c179e\"],[0.4444444444444444,\"#bd3786\"],[0.5555555555555556,\"#d8576b\"],[0.6666666666666666,\"#ed7953\"],[0.7777777777777778,\"#fb9f3a\"],[0.8888888888888888,\"#fdca26\"],[1.0,\"#f0f921\"]],\"sequentialminus\":[[0.0,\"#0d0887\"],[0.1111111111111111,\"#46039f\"],[0.2222222222222222,\"#7201a8\"],[0.3333333333333333,\"#9c179e\"],[0.4444444444444444,\"#bd3786\"],[0.5555555555555556,\"#d8576b\"],[0.6666666666666666,\"#ed7953\"],[0.7777777777777778,\"#fb9f3a\"],[0.8888888888888888,\"#fdca26\"],[1.0,\"#f0f921\"]]},\"colorway\":[\"#636efa\",\"#EF553B\",\"#00cc96\",\"#ab63fa\",\"#FFA15A\",\"#19d3f3\",\"#FF6692\",\"#B6E880\",\"#FF97FF\",\"#FECB52\"],\"font\":{\"color\":\"#2a3f5f\"},\"geo\":{\"bgcolor\":\"white\",\"lakecolor\":\"white\",\"landcolor\":\"#E5ECF6\",\"showlakes\":true,\"showland\":true,\"subunitcolor\":\"white\"},\"hoverlabel\":{\"align\":\"left\"},\"hovermode\":\"closest\",\"mapbox\":{\"style\":\"light\"},\"paper_bgcolor\":\"white\",\"plot_bgcolor\":\"#E5ECF6\",\"polar\":{\"angularaxis\":{\"gridcolor\":\"white\",\"linecolor\":\"white\",\"ticks\":\"\"},\"bgcolor\":\"#E5ECF6\",\"radialaxis\":{\"gridcolor\":\"white\",\"linecolor\":\"white\",\"ticks\":\"\"}},\"scene\":{\"xaxis\":{\"backgroundcolor\":\"#E5ECF6\",\"gridcolor\":\"white\",\"gridwidth\":2,\"linecolor\":\"white\",\"showbackground\":true,\"ticks\":\"\",\"zerolinecolor\":\"white\"},\"yaxis\":{\"backgroundcolor\":\"#E5ECF6\",\"gridcolor\":\"white\",\"gridwidth\":2,\"linecolor\":\"white\",\"showbackground\":true,\"ticks\":\"\",\"zerolinecolor\":\"white\"},\"zaxis\":{\"backgroundcolor\":\"#E5ECF6\",\"gridcolor\":\"white\",\"gridwidth\":2,\"linecolor\":\"white\",\"showbackground\":true,\"ticks\":\"\",\"zerolinecolor\":\"white\"}},\"shapedefaults\":{\"line\":{\"color\":\"#2a3f5f\"}},\"ternary\":{\"aaxis\":{\"gridcolor\":\"white\",\"linecolor\":\"white\",\"ticks\":\"\"},\"baxis\":{\"gridcolor\":\"white\",\"linecolor\":\"white\",\"ticks\":\"\"},\"bgcolor\":\"#E5ECF6\",\"caxis\":{\"gridcolor\":\"white\",\"linecolor\":\"white\",\"ticks\":\"\"}},\"title\":{\"x\":0.05},\"xaxis\":{\"automargin\":true,\"gridcolor\":\"white\",\"linecolor\":\"white\",\"ticks\":\"\",\"title\":{\"standoff\":15},\"zerolinecolor\":\"white\",\"zerolinewidth\":2},\"yaxis\":{\"automargin\":true,\"gridcolor\":\"white\",\"linecolor\":\"white\",\"ticks\":\"\",\"title\":{\"standoff\":15},\"zerolinecolor\":\"white\",\"zerolinewidth\":2}}},\"title\":{\"font\":{\"color\":\"black\",\"size\":18},\"text\":\"World Population Pyramid (2023)\"},\"width\":600,\"xaxis\":{\"gridcolor\":\"lightgray\",\"tickfont\":{\"size\":12},\"title\":{\"font\":{\"size\":16},\"text\":\"Number of People\"}},\"yaxis\":{\"gridcolor\":\"lightgray\",\"range\":[0,90],\"tickfont\":{\"size\":12},\"title\":{\"font\":{\"size\":16},\"text\":\"Age\"}}},                        {\"responsive\": true}                    ).then(function(){\n",
       "                            \n",
       "var gd = document.getElementById('98bdb3f0-1136-41ea-9cce-0f5c26909beb');\n",
       "var x = new MutationObserver(function (mutations, observer) {{\n",
       "        var display = window.getComputedStyle(gd).display;\n",
       "        if (!display || display === 'none') {{\n",
       "            console.log([gd, 'removed!']);\n",
       "            Plotly.purge(gd);\n",
       "            observer.disconnect();\n",
       "        }}\n",
       "}});\n",
       "\n",
       "// Listen for the removal of the full notebook cells\n",
       "var notebookContainer = gd.closest('#notebook-container');\n",
       "if (notebookContainer) {{\n",
       "    x.observe(notebookContainer, {childList: true});\n",
       "}}\n",
       "\n",
       "// Listen for the clearing of the current output cell\n",
       "var outputEl = gd.closest('.output');\n",
       "if (outputEl) {{\n",
       "    x.observe(outputEl, {childList: true});\n",
       "}}\n",
       "\n",
       "                        })                };            </script>        </div>"
      ]
     },
     "metadata": {},
     "output_type": "display_data"
    }
   ],
   "source": [
    "py.init_notebook_mode(connected=True)\n",
    "\n",
    "ages = []\n",
    "for a in range(0,80,5):\n",
    "    ages.append(f\"{a:02d}\"+f\"{a+4:02d}\")\n",
    "\n",
    "ages.append(\"80UP\")\n",
    "\n",
    "layout_world1 = go.Layout(\n",
    "    title=\"World Population Pyramid (2023)\",\n",
    "    title_font=dict(size=18, color='black'),\n",
    "    barmode='overlay',\n",
    "    width=600,\n",
    "    height=600,\n",
    "    paper_bgcolor='#f4f4f4',\n",
    "    plot_bgcolor='#ffffff',\n",
    "    font=dict(family=\"Arial, sans-serif\", size=14, color=\"black\"),\n",
    "    xaxis=dict(\n",
    "        title='Number of People',\n",
    "        title_font=dict(size=16),\n",
    "        tickfont=dict(size=12),\n",
    "        gridcolor='lightgray'\n",
    "    ),\n",
    "    yaxis=dict(\n",
    "        range=[0, 90],\n",
    "        title='Age',\n",
    "        title_font=dict(size=16),\n",
    "        tickfont=dict(size=12),\n",
    "        gridcolor='lightgray'\n",
    "    ),\n",
    "    showlegend=True\n",
    ")\n",
    "\n",
    "bins_world1 = [go.Bar(x = world.loc[str(2023),:].filter(regex=\"Male\").values,\n",
    "               y = [int(s[:2])+1 for s in ages],\n",
    "               orientation='h',\n",
    "               name='Men',\n",
    "               marker=dict(color='olive', line=dict(color='black', width=1)),\n",
    "               hoverinfo='skip'\n",
    "               ),\n",
    "\n",
    "        go.Bar(x = -world.loc[str(2023),:].filter(regex=\"Female\").values,\n",
    "               y=[int(s[:2])+1 for s in ages],\n",
    "               orientation='h',\n",
    "               name='Women',\n",
    "               marker=dict(color='yellow', line=dict(color='black', width=1)),\n",
    "               hoverinfo='skip',\n",
    "               )\n",
    "        ]\n",
    "\n",
    "py.iplot(dict(data=bins_world1, layout=layout_world1))"
   ]
  },
  {
   "cell_type": "markdown",
   "id": "80e00696-7fe3-4ffe-ada1-c8ab66b4ba62",
   "metadata": {},
   "source": [
    "# Population pyramids for target Operation Condor countries"
   ]
  },
  {
   "cell_type": "markdown",
   "id": "98586b04-29ef-4830-a136-7336add46bd2",
   "metadata": {},
   "source": [
    "We develop a population pyramid of all of Latin America and the Carribean for regional context. This demonstrates the general level of development in this region at the beginning of the Condor period."
   ]
  },
  {
   "cell_type": "code",
   "execution_count": 10,
   "id": "c4930962-2de6-45b3-9d16-65f9af95d355",
   "metadata": {
    "scrolled": true
   },
   "outputs": [
    {
     "name": "stderr",
     "output_type": "stream",
     "text": [
      "WARNING:shelved_cache.persistent_cache:Key '-5974836463015222044' not in persistent cache.\n",
      "WARNING:shelved_cache.persistent_cache:Key '-5234745595924454688' not in persistent cache.\n",
      "WARNING:shelved_cache.persistent_cache:Key '-3921998198737521003' not in persistent cache.\n",
      "WARNING:shelved_cache.persistent_cache:Key '5610679439136569666' not in persistent cache.\n",
      "WARNING:shelved_cache.persistent_cache:Key '7056090489535267285' not in persistent cache.\n",
      "WARNING:shelved_cache.persistent_cache:Key '-8090459270923833439' not in persistent cache.\n",
      "WARNING:shelved_cache.persistent_cache:Key '-2132990415181014954' not in persistent cache.\n",
      "WARNING:shelved_cache.persistent_cache:Key '-1117092242425876002' not in persistent cache.\n",
      "WARNING:shelved_cache.persistent_cache:Key '1112039733285886983' not in persistent cache.\n",
      "WARNING:shelved_cache.persistent_cache:Key '8368715464883094548' not in persistent cache.\n",
      "WARNING:shelved_cache.persistent_cache:Key '-700626934843744412' not in persistent cache.\n",
      "WARNING:shelved_cache.persistent_cache:Key '4107892594867210995' not in persistent cache.\n",
      "WARNING:shelved_cache.persistent_cache:Key '5051279870459465608' not in persistent cache.\n",
      "WARNING:shelved_cache.persistent_cache:Key '6479580139533664115' not in persistent cache.\n",
      "WARNING:shelved_cache.persistent_cache:Key '8970583593852623838' not in persistent cache.\n",
      "WARNING:shelved_cache.persistent_cache:Key '-602818443125412850' not in persistent cache.\n",
      "WARNING:shelved_cache.persistent_cache:Key '779628177115080057' not in persistent cache.\n",
      "WARNING:shelved_cache.persistent_cache:Key '-7049426707621700924' not in persistent cache.\n",
      "WARNING:shelved_cache.persistent_cache:Key '9116646054859208553' not in persistent cache.\n",
      "WARNING:shelved_cache.persistent_cache:Key '-3885230071530388943' not in persistent cache.\n",
      "WARNING:shelved_cache.persistent_cache:Key '2456974288797806533' not in persistent cache.\n",
      "WARNING:shelved_cache.persistent_cache:Key '-7206913535172617215' not in persistent cache.\n",
      "WARNING:shelved_cache.persistent_cache:Key '4152464167400823119' not in persistent cache.\n",
      "WARNING:shelved_cache.persistent_cache:Key '-2453448806992859574' not in persistent cache.\n",
      "WARNING:shelved_cache.persistent_cache:Key '-5453033972301015274' not in persistent cache.\n",
      "WARNING:shelved_cache.persistent_cache:Key '-2956768123912533812' not in persistent cache.\n",
      "WARNING:shelved_cache.persistent_cache:Key '-4245981693974364653' not in persistent cache.\n",
      "WARNING:shelved_cache.persistent_cache:Key '8095960639937711685' not in persistent cache.\n",
      "WARNING:shelved_cache.persistent_cache:Key '-7280798638566146338' not in persistent cache.\n",
      "WARNING:shelved_cache.persistent_cache:Key '5971903505740203604' not in persistent cache.\n",
      "WARNING:shelved_cache.persistent_cache:Key '7907995379321493040' not in persistent cache.\n",
      "WARNING:shelved_cache.persistent_cache:Key '272601485449920225' not in persistent cache.\n",
      "WARNING:shelved_cache.persistent_cache:Key '6508303042347331729' not in persistent cache.\n",
      "WARNING:shelved_cache.persistent_cache:Key '-4026369182561019117' not in persistent cache.\n"
     ]
    },
    {
     "data": {
      "text/html": [
       "        <script type=\"text/javascript\">\n",
       "        window.PlotlyConfig = {MathJaxConfig: 'local'};\n",
       "        if (window.MathJax && window.MathJax.Hub && window.MathJax.Hub.Config) {window.MathJax.Hub.Config({SVG: {font: \"STIX-Web\"}});}\n",
       "        </script>\n",
       "        <script type=\"module\">import \"https://cdn.plot.ly/plotly-3.0.0.min\"</script>\n",
       "        "
      ]
     },
     "metadata": {},
     "output_type": "display_data"
    },
    {
     "data": {
      "application/vnd.plotly.v1+json": {
       "config": {
        "linkText": "Export to plot.ly",
        "plotlyServerURL": "https://plot.ly",
        "showLink": false
       },
       "data": [
        {
         "hoverinfo": "skip",
         "marker": {
          "color": "olive",
          "line": {
           "color": "black",
           "width": 1
          }
         },
         "name": "Men",
         "orientation": "h",
         "type": "bar",
         "x": {
          "bdata": "AAAA0D2leEEAAADg9yV2QQAAAACxNnRBAAAA0GVWckEAAACA5VlvQQAAAGAo9mlBAAAAgDzxZEEAAABAav9gQQAAAIAwgVxBAAAAwM5CWEEAAACAYO5UQQAAAAAm7lBBAAAAAJTVSUEAAAAAD75DQQAAAADf0TpBAAAAACT2LkEAAAAA3GAkQQ==",
          "dtype": "f8"
         },
         "y": [
          1,
          6,
          11,
          16,
          21,
          26,
          31,
          36,
          41,
          46,
          51,
          56,
          61,
          66,
          71,
          76,
          81
         ]
        },
        {
         "hoverinfo": "skip",
         "marker": {
          "color": "yellow",
          "line": {
           "color": "black",
           "width": 1
          }
         },
         "name": "Women",
         "orientation": "h",
         "type": "bar",
         "x": {
          "bdata": "AAAA0M/yd8EAAACgIqd1wQAAABC/1XPBAAAAgIsUcsEAAADA9iFvwQAAAGDE+2nBAAAAINcCZcEAAABgluhgwQAAAIBfolzBAAAAwMO/WcEAAACAFa1WwQAAAEBhSlLBAAAAANRhTMEAAACAeKxGwQAAAIBUAkDBAAAAAFPtM8EAAAAAHuguwQ==",
          "dtype": "f8"
         },
         "y": [
          1,
          6,
          11,
          16,
          21,
          26,
          31,
          36,
          41,
          46,
          51,
          56,
          61,
          66,
          71,
          76,
          81
         ]
        }
       ],
       "layout": {
        "barmode": "overlay",
        "font": {
         "color": "black",
         "family": "Arial, sans-serif",
         "size": 14
        },
        "height": 600,
        "paper_bgcolor": "#f4f4f4",
        "plot_bgcolor": "#ffffff",
        "showlegend": true,
        "template": {
         "data": {
          "bar": [
           {
            "error_x": {
             "color": "#2a3f5f"
            },
            "error_y": {
             "color": "#2a3f5f"
            },
            "marker": {
             "line": {
              "color": "#E5ECF6",
              "width": 0.5
             },
             "pattern": {
              "fillmode": "overlay",
              "size": 10,
              "solidity": 0.2
             }
            },
            "type": "bar"
           }
          ],
          "barpolar": [
           {
            "marker": {
             "line": {
              "color": "#E5ECF6",
              "width": 0.5
             },
             "pattern": {
              "fillmode": "overlay",
              "size": 10,
              "solidity": 0.2
             }
            },
            "type": "barpolar"
           }
          ],
          "carpet": [
           {
            "aaxis": {
             "endlinecolor": "#2a3f5f",
             "gridcolor": "white",
             "linecolor": "white",
             "minorgridcolor": "white",
             "startlinecolor": "#2a3f5f"
            },
            "baxis": {
             "endlinecolor": "#2a3f5f",
             "gridcolor": "white",
             "linecolor": "white",
             "minorgridcolor": "white",
             "startlinecolor": "#2a3f5f"
            },
            "type": "carpet"
           }
          ],
          "choropleth": [
           {
            "colorbar": {
             "outlinewidth": 0,
             "ticks": ""
            },
            "type": "choropleth"
           }
          ],
          "contour": [
           {
            "colorbar": {
             "outlinewidth": 0,
             "ticks": ""
            },
            "colorscale": [
             [
              0,
              "#0d0887"
             ],
             [
              0.1111111111111111,
              "#46039f"
             ],
             [
              0.2222222222222222,
              "#7201a8"
             ],
             [
              0.3333333333333333,
              "#9c179e"
             ],
             [
              0.4444444444444444,
              "#bd3786"
             ],
             [
              0.5555555555555556,
              "#d8576b"
             ],
             [
              0.6666666666666666,
              "#ed7953"
             ],
             [
              0.7777777777777778,
              "#fb9f3a"
             ],
             [
              0.8888888888888888,
              "#fdca26"
             ],
             [
              1,
              "#f0f921"
             ]
            ],
            "type": "contour"
           }
          ],
          "contourcarpet": [
           {
            "colorbar": {
             "outlinewidth": 0,
             "ticks": ""
            },
            "type": "contourcarpet"
           }
          ],
          "heatmap": [
           {
            "colorbar": {
             "outlinewidth": 0,
             "ticks": ""
            },
            "colorscale": [
             [
              0,
              "#0d0887"
             ],
             [
              0.1111111111111111,
              "#46039f"
             ],
             [
              0.2222222222222222,
              "#7201a8"
             ],
             [
              0.3333333333333333,
              "#9c179e"
             ],
             [
              0.4444444444444444,
              "#bd3786"
             ],
             [
              0.5555555555555556,
              "#d8576b"
             ],
             [
              0.6666666666666666,
              "#ed7953"
             ],
             [
              0.7777777777777778,
              "#fb9f3a"
             ],
             [
              0.8888888888888888,
              "#fdca26"
             ],
             [
              1,
              "#f0f921"
             ]
            ],
            "type": "heatmap"
           }
          ],
          "histogram": [
           {
            "marker": {
             "pattern": {
              "fillmode": "overlay",
              "size": 10,
              "solidity": 0.2
             }
            },
            "type": "histogram"
           }
          ],
          "histogram2d": [
           {
            "colorbar": {
             "outlinewidth": 0,
             "ticks": ""
            },
            "colorscale": [
             [
              0,
              "#0d0887"
             ],
             [
              0.1111111111111111,
              "#46039f"
             ],
             [
              0.2222222222222222,
              "#7201a8"
             ],
             [
              0.3333333333333333,
              "#9c179e"
             ],
             [
              0.4444444444444444,
              "#bd3786"
             ],
             [
              0.5555555555555556,
              "#d8576b"
             ],
             [
              0.6666666666666666,
              "#ed7953"
             ],
             [
              0.7777777777777778,
              "#fb9f3a"
             ],
             [
              0.8888888888888888,
              "#fdca26"
             ],
             [
              1,
              "#f0f921"
             ]
            ],
            "type": "histogram2d"
           }
          ],
          "histogram2dcontour": [
           {
            "colorbar": {
             "outlinewidth": 0,
             "ticks": ""
            },
            "colorscale": [
             [
              0,
              "#0d0887"
             ],
             [
              0.1111111111111111,
              "#46039f"
             ],
             [
              0.2222222222222222,
              "#7201a8"
             ],
             [
              0.3333333333333333,
              "#9c179e"
             ],
             [
              0.4444444444444444,
              "#bd3786"
             ],
             [
              0.5555555555555556,
              "#d8576b"
             ],
             [
              0.6666666666666666,
              "#ed7953"
             ],
             [
              0.7777777777777778,
              "#fb9f3a"
             ],
             [
              0.8888888888888888,
              "#fdca26"
             ],
             [
              1,
              "#f0f921"
             ]
            ],
            "type": "histogram2dcontour"
           }
          ],
          "mesh3d": [
           {
            "colorbar": {
             "outlinewidth": 0,
             "ticks": ""
            },
            "type": "mesh3d"
           }
          ],
          "parcoords": [
           {
            "line": {
             "colorbar": {
              "outlinewidth": 0,
              "ticks": ""
             }
            },
            "type": "parcoords"
           }
          ],
          "pie": [
           {
            "automargin": true,
            "type": "pie"
           }
          ],
          "scatter": [
           {
            "fillpattern": {
             "fillmode": "overlay",
             "size": 10,
             "solidity": 0.2
            },
            "type": "scatter"
           }
          ],
          "scatter3d": [
           {
            "line": {
             "colorbar": {
              "outlinewidth": 0,
              "ticks": ""
             }
            },
            "marker": {
             "colorbar": {
              "outlinewidth": 0,
              "ticks": ""
             }
            },
            "type": "scatter3d"
           }
          ],
          "scattercarpet": [
           {
            "marker": {
             "colorbar": {
              "outlinewidth": 0,
              "ticks": ""
             }
            },
            "type": "scattercarpet"
           }
          ],
          "scattergeo": [
           {
            "marker": {
             "colorbar": {
              "outlinewidth": 0,
              "ticks": ""
             }
            },
            "type": "scattergeo"
           }
          ],
          "scattergl": [
           {
            "marker": {
             "colorbar": {
              "outlinewidth": 0,
              "ticks": ""
             }
            },
            "type": "scattergl"
           }
          ],
          "scattermap": [
           {
            "marker": {
             "colorbar": {
              "outlinewidth": 0,
              "ticks": ""
             }
            },
            "type": "scattermap"
           }
          ],
          "scattermapbox": [
           {
            "marker": {
             "colorbar": {
              "outlinewidth": 0,
              "ticks": ""
             }
            },
            "type": "scattermapbox"
           }
          ],
          "scatterpolar": [
           {
            "marker": {
             "colorbar": {
              "outlinewidth": 0,
              "ticks": ""
             }
            },
            "type": "scatterpolar"
           }
          ],
          "scatterpolargl": [
           {
            "marker": {
             "colorbar": {
              "outlinewidth": 0,
              "ticks": ""
             }
            },
            "type": "scatterpolargl"
           }
          ],
          "scatterternary": [
           {
            "marker": {
             "colorbar": {
              "outlinewidth": 0,
              "ticks": ""
             }
            },
            "type": "scatterternary"
           }
          ],
          "surface": [
           {
            "colorbar": {
             "outlinewidth": 0,
             "ticks": ""
            },
            "colorscale": [
             [
              0,
              "#0d0887"
             ],
             [
              0.1111111111111111,
              "#46039f"
             ],
             [
              0.2222222222222222,
              "#7201a8"
             ],
             [
              0.3333333333333333,
              "#9c179e"
             ],
             [
              0.4444444444444444,
              "#bd3786"
             ],
             [
              0.5555555555555556,
              "#d8576b"
             ],
             [
              0.6666666666666666,
              "#ed7953"
             ],
             [
              0.7777777777777778,
              "#fb9f3a"
             ],
             [
              0.8888888888888888,
              "#fdca26"
             ],
             [
              1,
              "#f0f921"
             ]
            ],
            "type": "surface"
           }
          ],
          "table": [
           {
            "cells": {
             "fill": {
              "color": "#EBF0F8"
             },
             "line": {
              "color": "white"
             }
            },
            "header": {
             "fill": {
              "color": "#C8D4E3"
             },
             "line": {
              "color": "white"
             }
            },
            "type": "table"
           }
          ]
         },
         "layout": {
          "annotationdefaults": {
           "arrowcolor": "#2a3f5f",
           "arrowhead": 0,
           "arrowwidth": 1
          },
          "autotypenumbers": "strict",
          "coloraxis": {
           "colorbar": {
            "outlinewidth": 0,
            "ticks": ""
           }
          },
          "colorscale": {
           "diverging": [
            [
             0,
             "#8e0152"
            ],
            [
             0.1,
             "#c51b7d"
            ],
            [
             0.2,
             "#de77ae"
            ],
            [
             0.3,
             "#f1b6da"
            ],
            [
             0.4,
             "#fde0ef"
            ],
            [
             0.5,
             "#f7f7f7"
            ],
            [
             0.6,
             "#e6f5d0"
            ],
            [
             0.7,
             "#b8e186"
            ],
            [
             0.8,
             "#7fbc41"
            ],
            [
             0.9,
             "#4d9221"
            ],
            [
             1,
             "#276419"
            ]
           ],
           "sequential": [
            [
             0,
             "#0d0887"
            ],
            [
             0.1111111111111111,
             "#46039f"
            ],
            [
             0.2222222222222222,
             "#7201a8"
            ],
            [
             0.3333333333333333,
             "#9c179e"
            ],
            [
             0.4444444444444444,
             "#bd3786"
            ],
            [
             0.5555555555555556,
             "#d8576b"
            ],
            [
             0.6666666666666666,
             "#ed7953"
            ],
            [
             0.7777777777777778,
             "#fb9f3a"
            ],
            [
             0.8888888888888888,
             "#fdca26"
            ],
            [
             1,
             "#f0f921"
            ]
           ],
           "sequentialminus": [
            [
             0,
             "#0d0887"
            ],
            [
             0.1111111111111111,
             "#46039f"
            ],
            [
             0.2222222222222222,
             "#7201a8"
            ],
            [
             0.3333333333333333,
             "#9c179e"
            ],
            [
             0.4444444444444444,
             "#bd3786"
            ],
            [
             0.5555555555555556,
             "#d8576b"
            ],
            [
             0.6666666666666666,
             "#ed7953"
            ],
            [
             0.7777777777777778,
             "#fb9f3a"
            ],
            [
             0.8888888888888888,
             "#fdca26"
            ],
            [
             1,
             "#f0f921"
            ]
           ]
          },
          "colorway": [
           "#636efa",
           "#EF553B",
           "#00cc96",
           "#ab63fa",
           "#FFA15A",
           "#19d3f3",
           "#FF6692",
           "#B6E880",
           "#FF97FF",
           "#FECB52"
          ],
          "font": {
           "color": "#2a3f5f"
          },
          "geo": {
           "bgcolor": "white",
           "lakecolor": "white",
           "landcolor": "#E5ECF6",
           "showlakes": true,
           "showland": true,
           "subunitcolor": "white"
          },
          "hoverlabel": {
           "align": "left"
          },
          "hovermode": "closest",
          "mapbox": {
           "style": "light"
          },
          "paper_bgcolor": "white",
          "plot_bgcolor": "#E5ECF6",
          "polar": {
           "angularaxis": {
            "gridcolor": "white",
            "linecolor": "white",
            "ticks": ""
           },
           "bgcolor": "#E5ECF6",
           "radialaxis": {
            "gridcolor": "white",
            "linecolor": "white",
            "ticks": ""
           }
          },
          "scene": {
           "xaxis": {
            "backgroundcolor": "#E5ECF6",
            "gridcolor": "white",
            "gridwidth": 2,
            "linecolor": "white",
            "showbackground": true,
            "ticks": "",
            "zerolinecolor": "white"
           },
           "yaxis": {
            "backgroundcolor": "#E5ECF6",
            "gridcolor": "white",
            "gridwidth": 2,
            "linecolor": "white",
            "showbackground": true,
            "ticks": "",
            "zerolinecolor": "white"
           },
           "zaxis": {
            "backgroundcolor": "#E5ECF6",
            "gridcolor": "white",
            "gridwidth": 2,
            "linecolor": "white",
            "showbackground": true,
            "ticks": "",
            "zerolinecolor": "white"
           }
          },
          "shapedefaults": {
           "line": {
            "color": "#2a3f5f"
           }
          },
          "ternary": {
           "aaxis": {
            "gridcolor": "white",
            "linecolor": "white",
            "ticks": ""
           },
           "baxis": {
            "gridcolor": "white",
            "linecolor": "white",
            "ticks": ""
           },
           "bgcolor": "#E5ECF6",
           "caxis": {
            "gridcolor": "white",
            "linecolor": "white",
            "ticks": ""
           }
          },
          "title": {
           "x": 0.05
          },
          "xaxis": {
           "automargin": true,
           "gridcolor": "white",
           "linecolor": "white",
           "ticks": "",
           "title": {
            "standoff": 15
           },
           "zerolinecolor": "white",
           "zerolinewidth": 2
          },
          "yaxis": {
           "automargin": true,
           "gridcolor": "white",
           "linecolor": "white",
           "ticks": "",
           "title": {
            "standoff": 15
           },
           "zerolinecolor": "white",
           "zerolinewidth": 2
          }
         }
        },
        "title": {
         "font": {
          "color": "black",
          "size": 18
         },
         "text": "Population Pyramid of Latin America and the Caribbean (1980)"
        },
        "width": 600,
        "xaxis": {
         "gridcolor": "lightgray",
         "tickfont": {
          "size": 12
         },
         "title": {
          "font": {
           "size": 16
          },
          "text": "Number of People"
         }
        },
        "yaxis": {
         "gridcolor": "lightgray",
         "range": [
          0,
          90
         ],
         "tickfont": {
          "size": 12
         },
         "title": {
          "font": {
           "size": 16
          },
          "text": "Age"
         }
        }
       }
      },
      "text/html": [
       "<div>            <script src=\"https://cdnjs.cloudflare.com/ajax/libs/mathjax/2.7.5/MathJax.js?config=TeX-AMS-MML_SVG\"></script><script type=\"text/javascript\">if (window.MathJax && window.MathJax.Hub && window.MathJax.Hub.Config) {window.MathJax.Hub.Config({SVG: {font: \"STIX-Web\"}});}</script>                <script type=\"text/javascript\">window.PlotlyConfig = {MathJaxConfig: 'local'};</script>\n",
       "        <script charset=\"utf-8\" src=\"https://cdn.plot.ly/plotly-3.0.0.min.js\"></script>                <div id=\"8208b3ad-f648-4a66-aa32-59fb76907302\" class=\"plotly-graph-div\" style=\"height:600px; width:600px;\"></div>            <script type=\"text/javascript\">                window.PLOTLYENV=window.PLOTLYENV || {};                                if (document.getElementById(\"8208b3ad-f648-4a66-aa32-59fb76907302\")) {                    Plotly.newPlot(                        \"8208b3ad-f648-4a66-aa32-59fb76907302\",                        [{\"hoverinfo\":\"skip\",\"marker\":{\"color\":\"olive\",\"line\":{\"color\":\"black\",\"width\":1}},\"name\":\"Men\",\"orientation\":\"h\",\"x\":{\"dtype\":\"f8\",\"bdata\":\"AAAA0D2leEEAAADg9yV2QQAAAACxNnRBAAAA0GVWckEAAACA5VlvQQAAAGAo9mlBAAAAgDzxZEEAAABAav9gQQAAAIAwgVxBAAAAwM5CWEEAAACAYO5UQQAAAAAm7lBBAAAAAJTVSUEAAAAAD75DQQAAAADf0TpBAAAAACT2LkEAAAAA3GAkQQ==\"},\"y\":[1,6,11,16,21,26,31,36,41,46,51,56,61,66,71,76,81],\"type\":\"bar\"},{\"hoverinfo\":\"skip\",\"marker\":{\"color\":\"yellow\",\"line\":{\"color\":\"black\",\"width\":1}},\"name\":\"Women\",\"orientation\":\"h\",\"x\":{\"dtype\":\"f8\",\"bdata\":\"AAAA0M\\u002fyd8EAAACgIqd1wQAAABC\\u002f1XPBAAAAgIsUcsEAAADA9iFvwQAAAGDE+2nBAAAAINcCZcEAAABgluhgwQAAAIBfolzBAAAAwMO\\u002fWcEAAACAFa1WwQAAAEBhSlLBAAAAANRhTMEAAACAeKxGwQAAAIBUAkDBAAAAAFPtM8EAAAAAHuguwQ==\"},\"y\":[1,6,11,16,21,26,31,36,41,46,51,56,61,66,71,76,81],\"type\":\"bar\"}],                        {\"barmode\":\"overlay\",\"font\":{\"color\":\"black\",\"family\":\"Arial, sans-serif\",\"size\":14},\"height\":600,\"paper_bgcolor\":\"#f4f4f4\",\"plot_bgcolor\":\"#ffffff\",\"showlegend\":true,\"template\":{\"data\":{\"barpolar\":[{\"marker\":{\"line\":{\"color\":\"#E5ECF6\",\"width\":0.5},\"pattern\":{\"fillmode\":\"overlay\",\"size\":10,\"solidity\":0.2}},\"type\":\"barpolar\"}],\"bar\":[{\"error_x\":{\"color\":\"#2a3f5f\"},\"error_y\":{\"color\":\"#2a3f5f\"},\"marker\":{\"line\":{\"color\":\"#E5ECF6\",\"width\":0.5},\"pattern\":{\"fillmode\":\"overlay\",\"size\":10,\"solidity\":0.2}},\"type\":\"bar\"}],\"carpet\":[{\"aaxis\":{\"endlinecolor\":\"#2a3f5f\",\"gridcolor\":\"white\",\"linecolor\":\"white\",\"minorgridcolor\":\"white\",\"startlinecolor\":\"#2a3f5f\"},\"baxis\":{\"endlinecolor\":\"#2a3f5f\",\"gridcolor\":\"white\",\"linecolor\":\"white\",\"minorgridcolor\":\"white\",\"startlinecolor\":\"#2a3f5f\"},\"type\":\"carpet\"}],\"choropleth\":[{\"colorbar\":{\"outlinewidth\":0,\"ticks\":\"\"},\"type\":\"choropleth\"}],\"contourcarpet\":[{\"colorbar\":{\"outlinewidth\":0,\"ticks\":\"\"},\"type\":\"contourcarpet\"}],\"contour\":[{\"colorbar\":{\"outlinewidth\":0,\"ticks\":\"\"},\"colorscale\":[[0.0,\"#0d0887\"],[0.1111111111111111,\"#46039f\"],[0.2222222222222222,\"#7201a8\"],[0.3333333333333333,\"#9c179e\"],[0.4444444444444444,\"#bd3786\"],[0.5555555555555556,\"#d8576b\"],[0.6666666666666666,\"#ed7953\"],[0.7777777777777778,\"#fb9f3a\"],[0.8888888888888888,\"#fdca26\"],[1.0,\"#f0f921\"]],\"type\":\"contour\"}],\"heatmap\":[{\"colorbar\":{\"outlinewidth\":0,\"ticks\":\"\"},\"colorscale\":[[0.0,\"#0d0887\"],[0.1111111111111111,\"#46039f\"],[0.2222222222222222,\"#7201a8\"],[0.3333333333333333,\"#9c179e\"],[0.4444444444444444,\"#bd3786\"],[0.5555555555555556,\"#d8576b\"],[0.6666666666666666,\"#ed7953\"],[0.7777777777777778,\"#fb9f3a\"],[0.8888888888888888,\"#fdca26\"],[1.0,\"#f0f921\"]],\"type\":\"heatmap\"}],\"histogram2dcontour\":[{\"colorbar\":{\"outlinewidth\":0,\"ticks\":\"\"},\"colorscale\":[[0.0,\"#0d0887\"],[0.1111111111111111,\"#46039f\"],[0.2222222222222222,\"#7201a8\"],[0.3333333333333333,\"#9c179e\"],[0.4444444444444444,\"#bd3786\"],[0.5555555555555556,\"#d8576b\"],[0.6666666666666666,\"#ed7953\"],[0.7777777777777778,\"#fb9f3a\"],[0.8888888888888888,\"#fdca26\"],[1.0,\"#f0f921\"]],\"type\":\"histogram2dcontour\"}],\"histogram2d\":[{\"colorbar\":{\"outlinewidth\":0,\"ticks\":\"\"},\"colorscale\":[[0.0,\"#0d0887\"],[0.1111111111111111,\"#46039f\"],[0.2222222222222222,\"#7201a8\"],[0.3333333333333333,\"#9c179e\"],[0.4444444444444444,\"#bd3786\"],[0.5555555555555556,\"#d8576b\"],[0.6666666666666666,\"#ed7953\"],[0.7777777777777778,\"#fb9f3a\"],[0.8888888888888888,\"#fdca26\"],[1.0,\"#f0f921\"]],\"type\":\"histogram2d\"}],\"histogram\":[{\"marker\":{\"pattern\":{\"fillmode\":\"overlay\",\"size\":10,\"solidity\":0.2}},\"type\":\"histogram\"}],\"mesh3d\":[{\"colorbar\":{\"outlinewidth\":0,\"ticks\":\"\"},\"type\":\"mesh3d\"}],\"parcoords\":[{\"line\":{\"colorbar\":{\"outlinewidth\":0,\"ticks\":\"\"}},\"type\":\"parcoords\"}],\"pie\":[{\"automargin\":true,\"type\":\"pie\"}],\"scatter3d\":[{\"line\":{\"colorbar\":{\"outlinewidth\":0,\"ticks\":\"\"}},\"marker\":{\"colorbar\":{\"outlinewidth\":0,\"ticks\":\"\"}},\"type\":\"scatter3d\"}],\"scattercarpet\":[{\"marker\":{\"colorbar\":{\"outlinewidth\":0,\"ticks\":\"\"}},\"type\":\"scattercarpet\"}],\"scattergeo\":[{\"marker\":{\"colorbar\":{\"outlinewidth\":0,\"ticks\":\"\"}},\"type\":\"scattergeo\"}],\"scattergl\":[{\"marker\":{\"colorbar\":{\"outlinewidth\":0,\"ticks\":\"\"}},\"type\":\"scattergl\"}],\"scattermapbox\":[{\"marker\":{\"colorbar\":{\"outlinewidth\":0,\"ticks\":\"\"}},\"type\":\"scattermapbox\"}],\"scattermap\":[{\"marker\":{\"colorbar\":{\"outlinewidth\":0,\"ticks\":\"\"}},\"type\":\"scattermap\"}],\"scatterpolargl\":[{\"marker\":{\"colorbar\":{\"outlinewidth\":0,\"ticks\":\"\"}},\"type\":\"scatterpolargl\"}],\"scatterpolar\":[{\"marker\":{\"colorbar\":{\"outlinewidth\":0,\"ticks\":\"\"}},\"type\":\"scatterpolar\"}],\"scatter\":[{\"fillpattern\":{\"fillmode\":\"overlay\",\"size\":10,\"solidity\":0.2},\"type\":\"scatter\"}],\"scatterternary\":[{\"marker\":{\"colorbar\":{\"outlinewidth\":0,\"ticks\":\"\"}},\"type\":\"scatterternary\"}],\"surface\":[{\"colorbar\":{\"outlinewidth\":0,\"ticks\":\"\"},\"colorscale\":[[0.0,\"#0d0887\"],[0.1111111111111111,\"#46039f\"],[0.2222222222222222,\"#7201a8\"],[0.3333333333333333,\"#9c179e\"],[0.4444444444444444,\"#bd3786\"],[0.5555555555555556,\"#d8576b\"],[0.6666666666666666,\"#ed7953\"],[0.7777777777777778,\"#fb9f3a\"],[0.8888888888888888,\"#fdca26\"],[1.0,\"#f0f921\"]],\"type\":\"surface\"}],\"table\":[{\"cells\":{\"fill\":{\"color\":\"#EBF0F8\"},\"line\":{\"color\":\"white\"}},\"header\":{\"fill\":{\"color\":\"#C8D4E3\"},\"line\":{\"color\":\"white\"}},\"type\":\"table\"}]},\"layout\":{\"annotationdefaults\":{\"arrowcolor\":\"#2a3f5f\",\"arrowhead\":0,\"arrowwidth\":1},\"autotypenumbers\":\"strict\",\"coloraxis\":{\"colorbar\":{\"outlinewidth\":0,\"ticks\":\"\"}},\"colorscale\":{\"diverging\":[[0,\"#8e0152\"],[0.1,\"#c51b7d\"],[0.2,\"#de77ae\"],[0.3,\"#f1b6da\"],[0.4,\"#fde0ef\"],[0.5,\"#f7f7f7\"],[0.6,\"#e6f5d0\"],[0.7,\"#b8e186\"],[0.8,\"#7fbc41\"],[0.9,\"#4d9221\"],[1,\"#276419\"]],\"sequential\":[[0.0,\"#0d0887\"],[0.1111111111111111,\"#46039f\"],[0.2222222222222222,\"#7201a8\"],[0.3333333333333333,\"#9c179e\"],[0.4444444444444444,\"#bd3786\"],[0.5555555555555556,\"#d8576b\"],[0.6666666666666666,\"#ed7953\"],[0.7777777777777778,\"#fb9f3a\"],[0.8888888888888888,\"#fdca26\"],[1.0,\"#f0f921\"]],\"sequentialminus\":[[0.0,\"#0d0887\"],[0.1111111111111111,\"#46039f\"],[0.2222222222222222,\"#7201a8\"],[0.3333333333333333,\"#9c179e\"],[0.4444444444444444,\"#bd3786\"],[0.5555555555555556,\"#d8576b\"],[0.6666666666666666,\"#ed7953\"],[0.7777777777777778,\"#fb9f3a\"],[0.8888888888888888,\"#fdca26\"],[1.0,\"#f0f921\"]]},\"colorway\":[\"#636efa\",\"#EF553B\",\"#00cc96\",\"#ab63fa\",\"#FFA15A\",\"#19d3f3\",\"#FF6692\",\"#B6E880\",\"#FF97FF\",\"#FECB52\"],\"font\":{\"color\":\"#2a3f5f\"},\"geo\":{\"bgcolor\":\"white\",\"lakecolor\":\"white\",\"landcolor\":\"#E5ECF6\",\"showlakes\":true,\"showland\":true,\"subunitcolor\":\"white\"},\"hoverlabel\":{\"align\":\"left\"},\"hovermode\":\"closest\",\"mapbox\":{\"style\":\"light\"},\"paper_bgcolor\":\"white\",\"plot_bgcolor\":\"#E5ECF6\",\"polar\":{\"angularaxis\":{\"gridcolor\":\"white\",\"linecolor\":\"white\",\"ticks\":\"\"},\"bgcolor\":\"#E5ECF6\",\"radialaxis\":{\"gridcolor\":\"white\",\"linecolor\":\"white\",\"ticks\":\"\"}},\"scene\":{\"xaxis\":{\"backgroundcolor\":\"#E5ECF6\",\"gridcolor\":\"white\",\"gridwidth\":2,\"linecolor\":\"white\",\"showbackground\":true,\"ticks\":\"\",\"zerolinecolor\":\"white\"},\"yaxis\":{\"backgroundcolor\":\"#E5ECF6\",\"gridcolor\":\"white\",\"gridwidth\":2,\"linecolor\":\"white\",\"showbackground\":true,\"ticks\":\"\",\"zerolinecolor\":\"white\"},\"zaxis\":{\"backgroundcolor\":\"#E5ECF6\",\"gridcolor\":\"white\",\"gridwidth\":2,\"linecolor\":\"white\",\"showbackground\":true,\"ticks\":\"\",\"zerolinecolor\":\"white\"}},\"shapedefaults\":{\"line\":{\"color\":\"#2a3f5f\"}},\"ternary\":{\"aaxis\":{\"gridcolor\":\"white\",\"linecolor\":\"white\",\"ticks\":\"\"},\"baxis\":{\"gridcolor\":\"white\",\"linecolor\":\"white\",\"ticks\":\"\"},\"bgcolor\":\"#E5ECF6\",\"caxis\":{\"gridcolor\":\"white\",\"linecolor\":\"white\",\"ticks\":\"\"}},\"title\":{\"x\":0.05},\"xaxis\":{\"automargin\":true,\"gridcolor\":\"white\",\"linecolor\":\"white\",\"ticks\":\"\",\"title\":{\"standoff\":15},\"zerolinecolor\":\"white\",\"zerolinewidth\":2},\"yaxis\":{\"automargin\":true,\"gridcolor\":\"white\",\"linecolor\":\"white\",\"ticks\":\"\",\"title\":{\"standoff\":15},\"zerolinecolor\":\"white\",\"zerolinewidth\":2}}},\"title\":{\"font\":{\"color\":\"black\",\"size\":18},\"text\":\"Population Pyramid of Latin America and the Caribbean (1980)\"},\"width\":600,\"xaxis\":{\"gridcolor\":\"lightgray\",\"tickfont\":{\"size\":12},\"title\":{\"font\":{\"size\":16},\"text\":\"Number of People\"}},\"yaxis\":{\"gridcolor\":\"lightgray\",\"range\":[0,90],\"tickfont\":{\"size\":12},\"title\":{\"font\":{\"size\":16},\"text\":\"Age\"}}},                        {\"responsive\": true}                    ).then(function(){\n",
       "                            \n",
       "var gd = document.getElementById('8208b3ad-f648-4a66-aa32-59fb76907302');\n",
       "var x = new MutationObserver(function (mutations, observer) {{\n",
       "        var display = window.getComputedStyle(gd).display;\n",
       "        if (!display || display === 'none') {{\n",
       "            console.log([gd, 'removed!']);\n",
       "            Plotly.purge(gd);\n",
       "            observer.disconnect();\n",
       "        }}\n",
       "}});\n",
       "\n",
       "// Listen for the removal of the full notebook cells\n",
       "var notebookContainer = gd.closest('#notebook-container');\n",
       "if (notebookContainer) {{\n",
       "    x.observe(notebookContainer, {childList: true});\n",
       "}}\n",
       "\n",
       "// Listen for the clearing of the current output cell\n",
       "var outputEl = gd.closest('.output');\n",
       "if (outputEl) {{\n",
       "    x.observe(outputEl, {childList: true});\n",
       "}}\n",
       "\n",
       "                        })                };            </script>        </div>"
      ]
     },
     "metadata": {},
     "output_type": "display_data"
    }
   ],
   "source": [
    "# Regional Context\n",
    "    # All of Latin America & the Caribbean (TLA)\n",
    "\n",
    "ages = []\n",
    "for a in range(0,80,5):\n",
    "    ages.append(f\"{a:02d}\"+f\"{a+4:02d}\")\n",
    "\n",
    "ages.append(\"80UP\")\n",
    "\n",
    "country_choice_2 = \"TLA\"\n",
    "LA_caribbean = wbdata.get_dataframe(categories,country=country_choice_2)\n",
    "\n",
    "# Creating a population pyramid\n",
    "py.init_notebook_mode(connected=True)\n",
    "\n",
    "layout_LA_caribbean = go.Layout(\n",
    "    title=\"Population Pyramid of Latin America and the Caribbean (1980)\",\n",
    "    title_font=dict(size=18, color='black'),\n",
    "    barmode='overlay',\n",
    "    width=600,\n",
    "    height=600,\n",
    "    paper_bgcolor='#f4f4f4',\n",
    "    plot_bgcolor='#ffffff',\n",
    "    font=dict(family=\"Arial, sans-serif\", size=14, color=\"black\"),\n",
    "    xaxis=dict(\n",
    "        title='Number of People',\n",
    "        title_font=dict(size=16),\n",
    "        tickfont=dict(size=12),\n",
    "        gridcolor='lightgray'\n",
    "    ),\n",
    "    yaxis=dict(\n",
    "        range=[0, 90],\n",
    "        title='Age',\n",
    "        title_font=dict(size=16),\n",
    "        tickfont=dict(size=12),\n",
    "        gridcolor='lightgray'\n",
    "    ),\n",
    "    showlegend=True\n",
    ")\n",
    "\n",
    "bins_LA_caribbean = [go.Bar(x = LA_caribbean.loc[str(1980),:].filter(regex=\"Male\").values,\n",
    "               y = [int(s[:2])+1 for s in ages],\n",
    "               orientation='h',\n",
    "               name='Men',\n",
    "               marker=dict(color='olive', line=dict(color='black', width=1)),\n",
    "               hoverinfo='skip'\n",
    "               ),\n",
    "\n",
    "        go.Bar(x = -LA_caribbean.loc[str(1980),:].filter(regex=\"Female\").values,\n",
    "               y = [int(s[:2])+1 for s in ages],\n",
    "               orientation='h',\n",
    "               name='Women',\n",
    "               marker=dict(color='yellow', line=dict(color='black', width=1)),\n",
    "               hoverinfo='skip',\n",
    "               )\n",
    "        ]\n",
    "\n",
    "py.iplot(dict(data=bins_LA_caribbean, layout=layout_LA_caribbean))"
   ]
  },
  {
   "cell_type": "code",
   "execution_count": 11,
   "id": "855caae7-bb19-4d82-bdfc-4619a6695bc8",
   "metadata": {},
   "outputs": [
    {
     "name": "stderr",
     "output_type": "stream",
     "text": [
      "WARNING:shelved_cache.persistent_cache:Key '6385533253743685478' not in persistent cache.\n",
      "WARNING:shelved_cache.persistent_cache:Key '482054957703343435' not in persistent cache.\n",
      "WARNING:shelved_cache.persistent_cache:Key '8486717294839973517' not in persistent cache.\n",
      "WARNING:shelved_cache.persistent_cache:Key '1214866738041835794' not in persistent cache.\n",
      "WARNING:shelved_cache.persistent_cache:Key '1954972497026554420' not in persistent cache.\n",
      "WARNING:shelved_cache.persistent_cache:Key '8616318179240825788' not in persistent cache.\n",
      "WARNING:shelved_cache.persistent_cache:Key '8779649661107623058' not in persistent cache.\n",
      "WARNING:shelved_cache.persistent_cache:Key '5089358405153853232' not in persistent cache.\n",
      "WARNING:shelved_cache.persistent_cache:Key '-3072028771486041940' not in persistent cache.\n",
      "WARNING:shelved_cache.persistent_cache:Key '4137331999015612155' not in persistent cache.\n",
      "WARNING:shelved_cache.persistent_cache:Key '-7249943776090229660' not in persistent cache.\n",
      "WARNING:shelved_cache.persistent_cache:Key '-6995706363540903697' not in persistent cache.\n",
      "WARNING:shelved_cache.persistent_cache:Key '3289650533528752747' not in persistent cache.\n",
      "WARNING:shelved_cache.persistent_cache:Key '-7947732769679144774' not in persistent cache.\n",
      "WARNING:shelved_cache.persistent_cache:Key '-8458619971313271856' not in persistent cache.\n",
      "WARNING:shelved_cache.persistent_cache:Key '6297832846442509934' not in persistent cache.\n",
      "WARNING:shelved_cache.persistent_cache:Key '-3007106582577194966' not in persistent cache.\n",
      "WARNING:shelved_cache.persistent_cache:Key '5345806440304268857' not in persistent cache.\n",
      "WARNING:shelved_cache.persistent_cache:Key '-5891576862903628664' not in persistent cache.\n",
      "WARNING:shelved_cache.persistent_cache:Key '8864875954852153126' not in persistent cache.\n",
      "WARNING:shelved_cache.persistent_cache:Key '3808401436918872060' not in persistent cache.\n",
      "WARNING:shelved_cache.persistent_cache:Key '-6739258328390488072' not in persistent cache.\n",
      "WARNING:shelved_cache.persistent_cache:Key '6240546468242322037' not in persistent cache.\n",
      "WARNING:shelved_cache.persistent_cache:Key '-117923690860554166' not in persistent cache.\n",
      "WARNING:shelved_cache.persistent_cache:Key '-6414413260459637521' not in persistent cache.\n",
      "WARNING:shelved_cache.persistent_cache:Key '-8225133178038566018' not in persistent cache.\n",
      "WARNING:shelved_cache.persistent_cache:Key '-5074543697783824631' not in persistent cache.\n",
      "WARNING:shelved_cache.persistent_cache:Key '2145865274946134538' not in persistent cache.\n",
      "WARNING:shelved_cache.persistent_cache:Key '7667330432997098793' not in persistent cache.\n",
      "WARNING:shelved_cache.persistent_cache:Key '7023114971268239370' not in persistent cache.\n",
      "WARNING:shelved_cache.persistent_cache:Key '-4168225774208676982' not in persistent cache.\n",
      "WARNING:shelved_cache.persistent_cache:Key '-3355394471861542034' not in persistent cache.\n"
     ]
    },
    {
     "data": {
      "application/vnd.plotly.v1+json": {
       "config": {
        "plotlyServerURL": "https://plot.ly"
       },
       "data": [
        {
         "hoverinfo": "skip",
         "marker": {
          "color": "olive",
          "line": {
           "color": "black",
           "width": 1
          }
         },
         "name": "CHL - Men",
         "orientation": "h",
         "type": "bar",
         "x": {
          "bdata": "AAAAABzLIkEAAAAAJokgQQAAAAB45BxBAAAAAHSaGEEAAAAArLUVQQAAAADIHRRBAAAAAPA1E0EAAAAAGMQNQQAAAAAg7AdBAAAAAKiHBEEAAAAAONoAQQAAAAAQbvpAAAAAAKCH9EAAAAAAgITtQAAAAAAA8+FAAAAAAIAg0UAAAAAAAPu9QA==",
          "dtype": "f8"
         },
         "xaxis": "x",
         "y": [
          1,
          6,
          11,
          16,
          21,
          26,
          31,
          36,
          41,
          46,
          51,
          56,
          61,
          66,
          71,
          76,
          81
         ],
         "yaxis": "y"
        },
        {
         "hoverinfo": "skip",
         "marker": {
          "color": "yellow",
          "line": {
           "color": "black",
           "width": 1
          }
         },
         "name": "CHL - Women",
         "orientation": "h",
         "type": "bar",
         "x": {
          "bdata": "AAAAAEh4IsEAAAAAAEcgwQAAAAC4YxzBAAAAAGTCF8EAAAAALPYUwQAAAADMbhPBAAAAAISQEsEAAAAA4CINwQAAAABwuAfBAAAAANi9BMEAAAAA+F0BwQAAAADgufvAAAAAAHAr9sAAAAAAgJbwwAAAAADAsOXAAAAAAEBV18AAAAAAAHrKwA==",
          "dtype": "f8"
         },
         "xaxis": "x",
         "y": [
          1,
          6,
          11,
          16,
          21,
          26,
          31,
          36,
          41,
          46,
          51,
          56,
          61,
          66,
          71,
          76,
          81
         ],
         "yaxis": "y"
        },
        {
         "hoverinfo": "skip",
         "marker": {
          "color": "olive",
          "line": {
           "color": "black",
           "width": 1
          }
         },
         "name": "BRA - Men",
         "orientation": "h",
         "type": "bar",
         "x": {
          "bdata": "AAAAgHSwWEEAAAAAbkNUQQAAAMBOc1BBAAAAgN2ES0EAAACAoY9HQQAAAICbSERBAAAAAPUSQkEAAAAAn1E+QQAAAAAYojhBAAAAACUcNUEAAAAAax4xQQAAAABcaypBAAAAAF42I0EAAAAAxF4ZQQAAAADwmg9BAAAAAKBV/kAAAAAAQJ7wQA==",
          "dtype": "f8"
         },
         "xaxis": "x2",
         "y": [
          1,
          6,
          11,
          16,
          21,
          26,
          31,
          36,
          41,
          46,
          51,
          56,
          61,
          66,
          71,
          76,
          81
         ],
         "yaxis": "y2"
        },
        {
         "hoverinfo": "skip",
         "marker": {
          "color": "yellow",
          "line": {
           "color": "black",
           "width": 1
          }
         },
         "name": "BRA - Women",
         "orientation": "h",
         "type": "bar",
         "x": {
          "bdata": "AAAAwABDWMEAAACAmBdUwQAAAMD1QVDBAAAAgLAsSsEAAACAySdHwQAAAIArU0XBAAAAADH+QsEAAAAAfag+wQAAAAAwPjjBAAAAADySNMEAAAAATXIwwQAAAACctinBAAAAAJpCI8EAAAAAOFUawQAAAAAMXhHBAAAAAHAtAsEAAAAAoPj3wA==",
          "dtype": "f8"
         },
         "xaxis": "x2",
         "y": [
          1,
          6,
          11,
          16,
          21,
          26,
          31,
          36,
          41,
          46,
          51,
          56,
          61,
          66,
          71,
          76,
          81
         ],
         "yaxis": "y2"
        },
        {
         "hoverinfo": "skip",
         "marker": {
          "color": "olive",
          "line": {
           "color": "black",
           "width": 1
          }
         },
         "name": "ARG - Men",
         "orientation": "h",
         "type": "bar",
         "x": {
          "bdata": "AAAAAPZpMUEAAAAApXAwQQAAAADgbS5BAAAAAPK8KkEAAAAAwiUoQQAAAACYwidBAAAAAJSeJ0EAAAAAphAmQQAAAABKrSNBAAAAAFwQIkEAAAAAugYgQQAAAAAQ9BpBAAAAANDDFEEAAAAA6FEOQQAAAAA4WQNBAAAAAHAl8kAAAAAAgEfaQA==",
          "dtype": "f8"
         },
         "xaxis": "x3",
         "y": [
          1,
          6,
          11,
          16,
          21,
          26,
          31,
          36,
          41,
          46,
          51,
          56,
          61,
          66,
          71,
          76,
          81
         ],
         "yaxis": "y3"
        },
        {
         "hoverinfo": "skip",
         "marker": {
          "color": "yellow",
          "line": {
           "color": "black",
           "width": 1
          }
         },
         "name": "ARG - Women",
         "orientation": "h",
         "type": "bar",
         "x": {
          "bdata": "AAAAAE79MMEAAAAAkxIwwQAAAADg8S3BAAAAAOLTKsEAAAAA8JMowQAAAABO7yfBAAAAACImKMEAAAAANjQmwQAAAAAaviPBAAAAAET2IcEAAAAAXEsewQAAAADoOBnBAAAAALj8E8EAAAAAMAMOwQAAAAA4WgXBAAAAAJAU+MAAAAAAQGfnwA==",
          "dtype": "f8"
         },
         "xaxis": "x3",
         "y": [
          1,
          6,
          11,
          16,
          21,
          26,
          31,
          36,
          41,
          46,
          51,
          56,
          61,
          66,
          71,
          76,
          81
         ],
         "yaxis": "y3"
        },
        {
         "hoverinfo": "skip",
         "marker": {
          "color": "olive",
          "line": {
           "color": "black",
           "width": 1
          }
         },
         "name": "PER - Men",
         "orientation": "h",
         "type": "bar",
         "x": {
          "bdata": "AAAAAF5aLEEAAAAA2jQmQQAAAAAcViJBAAAAAHimHUEAAAAA1PcZQQAAAAAwjhZBAAAAAGDWEkEAAAAA6P4PQQAAAAColwpBAAAAAJC0B0EAAAAAEFEEQQAAAABAOwBBAAAAABC9+kAAAAAAgJrzQAAAAACAbOlAAAAAAIC/2UAAAAAAACnPQA==",
          "dtype": "f8"
         },
         "xaxis": "x4",
         "y": [
          1,
          6,
          11,
          16,
          21,
          26,
          31,
          36,
          41,
          46,
          51,
          56,
          61,
          66,
          71,
          76,
          81
         ],
         "yaxis": "y4"
        },
        {
         "hoverinfo": "skip",
         "marker": {
          "color": "yellow",
          "line": {
           "color": "black",
           "width": 1
          }
         },
         "name": "PER - Women",
         "orientation": "h",
         "type": "bar",
         "x": {
          "bdata": "AAAAAKC7K8EAAAAAYuElwQAAAACsEiLBAAAAANQ7HcEAAAAACKcZwQAAAADETBbBAAAAAKyaEsEAAAAAoHYPwQAAAAB4LwrBAAAAAIBxB8EAAAAAcFgEwQAAAACApwDBAAAAAGBc/MAAAAAAEEv1wAAAAACApezAAAAAAEBq3sAAAAAAwOPUwA==",
          "dtype": "f8"
         },
         "xaxis": "x4",
         "y": [
          1,
          6,
          11,
          16,
          21,
          26,
          31,
          36,
          41,
          46,
          51,
          56,
          61,
          66,
          71,
          76,
          81
         ],
         "yaxis": "y4"
        }
       ],
       "layout": {
        "annotations": [
         {
          "font": {
           "size": 16
          },
          "showarrow": false,
          "text": "Chile",
          "x": 0.225,
          "xanchor": "center",
          "xref": "paper",
          "y": 1,
          "yanchor": "bottom",
          "yref": "paper"
         },
         {
          "font": {
           "size": 16
          },
          "showarrow": false,
          "text": "Brazil",
          "x": 0.775,
          "xanchor": "center",
          "xref": "paper",
          "y": 1,
          "yanchor": "bottom",
          "yref": "paper"
         },
         {
          "font": {
           "size": 16
          },
          "showarrow": false,
          "text": "Argentina",
          "x": 0.225,
          "xanchor": "center",
          "xref": "paper",
          "y": 0.375,
          "yanchor": "bottom",
          "yref": "paper"
         },
         {
          "font": {
           "size": 16
          },
          "showarrow": false,
          "text": "Peru",
          "x": 0.775,
          "xanchor": "center",
          "xref": "paper",
          "y": 0.375,
          "yanchor": "bottom",
          "yref": "paper"
         }
        ],
        "barmode": "overlay",
        "font": {
         "color": "black",
         "family": "Arial, sans-serif",
         "size": 14
        },
        "height": 1000,
        "paper_bgcolor": "#f4f4f4",
        "plot_bgcolor": "#ffffff",
        "showlegend": true,
        "template": {
         "data": {
          "bar": [
           {
            "error_x": {
             "color": "#2a3f5f"
            },
            "error_y": {
             "color": "#2a3f5f"
            },
            "marker": {
             "line": {
              "color": "#E5ECF6",
              "width": 0.5
             },
             "pattern": {
              "fillmode": "overlay",
              "size": 10,
              "solidity": 0.2
             }
            },
            "type": "bar"
           }
          ],
          "barpolar": [
           {
            "marker": {
             "line": {
              "color": "#E5ECF6",
              "width": 0.5
             },
             "pattern": {
              "fillmode": "overlay",
              "size": 10,
              "solidity": 0.2
             }
            },
            "type": "barpolar"
           }
          ],
          "carpet": [
           {
            "aaxis": {
             "endlinecolor": "#2a3f5f",
             "gridcolor": "white",
             "linecolor": "white",
             "minorgridcolor": "white",
             "startlinecolor": "#2a3f5f"
            },
            "baxis": {
             "endlinecolor": "#2a3f5f",
             "gridcolor": "white",
             "linecolor": "white",
             "minorgridcolor": "white",
             "startlinecolor": "#2a3f5f"
            },
            "type": "carpet"
           }
          ],
          "choropleth": [
           {
            "colorbar": {
             "outlinewidth": 0,
             "ticks": ""
            },
            "type": "choropleth"
           }
          ],
          "contour": [
           {
            "colorbar": {
             "outlinewidth": 0,
             "ticks": ""
            },
            "colorscale": [
             [
              0,
              "#0d0887"
             ],
             [
              0.1111111111111111,
              "#46039f"
             ],
             [
              0.2222222222222222,
              "#7201a8"
             ],
             [
              0.3333333333333333,
              "#9c179e"
             ],
             [
              0.4444444444444444,
              "#bd3786"
             ],
             [
              0.5555555555555556,
              "#d8576b"
             ],
             [
              0.6666666666666666,
              "#ed7953"
             ],
             [
              0.7777777777777778,
              "#fb9f3a"
             ],
             [
              0.8888888888888888,
              "#fdca26"
             ],
             [
              1,
              "#f0f921"
             ]
            ],
            "type": "contour"
           }
          ],
          "contourcarpet": [
           {
            "colorbar": {
             "outlinewidth": 0,
             "ticks": ""
            },
            "type": "contourcarpet"
           }
          ],
          "heatmap": [
           {
            "colorbar": {
             "outlinewidth": 0,
             "ticks": ""
            },
            "colorscale": [
             [
              0,
              "#0d0887"
             ],
             [
              0.1111111111111111,
              "#46039f"
             ],
             [
              0.2222222222222222,
              "#7201a8"
             ],
             [
              0.3333333333333333,
              "#9c179e"
             ],
             [
              0.4444444444444444,
              "#bd3786"
             ],
             [
              0.5555555555555556,
              "#d8576b"
             ],
             [
              0.6666666666666666,
              "#ed7953"
             ],
             [
              0.7777777777777778,
              "#fb9f3a"
             ],
             [
              0.8888888888888888,
              "#fdca26"
             ],
             [
              1,
              "#f0f921"
             ]
            ],
            "type": "heatmap"
           }
          ],
          "histogram": [
           {
            "marker": {
             "pattern": {
              "fillmode": "overlay",
              "size": 10,
              "solidity": 0.2
             }
            },
            "type": "histogram"
           }
          ],
          "histogram2d": [
           {
            "colorbar": {
             "outlinewidth": 0,
             "ticks": ""
            },
            "colorscale": [
             [
              0,
              "#0d0887"
             ],
             [
              0.1111111111111111,
              "#46039f"
             ],
             [
              0.2222222222222222,
              "#7201a8"
             ],
             [
              0.3333333333333333,
              "#9c179e"
             ],
             [
              0.4444444444444444,
              "#bd3786"
             ],
             [
              0.5555555555555556,
              "#d8576b"
             ],
             [
              0.6666666666666666,
              "#ed7953"
             ],
             [
              0.7777777777777778,
              "#fb9f3a"
             ],
             [
              0.8888888888888888,
              "#fdca26"
             ],
             [
              1,
              "#f0f921"
             ]
            ],
            "type": "histogram2d"
           }
          ],
          "histogram2dcontour": [
           {
            "colorbar": {
             "outlinewidth": 0,
             "ticks": ""
            },
            "colorscale": [
             [
              0,
              "#0d0887"
             ],
             [
              0.1111111111111111,
              "#46039f"
             ],
             [
              0.2222222222222222,
              "#7201a8"
             ],
             [
              0.3333333333333333,
              "#9c179e"
             ],
             [
              0.4444444444444444,
              "#bd3786"
             ],
             [
              0.5555555555555556,
              "#d8576b"
             ],
             [
              0.6666666666666666,
              "#ed7953"
             ],
             [
              0.7777777777777778,
              "#fb9f3a"
             ],
             [
              0.8888888888888888,
              "#fdca26"
             ],
             [
              1,
              "#f0f921"
             ]
            ],
            "type": "histogram2dcontour"
           }
          ],
          "mesh3d": [
           {
            "colorbar": {
             "outlinewidth": 0,
             "ticks": ""
            },
            "type": "mesh3d"
           }
          ],
          "parcoords": [
           {
            "line": {
             "colorbar": {
              "outlinewidth": 0,
              "ticks": ""
             }
            },
            "type": "parcoords"
           }
          ],
          "pie": [
           {
            "automargin": true,
            "type": "pie"
           }
          ],
          "scatter": [
           {
            "fillpattern": {
             "fillmode": "overlay",
             "size": 10,
             "solidity": 0.2
            },
            "type": "scatter"
           }
          ],
          "scatter3d": [
           {
            "line": {
             "colorbar": {
              "outlinewidth": 0,
              "ticks": ""
             }
            },
            "marker": {
             "colorbar": {
              "outlinewidth": 0,
              "ticks": ""
             }
            },
            "type": "scatter3d"
           }
          ],
          "scattercarpet": [
           {
            "marker": {
             "colorbar": {
              "outlinewidth": 0,
              "ticks": ""
             }
            },
            "type": "scattercarpet"
           }
          ],
          "scattergeo": [
           {
            "marker": {
             "colorbar": {
              "outlinewidth": 0,
              "ticks": ""
             }
            },
            "type": "scattergeo"
           }
          ],
          "scattergl": [
           {
            "marker": {
             "colorbar": {
              "outlinewidth": 0,
              "ticks": ""
             }
            },
            "type": "scattergl"
           }
          ],
          "scattermap": [
           {
            "marker": {
             "colorbar": {
              "outlinewidth": 0,
              "ticks": ""
             }
            },
            "type": "scattermap"
           }
          ],
          "scattermapbox": [
           {
            "marker": {
             "colorbar": {
              "outlinewidth": 0,
              "ticks": ""
             }
            },
            "type": "scattermapbox"
           }
          ],
          "scatterpolar": [
           {
            "marker": {
             "colorbar": {
              "outlinewidth": 0,
              "ticks": ""
             }
            },
            "type": "scatterpolar"
           }
          ],
          "scatterpolargl": [
           {
            "marker": {
             "colorbar": {
              "outlinewidth": 0,
              "ticks": ""
             }
            },
            "type": "scatterpolargl"
           }
          ],
          "scatterternary": [
           {
            "marker": {
             "colorbar": {
              "outlinewidth": 0,
              "ticks": ""
             }
            },
            "type": "scatterternary"
           }
          ],
          "surface": [
           {
            "colorbar": {
             "outlinewidth": 0,
             "ticks": ""
            },
            "colorscale": [
             [
              0,
              "#0d0887"
             ],
             [
              0.1111111111111111,
              "#46039f"
             ],
             [
              0.2222222222222222,
              "#7201a8"
             ],
             [
              0.3333333333333333,
              "#9c179e"
             ],
             [
              0.4444444444444444,
              "#bd3786"
             ],
             [
              0.5555555555555556,
              "#d8576b"
             ],
             [
              0.6666666666666666,
              "#ed7953"
             ],
             [
              0.7777777777777778,
              "#fb9f3a"
             ],
             [
              0.8888888888888888,
              "#fdca26"
             ],
             [
              1,
              "#f0f921"
             ]
            ],
            "type": "surface"
           }
          ],
          "table": [
           {
            "cells": {
             "fill": {
              "color": "#EBF0F8"
             },
             "line": {
              "color": "white"
             }
            },
            "header": {
             "fill": {
              "color": "#C8D4E3"
             },
             "line": {
              "color": "white"
             }
            },
            "type": "table"
           }
          ]
         },
         "layout": {
          "annotationdefaults": {
           "arrowcolor": "#2a3f5f",
           "arrowhead": 0,
           "arrowwidth": 1
          },
          "autotypenumbers": "strict",
          "coloraxis": {
           "colorbar": {
            "outlinewidth": 0,
            "ticks": ""
           }
          },
          "colorscale": {
           "diverging": [
            [
             0,
             "#8e0152"
            ],
            [
             0.1,
             "#c51b7d"
            ],
            [
             0.2,
             "#de77ae"
            ],
            [
             0.3,
             "#f1b6da"
            ],
            [
             0.4,
             "#fde0ef"
            ],
            [
             0.5,
             "#f7f7f7"
            ],
            [
             0.6,
             "#e6f5d0"
            ],
            [
             0.7,
             "#b8e186"
            ],
            [
             0.8,
             "#7fbc41"
            ],
            [
             0.9,
             "#4d9221"
            ],
            [
             1,
             "#276419"
            ]
           ],
           "sequential": [
            [
             0,
             "#0d0887"
            ],
            [
             0.1111111111111111,
             "#46039f"
            ],
            [
             0.2222222222222222,
             "#7201a8"
            ],
            [
             0.3333333333333333,
             "#9c179e"
            ],
            [
             0.4444444444444444,
             "#bd3786"
            ],
            [
             0.5555555555555556,
             "#d8576b"
            ],
            [
             0.6666666666666666,
             "#ed7953"
            ],
            [
             0.7777777777777778,
             "#fb9f3a"
            ],
            [
             0.8888888888888888,
             "#fdca26"
            ],
            [
             1,
             "#f0f921"
            ]
           ],
           "sequentialminus": [
            [
             0,
             "#0d0887"
            ],
            [
             0.1111111111111111,
             "#46039f"
            ],
            [
             0.2222222222222222,
             "#7201a8"
            ],
            [
             0.3333333333333333,
             "#9c179e"
            ],
            [
             0.4444444444444444,
             "#bd3786"
            ],
            [
             0.5555555555555556,
             "#d8576b"
            ],
            [
             0.6666666666666666,
             "#ed7953"
            ],
            [
             0.7777777777777778,
             "#fb9f3a"
            ],
            [
             0.8888888888888888,
             "#fdca26"
            ],
            [
             1,
             "#f0f921"
            ]
           ]
          },
          "colorway": [
           "#636efa",
           "#EF553B",
           "#00cc96",
           "#ab63fa",
           "#FFA15A",
           "#19d3f3",
           "#FF6692",
           "#B6E880",
           "#FF97FF",
           "#FECB52"
          ],
          "font": {
           "color": "#2a3f5f"
          },
          "geo": {
           "bgcolor": "white",
           "lakecolor": "white",
           "landcolor": "#E5ECF6",
           "showlakes": true,
           "showland": true,
           "subunitcolor": "white"
          },
          "hoverlabel": {
           "align": "left"
          },
          "hovermode": "closest",
          "mapbox": {
           "style": "light"
          },
          "paper_bgcolor": "white",
          "plot_bgcolor": "#E5ECF6",
          "polar": {
           "angularaxis": {
            "gridcolor": "white",
            "linecolor": "white",
            "ticks": ""
           },
           "bgcolor": "#E5ECF6",
           "radialaxis": {
            "gridcolor": "white",
            "linecolor": "white",
            "ticks": ""
           }
          },
          "scene": {
           "xaxis": {
            "backgroundcolor": "#E5ECF6",
            "gridcolor": "white",
            "gridwidth": 2,
            "linecolor": "white",
            "showbackground": true,
            "ticks": "",
            "zerolinecolor": "white"
           },
           "yaxis": {
            "backgroundcolor": "#E5ECF6",
            "gridcolor": "white",
            "gridwidth": 2,
            "linecolor": "white",
            "showbackground": true,
            "ticks": "",
            "zerolinecolor": "white"
           },
           "zaxis": {
            "backgroundcolor": "#E5ECF6",
            "gridcolor": "white",
            "gridwidth": 2,
            "linecolor": "white",
            "showbackground": true,
            "ticks": "",
            "zerolinecolor": "white"
           }
          },
          "shapedefaults": {
           "line": {
            "color": "#2a3f5f"
           }
          },
          "ternary": {
           "aaxis": {
            "gridcolor": "white",
            "linecolor": "white",
            "ticks": ""
           },
           "baxis": {
            "gridcolor": "white",
            "linecolor": "white",
            "ticks": ""
           },
           "bgcolor": "#E5ECF6",
           "caxis": {
            "gridcolor": "white",
            "linecolor": "white",
            "ticks": ""
           }
          },
          "title": {
           "x": 0.05
          },
          "xaxis": {
           "automargin": true,
           "gridcolor": "white",
           "linecolor": "white",
           "ticks": "",
           "title": {
            "standoff": 15
           },
           "zerolinecolor": "white",
           "zerolinewidth": 2
          },
          "yaxis": {
           "automargin": true,
           "gridcolor": "white",
           "linecolor": "white",
           "ticks": "",
           "title": {
            "standoff": 15
           },
           "zerolinecolor": "white",
           "zerolinewidth": 2
          }
         }
        },
        "title": {
         "font": {
          "color": "black",
          "size": 18
         },
         "text": "Population Pyramids of Selected Latin American Countries during Operation Condor (1960)"
        },
        "width": 1200,
        "xaxis": {
         "anchor": "y",
         "domain": [
          0,
          0.45
         ],
         "title": {
          "text": "Number of People"
         }
        },
        "xaxis2": {
         "anchor": "y2",
         "domain": [
          0.55,
          1
         ],
         "title": {
          "text": "Number of People"
         }
        },
        "xaxis3": {
         "anchor": "y3",
         "domain": [
          0,
          0.45
         ],
         "title": {
          "text": "Number of People"
         }
        },
        "xaxis4": {
         "anchor": "y4",
         "domain": [
          0.55,
          1
         ],
         "title": {
          "text": "Number of People"
         }
        },
        "yaxis": {
         "anchor": "x",
         "domain": [
          0.625,
          1
         ],
         "title": {
          "text": "Age"
         }
        },
        "yaxis2": {
         "anchor": "x2",
         "domain": [
          0.625,
          1
         ],
         "title": {
          "text": "Age"
         }
        },
        "yaxis3": {
         "anchor": "x3",
         "domain": [
          0,
          0.375
         ],
         "title": {
          "text": "Age"
         }
        },
        "yaxis4": {
         "anchor": "x4",
         "domain": [
          0,
          0.375
         ],
         "title": {
          "text": "Age"
         }
        }
       }
      },
      "text/html": [
       "<div>            <script src=\"https://cdnjs.cloudflare.com/ajax/libs/mathjax/2.7.5/MathJax.js?config=TeX-AMS-MML_SVG\"></script><script type=\"text/javascript\">if (window.MathJax && window.MathJax.Hub && window.MathJax.Hub.Config) {window.MathJax.Hub.Config({SVG: {font: \"STIX-Web\"}});}</script>                <script type=\"text/javascript\">window.PlotlyConfig = {MathJaxConfig: 'local'};</script>\n",
       "        <script charset=\"utf-8\" src=\"https://cdn.plot.ly/plotly-3.0.0.min.js\"></script>                <div id=\"68c70527-04b2-42d9-a684-4b372d0fc7f5\" class=\"plotly-graph-div\" style=\"height:1000px; width:1200px;\"></div>            <script type=\"text/javascript\">                window.PLOTLYENV=window.PLOTLYENV || {};                                if (document.getElementById(\"68c70527-04b2-42d9-a684-4b372d0fc7f5\")) {                    Plotly.newPlot(                        \"68c70527-04b2-42d9-a684-4b372d0fc7f5\",                        [{\"hoverinfo\":\"skip\",\"marker\":{\"color\":\"olive\",\"line\":{\"color\":\"black\",\"width\":1}},\"name\":\"CHL - Men\",\"orientation\":\"h\",\"x\":{\"dtype\":\"f8\",\"bdata\":\"AAAAABzLIkEAAAAAJokgQQAAAAB45BxBAAAAAHSaGEEAAAAArLUVQQAAAADIHRRBAAAAAPA1E0EAAAAAGMQNQQAAAAAg7AdBAAAAAKiHBEEAAAAAONoAQQAAAAAQbvpAAAAAAKCH9EAAAAAAgITtQAAAAAAA8+FAAAAAAIAg0UAAAAAAAPu9QA==\"},\"y\":[1,6,11,16,21,26,31,36,41,46,51,56,61,66,71,76,81],\"type\":\"bar\",\"xaxis\":\"x\",\"yaxis\":\"y\"},{\"hoverinfo\":\"skip\",\"marker\":{\"color\":\"yellow\",\"line\":{\"color\":\"black\",\"width\":1}},\"name\":\"CHL - Women\",\"orientation\":\"h\",\"x\":{\"dtype\":\"f8\",\"bdata\":\"AAAAAEh4IsEAAAAAAEcgwQAAAAC4YxzBAAAAAGTCF8EAAAAALPYUwQAAAADMbhPBAAAAAISQEsEAAAAA4CINwQAAAABwuAfBAAAAANi9BMEAAAAA+F0BwQAAAADgufvAAAAAAHAr9sAAAAAAgJbwwAAAAADAsOXAAAAAAEBV18AAAAAAAHrKwA==\"},\"y\":[1,6,11,16,21,26,31,36,41,46,51,56,61,66,71,76,81],\"type\":\"bar\",\"xaxis\":\"x\",\"yaxis\":\"y\"},{\"hoverinfo\":\"skip\",\"marker\":{\"color\":\"olive\",\"line\":{\"color\":\"black\",\"width\":1}},\"name\":\"BRA - Men\",\"orientation\":\"h\",\"x\":{\"dtype\":\"f8\",\"bdata\":\"AAAAgHSwWEEAAAAAbkNUQQAAAMBOc1BBAAAAgN2ES0EAAACAoY9HQQAAAICbSERBAAAAAPUSQkEAAAAAn1E+QQAAAAAYojhBAAAAACUcNUEAAAAAax4xQQAAAABcaypBAAAAAF42I0EAAAAAxF4ZQQAAAADwmg9BAAAAAKBV\\u002fkAAAAAAQJ7wQA==\"},\"y\":[1,6,11,16,21,26,31,36,41,46,51,56,61,66,71,76,81],\"type\":\"bar\",\"xaxis\":\"x2\",\"yaxis\":\"y2\"},{\"hoverinfo\":\"skip\",\"marker\":{\"color\":\"yellow\",\"line\":{\"color\":\"black\",\"width\":1}},\"name\":\"BRA - Women\",\"orientation\":\"h\",\"x\":{\"dtype\":\"f8\",\"bdata\":\"AAAAwABDWMEAAACAmBdUwQAAAMD1QVDBAAAAgLAsSsEAAACAySdHwQAAAIArU0XBAAAAADH+QsEAAAAAfag+wQAAAAAwPjjBAAAAADySNMEAAAAATXIwwQAAAACctinBAAAAAJpCI8EAAAAAOFUawQAAAAAMXhHBAAAAAHAtAsEAAAAAoPj3wA==\"},\"y\":[1,6,11,16,21,26,31,36,41,46,51,56,61,66,71,76,81],\"type\":\"bar\",\"xaxis\":\"x2\",\"yaxis\":\"y2\"},{\"hoverinfo\":\"skip\",\"marker\":{\"color\":\"olive\",\"line\":{\"color\":\"black\",\"width\":1}},\"name\":\"ARG - Men\",\"orientation\":\"h\",\"x\":{\"dtype\":\"f8\",\"bdata\":\"AAAAAPZpMUEAAAAApXAwQQAAAADgbS5BAAAAAPK8KkEAAAAAwiUoQQAAAACYwidBAAAAAJSeJ0EAAAAAphAmQQAAAABKrSNBAAAAAFwQIkEAAAAAugYgQQAAAAAQ9BpBAAAAANDDFEEAAAAA6FEOQQAAAAA4WQNBAAAAAHAl8kAAAAAAgEfaQA==\"},\"y\":[1,6,11,16,21,26,31,36,41,46,51,56,61,66,71,76,81],\"type\":\"bar\",\"xaxis\":\"x3\",\"yaxis\":\"y3\"},{\"hoverinfo\":\"skip\",\"marker\":{\"color\":\"yellow\",\"line\":{\"color\":\"black\",\"width\":1}},\"name\":\"ARG - Women\",\"orientation\":\"h\",\"x\":{\"dtype\":\"f8\",\"bdata\":\"AAAAAE79MMEAAAAAkxIwwQAAAADg8S3BAAAAAOLTKsEAAAAA8JMowQAAAABO7yfBAAAAACImKMEAAAAANjQmwQAAAAAaviPBAAAAAET2IcEAAAAAXEsewQAAAADoOBnBAAAAALj8E8EAAAAAMAMOwQAAAAA4WgXBAAAAAJAU+MAAAAAAQGfnwA==\"},\"y\":[1,6,11,16,21,26,31,36,41,46,51,56,61,66,71,76,81],\"type\":\"bar\",\"xaxis\":\"x3\",\"yaxis\":\"y3\"},{\"hoverinfo\":\"skip\",\"marker\":{\"color\":\"olive\",\"line\":{\"color\":\"black\",\"width\":1}},\"name\":\"PER - Men\",\"orientation\":\"h\",\"x\":{\"dtype\":\"f8\",\"bdata\":\"AAAAAF5aLEEAAAAA2jQmQQAAAAAcViJBAAAAAHimHUEAAAAA1PcZQQAAAAAwjhZBAAAAAGDWEkEAAAAA6P4PQQAAAAColwpBAAAAAJC0B0EAAAAAEFEEQQAAAABAOwBBAAAAABC9+kAAAAAAgJrzQAAAAACAbOlAAAAAAIC\\u002f2UAAAAAAACnPQA==\"},\"y\":[1,6,11,16,21,26,31,36,41,46,51,56,61,66,71,76,81],\"type\":\"bar\",\"xaxis\":\"x4\",\"yaxis\":\"y4\"},{\"hoverinfo\":\"skip\",\"marker\":{\"color\":\"yellow\",\"line\":{\"color\":\"black\",\"width\":1}},\"name\":\"PER - Women\",\"orientation\":\"h\",\"x\":{\"dtype\":\"f8\",\"bdata\":\"AAAAAKC7K8EAAAAAYuElwQAAAACsEiLBAAAAANQ7HcEAAAAACKcZwQAAAADETBbBAAAAAKyaEsEAAAAAoHYPwQAAAAB4LwrBAAAAAIBxB8EAAAAAcFgEwQAAAACApwDBAAAAAGBc\\u002fMAAAAAAEEv1wAAAAACApezAAAAAAEBq3sAAAAAAwOPUwA==\"},\"y\":[1,6,11,16,21,26,31,36,41,46,51,56,61,66,71,76,81],\"type\":\"bar\",\"xaxis\":\"x4\",\"yaxis\":\"y4\"}],                        {\"template\":{\"data\":{\"histogram2dcontour\":[{\"type\":\"histogram2dcontour\",\"colorbar\":{\"outlinewidth\":0,\"ticks\":\"\"},\"colorscale\":[[0.0,\"#0d0887\"],[0.1111111111111111,\"#46039f\"],[0.2222222222222222,\"#7201a8\"],[0.3333333333333333,\"#9c179e\"],[0.4444444444444444,\"#bd3786\"],[0.5555555555555556,\"#d8576b\"],[0.6666666666666666,\"#ed7953\"],[0.7777777777777778,\"#fb9f3a\"],[0.8888888888888888,\"#fdca26\"],[1.0,\"#f0f921\"]]}],\"choropleth\":[{\"type\":\"choropleth\",\"colorbar\":{\"outlinewidth\":0,\"ticks\":\"\"}}],\"histogram2d\":[{\"type\":\"histogram2d\",\"colorbar\":{\"outlinewidth\":0,\"ticks\":\"\"},\"colorscale\":[[0.0,\"#0d0887\"],[0.1111111111111111,\"#46039f\"],[0.2222222222222222,\"#7201a8\"],[0.3333333333333333,\"#9c179e\"],[0.4444444444444444,\"#bd3786\"],[0.5555555555555556,\"#d8576b\"],[0.6666666666666666,\"#ed7953\"],[0.7777777777777778,\"#fb9f3a\"],[0.8888888888888888,\"#fdca26\"],[1.0,\"#f0f921\"]]}],\"heatmap\":[{\"type\":\"heatmap\",\"colorbar\":{\"outlinewidth\":0,\"ticks\":\"\"},\"colorscale\":[[0.0,\"#0d0887\"],[0.1111111111111111,\"#46039f\"],[0.2222222222222222,\"#7201a8\"],[0.3333333333333333,\"#9c179e\"],[0.4444444444444444,\"#bd3786\"],[0.5555555555555556,\"#d8576b\"],[0.6666666666666666,\"#ed7953\"],[0.7777777777777778,\"#fb9f3a\"],[0.8888888888888888,\"#fdca26\"],[1.0,\"#f0f921\"]]}],\"contourcarpet\":[{\"type\":\"contourcarpet\",\"colorbar\":{\"outlinewidth\":0,\"ticks\":\"\"}}],\"contour\":[{\"type\":\"contour\",\"colorbar\":{\"outlinewidth\":0,\"ticks\":\"\"},\"colorscale\":[[0.0,\"#0d0887\"],[0.1111111111111111,\"#46039f\"],[0.2222222222222222,\"#7201a8\"],[0.3333333333333333,\"#9c179e\"],[0.4444444444444444,\"#bd3786\"],[0.5555555555555556,\"#d8576b\"],[0.6666666666666666,\"#ed7953\"],[0.7777777777777778,\"#fb9f3a\"],[0.8888888888888888,\"#fdca26\"],[1.0,\"#f0f921\"]]}],\"surface\":[{\"type\":\"surface\",\"colorbar\":{\"outlinewidth\":0,\"ticks\":\"\"},\"colorscale\":[[0.0,\"#0d0887\"],[0.1111111111111111,\"#46039f\"],[0.2222222222222222,\"#7201a8\"],[0.3333333333333333,\"#9c179e\"],[0.4444444444444444,\"#bd3786\"],[0.5555555555555556,\"#d8576b\"],[0.6666666666666666,\"#ed7953\"],[0.7777777777777778,\"#fb9f3a\"],[0.8888888888888888,\"#fdca26\"],[1.0,\"#f0f921\"]]}],\"mesh3d\":[{\"type\":\"mesh3d\",\"colorbar\":{\"outlinewidth\":0,\"ticks\":\"\"}}],\"scatter\":[{\"fillpattern\":{\"fillmode\":\"overlay\",\"size\":10,\"solidity\":0.2},\"type\":\"scatter\"}],\"parcoords\":[{\"type\":\"parcoords\",\"line\":{\"colorbar\":{\"outlinewidth\":0,\"ticks\":\"\"}}}],\"scatterpolargl\":[{\"type\":\"scatterpolargl\",\"marker\":{\"colorbar\":{\"outlinewidth\":0,\"ticks\":\"\"}}}],\"bar\":[{\"error_x\":{\"color\":\"#2a3f5f\"},\"error_y\":{\"color\":\"#2a3f5f\"},\"marker\":{\"line\":{\"color\":\"#E5ECF6\",\"width\":0.5},\"pattern\":{\"fillmode\":\"overlay\",\"size\":10,\"solidity\":0.2}},\"type\":\"bar\"}],\"scattergeo\":[{\"type\":\"scattergeo\",\"marker\":{\"colorbar\":{\"outlinewidth\":0,\"ticks\":\"\"}}}],\"scatterpolar\":[{\"type\":\"scatterpolar\",\"marker\":{\"colorbar\":{\"outlinewidth\":0,\"ticks\":\"\"}}}],\"histogram\":[{\"marker\":{\"pattern\":{\"fillmode\":\"overlay\",\"size\":10,\"solidity\":0.2}},\"type\":\"histogram\"}],\"scattergl\":[{\"type\":\"scattergl\",\"marker\":{\"colorbar\":{\"outlinewidth\":0,\"ticks\":\"\"}}}],\"scatter3d\":[{\"type\":\"scatter3d\",\"line\":{\"colorbar\":{\"outlinewidth\":0,\"ticks\":\"\"}},\"marker\":{\"colorbar\":{\"outlinewidth\":0,\"ticks\":\"\"}}}],\"scattermap\":[{\"type\":\"scattermap\",\"marker\":{\"colorbar\":{\"outlinewidth\":0,\"ticks\":\"\"}}}],\"scattermapbox\":[{\"type\":\"scattermapbox\",\"marker\":{\"colorbar\":{\"outlinewidth\":0,\"ticks\":\"\"}}}],\"scatterternary\":[{\"type\":\"scatterternary\",\"marker\":{\"colorbar\":{\"outlinewidth\":0,\"ticks\":\"\"}}}],\"scattercarpet\":[{\"type\":\"scattercarpet\",\"marker\":{\"colorbar\":{\"outlinewidth\":0,\"ticks\":\"\"}}}],\"carpet\":[{\"aaxis\":{\"endlinecolor\":\"#2a3f5f\",\"gridcolor\":\"white\",\"linecolor\":\"white\",\"minorgridcolor\":\"white\",\"startlinecolor\":\"#2a3f5f\"},\"baxis\":{\"endlinecolor\":\"#2a3f5f\",\"gridcolor\":\"white\",\"linecolor\":\"white\",\"minorgridcolor\":\"white\",\"startlinecolor\":\"#2a3f5f\"},\"type\":\"carpet\"}],\"table\":[{\"cells\":{\"fill\":{\"color\":\"#EBF0F8\"},\"line\":{\"color\":\"white\"}},\"header\":{\"fill\":{\"color\":\"#C8D4E3\"},\"line\":{\"color\":\"white\"}},\"type\":\"table\"}],\"barpolar\":[{\"marker\":{\"line\":{\"color\":\"#E5ECF6\",\"width\":0.5},\"pattern\":{\"fillmode\":\"overlay\",\"size\":10,\"solidity\":0.2}},\"type\":\"barpolar\"}],\"pie\":[{\"automargin\":true,\"type\":\"pie\"}]},\"layout\":{\"autotypenumbers\":\"strict\",\"colorway\":[\"#636efa\",\"#EF553B\",\"#00cc96\",\"#ab63fa\",\"#FFA15A\",\"#19d3f3\",\"#FF6692\",\"#B6E880\",\"#FF97FF\",\"#FECB52\"],\"font\":{\"color\":\"#2a3f5f\"},\"hovermode\":\"closest\",\"hoverlabel\":{\"align\":\"left\"},\"paper_bgcolor\":\"white\",\"plot_bgcolor\":\"#E5ECF6\",\"polar\":{\"bgcolor\":\"#E5ECF6\",\"angularaxis\":{\"gridcolor\":\"white\",\"linecolor\":\"white\",\"ticks\":\"\"},\"radialaxis\":{\"gridcolor\":\"white\",\"linecolor\":\"white\",\"ticks\":\"\"}},\"ternary\":{\"bgcolor\":\"#E5ECF6\",\"aaxis\":{\"gridcolor\":\"white\",\"linecolor\":\"white\",\"ticks\":\"\"},\"baxis\":{\"gridcolor\":\"white\",\"linecolor\":\"white\",\"ticks\":\"\"},\"caxis\":{\"gridcolor\":\"white\",\"linecolor\":\"white\",\"ticks\":\"\"}},\"coloraxis\":{\"colorbar\":{\"outlinewidth\":0,\"ticks\":\"\"}},\"colorscale\":{\"sequential\":[[0.0,\"#0d0887\"],[0.1111111111111111,\"#46039f\"],[0.2222222222222222,\"#7201a8\"],[0.3333333333333333,\"#9c179e\"],[0.4444444444444444,\"#bd3786\"],[0.5555555555555556,\"#d8576b\"],[0.6666666666666666,\"#ed7953\"],[0.7777777777777778,\"#fb9f3a\"],[0.8888888888888888,\"#fdca26\"],[1.0,\"#f0f921\"]],\"sequentialminus\":[[0.0,\"#0d0887\"],[0.1111111111111111,\"#46039f\"],[0.2222222222222222,\"#7201a8\"],[0.3333333333333333,\"#9c179e\"],[0.4444444444444444,\"#bd3786\"],[0.5555555555555556,\"#d8576b\"],[0.6666666666666666,\"#ed7953\"],[0.7777777777777778,\"#fb9f3a\"],[0.8888888888888888,\"#fdca26\"],[1.0,\"#f0f921\"]],\"diverging\":[[0,\"#8e0152\"],[0.1,\"#c51b7d\"],[0.2,\"#de77ae\"],[0.3,\"#f1b6da\"],[0.4,\"#fde0ef\"],[0.5,\"#f7f7f7\"],[0.6,\"#e6f5d0\"],[0.7,\"#b8e186\"],[0.8,\"#7fbc41\"],[0.9,\"#4d9221\"],[1,\"#276419\"]]},\"xaxis\":{\"gridcolor\":\"white\",\"linecolor\":\"white\",\"ticks\":\"\",\"title\":{\"standoff\":15},\"zerolinecolor\":\"white\",\"automargin\":true,\"zerolinewidth\":2},\"yaxis\":{\"gridcolor\":\"white\",\"linecolor\":\"white\",\"ticks\":\"\",\"title\":{\"standoff\":15},\"zerolinecolor\":\"white\",\"automargin\":true,\"zerolinewidth\":2},\"scene\":{\"xaxis\":{\"backgroundcolor\":\"#E5ECF6\",\"gridcolor\":\"white\",\"linecolor\":\"white\",\"showbackground\":true,\"ticks\":\"\",\"zerolinecolor\":\"white\",\"gridwidth\":2},\"yaxis\":{\"backgroundcolor\":\"#E5ECF6\",\"gridcolor\":\"white\",\"linecolor\":\"white\",\"showbackground\":true,\"ticks\":\"\",\"zerolinecolor\":\"white\",\"gridwidth\":2},\"zaxis\":{\"backgroundcolor\":\"#E5ECF6\",\"gridcolor\":\"white\",\"linecolor\":\"white\",\"showbackground\":true,\"ticks\":\"\",\"zerolinecolor\":\"white\",\"gridwidth\":2}},\"shapedefaults\":{\"line\":{\"color\":\"#2a3f5f\"}},\"annotationdefaults\":{\"arrowcolor\":\"#2a3f5f\",\"arrowhead\":0,\"arrowwidth\":1},\"geo\":{\"bgcolor\":\"white\",\"landcolor\":\"#E5ECF6\",\"subunitcolor\":\"white\",\"showland\":true,\"showlakes\":true,\"lakecolor\":\"white\"},\"title\":{\"x\":0.05},\"mapbox\":{\"style\":\"light\"}}},\"xaxis\":{\"anchor\":\"y\",\"domain\":[0.0,0.45],\"title\":{\"text\":\"Number of People\"}},\"yaxis\":{\"anchor\":\"x\",\"domain\":[0.625,1.0],\"title\":{\"text\":\"Age\"}},\"xaxis2\":{\"anchor\":\"y2\",\"domain\":[0.55,1.0],\"title\":{\"text\":\"Number of People\"}},\"yaxis2\":{\"anchor\":\"x2\",\"domain\":[0.625,1.0],\"title\":{\"text\":\"Age\"}},\"xaxis3\":{\"anchor\":\"y3\",\"domain\":[0.0,0.45],\"title\":{\"text\":\"Number of People\"}},\"yaxis3\":{\"anchor\":\"x3\",\"domain\":[0.0,0.375],\"title\":{\"text\":\"Age\"}},\"xaxis4\":{\"anchor\":\"y4\",\"domain\":[0.55,1.0],\"title\":{\"text\":\"Number of People\"}},\"yaxis4\":{\"anchor\":\"x4\",\"domain\":[0.0,0.375],\"title\":{\"text\":\"Age\"}},\"annotations\":[{\"font\":{\"size\":16},\"showarrow\":false,\"text\":\"Chile\",\"x\":0.225,\"xanchor\":\"center\",\"xref\":\"paper\",\"y\":1.0,\"yanchor\":\"bottom\",\"yref\":\"paper\"},{\"font\":{\"size\":16},\"showarrow\":false,\"text\":\"Brazil\",\"x\":0.775,\"xanchor\":\"center\",\"xref\":\"paper\",\"y\":1.0,\"yanchor\":\"bottom\",\"yref\":\"paper\"},{\"font\":{\"size\":16},\"showarrow\":false,\"text\":\"Argentina\",\"x\":0.225,\"xanchor\":\"center\",\"xref\":\"paper\",\"y\":0.375,\"yanchor\":\"bottom\",\"yref\":\"paper\"},{\"font\":{\"size\":16},\"showarrow\":false,\"text\":\"Peru\",\"x\":0.775,\"xanchor\":\"center\",\"xref\":\"paper\",\"y\":0.375,\"yanchor\":\"bottom\",\"yref\":\"paper\"}],\"title\":{\"text\":\"Population Pyramids of Selected Latin American Countries during Operation Condor (1960)\",\"font\":{\"size\":18,\"color\":\"black\"}},\"font\":{\"family\":\"Arial, sans-serif\",\"size\":14,\"color\":\"black\"},\"barmode\":\"overlay\",\"width\":1200,\"height\":1000,\"paper_bgcolor\":\"#f4f4f4\",\"plot_bgcolor\":\"#ffffff\",\"showlegend\":true},                        {\"responsive\": true}                    ).then(function(){\n",
       "                            \n",
       "var gd = document.getElementById('68c70527-04b2-42d9-a684-4b372d0fc7f5');\n",
       "var x = new MutationObserver(function (mutations, observer) {{\n",
       "        var display = window.getComputedStyle(gd).display;\n",
       "        if (!display || display === 'none') {{\n",
       "            console.log([gd, 'removed!']);\n",
       "            Plotly.purge(gd);\n",
       "            observer.disconnect();\n",
       "        }}\n",
       "}});\n",
       "\n",
       "// Listen for the removal of the full notebook cells\n",
       "var notebookContainer = gd.closest('#notebook-container');\n",
       "if (notebookContainer) {{\n",
       "    x.observe(notebookContainer, {childList: true});\n",
       "}}\n",
       "\n",
       "// Listen for the clearing of the current output cell\n",
       "var outputEl = gd.closest('.output');\n",
       "if (outputEl) {{\n",
       "    x.observe(outputEl, {childList: true});\n",
       "}}\n",
       "\n",
       "                        })                };            </script>        </div>"
      ]
     },
     "metadata": {},
     "output_type": "display_data"
    }
   ],
   "source": [
    "# The population pyramids of various Operation Condor countries in 1960\n",
    "    # This is before the start of Operation Condor\n",
    "\n",
    "# Define multiple countries\n",
    "country_choices = [\"CHL\", \"BRA\", \"ARG\", \"PER\"]\n",
    "country_titles = [\"Chile\", \"Brazil\", \"Argentina\", \"Peru\"]\n",
    "\n",
    "# Create a subplot layout (2 rows, 2 columns)\n",
    "fig_5 = make_subplots(rows=2, cols=2, subplot_titles=country_titles)\n",
    "\n",
    "# Loop through each country and generate its population pyramid\n",
    "for i, (country, title) in enumerate(zip(country_choices, country_titles)):\n",
    "    condor_countries = wbdata.get_dataframe(categories, country=country)\n",
    "\n",
    "    # Extract male and female data\n",
    "    male_data = condor_countries.loc[str(1960), :].filter(regex=\"Male\").values\n",
    "    female_data = -condor_countries.loc[str(1960), :].filter(regex=\"Female\").values  # Negative for left alignment\n",
    "    age_groups = [int(s[:2]) + 1 for s in ages]  # Convert age labels to integers\n",
    "\n",
    "    # Determine subplot position\n",
    "    row = i // 2 + 1\n",
    "    col = i % 2 + 1\n",
    "\n",
    "    # Add Male bar trace\n",
    "    fig_5.add_trace(go.Bar(\n",
    "        x=male_data,\n",
    "        y=age_groups,\n",
    "        orientation='h',\n",
    "        name=f'{country} - Men',\n",
    "        marker=dict(color='olive', line=dict(color='black', width=1)),\n",
    "        hoverinfo='skip'\n",
    "    ), row=row, col=col)\n",
    "\n",
    "    # Add Female bar trace\n",
    "    fig_5.add_trace(go.Bar(\n",
    "        x=female_data,\n",
    "        y=age_groups,\n",
    "        orientation='h',\n",
    "        name=f'{country} - Women',\n",
    "        marker=dict(color='yellow', line=dict(color='black', width=1)),\n",
    "        hoverinfo='skip'\n",
    "    ), row=row, col=col)\n",
    "\n",
    " # Customize X and Y axis labels for each subplot\n",
    "    fig_5.update_xaxes(title_text=\"Number of People\", row=row, col=col)\n",
    "    fig_5.update_yaxes(title_text=\"Age\", row=row, col=col)\n",
    "\n",
    "# Updated layout for aesthetics!\n",
    "fig_5.update_layout(\n",
    "    title=\"Population Pyramids of Selected Latin American Countries during Operation Condor (1960)\",\n",
    "    title_font=dict(size=18, color='black'),\n",
    "    barmode='overlay',\n",
    "    width=1200,  # Adjust width\n",
    "    height=1000,  # Adjust height\n",
    "    paper_bgcolor='#f4f4f4',\n",
    "    plot_bgcolor='#ffffff',\n",
    "    font=dict(family=\"Arial, sans-serif\", size=14, color=\"black\"),\n",
    "    showlegend=True\n",
    ")\n",
    "\n",
    "# Make the final figure\n",
    "fig_5.show()"
   ]
  },
  {
   "cell_type": "code",
   "execution_count": 12,
   "id": "d0477c2d-e24f-4f47-b880-5ec3eead8391",
   "metadata": {},
   "outputs": [
    {
     "data": {
      "application/vnd.plotly.v1+json": {
       "config": {
        "plotlyServerURL": "https://plot.ly"
       },
       "data": [
        {
         "hoverinfo": "skip",
         "marker": {
          "color": "olive",
          "line": {
           "color": "black",
           "width": 1
          }
         },
         "name": "CHL - Men",
         "orientation": "h",
         "type": "bar",
         "x": {
          "bdata": "AAAAAKQYJkEAAAAAKGYkQQAAAACGsSNBAAAAAD6SI0EAAAAAMkYjQQAAAADKLyJBAAAAANZ/IEEAAAAAXJUcQQAAAABUtBdBAAAAAPQAE0EAAAAAPFgQQQAAAAAgnA1BAAAAAFgjC0EAAAAA8OUCQQAAAADgA/hAAAAAAODj60AAAAAAQF7eQA==",
          "dtype": "f8"
         },
         "xaxis": "x",
         "y": [
          1,
          6,
          11,
          16,
          21,
          26,
          31,
          36,
          41,
          46,
          51,
          56,
          61,
          66,
          71,
          76,
          81
         ],
         "yaxis": "y"
        },
        {
         "hoverinfo": "skip",
         "marker": {
          "color": "yellow",
          "line": {
           "color": "black",
           "width": 1
          }
         },
         "name": "CHL - Women",
         "orientation": "h",
         "type": "bar",
         "x": {
          "bdata": "AAAAAEooJcEAAAAAUqcjwQAAAABkCSPBAAAAAIYEI8EAAAAAQOsiwQAAAACqECLBAAAAAJx5IMEAAAAAZK0cwQAAAAC44BfBAAAAADwHE8EAAAAAQKkQwQAAAACgFQ/BAAAAAGh2DcEAAAAAsPAFwQAAAABwLf/AAAAAALC29cAAAAAAoPjxwA==",
          "dtype": "f8"
         },
         "xaxis": "x",
         "y": [
          1,
          6,
          11,
          16,
          21,
          26,
          31,
          36,
          41,
          46,
          51,
          56,
          61,
          66,
          71,
          76,
          81
         ],
         "yaxis": "y"
        },
        {
         "hoverinfo": "skip",
         "marker": {
          "color": "olive",
          "line": {
           "color": "black",
           "width": 1
          }
         },
         "name": "BRA - Men",
         "orientation": "h",
         "type": "bar",
         "x": {
          "bdata": "AAAAAF50YUEAAABgnIphQQAAAAAPJmBBAAAAgNHWXEEAAABAJHdaQQAAAEAVE1lBAAAAgETfVUEAAABAtj9SQQAAAIAt/0xBAAAAgNSRR0EAAACABXhDQQAAAACJjD9BAAAAAFN9OUEAAAAAKlwyQQAAAABYeCdBAAAAAJDZG0EAAAAATJsTQQ==",
          "dtype": "f8"
         },
         "xaxis": "x2",
         "y": [
          1,
          6,
          11,
          16,
          21,
          26,
          31,
          36,
          41,
          46,
          51,
          56,
          61,
          66,
          71,
          76,
          81
         ],
         "yaxis": "y2"
        },
        {
         "hoverinfo": "skip",
         "marker": {
          "color": "yellow",
          "line": {
           "color": "black",
           "width": 1
          }
         },
         "name": "BRA - Women",
         "orientation": "h",
         "type": "bar",
         "x": {
          "bdata": "AAAAYJ3jYMEAAABgFxRhwQAAAAClsV/BAAAAQLp0XMEAAAAAx0dawQAAAIBtC1nBAAAAgLj0VcEAAABAH3JSwQAAAADlW03BAAAAgH4sR8EAAAAAvgpEwQAAAAChxUHBAAAAAMrCPcEAAAAAP6c1wQAAAACGlyzBAAAAAK77IcEAAAAAlIEbwQ==",
          "dtype": "f8"
         },
         "xaxis": "x2",
         "y": [
          1,
          6,
          11,
          16,
          21,
          26,
          31,
          36,
          41,
          46,
          51,
          56,
          61,
          66,
          71,
          76,
          81
         ],
         "yaxis": "y2"
        },
        {
         "hoverinfo": "skip",
         "marker": {
          "color": "olive",
          "line": {
           "color": "black",
           "width": 1
          }
         },
         "name": "ARG - Men",
         "orientation": "h",
         "type": "bar",
         "x": {
          "bdata": "AAAAAL2gOkEAAAAAm9M5QQAAAAC4LTlBAAAAAHjQNUEAAAAAlAMzQQAAAAA0UDJBAAAAACV3MUEAAAAAvXUwQQAAAACe2y1BAAAAALC+KUEAAAAAVl0mQQAAAABqOSRBAAAAAPjGIUEAAAAA2CccQQAAAABwHBRBAAAAANBrCUEAAAAASPIAQQ==",
          "dtype": "f8"
         },
         "xaxis": "x3",
         "y": [
          1,
          6,
          11,
          16,
          21,
          26,
          31,
          36,
          41,
          46,
          51,
          56,
          61,
          66,
          71,
          76,
          81
         ],
         "yaxis": "y3"
        },
        {
         "hoverinfo": "skip",
         "marker": {
          "color": "yellow",
          "line": {
           "color": "black",
           "width": 1
          }
         },
         "name": "ARG - Women",
         "orientation": "h",
         "type": "bar",
         "x": {
          "bdata": "AAAAAPRuOcEAAAAAkN04wQAAAAAUNDjBAAAAAJZbNcEAAAAAcsYywQAAAAAoFDLBAAAAAGlbMcEAAAAAbYEwwQAAAACsRS7BAAAAAHR8KsEAAAAArncnwQAAAAB+4SXBAAAAAILtJMEAAAAA4OUhwQAAAACIcRzBAAAAAFTMFMEAAAAAEKkRwQ==",
          "dtype": "f8"
         },
         "xaxis": "x3",
         "y": [
          1,
          6,
          11,
          16,
          21,
          26,
          31,
          36,
          41,
          46,
          51,
          56,
          61,
          66,
          71,
          76,
          81
         ],
         "yaxis": "y3"
        },
        {
         "hoverinfo": "skip",
         "marker": {
          "color": "olive",
          "line": {
           "color": "black",
           "width": 1
          }
         },
         "name": "PER - Men",
         "orientation": "h",
         "type": "bar",
         "x": {
          "bdata": "AAAAAGNjOEEAAAAAZT82QQAAAAAgjTRBAAAAAKCpMkEAAAAA2gMwQQAAAAC66ipBAAAAAOKRJkEAAAAAcOciQQAAAABArR5BAAAAACAfGEEAAAAA5KQUQQAAAAD8ChFBAAAAAPC5CUEAAAAAANgCQQAAAABwQvlAAAAAAMC270AAAAAAIOvlQA==",
          "dtype": "f8"
         },
         "xaxis": "x4",
         "y": [
          1,
          6,
          11,
          16,
          21,
          26,
          31,
          36,
          41,
          46,
          51,
          56,
          61,
          66,
          71,
          76,
          81
         ],
         "yaxis": "y4"
        },
        {
         "hoverinfo": "skip",
         "marker": {
          "color": "yellow",
          "line": {
           "color": "black",
           "width": 1
          }
         },
         "name": "PER - Women",
         "orientation": "h",
         "type": "bar",
         "x": {
          "bdata": "AAAAAIqSN8EAAAAA1aM1wQAAAAAoETTBAAAAACJUMsEAAAAAXtIvwQAAAAAIFyvBAAAAAHglJ8EAAAAAQLwjwQAAAABAFiDBAAAAANDkGMEAAAAAVNcUwQAAAAA8JxHBAAAAAIBhCsEAAAAAyOYDwQAAAADgG/zAAAAAAHDH8sAAAAAAAJvtwA==",
          "dtype": "f8"
         },
         "xaxis": "x4",
         "y": [
          1,
          6,
          11,
          16,
          21,
          26,
          31,
          36,
          41,
          46,
          51,
          56,
          61,
          66,
          71,
          76,
          81
         ],
         "yaxis": "y4"
        }
       ],
       "layout": {
        "annotations": [
         {
          "font": {
           "size": 16
          },
          "showarrow": false,
          "text": "Chile",
          "x": 0.225,
          "xanchor": "center",
          "xref": "paper",
          "y": 1,
          "yanchor": "bottom",
          "yref": "paper"
         },
         {
          "font": {
           "size": 16
          },
          "showarrow": false,
          "text": "Brazil",
          "x": 0.775,
          "xanchor": "center",
          "xref": "paper",
          "y": 1,
          "yanchor": "bottom",
          "yref": "paper"
         },
         {
          "font": {
           "size": 16
          },
          "showarrow": false,
          "text": "Argentina",
          "x": 0.225,
          "xanchor": "center",
          "xref": "paper",
          "y": 0.375,
          "yanchor": "bottom",
          "yref": "paper"
         },
         {
          "font": {
           "size": 16
          },
          "showarrow": false,
          "text": "Peru",
          "x": 0.775,
          "xanchor": "center",
          "xref": "paper",
          "y": 0.375,
          "yanchor": "bottom",
          "yref": "paper"
         }
        ],
        "barmode": "overlay",
        "font": {
         "color": "black",
         "family": "Arial, sans-serif",
         "size": 14
        },
        "height": 1000,
        "paper_bgcolor": "#f4f4f4",
        "plot_bgcolor": "#ffffff",
        "showlegend": true,
        "template": {
         "data": {
          "bar": [
           {
            "error_x": {
             "color": "#2a3f5f"
            },
            "error_y": {
             "color": "#2a3f5f"
            },
            "marker": {
             "line": {
              "color": "#E5ECF6",
              "width": 0.5
             },
             "pattern": {
              "fillmode": "overlay",
              "size": 10,
              "solidity": 0.2
             }
            },
            "type": "bar"
           }
          ],
          "barpolar": [
           {
            "marker": {
             "line": {
              "color": "#E5ECF6",
              "width": 0.5
             },
             "pattern": {
              "fillmode": "overlay",
              "size": 10,
              "solidity": 0.2
             }
            },
            "type": "barpolar"
           }
          ],
          "carpet": [
           {
            "aaxis": {
             "endlinecolor": "#2a3f5f",
             "gridcolor": "white",
             "linecolor": "white",
             "minorgridcolor": "white",
             "startlinecolor": "#2a3f5f"
            },
            "baxis": {
             "endlinecolor": "#2a3f5f",
             "gridcolor": "white",
             "linecolor": "white",
             "minorgridcolor": "white",
             "startlinecolor": "#2a3f5f"
            },
            "type": "carpet"
           }
          ],
          "choropleth": [
           {
            "colorbar": {
             "outlinewidth": 0,
             "ticks": ""
            },
            "type": "choropleth"
           }
          ],
          "contour": [
           {
            "colorbar": {
             "outlinewidth": 0,
             "ticks": ""
            },
            "colorscale": [
             [
              0,
              "#0d0887"
             ],
             [
              0.1111111111111111,
              "#46039f"
             ],
             [
              0.2222222222222222,
              "#7201a8"
             ],
             [
              0.3333333333333333,
              "#9c179e"
             ],
             [
              0.4444444444444444,
              "#bd3786"
             ],
             [
              0.5555555555555556,
              "#d8576b"
             ],
             [
              0.6666666666666666,
              "#ed7953"
             ],
             [
              0.7777777777777778,
              "#fb9f3a"
             ],
             [
              0.8888888888888888,
              "#fdca26"
             ],
             [
              1,
              "#f0f921"
             ]
            ],
            "type": "contour"
           }
          ],
          "contourcarpet": [
           {
            "colorbar": {
             "outlinewidth": 0,
             "ticks": ""
            },
            "type": "contourcarpet"
           }
          ],
          "heatmap": [
           {
            "colorbar": {
             "outlinewidth": 0,
             "ticks": ""
            },
            "colorscale": [
             [
              0,
              "#0d0887"
             ],
             [
              0.1111111111111111,
              "#46039f"
             ],
             [
              0.2222222222222222,
              "#7201a8"
             ],
             [
              0.3333333333333333,
              "#9c179e"
             ],
             [
              0.4444444444444444,
              "#bd3786"
             ],
             [
              0.5555555555555556,
              "#d8576b"
             ],
             [
              0.6666666666666666,
              "#ed7953"
             ],
             [
              0.7777777777777778,
              "#fb9f3a"
             ],
             [
              0.8888888888888888,
              "#fdca26"
             ],
             [
              1,
              "#f0f921"
             ]
            ],
            "type": "heatmap"
           }
          ],
          "histogram": [
           {
            "marker": {
             "pattern": {
              "fillmode": "overlay",
              "size": 10,
              "solidity": 0.2
             }
            },
            "type": "histogram"
           }
          ],
          "histogram2d": [
           {
            "colorbar": {
             "outlinewidth": 0,
             "ticks": ""
            },
            "colorscale": [
             [
              0,
              "#0d0887"
             ],
             [
              0.1111111111111111,
              "#46039f"
             ],
             [
              0.2222222222222222,
              "#7201a8"
             ],
             [
              0.3333333333333333,
              "#9c179e"
             ],
             [
              0.4444444444444444,
              "#bd3786"
             ],
             [
              0.5555555555555556,
              "#d8576b"
             ],
             [
              0.6666666666666666,
              "#ed7953"
             ],
             [
              0.7777777777777778,
              "#fb9f3a"
             ],
             [
              0.8888888888888888,
              "#fdca26"
             ],
             [
              1,
              "#f0f921"
             ]
            ],
            "type": "histogram2d"
           }
          ],
          "histogram2dcontour": [
           {
            "colorbar": {
             "outlinewidth": 0,
             "ticks": ""
            },
            "colorscale": [
             [
              0,
              "#0d0887"
             ],
             [
              0.1111111111111111,
              "#46039f"
             ],
             [
              0.2222222222222222,
              "#7201a8"
             ],
             [
              0.3333333333333333,
              "#9c179e"
             ],
             [
              0.4444444444444444,
              "#bd3786"
             ],
             [
              0.5555555555555556,
              "#d8576b"
             ],
             [
              0.6666666666666666,
              "#ed7953"
             ],
             [
              0.7777777777777778,
              "#fb9f3a"
             ],
             [
              0.8888888888888888,
              "#fdca26"
             ],
             [
              1,
              "#f0f921"
             ]
            ],
            "type": "histogram2dcontour"
           }
          ],
          "mesh3d": [
           {
            "colorbar": {
             "outlinewidth": 0,
             "ticks": ""
            },
            "type": "mesh3d"
           }
          ],
          "parcoords": [
           {
            "line": {
             "colorbar": {
              "outlinewidth": 0,
              "ticks": ""
             }
            },
            "type": "parcoords"
           }
          ],
          "pie": [
           {
            "automargin": true,
            "type": "pie"
           }
          ],
          "scatter": [
           {
            "fillpattern": {
             "fillmode": "overlay",
             "size": 10,
             "solidity": 0.2
            },
            "type": "scatter"
           }
          ],
          "scatter3d": [
           {
            "line": {
             "colorbar": {
              "outlinewidth": 0,
              "ticks": ""
             }
            },
            "marker": {
             "colorbar": {
              "outlinewidth": 0,
              "ticks": ""
             }
            },
            "type": "scatter3d"
           }
          ],
          "scattercarpet": [
           {
            "marker": {
             "colorbar": {
              "outlinewidth": 0,
              "ticks": ""
             }
            },
            "type": "scattercarpet"
           }
          ],
          "scattergeo": [
           {
            "marker": {
             "colorbar": {
              "outlinewidth": 0,
              "ticks": ""
             }
            },
            "type": "scattergeo"
           }
          ],
          "scattergl": [
           {
            "marker": {
             "colorbar": {
              "outlinewidth": 0,
              "ticks": ""
             }
            },
            "type": "scattergl"
           }
          ],
          "scattermap": [
           {
            "marker": {
             "colorbar": {
              "outlinewidth": 0,
              "ticks": ""
             }
            },
            "type": "scattermap"
           }
          ],
          "scattermapbox": [
           {
            "marker": {
             "colorbar": {
              "outlinewidth": 0,
              "ticks": ""
             }
            },
            "type": "scattermapbox"
           }
          ],
          "scatterpolar": [
           {
            "marker": {
             "colorbar": {
              "outlinewidth": 0,
              "ticks": ""
             }
            },
            "type": "scatterpolar"
           }
          ],
          "scatterpolargl": [
           {
            "marker": {
             "colorbar": {
              "outlinewidth": 0,
              "ticks": ""
             }
            },
            "type": "scatterpolargl"
           }
          ],
          "scatterternary": [
           {
            "marker": {
             "colorbar": {
              "outlinewidth": 0,
              "ticks": ""
             }
            },
            "type": "scatterternary"
           }
          ],
          "surface": [
           {
            "colorbar": {
             "outlinewidth": 0,
             "ticks": ""
            },
            "colorscale": [
             [
              0,
              "#0d0887"
             ],
             [
              0.1111111111111111,
              "#46039f"
             ],
             [
              0.2222222222222222,
              "#7201a8"
             ],
             [
              0.3333333333333333,
              "#9c179e"
             ],
             [
              0.4444444444444444,
              "#bd3786"
             ],
             [
              0.5555555555555556,
              "#d8576b"
             ],
             [
              0.6666666666666666,
              "#ed7953"
             ],
             [
              0.7777777777777778,
              "#fb9f3a"
             ],
             [
              0.8888888888888888,
              "#fdca26"
             ],
             [
              1,
              "#f0f921"
             ]
            ],
            "type": "surface"
           }
          ],
          "table": [
           {
            "cells": {
             "fill": {
              "color": "#EBF0F8"
             },
             "line": {
              "color": "white"
             }
            },
            "header": {
             "fill": {
              "color": "#C8D4E3"
             },
             "line": {
              "color": "white"
             }
            },
            "type": "table"
           }
          ]
         },
         "layout": {
          "annotationdefaults": {
           "arrowcolor": "#2a3f5f",
           "arrowhead": 0,
           "arrowwidth": 1
          },
          "autotypenumbers": "strict",
          "coloraxis": {
           "colorbar": {
            "outlinewidth": 0,
            "ticks": ""
           }
          },
          "colorscale": {
           "diverging": [
            [
             0,
             "#8e0152"
            ],
            [
             0.1,
             "#c51b7d"
            ],
            [
             0.2,
             "#de77ae"
            ],
            [
             0.3,
             "#f1b6da"
            ],
            [
             0.4,
             "#fde0ef"
            ],
            [
             0.5,
             "#f7f7f7"
            ],
            [
             0.6,
             "#e6f5d0"
            ],
            [
             0.7,
             "#b8e186"
            ],
            [
             0.8,
             "#7fbc41"
            ],
            [
             0.9,
             "#4d9221"
            ],
            [
             1,
             "#276419"
            ]
           ],
           "sequential": [
            [
             0,
             "#0d0887"
            ],
            [
             0.1111111111111111,
             "#46039f"
            ],
            [
             0.2222222222222222,
             "#7201a8"
            ],
            [
             0.3333333333333333,
             "#9c179e"
            ],
            [
             0.4444444444444444,
             "#bd3786"
            ],
            [
             0.5555555555555556,
             "#d8576b"
            ],
            [
             0.6666666666666666,
             "#ed7953"
            ],
            [
             0.7777777777777778,
             "#fb9f3a"
            ],
            [
             0.8888888888888888,
             "#fdca26"
            ],
            [
             1,
             "#f0f921"
            ]
           ],
           "sequentialminus": [
            [
             0,
             "#0d0887"
            ],
            [
             0.1111111111111111,
             "#46039f"
            ],
            [
             0.2222222222222222,
             "#7201a8"
            ],
            [
             0.3333333333333333,
             "#9c179e"
            ],
            [
             0.4444444444444444,
             "#bd3786"
            ],
            [
             0.5555555555555556,
             "#d8576b"
            ],
            [
             0.6666666666666666,
             "#ed7953"
            ],
            [
             0.7777777777777778,
             "#fb9f3a"
            ],
            [
             0.8888888888888888,
             "#fdca26"
            ],
            [
             1,
             "#f0f921"
            ]
           ]
          },
          "colorway": [
           "#636efa",
           "#EF553B",
           "#00cc96",
           "#ab63fa",
           "#FFA15A",
           "#19d3f3",
           "#FF6692",
           "#B6E880",
           "#FF97FF",
           "#FECB52"
          ],
          "font": {
           "color": "#2a3f5f"
          },
          "geo": {
           "bgcolor": "white",
           "lakecolor": "white",
           "landcolor": "#E5ECF6",
           "showlakes": true,
           "showland": true,
           "subunitcolor": "white"
          },
          "hoverlabel": {
           "align": "left"
          },
          "hovermode": "closest",
          "mapbox": {
           "style": "light"
          },
          "paper_bgcolor": "white",
          "plot_bgcolor": "#E5ECF6",
          "polar": {
           "angularaxis": {
            "gridcolor": "white",
            "linecolor": "white",
            "ticks": ""
           },
           "bgcolor": "#E5ECF6",
           "radialaxis": {
            "gridcolor": "white",
            "linecolor": "white",
            "ticks": ""
           }
          },
          "scene": {
           "xaxis": {
            "backgroundcolor": "#E5ECF6",
            "gridcolor": "white",
            "gridwidth": 2,
            "linecolor": "white",
            "showbackground": true,
            "ticks": "",
            "zerolinecolor": "white"
           },
           "yaxis": {
            "backgroundcolor": "#E5ECF6",
            "gridcolor": "white",
            "gridwidth": 2,
            "linecolor": "white",
            "showbackground": true,
            "ticks": "",
            "zerolinecolor": "white"
           },
           "zaxis": {
            "backgroundcolor": "#E5ECF6",
            "gridcolor": "white",
            "gridwidth": 2,
            "linecolor": "white",
            "showbackground": true,
            "ticks": "",
            "zerolinecolor": "white"
           }
          },
          "shapedefaults": {
           "line": {
            "color": "#2a3f5f"
           }
          },
          "ternary": {
           "aaxis": {
            "gridcolor": "white",
            "linecolor": "white",
            "ticks": ""
           },
           "baxis": {
            "gridcolor": "white",
            "linecolor": "white",
            "ticks": ""
           },
           "bgcolor": "#E5ECF6",
           "caxis": {
            "gridcolor": "white",
            "linecolor": "white",
            "ticks": ""
           }
          },
          "title": {
           "x": 0.05
          },
          "xaxis": {
           "automargin": true,
           "gridcolor": "white",
           "linecolor": "white",
           "ticks": "",
           "title": {
            "standoff": 15
           },
           "zerolinecolor": "white",
           "zerolinewidth": 2
          },
          "yaxis": {
           "automargin": true,
           "gridcolor": "white",
           "linecolor": "white",
           "ticks": "",
           "title": {
            "standoff": 15
           },
           "zerolinecolor": "white",
           "zerolinewidth": 2
          }
         }
        },
        "title": {
         "font": {
          "color": "black",
          "size": 18
         },
         "text": "Population Pyramids of Selected Latin American Countries (1990)"
        },
        "width": 1200,
        "xaxis": {
         "anchor": "y",
         "domain": [
          0,
          0.45
         ],
         "title": {
          "text": "Number of People"
         }
        },
        "xaxis2": {
         "anchor": "y2",
         "domain": [
          0.55,
          1
         ],
         "title": {
          "text": "Number of People"
         }
        },
        "xaxis3": {
         "anchor": "y3",
         "domain": [
          0,
          0.45
         ],
         "title": {
          "text": "Number of People"
         }
        },
        "xaxis4": {
         "anchor": "y4",
         "domain": [
          0.55,
          1
         ],
         "title": {
          "text": "Number of People"
         }
        },
        "yaxis": {
         "anchor": "x",
         "domain": [
          0.625,
          1
         ],
         "title": {
          "text": "Age"
         }
        },
        "yaxis2": {
         "anchor": "x2",
         "domain": [
          0.625,
          1
         ],
         "title": {
          "text": "Age"
         }
        },
        "yaxis3": {
         "anchor": "x3",
         "domain": [
          0,
          0.375
         ],
         "title": {
          "text": "Age"
         }
        },
        "yaxis4": {
         "anchor": "x4",
         "domain": [
          0,
          0.375
         ],
         "title": {
          "text": "Age"
         }
        }
       }
      },
      "text/html": [
       "<div>            <script src=\"https://cdnjs.cloudflare.com/ajax/libs/mathjax/2.7.5/MathJax.js?config=TeX-AMS-MML_SVG\"></script><script type=\"text/javascript\">if (window.MathJax && window.MathJax.Hub && window.MathJax.Hub.Config) {window.MathJax.Hub.Config({SVG: {font: \"STIX-Web\"}});}</script>                <script type=\"text/javascript\">window.PlotlyConfig = {MathJaxConfig: 'local'};</script>\n",
       "        <script charset=\"utf-8\" src=\"https://cdn.plot.ly/plotly-3.0.0.min.js\"></script>                <div id=\"1e47cebf-43b4-4f46-b837-3c1a41866e68\" class=\"plotly-graph-div\" style=\"height:1000px; width:1200px;\"></div>            <script type=\"text/javascript\">                window.PLOTLYENV=window.PLOTLYENV || {};                                if (document.getElementById(\"1e47cebf-43b4-4f46-b837-3c1a41866e68\")) {                    Plotly.newPlot(                        \"1e47cebf-43b4-4f46-b837-3c1a41866e68\",                        [{\"hoverinfo\":\"skip\",\"marker\":{\"color\":\"olive\",\"line\":{\"color\":\"black\",\"width\":1}},\"name\":\"CHL - Men\",\"orientation\":\"h\",\"x\":{\"dtype\":\"f8\",\"bdata\":\"AAAAAKQYJkEAAAAAKGYkQQAAAACGsSNBAAAAAD6SI0EAAAAAMkYjQQAAAADKLyJBAAAAANZ\\u002fIEEAAAAAXJUcQQAAAABUtBdBAAAAAPQAE0EAAAAAPFgQQQAAAAAgnA1BAAAAAFgjC0EAAAAA8OUCQQAAAADgA\\u002fhAAAAAAODj60AAAAAAQF7eQA==\"},\"y\":[1,6,11,16,21,26,31,36,41,46,51,56,61,66,71,76,81],\"type\":\"bar\",\"xaxis\":\"x\",\"yaxis\":\"y\"},{\"hoverinfo\":\"skip\",\"marker\":{\"color\":\"yellow\",\"line\":{\"color\":\"black\",\"width\":1}},\"name\":\"CHL - Women\",\"orientation\":\"h\",\"x\":{\"dtype\":\"f8\",\"bdata\":\"AAAAAEooJcEAAAAAUqcjwQAAAABkCSPBAAAAAIYEI8EAAAAAQOsiwQAAAACqECLBAAAAAJx5IMEAAAAAZK0cwQAAAAC44BfBAAAAADwHE8EAAAAAQKkQwQAAAACgFQ\\u002fBAAAAAGh2DcEAAAAAsPAFwQAAAABwLf\\u002fAAAAAALC29cAAAAAAoPjxwA==\"},\"y\":[1,6,11,16,21,26,31,36,41,46,51,56,61,66,71,76,81],\"type\":\"bar\",\"xaxis\":\"x\",\"yaxis\":\"y\"},{\"hoverinfo\":\"skip\",\"marker\":{\"color\":\"olive\",\"line\":{\"color\":\"black\",\"width\":1}},\"name\":\"BRA - Men\",\"orientation\":\"h\",\"x\":{\"dtype\":\"f8\",\"bdata\":\"AAAAAF50YUEAAABgnIphQQAAAAAPJmBBAAAAgNHWXEEAAABAJHdaQQAAAEAVE1lBAAAAgETfVUEAAABAtj9SQQAAAIAt\\u002f0xBAAAAgNSRR0EAAACABXhDQQAAAACJjD9BAAAAAFN9OUEAAAAAKlwyQQAAAABYeCdBAAAAAJDZG0EAAAAATJsTQQ==\"},\"y\":[1,6,11,16,21,26,31,36,41,46,51,56,61,66,71,76,81],\"type\":\"bar\",\"xaxis\":\"x2\",\"yaxis\":\"y2\"},{\"hoverinfo\":\"skip\",\"marker\":{\"color\":\"yellow\",\"line\":{\"color\":\"black\",\"width\":1}},\"name\":\"BRA - Women\",\"orientation\":\"h\",\"x\":{\"dtype\":\"f8\",\"bdata\":\"AAAAYJ3jYMEAAABgFxRhwQAAAAClsV\\u002fBAAAAQLp0XMEAAAAAx0dawQAAAIBtC1nBAAAAgLj0VcEAAABAH3JSwQAAAADlW03BAAAAgH4sR8EAAAAAvgpEwQAAAAChxUHBAAAAAMrCPcEAAAAAP6c1wQAAAACGlyzBAAAAAK77IcEAAAAAlIEbwQ==\"},\"y\":[1,6,11,16,21,26,31,36,41,46,51,56,61,66,71,76,81],\"type\":\"bar\",\"xaxis\":\"x2\",\"yaxis\":\"y2\"},{\"hoverinfo\":\"skip\",\"marker\":{\"color\":\"olive\",\"line\":{\"color\":\"black\",\"width\":1}},\"name\":\"ARG - Men\",\"orientation\":\"h\",\"x\":{\"dtype\":\"f8\",\"bdata\":\"AAAAAL2gOkEAAAAAm9M5QQAAAAC4LTlBAAAAAHjQNUEAAAAAlAMzQQAAAAA0UDJBAAAAACV3MUEAAAAAvXUwQQAAAACe2y1BAAAAALC+KUEAAAAAVl0mQQAAAABqOSRBAAAAAPjGIUEAAAAA2CccQQAAAABwHBRBAAAAANBrCUEAAAAASPIAQQ==\"},\"y\":[1,6,11,16,21,26,31,36,41,46,51,56,61,66,71,76,81],\"type\":\"bar\",\"xaxis\":\"x3\",\"yaxis\":\"y3\"},{\"hoverinfo\":\"skip\",\"marker\":{\"color\":\"yellow\",\"line\":{\"color\":\"black\",\"width\":1}},\"name\":\"ARG - Women\",\"orientation\":\"h\",\"x\":{\"dtype\":\"f8\",\"bdata\":\"AAAAAPRuOcEAAAAAkN04wQAAAAAUNDjBAAAAAJZbNcEAAAAAcsYywQAAAAAoFDLBAAAAAGlbMcEAAAAAbYEwwQAAAACsRS7BAAAAAHR8KsEAAAAArncnwQAAAAB+4SXBAAAAAILtJMEAAAAA4OUhwQAAAACIcRzBAAAAAFTMFMEAAAAAEKkRwQ==\"},\"y\":[1,6,11,16,21,26,31,36,41,46,51,56,61,66,71,76,81],\"type\":\"bar\",\"xaxis\":\"x3\",\"yaxis\":\"y3\"},{\"hoverinfo\":\"skip\",\"marker\":{\"color\":\"olive\",\"line\":{\"color\":\"black\",\"width\":1}},\"name\":\"PER - Men\",\"orientation\":\"h\",\"x\":{\"dtype\":\"f8\",\"bdata\":\"AAAAAGNjOEEAAAAAZT82QQAAAAAgjTRBAAAAAKCpMkEAAAAA2gMwQQAAAAC66ipBAAAAAOKRJkEAAAAAcOciQQAAAABArR5BAAAAACAfGEEAAAAA5KQUQQAAAAD8ChFBAAAAAPC5CUEAAAAAANgCQQAAAABwQvlAAAAAAMC270AAAAAAIOvlQA==\"},\"y\":[1,6,11,16,21,26,31,36,41,46,51,56,61,66,71,76,81],\"type\":\"bar\",\"xaxis\":\"x4\",\"yaxis\":\"y4\"},{\"hoverinfo\":\"skip\",\"marker\":{\"color\":\"yellow\",\"line\":{\"color\":\"black\",\"width\":1}},\"name\":\"PER - Women\",\"orientation\":\"h\",\"x\":{\"dtype\":\"f8\",\"bdata\":\"AAAAAIqSN8EAAAAA1aM1wQAAAAAoETTBAAAAACJUMsEAAAAAXtIvwQAAAAAIFyvBAAAAAHglJ8EAAAAAQLwjwQAAAABAFiDBAAAAANDkGMEAAAAAVNcUwQAAAAA8JxHBAAAAAIBhCsEAAAAAyOYDwQAAAADgG\\u002fzAAAAAAHDH8sAAAAAAAJvtwA==\"},\"y\":[1,6,11,16,21,26,31,36,41,46,51,56,61,66,71,76,81],\"type\":\"bar\",\"xaxis\":\"x4\",\"yaxis\":\"y4\"}],                        {\"template\":{\"data\":{\"histogram2dcontour\":[{\"type\":\"histogram2dcontour\",\"colorbar\":{\"outlinewidth\":0,\"ticks\":\"\"},\"colorscale\":[[0.0,\"#0d0887\"],[0.1111111111111111,\"#46039f\"],[0.2222222222222222,\"#7201a8\"],[0.3333333333333333,\"#9c179e\"],[0.4444444444444444,\"#bd3786\"],[0.5555555555555556,\"#d8576b\"],[0.6666666666666666,\"#ed7953\"],[0.7777777777777778,\"#fb9f3a\"],[0.8888888888888888,\"#fdca26\"],[1.0,\"#f0f921\"]]}],\"choropleth\":[{\"type\":\"choropleth\",\"colorbar\":{\"outlinewidth\":0,\"ticks\":\"\"}}],\"histogram2d\":[{\"type\":\"histogram2d\",\"colorbar\":{\"outlinewidth\":0,\"ticks\":\"\"},\"colorscale\":[[0.0,\"#0d0887\"],[0.1111111111111111,\"#46039f\"],[0.2222222222222222,\"#7201a8\"],[0.3333333333333333,\"#9c179e\"],[0.4444444444444444,\"#bd3786\"],[0.5555555555555556,\"#d8576b\"],[0.6666666666666666,\"#ed7953\"],[0.7777777777777778,\"#fb9f3a\"],[0.8888888888888888,\"#fdca26\"],[1.0,\"#f0f921\"]]}],\"heatmap\":[{\"type\":\"heatmap\",\"colorbar\":{\"outlinewidth\":0,\"ticks\":\"\"},\"colorscale\":[[0.0,\"#0d0887\"],[0.1111111111111111,\"#46039f\"],[0.2222222222222222,\"#7201a8\"],[0.3333333333333333,\"#9c179e\"],[0.4444444444444444,\"#bd3786\"],[0.5555555555555556,\"#d8576b\"],[0.6666666666666666,\"#ed7953\"],[0.7777777777777778,\"#fb9f3a\"],[0.8888888888888888,\"#fdca26\"],[1.0,\"#f0f921\"]]}],\"contourcarpet\":[{\"type\":\"contourcarpet\",\"colorbar\":{\"outlinewidth\":0,\"ticks\":\"\"}}],\"contour\":[{\"type\":\"contour\",\"colorbar\":{\"outlinewidth\":0,\"ticks\":\"\"},\"colorscale\":[[0.0,\"#0d0887\"],[0.1111111111111111,\"#46039f\"],[0.2222222222222222,\"#7201a8\"],[0.3333333333333333,\"#9c179e\"],[0.4444444444444444,\"#bd3786\"],[0.5555555555555556,\"#d8576b\"],[0.6666666666666666,\"#ed7953\"],[0.7777777777777778,\"#fb9f3a\"],[0.8888888888888888,\"#fdca26\"],[1.0,\"#f0f921\"]]}],\"surface\":[{\"type\":\"surface\",\"colorbar\":{\"outlinewidth\":0,\"ticks\":\"\"},\"colorscale\":[[0.0,\"#0d0887\"],[0.1111111111111111,\"#46039f\"],[0.2222222222222222,\"#7201a8\"],[0.3333333333333333,\"#9c179e\"],[0.4444444444444444,\"#bd3786\"],[0.5555555555555556,\"#d8576b\"],[0.6666666666666666,\"#ed7953\"],[0.7777777777777778,\"#fb9f3a\"],[0.8888888888888888,\"#fdca26\"],[1.0,\"#f0f921\"]]}],\"mesh3d\":[{\"type\":\"mesh3d\",\"colorbar\":{\"outlinewidth\":0,\"ticks\":\"\"}}],\"scatter\":[{\"fillpattern\":{\"fillmode\":\"overlay\",\"size\":10,\"solidity\":0.2},\"type\":\"scatter\"}],\"parcoords\":[{\"type\":\"parcoords\",\"line\":{\"colorbar\":{\"outlinewidth\":0,\"ticks\":\"\"}}}],\"scatterpolargl\":[{\"type\":\"scatterpolargl\",\"marker\":{\"colorbar\":{\"outlinewidth\":0,\"ticks\":\"\"}}}],\"bar\":[{\"error_x\":{\"color\":\"#2a3f5f\"},\"error_y\":{\"color\":\"#2a3f5f\"},\"marker\":{\"line\":{\"color\":\"#E5ECF6\",\"width\":0.5},\"pattern\":{\"fillmode\":\"overlay\",\"size\":10,\"solidity\":0.2}},\"type\":\"bar\"}],\"scattergeo\":[{\"type\":\"scattergeo\",\"marker\":{\"colorbar\":{\"outlinewidth\":0,\"ticks\":\"\"}}}],\"scatterpolar\":[{\"type\":\"scatterpolar\",\"marker\":{\"colorbar\":{\"outlinewidth\":0,\"ticks\":\"\"}}}],\"histogram\":[{\"marker\":{\"pattern\":{\"fillmode\":\"overlay\",\"size\":10,\"solidity\":0.2}},\"type\":\"histogram\"}],\"scattergl\":[{\"type\":\"scattergl\",\"marker\":{\"colorbar\":{\"outlinewidth\":0,\"ticks\":\"\"}}}],\"scatter3d\":[{\"type\":\"scatter3d\",\"line\":{\"colorbar\":{\"outlinewidth\":0,\"ticks\":\"\"}},\"marker\":{\"colorbar\":{\"outlinewidth\":0,\"ticks\":\"\"}}}],\"scattermap\":[{\"type\":\"scattermap\",\"marker\":{\"colorbar\":{\"outlinewidth\":0,\"ticks\":\"\"}}}],\"scattermapbox\":[{\"type\":\"scattermapbox\",\"marker\":{\"colorbar\":{\"outlinewidth\":0,\"ticks\":\"\"}}}],\"scatterternary\":[{\"type\":\"scatterternary\",\"marker\":{\"colorbar\":{\"outlinewidth\":0,\"ticks\":\"\"}}}],\"scattercarpet\":[{\"type\":\"scattercarpet\",\"marker\":{\"colorbar\":{\"outlinewidth\":0,\"ticks\":\"\"}}}],\"carpet\":[{\"aaxis\":{\"endlinecolor\":\"#2a3f5f\",\"gridcolor\":\"white\",\"linecolor\":\"white\",\"minorgridcolor\":\"white\",\"startlinecolor\":\"#2a3f5f\"},\"baxis\":{\"endlinecolor\":\"#2a3f5f\",\"gridcolor\":\"white\",\"linecolor\":\"white\",\"minorgridcolor\":\"white\",\"startlinecolor\":\"#2a3f5f\"},\"type\":\"carpet\"}],\"table\":[{\"cells\":{\"fill\":{\"color\":\"#EBF0F8\"},\"line\":{\"color\":\"white\"}},\"header\":{\"fill\":{\"color\":\"#C8D4E3\"},\"line\":{\"color\":\"white\"}},\"type\":\"table\"}],\"barpolar\":[{\"marker\":{\"line\":{\"color\":\"#E5ECF6\",\"width\":0.5},\"pattern\":{\"fillmode\":\"overlay\",\"size\":10,\"solidity\":0.2}},\"type\":\"barpolar\"}],\"pie\":[{\"automargin\":true,\"type\":\"pie\"}]},\"layout\":{\"autotypenumbers\":\"strict\",\"colorway\":[\"#636efa\",\"#EF553B\",\"#00cc96\",\"#ab63fa\",\"#FFA15A\",\"#19d3f3\",\"#FF6692\",\"#B6E880\",\"#FF97FF\",\"#FECB52\"],\"font\":{\"color\":\"#2a3f5f\"},\"hovermode\":\"closest\",\"hoverlabel\":{\"align\":\"left\"},\"paper_bgcolor\":\"white\",\"plot_bgcolor\":\"#E5ECF6\",\"polar\":{\"bgcolor\":\"#E5ECF6\",\"angularaxis\":{\"gridcolor\":\"white\",\"linecolor\":\"white\",\"ticks\":\"\"},\"radialaxis\":{\"gridcolor\":\"white\",\"linecolor\":\"white\",\"ticks\":\"\"}},\"ternary\":{\"bgcolor\":\"#E5ECF6\",\"aaxis\":{\"gridcolor\":\"white\",\"linecolor\":\"white\",\"ticks\":\"\"},\"baxis\":{\"gridcolor\":\"white\",\"linecolor\":\"white\",\"ticks\":\"\"},\"caxis\":{\"gridcolor\":\"white\",\"linecolor\":\"white\",\"ticks\":\"\"}},\"coloraxis\":{\"colorbar\":{\"outlinewidth\":0,\"ticks\":\"\"}},\"colorscale\":{\"sequential\":[[0.0,\"#0d0887\"],[0.1111111111111111,\"#46039f\"],[0.2222222222222222,\"#7201a8\"],[0.3333333333333333,\"#9c179e\"],[0.4444444444444444,\"#bd3786\"],[0.5555555555555556,\"#d8576b\"],[0.6666666666666666,\"#ed7953\"],[0.7777777777777778,\"#fb9f3a\"],[0.8888888888888888,\"#fdca26\"],[1.0,\"#f0f921\"]],\"sequentialminus\":[[0.0,\"#0d0887\"],[0.1111111111111111,\"#46039f\"],[0.2222222222222222,\"#7201a8\"],[0.3333333333333333,\"#9c179e\"],[0.4444444444444444,\"#bd3786\"],[0.5555555555555556,\"#d8576b\"],[0.6666666666666666,\"#ed7953\"],[0.7777777777777778,\"#fb9f3a\"],[0.8888888888888888,\"#fdca26\"],[1.0,\"#f0f921\"]],\"diverging\":[[0,\"#8e0152\"],[0.1,\"#c51b7d\"],[0.2,\"#de77ae\"],[0.3,\"#f1b6da\"],[0.4,\"#fde0ef\"],[0.5,\"#f7f7f7\"],[0.6,\"#e6f5d0\"],[0.7,\"#b8e186\"],[0.8,\"#7fbc41\"],[0.9,\"#4d9221\"],[1,\"#276419\"]]},\"xaxis\":{\"gridcolor\":\"white\",\"linecolor\":\"white\",\"ticks\":\"\",\"title\":{\"standoff\":15},\"zerolinecolor\":\"white\",\"automargin\":true,\"zerolinewidth\":2},\"yaxis\":{\"gridcolor\":\"white\",\"linecolor\":\"white\",\"ticks\":\"\",\"title\":{\"standoff\":15},\"zerolinecolor\":\"white\",\"automargin\":true,\"zerolinewidth\":2},\"scene\":{\"xaxis\":{\"backgroundcolor\":\"#E5ECF6\",\"gridcolor\":\"white\",\"linecolor\":\"white\",\"showbackground\":true,\"ticks\":\"\",\"zerolinecolor\":\"white\",\"gridwidth\":2},\"yaxis\":{\"backgroundcolor\":\"#E5ECF6\",\"gridcolor\":\"white\",\"linecolor\":\"white\",\"showbackground\":true,\"ticks\":\"\",\"zerolinecolor\":\"white\",\"gridwidth\":2},\"zaxis\":{\"backgroundcolor\":\"#E5ECF6\",\"gridcolor\":\"white\",\"linecolor\":\"white\",\"showbackground\":true,\"ticks\":\"\",\"zerolinecolor\":\"white\",\"gridwidth\":2}},\"shapedefaults\":{\"line\":{\"color\":\"#2a3f5f\"}},\"annotationdefaults\":{\"arrowcolor\":\"#2a3f5f\",\"arrowhead\":0,\"arrowwidth\":1},\"geo\":{\"bgcolor\":\"white\",\"landcolor\":\"#E5ECF6\",\"subunitcolor\":\"white\",\"showland\":true,\"showlakes\":true,\"lakecolor\":\"white\"},\"title\":{\"x\":0.05},\"mapbox\":{\"style\":\"light\"}}},\"xaxis\":{\"anchor\":\"y\",\"domain\":[0.0,0.45],\"title\":{\"text\":\"Number of People\"}},\"yaxis\":{\"anchor\":\"x\",\"domain\":[0.625,1.0],\"title\":{\"text\":\"Age\"}},\"xaxis2\":{\"anchor\":\"y2\",\"domain\":[0.55,1.0],\"title\":{\"text\":\"Number of People\"}},\"yaxis2\":{\"anchor\":\"x2\",\"domain\":[0.625,1.0],\"title\":{\"text\":\"Age\"}},\"xaxis3\":{\"anchor\":\"y3\",\"domain\":[0.0,0.45],\"title\":{\"text\":\"Number of People\"}},\"yaxis3\":{\"anchor\":\"x3\",\"domain\":[0.0,0.375],\"title\":{\"text\":\"Age\"}},\"xaxis4\":{\"anchor\":\"y4\",\"domain\":[0.55,1.0],\"title\":{\"text\":\"Number of People\"}},\"yaxis4\":{\"anchor\":\"x4\",\"domain\":[0.0,0.375],\"title\":{\"text\":\"Age\"}},\"annotations\":[{\"font\":{\"size\":16},\"showarrow\":false,\"text\":\"Chile\",\"x\":0.225,\"xanchor\":\"center\",\"xref\":\"paper\",\"y\":1.0,\"yanchor\":\"bottom\",\"yref\":\"paper\"},{\"font\":{\"size\":16},\"showarrow\":false,\"text\":\"Brazil\",\"x\":0.775,\"xanchor\":\"center\",\"xref\":\"paper\",\"y\":1.0,\"yanchor\":\"bottom\",\"yref\":\"paper\"},{\"font\":{\"size\":16},\"showarrow\":false,\"text\":\"Argentina\",\"x\":0.225,\"xanchor\":\"center\",\"xref\":\"paper\",\"y\":0.375,\"yanchor\":\"bottom\",\"yref\":\"paper\"},{\"font\":{\"size\":16},\"showarrow\":false,\"text\":\"Peru\",\"x\":0.775,\"xanchor\":\"center\",\"xref\":\"paper\",\"y\":0.375,\"yanchor\":\"bottom\",\"yref\":\"paper\"}],\"title\":{\"text\":\"Population Pyramids of Selected Latin American Countries (1990)\",\"font\":{\"size\":18,\"color\":\"black\"}},\"font\":{\"family\":\"Arial, sans-serif\",\"size\":14,\"color\":\"black\"},\"barmode\":\"overlay\",\"width\":1200,\"height\":1000,\"paper_bgcolor\":\"#f4f4f4\",\"plot_bgcolor\":\"#ffffff\",\"showlegend\":true},                        {\"responsive\": true}                    ).then(function(){\n",
       "                            \n",
       "var gd = document.getElementById('1e47cebf-43b4-4f46-b837-3c1a41866e68');\n",
       "var x = new MutationObserver(function (mutations, observer) {{\n",
       "        var display = window.getComputedStyle(gd).display;\n",
       "        if (!display || display === 'none') {{\n",
       "            console.log([gd, 'removed!']);\n",
       "            Plotly.purge(gd);\n",
       "            observer.disconnect();\n",
       "        }}\n",
       "}});\n",
       "\n",
       "// Listen for the removal of the full notebook cells\n",
       "var notebookContainer = gd.closest('#notebook-container');\n",
       "if (notebookContainer) {{\n",
       "    x.observe(notebookContainer, {childList: true});\n",
       "}}\n",
       "\n",
       "// Listen for the clearing of the current output cell\n",
       "var outputEl = gd.closest('.output');\n",
       "if (outputEl) {{\n",
       "    x.observe(outputEl, {childList: true});\n",
       "}}\n",
       "\n",
       "                        })                };            </script>        </div>"
      ]
     },
     "metadata": {},
     "output_type": "display_data"
    }
   ],
   "source": [
    "# The population pyramids of various Operation Condor countries after the end of the dictatorship period.\n",
    "    # Note: Compare with the figure above to see the changes from 1960-1990\n",
    "\n",
    "# Create a subplot layout (2 rows, 2 columns)\n",
    "fig_4 = make_subplots(rows=2, cols=2, subplot_titles=country_titles)\n",
    "\n",
    "# Loop through each country and generate its population pyramid\n",
    "for i, (country, title) in enumerate(zip(country_choices, country_titles)):\n",
    "    condor_countries = wbdata.get_dataframe(categories, country=country)\n",
    "\n",
    "    # Extract male and female data\n",
    "    male_data = condor_countries.loc[str(1990), :].filter(regex=\"Male\").values\n",
    "    female_data = -condor_countries.loc[str(1990), :].filter(regex=\"Female\").values  # Negative for left alignment\n",
    "    age_groups = [int(s[:2]) + 1 for s in ages]  # Convert age labels to integers\n",
    "\n",
    "    # Determine subplot position\n",
    "    row = i // 2 + 1\n",
    "    col = i % 2 + 1\n",
    "\n",
    "    # Add Male bar trace\n",
    "    fig_4.add_trace(go.Bar(\n",
    "        x=male_data,\n",
    "        y=age_groups,\n",
    "        orientation='h',\n",
    "        name=f'{country} - Men',\n",
    "        marker=dict(color='olive', line=dict(color='black', width=1)),\n",
    "        hoverinfo='skip'\n",
    "    ), row=row, col=col)\n",
    "\n",
    "    # Add Female bar trace\n",
    "    fig_4.add_trace(go.Bar(\n",
    "        x=female_data,\n",
    "        y=age_groups,\n",
    "        orientation='h',\n",
    "        name=f'{country} - Women',\n",
    "        marker=dict(color='yellow', line=dict(color='black', width=1)),\n",
    "        hoverinfo='skip'\n",
    "    ), row=row, col=col)\n",
    "\n",
    " # Customize X and Y axis labels for each subplot\n",
    "    fig_4.update_xaxes(title_text=\"Number of People\", row=row, col=col)\n",
    "    fig_4.update_yaxes(title_text=\"Age\", row=row, col=col)\n",
    "\n",
    "# Updated layout for aesthetics!\n",
    "fig_4.update_layout(\n",
    "    title=\"Population Pyramids of Selected Latin American Countries (1990)\",\n",
    "    title_font=dict(size=18, color='black'),\n",
    "    barmode='overlay',\n",
    "    width=1200,  # Adjust width\n",
    "    height=1000,  # Adjust height\n",
    "    paper_bgcolor='#f4f4f4',\n",
    "    plot_bgcolor='#ffffff',\n",
    "    font=dict(family=\"Arial, sans-serif\", size=14, color=\"black\"),\n",
    "    showlegend=True\n",
    ")\n",
    "\n",
    "# Make the final figure\n",
    "fig_4.show()"
   ]
  },
  {
   "cell_type": "markdown",
   "id": "aa35aad0-9859-484e-9369-1aa8dcfbeb43",
   "metadata": {},
   "source": [
    "Taken together, these population pyramids reveal the change in population demography related to economic development during the Condor period (1960-1990). \n",
    "\n",
    "As demonstrated, many countries subjected to Operation Condor still had wide-based population pyramids in 1960. This indicates a low development, including a high population growth rate, shorter life-spans, and a high total fertility rate. By 1990, many of these pyramids have grown wider in the middle, indicating a country's move from low-income to middle-income status. For example, compare Chile (1960) to Chile (1990) to see the growth of the middle-aged cohort.\n",
    "\n",
    "While it was achieved through deplorable means, the short-term growth focus of Operation Condor meant target countries prioritized rapid development at all expense and fundamentally altered population growth dynamics. In the following animated section, we look at how these changes can be viewed over time, and with global context."
   ]
  },
  {
   "cell_type": "markdown",
   "id": "8dd109f2-f5dc-4bbe-be90-24e92bf7e37a",
   "metadata": {},
   "source": [
    "## [5] Animated Population Pyramid"
   ]
  },
  {
   "cell_type": "code",
   "execution_count": 13,
   "id": "9d4714c8-0f78-43d7-ad1c-a255d204b5f6",
   "metadata": {},
   "outputs": [
    {
     "data": {
      "application/vnd.plotly.v1+json": {
       "config": {
        "plotlyServerURL": "https://plot.ly"
       },
       "data": [
        {
         "hoverinfo": "skip",
         "marker": {
          "color": "olive",
          "line": {
           "color": "black",
           "width": 1
          }
         },
         "name": "Men",
         "orientation": "h",
         "type": "bar",
         "x": {
          "bdata": "AAAANur3r0EAAACiHQSsQQAAAKDij6hBAAAAAh83pkEAAADOxSuiQQAAAJQBx51BAAAAXOqEnEEAAAAYus6ZQQAAANCWf5dBAAAAPKHBk0EAAADgk5ePQQAAACBbzYxBAAAAwAyOh0EAAAC44lqBQQAAAICuSnZBAAAAQL7haEEAAABgiiBhQQ==",
          "dtype": "f8"
         },
         "y": [
          1,
          6,
          11,
          16,
          21,
          26,
          31,
          36,
          41,
          46,
          51,
          56,
          61,
          66,
          71,
          76,
          81,
          85
         ]
        },
        {
         "hoverinfo": "skip",
         "marker": {
          "color": "yellow",
          "line": {
           "color": "black",
           "width": 1
          }
         },
         "name": "Women",
         "orientation": "h",
         "type": "bar",
         "x": {
          "bdata": "AAAAYsqgrsEAAAAGMtSqwQAAADR0i6fBAAAA+vZupcEAAADg7ZKhwQAAAGjE2ZzBAAAAmOaum8EAAACgmzGZwQAAAPw0U5fBAAAAONCdlMEAAABA9LuQwQAAADh25I/BAAAA6AY+i8EAAAAAi3KFwQAAAFArVn7BAAAA0NbhcsEAAADAn2tuwQ==",
          "dtype": "f8"
         },
         "y": [
          1,
          6,
          11,
          16,
          21,
          26,
          31,
          36,
          41,
          46,
          51,
          56,
          61,
          66,
          71,
          76,
          81,
          85
         ]
        }
       ],
       "frames": [
        {
         "data": [
          {
           "hoverinfo": "skip",
           "marker": {
            "color": "olive",
            "line": {
             "color": "black",
             "width": 1
            }
           },
           "name": "Men",
           "orientation": "h",
           "type": "bar",
           "x": {
            "bdata": "AAAANur3r0EAAACiHQSsQQAAAKDij6hBAAAAAh83pkEAAADOxSuiQQAAAJQBx51BAAAAXOqEnEEAAAAYus6ZQQAAANCWf5dBAAAAPKHBk0EAAADgk5ePQQAAACBbzYxBAAAAwAyOh0EAAAC44lqBQQAAAICuSnZBAAAAQL7haEEAAABgiiBhQQ==",
            "dtype": "f8"
           },
           "y": [
            1,
            6,
            11,
            16,
            21,
            26,
            31,
            36,
            41,
            46,
            51,
            56,
            61,
            66,
            71,
            76,
            81,
            85
           ]
          },
          {
           "hoverinfo": "skip",
           "marker": {
            "color": "yellow",
            "line": {
             "color": "black",
             "width": 1
            }
           },
           "name": "Women",
           "orientation": "h",
           "type": "bar",
           "x": {
            "bdata": "AAAAYsqgrsEAAAAGMtSqwQAAADR0i6fBAAAA+vZupcEAAADg7ZKhwQAAAGjE2ZzBAAAAmOaum8EAAACgmzGZwQAAAPw0U5fBAAAAONCdlMEAAABA9LuQwQAAADh25I/BAAAA6AY+i8EAAAAAi3KFwQAAAFArVn7BAAAA0NbhcsEAAADAn2tuwQ==",
            "dtype": "f8"
           },
           "y": [
            1,
            6,
            11,
            16,
            21,
            26,
            31,
            36,
            41,
            46,
            51,
            56,
            61,
            66,
            71,
            76,
            81,
            85
           ]
          }
         ],
         "name": "1970"
        },
        {
         "data": [
          {
           "hoverinfo": "skip",
           "marker": {
            "color": "olive",
            "line": {
             "color": "black",
             "width": 1
            }
           },
           "name": "Men",
           "orientation": "h",
           "type": "bar",
           "x": {
            "bdata": "AAAAJinNsEEAAAAQBxKwQQAAAIbaSq5BAAAAGLldq0EAAAA8QfGnQQAAALiajqVBAAAAuM+aoUEAAAB8XaKcQQAAAEzoEptBAAAAAGsNmEEAAABAWFyVQQAAAOT/TpFBAAAAuJnziUEAAAAgin2FQQAAABByF35BAAAAkHulcUEAAACAQ1hnQQ==",
            "dtype": "f8"
           },
           "y": [
            1,
            6,
            11,
            16,
            21,
            26,
            31,
            36,
            41,
            46,
            51,
            56,
            61,
            66,
            71,
            76,
            81,
            85
           ]
          },
          {
           "hoverinfo": "skip",
           "marker": {
            "color": "yellow",
            "line": {
             "color": "black",
             "width": 1
            }
           },
           "name": "Women",
           "orientation": "h",
           "type": "bar",
           "x": {
            "bdata": "AAAAXFgGsMEAAAA06q+uwQAAABIp+6zBAAAAZmtCqsEAAABOGRynwQAAAOwe+KTBAAAAThkVocEAAADURNKbwQAAAMB2g5rBAAAAUPzml8EAAADUteCVwQAAAARd+ZLBAAAA6DePjcEAAADIv4iKwQAAADjWaYTBAAAA4LQfe8EAAAAw/lt2wQ==",
            "dtype": "f8"
           },
           "y": [
            1,
            6,
            11,
            16,
            21,
            26,
            31,
            36,
            41,
            46,
            51,
            56,
            61,
            66,
            71,
            76,
            81,
            85
           ]
          }
         ],
         "name": "1980"
        },
        {
         "data": [
          {
           "hoverinfo": "skip",
           "marker": {
            "color": "olive",
            "line": {
             "color": "black",
             "width": 1
            }
           },
           "name": "Men",
           "orientation": "h",
           "type": "bar",
           "x": {
            "bdata": "AAAAany8s0EAAACU5MGxQQAAAHsbCLBBAAAADMZgr0EAAAAMKYatQQAAAJ7NnapBAAAALmREp0EAAAAEZN6kQQAAAIJP4KBBAAAAzK0Jm0EAAACk9OGYQQAAAExTU5VBAAAA1IXhkUEAAABgh3+KQQAAAACUPYFBAAAAgOY3d0EAAADA4EhxQQ==",
            "dtype": "f8"
           },
           "y": [
            1,
            6,
            11,
            16,
            21,
            26,
            31,
            36,
            41,
            46,
            51,
            56,
            61,
            66,
            71,
            76,
            81,
            85
           ]
          },
          {
           "hoverinfo": "skip",
           "marker": {
            "color": "yellow",
            "line": {
             "color": "black",
             "width": 1
            }
           },
           "name": "Women",
           "orientation": "h",
           "type": "bar",
           "x": {
            "bdata": "AAAAw2ipssEAAAA50t+wwQAAAIwdkq7BAAAAHhQPrsEAAAAqBG2swQAAAEIkx6nBAAAA+GChpsEAAAAGMG6kwQAAALbXhKDBAAAAPPiqmsEAAABwnBGZwQAAANTlIZbBAAAANM+Uk8EAAAC8uQKQwQAAAPg6pobBAAAAmESegcEAAACYli2BwQ==",
            "dtype": "f8"
           },
           "y": [
            1,
            6,
            11,
            16,
            21,
            26,
            31,
            36,
            41,
            46,
            51,
            56,
            61,
            66,
            71,
            76,
            81,
            85
           ]
          }
         ],
         "name": "1990"
        },
        {
         "data": [
          {
           "hoverinfo": "skip",
           "marker": {
            "color": "olive",
            "line": {
             "color": "black",
             "width": 1
            }
           },
           "name": "Men",
           "orientation": "h",
           "type": "bar",
           "x": {
            "bdata": "AAAAnUlEs0EAAAAIVAyzQQAAAKqwN7NBAAAAbZ6XsUEAAAAiMYOvQQAAAIboh65BAAAAcma0rEEAAADgId+pQQAAAD6fcaZBAAAAxiXYo0EAAABIrmqfQQAAABDXVphBAAAAMDROlUEAAABoBeSQQQAAAKAGCYlBAAAAgHkVf0EAAABwkaB3QQ==",
            "dtype": "f8"
           },
           "y": [
            1,
            6,
            11,
            16,
            21,
            26,
            31,
            36,
            41,
            46,
            51,
            56,
            61,
            66,
            71,
            76,
            81,
            85
           ]
          },
          {
           "hoverinfo": "skip",
           "marker": {
            "color": "yellow",
            "line": {
             "color": "black",
             "width": 1
            }
           },
           "name": "Women",
           "orientation": "h",
           "type": "bar",
           "x": {
            "bdata": "AAAA65EIssEAAADTsOGxwQAAAO8nKLLBAAAA8j/CsMEAAACwWE6uwQAAAPbKnq3BAAAAFO/5q8EAAABYylSpwQAAAD7OIabBAAAA+nTSo8EAAADIv6ifwQAAAJCwDJnBAAAAuIjnlsEAAABQRzSTwQAAAECeNY/BAAAAWNpkhsEAAACg2qeGwQ==",
            "dtype": "f8"
           },
           "y": [
            1,
            6,
            11,
            16,
            21,
            26,
            31,
            36,
            41,
            46,
            51,
            56,
            61,
            66,
            71,
            76,
            81,
            85
           ]
          }
         ],
         "name": "2000"
        },
        {
         "data": [
          {
           "hoverinfo": "skip",
           "marker": {
            "color": "olive",
            "line": {
             "color": "black",
             "width": 1
            }
           },
           "name": "Men",
           "orientation": "h",
           "type": "bar",
           "x": {
            "bdata": "AAAAzMKXtEEAAACJVWizQQAAAD2f1LJBAAAAjtvTskEAAACXRtmyQQAAAJL5G7FBAAAAvKKUrkEAAACoEZetQQAAABJHq6tBAAAA7v2bqEEAAAAmJt6kQQAAAMjS/aFBAAAA2IZlm0EAAABMM9KTQQAAACBaD49BAAAACGcShUEAAAA4h9+CQQ==",
            "dtype": "f8"
           },
           "y": [
            1,
            6,
            11,
            16,
            21,
            26,
            31,
            36,
            41,
            46,
            51,
            56,
            61,
            66,
            71,
            76,
            81,
            85
           ]
          },
          {
           "hoverinfo": "skip",
           "marker": {
            "color": "yellow",
            "line": {
             "color": "black",
             "width": 1
            }
           },
           "name": "Women",
           "orientation": "h",
           "type": "bar",
           "x": {
            "bdata": "AAAAUi1Hs8EAAAD/jyaywQAAAFUtm7HBAAAAmcCyscEAAABrBuWxwQAAAHjYarDBAAAAxiqlrcEAAAC80fGswQAAAPRCRqvBAAAAQq2KqMEAAABsyjSlwQAAAJptwKLBAAAAoBU3ncEAAADggwyWwQAAAOAeuJLBAAAA4JXpi8EAAADQinCQwQ==",
            "dtype": "f8"
           },
           "y": [
            1,
            6,
            11,
            16,
            21,
            26,
            31,
            36,
            41,
            46,
            51,
            56,
            61,
            66,
            71,
            76,
            81,
            85
           ]
          }
         ],
         "name": "2010"
        },
        {
         "data": [
          {
           "hoverinfo": "skip",
           "marker": {
            "color": "olive",
            "line": {
             "color": "black",
             "width": 1
            }
           },
           "name": "Men",
           "orientation": "h",
           "type": "bar",
           "x": {
            "bdata": "AAAAD3HktEEAAACE6yi1QQAAAIUWSrRBAAAAw5Yys0EAAAAU8IyyQQAAABLAdLJBAAAA5WlwskEAAAD7H62wQQAAABwqmK1BAAAAOuljrEEAAACavySqQQAAAKAXpaZBAAAAgvBsokEAAABgYwOeQQAAACRG8pRBAAAAmDE8ikEAAACoVRCLQQ==",
            "dtype": "f8"
           },
           "y": [
            1,
            6,
            11,
            16,
            21,
            26,
            31,
            36,
            41,
            46,
            51,
            56,
            61,
            66,
            71,
            76,
            81,
            85
           ]
          },
          {
           "hoverinfo": "skip",
           "marker": {
            "color": "yellow",
            "line": {
             "color": "black",
             "width": 1
            }
           },
           "name": "Women",
           "orientation": "h",
           "type": "bar",
           "x": {
            "bdata": "AAAAaMK7s8EAAABtfd2zwQAAADctA7PBAAAAmp4HssEAAADnUnOxwQAAAGMTb7HBAAAAMJOQscEAAAC2qRSwwQAAAGSe4KzBAAAAmM8ZrMEAAAB6ZE2qwQAAAPqMTqfBAAAAOACto8EAAABKD9agwQAAAJQcqpjBAAAAKM+ykMEAAADwcCeWwQ==",
            "dtype": "f8"
           },
           "y": [
            1,
            6,
            11,
            16,
            21,
            26,
            31,
            36,
            41,
            46,
            51,
            56,
            61,
            66,
            71,
            76,
            81,
            85
           ]
          }
         ],
         "name": "2020"
        }
       ],
       "layout": {
        "barmode": "overlay",
        "font": {
         "color": "black",
         "family": "Arial, sans-serif",
         "size": 14
        },
        "height": 600,
        "paper_bgcolor": "#f4f4f4",
        "plot_bgcolor": "#ffffff",
        "showlegend": true,
        "sliders": [
         {
          "currentvalue": {
           "font": {
            "size": 16
           },
           "prefix": "Year: "
          },
          "steps": [
           {
            "args": [
             [
              "1970"
             ],
             {
              "frame": {
               "duration": 0,
               "redraw": true
              },
              "mode": "immediate"
             }
            ],
            "label": "1970",
            "method": "animate"
           },
           {
            "args": [
             [
              "1980"
             ],
             {
              "frame": {
               "duration": 0,
               "redraw": true
              },
              "mode": "immediate"
             }
            ],
            "label": "1980",
            "method": "animate"
           },
           {
            "args": [
             [
              "1990"
             ],
             {
              "frame": {
               "duration": 0,
               "redraw": true
              },
              "mode": "immediate"
             }
            ],
            "label": "1990",
            "method": "animate"
           },
           {
            "args": [
             [
              "2000"
             ],
             {
              "frame": {
               "duration": 0,
               "redraw": true
              },
              "mode": "immediate"
             }
            ],
            "label": "2000",
            "method": "animate"
           },
           {
            "args": [
             [
              "2010"
             ],
             {
              "frame": {
               "duration": 0,
               "redraw": true
              },
              "mode": "immediate"
             }
            ],
            "label": "2010",
            "method": "animate"
           },
           {
            "args": [
             [
              "2020"
             ],
             {
              "frame": {
               "duration": 0,
               "redraw": true
              },
              "mode": "immediate"
             }
            ],
            "label": "2020",
            "method": "animate"
           }
          ]
         }
        ],
        "template": {
         "data": {
          "bar": [
           {
            "error_x": {
             "color": "#2a3f5f"
            },
            "error_y": {
             "color": "#2a3f5f"
            },
            "marker": {
             "line": {
              "color": "#E5ECF6",
              "width": 0.5
             },
             "pattern": {
              "fillmode": "overlay",
              "size": 10,
              "solidity": 0.2
             }
            },
            "type": "bar"
           }
          ],
          "barpolar": [
           {
            "marker": {
             "line": {
              "color": "#E5ECF6",
              "width": 0.5
             },
             "pattern": {
              "fillmode": "overlay",
              "size": 10,
              "solidity": 0.2
             }
            },
            "type": "barpolar"
           }
          ],
          "carpet": [
           {
            "aaxis": {
             "endlinecolor": "#2a3f5f",
             "gridcolor": "white",
             "linecolor": "white",
             "minorgridcolor": "white",
             "startlinecolor": "#2a3f5f"
            },
            "baxis": {
             "endlinecolor": "#2a3f5f",
             "gridcolor": "white",
             "linecolor": "white",
             "minorgridcolor": "white",
             "startlinecolor": "#2a3f5f"
            },
            "type": "carpet"
           }
          ],
          "choropleth": [
           {
            "colorbar": {
             "outlinewidth": 0,
             "ticks": ""
            },
            "type": "choropleth"
           }
          ],
          "contour": [
           {
            "colorbar": {
             "outlinewidth": 0,
             "ticks": ""
            },
            "colorscale": [
             [
              0,
              "#0d0887"
             ],
             [
              0.1111111111111111,
              "#46039f"
             ],
             [
              0.2222222222222222,
              "#7201a8"
             ],
             [
              0.3333333333333333,
              "#9c179e"
             ],
             [
              0.4444444444444444,
              "#bd3786"
             ],
             [
              0.5555555555555556,
              "#d8576b"
             ],
             [
              0.6666666666666666,
              "#ed7953"
             ],
             [
              0.7777777777777778,
              "#fb9f3a"
             ],
             [
              0.8888888888888888,
              "#fdca26"
             ],
             [
              1,
              "#f0f921"
             ]
            ],
            "type": "contour"
           }
          ],
          "contourcarpet": [
           {
            "colorbar": {
             "outlinewidth": 0,
             "ticks": ""
            },
            "type": "contourcarpet"
           }
          ],
          "heatmap": [
           {
            "colorbar": {
             "outlinewidth": 0,
             "ticks": ""
            },
            "colorscale": [
             [
              0,
              "#0d0887"
             ],
             [
              0.1111111111111111,
              "#46039f"
             ],
             [
              0.2222222222222222,
              "#7201a8"
             ],
             [
              0.3333333333333333,
              "#9c179e"
             ],
             [
              0.4444444444444444,
              "#bd3786"
             ],
             [
              0.5555555555555556,
              "#d8576b"
             ],
             [
              0.6666666666666666,
              "#ed7953"
             ],
             [
              0.7777777777777778,
              "#fb9f3a"
             ],
             [
              0.8888888888888888,
              "#fdca26"
             ],
             [
              1,
              "#f0f921"
             ]
            ],
            "type": "heatmap"
           }
          ],
          "histogram": [
           {
            "marker": {
             "pattern": {
              "fillmode": "overlay",
              "size": 10,
              "solidity": 0.2
             }
            },
            "type": "histogram"
           }
          ],
          "histogram2d": [
           {
            "colorbar": {
             "outlinewidth": 0,
             "ticks": ""
            },
            "colorscale": [
             [
              0,
              "#0d0887"
             ],
             [
              0.1111111111111111,
              "#46039f"
             ],
             [
              0.2222222222222222,
              "#7201a8"
             ],
             [
              0.3333333333333333,
              "#9c179e"
             ],
             [
              0.4444444444444444,
              "#bd3786"
             ],
             [
              0.5555555555555556,
              "#d8576b"
             ],
             [
              0.6666666666666666,
              "#ed7953"
             ],
             [
              0.7777777777777778,
              "#fb9f3a"
             ],
             [
              0.8888888888888888,
              "#fdca26"
             ],
             [
              1,
              "#f0f921"
             ]
            ],
            "type": "histogram2d"
           }
          ],
          "histogram2dcontour": [
           {
            "colorbar": {
             "outlinewidth": 0,
             "ticks": ""
            },
            "colorscale": [
             [
              0,
              "#0d0887"
             ],
             [
              0.1111111111111111,
              "#46039f"
             ],
             [
              0.2222222222222222,
              "#7201a8"
             ],
             [
              0.3333333333333333,
              "#9c179e"
             ],
             [
              0.4444444444444444,
              "#bd3786"
             ],
             [
              0.5555555555555556,
              "#d8576b"
             ],
             [
              0.6666666666666666,
              "#ed7953"
             ],
             [
              0.7777777777777778,
              "#fb9f3a"
             ],
             [
              0.8888888888888888,
              "#fdca26"
             ],
             [
              1,
              "#f0f921"
             ]
            ],
            "type": "histogram2dcontour"
           }
          ],
          "mesh3d": [
           {
            "colorbar": {
             "outlinewidth": 0,
             "ticks": ""
            },
            "type": "mesh3d"
           }
          ],
          "parcoords": [
           {
            "line": {
             "colorbar": {
              "outlinewidth": 0,
              "ticks": ""
             }
            },
            "type": "parcoords"
           }
          ],
          "pie": [
           {
            "automargin": true,
            "type": "pie"
           }
          ],
          "scatter": [
           {
            "fillpattern": {
             "fillmode": "overlay",
             "size": 10,
             "solidity": 0.2
            },
            "type": "scatter"
           }
          ],
          "scatter3d": [
           {
            "line": {
             "colorbar": {
              "outlinewidth": 0,
              "ticks": ""
             }
            },
            "marker": {
             "colorbar": {
              "outlinewidth": 0,
              "ticks": ""
             }
            },
            "type": "scatter3d"
           }
          ],
          "scattercarpet": [
           {
            "marker": {
             "colorbar": {
              "outlinewidth": 0,
              "ticks": ""
             }
            },
            "type": "scattercarpet"
           }
          ],
          "scattergeo": [
           {
            "marker": {
             "colorbar": {
              "outlinewidth": 0,
              "ticks": ""
             }
            },
            "type": "scattergeo"
           }
          ],
          "scattergl": [
           {
            "marker": {
             "colorbar": {
              "outlinewidth": 0,
              "ticks": ""
             }
            },
            "type": "scattergl"
           }
          ],
          "scattermap": [
           {
            "marker": {
             "colorbar": {
              "outlinewidth": 0,
              "ticks": ""
             }
            },
            "type": "scattermap"
           }
          ],
          "scattermapbox": [
           {
            "marker": {
             "colorbar": {
              "outlinewidth": 0,
              "ticks": ""
             }
            },
            "type": "scattermapbox"
           }
          ],
          "scatterpolar": [
           {
            "marker": {
             "colorbar": {
              "outlinewidth": 0,
              "ticks": ""
             }
            },
            "type": "scatterpolar"
           }
          ],
          "scatterpolargl": [
           {
            "marker": {
             "colorbar": {
              "outlinewidth": 0,
              "ticks": ""
             }
            },
            "type": "scatterpolargl"
           }
          ],
          "scatterternary": [
           {
            "marker": {
             "colorbar": {
              "outlinewidth": 0,
              "ticks": ""
             }
            },
            "type": "scatterternary"
           }
          ],
          "surface": [
           {
            "colorbar": {
             "outlinewidth": 0,
             "ticks": ""
            },
            "colorscale": [
             [
              0,
              "#0d0887"
             ],
             [
              0.1111111111111111,
              "#46039f"
             ],
             [
              0.2222222222222222,
              "#7201a8"
             ],
             [
              0.3333333333333333,
              "#9c179e"
             ],
             [
              0.4444444444444444,
              "#bd3786"
             ],
             [
              0.5555555555555556,
              "#d8576b"
             ],
             [
              0.6666666666666666,
              "#ed7953"
             ],
             [
              0.7777777777777778,
              "#fb9f3a"
             ],
             [
              0.8888888888888888,
              "#fdca26"
             ],
             [
              1,
              "#f0f921"
             ]
            ],
            "type": "surface"
           }
          ],
          "table": [
           {
            "cells": {
             "fill": {
              "color": "#EBF0F8"
             },
             "line": {
              "color": "white"
             }
            },
            "header": {
             "fill": {
              "color": "#C8D4E3"
             },
             "line": {
              "color": "white"
             }
            },
            "type": "table"
           }
          ]
         },
         "layout": {
          "annotationdefaults": {
           "arrowcolor": "#2a3f5f",
           "arrowhead": 0,
           "arrowwidth": 1
          },
          "autotypenumbers": "strict",
          "coloraxis": {
           "colorbar": {
            "outlinewidth": 0,
            "ticks": ""
           }
          },
          "colorscale": {
           "diverging": [
            [
             0,
             "#8e0152"
            ],
            [
             0.1,
             "#c51b7d"
            ],
            [
             0.2,
             "#de77ae"
            ],
            [
             0.3,
             "#f1b6da"
            ],
            [
             0.4,
             "#fde0ef"
            ],
            [
             0.5,
             "#f7f7f7"
            ],
            [
             0.6,
             "#e6f5d0"
            ],
            [
             0.7,
             "#b8e186"
            ],
            [
             0.8,
             "#7fbc41"
            ],
            [
             0.9,
             "#4d9221"
            ],
            [
             1,
             "#276419"
            ]
           ],
           "sequential": [
            [
             0,
             "#0d0887"
            ],
            [
             0.1111111111111111,
             "#46039f"
            ],
            [
             0.2222222222222222,
             "#7201a8"
            ],
            [
             0.3333333333333333,
             "#9c179e"
            ],
            [
             0.4444444444444444,
             "#bd3786"
            ],
            [
             0.5555555555555556,
             "#d8576b"
            ],
            [
             0.6666666666666666,
             "#ed7953"
            ],
            [
             0.7777777777777778,
             "#fb9f3a"
            ],
            [
             0.8888888888888888,
             "#fdca26"
            ],
            [
             1,
             "#f0f921"
            ]
           ],
           "sequentialminus": [
            [
             0,
             "#0d0887"
            ],
            [
             0.1111111111111111,
             "#46039f"
            ],
            [
             0.2222222222222222,
             "#7201a8"
            ],
            [
             0.3333333333333333,
             "#9c179e"
            ],
            [
             0.4444444444444444,
             "#bd3786"
            ],
            [
             0.5555555555555556,
             "#d8576b"
            ],
            [
             0.6666666666666666,
             "#ed7953"
            ],
            [
             0.7777777777777778,
             "#fb9f3a"
            ],
            [
             0.8888888888888888,
             "#fdca26"
            ],
            [
             1,
             "#f0f921"
            ]
           ]
          },
          "colorway": [
           "#636efa",
           "#EF553B",
           "#00cc96",
           "#ab63fa",
           "#FFA15A",
           "#19d3f3",
           "#FF6692",
           "#B6E880",
           "#FF97FF",
           "#FECB52"
          ],
          "font": {
           "color": "#2a3f5f"
          },
          "geo": {
           "bgcolor": "white",
           "lakecolor": "white",
           "landcolor": "#E5ECF6",
           "showlakes": true,
           "showland": true,
           "subunitcolor": "white"
          },
          "hoverlabel": {
           "align": "left"
          },
          "hovermode": "closest",
          "mapbox": {
           "style": "light"
          },
          "paper_bgcolor": "white",
          "plot_bgcolor": "#E5ECF6",
          "polar": {
           "angularaxis": {
            "gridcolor": "white",
            "linecolor": "white",
            "ticks": ""
           },
           "bgcolor": "#E5ECF6",
           "radialaxis": {
            "gridcolor": "white",
            "linecolor": "white",
            "ticks": ""
           }
          },
          "scene": {
           "xaxis": {
            "backgroundcolor": "#E5ECF6",
            "gridcolor": "white",
            "gridwidth": 2,
            "linecolor": "white",
            "showbackground": true,
            "ticks": "",
            "zerolinecolor": "white"
           },
           "yaxis": {
            "backgroundcolor": "#E5ECF6",
            "gridcolor": "white",
            "gridwidth": 2,
            "linecolor": "white",
            "showbackground": true,
            "ticks": "",
            "zerolinecolor": "white"
           },
           "zaxis": {
            "backgroundcolor": "#E5ECF6",
            "gridcolor": "white",
            "gridwidth": 2,
            "linecolor": "white",
            "showbackground": true,
            "ticks": "",
            "zerolinecolor": "white"
           }
          },
          "shapedefaults": {
           "line": {
            "color": "#2a3f5f"
           }
          },
          "ternary": {
           "aaxis": {
            "gridcolor": "white",
            "linecolor": "white",
            "ticks": ""
           },
           "baxis": {
            "gridcolor": "white",
            "linecolor": "white",
            "ticks": ""
           },
           "bgcolor": "#E5ECF6",
           "caxis": {
            "gridcolor": "white",
            "linecolor": "white",
            "ticks": ""
           }
          },
          "title": {
           "x": 0.05
          },
          "xaxis": {
           "automargin": true,
           "gridcolor": "white",
           "linecolor": "white",
           "ticks": "",
           "title": {
            "standoff": 15
           },
           "zerolinecolor": "white",
           "zerolinewidth": 2
          },
          "yaxis": {
           "automargin": true,
           "gridcolor": "white",
           "linecolor": "white",
           "ticks": "",
           "title": {
            "standoff": 15
           },
           "zerolinecolor": "white",
           "zerolinewidth": 2
          }
         }
        },
        "title": {
         "text": "Animated World Population Pyramid (1970-2020)"
        },
        "updatemenus": [
         {
          "buttons": [
           {
            "args": [
             null,
             {
              "frame": {
               "duration": 1000,
               "redraw": true
              },
              "fromcurrent": true
             }
            ],
            "label": "Play",
            "method": "animate"
           },
           {
            "args": [
             [
              null
             ],
             {
              "frame": {
               "duration": 0,
               "redraw": true
              },
              "mode": "immediate"
             }
            ],
            "label": "Pause",
            "method": "animate"
           }
          ],
          "type": "buttons",
          "x": 0.1,
          "y": 0
         }
        ],
        "width": 700,
        "xaxis": {
         "gridcolor": "lightgray",
         "range": [
          -355003268,
          355003268
         ],
         "title": {
          "text": "Population"
         }
        },
        "yaxis": {
         "gridcolor": "lightgray",
         "title": {
          "text": "Age Group"
         }
        }
       }
      },
      "text/html": [
       "<div>            <script src=\"https://cdnjs.cloudflare.com/ajax/libs/mathjax/2.7.5/MathJax.js?config=TeX-AMS-MML_SVG\"></script><script type=\"text/javascript\">if (window.MathJax && window.MathJax.Hub && window.MathJax.Hub.Config) {window.MathJax.Hub.Config({SVG: {font: \"STIX-Web\"}});}</script>                <script type=\"text/javascript\">window.PlotlyConfig = {MathJaxConfig: 'local'};</script>\n",
       "        <script charset=\"utf-8\" src=\"https://cdn.plot.ly/plotly-3.0.0.min.js\"></script>                <div id=\"bb214637-40fe-4222-bd05-5c9e0b4f4d7c\" class=\"plotly-graph-div\" style=\"height:600px; width:700px;\"></div>            <script type=\"text/javascript\">                window.PLOTLYENV=window.PLOTLYENV || {};                                if (document.getElementById(\"bb214637-40fe-4222-bd05-5c9e0b4f4d7c\")) {                    Plotly.newPlot(                        \"bb214637-40fe-4222-bd05-5c9e0b4f4d7c\",                        [{\"hoverinfo\":\"skip\",\"marker\":{\"color\":\"olive\",\"line\":{\"color\":\"black\",\"width\":1}},\"name\":\"Men\",\"orientation\":\"h\",\"x\":{\"dtype\":\"f8\",\"bdata\":\"AAAANur3r0EAAACiHQSsQQAAAKDij6hBAAAAAh83pkEAAADOxSuiQQAAAJQBx51BAAAAXOqEnEEAAAAYus6ZQQAAANCWf5dBAAAAPKHBk0EAAADgk5ePQQAAACBbzYxBAAAAwAyOh0EAAAC44lqBQQAAAICuSnZBAAAAQL7haEEAAABgiiBhQQ==\"},\"y\":[1,6,11,16,21,26,31,36,41,46,51,56,61,66,71,76,81,85],\"type\":\"bar\"},{\"hoverinfo\":\"skip\",\"marker\":{\"color\":\"yellow\",\"line\":{\"color\":\"black\",\"width\":1}},\"name\":\"Women\",\"orientation\":\"h\",\"x\":{\"dtype\":\"f8\",\"bdata\":\"AAAAYsqgrsEAAAAGMtSqwQAAADR0i6fBAAAA+vZupcEAAADg7ZKhwQAAAGjE2ZzBAAAAmOaum8EAAACgmzGZwQAAAPw0U5fBAAAAONCdlMEAAABA9LuQwQAAADh25I\\u002fBAAAA6AY+i8EAAAAAi3KFwQAAAFArVn7BAAAA0NbhcsEAAADAn2tuwQ==\"},\"y\":[1,6,11,16,21,26,31,36,41,46,51,56,61,66,71,76,81,85],\"type\":\"bar\"}],                        {\"template\":{\"data\":{\"histogram2dcontour\":[{\"type\":\"histogram2dcontour\",\"colorbar\":{\"outlinewidth\":0,\"ticks\":\"\"},\"colorscale\":[[0.0,\"#0d0887\"],[0.1111111111111111,\"#46039f\"],[0.2222222222222222,\"#7201a8\"],[0.3333333333333333,\"#9c179e\"],[0.4444444444444444,\"#bd3786\"],[0.5555555555555556,\"#d8576b\"],[0.6666666666666666,\"#ed7953\"],[0.7777777777777778,\"#fb9f3a\"],[0.8888888888888888,\"#fdca26\"],[1.0,\"#f0f921\"]]}],\"choropleth\":[{\"type\":\"choropleth\",\"colorbar\":{\"outlinewidth\":0,\"ticks\":\"\"}}],\"histogram2d\":[{\"type\":\"histogram2d\",\"colorbar\":{\"outlinewidth\":0,\"ticks\":\"\"},\"colorscale\":[[0.0,\"#0d0887\"],[0.1111111111111111,\"#46039f\"],[0.2222222222222222,\"#7201a8\"],[0.3333333333333333,\"#9c179e\"],[0.4444444444444444,\"#bd3786\"],[0.5555555555555556,\"#d8576b\"],[0.6666666666666666,\"#ed7953\"],[0.7777777777777778,\"#fb9f3a\"],[0.8888888888888888,\"#fdca26\"],[1.0,\"#f0f921\"]]}],\"heatmap\":[{\"type\":\"heatmap\",\"colorbar\":{\"outlinewidth\":0,\"ticks\":\"\"},\"colorscale\":[[0.0,\"#0d0887\"],[0.1111111111111111,\"#46039f\"],[0.2222222222222222,\"#7201a8\"],[0.3333333333333333,\"#9c179e\"],[0.4444444444444444,\"#bd3786\"],[0.5555555555555556,\"#d8576b\"],[0.6666666666666666,\"#ed7953\"],[0.7777777777777778,\"#fb9f3a\"],[0.8888888888888888,\"#fdca26\"],[1.0,\"#f0f921\"]]}],\"contourcarpet\":[{\"type\":\"contourcarpet\",\"colorbar\":{\"outlinewidth\":0,\"ticks\":\"\"}}],\"contour\":[{\"type\":\"contour\",\"colorbar\":{\"outlinewidth\":0,\"ticks\":\"\"},\"colorscale\":[[0.0,\"#0d0887\"],[0.1111111111111111,\"#46039f\"],[0.2222222222222222,\"#7201a8\"],[0.3333333333333333,\"#9c179e\"],[0.4444444444444444,\"#bd3786\"],[0.5555555555555556,\"#d8576b\"],[0.6666666666666666,\"#ed7953\"],[0.7777777777777778,\"#fb9f3a\"],[0.8888888888888888,\"#fdca26\"],[1.0,\"#f0f921\"]]}],\"surface\":[{\"type\":\"surface\",\"colorbar\":{\"outlinewidth\":0,\"ticks\":\"\"},\"colorscale\":[[0.0,\"#0d0887\"],[0.1111111111111111,\"#46039f\"],[0.2222222222222222,\"#7201a8\"],[0.3333333333333333,\"#9c179e\"],[0.4444444444444444,\"#bd3786\"],[0.5555555555555556,\"#d8576b\"],[0.6666666666666666,\"#ed7953\"],[0.7777777777777778,\"#fb9f3a\"],[0.8888888888888888,\"#fdca26\"],[1.0,\"#f0f921\"]]}],\"mesh3d\":[{\"type\":\"mesh3d\",\"colorbar\":{\"outlinewidth\":0,\"ticks\":\"\"}}],\"scatter\":[{\"fillpattern\":{\"fillmode\":\"overlay\",\"size\":10,\"solidity\":0.2},\"type\":\"scatter\"}],\"parcoords\":[{\"type\":\"parcoords\",\"line\":{\"colorbar\":{\"outlinewidth\":0,\"ticks\":\"\"}}}],\"scatterpolargl\":[{\"type\":\"scatterpolargl\",\"marker\":{\"colorbar\":{\"outlinewidth\":0,\"ticks\":\"\"}}}],\"bar\":[{\"error_x\":{\"color\":\"#2a3f5f\"},\"error_y\":{\"color\":\"#2a3f5f\"},\"marker\":{\"line\":{\"color\":\"#E5ECF6\",\"width\":0.5},\"pattern\":{\"fillmode\":\"overlay\",\"size\":10,\"solidity\":0.2}},\"type\":\"bar\"}],\"scattergeo\":[{\"type\":\"scattergeo\",\"marker\":{\"colorbar\":{\"outlinewidth\":0,\"ticks\":\"\"}}}],\"scatterpolar\":[{\"type\":\"scatterpolar\",\"marker\":{\"colorbar\":{\"outlinewidth\":0,\"ticks\":\"\"}}}],\"histogram\":[{\"marker\":{\"pattern\":{\"fillmode\":\"overlay\",\"size\":10,\"solidity\":0.2}},\"type\":\"histogram\"}],\"scattergl\":[{\"type\":\"scattergl\",\"marker\":{\"colorbar\":{\"outlinewidth\":0,\"ticks\":\"\"}}}],\"scatter3d\":[{\"type\":\"scatter3d\",\"line\":{\"colorbar\":{\"outlinewidth\":0,\"ticks\":\"\"}},\"marker\":{\"colorbar\":{\"outlinewidth\":0,\"ticks\":\"\"}}}],\"scattermap\":[{\"type\":\"scattermap\",\"marker\":{\"colorbar\":{\"outlinewidth\":0,\"ticks\":\"\"}}}],\"scattermapbox\":[{\"type\":\"scattermapbox\",\"marker\":{\"colorbar\":{\"outlinewidth\":0,\"ticks\":\"\"}}}],\"scatterternary\":[{\"type\":\"scatterternary\",\"marker\":{\"colorbar\":{\"outlinewidth\":0,\"ticks\":\"\"}}}],\"scattercarpet\":[{\"type\":\"scattercarpet\",\"marker\":{\"colorbar\":{\"outlinewidth\":0,\"ticks\":\"\"}}}],\"carpet\":[{\"aaxis\":{\"endlinecolor\":\"#2a3f5f\",\"gridcolor\":\"white\",\"linecolor\":\"white\",\"minorgridcolor\":\"white\",\"startlinecolor\":\"#2a3f5f\"},\"baxis\":{\"endlinecolor\":\"#2a3f5f\",\"gridcolor\":\"white\",\"linecolor\":\"white\",\"minorgridcolor\":\"white\",\"startlinecolor\":\"#2a3f5f\"},\"type\":\"carpet\"}],\"table\":[{\"cells\":{\"fill\":{\"color\":\"#EBF0F8\"},\"line\":{\"color\":\"white\"}},\"header\":{\"fill\":{\"color\":\"#C8D4E3\"},\"line\":{\"color\":\"white\"}},\"type\":\"table\"}],\"barpolar\":[{\"marker\":{\"line\":{\"color\":\"#E5ECF6\",\"width\":0.5},\"pattern\":{\"fillmode\":\"overlay\",\"size\":10,\"solidity\":0.2}},\"type\":\"barpolar\"}],\"pie\":[{\"automargin\":true,\"type\":\"pie\"}]},\"layout\":{\"autotypenumbers\":\"strict\",\"colorway\":[\"#636efa\",\"#EF553B\",\"#00cc96\",\"#ab63fa\",\"#FFA15A\",\"#19d3f3\",\"#FF6692\",\"#B6E880\",\"#FF97FF\",\"#FECB52\"],\"font\":{\"color\":\"#2a3f5f\"},\"hovermode\":\"closest\",\"hoverlabel\":{\"align\":\"left\"},\"paper_bgcolor\":\"white\",\"plot_bgcolor\":\"#E5ECF6\",\"polar\":{\"bgcolor\":\"#E5ECF6\",\"angularaxis\":{\"gridcolor\":\"white\",\"linecolor\":\"white\",\"ticks\":\"\"},\"radialaxis\":{\"gridcolor\":\"white\",\"linecolor\":\"white\",\"ticks\":\"\"}},\"ternary\":{\"bgcolor\":\"#E5ECF6\",\"aaxis\":{\"gridcolor\":\"white\",\"linecolor\":\"white\",\"ticks\":\"\"},\"baxis\":{\"gridcolor\":\"white\",\"linecolor\":\"white\",\"ticks\":\"\"},\"caxis\":{\"gridcolor\":\"white\",\"linecolor\":\"white\",\"ticks\":\"\"}},\"coloraxis\":{\"colorbar\":{\"outlinewidth\":0,\"ticks\":\"\"}},\"colorscale\":{\"sequential\":[[0.0,\"#0d0887\"],[0.1111111111111111,\"#46039f\"],[0.2222222222222222,\"#7201a8\"],[0.3333333333333333,\"#9c179e\"],[0.4444444444444444,\"#bd3786\"],[0.5555555555555556,\"#d8576b\"],[0.6666666666666666,\"#ed7953\"],[0.7777777777777778,\"#fb9f3a\"],[0.8888888888888888,\"#fdca26\"],[1.0,\"#f0f921\"]],\"sequentialminus\":[[0.0,\"#0d0887\"],[0.1111111111111111,\"#46039f\"],[0.2222222222222222,\"#7201a8\"],[0.3333333333333333,\"#9c179e\"],[0.4444444444444444,\"#bd3786\"],[0.5555555555555556,\"#d8576b\"],[0.6666666666666666,\"#ed7953\"],[0.7777777777777778,\"#fb9f3a\"],[0.8888888888888888,\"#fdca26\"],[1.0,\"#f0f921\"]],\"diverging\":[[0,\"#8e0152\"],[0.1,\"#c51b7d\"],[0.2,\"#de77ae\"],[0.3,\"#f1b6da\"],[0.4,\"#fde0ef\"],[0.5,\"#f7f7f7\"],[0.6,\"#e6f5d0\"],[0.7,\"#b8e186\"],[0.8,\"#7fbc41\"],[0.9,\"#4d9221\"],[1,\"#276419\"]]},\"xaxis\":{\"gridcolor\":\"white\",\"linecolor\":\"white\",\"ticks\":\"\",\"title\":{\"standoff\":15},\"zerolinecolor\":\"white\",\"automargin\":true,\"zerolinewidth\":2},\"yaxis\":{\"gridcolor\":\"white\",\"linecolor\":\"white\",\"ticks\":\"\",\"title\":{\"standoff\":15},\"zerolinecolor\":\"white\",\"automargin\":true,\"zerolinewidth\":2},\"scene\":{\"xaxis\":{\"backgroundcolor\":\"#E5ECF6\",\"gridcolor\":\"white\",\"linecolor\":\"white\",\"showbackground\":true,\"ticks\":\"\",\"zerolinecolor\":\"white\",\"gridwidth\":2},\"yaxis\":{\"backgroundcolor\":\"#E5ECF6\",\"gridcolor\":\"white\",\"linecolor\":\"white\",\"showbackground\":true,\"ticks\":\"\",\"zerolinecolor\":\"white\",\"gridwidth\":2},\"zaxis\":{\"backgroundcolor\":\"#E5ECF6\",\"gridcolor\":\"white\",\"linecolor\":\"white\",\"showbackground\":true,\"ticks\":\"\",\"zerolinecolor\":\"white\",\"gridwidth\":2}},\"shapedefaults\":{\"line\":{\"color\":\"#2a3f5f\"}},\"annotationdefaults\":{\"arrowcolor\":\"#2a3f5f\",\"arrowhead\":0,\"arrowwidth\":1},\"geo\":{\"bgcolor\":\"white\",\"landcolor\":\"#E5ECF6\",\"subunitcolor\":\"white\",\"showland\":true,\"showlakes\":true,\"lakecolor\":\"white\"},\"title\":{\"x\":0.05},\"mapbox\":{\"style\":\"light\"}}},\"font\":{\"family\":\"Arial, sans-serif\",\"size\":14,\"color\":\"black\"},\"xaxis\":{\"title\":{\"text\":\"Population\"},\"gridcolor\":\"lightgray\",\"range\":[-355003268.0,355003268.0]},\"yaxis\":{\"title\":{\"text\":\"Age Group\"},\"gridcolor\":\"lightgray\"},\"title\":{\"text\":\"Animated World Population Pyramid (1970-2020)\"},\"width\":700,\"height\":600,\"paper_bgcolor\":\"#f4f4f4\",\"plot_bgcolor\":\"#ffffff\",\"barmode\":\"overlay\",\"showlegend\":true,\"updatemenus\":[{\"buttons\":[{\"args\":[null,{\"frame\":{\"duration\":1000,\"redraw\":true},\"fromcurrent\":true}],\"label\":\"Play\",\"method\":\"animate\"},{\"args\":[[null],{\"frame\":{\"duration\":0,\"redraw\":true},\"mode\":\"immediate\"}],\"label\":\"Pause\",\"method\":\"animate\"}],\"type\":\"buttons\",\"x\":0.1,\"y\":0}],\"sliders\":[{\"currentvalue\":{\"font\":{\"size\":16},\"prefix\":\"Year: \"},\"steps\":[{\"args\":[[\"1970\"],{\"frame\":{\"duration\":0,\"redraw\":true},\"mode\":\"immediate\"}],\"label\":\"1970\",\"method\":\"animate\"},{\"args\":[[\"1980\"],{\"frame\":{\"duration\":0,\"redraw\":true},\"mode\":\"immediate\"}],\"label\":\"1980\",\"method\":\"animate\"},{\"args\":[[\"1990\"],{\"frame\":{\"duration\":0,\"redraw\":true},\"mode\":\"immediate\"}],\"label\":\"1990\",\"method\":\"animate\"},{\"args\":[[\"2000\"],{\"frame\":{\"duration\":0,\"redraw\":true},\"mode\":\"immediate\"}],\"label\":\"2000\",\"method\":\"animate\"},{\"args\":[[\"2010\"],{\"frame\":{\"duration\":0,\"redraw\":true},\"mode\":\"immediate\"}],\"label\":\"2010\",\"method\":\"animate\"},{\"args\":[[\"2020\"],{\"frame\":{\"duration\":0,\"redraw\":true},\"mode\":\"immediate\"}],\"label\":\"2020\",\"method\":\"animate\"}]}]},                        {\"responsive\": true}                    ).then(function(){\n",
       "                            Plotly.addFrames('bb214637-40fe-4222-bd05-5c9e0b4f4d7c', [{\"data\":[{\"hoverinfo\":\"skip\",\"marker\":{\"color\":\"olive\",\"line\":{\"color\":\"black\",\"width\":1}},\"name\":\"Men\",\"orientation\":\"h\",\"x\":{\"dtype\":\"f8\",\"bdata\":\"AAAANur3r0EAAACiHQSsQQAAAKDij6hBAAAAAh83pkEAAADOxSuiQQAAAJQBx51BAAAAXOqEnEEAAAAYus6ZQQAAANCWf5dBAAAAPKHBk0EAAADgk5ePQQAAACBbzYxBAAAAwAyOh0EAAAC44lqBQQAAAICuSnZBAAAAQL7haEEAAABgiiBhQQ==\"},\"y\":[1,6,11,16,21,26,31,36,41,46,51,56,61,66,71,76,81,85],\"type\":\"bar\"},{\"hoverinfo\":\"skip\",\"marker\":{\"color\":\"yellow\",\"line\":{\"color\":\"black\",\"width\":1}},\"name\":\"Women\",\"orientation\":\"h\",\"x\":{\"dtype\":\"f8\",\"bdata\":\"AAAAYsqgrsEAAAAGMtSqwQAAADR0i6fBAAAA+vZupcEAAADg7ZKhwQAAAGjE2ZzBAAAAmOaum8EAAACgmzGZwQAAAPw0U5fBAAAAONCdlMEAAABA9LuQwQAAADh25I\\u002fBAAAA6AY+i8EAAAAAi3KFwQAAAFArVn7BAAAA0NbhcsEAAADAn2tuwQ==\"},\"y\":[1,6,11,16,21,26,31,36,41,46,51,56,61,66,71,76,81,85],\"type\":\"bar\"}],\"name\":\"1970\"},{\"data\":[{\"hoverinfo\":\"skip\",\"marker\":{\"color\":\"olive\",\"line\":{\"color\":\"black\",\"width\":1}},\"name\":\"Men\",\"orientation\":\"h\",\"x\":{\"dtype\":\"f8\",\"bdata\":\"AAAAJinNsEEAAAAQBxKwQQAAAIbaSq5BAAAAGLldq0EAAAA8QfGnQQAAALiajqVBAAAAuM+aoUEAAAB8XaKcQQAAAEzoEptBAAAAAGsNmEEAAABAWFyVQQAAAOT\\u002fTpFBAAAAuJnziUEAAAAgin2FQQAAABByF35BAAAAkHulcUEAAACAQ1hnQQ==\"},\"y\":[1,6,11,16,21,26,31,36,41,46,51,56,61,66,71,76,81,85],\"type\":\"bar\"},{\"hoverinfo\":\"skip\",\"marker\":{\"color\":\"yellow\",\"line\":{\"color\":\"black\",\"width\":1}},\"name\":\"Women\",\"orientation\":\"h\",\"x\":{\"dtype\":\"f8\",\"bdata\":\"AAAAXFgGsMEAAAA06q+uwQAAABIp+6zBAAAAZmtCqsEAAABOGRynwQAAAOwe+KTBAAAAThkVocEAAADURNKbwQAAAMB2g5rBAAAAUPzml8EAAADUteCVwQAAAARd+ZLBAAAA6DePjcEAAADIv4iKwQAAADjWaYTBAAAA4LQfe8EAAAAw\\u002flt2wQ==\"},\"y\":[1,6,11,16,21,26,31,36,41,46,51,56,61,66,71,76,81,85],\"type\":\"bar\"}],\"name\":\"1980\"},{\"data\":[{\"hoverinfo\":\"skip\",\"marker\":{\"color\":\"olive\",\"line\":{\"color\":\"black\",\"width\":1}},\"name\":\"Men\",\"orientation\":\"h\",\"x\":{\"dtype\":\"f8\",\"bdata\":\"AAAAany8s0EAAACU5MGxQQAAAHsbCLBBAAAADMZgr0EAAAAMKYatQQAAAJ7NnapBAAAALmREp0EAAAAEZN6kQQAAAIJP4KBBAAAAzK0Jm0EAAACk9OGYQQAAAExTU5VBAAAA1IXhkUEAAABgh3+KQQAAAACUPYFBAAAAgOY3d0EAAADA4EhxQQ==\"},\"y\":[1,6,11,16,21,26,31,36,41,46,51,56,61,66,71,76,81,85],\"type\":\"bar\"},{\"hoverinfo\":\"skip\",\"marker\":{\"color\":\"yellow\",\"line\":{\"color\":\"black\",\"width\":1}},\"name\":\"Women\",\"orientation\":\"h\",\"x\":{\"dtype\":\"f8\",\"bdata\":\"AAAAw2ipssEAAAA50t+wwQAAAIwdkq7BAAAAHhQPrsEAAAAqBG2swQAAAEIkx6nBAAAA+GChpsEAAAAGMG6kwQAAALbXhKDBAAAAPPiqmsEAAABwnBGZwQAAANTlIZbBAAAANM+Uk8EAAAC8uQKQwQAAAPg6pobBAAAAmESegcEAAACYli2BwQ==\"},\"y\":[1,6,11,16,21,26,31,36,41,46,51,56,61,66,71,76,81,85],\"type\":\"bar\"}],\"name\":\"1990\"},{\"data\":[{\"hoverinfo\":\"skip\",\"marker\":{\"color\":\"olive\",\"line\":{\"color\":\"black\",\"width\":1}},\"name\":\"Men\",\"orientation\":\"h\",\"x\":{\"dtype\":\"f8\",\"bdata\":\"AAAAnUlEs0EAAAAIVAyzQQAAAKqwN7NBAAAAbZ6XsUEAAAAiMYOvQQAAAIboh65BAAAAcma0rEEAAADgId+pQQAAAD6fcaZBAAAAxiXYo0EAAABIrmqfQQAAABDXVphBAAAAMDROlUEAAABoBeSQQQAAAKAGCYlBAAAAgHkVf0EAAABwkaB3QQ==\"},\"y\":[1,6,11,16,21,26,31,36,41,46,51,56,61,66,71,76,81,85],\"type\":\"bar\"},{\"hoverinfo\":\"skip\",\"marker\":{\"color\":\"yellow\",\"line\":{\"color\":\"black\",\"width\":1}},\"name\":\"Women\",\"orientation\":\"h\",\"x\":{\"dtype\":\"f8\",\"bdata\":\"AAAA65EIssEAAADTsOGxwQAAAO8nKLLBAAAA8j\\u002fCsMEAAACwWE6uwQAAAPbKnq3BAAAAFO\\u002f5q8EAAABYylSpwQAAAD7OIabBAAAA+nTSo8EAAADIv6ifwQAAAJCwDJnBAAAAuIjnlsEAAABQRzSTwQAAAECeNY\\u002fBAAAAWNpkhsEAAACg2qeGwQ==\"},\"y\":[1,6,11,16,21,26,31,36,41,46,51,56,61,66,71,76,81,85],\"type\":\"bar\"}],\"name\":\"2000\"},{\"data\":[{\"hoverinfo\":\"skip\",\"marker\":{\"color\":\"olive\",\"line\":{\"color\":\"black\",\"width\":1}},\"name\":\"Men\",\"orientation\":\"h\",\"x\":{\"dtype\":\"f8\",\"bdata\":\"AAAAzMKXtEEAAACJVWizQQAAAD2f1LJBAAAAjtvTskEAAACXRtmyQQAAAJL5G7FBAAAAvKKUrkEAAACoEZetQQAAABJHq6tBAAAA7v2bqEEAAAAmJt6kQQAAAMjS\\u002faFBAAAA2IZlm0EAAABMM9KTQQAAACBaD49BAAAACGcShUEAAAA4h9+CQQ==\"},\"y\":[1,6,11,16,21,26,31,36,41,46,51,56,61,66,71,76,81,85],\"type\":\"bar\"},{\"hoverinfo\":\"skip\",\"marker\":{\"color\":\"yellow\",\"line\":{\"color\":\"black\",\"width\":1}},\"name\":\"Women\",\"orientation\":\"h\",\"x\":{\"dtype\":\"f8\",\"bdata\":\"AAAAUi1Hs8EAAAD\\u002fjyaywQAAAFUtm7HBAAAAmcCyscEAAABrBuWxwQAAAHjYarDBAAAAxiqlrcEAAAC80fGswQAAAPRCRqvBAAAAQq2KqMEAAABsyjSlwQAAAJptwKLBAAAAoBU3ncEAAADggwyWwQAAAOAeuJLBAAAA4JXpi8EAAADQinCQwQ==\"},\"y\":[1,6,11,16,21,26,31,36,41,46,51,56,61,66,71,76,81,85],\"type\":\"bar\"}],\"name\":\"2010\"},{\"data\":[{\"hoverinfo\":\"skip\",\"marker\":{\"color\":\"olive\",\"line\":{\"color\":\"black\",\"width\":1}},\"name\":\"Men\",\"orientation\":\"h\",\"x\":{\"dtype\":\"f8\",\"bdata\":\"AAAAD3HktEEAAACE6yi1QQAAAIUWSrRBAAAAw5Yys0EAAAAU8IyyQQAAABLAdLJBAAAA5WlwskEAAAD7H62wQQAAABwqmK1BAAAAOuljrEEAAACavySqQQAAAKAXpaZBAAAAgvBsokEAAABgYwOeQQAAACRG8pRBAAAAmDE8ikEAAACoVRCLQQ==\"},\"y\":[1,6,11,16,21,26,31,36,41,46,51,56,61,66,71,76,81,85],\"type\":\"bar\"},{\"hoverinfo\":\"skip\",\"marker\":{\"color\":\"yellow\",\"line\":{\"color\":\"black\",\"width\":1}},\"name\":\"Women\",\"orientation\":\"h\",\"x\":{\"dtype\":\"f8\",\"bdata\":\"AAAAaMK7s8EAAABtfd2zwQAAADctA7PBAAAAmp4HssEAAADnUnOxwQAAAGMTb7HBAAAAMJOQscEAAAC2qRSwwQAAAGSe4KzBAAAAmM8ZrMEAAAB6ZE2qwQAAAPqMTqfBAAAAOACto8EAAABKD9agwQAAAJQcqpjBAAAAKM+ykMEAAADwcCeWwQ==\"},\"y\":[1,6,11,16,21,26,31,36,41,46,51,56,61,66,71,76,81,85],\"type\":\"bar\"}],\"name\":\"2020\"}]);\n",
       "                        }).then(function(){\n",
       "                            \n",
       "var gd = document.getElementById('bb214637-40fe-4222-bd05-5c9e0b4f4d7c');\n",
       "var x = new MutationObserver(function (mutations, observer) {{\n",
       "        var display = window.getComputedStyle(gd).display;\n",
       "        if (!display || display === 'none') {{\n",
       "            console.log([gd, 'removed!']);\n",
       "            Plotly.purge(gd);\n",
       "            observer.disconnect();\n",
       "        }}\n",
       "}});\n",
       "\n",
       "// Listen for the removal of the full notebook cells\n",
       "var notebookContainer = gd.closest('#notebook-container');\n",
       "if (notebookContainer) {{\n",
       "    x.observe(notebookContainer, {childList: true});\n",
       "}}\n",
       "\n",
       "// Listen for the clearing of the current output cell\n",
       "var outputEl = gd.closest('.output');\n",
       "if (outputEl) {{\n",
       "    x.observe(outputEl, {childList: true});\n",
       "}}\n",
       "\n",
       "                        })                };            </script>        </div>"
      ]
     },
     "metadata": {},
     "output_type": "display_data"
    }
   ],
   "source": [
    "# Animated Population Pyramid of the World\n",
    "\n",
    "# Define available years\n",
    "years = [1970, 1980, 1990, 2000, 2010, 2020]\n",
    "ages = [f\"{i}-{i+4}\" for i in range(0, 85, 5)] + [\"85+\"]  # Includes 85+ group\n",
    "\n",
    "# Function to create bar traces for a given year\n",
    "def get_traces(year):\n",
    "    male_values = world.loc[str(year)].filter(regex=\"Male\").values\n",
    "    female_values = world.loc[str(year)].filter(regex=\"Female\").values\n",
    "\n",
    "    return [\n",
    "        go.Bar(\n",
    "            x=male_values,\n",
    "            y=[int(s.split('-')[0]) + 1 if '-' in s else int(s[:-1]) for s in ages],\n",
    "            orientation='h',\n",
    "            name='Men',\n",
    "            marker=dict(color='olive', line=dict(color='black', width=1)),\n",
    "            hoverinfo='skip'\n",
    "        ),\n",
    "        go.Bar(\n",
    "            x=-female_values,  # Keep negative values for left alignment\n",
    "            y=[int(s.split('-')[0]) + 1 if '-' in s else int(s[:-1]) for s in ages],\n",
    "            orientation='h',\n",
    "            name='Women',\n",
    "            marker=dict(color='yellow', line=dict(color='black', width=1)),\n",
    "            hoverinfo='skip'\n",
    "        )\n",
    "    ]\n",
    "\n",
    "# Ensure index is properly formatted for lookup\n",
    "max_population = max(world.loc[world.index.astype(str).isin(map(str, years))].filter(regex=\"Male|Female\").max().values)\n",
    "\n",
    "# Create figure with initial data (1970)\n",
    "fig2 = go.Figure(data=get_traces(1970), frames=[\n",
    "    go.Frame(data=get_traces(year), name=str(year)) for year in years\n",
    "])\n",
    "\n",
    "# Update layout with proper axis alignment\n",
    "fig2.update_layout(\n",
    "    title=\"Animated World Population Pyramid (1970-2020)\",\n",
    "    width=700, height=600, paper_bgcolor='#f4f4f4', plot_bgcolor='#ffffff',\n",
    "    font=dict(family=\"Arial, sans-serif\", size=14, color=\"black\"),\n",
    "    xaxis=dict(title=\"Population\", gridcolor='lightgray', range=[-max_population, max_population]),\n",
    "    yaxis=dict(title=\"Age Group\", gridcolor='lightgray'),\n",
    "    barmode='overlay',\n",
    "    showlegend=True,\n",
    "    updatemenus=[{\n",
    "        \"buttons\": [\n",
    "            {\"args\": [None, {\"frame\": {\"duration\": 1000, \"redraw\": True}, \"fromcurrent\": True}],\n",
    "             \"label\": \"Play\", \"method\": \"animate\"},\n",
    "            {\"args\": [[None], {\"frame\": {\"duration\": 0, \"redraw\": True}, \"mode\": \"immediate\"}],\n",
    "             \"label\": \"Pause\", \"method\": \"animate\"}\n",
    "        ],\n",
    "        \"type\": \"buttons\", \"x\": 0.1, \"y\": 0\n",
    "    }],\n",
    "    sliders=[{\n",
    "        \"steps\": [{\"args\": [[str(year)], {\"frame\": {\"duration\": 0, \"redraw\": True}, \"mode\": \"immediate\"}],\n",
    "                   \"label\": str(year), \"method\": \"animate\"} for year in years],\n",
    "        \"currentvalue\": {\"prefix\": \"Year: \", \"font\": {\"size\": 16}}\n",
    "    }]\n",
    ")\n",
    "\n",
    "fig2.show()"
   ]
  },
  {
   "cell_type": "markdown",
   "id": "4bdeaa61-8fe2-40fa-b209-a926a96994c8",
   "metadata": {},
   "source": [
    "## Population Maps"
   ]
  },
  {
   "cell_type": "code",
   "execution_count": null,
   "id": "f9ae9517-9d8d-4930-862e-409e331f8c43",
   "metadata": {},
   "outputs": [],
   "source": [
    "!pip install geopandas contextily matplotlib pandas\n",
    "!pip install --upgrade contextily xyzservices\n",
    "\n",
    "import matplotlib.pyplot as plt\n",
    "import contextily as ctx  \n",
    "import geopandas as gpd\n",
    "file_path = \"south-america_652.geojson\"\n",
    "southamerica= gpd.read_file(file_path)\n",
    "southamerica\n"
   ]
  },
  {
   "cell_type": "code",
   "execution_count": null,
   "id": "8f6dfb3e-ae57-48b7-bdb2-94b50941516e",
   "metadata": {},
   "outputs": [],
   "source": [
    "fig, ax = plt.subplots(figsize=(10, 6))\n",
    "southamerica.plot(ax=ax, edgecolor=\"black\", color=\"pink\")\n",
    "\n",
    "plt.title(\"South America Map\")\n",
    "plt.show()"
   ]
  },
  {
   "cell_type": "code",
   "execution_count": null,
   "id": "e1c76de7-7c5b-4fe9-806e-c385263cbfaf",
   "metadata": {},
   "outputs": [],
   "source": [
    "southamerica.head()"
   ]
  },
  {
   "cell_type": "code",
   "execution_count": null,
   "id": "0d368584-3271-41a2-ade4-7ba94bea1ca9",
   "metadata": {},
   "outputs": [],
   "source": [
    "selected_countries = [\"Brazil\", \"Chile\", \"Argentina\", \"Uruguay\", \"Ecuador\", \"Colombia\", \"Peru\", \"Paraguay\"]\n",
    "filtered_df = southamerica[southamerica[\"name\"].isin(selected_countries)]\n",
    "print(southamerica.columns)\n"
   ]
  },
  {
   "cell_type": "code",
   "execution_count": null,
   "id": "1b4f5c7a-1233-4a2d-8018-f42a6c1a8bef",
   "metadata": {},
   "outputs": [],
   "source": [
    "population_data = {\n",
    "    \"Country\": [\"Brazil\", \"Chile\", \"Argentina\", \"Uruguay\", \"Ecuador\", \"Colombia\", \"Peru\", \"Paraguay\"],\n",
    "    \"Population\": [213000000, 19000000, 45000000, 3500000, 17800000, 50800000, 33000000, 7100000]\n",
    "}\n",
    "population_df = pd.DataFrame(population_data)"
   ]
  },
  {
   "cell_type": "code",
   "execution_count": null,
   "id": "d426c5f2-f327-4983-ae02-80f1da4d09f3",
   "metadata": {},
   "outputs": [],
   "source": [
    "merged_df = filtered_df.merge(population_df, left_on=\"name\", right_on=\"Country\")"
   ]
  },
  {
   "cell_type": "code",
   "execution_count": null,
   "id": "5f14315c-c87a-4a8b-b8e4-ec2280bf2f81",
   "metadata": {},
   "outputs": [],
   "source": [
    "import contextily as ctx\n",
    "print(ctx.providers.keys())"
   ]
  },
  {
   "cell_type": "code",
   "execution_count": null,
   "id": "4577df6f-bef7-401c-a08b-bf491c643e0f",
   "metadata": {},
   "outputs": [],
   "source": [
    "fig, ax = plt.subplots(figsize=(10, 8))\n",
    "merged_df.plot(column=\"Population\", cmap=\"OrRd\", linewidth=0.8, edgecolor=\"black\", legend=True, ax=ax)\n",
    "ax.set_title(\"Population Distribution in South America\", fontsize=15)\n",
    "ctx.add_basemap(ax, source=ctx.providers.OpenStreetMap.Mapnik, zoom=10)\n",
    "\n",
    "ctx.add_basemap(ax, source=ctx.providers.OpenStreetMap.Mapnik)\n",
    "plt.show()\n",
    "\n",
    "\n",
    "\n"
   ]
  },
  {
   "cell_type": "code",
   "execution_count": null,
   "id": "b3cca62e-bab5-4144-be2b-85b9737b81d7",
   "metadata": {},
   "outputs": [],
   "source": [
    "argentina = southamerica[southamerica['name'] == 'Argentina']\n",
    "argentina.plot()"
   ]
  },
  {
   "cell_type": "markdown",
   "id": "6410e394-fc52-4545-931e-f2cb4da910d3",
   "metadata": {},
   "source": [
    "## 8. [C] Agricultural Supply\n",
    "\n",
    "Thomas Malthus claimed that basic population modeling presents a scary vision of human growth. He argued that human population growth is exponential, while the productivity of agricultural production grows linearly. Therefore, he posited that humans would suffer or turn to other mechanisms of population regulation.\n",
    "\n",
    "This hypothesis is interesting in the context of Operation Condor. Condor occured in low- and middle-income countries, which often started the 1960s with low agricultural productivity and high population growth rates. The capitalist dictatorships developed through Operation Condor viewed economic development and capitalist free enterprise as essential components of their development strategy. They employed mass terror as a tool of despotic control. In smaller countries or those with more extreme violence, the scale of these atrocities affected the overall population size, as Malthus predicted that warfare might.\n",
    "\n",
    "Perhaps unsurprisingly, the Malthusian theory did not play out in Condor countries. The dictatorships, with US and western support, imported new agricultural technologies and limited regulations, enabling increased agricultural productivity. Population growth slowed as the economy developed. Even after the end of the dictatorships, the development and international technologies imported during this period led to near-linear population growth, as seen below."
   ]
  },
  {
   "cell_type": "code",
   "execution_count": null,
   "id": "f4fbb428-3776-4ce0-927e-3de5289e5ec5",
   "metadata": {},
   "outputs": [],
   "source": [
    "# Set pandas plotting options to plotly.\n",
    "pd.options.plotting.backend = 'plotly'\n",
    "SOURCE2=2 "
   ]
  },
  {
   "cell_type": "code",
   "execution_count": null,
   "id": "f4f54743-0894-41c6-9852-8f91d28ae5a4",
   "metadata": {},
   "outputs": [],
   "source": [
    "# Define the Operation Condor countries of interest: Chile, Brazil, Argentina, Peru, Colombia, Ecuador, Paraguay, and Uruguay.\n",
    "#condor_countries = ['CHL', 'BRA', 'ARG', 'PER', 'COL', 'ECU', 'PRY', 'URY']\n",
    "\n",
    "# Without Brazil (it can be nice to look at it this way since Brazil is so much larger that it changes axis scaling significantly).\n",
    "condor_countries = ['CHL', 'ARG', 'PER', 'COL', 'ECU', 'PRY', 'URY']\n",
    "\n",
    "# Pull out population as a variable of interest\n",
    "pop_var = {\"SP.POP.TOTL\":\"Population\"}\n",
    "\n",
    "# Create figure\n",
    "pop_data = wbdata.get_dataframe(pop_var, country=condor_countries, parse_dates=True).squeeze().unstack('country')\n",
    "\n",
    "fig_pop_data = pop_data.plot(title=\"Population Growth in Operation Condor Countries (1960-2023)\",\n",
    "                    labels={\"index\": \"Year\", \"value\": \"Total Population\", \"variable\": \"Country\"},\n",
    "                    template=\"plotly_white\",\n",
    "                    line_shape=\"spline\")\n",
    "\n",
    "fig_pop_data.update_layout(xaxis_title=\"Year\", yaxis_title=\"Total Population\", legend_title=\"Country\", width=900, height=500)\n",
    "fig_pop_data.show()"
   ]
  },
  {
   "cell_type": "markdown",
   "id": "7cb813d5-951e-499d-915e-8b9913058f14",
   "metadata": {},
   "source": [
    "Population growth in Operation Condor countries during the dictatorship period (roughly 1960-1990) and for 30 years afterwards did not appear to follow the Malthusian theory: growth appears roughly linear, instead of exponential, as expected by his hypothesis. While the population is growing in nearly every country, it is not in a linear manner."
   ]
  },
  {
   "cell_type": "code",
   "execution_count": null,
   "id": "b3d7c9c2-dd7b-4c9a-875e-a5273040ec12",
   "metadata": {},
   "outputs": [],
   "source": [
    "# Changes in agricultural food supply\n",
    "# Note that this code uses the Condor countries as defined above.\n",
    "\n",
    "# Pull out food production as a variable of interest\n",
    "food_var = {\"AG.PRD.FOOD.XD\":\"Food_Production\"}\n",
    "\n",
    "# Create figure\n",
    "food_data = wbdata.get_dataframe(food_var, country=condor_countries, parse_dates=True).squeeze().unstack('country')\n",
    "\n",
    "fig_food_data = food_data.plot(title=\"Food Production in Operation Condor Countries (1960-2023)\",\n",
    "                    labels={\"index\": \"Year\", \"value\": \"Total Population\", \"variable\": \"Country\"},\n",
    "                    template=\"plotly_white\",\n",
    "                    line_shape=\"spline\")\n",
    "\n",
    "fig_food_data.update_layout(xaxis_title=\"Year\", yaxis_title=\"Food Production relative to 2014-2016 Period\", legend_title=\"Country\", width=900, height=500)\n",
    "fig_food_data.show()"
   ]
  },
  {
   "cell_type": "code",
   "execution_count": null,
   "id": "7b336547-329c-4506-8e05-aa99b2fdc78f",
   "metadata": {},
   "outputs": [],
   "source": [
    "# Note that this code uses the Condor countries as defined above.\n",
    "\n",
    "# Pull out crop production as a variable of interest\n",
    "crop_var = {\"AG.PRD.CROP.XD\":\"Crop_Production\"}\n",
    "\n",
    "# Create figure\n",
    "crop_data = wbdata.get_dataframe(crop_var, country=condor_countries, parse_dates=True).squeeze().unstack('country')\n",
    "\n",
    "fig_crop_data = crop_data.plot(title=\"Crop Production in Operation Condor Countries (1960-2023)\",\n",
    "                    labels={\"index\": \"Year\", \"value\": \"Total Population\", \"variable\": \"Country\"},\n",
    "                    template=\"plotly_white\",\n",
    "                    line_shape=\"spline\")\n",
    "\n",
    "fig_crop_data.update_layout(xaxis_title=\"Year\", yaxis_title=\"Crop Production relative to 2014-2016 Period\", legend_title=\"Country\", width=900, height=500)\n",
    "fig_crop_data.show()"
   ]
  },
  {
   "cell_type": "markdown",
   "id": "6bb52783-a3d8-4889-9e33-aad3b03b124b",
   "metadata": {},
   "source": [
    "As can be seen in the figures above, crop and food production grew during the Operation Condor period and for 30 years after. This growth varies by country, but it does appear to be growing more than linearly. "
   ]
  },
  {
   "cell_type": "code",
   "execution_count": null,
   "id": "e87ddb68-5b87-4172-aee5-32d96dbc8263",
   "metadata": {},
   "outputs": [],
   "source": [
    "## Visualizations"
   ]
  },
  {
   "cell_type": "code",
   "execution_count": null,
   "id": "9bb4073a-ed55-4593-aefe-ca5ceeb48432",
   "metadata": {},
   "outputs": [],
   "source": [
    "target_countries = {\n",
    "    \"BRA\": \"Brazil\", \"ARG\": \"Argentina\", \"CHL\": \"Chile\", \"URY\": \"Uruguay\",\n",
    "    \"ECU\": \"Ecuador\", \"COL\": \"Colombia\", \"PER\": \"Peru\", \"PRY\": \"Paraguay\"\n",
    "}\n",
    "start_year, end_year = 1986, 1990\n",
    "\n",
    "\n",
    "agriculture_gdp = wbdata.get_dataframe(\n",
    "    {\"NV.AGR.TOTL.ZS\": \"Agriculture_GDP\"}, \n",
    "    country=list(target_countries.keys()), \n",
    "    date=(datetime(start_year, 1, 1), datetime(end_year, 12, 31))  \n",
    ")\n",
    "\n",
    "\n",
    "agriculture_gdp.reset_index(inplace=True)\n",
    "agriculture_gdp.rename(columns={\"date\": \"Year\", \"country\": \"Country\"}, inplace=True)\n",
    "agriculture_gdp[\"Year\"] = agriculture_gdp[\"Year\"].astype(int)\n",
    "\n",
    "\n",
    "print(agriculture_gdp.head())\n"
   ]
  },
  {
   "cell_type": "code",
   "execution_count": null,
   "id": "c11cb7c1-c16c-4b10-9000-c02c16c2f3f6",
   "metadata": {},
   "outputs": [],
   "source": [
    "csv_file_path = \"/home/jovyan/Project1/FAOSTAT_data_en_2-4-2025.csv\"\n",
    "\n",
    "try:\n",
    "    df = pd.read_csv(csv_file_path, encoding=\"utf-8-sig\")\n",
    "except UnicodeDecodeError:\n",
    "    df = pd.read_csv(csv_file_path, encoding=\"ISO-8859-1\")\n",
    "\n",
    "print(df.head())\n",
    "target_countries = [\"Brazil\", \"Argentina\", \"Chile\", \"Uruguay\", \"Ecuador\", \"Colombia\", \"Peru\", \"Paraguay\"]\n",
    "\n",
    "df_filtered = df[\n",
    "    (df[\"Reporter Countries\"].isin(target_countries)) &\n",
    "    (df[\"Year\"].between(1986, 1990)) &  \n",
    "    (df[\"Element\"].isin([\"Export value\", \"Import value\"]))  \n",
    "]\n",
    "\n",
    "df_pivot = df_filtered.pivot_table(\n",
    "    index=[\"Reporter Countries\", \"Year\"],\n",
    "    columns=\"Element\",\n",
    "    values=\"Value\",\n",
    "    aggfunc=\"sum\"\n",
    ").reset_index()\n",
    "\n",
    "df_pivot[\"Net_Export\"] = df_pivot.get(\"Export value\", 0) - df_pivot.get(\"Import value\", 0)\n",
    "\n",
    "df_pivot.rename(columns={\"Reporter Countries\": \"Country\"}, inplace=True)\n",
    "\n",
    "print(df_pivot.head())  "
   ]
  },
  {
   "cell_type": "markdown",
   "id": "2f591bd9-4765-4c2f-9c29-62ba90aee4c6",
   "metadata": {},
   "source": [
    "The Agriculture_GDP column here represents the percentage of agricultural GDP to total GDP. \n",
    "This data comes from the wbdata library, which looks up agricultural GDP from 1986 to 1990. \n",
    "For example, Argentina's agricultural GDP share was 8.12 per cent in 1990 and 9.62 per cent in 1989, so it is possible to observe the yearly trend."
   ]
  },
  {
   "cell_type": "code",
   "execution_count": null,
   "id": "0280984b-e196-4759-b34d-55013850e1a0",
   "metadata": {},
   "outputs": [],
   "source": [
    "sns.set_theme(style=\"whitegrid\")\n",
    "\n",
    "plt.figure(figsize=(12, 6))\n",
    "sns.lineplot(x=\"Year\", y=\"Export value\", hue=\"Country\", data=df_pivot, marker=\"o\", linewidth=2.5)\n",
    "sns.lineplot(x=\"Year\", y=\"Import value\", hue=\"Country\", data=df_pivot, marker=\"s\", linestyle=\"dashed\", linewidth=2.5)\n",
    "\n",
    "plt.title(\"Agricultural Export & Import Trends (1986-1990)\", fontsize=14)\n",
    "plt.xlabel(\"Year\")\n",
    "plt.ylabel(\"Trade Value (1000 USD)\")\n",
    "plt.legend(title=\"Country\")  \n",
    "plt.xticks(df_pivot[\"Year\"].unique())\n",
    "plt.show()\n",
    "\n",
    "plt.figure(figsize=(12, 6))\n",
    "sns.lineplot(x=\"Year\", y=\"Net_Export\", hue=\"Country\", data=df_pivot, marker=\"o\", linewidth=2.5)\n",
    "\n",
    "plt.title(\"Net Agricultural Export Trends (1986-1990)\", fontsize=14)\n",
    "plt.xlabel(\"Year\")\n",
    "plt.ylabel(\"Net Export Value (1000 USD)\")\n",
    "plt.xticks(df_pivot[\"Year\"].unique())\n",
    "plt.axhline(0, color=\"black\", linestyle=\"--\", linewidth=1) \n",
    "plt.show()\n"
   ]
  },
  {
   "cell_type": "markdown",
   "id": "b8c2dd16-3639-4888-9ae8-a328462d6399",
   "metadata": {},
   "source": [
    "The graph shows trends in the value of exports and imports of agricultural products by country over the period 1986-1990.\n",
    "Two lines are shown:\n",
    "The blue curve represents Export value.\n",
    "The orange curve represents the Import value.\n",
    "If Export value is much higher than Import value, the country is an agricultural exporter.\n",
    "If Import value is much higher than Export value, the country is an agricultural importer."
   ]
  },
  {
   "cell_type": "code",
   "execution_count": null,
   "id": "0368402e-e91d-49d3-968a-213b7b761460",
   "metadata": {},
   "outputs": [],
   "source": [
    "target_countries = {\n",
    "    \"BRA\": \"Brazil\", \"ARG\": \"Argentina\", \"CHL\": \"Chile\", \"URY\": \"Uruguay\",\n",
    "    \"ECU\": \"Ecuador\", \"COL\": \"Colombia\", \"PER\": \"Peru\", \"PRY\": \"Paraguay\"\n",
    "}\n",
    "start_year, end_year = 1986, 1990\n",
    "\n",
    "agriculture_gdp = wbdata.get_dataframe(\n",
    "    {\"NV.AGR.TOTL.ZS\": \"Agriculture_GDP\"}, \n",
    "    country=list(target_countries.keys()), \n",
    "    date=(datetime(start_year, 1, 1), datetime(end_year, 12, 31))\n",
    ")\n",
    "\n",
    "agriculture_gdp.reset_index(inplace=True)\n",
    "agriculture_gdp.rename(columns={\"date\": \"Year\", \"country\": \"Country\"}, inplace=True)\n",
    "agriculture_gdp[\"Year\"] = agriculture_gdp[\"Year\"].astype(int)\n",
    "\n",
    "sns.set_theme(style=\"whitegrid\")\n",
    "plt.figure(figsize=(12, 6))\n",
    "sns.lineplot(x=\"Year\", y=\"Agriculture_GDP\", hue=\"Country\", data=agriculture_gdp, marker=\"o\", linewidth=2.5)\n",
    "plt.title(\"Agricultural GDP Trends (1986-1990)\", fontsize=14)\n",
    "plt.xlabel(\"Year\")\n",
    "plt.ylabel(\"Agriculture GDP (%)\")\n",
    "plt.xticks(agriculture_gdp[\"Year\"].unique())  \n",
    "plt.legend(title=\"Country\")\n",
    "plt.show()\n",
    "\n",
    "gdp_stats = agriculture_gdp.groupby(\"Country\")[\"Agriculture_GDP\"].agg([\"mean\", \"std\"]).reset_index()\n",
    "gdp_stats.rename(columns={\"mean\": \"Mean_GDP\", \"std\": \"Std_Dev_GDP\"}, inplace=True)\n",
    "print(\"📊 Agricultural GDP Statistics:\\n\", gdp_stats)\n",
    "\n",
    "agriculture_gdp[\"GDP_Growth\"] = agriculture_gdp.groupby(\"Country\")[\"Agriculture_GDP\"].pct_change() * 100\n",
    "print(\"📈 Agricultural GDP Growth Rate Data:\\n\", agriculture_gdp.head())\n"
   ]
  },
  {
   "cell_type": "markdown",
   "id": "fe72d385-9aa0-4655-9c3c-de650a0d8f7c",
   "metadata": {},
   "source": [
    "Agricultural GDP in South America showed different trends between 1986-1990, \n",
    "with Ecuador and Paraguay having the highest share of agricultural GDP (about 21 per cent), and Argentina and Brazil fluctuating more (8-9 per cent). \n",
    "Argentina, Uruguay and Brazil are strong agricultural exporters, \n",
    "with Argentina showing a strong trade surplus with net exports of US$5,452,000 in 1990. There may be a positive correlation between changes in agricultural GDP and export trends, e.g. Argentina's 18.37 per cent growth in agricultural GDP in 1989 may be related to export growth."
   ]
  },
  {
   "cell_type": "markdown",
   "id": "2efebbc3-7bc7-4516-b1b6-6c72a8f2f92e",
   "metadata": {},
   "source": [
    "## Conclusions\n",
    "\n",
    "Our project sought to understand the implications of Operation Condor across a variety of indicators not typically associated with this political era. We began by creating basic population functions and dataframes for our target Condor countries in order to better handle and experiment with the data.\n",
    "\n",
    "We employed a variety of visualizations to better understand the impact of the Condor dictatorships on key demographic, economic, and agricultural indicators in target countries. As demonstrated, the programs of economic development and growth implemented during the Condor period led to shifts in population demography as target countries shifted from low- to middle-income and their workforces urbanized. These changes are evident in graphs depicting agricultural production, importation, and exportation. Since Condor-era regimes were often focused on advancing an export-driven and increasingly globalized economy, the effects can be seen clearly. \n",
    "\n",
    "We demonstrate that although historians and data scientists tend to focus on the humanitarian and political repercussions of this oppressive period, there were also important implications for population, agriculture, and the economy. "
   ]
  }
 ],
 "metadata": {
  "kernelspec": {
   "display_name": "Python 3 (ipykernel)",
   "language": "python",
   "name": "python3"
  },
  "language_info": {
   "codemirror_mode": {
    "name": "ipython",
    "version": 3
   },
   "file_extension": ".py",
   "mimetype": "text/x-python",
   "name": "python",
   "nbconvert_exporter": "python",
   "pygments_lexer": "ipython3",
   "version": "3.11.11"
  }
 },
 "nbformat": 4,
 "nbformat_minor": 5
}
