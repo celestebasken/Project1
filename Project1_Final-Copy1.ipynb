{
 "cells": [
  {
   "cell_type": "markdown",
   "id": "3ce6a55b-dac5-4580-8822-24408a947b70",
   "metadata": {},
   "source": [
    "# Final Project 1: Population and Agricultural Production Changes In Countries in Response to [Operation Condor]"
   ]
  },
  {
   "cell_type": "markdown",
   "id": "4dba8a71-f57f-4bba-8024-84bc72cf3531",
   "metadata": {},
   "source": [
    "## Team Malthus: Celeste Basken, Jocelyn  Velazquez, Reily Fairchild, Ziheng Zhang"
   ]
  },
  {
   "cell_type": "markdown",
   "id": "64b920c7-f8bf-4288-be12-78bb97b89c10",
   "metadata": {},
   "source": [
    "# Table of Contents\n",
    "1. [Introduction](#Introduction)\n",
    "2. [Population Function, Deliverable 1A- Population Statistics](#Population-Function)\n",
    "3. [Population DataFrame Function, Deliverable 3A - Population DataFrames](#Population-Dataframe)\n",
    "4. [Regular Population Pyramids, Deliverable 4B - Population Pyramids](#Population-Pyramids)\n",
    "5. [Animated Population Pyramids](#Results)\n",
    "6. [Visaulizations](#Visualizations)\n",
    "7. [Conclusion](#Conclusion)\n",
    "\n",
    "\n",
    "Unit Tests, Deliverable 2[A] - Unit Tests\n"
   ]
  },
  {
   "cell_type": "markdown",
   "id": "c255e9e7-d5a7-4d17-893a-619e3db1de69",
   "metadata": {},
   "source": [
    "Introduction: The data exploration done in this notebook is aimed at exploring the impact and repurcussions done to countries in South America, primarily [Brazil, Argentina, ..] as a result of [].\n"
   ]
  },
  {
   "cell_type": "markdown",
   "id": "e5dab253-0a11-48cf-b4e0-e3bf8af2fd54",
   "metadata": {},
   "source": [
    "## Initial Imports"
   ]
  },
  {
   "cell_type": "code",
   "execution_count": 9,
   "id": "004bd82f-de83-49ba-89be-bfde9eec9560",
   "metadata": {},
   "outputs": [],
   "source": [
    "#%pip install wbdata\n",
    "#import math\n",
    "#import numpy as np\n",
    "#import wbdata\n"
   ]
  },
  {
   "cell_type": "markdown",
   "id": "f12d879f-ed40-4dea-adad-82a5a3aba0b7",
   "metadata": {},
   "source": [
    "## Population Function"
   ]
  },
  {
   "cell_type": "markdown",
   "id": "ef8c3096-cfa6-4af4-bc97-b092c11721d4",
   "metadata": {},
   "source": [
    "### This function returns a query response to the question: 'In [year] how many [people/males/females] aged [low] to [high] were living in [the world/region/country]?'\n",
    "\n",
    " Please note, this function was designed to be able to answer **only** the regions of countries targeted in Operation Condor, as that is the main focus region for our team."
   ]
  },
  {
   "cell_type": "code",
   "execution_count": 27,
   "id": "6c732da3-f9d6-4bac-81e6-130c8e1bf18b",
   "metadata": {},
   "outputs": [],
   "source": [
    "\n",
    "import math\n",
    "#def population(year,sex,age_low, age_high,place):\n",
    "SOURCE = 40\n",
    "\n",
    "def age_floor_lessthan_25(age_low, age_high, labels, sex):\n",
    "    \n",
    "    for i in np.arange(age_low, age_high+1):\n",
    "            if sex == 'males':\n",
    "                #labels[f'SP.POP.AG{str(i).zfill(2)}.MA.IN'] = f'SP.POP.AG{str(i).zfill(2)}.MA.IN'\n",
    "                labels[f'SP.POP.AG{str(i).zfill(2)}.MA.IN'] = f'Males {str(i).zfill(2)}'\n",
    "            elif sex == 'females':\n",
    "                labels[f'SP.POP.AG{str(i).zfill(2)}.FE.IN'] = f'Females {str(i).zfill(2)}'\n",
    "                #labels[f'SP.POP.AG{str(i).zfill(2)}.FE.IN'] = f'SP.POP.AG{str(i).zfill(2)}.FE.IN'\n",
    "            else:\n",
    "                #labels[f'SP.POP.AG{str(i).zfill(2)}.MA.IN'] = f'SP.POP.AG{str(i).zfill(2)}.MA.IN'\n",
    "                #labels[f'SP.POP.AG{str(i).zfill(2)}.FE.IN'] = f'SP.POP.AG{str(i).zfill(2)}.FE.IN'   \n",
    "                labels[f'SP.POP.AG{str(i).zfill(2)}.FE.IN'] = f'Females {str(i).zfill(2)}'\n",
    "                labels[f'SP.POP.AG{str(i).zfill(2)}.MA.IN'] = f'Males {str(i).zfill(2)}'\n",
    "                \n",
    "def age_floor_greaterthan_25(age_low, age_high, labels, sex):\n",
    "        age_floor = math.floor(age_low /5) * 5\n",
    "        age_ceiling = math.ceil((age_high+1)/5)*5 \n",
    "        floor_str = str(age_floor).zfill(2)\n",
    "        num_ranges = (age_ceiling - age_floor) / 5\n",
    "        for i in np.arange(num_ranges):\n",
    "            lower_str = str(int(age_floor + 5 * i)).zfill(2)\n",
    "            higher_str = str(int(age_floor + 5 * i + 4)).zfill(2)\n",
    "\n",
    "           # lower_str = str(int(age_floor+5*i))\n",
    "           # higher_str = str(int(age_floor+5*i+4))\n",
    "           \n",
    "             #override if age is >=80\n",
    "            if lower_str >='80':\n",
    "                lower_str = \"80\"\n",
    "                higher_str = 'UP'\n",
    "            if sex == 'males':\n",
    "                labels[f'SP.POP.{lower_str}{higher_str}.MA'] = f'Males {lower_str}{higher_str}'\n",
    "            elif sex == 'females':\n",
    "                labels[f'SP.POP.{lower_str}{higher_str}.FE'] = f'Females {lower_str}{higher_str}'\n",
    "            else:\n",
    "                #labels[f'SP.POP.AG{str(i).zfill(2)}.FE.IN'] = f'SP.POP.AG{str(i).zfill(2)}.FE'\n",
    "                labels[f'SP.POP.{lower_str}{higher_str}.FE'] = f'Females {lower_str}{higher_str}'\n",
    "                labels[f'SP.POP.{lower_str}{higher_str}.MA'] = f'Males {lower_str}{higher_str}'\n",
    "\n",
    "\n",
    "#correct age range, use specific age year values if do not return null:\n",
    "def range(age_low, age_high, sex): \n",
    "    labels = {}\n",
    "    \n",
    "    labels_test1 = {}\n",
    "    age_floor_lessthan_25(0, 24, labels_test1, 'males')\n",
    "    assert 'SP.POP.AG00.MA.IN' in labels_test1 and 'SP.POP.AG24.MA.IN' in labels_test1, \"Failed to retrieve data for ages < 25\"\n",
    "\n",
    "    labels_test2 = {}\n",
    "    age_floor_greaterthan_25(25, 39, labels_test2, 'females')\n",
    "    assert 'SP.POP.2529.FE' in labels_test2 and 'SP.POP.3539.FE' in labels_test2, \"Failed to retrieve data for ages >= 25\"\n",
    "\n",
    "    #age range [0,25]\n",
    "    if age_high < 25:\n",
    "        age_floor_lessthan_25(age_low, age_high, labels, sex)\n",
    "    #age range [25, +]\n",
    "    elif age_low >= 25:\n",
    "        age_floor_greaterthan_25(age_low, age_high, labels, sex)\n",
    "    #age range [0, 25+]\n",
    "    else:\n",
    "        age_floor_lessthan_25(age_low, 24, labels, sex)\n",
    "        age_floor_greaterthan_25(25, age_high, labels, sex)\n",
    "        \n",
    "    return labels\n",
    "\n",
    "#correct age range, use specific age year values (0,25) do return null:\n",
    "def age_range_intv(age_low, age_high, sex):\n",
    "    labels = {}\n",
    "    \n",
    "    labels_test2 = {}\n",
    "    age_floor_greaterthan_25(25, 39, labels_test2, 'females')\n",
    "    assert 'SP.POP.2529.FE' in labels_test2 and 'SP.POP.3539.FE' in labels_test2, \"Failed to retrieve data for ages >= 25\"\n",
    "\n",
    "     \n",
    "    age_floor_greaterthan_25(age_low, age_high, labels, sex)\n",
    "   \n",
    "    return labels\n",
    "\n",
    "\n",
    "\n",
    "def get_region_df(labels, age_high, sex, place, year):\n",
    "    df = wbdata.get_dataframe(labels,country = place,parse_dates=True)\n",
    "    df = df.reset_index()\n",
    "    df2 = df[df['date'] == f'{year}-01-01']\n",
    "\n",
    "    #if the age high is >25 and <80 and not a multiple of 5, then take a proportional fraction of the last column\n",
    "    #example: 27, in range [25, 29] want (27%5 /5)\n",
    "    #doesn't account for ages 81, 82, 83, etc (difficult to interpolate when so little data on older ages)\n",
    "    if ((age_high>=25) & (age_high<80) & (age_high%5 != 4)):\n",
    "        \n",
    "        population_count = df2.iloc[0, -1]\n",
    "        display(f'population count: {population_count}')\n",
    "        proportion = (age_high%5+1) / 5\n",
    "        df2.iloc[0, -1] = proportion*population_count\n",
    "        \n",
    "    return df2\n",
    "#df = get_df(labels, sex, place, year)\n",
    "#labels = range(22, 77, 'males')\n",
    "#df = get_df(labels, 77, 'females', 'COL', 2022)\n",
    "#df\n",
    "\n",
    "\n",
    "def population(sex, age_low, age_high, place, year):\n",
    "    # Error handling for invalid age range\n",
    "    if age_low > age_high:\n",
    "        raise ValueError(f\"Invalid age range: ({age_low}) < ({age_high}). Please reverse the input age ranges.\")\n",
    "\n",
    "    # Validate `place` is a valid location in wbdata\n",
    "    ls_countries = wbdata.get_countries()\n",
    "    country_codes = [country['id'] for country in ls_countries]\n",
    "    \n",
    "    if place not in country_codes:\n",
    "        raise ValueError(f\"Invalid country code: {place}. Please enter a valid country. Call wbdata.get_countries to see the valid list of countries.\")\n",
    "\n",
    "\n",
    "    labels = range(age_low, age_high, sex)\n",
    "     \n",
    "    #unit test for age edge cases (if highest age lies in an interval)\n",
    "    tlabels = {'SP.POP.2529.MA': 'Males 25-29'}\n",
    "    df_test = get_region_df(tlabels, 27, sex, place, year)\n",
    "    assert df_test.iloc[0, -1] <= df_test.iloc[0, 1], \"Population proportion adjustment error!\"\n",
    "\n",
    "\n",
    "    df = get_region_df(labels, age_high, sex, place, year)\n",
    "    \n",
    "    # Check if the dataframe has any 'None' values for an age (Like 'WLD')\n",
    "    if df.iloc[:, 1:].isnull().all().any():\n",
    "        print('The age range (1, 25) returned null values, using interval ages ranges [0-5] instead')\n",
    "        labels = age_range_intv(age_low, age_high, sex)\n",
    "        df = get_region_df(labels, age_high, sex, place, year)\n",
    "    \n",
    "    df.drop('date', axis = 1, inplace=True)\n",
    "    df['total pop in age range'] = df.sum(axis=1)\n",
    "    total = df.iloc[0]['total pop in age range']\n",
    "    display(f'In {year}, the number of {sex} between ages {age_low} to {age_high} living in {place} was approximately {total}')\n",
    "    return df\n"
   ]
  },
  {
   "cell_type": "code",
   "execution_count": 28,
   "id": "8a0b5fcc-b353-4257-aeeb-5c9f2c84d63b",
   "metadata": {},
   "outputs": [
    {
     "data": {
      "text/plain": [
       "'lower string: 25, higher string: 29'"
      ]
     },
     "metadata": {},
     "output_type": "display_data"
    },
    {
     "data": {
      "text/plain": [
       "'lower string: 30, higher string: 34'"
      ]
     },
     "metadata": {},
     "output_type": "display_data"
    },
    {
     "data": {
      "text/plain": [
       "'lower string: 35, higher string: 39'"
      ]
     },
     "metadata": {},
     "output_type": "display_data"
    },
    {
     "data": {
      "text/plain": [
       "'population count: 256111683.0'"
      ]
     },
     "metadata": {},
     "output_type": "display_data"
    },
    {
     "name": "stdout",
     "output_type": "stream",
     "text": [
      "The age range (1, 25) returned null values, using interval ages ranges [0-5] instead\n"
     ]
    },
    {
     "data": {
      "text/plain": [
       "'lower string: 25, higher string: 29'"
      ]
     },
     "metadata": {},
     "output_type": "display_data"
    },
    {
     "data": {
      "text/plain": [
       "'lower string: 30, higher string: 34'"
      ]
     },
     "metadata": {},
     "output_type": "display_data"
    },
    {
     "data": {
      "text/plain": [
       "'lower string: 35, higher string: 39'"
      ]
     },
     "metadata": {},
     "output_type": "display_data"
    },
    {
     "data": {
      "text/plain": [
       "'lower string: 00, higher string: 04'"
      ]
     },
     "metadata": {},
     "output_type": "display_data"
    },
    {
     "data": {
      "text/plain": [
       "'lower string: 05, higher string: 09'"
      ]
     },
     "metadata": {},
     "output_type": "display_data"
    },
    {
     "data": {
      "text/plain": [
       "'lower string: 10, higher string: 14'"
      ]
     },
     "metadata": {},
     "output_type": "display_data"
    },
    {
     "data": {
      "text/plain": [
       "'lower string: 15, higher string: 19'"
      ]
     },
     "metadata": {},
     "output_type": "display_data"
    },
    {
     "data": {
      "text/plain": [
       "'lower string: 20, higher string: 24'"
      ]
     },
     "metadata": {},
     "output_type": "display_data"
    },
    {
     "data": {
      "text/plain": [
       "{'SP.POP.0004.MA': 'Males 0004',\n",
       " 'SP.POP.0509.MA': 'Males 0509',\n",
       " 'SP.POP.1014.MA': 'Males 1014',\n",
       " 'SP.POP.1519.MA': 'Males 1519',\n",
       " 'SP.POP.2024.MA': 'Males 2024'}"
      ]
     },
     "metadata": {},
     "output_type": "display_data"
    },
    {
     "name": "stderr",
     "output_type": "stream",
     "text": [
      "WARNING:shelved_cache.persistent_cache:Key '-975842234238715258' not in persistent cache.\n",
      "WARNING:shelved_cache.persistent_cache:Key '4449049184641108911' not in persistent cache.\n",
      "WARNING:shelved_cache.persistent_cache:Key '-3810678075927808308' not in persistent cache.\n",
      "WARNING:shelved_cache.persistent_cache:Key '-1902836827912562682' not in persistent cache.\n",
      "WARNING:shelved_cache.persistent_cache:Key '-2652377628461525492' not in persistent cache.\n"
     ]
    },
    {
     "data": {
      "text/plain": [
       "'In 2000, the number of males between ages 1 to 24 living in WLD was approximately 1524729165.0'"
      ]
     },
     "metadata": {},
     "output_type": "display_data"
    },
    {
     "data": {
      "text/html": [
       "<div>\n",
       "<style scoped>\n",
       "    .dataframe tbody tr th:only-of-type {\n",
       "        vertical-align: middle;\n",
       "    }\n",
       "\n",
       "    .dataframe tbody tr th {\n",
       "        vertical-align: top;\n",
       "    }\n",
       "\n",
       "    .dataframe thead th {\n",
       "        text-align: right;\n",
       "    }\n",
       "</style>\n",
       "<table border=\"1\" class=\"dataframe\">\n",
       "  <thead>\n",
       "    <tr style=\"text-align: right;\">\n",
       "      <th></th>\n",
       "      <th>Males 0004</th>\n",
       "      <th>Males 0509</th>\n",
       "      <th>Males 1014</th>\n",
       "      <th>Males 1519</th>\n",
       "      <th>Males 2024</th>\n",
       "      <th>total pop in age range</th>\n",
       "    </tr>\n",
       "  </thead>\n",
       "  <tbody>\n",
       "    <tr>\n",
       "      <th>23</th>\n",
       "      <td>323242397.0</td>\n",
       "      <td>319575048.0</td>\n",
       "      <td>322416810.0</td>\n",
       "      <td>295149165.0</td>\n",
       "      <td>264345745.0</td>\n",
       "      <td>1.524729e+09</td>\n",
       "    </tr>\n",
       "  </tbody>\n",
       "</table>\n",
       "</div>"
      ],
      "text/plain": [
       "     Males 0004   Males 0509   Males 1014   Males 1519   Males 2024  \\\n",
       "23  323242397.0  319575048.0  322416810.0  295149165.0  264345745.0   \n",
       "\n",
       "    total pop in age range  \n",
       "23            1.524729e+09  "
      ]
     },
     "execution_count": 28,
     "metadata": {},
     "output_type": "execute_result"
    }
   ],
   "source": [
    "#ENTER YOUR QUERIES HERE\n",
    "#df_test = population('males', 0, 100, 'COL', 2000)\n",
    "#assert df_test.iloc[0]['total pop in age range'] > 1e9 / 2, \"Too few males in world population!\"\n",
    "\n",
    "population('males', 1, 24, 'WLD', 2000)\n",
    "#df_test"
   ]
  },
  {
   "cell_type": "markdown",
   "id": "04e26d9a-478e-440e-9c07-77df193a3848",
   "metadata": {},
   "source": [
    "## Population Dataframe\n",
    "This function returns a pandas DataFrame indexed by Region or Country and Year, with columns giving counts of people in different age-sex groups. For the means of Team Malthus' project focus, this function was designed to produce specifics for **only** regions/countries we are focussing on: the countries directly targeted impacted by Operation Condor.\n"
   ]
  },
  {
   "cell_type": "code",
   "execution_count": 29,
   "id": "be7654e8-f68d-4fdb-9545-12ae0373f006",
   "metadata": {},
   "outputs": [
    {
     "data": {
      "text/plain": [
       "'lower string: 25, higher string: 29'"
      ]
     },
     "metadata": {},
     "output_type": "display_data"
    },
    {
     "data": {
      "text/plain": [
       "'lower string: 30, higher string: 34'"
      ]
     },
     "metadata": {},
     "output_type": "display_data"
    },
    {
     "data": {
      "text/plain": [
       "'lower string: 35, higher string: 39'"
      ]
     },
     "metadata": {},
     "output_type": "display_data"
    },
    {
     "data": {
      "text/plain": [
       "'lower string: 25, higher string: 29'"
      ]
     },
     "metadata": {},
     "output_type": "display_data"
    },
    {
     "data": {
      "text/plain": [
       "'lower string: 30, higher string: 34'"
      ]
     },
     "metadata": {},
     "output_type": "display_data"
    },
    {
     "data": {
      "text/plain": [
       "'lower string: 35, higher string: 39'"
      ]
     },
     "metadata": {},
     "output_type": "display_data"
    },
    {
     "data": {
      "text/plain": [
       "'lower string: 40, higher string: 44'"
      ]
     },
     "metadata": {},
     "output_type": "display_data"
    },
    {
     "data": {
      "text/plain": [
       "'lower string: 45, higher string: 49'"
      ]
     },
     "metadata": {},
     "output_type": "display_data"
    },
    {
     "data": {
      "text/plain": [
       "'lower string: 50, higher string: 54'"
      ]
     },
     "metadata": {},
     "output_type": "display_data"
    },
    {
     "data": {
      "text/plain": [
       "'lower string: 55, higher string: 59'"
      ]
     },
     "metadata": {},
     "output_type": "display_data"
    },
    {
     "data": {
      "text/plain": [
       "'lower string: 60, higher string: 64'"
      ]
     },
     "metadata": {},
     "output_type": "display_data"
    },
    {
     "data": {
      "text/plain": [
       "'lower string: 65, higher string: 69'"
      ]
     },
     "metadata": {},
     "output_type": "display_data"
    },
    {
     "data": {
      "text/plain": [
       "'lower string: 70, higher string: 74'"
      ]
     },
     "metadata": {},
     "output_type": "display_data"
    },
    {
     "data": {
      "text/plain": [
       "'lower string: 75, higher string: 79'"
      ]
     },
     "metadata": {},
     "output_type": "display_data"
    },
    {
     "name": "stderr",
     "output_type": "stream",
     "text": [
      "/tmp/ipykernel_2266/1665431826.py:12: SettingWithCopyWarning: \n",
      "A value is trying to be set on a copy of a slice from a DataFrame.\n",
      "Try using .loc[row_indexer,col_indexer] = value instead\n",
      "\n",
      "See the caveats in the documentation: https://pandas.pydata.org/pandas-docs/stable/user_guide/indexing.html#returning-a-view-versus-a-copy\n",
      "  df2['date'] = year\n"
     ]
    },
    {
     "data": {
      "text/plain": [
       "'population count: 602985.0'"
      ]
     },
     "metadata": {},
     "output_type": "display_data"
    },
    {
     "data": {
      "text/html": [
       "<div>\n",
       "<style scoped>\n",
       "    .dataframe tbody tr th:only-of-type {\n",
       "        vertical-align: middle;\n",
       "    }\n",
       "\n",
       "    .dataframe tbody tr th {\n",
       "        vertical-align: top;\n",
       "    }\n",
       "\n",
       "    .dataframe thead th {\n",
       "        text-align: right;\n",
       "    }\n",
       "</style>\n",
       "<table border=\"1\" class=\"dataframe\">\n",
       "  <thead>\n",
       "    <tr style=\"text-align: right;\">\n",
       "      <th></th>\n",
       "      <th>country</th>\n",
       "      <th>date</th>\n",
       "      <th>Females 22</th>\n",
       "      <th>Females 23</th>\n",
       "      <th>Females 24</th>\n",
       "      <th>Females 2529</th>\n",
       "      <th>Females 3034</th>\n",
       "      <th>Females 3539</th>\n",
       "      <th>Females 4044</th>\n",
       "      <th>Females 4549</th>\n",
       "      <th>Females 5054</th>\n",
       "      <th>Females 5559</th>\n",
       "      <th>Females 6064</th>\n",
       "      <th>Females 6569</th>\n",
       "      <th>Females 7074</th>\n",
       "      <th>Females 7579</th>\n",
       "    </tr>\n",
       "  </thead>\n",
       "  <tbody>\n",
       "    <tr>\n",
       "      <th>2</th>\n",
       "      <td>Argentina</td>\n",
       "      <td>2021</td>\n",
       "      <td>340990.0</td>\n",
       "      <td>339364.5</td>\n",
       "      <td>341034.0</td>\n",
       "      <td>1727965.0</td>\n",
       "      <td>1651617.0</td>\n",
       "      <td>1583375.0</td>\n",
       "      <td>1548702.0</td>\n",
       "      <td>1372580.0</td>\n",
       "      <td>1183031.0</td>\n",
       "      <td>1095091.0</td>\n",
       "      <td>1017473.0</td>\n",
       "      <td>914976.0</td>\n",
       "      <td>777595.0</td>\n",
       "      <td>361791.0</td>\n",
       "    </tr>\n",
       "    <tr>\n",
       "      <th>66</th>\n",
       "      <td>Bolivia</td>\n",
       "      <td>2021</td>\n",
       "      <td>109809.5</td>\n",
       "      <td>108289.5</td>\n",
       "      <td>107373.5</td>\n",
       "      <td>518258.0</td>\n",
       "      <td>469786.0</td>\n",
       "      <td>400557.0</td>\n",
       "      <td>349190.0</td>\n",
       "      <td>297321.0</td>\n",
       "      <td>251647.0</td>\n",
       "      <td>210244.0</td>\n",
       "      <td>169351.0</td>\n",
       "      <td>128503.0</td>\n",
       "      <td>96082.0</td>\n",
       "      <td>68510.0</td>\n",
       "    </tr>\n",
       "    <tr>\n",
       "      <th>130</th>\n",
       "      <td>Brazil</td>\n",
       "      <td>2021</td>\n",
       "      <td>1649095.0</td>\n",
       "      <td>1655825.0</td>\n",
       "      <td>1646923.0</td>\n",
       "      <td>8105921.0</td>\n",
       "      <td>8299446.0</td>\n",
       "      <td>8539224.0</td>\n",
       "      <td>8027939.0</td>\n",
       "      <td>7135873.0</td>\n",
       "      <td>6449326.0</td>\n",
       "      <td>6076687.0</td>\n",
       "      <td>5236762.0</td>\n",
       "      <td>4186711.0</td>\n",
       "      <td>3107121.0</td>\n",
       "      <td>2055915.0</td>\n",
       "    </tr>\n",
       "    <tr>\n",
       "      <th>194</th>\n",
       "      <td>Chile</td>\n",
       "      <td>2021</td>\n",
       "      <td>140459.5</td>\n",
       "      <td>145160.0</td>\n",
       "      <td>149702.0</td>\n",
       "      <td>792156.0</td>\n",
       "      <td>795033.0</td>\n",
       "      <td>725313.0</td>\n",
       "      <td>675065.0</td>\n",
       "      <td>649398.0</td>\n",
       "      <td>629116.0</td>\n",
       "      <td>586850.0</td>\n",
       "      <td>520887.0</td>\n",
       "      <td>436213.0</td>\n",
       "      <td>342926.0</td>\n",
       "      <td>236452.0</td>\n",
       "    </tr>\n",
       "    <tr>\n",
       "      <th>258</th>\n",
       "      <td>Ecuador</td>\n",
       "      <td>2021</td>\n",
       "      <td>155491.5</td>\n",
       "      <td>155337.5</td>\n",
       "      <td>155166.0</td>\n",
       "      <td>755239.0</td>\n",
       "      <td>701586.0</td>\n",
       "      <td>648686.0</td>\n",
       "      <td>574585.0</td>\n",
       "      <td>505627.0</td>\n",
       "      <td>442048.0</td>\n",
       "      <td>377253.0</td>\n",
       "      <td>313465.0</td>\n",
       "      <td>256287.0</td>\n",
       "      <td>198079.0</td>\n",
       "      <td>137218.0</td>\n",
       "    </tr>\n",
       "    <tr>\n",
       "      <th>322</th>\n",
       "      <td>World</td>\n",
       "      <td>2021</td>\n",
       "      <td>NaN</td>\n",
       "      <td>NaN</td>\n",
       "      <td>NaN</td>\n",
       "      <td>290638670.0</td>\n",
       "      <td>296697604.0</td>\n",
       "      <td>274546997.0</td>\n",
       "      <td>246000086.0</td>\n",
       "      <td>234930861.0</td>\n",
       "      <td>223923211.0</td>\n",
       "      <td>202156613.0</td>\n",
       "      <td>165292891.0</td>\n",
       "      <td>144946891.0</td>\n",
       "      <td>108698089.0</td>\n",
       "      <td>71377606.0</td>\n",
       "    </tr>\n",
       "  </tbody>\n",
       "</table>\n",
       "</div>"
      ],
      "text/plain": [
       "       country  date  Females 22  Females 23  Females 24  Females 2529  \\\n",
       "2    Argentina  2021    340990.0    339364.5    341034.0     1727965.0   \n",
       "66     Bolivia  2021    109809.5    108289.5    107373.5      518258.0   \n",
       "130     Brazil  2021   1649095.0   1655825.0   1646923.0     8105921.0   \n",
       "194      Chile  2021    140459.5    145160.0    149702.0      792156.0   \n",
       "258    Ecuador  2021    155491.5    155337.5    155166.0      755239.0   \n",
       "322      World  2021         NaN         NaN         NaN   290638670.0   \n",
       "\n",
       "     Females 3034  Females 3539  Females 4044  Females 4549  Females 5054  \\\n",
       "2       1651617.0     1583375.0     1548702.0     1372580.0     1183031.0   \n",
       "66       469786.0      400557.0      349190.0      297321.0      251647.0   \n",
       "130     8299446.0     8539224.0     8027939.0     7135873.0     6449326.0   \n",
       "194      795033.0      725313.0      675065.0      649398.0      629116.0   \n",
       "258      701586.0      648686.0      574585.0      505627.0      442048.0   \n",
       "322   296697604.0   274546997.0   246000086.0   234930861.0   223923211.0   \n",
       "\n",
       "     Females 5559  Females 6064  Females 6569  Females 7074  Females 7579  \n",
       "2       1095091.0     1017473.0      914976.0      777595.0      361791.0  \n",
       "66       210244.0      169351.0      128503.0       96082.0       68510.0  \n",
       "130     6076687.0     5236762.0     4186711.0     3107121.0     2055915.0  \n",
       "194      586850.0      520887.0      436213.0      342926.0      236452.0  \n",
       "258      377253.0      313465.0      256287.0      198079.0      137218.0  \n",
       "322   202156613.0   165292891.0   144946891.0   108698089.0    71377606.0  "
      ]
     },
     "execution_count": 29,
     "metadata": {},
     "output_type": "execute_result"
    }
   ],
   "source": [
    "condor_countries = {'ARG': 'Argentina', 'BOL': 'Bolivia', 'BRA': 'Brazil', 'CHL': 'Chile', 'ECU': 'Ecuador', 'CLA':'Latin America and the Caribbean (IFC classification)', 'WLD' :\"World\"}\n",
    "#labels = range(22, 77, 'females')\n",
    "#df = get_df(labels, 77, 'females', 'COL', 2022)\n",
    "#df\n",
    "\n",
    "\n",
    "def get_region_df(age_low, age_high, sex, place, year):\n",
    "    labels = range(age_low, age_high, sex)\n",
    "    df = wbdata.get_dataframe(labels,country = place,parse_dates=True)\n",
    "    df = df.reset_index()\n",
    "    df2 = df[df['date'] == f'{year}-01-01']\n",
    "    df2['date'] = year\n",
    "    #if the age high is >25 and <80 and not a multiple of 5, then take a proportional fraction of the last column\n",
    "    #example: 27, in range [25, 29] want (27%5 /5)\n",
    "    if ((age_high>=25) & (age_high<80) & (age_high%5 != 4)):\n",
    "        population_count = df2.iloc[0, -1]\n",
    "        display(f'population count: {population_count}')\n",
    "        proportion = (age_high%5+1) / 5\n",
    "        df2.iloc[0, -1] = proportion*population_count\n",
    "        \n",
    "        \n",
    "    return df2\n",
    "\n",
    "get_region_df(22, 77, 'females',condor_countries, 2021)"
   ]
  },
  {
   "cell_type": "markdown",
   "id": "2f397972-329a-413e-bbc2-a6ffa1d49376",
   "metadata": {},
   "source": [
    "## Regular Population Pyramids"
   ]
  },
  {
   "cell_type": "code",
   "execution_count": null,
   "id": "17f29f60-c70a-47bd-8571-5348883dfd8d",
   "metadata": {},
   "outputs": [],
   "source": []
  }
 ],
 "metadata": {
  "kernelspec": {
   "display_name": "Python 3 (ipykernel)",
   "language": "python",
   "name": "python3"
  },
  "language_info": {
   "codemirror_mode": {
    "name": "ipython",
    "version": 3
   },
   "file_extension": ".py",
   "mimetype": "text/x-python",
   "name": "python",
   "nbconvert_exporter": "python",
   "pygments_lexer": "ipython3",
   "version": "3.11.11"
  }
 },
 "nbformat": 4,
 "nbformat_minor": 5
}
