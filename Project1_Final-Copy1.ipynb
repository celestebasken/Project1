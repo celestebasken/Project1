{
 "cells": [
  {
   "cell_type": "markdown",
   "id": "3ce6a55b-dac5-4580-8822-24408a947b70",
   "metadata": {},
   "source": [
    "# Final Project 1: Population and Agricultural Production Changes In Countries in Response to [Operation Condor]"
   ]
  },
  {
   "cell_type": "markdown",
   "id": "4dba8a71-f57f-4bba-8024-84bc72cf3531",
   "metadata": {},
   "source": [
    "## Team Malthus: Celeste Basken, Jocelyn  Velazquez, Reily Fairchild, Ziheng Zhang"
   ]
  },
  {
   "cell_type": "markdown",
   "id": "64b920c7-f8bf-4288-be12-78bb97b89c10",
   "metadata": {},
   "source": [
    "# Table of Contents\n",
    "1. [Introduction](#Introduction)\n",
    "2. [Population Function, Deliverable 1A- Population Statistics](#Population-Function)\n",
    "3. [Population DataFrame Function, Deliverable 3A - Population DataFrames](#Population-Dataframe)\n",
    "4. [Regular Population Pyramids, Deliverable 4B - Population Pyramids](#Population-Pyramids)\n",
    "5. [Animated Population Pyramids](#Results)\n",
    "6. [Visaulizations](#Visualizations)\n",
    "7. [Conclusion](#Conclusion)\n",
    "\n",
    "\n",
    "Unit Tests, Deliverable 2[A] - Unit Tests\n"
   ]
  },
  {
   "cell_type": "markdown",
   "id": "c255e9e7-d5a7-4d17-893a-619e3db1de69",
   "metadata": {},
   "source": [
    "Introduction: The data exploration done in this notebook is aimed at exploring the impact and repurcussions done to countries in South America, primarily [Brazil, Argentina, ..] as a result of [].\n"
   ]
  },
  {
   "cell_type": "markdown",
   "id": "e5dab253-0a11-48cf-b4e0-e3bf8af2fd54",
   "metadata": {},
   "source": [
    "## Initial Imports"
   ]
  },
  {
   "cell_type": "code",
   "execution_count": 9,
   "id": "004bd82f-de83-49ba-89be-bfde9eec9560",
   "metadata": {},
   "outputs": [],
   "source": [
    "#%pip install wbdata\n",
    "%pip install pandas\n",
    "%pip install iso3166\n",
    "%pip install cufflinks\n",
    "%pip install eep153_tools\n",
    "%pip install plotly\n",
    "\n",
    "#import numpy as np\n",
    "import wbdata\n",
    "import pandas as pd\n",
    "import math\n",
    "import iso3166\n",
    "import plotly.offline as py\n",
    "from scipy.optimize import newton\n",
    "import plotly.graph_objs as go\n",
    "from plotly.subplots import make_subplots\n",
    "import numpy as np\n",
    "import cufflinks as cf\n",
    "from matplotlib import animation as ani\n",
    "cf.go_offline()"
   ]
  },
  {
   "cell_type": "markdown",
   "id": "f12d879f-ed40-4dea-adad-82a5a3aba0b7",
   "metadata": {},
   "source": [
    "## Population Function"
   ]
  },
  {
   "cell_type": "markdown",
   "id": "ef8c3096-cfa6-4af4-bc97-b092c11721d4",
   "metadata": {},
   "source": [
    "### This function returns a query response to the question: 'In [year] how many [people/males/females] aged [low] to [high] were living in [the world/region/country]?'\n",
    "\n",
    " Please note, this function was designed to be able to answer **only** the regions of countries targeted in Operation Condor, as that is the main focus region for our team."
   ]
  },
  {
   "cell_type": "code",
   "execution_count": 27,
   "id": "6c732da3-f9d6-4bac-81e6-130c8e1bf18b",
   "metadata": {},
   "outputs": [],
   "source": [
    "\n",
    "import math\n",
    "#def population(year,sex,age_low, age_high,place):\n",
    "SOURCE = 40\n",
    "\n",
    "def age_floor_lessthan_25(age_low, age_high, labels, sex):\n",
    "    \n",
    "    for i in np.arange(age_low, age_high+1):\n",
    "            if sex == 'males':\n",
    "                #labels[f'SP.POP.AG{str(i).zfill(2)}.MA.IN'] = f'SP.POP.AG{str(i).zfill(2)}.MA.IN'\n",
    "                labels[f'SP.POP.AG{str(i).zfill(2)}.MA.IN'] = f'Males {str(i).zfill(2)}'\n",
    "            elif sex == 'females':\n",
    "                labels[f'SP.POP.AG{str(i).zfill(2)}.FE.IN'] = f'Females {str(i).zfill(2)}'\n",
    "                #labels[f'SP.POP.AG{str(i).zfill(2)}.FE.IN'] = f'SP.POP.AG{str(i).zfill(2)}.FE.IN'\n",
    "            else:\n",
    "                #labels[f'SP.POP.AG{str(i).zfill(2)}.MA.IN'] = f'SP.POP.AG{str(i).zfill(2)}.MA.IN'\n",
    "                #labels[f'SP.POP.AG{str(i).zfill(2)}.FE.IN'] = f'SP.POP.AG{str(i).zfill(2)}.FE.IN'   \n",
    "                labels[f'SP.POP.AG{str(i).zfill(2)}.FE.IN'] = f'Females {str(i).zfill(2)}'\n",
    "                labels[f'SP.POP.AG{str(i).zfill(2)}.MA.IN'] = f'Males {str(i).zfill(2)}'\n",
    "                \n",
    "def age_floor_greaterthan_25(age_low, age_high, labels, sex):\n",
    "        age_floor = math.floor(age_low /5) * 5\n",
    "        age_ceiling = math.ceil((age_high+1)/5)*5 \n",
    "        floor_str = str(age_floor).zfill(2)\n",
    "        num_ranges = (age_ceiling - age_floor) / 5\n",
    "        for i in np.arange(num_ranges):\n",
    "            lower_str = str(int(age_floor + 5 * i)).zfill(2)\n",
    "            higher_str = str(int(age_floor + 5 * i + 4)).zfill(2)\n",
    "\n",
    "           # lower_str = str(int(age_floor+5*i))\n",
    "           # higher_str = str(int(age_floor+5*i+4))\n",
    "           \n",
    "             #override if age is >=80\n",
    "            if lower_str >='80':\n",
    "                lower_str = \"80\"\n",
    "                higher_str = 'UP'\n",
    "            if sex == 'males':\n",
    "                labels[f'SP.POP.{lower_str}{higher_str}.MA'] = f'Males {lower_str}{higher_str}'\n",
    "            elif sex == 'females':\n",
    "                labels[f'SP.POP.{lower_str}{higher_str}.FE'] = f'Females {lower_str}{higher_str}'\n",
    "            else:\n",
    "                #labels[f'SP.POP.AG{str(i).zfill(2)}.FE.IN'] = f'SP.POP.AG{str(i).zfill(2)}.FE'\n",
    "                labels[f'SP.POP.{lower_str}{higher_str}.FE'] = f'Females {lower_str}{higher_str}'\n",
    "                labels[f'SP.POP.{lower_str}{higher_str}.MA'] = f'Males {lower_str}{higher_str}'\n",
    "\n",
    "\n",
    "#correct age range, use specific age year values if do not return null:\n",
    "def range(age_low, age_high, sex): \n",
    "    labels = {}\n",
    "    \n",
    "    labels_test1 = {}\n",
    "    age_floor_lessthan_25(0, 24, labels_test1, 'males')\n",
    "    assert 'SP.POP.AG00.MA.IN' in labels_test1 and 'SP.POP.AG24.MA.IN' in labels_test1, \"Failed to retrieve data for ages < 25\"\n",
    "\n",
    "    labels_test2 = {}\n",
    "    age_floor_greaterthan_25(25, 39, labels_test2, 'females')\n",
    "    assert 'SP.POP.2529.FE' in labels_test2 and 'SP.POP.3539.FE' in labels_test2, \"Failed to retrieve data for ages >= 25\"\n",
    "\n",
    "    #age range [0,25]\n",
    "    if age_high < 25:\n",
    "        age_floor_lessthan_25(age_low, age_high, labels, sex)\n",
    "    #age range [25, +]\n",
    "    elif age_low >= 25:\n",
    "        age_floor_greaterthan_25(age_low, age_high, labels, sex)\n",
    "    #age range [0, 25+]\n",
    "    else:\n",
    "        age_floor_lessthan_25(age_low, 24, labels, sex)\n",
    "        age_floor_greaterthan_25(25, age_high, labels, sex)\n",
    "        \n",
    "    return labels\n",
    "\n",
    "#correct age range, use specific age year values (0,25) do return null:\n",
    "def age_range_intv(age_low, age_high, sex):\n",
    "    labels = {}\n",
    "    \n",
    "    labels_test2 = {}\n",
    "    age_floor_greaterthan_25(25, 39, labels_test2, 'females')\n",
    "    assert 'SP.POP.2529.FE' in labels_test2 and 'SP.POP.3539.FE' in labels_test2, \"Failed to retrieve data for ages >= 25\"\n",
    "\n",
    "     \n",
    "    age_floor_greaterthan_25(age_low, age_high, labels, sex)\n",
    "   \n",
    "    return labels\n",
    "\n",
    "\n",
    "\n",
    "def get_region_df(labels, age_high, sex, place, year):\n",
    "    df = wbdata.get_dataframe(labels,country = place,parse_dates=True)\n",
    "    df = df.reset_index()\n",
    "    df2 = df[df['date'] == f'{year}-01-01']\n",
    "\n",
    "    #if the age high is >25 and <80 and not a multiple of 5, then take a proportional fraction of the last column\n",
    "    #example: 27, in range [25, 29] want (27%5 /5)\n",
    "    #doesn't account for ages 81, 82, 83, etc (difficult to interpolate when so little data on older ages)\n",
    "    if ((age_high>=25) & (age_high<80) & (age_high%5 != 4)):\n",
    "        \n",
    "        population_count = df2.iloc[0, -1]\n",
    "        display(f'population count: {population_count}')\n",
    "        proportion = (age_high%5+1) / 5\n",
    "        df2.iloc[0, -1] = proportion*population_count\n",
    "        \n",
    "    return df2\n",
    "#df = get_df(labels, sex, place, year)\n",
    "#labels = range(22, 77, 'males')\n",
    "#df = get_df(labels, 77, 'females', 'COL', 2022)\n",
    "#df\n",
    "\n",
    "\n",
    "def population(sex, age_low, age_high, place, year):\n",
    "    # Error handling for invalid age range\n",
    "    if age_low > age_high:\n",
    "        raise ValueError(f\"Invalid age range: ({age_low}) < ({age_high}). Please reverse the input age ranges.\")\n",
    "\n",
    "    # Validate `place` is a valid location in wbdata\n",
    "    ls_countries = wbdata.get_countries()\n",
    "    country_codes = [country['id'] for country in ls_countries]\n",
    "    \n",
    "    if place not in country_codes:\n",
    "        raise ValueError(f\"Invalid country code: {place}. Please enter a valid country. Call wbdata.get_countries to see the valid list of countries.\")\n",
    "\n",
    "\n",
    "    labels = range(age_low, age_high, sex)\n",
    "     \n",
    "    #unit test for age edge cases (if highest age lies in an interval)\n",
    "    tlabels = {'SP.POP.2529.MA': 'Males 25-29'}\n",
    "    df_test = get_region_df(tlabels, 27, sex, place, year)\n",
    "    assert df_test.iloc[0, -1] <= df_test.iloc[0, 1], \"Population proportion adjustment error!\"\n",
    "\n",
    "\n",
    "    df = get_region_df(labels, age_high, sex, place, year)\n",
    "    \n",
    "    # Check if the dataframe has any 'None' values for an age (Like 'WLD')\n",
    "    if df.iloc[:, 1:].isnull().all().any():\n",
    "        print('The age range (1, 25) returned null values, using interval ages ranges [0-5] instead')\n",
    "        labels = age_range_intv(age_low, age_high, sex)\n",
    "        df = get_region_df(labels, age_high, sex, place, year)\n",
    "    \n",
    "    df.drop('date', axis = 1, inplace=True)\n",
    "    df['total pop in age range'] = df.sum(axis=1)\n",
    "    total = df.iloc[0]['total pop in age range']\n",
    "    display(f'In {year}, the number of {sex} between ages {age_low} to {age_high} living in {place} was approximately {total}')\n",
    "    return df\n"
   ]
  },
  {
   "cell_type": "code",
   "execution_count": 28,
   "id": "8a0b5fcc-b353-4257-aeeb-5c9f2c84d63b",
   "metadata": {},
   "outputs": [
    {
     "data": {
      "text/plain": [
       "'lower string: 25, higher string: 29'"
      ]
     },
     "metadata": {},
     "output_type": "display_data"
    },
    {
     "data": {
      "text/plain": [
       "'lower string: 30, higher string: 34'"
      ]
     },
     "metadata": {},
     "output_type": "display_data"
    },
    {
     "data": {
      "text/plain": [
       "'lower string: 35, higher string: 39'"
      ]
     },
     "metadata": {},
     "output_type": "display_data"
    },
    {
     "data": {
      "text/plain": [
       "'population count: 256111683.0'"
      ]
     },
     "metadata": {},
     "output_type": "display_data"
    },
    {
     "name": "stdout",
     "output_type": "stream",
     "text": [
      "The age range (1, 25) returned null values, using interval ages ranges [0-5] instead\n"
     ]
    },
    {
     "data": {
      "text/plain": [
       "'lower string: 25, higher string: 29'"
      ]
     },
     "metadata": {},
     "output_type": "display_data"
    },
    {
     "data": {
      "text/plain": [
       "'lower string: 30, higher string: 34'"
      ]
     },
     "metadata": {},
     "output_type": "display_data"
    },
    {
     "data": {
      "text/plain": [
       "'lower string: 35, higher string: 39'"
      ]
     },
     "metadata": {},
     "output_type": "display_data"
    },
    {
     "data": {
      "text/plain": [
       "'lower string: 00, higher string: 04'"
      ]
     },
     "metadata": {},
     "output_type": "display_data"
    },
    {
     "data": {
      "text/plain": [
       "'lower string: 05, higher string: 09'"
      ]
     },
     "metadata": {},
     "output_type": "display_data"
    },
    {
     "data": {
      "text/plain": [
       "'lower string: 10, higher string: 14'"
      ]
     },
     "metadata": {},
     "output_type": "display_data"
    },
    {
     "data": {
      "text/plain": [
       "'lower string: 15, higher string: 19'"
      ]
     },
     "metadata": {},
     "output_type": "display_data"
    },
    {
     "data": {
      "text/plain": [
       "'lower string: 20, higher string: 24'"
      ]
     },
     "metadata": {},
     "output_type": "display_data"
    },
    {
     "data": {
      "text/plain": [
       "{'SP.POP.0004.MA': 'Males 0004',\n",
       " 'SP.POP.0509.MA': 'Males 0509',\n",
       " 'SP.POP.1014.MA': 'Males 1014',\n",
       " 'SP.POP.1519.MA': 'Males 1519',\n",
       " 'SP.POP.2024.MA': 'Males 2024'}"
      ]
     },
     "metadata": {},
     "output_type": "display_data"
    },
    {
     "name": "stderr",
     "output_type": "stream",
     "text": [
      "WARNING:shelved_cache.persistent_cache:Key '-975842234238715258' not in persistent cache.\n",
      "WARNING:shelved_cache.persistent_cache:Key '4449049184641108911' not in persistent cache.\n",
      "WARNING:shelved_cache.persistent_cache:Key '-3810678075927808308' not in persistent cache.\n",
      "WARNING:shelved_cache.persistent_cache:Key '-1902836827912562682' not in persistent cache.\n",
      "WARNING:shelved_cache.persistent_cache:Key '-2652377628461525492' not in persistent cache.\n"
     ]
    },
    {
     "data": {
      "text/plain": [
       "'In 2000, the number of males between ages 1 to 24 living in WLD was approximately 1524729165.0'"
      ]
     },
     "metadata": {},
     "output_type": "display_data"
    },
    {
     "data": {
      "text/html": [
       "<div>\n",
       "<style scoped>\n",
       "    .dataframe tbody tr th:only-of-type {\n",
       "        vertical-align: middle;\n",
       "    }\n",
       "\n",
       "    .dataframe tbody tr th {\n",
       "        vertical-align: top;\n",
       "    }\n",
       "\n",
       "    .dataframe thead th {\n",
       "        text-align: right;\n",
       "    }\n",
       "</style>\n",
       "<table border=\"1\" class=\"dataframe\">\n",
       "  <thead>\n",
       "    <tr style=\"text-align: right;\">\n",
       "      <th></th>\n",
       "      <th>Males 0004</th>\n",
       "      <th>Males 0509</th>\n",
       "      <th>Males 1014</th>\n",
       "      <th>Males 1519</th>\n",
       "      <th>Males 2024</th>\n",
       "      <th>total pop in age range</th>\n",
       "    </tr>\n",
       "  </thead>\n",
       "  <tbody>\n",
       "    <tr>\n",
       "      <th>23</th>\n",
       "      <td>323242397.0</td>\n",
       "      <td>319575048.0</td>\n",
       "      <td>322416810.0</td>\n",
       "      <td>295149165.0</td>\n",
       "      <td>264345745.0</td>\n",
       "      <td>1.524729e+09</td>\n",
       "    </tr>\n",
       "  </tbody>\n",
       "</table>\n",
       "</div>"
      ],
      "text/plain": [
       "     Males 0004   Males 0509   Males 1014   Males 1519   Males 2024  \\\n",
       "23  323242397.0  319575048.0  322416810.0  295149165.0  264345745.0   \n",
       "\n",
       "    total pop in age range  \n",
       "23            1.524729e+09  "
      ]
     },
     "execution_count": 28,
     "metadata": {},
     "output_type": "execute_result"
    }
   ],
   "source": [
    "#ENTER YOUR QUERIES HERE\n",
    "#df_test = population('males', 0, 100, 'COL', 2000)\n",
    "#assert df_test.iloc[0]['total pop in age range'] > 1e9 / 2, \"Too few males in world population!\"\n",
    "\n",
    "population('males', 1, 24, 'WLD', 2000)\n",
    "#df_test"
   ]
  },
  {
   "cell_type": "markdown",
   "id": "04e26d9a-478e-440e-9c07-77df193a3848",
   "metadata": {},
   "source": [
    "## Population Dataframe\n",
    "This function returns a pandas DataFrame indexed by Region or Country and Year, with columns giving counts of people in different age-sex groups. For the means of Team Malthus' project focus, this function was designed to produce specifics for **only** regions/countries we are focussing on: the countries directly targeted impacted by Operation Condor.\n"
   ]
  },
  {
   "cell_type": "code",
   "execution_count": 29,
   "id": "be7654e8-f68d-4fdb-9545-12ae0373f006",
   "metadata": {},
   "outputs": [
    {
     "data": {
      "text/plain": [
       "'lower string: 25, higher string: 29'"
      ]
     },
     "metadata": {},
     "output_type": "display_data"
    },
    {
     "data": {
      "text/plain": [
       "'lower string: 30, higher string: 34'"
      ]
     },
     "metadata": {},
     "output_type": "display_data"
    },
    {
     "data": {
      "text/plain": [
       "'lower string: 35, higher string: 39'"
      ]
     },
     "metadata": {},
     "output_type": "display_data"
    },
    {
     "data": {
      "text/plain": [
       "'lower string: 25, higher string: 29'"
      ]
     },
     "metadata": {},
     "output_type": "display_data"
    },
    {
     "data": {
      "text/plain": [
       "'lower string: 30, higher string: 34'"
      ]
     },
     "metadata": {},
     "output_type": "display_data"
    },
    {
     "data": {
      "text/plain": [
       "'lower string: 35, higher string: 39'"
      ]
     },
     "metadata": {},
     "output_type": "display_data"
    },
    {
     "data": {
      "text/plain": [
       "'lower string: 40, higher string: 44'"
      ]
     },
     "metadata": {},
     "output_type": "display_data"
    },
    {
     "data": {
      "text/plain": [
       "'lower string: 45, higher string: 49'"
      ]
     },
     "metadata": {},
     "output_type": "display_data"
    },
    {
     "data": {
      "text/plain": [
       "'lower string: 50, higher string: 54'"
      ]
     },
     "metadata": {},
     "output_type": "display_data"
    },
    {
     "data": {
      "text/plain": [
       "'lower string: 55, higher string: 59'"
      ]
     },
     "metadata": {},
     "output_type": "display_data"
    },
    {
     "data": {
      "text/plain": [
       "'lower string: 60, higher string: 64'"
      ]
     },
     "metadata": {},
     "output_type": "display_data"
    },
    {
     "data": {
      "text/plain": [
       "'lower string: 65, higher string: 69'"
      ]
     },
     "metadata": {},
     "output_type": "display_data"
    },
    {
     "data": {
      "text/plain": [
       "'lower string: 70, higher string: 74'"
      ]
     },
     "metadata": {},
     "output_type": "display_data"
    },
    {
     "data": {
      "text/plain": [
       "'lower string: 75, higher string: 79'"
      ]
     },
     "metadata": {},
     "output_type": "display_data"
    },
    {
     "name": "stderr",
     "output_type": "stream",
     "text": [
      "/tmp/ipykernel_2266/1665431826.py:12: SettingWithCopyWarning: \n",
      "A value is trying to be set on a copy of a slice from a DataFrame.\n",
      "Try using .loc[row_indexer,col_indexer] = value instead\n",
      "\n",
      "See the caveats in the documentation: https://pandas.pydata.org/pandas-docs/stable/user_guide/indexing.html#returning-a-view-versus-a-copy\n",
      "  df2['date'] = year\n"
     ]
    },
    {
     "data": {
      "text/plain": [
       "'population count: 602985.0'"
      ]
     },
     "metadata": {},
     "output_type": "display_data"
    },
    {
     "data": {
      "text/html": [
       "<div>\n",
       "<style scoped>\n",
       "    .dataframe tbody tr th:only-of-type {\n",
       "        vertical-align: middle;\n",
       "    }\n",
       "\n",
       "    .dataframe tbody tr th {\n",
       "        vertical-align: top;\n",
       "    }\n",
       "\n",
       "    .dataframe thead th {\n",
       "        text-align: right;\n",
       "    }\n",
       "</style>\n",
       "<table border=\"1\" class=\"dataframe\">\n",
       "  <thead>\n",
       "    <tr style=\"text-align: right;\">\n",
       "      <th></th>\n",
       "      <th>country</th>\n",
       "      <th>date</th>\n",
       "      <th>Females 22</th>\n",
       "      <th>Females 23</th>\n",
       "      <th>Females 24</th>\n",
       "      <th>Females 2529</th>\n",
       "      <th>Females 3034</th>\n",
       "      <th>Females 3539</th>\n",
       "      <th>Females 4044</th>\n",
       "      <th>Females 4549</th>\n",
       "      <th>Females 5054</th>\n",
       "      <th>Females 5559</th>\n",
       "      <th>Females 6064</th>\n",
       "      <th>Females 6569</th>\n",
       "      <th>Females 7074</th>\n",
       "      <th>Females 7579</th>\n",
       "    </tr>\n",
       "  </thead>\n",
       "  <tbody>\n",
       "    <tr>\n",
       "      <th>2</th>\n",
       "      <td>Argentina</td>\n",
       "      <td>2021</td>\n",
       "      <td>340990.0</td>\n",
       "      <td>339364.5</td>\n",
       "      <td>341034.0</td>\n",
       "      <td>1727965.0</td>\n",
       "      <td>1651617.0</td>\n",
       "      <td>1583375.0</td>\n",
       "      <td>1548702.0</td>\n",
       "      <td>1372580.0</td>\n",
       "      <td>1183031.0</td>\n",
       "      <td>1095091.0</td>\n",
       "      <td>1017473.0</td>\n",
       "      <td>914976.0</td>\n",
       "      <td>777595.0</td>\n",
       "      <td>361791.0</td>\n",
       "    </tr>\n",
       "    <tr>\n",
       "      <th>66</th>\n",
       "      <td>Bolivia</td>\n",
       "      <td>2021</td>\n",
       "      <td>109809.5</td>\n",
       "      <td>108289.5</td>\n",
       "      <td>107373.5</td>\n",
       "      <td>518258.0</td>\n",
       "      <td>469786.0</td>\n",
       "      <td>400557.0</td>\n",
       "      <td>349190.0</td>\n",
       "      <td>297321.0</td>\n",
       "      <td>251647.0</td>\n",
       "      <td>210244.0</td>\n",
       "      <td>169351.0</td>\n",
       "      <td>128503.0</td>\n",
       "      <td>96082.0</td>\n",
       "      <td>68510.0</td>\n",
       "    </tr>\n",
       "    <tr>\n",
       "      <th>130</th>\n",
       "      <td>Brazil</td>\n",
       "      <td>2021</td>\n",
       "      <td>1649095.0</td>\n",
       "      <td>1655825.0</td>\n",
       "      <td>1646923.0</td>\n",
       "      <td>8105921.0</td>\n",
       "      <td>8299446.0</td>\n",
       "      <td>8539224.0</td>\n",
       "      <td>8027939.0</td>\n",
       "      <td>7135873.0</td>\n",
       "      <td>6449326.0</td>\n",
       "      <td>6076687.0</td>\n",
       "      <td>5236762.0</td>\n",
       "      <td>4186711.0</td>\n",
       "      <td>3107121.0</td>\n",
       "      <td>2055915.0</td>\n",
       "    </tr>\n",
       "    <tr>\n",
       "      <th>194</th>\n",
       "      <td>Chile</td>\n",
       "      <td>2021</td>\n",
       "      <td>140459.5</td>\n",
       "      <td>145160.0</td>\n",
       "      <td>149702.0</td>\n",
       "      <td>792156.0</td>\n",
       "      <td>795033.0</td>\n",
       "      <td>725313.0</td>\n",
       "      <td>675065.0</td>\n",
       "      <td>649398.0</td>\n",
       "      <td>629116.0</td>\n",
       "      <td>586850.0</td>\n",
       "      <td>520887.0</td>\n",
       "      <td>436213.0</td>\n",
       "      <td>342926.0</td>\n",
       "      <td>236452.0</td>\n",
       "    </tr>\n",
       "    <tr>\n",
       "      <th>258</th>\n",
       "      <td>Ecuador</td>\n",
       "      <td>2021</td>\n",
       "      <td>155491.5</td>\n",
       "      <td>155337.5</td>\n",
       "      <td>155166.0</td>\n",
       "      <td>755239.0</td>\n",
       "      <td>701586.0</td>\n",
       "      <td>648686.0</td>\n",
       "      <td>574585.0</td>\n",
       "      <td>505627.0</td>\n",
       "      <td>442048.0</td>\n",
       "      <td>377253.0</td>\n",
       "      <td>313465.0</td>\n",
       "      <td>256287.0</td>\n",
       "      <td>198079.0</td>\n",
       "      <td>137218.0</td>\n",
       "    </tr>\n",
       "    <tr>\n",
       "      <th>322</th>\n",
       "      <td>World</td>\n",
       "      <td>2021</td>\n",
       "      <td>NaN</td>\n",
       "      <td>NaN</td>\n",
       "      <td>NaN</td>\n",
       "      <td>290638670.0</td>\n",
       "      <td>296697604.0</td>\n",
       "      <td>274546997.0</td>\n",
       "      <td>246000086.0</td>\n",
       "      <td>234930861.0</td>\n",
       "      <td>223923211.0</td>\n",
       "      <td>202156613.0</td>\n",
       "      <td>165292891.0</td>\n",
       "      <td>144946891.0</td>\n",
       "      <td>108698089.0</td>\n",
       "      <td>71377606.0</td>\n",
       "    </tr>\n",
       "  </tbody>\n",
       "</table>\n",
       "</div>"
      ],
      "text/plain": [
       "       country  date  Females 22  Females 23  Females 24  Females 2529  \\\n",
       "2    Argentina  2021    340990.0    339364.5    341034.0     1727965.0   \n",
       "66     Bolivia  2021    109809.5    108289.5    107373.5      518258.0   \n",
       "130     Brazil  2021   1649095.0   1655825.0   1646923.0     8105921.0   \n",
       "194      Chile  2021    140459.5    145160.0    149702.0      792156.0   \n",
       "258    Ecuador  2021    155491.5    155337.5    155166.0      755239.0   \n",
       "322      World  2021         NaN         NaN         NaN   290638670.0   \n",
       "\n",
       "     Females 3034  Females 3539  Females 4044  Females 4549  Females 5054  \\\n",
       "2       1651617.0     1583375.0     1548702.0     1372580.0     1183031.0   \n",
       "66       469786.0      400557.0      349190.0      297321.0      251647.0   \n",
       "130     8299446.0     8539224.0     8027939.0     7135873.0     6449326.0   \n",
       "194      795033.0      725313.0      675065.0      649398.0      629116.0   \n",
       "258      701586.0      648686.0      574585.0      505627.0      442048.0   \n",
       "322   296697604.0   274546997.0   246000086.0   234930861.0   223923211.0   \n",
       "\n",
       "     Females 5559  Females 6064  Females 6569  Females 7074  Females 7579  \n",
       "2       1095091.0     1017473.0      914976.0      777595.0      361791.0  \n",
       "66       210244.0      169351.0      128503.0       96082.0       68510.0  \n",
       "130     6076687.0     5236762.0     4186711.0     3107121.0     2055915.0  \n",
       "194      586850.0      520887.0      436213.0      342926.0      236452.0  \n",
       "258      377253.0      313465.0      256287.0      198079.0      137218.0  \n",
       "322   202156613.0   165292891.0   144946891.0   108698089.0    71377606.0  "
      ]
     },
     "execution_count": 29,
     "metadata": {},
     "output_type": "execute_result"
    }
   ],
   "source": [
    "condor_countries = {'ARG': 'Argentina', 'BOL': 'Bolivia', 'BRA': 'Brazil', 'CHL': 'Chile', 'ECU': 'Ecuador', 'CLA':'Latin America and the Caribbean (IFC classification)', 'WLD' :\"World\"}\n",
    "#labels = range(22, 77, 'females')\n",
    "#df = get_df(labels, 77, 'females', 'COL', 2022)\n",
    "#df\n",
    "\n",
    "\n",
    "def get_region_df(age_low, age_high, sex, place, year):\n",
    "    labels = range(age_low, age_high, sex)\n",
    "    df = wbdata.get_dataframe(labels,country = place,parse_dates=True)\n",
    "    df = df.reset_index()\n",
    "    df2 = df[df['date'] == f'{year}-01-01']\n",
    "    df2['date'] = year\n",
    "    #if the age high is >25 and <80 and not a multiple of 5, then take a proportional fraction of the last column\n",
    "    #example: 27, in range [25, 29] want (27%5 /5)\n",
    "    if ((age_high>=25) & (age_high<80) & (age_high%5 != 4)):\n",
    "        population_count = df2.iloc[0, -1]\n",
    "        display(f'population count: {population_count}')\n",
    "        proportion = (age_high%5+1) / 5\n",
    "        df2.iloc[0, -1] = proportion*population_count\n",
    "        \n",
    "        \n",
    "    return df2\n",
    "\n",
    "get_region_df(22, 77, 'females',condor_countries, 2021)"
   ]
  },
  {
   "cell_type": "markdown",
   "id": "2f397972-329a-413e-bbc2-a6ffa1d49376",
   "metadata": {},
   "source": [
    "## Regular Population Pyramids"
   ]
  },
  {
   "cell_type": "markdown",
   "id": "0bb1df4e-d1e2-4817-84ce-f582d2b0b823",
   "metadata": {},
   "source": [
    "pd.options.plotting.backend = 'plotly'\n",
    "SOURCE2=2 "
   ]
  },
  {
   "cell_type": "markdown",
   "id": "d0de34ea-68ef-4ae1-8b2e-9c18acf19b12",
   "metadata": {},
   "source": [
    "## [4] Population Pyramids"
   ]
  },
  {
   "cell_type": "code",
   "execution_count": null,
   "id": "893df84c-7bd5-401c-b277-79a405d326a0",
   "metadata": {},
   "outputs": [],
   "source": [
    "# Look around a bit\n",
    "wbdata.get_topics()"
   ]
  },
  {
   "cell_type": "code",
   "execution_count": null,
   "id": "a61b874c-f5dc-4829-ba13-b190b2864d2b",
   "metadata": {},
   "outputs": [],
   "source": [
    "# this is extra code left over from playing around, for now\n",
    "vars4 = {\"EG.ELC.ACCS.RU.ZS\":\"Investigation\"}\n",
    "\n",
    "#BLA is all of Latin America and the Caribbean\n",
    "\n",
    "scone=[\"BLA\",\"CHL\",\"ARG\",\"URY\"]\n",
    "viet=[\"VNM\",\"BRA\"]\n",
    "\n",
    "chldlabor = wbdata.get_dataframe(vars4,country=scone,parse_dates=True).squeeze().unstack('country')\n",
    "\n",
    "chldlabor.plot(title=\"Test\")"
   ]
  },
  {
   "cell_type": "code",
   "execution_count": null,
   "id": "7a213c29-7d94-49db-879e-92370ed165ff",
   "metadata": {},
   "outputs": [],
   "source": [
    "wbdata.get_indicators(source=40)"
   ]
  },
  {
   "cell_type": "markdown",
   "id": "dea9bbb8-0da7-4045-a23e-cfda7b731fdf",
   "metadata": {},
   "source": [
    "# World Population Pyramid"
   ]
  },
  {
   "cell_type": "code",
   "execution_count": null,
   "id": "ee923d4b-4847-43bf-aa1b-8ace435f80e1",
   "metadata": {},
   "outputs": [],
   "source": [
    "# Constructing a list of all possible age categories, such as 0-4, 5-9, ... 75-79, 80PLUS.\n",
    "ages = []\n",
    "for a in range(0,80,5):\n",
    "    ages.append(f\"{a:02d}\"+f\"{a+4:02d}\")\n",
    "\n",
    "ages.append(\"80UP\")\n",
    "# Print the result to ensure the correct ranges are created.\n",
    "print(ages)\n",
    "\n",
    "# Unit test for 'ages'\n",
    "#ages_test = population('males', 0, 100, 'COL', 2000)\n"
   ]
  },
  {
   "cell_type": "code",
   "execution_count": null,
   "id": "15258845-dfe8-4f71-93d8-ed1d126f7ddf",
   "metadata": {},
   "outputs": [],
   "source": [
    "# Creates a dictionary, where each term defining a population in the wbdata dataset is named more descriptively.\n",
    "male_ranges = {\"SP.POP.\"+age_range+\".MA\":\"Males \"+age_range for age_range in ages}\n",
    "female_ranges = {\"SP.POP.\"+age_range+\".FE\":\"Females \"+age_range for age_range in ages}\n",
    "\n",
    "# Develop a combined dictionary, then print it to sanity check.\n",
    "categories = {**male_ranges, **female_ranges}\n",
    "print(categories)"
   ]
  },
  {
   "cell_type": "code",
   "execution_count": null,
   "id": "c6cef337-2476-462a-a17d-71012860473a",
   "metadata": {},
   "outputs": [],
   "source": [
    "# Make a dataframe of the chosen 'country_choice' data\n",
    "\n",
    "country_choice = \"WLD\"\n",
    "world = wbdata.get_dataframe(categories,country=country_choice)"
   ]
  },
  {
   "cell_type": "code",
   "execution_count": null,
   "id": "3d7eb0c4-b9d1-4a10-be6e-4a5edaf1597f",
   "metadata": {},
   "outputs": [],
   "source": [
    "# Creating a population pyramid of the world\n",
    "py.init_notebook_mode(connected=True)\n",
    "\n",
    "layout_world1 = go.Layout(\n",
    "    title=\"World Population Pyramid (2023)\",\n",
    "    title_font=dict(size=18, color='black'),\n",
    "    barmode='overlay',\n",
    "    width=600,\n",
    "    height=600,\n",
    "    paper_bgcolor='#f4f4f4',\n",
    "    plot_bgcolor='#ffffff',\n",
    "    font=dict(family=\"Arial, sans-serif\", size=14, color=\"black\"),\n",
    "    xaxis=dict(\n",
    "        title='Number of People',\n",
    "        title_font=dict(size=16),\n",
    "        tickfont=dict(size=12),\n",
    "        gridcolor='lightgray'\n",
    "    ),\n",
    "    yaxis=dict(\n",
    "        range=[0, 90],\n",
    "        title='Age',\n",
    "        title_font=dict(size=16),\n",
    "        tickfont=dict(size=12),\n",
    "        gridcolor='lightgray'\n",
    "    ),\n",
    "    showlegend=True\n",
    ")\n",
    "\n",
    "bins_world1 = [go.Bar(x = world.loc[str(2023),:].filter(regex=\"Male\").values,\n",
    "               y = [int(s[:2])+1 for s in ages],\n",
    "               orientation='h',\n",
    "               name='Men',\n",
    "               marker=dict(color='green', line=dict(color='black', width=1)),\n",
    "               hoverinfo='skip'\n",
    "               ),\n",
    "\n",
    "        go.Bar(x = -world.loc[str(2023),:].filter(regex=\"Female\").values,\n",
    "               y=[int(s[:2])+1 for s in ages],\n",
    "               orientation='h',\n",
    "               name='Women',\n",
    "               marker=dict(color='yellow', line=dict(color='black', width=1)),\n",
    "               hoverinfo='skip',\n",
    "               )\n",
    "        ]\n",
    "\n",
    "py.iplot(dict(data=bins_world1, layout=layout_world1))"
   ]
  },
  {
   "cell_type": "code",
   "execution_count": null,
   "id": "ab7f3235-4926-49e3-bb1e-46df78de1f27",
   "metadata": {},
   "outputs": [],
   "source": [
    "# Trying to make an animated one..?\n",
    "\n",
    "# Define available years\n",
    "years = [1970, 1980, 1990, 2000, 2010, 2020]\n",
    "ages = [f\"{i}-{i+4}\" for i in range(0, 85, 5)] + [\"85+\"]  # Includes 85+ group\n",
    "\n",
    "# Function to create bar traces for a given year\n",
    "def get_traces(year):\n",
    "    male_values = world.loc[str(year)].filter(regex=\"Male\").values\n",
    "    female_values = world.loc[str(year)].filter(regex=\"Female\").values\n",
    "\n",
    "    return [\n",
    "        go.Bar(\n",
    "            x=male_values,\n",
    "            y=[int(s.split('-')[0]) + 1 if '-' in s else int(s[:-1]) for s in ages],\n",
    "            orientation='h',\n",
    "            name='Men',\n",
    "            marker=dict(color='olive', line=dict(color='black', width=1)),\n",
    "            hoverinfo='skip'\n",
    "        ),\n",
    "        go.Bar(\n",
    "            x=-female_values,  # Keep negative values for left alignment\n",
    "            y=[int(s.split('-')[0]) + 1 if '-' in s else int(s[:-1]) for s in ages],\n",
    "            orientation='h',\n",
    "            name='Women',\n",
    "            marker=dict(color='purple', line=dict(color='black', width=1)),\n",
    "            hoverinfo='skip'\n",
    "        )\n",
    "    ]\n",
    "\n",
    "# Ensure index is properly formatted for lookup\n",
    "max_population = max(world.loc[world.index.astype(str).isin(map(str, years))].filter(regex=\"Male|Female\").max().values)\n",
    "\n",
    "# Create figure with initial data (1970)\n",
    "fig2 = go.Figure(data=get_traces(1970), frames=[\n",
    "    go.Frame(data=get_traces(year), name=str(year)) for year in years\n",
    "])\n",
    "\n",
    "# Update layout with proper axis alignment\n",
    "fig2.update_layout(\n",
    "    title=\"Animated World Population Pyramid (1970-2020)\",\n",
    "    width=700, height=600, paper_bgcolor='#f4f4f4', plot_bgcolor='#ffffff',\n",
    "    font=dict(family=\"Arial, sans-serif\", size=14, color=\"black\"),\n",
    "    xaxis=dict(title=\"Population\", gridcolor='lightgray', range=[-max_population, max_population]),\n",
    "    yaxis=dict(title=\"Age Group\", gridcolor='lightgray'),\n",
    "    barmode='overlay',\n",
    "    showlegend=True,\n",
    "    updatemenus=[{\n",
    "        \"buttons\": [\n",
    "            {\"args\": [None, {\"frame\": {\"duration\": 1000, \"redraw\": True}, \"fromcurrent\": True}],\n",
    "             \"label\": \"Play\", \"method\": \"animate\"},\n",
    "            {\"args\": [[None], {\"frame\": {\"duration\": 0, \"redraw\": True}, \"mode\": \"immediate\"}],\n",
    "             \"label\": \"Pause\", \"method\": \"animate\"}\n",
    "        ],\n",
    "        \"type\": \"buttons\", \"x\": 0.1, \"y\": 0\n",
    "    }],\n",
    "    sliders=[{\n",
    "        \"steps\": [{\"args\": [[str(year)], {\"frame\": {\"duration\": 0, \"redraw\": True}, \"mode\": \"immediate\"}],\n",
    "                   \"label\": str(year), \"method\": \"animate\"} for year in years],\n",
    "        \"currentvalue\": {\"prefix\": \"Year: \", \"font\": {\"size\": 16}}\n",
    "    }]\n",
    ")\n",
    "\n",
    "fig2.show()"
   ]
  },
  {
   "cell_type": "markdown",
   "id": "80e00696-7fe3-4ffe-ada1-c8ab66b4ba62",
   "metadata": {},
   "source": [
    "# Population pyramids for target Operation Condor countries\n",
    "    # Brazil, Chile, Argentina, Uruguay,  Ecuador, Colombia, Peru, and Paraguay"
   ]
  },
  {
   "cell_type": "code",
   "execution_count": null,
   "id": "c4930962-2de6-45b3-9d16-65f9af95d355",
   "metadata": {},
   "outputs": [],
   "source": [
    "# Regional Context\n",
    "    # All of Latin America & the Caribbean (TLA)\n",
    "country_choice_2 = \"TLA\"\n",
    "LA_caribbean = wbdata.get_dataframe(categories,country=country_choice_2)\n",
    "\n",
    "# Creating a population pyramid\n",
    "py.init_notebook_mode(connected=True)\n",
    "\n",
    "layout_LA_caribbean = go.Layout(\n",
    "    title=\"Population Pyramid of Latin America and the Caribbean (2023)\",\n",
    "    title_font=dict(size=18, color='black'),\n",
    "    barmode='overlay',\n",
    "    width=600,\n",
    "    height=600,\n",
    "    paper_bgcolor='#f4f4f4',\n",
    "    plot_bgcolor='#ffffff',\n",
    "    font=dict(family=\"Arial, sans-serif\", size=14, color=\"black\"),\n",
    "    xaxis=dict(\n",
    "        title='Number of People',\n",
    "        title_font=dict(size=16),\n",
    "        tickfont=dict(size=12),\n",
    "        gridcolor='lightgray'\n",
    "    ),\n",
    "    yaxis=dict(\n",
    "        range=[0, 90],\n",
    "        title='Age',\n",
    "        title_font=dict(size=16),\n",
    "        tickfont=dict(size=12),\n",
    "        gridcolor='lightgray'\n",
    "    ),\n",
    "    showlegend=True\n",
    ")\n",
    "\n",
    "bins_LA_caribbean = [go.Bar(x = LA_caribbean.loc[str(2023),:].filter(regex=\"Male\").values,\n",
    "               y = [int(s[:2])+1 for s in ages],\n",
    "               orientation='h',\n",
    "               name='Men',\n",
    "               marker=dict(color='green', line=dict(color='black', width=1)),\n",
    "               hoverinfo='skip'\n",
    "               ),\n",
    "\n",
    "        go.Bar(x = -LA_caribbean.loc[str(2023),:].filter(regex=\"Female\").values,\n",
    "               y=[int(s[:2])+1 for s in ages],\n",
    "               orientation='h',\n",
    "               name='Women',\n",
    "               marker=dict(color='yellow', line=dict(color='black', width=1)),\n",
    "               hoverinfo='skip',\n",
    "               )\n",
    "        ]\n",
    "\n",
    "py.iplot(dict(data=bins_LA_caribbean, layout=layout_LA_caribbean))"
   ]
  },
  {
   "cell_type": "code",
   "execution_count": null,
   "id": "855caae7-bb19-4d82-bdfc-4619a6695bc8",
   "metadata": {},
   "outputs": [],
   "source": [
    "# A figure comparing the population pyramids of various Operation Condor countries in 1980\n",
    "\n",
    "# Define multiple countries\n",
    "country_choices = [\"CHL\", \"BRA\", \"ARG\", \"PER\"]\n",
    "country_titles = [\"Chile\", \"Brazil\", \"Argentina\", \"Peru\"]\n",
    "\n",
    "# Create a subplot layout (2 rows, 2 columns)\n",
    "fig_5 = make_subplots(rows=2, cols=2, subplot_titles=country_titles)\n",
    "\n",
    "# Loop through each country and generate its population pyramid\n",
    "for i, (country, title) in enumerate(zip(country_choices, country_titles)):\n",
    "    condor_countries = wbdata.get_dataframe(categories, country=country)\n",
    "\n",
    "    # Extract male and female data\n",
    "    male_data = condor_countries.loc[str(1980), :].filter(regex=\"Male\").values\n",
    "    female_data = -condor_countries.loc[str(1980), :].filter(regex=\"Female\").values  # Negative for left alignment\n",
    "    age_groups = [int(s[:2]) + 1 for s in ages]  # Convert age labels to integers\n",
    "\n",
    "    # Determine subplot position\n",
    "    row = i // 2 + 1\n",
    "    col = i % 2 + 1\n",
    "\n",
    "    # Add Male bar trace\n",
    "    fig_5.add_trace(go.Bar(\n",
    "        x=male_data,\n",
    "        y=age_groups,\n",
    "        orientation='h',\n",
    "        name=f'{country} - Men',\n",
    "        marker=dict(color='blue', line=dict(color='black', width=1)),\n",
    "        hoverinfo='skip'\n",
    "    ), row=row, col=col)\n",
    "\n",
    "    # Add Female bar trace\n",
    "    fig_5.add_trace(go.Bar(\n",
    "        x=female_data,\n",
    "        y=age_groups,\n",
    "        orientation='h',\n",
    "        name=f'{country} - Women',\n",
    "        marker=dict(color='pink', line=dict(color='black', width=1)),\n",
    "        hoverinfo='skip'\n",
    "    ), row=row, col=col)\n",
    "\n",
    " # Customize X and Y axis labels for each subplot\n",
    "    fig_5.update_xaxes(title_text=\"Number of People\", row=row, col=col)\n",
    "    fig_5.update_yaxes(title_text=\"Age\", row=row, col=col)\n",
    "\n",
    "# Updated layout for aesthetics!\n",
    "fig_5.update_layout(\n",
    "    title=\"Population Pyramids of Selected Latin American Countries during Operation Condor (1980)\",\n",
    "    title_font=dict(size=18, color='black'),\n",
    "    barmode='overlay',\n",
    "    width=1200,  # Adjust width\n",
    "    height=1000,  # Adjust height\n",
    "    paper_bgcolor='#f4f4f4',\n",
    "    plot_bgcolor='#ffffff',\n",
    "    font=dict(family=\"Arial, sans-serif\", size=14, color=\"black\"),\n",
    "    showlegend=True\n",
    ")\n",
    "\n",
    "# Make the final figure\n",
    "fig_5.show()"
   ]
  },
  {
   "cell_type": "code",
   "execution_count": null,
   "id": "d0477c2d-e24f-4f47-b880-5ec3eead8391",
   "metadata": {},
   "outputs": [],
   "source": [
    "# A figure comparing the population pyramids of various Operation Condor countries in 2023 (recent data)\n",
    "    # Note: compare with the figure above to see the changes from 1980-2023\n",
    "\n",
    "# Define multiple countries\n",
    "country_choices = [\"CHL\", \"BRA\", \"ARG\", \"PER\"]\n",
    "country_titles = [\"Chile\", \"Brazil\", \"Argentina\", \"Peru\"]\n",
    "\n",
    "# Create a subplot layout (2 rows, 2 columns)\n",
    "fig_4 = make_subplots(rows=2, cols=2, subplot_titles=country_titles)\n",
    "\n",
    "# Loop through each country and generate its population pyramid\n",
    "for i, (country, title) in enumerate(zip(country_choices, country_titles)):\n",
    "    condor_countries = wbdata.get_dataframe(categories, country=country)\n",
    "\n",
    "    # Extract male and female data\n",
    "    male_data = condor_countries.loc[str(2023), :].filter(regex=\"Male\").values\n",
    "    female_data = -condor_countries.loc[str(2023), :].filter(regex=\"Female\").values  # Negative for left alignment\n",
    "    age_groups = [int(s[:2]) + 1 for s in ages]  # Convert age labels to integers\n",
    "\n",
    "    # Determine subplot position\n",
    "    row = i // 2 + 1\n",
    "    col = i % 2 + 1\n",
    "\n",
    "    # Add Male bar trace\n",
    "    fig_4.add_trace(go.Bar(\n",
    "        x=male_data,\n",
    "        y=age_groups,\n",
    "        orientation='h',\n",
    "        name=f'{country} - Men',\n",
    "        marker=dict(color='green', line=dict(color='black', width=1)),\n",
    "        hoverinfo='skip'\n",
    "    ), row=row, col=col)\n",
    "\n",
    "    # Add Female bar trace\n",
    "    fig_4.add_trace(go.Bar(\n",
    "        x=female_data,\n",
    "        y=age_groups,\n",
    "        orientation='h',\n",
    "        name=f'{country} - Women',\n",
    "        marker=dict(color='yellow', line=dict(color='black', width=1)),\n",
    "        hoverinfo='skip'\n",
    "    ), row=row, col=col)\n",
    "\n",
    " # Customize X and Y axis labels for each subplot\n",
    "    fig_4.update_xaxes(title_text=\"Number of People\", row=row, col=col)\n",
    "    fig_4.update_yaxes(title_text=\"Age\", row=row, col=col)\n",
    "\n",
    "# Updated layout for aesthetics!\n",
    "fig_4.update_layout(\n",
    "    title=\"Population Pyramids of Selected Latin American Countries (2023)\",\n",
    "    title_font=dict(size=18, color='black'),\n",
    "    barmode='overlay',\n",
    "    width=1200,  # Adjust width\n",
    "    height=1000,  # Adjust height\n",
    "    paper_bgcolor='#f4f4f4',\n",
    "    plot_bgcolor='#ffffff',\n",
    "    font=dict(family=\"Arial, sans-serif\", size=14, color=\"black\"),\n",
    "    showlegend=True\n",
    ")\n",
    "\n",
    "# Make the final figure\n",
    "fig_4.show()"
   ]
  },
  {
   "cell_type": "markdown",
   "id": "8dd109f2-f5dc-4bbe-be90-24e92bf7e37a",
   "metadata": {},
   "source": [
    "## [5] Animated Population Pyramids"
   ]
  },
  {
   "cell_type": "code",
   "execution_count": null,
   "id": "9d4714c8-0f78-43d7-ad1c-a255d204b5f6",
   "metadata": {},
   "outputs": [],
   "source": [
    "# Animated Population Pyramid of the World\n",
    "\n",
    "# Define available years\n",
    "years = [1970, 1980, 1990, 2000, 2010, 2020]\n",
    "ages = [f\"{i}-{i+4}\" for i in range(0, 85, 5)] + [\"85+\"]  # Includes 85+ group\n",
    "\n",
    "# Create bar graphs for a given year\n",
    "def get_traces(year):\n",
    "    male_values = world.loc[str(year)].filter(regex=\"Male\").values\n",
    "    female_values = world.loc[str(year)].filter(regex=\"Female\").values\n",
    "\n",
    "    return [\n",
    "        go.Bar(\n",
    "            x=male_values,\n",
    "            y=[int(s.split('-')[0]) + 1 if '-' in s else int(s[:-1]) for s in ages],\n",
    "            orientation='h',\n",
    "            name='Men',\n",
    "            marker=dict(color='green', line=dict(color='black', width=1)),\n",
    "            hoverinfo='skip'\n",
    "        ),\n",
    "        go.Bar(\n",
    "            x=-female_values,  # Keep negative values for left alignment\n",
    "            y=[int(s.split('-')[0]) + 1 if '-' in s else int(s[:-1]) for s in ages],\n",
    "            orientation='h',\n",
    "            name='Women',\n",
    "            marker=dict(color='yellow', line=dict(color='black', width=1)),\n",
    "            hoverinfo='skip'\n",
    "        )\n",
    "    ]\n",
    "\n",
    "# Set index\n",
    "max_population = max(world.loc[world.index.astype(str).isin(map(str, years))].filter(regex=\"Male|Female\").max().values)\n",
    "\n",
    "# Create figure with initial data (1970)\n",
    "fig2 = go.Figure(data=get_traces(1970), frames=[\n",
    "    go.Frame(data=get_traces(year), name=str(year)) for year in years\n",
    "])\n",
    "\n",
    "# Update layout with proper axis alignment\n",
    "fig2.update_layout(\n",
    "    title=\"Animated World Population Pyramid (1970-2020)\",\n",
    "    width=700, height=600, paper_bgcolor='#f4f4f4', plot_bgcolor='#ffffff',\n",
    "    font=dict(family=\"Arial, sans-serif\", size=14, color=\"black\"),\n",
    "    xaxis=dict(title=\"Population\", gridcolor='lightgray', range=[-max_population, max_population]),\n",
    "    yaxis=dict(title=\"Age Group\", gridcolor='lightgray'),\n",
    "    barmode='overlay',\n",
    "    showlegend=True,\n",
    "    updatemenus=[{\n",
    "        \"buttons\": [\n",
    "            {\"args\": [None, {\"frame\": {\"duration\": 1000, \"redraw\": True}, \"fromcurrent\": True}],\n",
    "             \"label\": \"Play\", \"method\": \"animate\"},\n",
    "            {\"args\": [[None], {\"frame\": {\"duration\": 0, \"redraw\": True}, \"mode\": \"immediate\"}],\n",
    "             \"label\": \"Pause\", \"method\": \"animate\"}\n",
    "        ],\n",
    "        \"type\": \"buttons\", \"x\": 0.1, \"y\": 0\n",
    "    }],\n",
    "    sliders=[{\n",
    "        \"steps\": [{\"args\": [[str(year)], {\"frame\": {\"duration\": 0, \"redraw\": True}, \"mode\": \"immediate\"}],\n",
    "                   \"label\": str(year), \"method\": \"animate\"} for year in years],\n",
    "        \"currentvalue\": {\"prefix\": \"Year: \", \"font\": {\"size\": 16}}\n",
    "    }]\n",
    ")\n",
    "\n",
    "fig2.show()"
   ]
  },
  {
   "cell_type": "markdown",
   "id": "4bdeaa61-8fe2-40fa-b209-a926a96994c8",
   "metadata": {},
   "source": [
    "## Population Maps"
   ]
  },
  {
   "cell_type": "code",
   "execution_count": null,
   "id": "f9ae9517-9d8d-4930-862e-409e331f8c43",
   "metadata": {},
   "outputs": [],
   "source": [
    "!pip install geopandas contextily matplotlib pandas\n",
    "!pip install --upgrade contextily xyzservices\n",
    "\n",
    "import matplotlib.pyplot as plt\n",
    "import contextily as ctx  \n",
    "import geopandas as gpd\n",
    "file_path = \"south-america_652.geojson\"\n",
    "southamerica= gpd.read_file(file_path)\n",
    "southamerica\n"
   ]
  },
  {
   "cell_type": "code",
   "execution_count": null,
   "id": "8f6dfb3e-ae57-48b7-bdb2-94b50941516e",
   "metadata": {},
   "outputs": [],
   "source": [
    "fig, ax = plt.subplots(figsize=(10, 6))\n",
    "southamerica.plot(ax=ax, edgecolor=\"black\", color=\"pink\")\n",
    "\n",
    "plt.title(\"South America Map\")\n",
    "plt.show()"
   ]
  },
  {
   "cell_type": "code",
   "execution_count": null,
   "id": "e1c76de7-7c5b-4fe9-806e-c385263cbfaf",
   "metadata": {},
   "outputs": [],
   "source": [
    "southamerica.head()"
   ]
  },
  {
   "cell_type": "code",
   "execution_count": null,
   "id": "0d368584-3271-41a2-ade4-7ba94bea1ca9",
   "metadata": {},
   "outputs": [],
   "source": [
    "selected_countries = [\"Brazil\", \"Chile\", \"Argentina\", \"Uruguay\", \"Ecuador\", \"Colombia\", \"Peru\", \"Paraguay\"]\n",
    "filtered_df = southamerica[southamerica[\"name\"].isin(selected_countries)]\n",
    "print(southamerica.columns)\n"
   ]
  },
  {
   "cell_type": "code",
   "execution_count": null,
   "id": "1b4f5c7a-1233-4a2d-8018-f42a6c1a8bef",
   "metadata": {},
   "outputs": [],
   "source": [
    "population_data = {\n",
    "    \"Country\": [\"Brazil\", \"Chile\", \"Argentina\", \"Uruguay\", \"Ecuador\", \"Colombia\", \"Peru\", \"Paraguay\"],\n",
    "    \"Population\": [213000000, 19000000, 45000000, 3500000, 17800000, 50800000, 33000000, 7100000]\n",
    "}\n",
    "population_df = pd.DataFrame(population_data)"
   ]
  },
  {
   "cell_type": "code",
   "execution_count": null,
   "id": "d426c5f2-f327-4983-ae02-80f1da4d09f3",
   "metadata": {},
   "outputs": [],
   "source": [
    "merged_df = filtered_df.merge(population_df, left_on=\"name\", right_on=\"Country\")"
   ]
  },
  {
   "cell_type": "code",
   "execution_count": null,
   "id": "5f14315c-c87a-4a8b-b8e4-ec2280bf2f81",
   "metadata": {},
   "outputs": [],
   "source": [
    "import contextily as ctx\n",
    "print(ctx.providers.keys())"
   ]
  },
  {
   "cell_type": "code",
   "execution_count": null,
   "id": "4577df6f-bef7-401c-a08b-bf491c643e0f",
   "metadata": {},
   "outputs": [],
   "source": [
    "fig, ax = plt.subplots(figsize=(10, 8))\n",
    "merged_df.plot(column=\"Population\", cmap=\"OrRd\", linewidth=0.8, edgecolor=\"black\", legend=True, ax=ax)\n",
    "ax.set_title(\"Population Distribution in South America\", fontsize=15)\n",
    "ctx.add_basemap(ax, source=ctx.providers.OpenStreetMap.Mapnik, zoom=10)\n",
    "\n",
    "ctx.add_basemap(ax, source=ctx.providers.OpenStreetMap.Mapnik)\n",
    "plt.show()\n",
    "\n",
    "\n",
    "\n"
   ]
  },
  {
   "cell_type": "code",
   "execution_count": null,
   "id": "b3cca62e-bab5-4144-be2b-85b9737b81d7",
   "metadata": {},
   "outputs": [],
   "source": [
    "argentina = southamerica[southamerica['name'] == 'Argentina']\n",
    "argentina.plot()"
   ]
  },
  {
   "cell_type": "code",
   "execution_count": null,
   "id": "3d60f10c-b57c-42eb-93b1-17755023488a",
   "metadata": {},
   "outputs": [],
   "source": []
  },
  {
   "cell_type": "code",
   "execution_count": null,
   "id": "f4fbb428-3776-4ce0-927e-3de5289e5ec5",
   "metadata": {},
   "outputs": [],
   "source": []
  },
  {
   "cell_type": "code",
   "execution_count": null,
   "id": "f4f54743-0894-41c6-9852-8f91d28ae5a4",
   "metadata": {},
   "outputs": [],
   "source": []
  },
  {
   "cell_type": "code",
   "execution_count": null,
   "id": "2881c6e0-df24-4ce5-9e1b-04933571c228",
   "metadata": {},
   "outputs": [],
   "source": []
  },
  {
   "cell_type": "code",
   "execution_count": null,
   "id": "b3d7c9c2-dd7b-4c9a-875e-a5273040ec12",
   "metadata": {},
   "outputs": [],
   "source": []
  }
 ],
 "metadata": {
  "kernelspec": {
   "display_name": "Python 3 (ipykernel)",
   "language": "python",
   "name": "python3"
  },
  "language_info": {
   "codemirror_mode": {
    "name": "ipython",
    "version": 3
   },
   "file_extension": ".py",
   "mimetype": "text/x-python",
   "name": "python",
   "nbconvert_exporter": "python",
   "pygments_lexer": "ipython3",
   "version": "3.11.11"
  }
 },
 "nbformat": 4,
 "nbformat_minor": 5
}
