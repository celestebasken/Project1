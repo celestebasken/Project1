{
 "cells": [
  {
   "cell_type": "code",
   "execution_count": 1,
   "id": "15df1ae1-92fc-46e1-89d7-a471c61408b5",
   "metadata": {},
   "outputs": [],
   "source": [
    "# New Project 1 document test test again"
   ]
  },
  {
   "cell_type": "code",
   "execution_count": 2,
   "id": "6ef7503a-0f92-49a2-83a3-9f6c75b85d7f",
   "metadata": {},
   "outputs": [],
   "source": [
    "#next test"
   ]
  },
  {
   "cell_type": "code",
   "execution_count": null,
   "id": "bc8396fb-eb89-4dad-8b6e-820b8378628a",
   "metadata": {},
   "outputs": [],
   "source": []
  }
 ],
 "metadata": {
  "kernelspec": {
   "display_name": "Python 3 (ipykernel)",
   "language": "python",
   "name": "python3"
  },
  "language_info": {
   "codemirror_mode": {
    "name": "ipython",
    "version": 3
   },
   "file_extension": ".py",
   "mimetype": "text/x-python",
   "name": "python",
   "nbconvert_exporter": "python",
   "pygments_lexer": "ipython3",
   "version": "3.11.11"
  }
 },
 "nbformat": 4,
 "nbformat_minor": 5
}
