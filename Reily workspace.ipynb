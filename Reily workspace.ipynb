{
 "cells": [
  {
   "cell_type": "code",
   "execution_count": 9,
   "id": "05cc5a6d-c7bd-444c-9697-beea48338280",
   "metadata": {},
   "outputs": [
    {
     "name": "stdout",
     "output_type": "stream",
     "text": [
      "Requirement already satisfied: wbdata in /srv/conda/lib/python3.11/site-packages (1.0.0)\n",
      "Requirement already satisfied: appdirs<2.0,>=1.4 in /srv/conda/lib/python3.11/site-packages (from wbdata) (1.4.4)\n",
      "Requirement already satisfied: backoff<3.0.0,>=2.2.1 in /srv/conda/lib/python3.11/site-packages (from wbdata) (2.2.1)\n",
      "Requirement already satisfied: cachetools<6.0.0,>=5.3.2 in /srv/conda/lib/python3.11/site-packages (from wbdata) (5.5.1)\n",
      "Requirement already satisfied: dateparser<2.0.0,>=1.2.0 in /srv/conda/lib/python3.11/site-packages (from wbdata) (1.2.0)\n",
      "Requirement already satisfied: decorator<6.0.0,>=5.1.1 in /srv/conda/lib/python3.11/site-packages (from wbdata) (5.1.1)\n",
      "Requirement already satisfied: requests<3.0,>=2.0 in /srv/conda/lib/python3.11/site-packages (from wbdata) (2.32.3)\n",
      "Requirement already satisfied: shelved-cache<0.4.0,>=0.3.1 in /srv/conda/lib/python3.11/site-packages (from wbdata) (0.3.1)\n",
      "Requirement already satisfied: tabulate<0.9.0,>=0.8.5 in /srv/conda/lib/python3.11/site-packages (from wbdata) (0.8.10)\n",
      "Requirement already satisfied: python-dateutil in /srv/conda/lib/python3.11/site-packages (from dateparser<2.0.0,>=1.2.0->wbdata) (2.9.0.post0)\n",
      "Requirement already satisfied: pytz in /srv/conda/lib/python3.11/site-packages (from dateparser<2.0.0,>=1.2.0->wbdata) (2024.1)\n",
      "Requirement already satisfied: regex!=2019.02.19,!=2021.8.27 in /srv/conda/lib/python3.11/site-packages (from dateparser<2.0.0,>=1.2.0->wbdata) (2024.11.6)\n",
      "Requirement already satisfied: tzlocal in /srv/conda/lib/python3.11/site-packages (from dateparser<2.0.0,>=1.2.0->wbdata) (5.2)\n",
      "Requirement already satisfied: charset_normalizer<4,>=2 in /srv/conda/lib/python3.11/site-packages (from requests<3.0,>=2.0->wbdata) (3.4.0)\n",
      "Requirement already satisfied: idna<4,>=2.5 in /srv/conda/lib/python3.11/site-packages (from requests<3.0,>=2.0->wbdata) (3.10)\n",
      "Requirement already satisfied: urllib3<3,>=1.21.1 in /srv/conda/lib/python3.11/site-packages (from requests<3.0,>=2.0->wbdata) (2.3.0)\n",
      "Requirement already satisfied: certifi>=2017.4.17 in /srv/conda/lib/python3.11/site-packages (from requests<3.0,>=2.0->wbdata) (2024.12.14)\n",
      "Requirement already satisfied: six>=1.5 in /srv/conda/lib/python3.11/site-packages (from python-dateutil->dateparser<2.0.0,>=1.2.0->wbdata) (1.17.0)\n",
      "Note: you may need to restart the kernel to use updated packages.\n"
     ]
    }
   ],
   "source": [
    "%pip install wbdata\n",
    "import math\n",
    "import numpy as np\n",
    "import wbdata\n"
   ]
  },
  {
   "cell_type": "code",
   "execution_count": 43,
   "id": "202d5ec1-12a1-496b-9da1-455744a6e047",
   "metadata": {},
   "outputs": [],
   "source": [
    "\n",
    "#1 [A] Population Statistics (REILY)\n",
    "'''In [year] how many [people/males/females] aged [low] to [high] were living in [the world/region/country]?'''\n",
    "import math\n",
    "#def population(year,sex,age_low, age_high,place):\n",
    "SOURCE = 40\n",
    "\n",
    "#correct age range:\n",
    "def range(age_low, age_high, sex): \n",
    "    labels = {}\n",
    "    #age range [0,25]\n",
    "    if age_high < 25:\n",
    "        display('age low')\n",
    "        for i in np.arange(age_low, age_high+1):\n",
    "            display(i)\n",
    "            if sex == 'males':\n",
    "                labels[f'SP.POP.AG{str(i).zfill(2)}.MA.IN'] = f'SP.POP.AG{str(i).zfill(2)}.MA.IN'\n",
    "            elif sex == 'females':\n",
    "                \n",
    "                labels[f'SP.POP.AG{str(i).zfill(2)}.FE.IN'] = f'SP.POP.AG{str(i).zfill(2)}.FE.IN'\n",
    "            else:\n",
    "                labels[f'SP.POP.AG{str(i).zfill(2)}.MA.IN'] = f'SP.POP.AG{str(i).zfill(2)}.MA.IN'\n",
    "                labels[f'SP.POP.AG{str(i).zfill(2)}.FE.IN'] = f'SP.POP.AG{str(i).zfill(2)}.FE.IN'            \n",
    "    #age range [25, +]\n",
    "    elif age_low >= 25:\n",
    "        age_floor = math.floor(age_low /5) * 5\n",
    "        age_ceiling = math.ceil(age_high/5)*5 \n",
    "        floor_str = str(age_floor).zfill(2)\n",
    "        num_ranges = (age_ceiling - age_floor) / 5\n",
    "        for i in np.arange(num_ranges):\n",
    "            lower_str = str(int(age_floor+5*i))\n",
    "            higher_str = str(int(age_floor+5*i+4))\n",
    "             #override if age is >=80\n",
    "            if lower_str >='80':\n",
    "                lower_str = \"80\"\n",
    "                higher_str = 'UP'\n",
    "            if sex == 'males':\n",
    "                labels[f'SP.POP.{lower_str}{higher_str}.MA'] = f'SP.POP.{lower_str}{higher_str}.MA'\n",
    "            elif sex == 'females':\n",
    "                labels[f'SP.POP.{lower_str}{higher_str}.FE'] = f'SP.POP.{lower_str}{higher_str}.FE'\n",
    "            else:\n",
    "                #labels[f'SP.POP.AG{str(i).zfill(2)}.FE.IN'] = f'SP.POP.AG{str(i).zfill(2)}.FE'\n",
    "                labels[f'SP.POP.{lower_str}{higher_str}.FE'] = f'SP.POP.{lower_str}{higher_str}.FE'\n",
    "                labels[f'SP.POP.{lower_str}{higher_str}.MA'] = f'SP.POP.{lower_str}{higher_str}.MA'\n",
    "    #age range [0, 25+]\n",
    "    else:\n",
    "        for i in np.arange(age_low, 25):\n",
    "            display(i)\n",
    "            if sex == 'males':\n",
    "                labels[f'SP.POP.AG{str(i).zfill(2)}.MA.IN'] = f'SP.POP.AG{str(i).zfill(2)}.MA.IN'\n",
    "            elif sex == 'females':\n",
    "                labels[f'SP.POP.AG{str(i).zfill(2)}.FE.IN'] = f'SP.POP.AG{str(i).zfill(2)}.FE.IN'\n",
    "            else:\n",
    "                labels[f'SP.POP.AG{str(i).zfill(2)}.MA.IN'] = f'SP.POP.AG{str(i).zfill(2)}.MA.IN'\n",
    "                labels[f'SP.POP.AG{str(i).zfill(2)}.FE.IN'] = f'SP.POP.AG{str(i).zfill(2)}.FE.IN'\n",
    "        age_floor = 25\n",
    "        age_ceiling = math.ceil(age_high/5)*5 \n",
    "        floor_str = str(age_floor).zfill(2)\n",
    "        num_ranges = (age_ceiling - age_floor) / 5\n",
    "        #display('intervals: ', num_ranges)\n",
    "        for i in np.arange(num_ranges):\n",
    "            lower_str = str(int(age_floor+5*i))\n",
    "            higher_str = str(int(age_floor+5*i+4))\n",
    "            #override if age is >=80\n",
    "            if lower_str >='80':\n",
    "                lower_str = \"80\"\n",
    "                higher_str = 'UP'\n",
    "            if sex == 'males':\n",
    "                labels[f'SP.POP.{lower_str}{higher_str}.MA'] = f'SP.POP.{lower_str}{higher_str}.MA'\n",
    "            elif sex == 'females':\n",
    "                labels[f'SP.POP.{lower_str}{higher_str}.FE'] = f'SP.POP.{lower_str}{higher_str}.FE'\n",
    "            else:\n",
    "                #labels[f'SP.POP.AG{str(i).zfill(2)}.FE.IN'] = f'SP.POP.AG{str(i).zfill(2)}.FE'\n",
    "                labels[f'SP.POP.{lower_str}{higher_str}.FE'] = f'SP.POP.{lower_str}{higher_str}.FE'\n",
    "                labels[f'SP.POP.{lower_str}{higher_str}.MA'] = f'SP.POP.{lower_str}{higher_str}.MA'    \n",
    "    return labels\n",
    "\n",
    "\n",
    "\n",
    "def get_df(labels, sex, place, year):\n",
    "    df = wbdata.get_dataframe(labels,country = place,parse_dates=True)\n",
    "    df = df.reset_index()\n",
    "    df2 = df[df['date'] == f'{year}-01-01']\n",
    "    return df2\n",
    "\n",
    "\n",
    "\n"
   ]
  },
  {
   "cell_type": "code",
   "execution_count": 45,
   "id": "857ae6e5-782d-44ce-9b32-6aa870ffb62a",
   "metadata": {},
   "outputs": [
    {
     "data": {
      "text/plain": [
       "np.int64(22)"
      ]
     },
     "metadata": {},
     "output_type": "display_data"
    },
    {
     "data": {
      "text/plain": [
       "np.int64(23)"
      ]
     },
     "metadata": {},
     "output_type": "display_data"
    },
    {
     "data": {
      "text/plain": [
       "np.int64(24)"
      ]
     },
     "metadata": {},
     "output_type": "display_data"
    },
    {
     "name": "stderr",
     "output_type": "stream",
     "text": [
      "WARNING:shelved_cache.persistent_cache:Key '-422910675902619255' not in persistent cache.\n",
      "WARNING:shelved_cache.persistent_cache:Key '228602202928208668' not in persistent cache.\n",
      "WARNING:shelved_cache.persistent_cache:Key '6657371902470197867' not in persistent cache.\n",
      "WARNING:shelved_cache.persistent_cache:Key '-6244547940187285645' not in persistent cache.\n",
      "WARNING:shelved_cache.persistent_cache:Key '-2545857464655058650' not in persistent cache.\n",
      "WARNING:shelved_cache.persistent_cache:Key '7298814932204386731' not in persistent cache.\n",
      "WARNING:shelved_cache.persistent_cache:Key '1723863880530471301' not in persistent cache.\n",
      "WARNING:shelved_cache.persistent_cache:Key '3071805991280769922' not in persistent cache.\n",
      "WARNING:shelved_cache.persistent_cache:Key '-5849167793169925652' not in persistent cache.\n"
     ]
    },
    {
     "data": {
      "text/html": [
       "<div>\n",
       "<style scoped>\n",
       "    .dataframe tbody tr th:only-of-type {\n",
       "        vertical-align: middle;\n",
       "    }\n",
       "\n",
       "    .dataframe tbody tr th {\n",
       "        vertical-align: top;\n",
       "    }\n",
       "\n",
       "    .dataframe thead th {\n",
       "        text-align: right;\n",
       "    }\n",
       "</style>\n",
       "<table border=\"1\" class=\"dataframe\">\n",
       "  <thead>\n",
       "    <tr style=\"text-align: right;\">\n",
       "      <th></th>\n",
       "      <th>date</th>\n",
       "      <th>SP.POP.AG22.FE.IN</th>\n",
       "      <th>SP.POP.AG23.FE.IN</th>\n",
       "      <th>SP.POP.AG24.FE.IN</th>\n",
       "      <th>SP.POP.2529.FE</th>\n",
       "      <th>SP.POP.3034.FE</th>\n",
       "      <th>SP.POP.3539.FE</th>\n",
       "      <th>SP.POP.4044.FE</th>\n",
       "      <th>SP.POP.4549.FE</th>\n",
       "      <th>SP.POP.5054.FE</th>\n",
       "      <th>SP.POP.5559.FE</th>\n",
       "      <th>SP.POP.6064.FE</th>\n",
       "      <th>SP.POP.6569.FE</th>\n",
       "      <th>SP.POP.7074.FE</th>\n",
       "      <th>SP.POP.7579.FE</th>\n",
       "      <th>SP.POP.80UP.FE</th>\n",
       "    </tr>\n",
       "  </thead>\n",
       "  <tbody>\n",
       "    <tr>\n",
       "      <th>0</th>\n",
       "      <td>2023-01-01</td>\n",
       "      <td>12408221.0</td>\n",
       "      <td>12213670.0</td>\n",
       "      <td>12056443.0</td>\n",
       "      <td>58856179.0</td>\n",
       "      <td>56475213.0</td>\n",
       "      <td>52815123.0</td>\n",
       "      <td>46820958.0</td>\n",
       "      <td>41153460.0</td>\n",
       "      <td>36015162.0</td>\n",
       "      <td>30831921.0</td>\n",
       "      <td>25809183.0</td>\n",
       "      <td>20620793.0</td>\n",
       "      <td>14502303.0</td>\n",
       "      <td>8590918.0</td>\n",
       "      <td>8545252.0</td>\n",
       "    </tr>\n",
       "  </tbody>\n",
       "</table>\n",
       "</div>"
      ],
      "text/plain": [
       "        date  SP.POP.AG22.FE.IN  SP.POP.AG23.FE.IN  SP.POP.AG24.FE.IN  \\\n",
       "0 2023-01-01         12408221.0         12213670.0         12056443.0   \n",
       "\n",
       "   SP.POP.2529.FE  SP.POP.3034.FE  SP.POP.3539.FE  SP.POP.4044.FE  \\\n",
       "0      58856179.0      56475213.0      52815123.0      46820958.0   \n",
       "\n",
       "   SP.POP.4549.FE  SP.POP.5054.FE  SP.POP.5559.FE  SP.POP.6064.FE  \\\n",
       "0      41153460.0      36015162.0      30831921.0      25809183.0   \n",
       "\n",
       "   SP.POP.6569.FE  SP.POP.7074.FE  SP.POP.7579.FE  SP.POP.80UP.FE  \n",
       "0      20620793.0      14502303.0       8590918.0       8545252.0  "
      ]
     },
     "execution_count": 45,
     "metadata": {},
     "output_type": "execute_result"
    }
   ],
   "source": [
    "\n",
    "#df = get_df(labels, sex, place, year)\n",
    "labels = range(22, 82, 'females')\n",
    "df = get_df(labels,'females', 'IND', 2023)\n",
    "df"
   ]
  },
  {
   "cell_type": "code",
   "execution_count": null,
   "id": "3f0ae577-ba81-43e2-ba00-e5086cd1a13d",
   "metadata": {},
   "outputs": [],
   "source": [
    "def population(sex,age_low, age_high, place, year):\n",
    "    labels = range(age_low, age_high, sex)\n",
    "    #display(labels)\n",
    "    df = get_df(labels, sex, place, year)\n",
    "    df.drop('date', axis = 1, inplace=True)\n",
    "    df['total pop in age range'] = df.sum(axis=1)\n",
    "    total = df.iloc[0]['total pop in age range']\n",
    "    display(f'In {year}, the number of {sex} between ages {age_low} to {age_high} living in {place} was approximately {total}')\n",
    "    return df\n",
    "    \n",
    "population('all sexes', 26, 32, 'IND', 2023)"
   ]
  }
 ],
 "metadata": {
  "kernelspec": {
   "display_name": "Python 3 (ipykernel)",
   "language": "python",
   "name": "python3"
  },
  "language_info": {
   "codemirror_mode": {
    "name": "ipython",
    "version": 3
   },
   "file_extension": ".py",
   "mimetype": "text/x-python",
   "name": "python",
   "nbconvert_exporter": "python",
   "pygments_lexer": "ipython3",
   "version": "3.11.11"
  }
 },
 "nbformat": 4,
 "nbformat_minor": 5
}
